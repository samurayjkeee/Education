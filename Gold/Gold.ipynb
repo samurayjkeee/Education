{
 "cells": [
  {
   "cell_type": "markdown",
   "metadata": {
    "toc": true
   },
   "source": [
    "<h1>Содержание<span class=\"tocSkip\"></span></h1>\n",
    "<div class=\"toc\"><ul class=\"toc-item\"><li><span><a href=\"#Подготовка-данных\" data-toc-modified-id=\"Подготовка-данных-1\"><span class=\"toc-item-num\">1&nbsp;&nbsp;</span>Подготовка данных</a></span></li><li><span><a href=\"#Анализ-данных\" data-toc-modified-id=\"Анализ-данных-2\"><span class=\"toc-item-num\">2&nbsp;&nbsp;</span>Анализ данных</a></span><ul class=\"toc-item\"><li><span><a href=\"#Посмотрите,-как-меняется-концентрация-металлов-(Au,-Ag,-Pb)-на-различных-этапах-очистки.-Опишите-выводы.\" data-toc-modified-id=\"Посмотрите,-как-меняется-концентрация-металлов-(Au,-Ag,-Pb)-на-различных-этапах-очистки.-Опишите-выводы.-2.1\"><span class=\"toc-item-num\">2.1&nbsp;&nbsp;</span>Посмотрите, как меняется концентрация металлов (Au, Ag, Pb) на различных этапах очистки. Опишите выводы.</a></span></li><li><span><a href=\"#Сравните-распределения-размеров-гранул-сырья-на-обучающей-и-тестовой-выборках.-Если-распределения-сильно-отличаются-друг-от-друга,-оценка-модели-будет-неправильной.\" data-toc-modified-id=\"Сравните-распределения-размеров-гранул-сырья-на-обучающей-и-тестовой-выборках.-Если-распределения-сильно-отличаются-друг-от-друга,-оценка-модели-будет-неправильной.-2.2\"><span class=\"toc-item-num\">2.2&nbsp;&nbsp;</span>Сравните распределения размеров гранул сырья на обучающей и тестовой выборках. Если распределения сильно отличаются друг от друга, оценка модели будет неправильной.</a></span></li><li><span><a href=\"#Исследуйте-суммарную-концентрацию-всех-веществ-на-разных-стадиях:-в-сырье,-в-черновом-и-финальном-концентратах.\" data-toc-modified-id=\"Исследуйте-суммарную-концентрацию-всех-веществ-на-разных-стадиях:-в-сырье,-в-черновом-и-финальном-концентратах.-2.3\"><span class=\"toc-item-num\">2.3&nbsp;&nbsp;</span>Исследуйте суммарную концентрацию всех веществ на разных стадиях: в сырье, в черновом и финальном концентратах.</a></span></li></ul></li><li><span><a href=\"#Модель\" data-toc-modified-id=\"Модель-3\"><span class=\"toc-item-num\">3&nbsp;&nbsp;</span>Модель</a></span><ul class=\"toc-item\"><li><span><a href=\"#Напишите-функцию-для-вычисления-итоговой-sMAPE.\" data-toc-modified-id=\"Напишите-функцию-для-вычисления-итоговой-sMAPE.-3.1\"><span class=\"toc-item-num\">3.1&nbsp;&nbsp;</span>Напишите функцию для вычисления итоговой sMAPE.</a></span></li><li><span><a href=\"#Обучите-разные-модели-и-оцените-их-качество-кросс-валидацией.-Выберите-лучшую-модель-и-проверьте-её-на-тестовой-выборке.-Опишите-выводы.\" data-toc-modified-id=\"Обучите-разные-модели-и-оцените-их-качество-кросс-валидацией.-Выберите-лучшую-модель-и-проверьте-её-на-тестовой-выборке.-Опишите-выводы.-3.2\"><span class=\"toc-item-num\">3.2&nbsp;&nbsp;</span>Обучите разные модели и оцените их качество кросс-валидацией. Выберите лучшую модель и проверьте её на тестовой выборке. Опишите выводы.</a></span></li></ul></li><li><span><a href=\"#Чек-лист-готовности-проекта\" data-toc-modified-id=\"Чек-лист-готовности-проекта-4\"><span class=\"toc-item-num\">4&nbsp;&nbsp;</span>Чек-лист готовности проекта</a></span></li></ul></div>"
   ]
  },
  {
   "cell_type": "markdown",
   "metadata": {},
   "source": [
    "# Восстановление золота из руды"
   ]
  },
  {
   "cell_type": "markdown",
   "metadata": {},
   "source": [
    "Подготовьте прототип модели машинного обучения для «Цифры». Компания разрабатывает решения для эффективной работы промышленных предприятий.\n",
    "\n",
    "Модель должна предсказать коэффициент восстановления золота из золотосодержащей руды. Используйте данные с параметрами добычи и очистки. \n",
    "\n",
    "Модель поможет оптимизировать производство, чтобы не запускать предприятие с убыточными характеристиками.\n",
    "\n",
    "Вам нужно:\n",
    "\n",
    "1. Подготовить данные;\n",
    "2. Провести исследовательский анализ данных;\n",
    "3. Построить и обучить модель.\n",
    "\n",
    "Чтобы выполнить проект, обращайтесь к библиотекам *pandas*, *matplotlib* и *sklearn.* Вам поможет их документация."
   ]
  },
  {
   "cell_type": "markdown",
   "metadata": {},
   "source": [
    "## Подготовка данных"
   ]
  },
  {
   "cell_type": "code",
   "execution_count": 1,
   "metadata": {},
   "outputs": [],
   "source": [
    "import pandas as pd\n",
    "import seaborn as sns\n",
    "import matplotlib.pyplot as plt\n",
    "\n",
    "from sklearn.model_selection import GridSearchCV, cross_val_score\n",
    "from sklearn.metrics import mean_absolute_error, make_scorer\n",
    "from sklearn.ensemble import RandomForestRegressor\n",
    "from sklearn.tree import DecisionTreeRegressor\n",
    "from sklearn.linear_model import LinearRegression\n",
    "from sklearn.preprocessing import StandardScaler \n",
    "from sklearn.dummy import DummyRegressor\n",
    "\n",
    "import numpy as np"
   ]
  },
  {
   "cell_type": "code",
   "execution_count": 2,
   "metadata": {},
   "outputs": [],
   "source": [
    "train_data = pd.read_csv('/datasets/gold_recovery_train_new.csv')\n",
    "test_data = pd.read_csv('/datasets/gold_recovery_test_new.csv')\n",
    "full_data = pd.read_csv('/datasets/gold_recovery_full_new.csv')"
   ]
  },
  {
   "cell_type": "code",
   "execution_count": 3,
   "metadata": {},
   "outputs": [
    {
     "name": "stdout",
     "output_type": "stream",
     "text": [
      "Duplicates: 0\n",
      "<class 'pandas.core.frame.DataFrame'>\n",
      "RangeIndex: 14149 entries, 0 to 14148\n",
      "Data columns (total 87 columns):\n",
      " #   Column                                              Non-Null Count  Dtype  \n",
      "---  ------                                              --------------  -----  \n",
      " 0   date                                                14149 non-null  object \n",
      " 1   final.output.concentrate_ag                         14148 non-null  float64\n",
      " 2   final.output.concentrate_pb                         14148 non-null  float64\n",
      " 3   final.output.concentrate_sol                        13938 non-null  float64\n",
      " 4   final.output.concentrate_au                         14149 non-null  float64\n",
      " 5   final.output.recovery                               14149 non-null  float64\n",
      " 6   final.output.tail_ag                                14149 non-null  float64\n",
      " 7   final.output.tail_pb                                14049 non-null  float64\n",
      " 8   final.output.tail_sol                               14144 non-null  float64\n",
      " 9   final.output.tail_au                                14149 non-null  float64\n",
      " 10  primary_cleaner.input.sulfate                       14129 non-null  float64\n",
      " 11  primary_cleaner.input.depressant                    14117 non-null  float64\n",
      " 12  primary_cleaner.input.feed_size                     14149 non-null  float64\n",
      " 13  primary_cleaner.input.xanthate                      14049 non-null  float64\n",
      " 14  primary_cleaner.output.concentrate_ag               14149 non-null  float64\n",
      " 15  primary_cleaner.output.concentrate_pb               14063 non-null  float64\n",
      " 16  primary_cleaner.output.concentrate_sol              13863 non-null  float64\n",
      " 17  primary_cleaner.output.concentrate_au               14149 non-null  float64\n",
      " 18  primary_cleaner.output.tail_ag                      14148 non-null  float64\n",
      " 19  primary_cleaner.output.tail_pb                      14134 non-null  float64\n",
      " 20  primary_cleaner.output.tail_sol                     14103 non-null  float64\n",
      " 21  primary_cleaner.output.tail_au                      14149 non-null  float64\n",
      " 22  primary_cleaner.state.floatbank8_a_air              14145 non-null  float64\n",
      " 23  primary_cleaner.state.floatbank8_a_level            14148 non-null  float64\n",
      " 24  primary_cleaner.state.floatbank8_b_air              14145 non-null  float64\n",
      " 25  primary_cleaner.state.floatbank8_b_level            14148 non-null  float64\n",
      " 26  primary_cleaner.state.floatbank8_c_air              14147 non-null  float64\n",
      " 27  primary_cleaner.state.floatbank8_c_level            14148 non-null  float64\n",
      " 28  primary_cleaner.state.floatbank8_d_air              14146 non-null  float64\n",
      " 29  primary_cleaner.state.floatbank8_d_level            14148 non-null  float64\n",
      " 30  rougher.calculation.sulfate_to_au_concentrate       14148 non-null  float64\n",
      " 31  rougher.calculation.floatbank10_sulfate_to_au_feed  14148 non-null  float64\n",
      " 32  rougher.calculation.floatbank11_sulfate_to_au_feed  14148 non-null  float64\n",
      " 33  rougher.calculation.au_pb_ratio                     14149 non-null  float64\n",
      " 34  rougher.input.feed_ag                               14149 non-null  float64\n",
      " 35  rougher.input.feed_pb                               14049 non-null  float64\n",
      " 36  rougher.input.feed_rate                             14141 non-null  float64\n",
      " 37  rougher.input.feed_size                             14005 non-null  float64\n",
      " 38  rougher.input.feed_sol                              14071 non-null  float64\n",
      " 39  rougher.input.feed_au                               14149 non-null  float64\n",
      " 40  rougher.input.floatbank10_sulfate                   14120 non-null  float64\n",
      " 41  rougher.input.floatbank10_xanthate                  14141 non-null  float64\n",
      " 42  rougher.input.floatbank11_sulfate                   14113 non-null  float64\n",
      " 43  rougher.input.floatbank11_xanthate                  13721 non-null  float64\n",
      " 44  rougher.output.concentrate_ag                       14149 non-null  float64\n",
      " 45  rougher.output.concentrate_pb                       14149 non-null  float64\n",
      " 46  rougher.output.concentrate_sol                      14127 non-null  float64\n",
      " 47  rougher.output.concentrate_au                       14149 non-null  float64\n",
      " 48  rougher.output.recovery                             14149 non-null  float64\n",
      " 49  rougher.output.tail_ag                              14148 non-null  float64\n",
      " 50  rougher.output.tail_pb                              14149 non-null  float64\n",
      " 51  rougher.output.tail_sol                             14149 non-null  float64\n",
      " 52  rougher.output.tail_au                              14149 non-null  float64\n",
      " 53  rougher.state.floatbank10_a_air                     14148 non-null  float64\n",
      " 54  rougher.state.floatbank10_a_level                   14148 non-null  float64\n",
      " 55  rougher.state.floatbank10_b_air                     14148 non-null  float64\n",
      " 56  rougher.state.floatbank10_b_level                   14148 non-null  float64\n",
      " 57  rougher.state.floatbank10_c_air                     14148 non-null  float64\n",
      " 58  rougher.state.floatbank10_c_level                   14148 non-null  float64\n",
      " 59  rougher.state.floatbank10_d_air                     14149 non-null  float64\n",
      " 60  rougher.state.floatbank10_d_level                   14149 non-null  float64\n",
      " 61  rougher.state.floatbank10_e_air                     13713 non-null  float64\n",
      " 62  rougher.state.floatbank10_e_level                   14149 non-null  float64\n",
      " 63  rougher.state.floatbank10_f_air                     14149 non-null  float64\n",
      " 64  rougher.state.floatbank10_f_level                   14149 non-null  float64\n",
      " 65  secondary_cleaner.output.tail_ag                    14147 non-null  float64\n",
      " 66  secondary_cleaner.output.tail_pb                    14139 non-null  float64\n",
      " 67  secondary_cleaner.output.tail_sol                   12544 non-null  float64\n",
      " 68  secondary_cleaner.output.tail_au                    14149 non-null  float64\n",
      " 69  secondary_cleaner.state.floatbank2_a_air            13932 non-null  float64\n",
      " 70  secondary_cleaner.state.floatbank2_a_level          14148 non-null  float64\n",
      " 71  secondary_cleaner.state.floatbank2_b_air            14128 non-null  float64\n",
      " 72  secondary_cleaner.state.floatbank2_b_level          14148 non-null  float64\n",
      " 73  secondary_cleaner.state.floatbank3_a_air            14145 non-null  float64\n",
      " 74  secondary_cleaner.state.floatbank3_a_level          14148 non-null  float64\n",
      " 75  secondary_cleaner.state.floatbank3_b_air            14148 non-null  float64\n",
      " 76  secondary_cleaner.state.floatbank3_b_level          14148 non-null  float64\n",
      " 77  secondary_cleaner.state.floatbank4_a_air            14143 non-null  float64\n",
      " 78  secondary_cleaner.state.floatbank4_a_level          14148 non-null  float64\n",
      " 79  secondary_cleaner.state.floatbank4_b_air            14148 non-null  float64\n",
      " 80  secondary_cleaner.state.floatbank4_b_level          14148 non-null  float64\n",
      " 81  secondary_cleaner.state.floatbank5_a_air            14148 non-null  float64\n",
      " 82  secondary_cleaner.state.floatbank5_a_level          14148 non-null  float64\n",
      " 83  secondary_cleaner.state.floatbank5_b_air            14148 non-null  float64\n",
      " 84  secondary_cleaner.state.floatbank5_b_level          14148 non-null  float64\n",
      " 85  secondary_cleaner.state.floatbank6_a_air            14147 non-null  float64\n",
      " 86  secondary_cleaner.state.floatbank6_a_level          14148 non-null  float64\n",
      "dtypes: float64(86), object(1)\n",
      "memory usage: 9.4+ MB\n",
      "Duplicates: 0\n",
      "<class 'pandas.core.frame.DataFrame'>\n",
      "RangeIndex: 5290 entries, 0 to 5289\n",
      "Data columns (total 53 columns):\n",
      " #   Column                                      Non-Null Count  Dtype  \n",
      "---  ------                                      --------------  -----  \n",
      " 0   date                                        5290 non-null   object \n",
      " 1   primary_cleaner.input.sulfate               5286 non-null   float64\n",
      " 2   primary_cleaner.input.depressant            5285 non-null   float64\n",
      " 3   primary_cleaner.input.feed_size             5290 non-null   float64\n",
      " 4   primary_cleaner.input.xanthate              5286 non-null   float64\n",
      " 5   primary_cleaner.state.floatbank8_a_air      5290 non-null   float64\n",
      " 6   primary_cleaner.state.floatbank8_a_level    5290 non-null   float64\n",
      " 7   primary_cleaner.state.floatbank8_b_air      5290 non-null   float64\n",
      " 8   primary_cleaner.state.floatbank8_b_level    5290 non-null   float64\n",
      " 9   primary_cleaner.state.floatbank8_c_air      5290 non-null   float64\n",
      " 10  primary_cleaner.state.floatbank8_c_level    5290 non-null   float64\n",
      " 11  primary_cleaner.state.floatbank8_d_air      5290 non-null   float64\n",
      " 12  primary_cleaner.state.floatbank8_d_level    5290 non-null   float64\n",
      " 13  rougher.input.feed_ag                       5290 non-null   float64\n",
      " 14  rougher.input.feed_pb                       5290 non-null   float64\n",
      " 15  rougher.input.feed_rate                     5287 non-null   float64\n",
      " 16  rougher.input.feed_size                     5289 non-null   float64\n",
      " 17  rougher.input.feed_sol                      5269 non-null   float64\n",
      " 18  rougher.input.feed_au                       5290 non-null   float64\n",
      " 19  rougher.input.floatbank10_sulfate           5285 non-null   float64\n",
      " 20  rougher.input.floatbank10_xanthate          5290 non-null   float64\n",
      " 21  rougher.input.floatbank11_sulfate           5282 non-null   float64\n",
      " 22  rougher.input.floatbank11_xanthate          5265 non-null   float64\n",
      " 23  rougher.state.floatbank10_a_air             5290 non-null   float64\n",
      " 24  rougher.state.floatbank10_a_level           5290 non-null   float64\n",
      " 25  rougher.state.floatbank10_b_air             5290 non-null   float64\n",
      " 26  rougher.state.floatbank10_b_level           5290 non-null   float64\n",
      " 27  rougher.state.floatbank10_c_air             5290 non-null   float64\n",
      " 28  rougher.state.floatbank10_c_level           5290 non-null   float64\n",
      " 29  rougher.state.floatbank10_d_air             5290 non-null   float64\n",
      " 30  rougher.state.floatbank10_d_level           5290 non-null   float64\n",
      " 31  rougher.state.floatbank10_e_air             5290 non-null   float64\n",
      " 32  rougher.state.floatbank10_e_level           5290 non-null   float64\n",
      " 33  rougher.state.floatbank10_f_air             5290 non-null   float64\n",
      " 34  rougher.state.floatbank10_f_level           5290 non-null   float64\n",
      " 35  secondary_cleaner.state.floatbank2_a_air    5287 non-null   float64\n",
      " 36  secondary_cleaner.state.floatbank2_a_level  5290 non-null   float64\n",
      " 37  secondary_cleaner.state.floatbank2_b_air    5288 non-null   float64\n",
      " 38  secondary_cleaner.state.floatbank2_b_level  5290 non-null   float64\n",
      " 39  secondary_cleaner.state.floatbank3_a_air    5281 non-null   float64\n",
      " 40  secondary_cleaner.state.floatbank3_a_level  5290 non-null   float64\n",
      " 41  secondary_cleaner.state.floatbank3_b_air    5290 non-null   float64\n",
      " 42  secondary_cleaner.state.floatbank3_b_level  5290 non-null   float64\n",
      " 43  secondary_cleaner.state.floatbank4_a_air    5290 non-null   float64\n",
      " 44  secondary_cleaner.state.floatbank4_a_level  5290 non-null   float64\n",
      " 45  secondary_cleaner.state.floatbank4_b_air    5290 non-null   float64\n",
      " 46  secondary_cleaner.state.floatbank4_b_level  5290 non-null   float64\n",
      " 47  secondary_cleaner.state.floatbank5_a_air    5290 non-null   float64\n",
      " 48  secondary_cleaner.state.floatbank5_a_level  5290 non-null   float64\n",
      " 49  secondary_cleaner.state.floatbank5_b_air    5290 non-null   float64\n",
      " 50  secondary_cleaner.state.floatbank5_b_level  5290 non-null   float64\n",
      " 51  secondary_cleaner.state.floatbank6_a_air    5290 non-null   float64\n",
      " 52  secondary_cleaner.state.floatbank6_a_level  5290 non-null   float64\n",
      "dtypes: float64(52), object(1)\n",
      "memory usage: 2.1+ MB\n",
      "Duplicates: 0\n",
      "<class 'pandas.core.frame.DataFrame'>\n",
      "RangeIndex: 19439 entries, 0 to 19438\n",
      "Data columns (total 87 columns):\n",
      " #   Column                                              Non-Null Count  Dtype  \n",
      "---  ------                                              --------------  -----  \n",
      " 0   date                                                19439 non-null  object \n",
      " 1   final.output.concentrate_ag                         19438 non-null  float64\n",
      " 2   final.output.concentrate_pb                         19438 non-null  float64\n",
      " 3   final.output.concentrate_sol                        19228 non-null  float64\n",
      " 4   final.output.concentrate_au                         19439 non-null  float64\n",
      " 5   final.output.recovery                               19439 non-null  float64\n",
      " 6   final.output.tail_ag                                19438 non-null  float64\n",
      " 7   final.output.tail_pb                                19338 non-null  float64\n",
      " 8   final.output.tail_sol                               19433 non-null  float64\n",
      " 9   final.output.tail_au                                19439 non-null  float64\n",
      " 10  primary_cleaner.input.sulfate                       19415 non-null  float64\n",
      " 11  primary_cleaner.input.depressant                    19402 non-null  float64\n",
      " 12  primary_cleaner.input.feed_size                     19439 non-null  float64\n",
      " 13  primary_cleaner.input.xanthate                      19335 non-null  float64\n",
      " 14  primary_cleaner.output.concentrate_ag               19439 non-null  float64\n",
      " 15  primary_cleaner.output.concentrate_pb               19323 non-null  float64\n",
      " 16  primary_cleaner.output.concentrate_sol              19069 non-null  float64\n",
      " 17  primary_cleaner.output.concentrate_au               19439 non-null  float64\n",
      " 18  primary_cleaner.output.tail_ag                      19435 non-null  float64\n",
      " 19  primary_cleaner.output.tail_pb                      19418 non-null  float64\n",
      " 20  primary_cleaner.output.tail_sol                     19377 non-null  float64\n",
      " 21  primary_cleaner.output.tail_au                      19439 non-null  float64\n",
      " 22  primary_cleaner.state.floatbank8_a_air              19435 non-null  float64\n",
      " 23  primary_cleaner.state.floatbank8_a_level            19438 non-null  float64\n",
      " 24  primary_cleaner.state.floatbank8_b_air              19435 non-null  float64\n",
      " 25  primary_cleaner.state.floatbank8_b_level            19438 non-null  float64\n",
      " 26  primary_cleaner.state.floatbank8_c_air              19437 non-null  float64\n",
      " 27  primary_cleaner.state.floatbank8_c_level            19438 non-null  float64\n",
      " 28  primary_cleaner.state.floatbank8_d_air              19436 non-null  float64\n",
      " 29  primary_cleaner.state.floatbank8_d_level            19438 non-null  float64\n",
      " 30  rougher.calculation.sulfate_to_au_concentrate       19437 non-null  float64\n",
      " 31  rougher.calculation.floatbank10_sulfate_to_au_feed  19437 non-null  float64\n",
      " 32  rougher.calculation.floatbank11_sulfate_to_au_feed  19437 non-null  float64\n",
      " 33  rougher.calculation.au_pb_ratio                     19439 non-null  float64\n",
      " 34  rougher.input.feed_ag                               19439 non-null  float64\n",
      " 35  rougher.input.feed_pb                               19339 non-null  float64\n",
      " 36  rougher.input.feed_rate                             19428 non-null  float64\n",
      " 37  rougher.input.feed_size                             19294 non-null  float64\n",
      " 38  rougher.input.feed_sol                              19340 non-null  float64\n",
      " 39  rougher.input.feed_au                               19439 non-null  float64\n",
      " 40  rougher.input.floatbank10_sulfate                   19405 non-null  float64\n",
      " 41  rougher.input.floatbank10_xanthate                  19431 non-null  float64\n",
      " 42  rougher.input.floatbank11_sulfate                   19395 non-null  float64\n",
      " 43  rougher.input.floatbank11_xanthate                  18986 non-null  float64\n",
      " 44  rougher.output.concentrate_ag                       19439 non-null  float64\n",
      " 45  rougher.output.concentrate_pb                       19439 non-null  float64\n",
      " 46  rougher.output.concentrate_sol                      19416 non-null  float64\n",
      " 47  rougher.output.concentrate_au                       19439 non-null  float64\n",
      " 48  rougher.output.recovery                             19439 non-null  float64\n",
      " 49  rougher.output.tail_ag                              19438 non-null  float64\n",
      " 50  rougher.output.tail_pb                              19439 non-null  float64\n",
      " 51  rougher.output.tail_sol                             19439 non-null  float64\n",
      " 52  rougher.output.tail_au                              19439 non-null  float64\n",
      " 53  rougher.state.floatbank10_a_air                     19438 non-null  float64\n",
      " 54  rougher.state.floatbank10_a_level                   19438 non-null  float64\n",
      " 55  rougher.state.floatbank10_b_air                     19438 non-null  float64\n",
      " 56  rougher.state.floatbank10_b_level                   19438 non-null  float64\n",
      " 57  rougher.state.floatbank10_c_air                     19438 non-null  float64\n",
      " 58  rougher.state.floatbank10_c_level                   19438 non-null  float64\n",
      " 59  rougher.state.floatbank10_d_air                     19439 non-null  float64\n",
      " 60  rougher.state.floatbank10_d_level                   19439 non-null  float64\n",
      " 61  rougher.state.floatbank10_e_air                     19003 non-null  float64\n",
      " 62  rougher.state.floatbank10_e_level                   19439 non-null  float64\n",
      " 63  rougher.state.floatbank10_f_air                     19439 non-null  float64\n",
      " 64  rougher.state.floatbank10_f_level                   19439 non-null  float64\n",
      " 65  secondary_cleaner.output.tail_ag                    19437 non-null  float64\n",
      " 66  secondary_cleaner.output.tail_pb                    19427 non-null  float64\n",
      " 67  secondary_cleaner.output.tail_sol                   17691 non-null  float64\n",
      " 68  secondary_cleaner.output.tail_au                    19439 non-null  float64\n",
      " 69  secondary_cleaner.state.floatbank2_a_air            19219 non-null  float64\n",
      " 70  secondary_cleaner.state.floatbank2_a_level          19438 non-null  float64\n",
      " 71  secondary_cleaner.state.floatbank2_b_air            19416 non-null  float64\n",
      " 72  secondary_cleaner.state.floatbank2_b_level          19438 non-null  float64\n",
      " 73  secondary_cleaner.state.floatbank3_a_air            19426 non-null  float64\n",
      " 74  secondary_cleaner.state.floatbank3_a_level          19438 non-null  float64\n",
      " 75  secondary_cleaner.state.floatbank3_b_air            19438 non-null  float64\n",
      " 76  secondary_cleaner.state.floatbank3_b_level          19438 non-null  float64\n",
      " 77  secondary_cleaner.state.floatbank4_a_air            19433 non-null  float64\n",
      " 78  secondary_cleaner.state.floatbank4_a_level          19438 non-null  float64\n",
      " 79  secondary_cleaner.state.floatbank4_b_air            19438 non-null  float64\n",
      " 80  secondary_cleaner.state.floatbank4_b_level          19438 non-null  float64\n",
      " 81  secondary_cleaner.state.floatbank5_a_air            19438 non-null  float64\n",
      " 82  secondary_cleaner.state.floatbank5_a_level          19438 non-null  float64\n",
      " 83  secondary_cleaner.state.floatbank5_b_air            19438 non-null  float64\n",
      " 84  secondary_cleaner.state.floatbank5_b_level          19438 non-null  float64\n",
      " 85  secondary_cleaner.state.floatbank6_a_air            19437 non-null  float64\n",
      " 86  secondary_cleaner.state.floatbank6_a_level          19438 non-null  float64\n",
      "dtypes: float64(86), object(1)\n",
      "memory usage: 12.9+ MB\n"
     ]
    }
   ],
   "source": [
    "datasets = [train_data,test_data,full_data]\n",
    "\n",
    "for data in datasets:\n",
    "    print('Duplicates:',data.duplicated().sum())\n",
    "    data.info()"
   ]
  },
  {
   "cell_type": "code",
   "execution_count": 4,
   "metadata": {},
   "outputs": [
    {
     "data": {
      "text/plain": [
       "Index(['final.output.concentrate_ag', 'final.output.concentrate_au',\n",
       "       'final.output.concentrate_pb', 'final.output.concentrate_sol',\n",
       "       'final.output.recovery', 'final.output.tail_ag', 'final.output.tail_au',\n",
       "       'final.output.tail_pb', 'final.output.tail_sol',\n",
       "       'primary_cleaner.output.concentrate_ag',\n",
       "       'primary_cleaner.output.concentrate_au',\n",
       "       'primary_cleaner.output.concentrate_pb',\n",
       "       'primary_cleaner.output.concentrate_sol',\n",
       "       'primary_cleaner.output.tail_ag', 'primary_cleaner.output.tail_au',\n",
       "       'primary_cleaner.output.tail_pb', 'primary_cleaner.output.tail_sol',\n",
       "       'rougher.calculation.au_pb_ratio',\n",
       "       'rougher.calculation.floatbank10_sulfate_to_au_feed',\n",
       "       'rougher.calculation.floatbank11_sulfate_to_au_feed',\n",
       "       'rougher.calculation.sulfate_to_au_concentrate',\n",
       "       'rougher.output.concentrate_ag', 'rougher.output.concentrate_au',\n",
       "       'rougher.output.concentrate_pb', 'rougher.output.concentrate_sol',\n",
       "       'rougher.output.recovery', 'rougher.output.tail_ag',\n",
       "       'rougher.output.tail_au', 'rougher.output.tail_pb',\n",
       "       'rougher.output.tail_sol', 'secondary_cleaner.output.tail_ag',\n",
       "       'secondary_cleaner.output.tail_au', 'secondary_cleaner.output.tail_pb',\n",
       "       'secondary_cleaner.output.tail_sol'],\n",
       "      dtype='object')"
      ]
     },
     "execution_count": 4,
     "metadata": {},
     "output_type": "execute_result"
    }
   ],
   "source": [
    "col_dif = full_data.columns.difference(test_data.columns)\n",
    "col_dif"
   ]
  },
  {
   "cell_type": "code",
   "execution_count": 5,
   "metadata": {},
   "outputs": [
    {
     "data": {
      "text/plain": [
       "Index(['date', 'primary_cleaner.input.depressant',\n",
       "       'primary_cleaner.input.feed_size', 'primary_cleaner.input.sulfate',\n",
       "       'primary_cleaner.input.xanthate',\n",
       "       'primary_cleaner.state.floatbank8_a_air',\n",
       "       'primary_cleaner.state.floatbank8_a_level',\n",
       "       'primary_cleaner.state.floatbank8_b_air',\n",
       "       'primary_cleaner.state.floatbank8_b_level',\n",
       "       'primary_cleaner.state.floatbank8_c_air',\n",
       "       'primary_cleaner.state.floatbank8_c_level',\n",
       "       'primary_cleaner.state.floatbank8_d_air',\n",
       "       'primary_cleaner.state.floatbank8_d_level', 'rougher.input.feed_ag',\n",
       "       'rougher.input.feed_au', 'rougher.input.feed_pb',\n",
       "       'rougher.input.feed_rate', 'rougher.input.feed_size',\n",
       "       'rougher.input.feed_sol', 'rougher.input.floatbank10_sulfate',\n",
       "       'rougher.input.floatbank10_xanthate',\n",
       "       'rougher.input.floatbank11_sulfate',\n",
       "       'rougher.input.floatbank11_xanthate', 'rougher.state.floatbank10_a_air',\n",
       "       'rougher.state.floatbank10_a_level', 'rougher.state.floatbank10_b_air',\n",
       "       'rougher.state.floatbank10_b_level', 'rougher.state.floatbank10_c_air',\n",
       "       'rougher.state.floatbank10_c_level', 'rougher.state.floatbank10_d_air',\n",
       "       'rougher.state.floatbank10_d_level', 'rougher.state.floatbank10_e_air',\n",
       "       'rougher.state.floatbank10_e_level', 'rougher.state.floatbank10_f_air',\n",
       "       'rougher.state.floatbank10_f_level',\n",
       "       'secondary_cleaner.state.floatbank2_a_air',\n",
       "       'secondary_cleaner.state.floatbank2_a_level',\n",
       "       'secondary_cleaner.state.floatbank2_b_air',\n",
       "       'secondary_cleaner.state.floatbank2_b_level',\n",
       "       'secondary_cleaner.state.floatbank3_a_air',\n",
       "       'secondary_cleaner.state.floatbank3_a_level',\n",
       "       'secondary_cleaner.state.floatbank3_b_air',\n",
       "       'secondary_cleaner.state.floatbank3_b_level',\n",
       "       'secondary_cleaner.state.floatbank4_a_air',\n",
       "       'secondary_cleaner.state.floatbank4_a_level',\n",
       "       'secondary_cleaner.state.floatbank4_b_air',\n",
       "       'secondary_cleaner.state.floatbank4_b_level',\n",
       "       'secondary_cleaner.state.floatbank5_a_air',\n",
       "       'secondary_cleaner.state.floatbank5_a_level',\n",
       "       'secondary_cleaner.state.floatbank5_b_air',\n",
       "       'secondary_cleaner.state.floatbank5_b_level',\n",
       "       'secondary_cleaner.state.floatbank6_a_air',\n",
       "       'secondary_cleaner.state.floatbank6_a_level'],\n",
       "      dtype='object')"
      ]
     },
     "execution_count": 5,
     "metadata": {},
     "output_type": "execute_result"
    }
   ],
   "source": [
    "col_test = full_data.columns.difference(col_dif)\n",
    "col_test"
   ]
  },
  {
   "cell_type": "code",
   "execution_count": 6,
   "metadata": {},
   "outputs": [
    {
     "name": "stdout",
     "output_type": "stream",
     "text": [
      "final.output.concentrate_ag\n",
      "final.output.concentrate_pb\n",
      "final.output.concentrate_sol\n",
      "final.output.concentrate_au\n",
      "final.output.recovery\n",
      "final.output.tail_ag\n",
      "final.output.tail_pb\n",
      "final.output.tail_sol\n",
      "final.output.tail_au\n",
      "primary_cleaner.output.concentrate_ag\n",
      "primary_cleaner.output.concentrate_pb\n",
      "primary_cleaner.output.concentrate_sol\n",
      "primary_cleaner.output.concentrate_au\n",
      "primary_cleaner.output.tail_ag\n",
      "primary_cleaner.output.tail_pb\n",
      "primary_cleaner.output.tail_sol\n",
      "primary_cleaner.output.tail_au\n",
      "rougher.calculation.sulfate_to_au_concentrate\n",
      "rougher.calculation.floatbank10_sulfate_to_au_feed\n",
      "rougher.calculation.floatbank11_sulfate_to_au_feed\n",
      "rougher.calculation.au_pb_ratio\n",
      "rougher.output.concentrate_ag\n",
      "rougher.output.concentrate_pb\n",
      "rougher.output.concentrate_sol\n",
      "rougher.output.concentrate_au\n",
      "rougher.output.recovery\n",
      "rougher.output.tail_ag\n",
      "rougher.output.tail_pb\n",
      "rougher.output.tail_sol\n",
      "rougher.output.tail_au\n",
      "secondary_cleaner.output.tail_ag\n",
      "secondary_cleaner.output.tail_pb\n",
      "secondary_cleaner.output.tail_sol\n",
      "secondary_cleaner.output.tail_au\n"
     ]
    }
   ],
   "source": [
    "for column in full_data.columns:\n",
    "    if column not in test_data.columns:\n",
    "        print(column)\n",
    "        test_data =test_data.merge(full_data[['date',column]],on='date')"
   ]
  },
  {
   "cell_type": "code",
   "execution_count": 7,
   "metadata": {},
   "outputs": [
    {
     "name": "stdout",
     "output_type": "stream",
     "text": [
      "<class 'pandas.core.frame.DataFrame'>\n",
      "Int64Index: 5290 entries, 0 to 5289\n",
      "Data columns (total 87 columns):\n",
      " #   Column                                              Non-Null Count  Dtype  \n",
      "---  ------                                              --------------  -----  \n",
      " 0   date                                                5290 non-null   object \n",
      " 1   primary_cleaner.input.sulfate                       5286 non-null   float64\n",
      " 2   primary_cleaner.input.depressant                    5285 non-null   float64\n",
      " 3   primary_cleaner.input.feed_size                     5290 non-null   float64\n",
      " 4   primary_cleaner.input.xanthate                      5286 non-null   float64\n",
      " 5   primary_cleaner.state.floatbank8_a_air              5290 non-null   float64\n",
      " 6   primary_cleaner.state.floatbank8_a_level            5290 non-null   float64\n",
      " 7   primary_cleaner.state.floatbank8_b_air              5290 non-null   float64\n",
      " 8   primary_cleaner.state.floatbank8_b_level            5290 non-null   float64\n",
      " 9   primary_cleaner.state.floatbank8_c_air              5290 non-null   float64\n",
      " 10  primary_cleaner.state.floatbank8_c_level            5290 non-null   float64\n",
      " 11  primary_cleaner.state.floatbank8_d_air              5290 non-null   float64\n",
      " 12  primary_cleaner.state.floatbank8_d_level            5290 non-null   float64\n",
      " 13  rougher.input.feed_ag                               5290 non-null   float64\n",
      " 14  rougher.input.feed_pb                               5290 non-null   float64\n",
      " 15  rougher.input.feed_rate                             5287 non-null   float64\n",
      " 16  rougher.input.feed_size                             5289 non-null   float64\n",
      " 17  rougher.input.feed_sol                              5269 non-null   float64\n",
      " 18  rougher.input.feed_au                               5290 non-null   float64\n",
      " 19  rougher.input.floatbank10_sulfate                   5285 non-null   float64\n",
      " 20  rougher.input.floatbank10_xanthate                  5290 non-null   float64\n",
      " 21  rougher.input.floatbank11_sulfate                   5282 non-null   float64\n",
      " 22  rougher.input.floatbank11_xanthate                  5265 non-null   float64\n",
      " 23  rougher.state.floatbank10_a_air                     5290 non-null   float64\n",
      " 24  rougher.state.floatbank10_a_level                   5290 non-null   float64\n",
      " 25  rougher.state.floatbank10_b_air                     5290 non-null   float64\n",
      " 26  rougher.state.floatbank10_b_level                   5290 non-null   float64\n",
      " 27  rougher.state.floatbank10_c_air                     5290 non-null   float64\n",
      " 28  rougher.state.floatbank10_c_level                   5290 non-null   float64\n",
      " 29  rougher.state.floatbank10_d_air                     5290 non-null   float64\n",
      " 30  rougher.state.floatbank10_d_level                   5290 non-null   float64\n",
      " 31  rougher.state.floatbank10_e_air                     5290 non-null   float64\n",
      " 32  rougher.state.floatbank10_e_level                   5290 non-null   float64\n",
      " 33  rougher.state.floatbank10_f_air                     5290 non-null   float64\n",
      " 34  rougher.state.floatbank10_f_level                   5290 non-null   float64\n",
      " 35  secondary_cleaner.state.floatbank2_a_air            5287 non-null   float64\n",
      " 36  secondary_cleaner.state.floatbank2_a_level          5290 non-null   float64\n",
      " 37  secondary_cleaner.state.floatbank2_b_air            5288 non-null   float64\n",
      " 38  secondary_cleaner.state.floatbank2_b_level          5290 non-null   float64\n",
      " 39  secondary_cleaner.state.floatbank3_a_air            5281 non-null   float64\n",
      " 40  secondary_cleaner.state.floatbank3_a_level          5290 non-null   float64\n",
      " 41  secondary_cleaner.state.floatbank3_b_air            5290 non-null   float64\n",
      " 42  secondary_cleaner.state.floatbank3_b_level          5290 non-null   float64\n",
      " 43  secondary_cleaner.state.floatbank4_a_air            5290 non-null   float64\n",
      " 44  secondary_cleaner.state.floatbank4_a_level          5290 non-null   float64\n",
      " 45  secondary_cleaner.state.floatbank4_b_air            5290 non-null   float64\n",
      " 46  secondary_cleaner.state.floatbank4_b_level          5290 non-null   float64\n",
      " 47  secondary_cleaner.state.floatbank5_a_air            5290 non-null   float64\n",
      " 48  secondary_cleaner.state.floatbank5_a_level          5290 non-null   float64\n",
      " 49  secondary_cleaner.state.floatbank5_b_air            5290 non-null   float64\n",
      " 50  secondary_cleaner.state.floatbank5_b_level          5290 non-null   float64\n",
      " 51  secondary_cleaner.state.floatbank6_a_air            5290 non-null   float64\n",
      " 52  secondary_cleaner.state.floatbank6_a_level          5290 non-null   float64\n",
      " 53  final.output.concentrate_ag                         5290 non-null   float64\n",
      " 54  final.output.concentrate_pb                         5290 non-null   float64\n",
      " 55  final.output.concentrate_sol                        5290 non-null   float64\n",
      " 56  final.output.concentrate_au                         5290 non-null   float64\n",
      " 57  final.output.recovery                               5290 non-null   float64\n",
      " 58  final.output.tail_ag                                5289 non-null   float64\n",
      " 59  final.output.tail_pb                                5289 non-null   float64\n",
      " 60  final.output.tail_sol                               5289 non-null   float64\n",
      " 61  final.output.tail_au                                5290 non-null   float64\n",
      " 62  primary_cleaner.output.concentrate_ag               5290 non-null   float64\n",
      " 63  primary_cleaner.output.concentrate_pb               5260 non-null   float64\n",
      " 64  primary_cleaner.output.concentrate_sol              5206 non-null   float64\n",
      " 65  primary_cleaner.output.concentrate_au               5290 non-null   float64\n",
      " 66  primary_cleaner.output.tail_ag                      5287 non-null   float64\n",
      " 67  primary_cleaner.output.tail_pb                      5284 non-null   float64\n",
      " 68  primary_cleaner.output.tail_sol                     5274 non-null   float64\n",
      " 69  primary_cleaner.output.tail_au                      5290 non-null   float64\n",
      " 70  rougher.calculation.sulfate_to_au_concentrate       5289 non-null   float64\n",
      " 71  rougher.calculation.floatbank10_sulfate_to_au_feed  5289 non-null   float64\n",
      " 72  rougher.calculation.floatbank11_sulfate_to_au_feed  5289 non-null   float64\n",
      " 73  rougher.calculation.au_pb_ratio                     5290 non-null   float64\n",
      " 74  rougher.output.concentrate_ag                       5290 non-null   float64\n",
      " 75  rougher.output.concentrate_pb                       5290 non-null   float64\n",
      " 76  rougher.output.concentrate_sol                      5289 non-null   float64\n",
      " 77  rougher.output.concentrate_au                       5290 non-null   float64\n",
      " 78  rougher.output.recovery                             5290 non-null   float64\n",
      " 79  rougher.output.tail_ag                              5290 non-null   float64\n",
      " 80  rougher.output.tail_pb                              5290 non-null   float64\n",
      " 81  rougher.output.tail_sol                             5290 non-null   float64\n",
      " 82  rougher.output.tail_au                              5290 non-null   float64\n",
      " 83  secondary_cleaner.output.tail_ag                    5290 non-null   float64\n",
      " 84  secondary_cleaner.output.tail_pb                    5288 non-null   float64\n",
      " 85  secondary_cleaner.output.tail_sol                   5147 non-null   float64\n",
      " 86  secondary_cleaner.output.tail_au                    5290 non-null   float64\n",
      "dtypes: float64(86), object(1)\n",
      "memory usage: 3.6+ MB\n"
     ]
    }
   ],
   "source": [
    "test_data.info()"
   ]
  },
  {
   "cell_type": "markdown",
   "metadata": {},
   "source": [
    "По даннмы из исходного датасета восстановил тестовый датасет. Явных дубликатов в данных не найдено, есть пропуски, но их мало, пока решил оставить всё как есть)"
   ]
  },
  {
   "cell_type": "code",
   "execution_count": 8,
   "metadata": {},
   "outputs": [],
   "source": [
    "train_data = train_data.fillna(method='ffill')\n",
    "test_data = test_data.fillna(method='ffill')"
   ]
  },
  {
   "cell_type": "code",
   "execution_count": 9,
   "metadata": {},
   "outputs": [
    {
     "name": "stdout",
     "output_type": "stream",
     "text": [
      "<class 'pandas.core.frame.DataFrame'>\n",
      "RangeIndex: 14149 entries, 0 to 14148\n",
      "Data columns (total 87 columns):\n",
      " #   Column                                              Non-Null Count  Dtype  \n",
      "---  ------                                              --------------  -----  \n",
      " 0   date                                                14149 non-null  object \n",
      " 1   final.output.concentrate_ag                         14149 non-null  float64\n",
      " 2   final.output.concentrate_pb                         14149 non-null  float64\n",
      " 3   final.output.concentrate_sol                        14149 non-null  float64\n",
      " 4   final.output.concentrate_au                         14149 non-null  float64\n",
      " 5   final.output.recovery                               14149 non-null  float64\n",
      " 6   final.output.tail_ag                                14149 non-null  float64\n",
      " 7   final.output.tail_pb                                14149 non-null  float64\n",
      " 8   final.output.tail_sol                               14149 non-null  float64\n",
      " 9   final.output.tail_au                                14149 non-null  float64\n",
      " 10  primary_cleaner.input.sulfate                       14149 non-null  float64\n",
      " 11  primary_cleaner.input.depressant                    14149 non-null  float64\n",
      " 12  primary_cleaner.input.feed_size                     14149 non-null  float64\n",
      " 13  primary_cleaner.input.xanthate                      14149 non-null  float64\n",
      " 14  primary_cleaner.output.concentrate_ag               14149 non-null  float64\n",
      " 15  primary_cleaner.output.concentrate_pb               14149 non-null  float64\n",
      " 16  primary_cleaner.output.concentrate_sol              14149 non-null  float64\n",
      " 17  primary_cleaner.output.concentrate_au               14149 non-null  float64\n",
      " 18  primary_cleaner.output.tail_ag                      14149 non-null  float64\n",
      " 19  primary_cleaner.output.tail_pb                      14149 non-null  float64\n",
      " 20  primary_cleaner.output.tail_sol                     14149 non-null  float64\n",
      " 21  primary_cleaner.output.tail_au                      14149 non-null  float64\n",
      " 22  primary_cleaner.state.floatbank8_a_air              14149 non-null  float64\n",
      " 23  primary_cleaner.state.floatbank8_a_level            14149 non-null  float64\n",
      " 24  primary_cleaner.state.floatbank8_b_air              14149 non-null  float64\n",
      " 25  primary_cleaner.state.floatbank8_b_level            14149 non-null  float64\n",
      " 26  primary_cleaner.state.floatbank8_c_air              14149 non-null  float64\n",
      " 27  primary_cleaner.state.floatbank8_c_level            14149 non-null  float64\n",
      " 28  primary_cleaner.state.floatbank8_d_air              14149 non-null  float64\n",
      " 29  primary_cleaner.state.floatbank8_d_level            14149 non-null  float64\n",
      " 30  rougher.calculation.sulfate_to_au_concentrate       14149 non-null  float64\n",
      " 31  rougher.calculation.floatbank10_sulfate_to_au_feed  14149 non-null  float64\n",
      " 32  rougher.calculation.floatbank11_sulfate_to_au_feed  14149 non-null  float64\n",
      " 33  rougher.calculation.au_pb_ratio                     14149 non-null  float64\n",
      " 34  rougher.input.feed_ag                               14149 non-null  float64\n",
      " 35  rougher.input.feed_pb                               14149 non-null  float64\n",
      " 36  rougher.input.feed_rate                             14149 non-null  float64\n",
      " 37  rougher.input.feed_size                             14149 non-null  float64\n",
      " 38  rougher.input.feed_sol                              14149 non-null  float64\n",
      " 39  rougher.input.feed_au                               14149 non-null  float64\n",
      " 40  rougher.input.floatbank10_sulfate                   14149 non-null  float64\n",
      " 41  rougher.input.floatbank10_xanthate                  14149 non-null  float64\n",
      " 42  rougher.input.floatbank11_sulfate                   14149 non-null  float64\n",
      " 43  rougher.input.floatbank11_xanthate                  14149 non-null  float64\n",
      " 44  rougher.output.concentrate_ag                       14149 non-null  float64\n",
      " 45  rougher.output.concentrate_pb                       14149 non-null  float64\n",
      " 46  rougher.output.concentrate_sol                      14149 non-null  float64\n",
      " 47  rougher.output.concentrate_au                       14149 non-null  float64\n",
      " 48  rougher.output.recovery                             14149 non-null  float64\n",
      " 49  rougher.output.tail_ag                              14149 non-null  float64\n",
      " 50  rougher.output.tail_pb                              14149 non-null  float64\n",
      " 51  rougher.output.tail_sol                             14149 non-null  float64\n",
      " 52  rougher.output.tail_au                              14149 non-null  float64\n",
      " 53  rougher.state.floatbank10_a_air                     14149 non-null  float64\n",
      " 54  rougher.state.floatbank10_a_level                   14149 non-null  float64\n",
      " 55  rougher.state.floatbank10_b_air                     14149 non-null  float64\n",
      " 56  rougher.state.floatbank10_b_level                   14149 non-null  float64\n",
      " 57  rougher.state.floatbank10_c_air                     14149 non-null  float64\n",
      " 58  rougher.state.floatbank10_c_level                   14149 non-null  float64\n",
      " 59  rougher.state.floatbank10_d_air                     14149 non-null  float64\n",
      " 60  rougher.state.floatbank10_d_level                   14149 non-null  float64\n",
      " 61  rougher.state.floatbank10_e_air                     14149 non-null  float64\n",
      " 62  rougher.state.floatbank10_e_level                   14149 non-null  float64\n",
      " 63  rougher.state.floatbank10_f_air                     14149 non-null  float64\n",
      " 64  rougher.state.floatbank10_f_level                   14149 non-null  float64\n",
      " 65  secondary_cleaner.output.tail_ag                    14149 non-null  float64\n",
      " 66  secondary_cleaner.output.tail_pb                    14149 non-null  float64\n",
      " 67  secondary_cleaner.output.tail_sol                   14149 non-null  float64\n",
      " 68  secondary_cleaner.output.tail_au                    14149 non-null  float64\n",
      " 69  secondary_cleaner.state.floatbank2_a_air            14149 non-null  float64\n",
      " 70  secondary_cleaner.state.floatbank2_a_level          14149 non-null  float64\n",
      " 71  secondary_cleaner.state.floatbank2_b_air            14149 non-null  float64\n",
      " 72  secondary_cleaner.state.floatbank2_b_level          14149 non-null  float64\n",
      " 73  secondary_cleaner.state.floatbank3_a_air            14149 non-null  float64\n",
      " 74  secondary_cleaner.state.floatbank3_a_level          14149 non-null  float64\n",
      " 75  secondary_cleaner.state.floatbank3_b_air            14149 non-null  float64\n",
      " 76  secondary_cleaner.state.floatbank3_b_level          14149 non-null  float64\n",
      " 77  secondary_cleaner.state.floatbank4_a_air            14149 non-null  float64\n",
      " 78  secondary_cleaner.state.floatbank4_a_level          14149 non-null  float64\n",
      " 79  secondary_cleaner.state.floatbank4_b_air            14149 non-null  float64\n",
      " 80  secondary_cleaner.state.floatbank4_b_level          14149 non-null  float64\n",
      " 81  secondary_cleaner.state.floatbank5_a_air            14149 non-null  float64\n",
      " 82  secondary_cleaner.state.floatbank5_a_level          14149 non-null  float64\n",
      " 83  secondary_cleaner.state.floatbank5_b_air            14149 non-null  float64\n",
      " 84  secondary_cleaner.state.floatbank5_b_level          14149 non-null  float64\n",
      " 85  secondary_cleaner.state.floatbank6_a_air            14149 non-null  float64\n",
      " 86  secondary_cleaner.state.floatbank6_a_level          14149 non-null  float64\n",
      "dtypes: float64(86), object(1)\n",
      "memory usage: 9.4+ MB\n"
     ]
    }
   ],
   "source": [
    "train_data.info()"
   ]
  },
  {
   "cell_type": "markdown",
   "metadata": {},
   "source": [
    "Заполнили пропуски медиаными значениями (сделал это потому, что эффективность не считается из-за NAN значений)."
   ]
  },
  {
   "cell_type": "code",
   "execution_count": 10,
   "metadata": {},
   "outputs": [],
   "source": [
    "def recovery(C,F,T):\n",
    "    recovery = C*(F-T)/F/(C-T)*100\n",
    "    mae = mean_absolute_error(recovery,train_data['rougher.output.recovery'])\n",
    "    return mae"
   ]
  },
  {
   "cell_type": "code",
   "execution_count": 11,
   "metadata": {},
   "outputs": [
    {
     "name": "stdout",
     "output_type": "stream",
     "text": [
      "MAE: 1.0748911125799084e-14\n"
     ]
    }
   ],
   "source": [
    "print('MAE:',recovery(train_data['rougher.output.concentrate_au'],train_data['rougher.input.feed_au']\n",
    "         ,train_data['rougher.output.tail_au']))"
   ]
  },
  {
   "cell_type": "markdown",
   "metadata": {},
   "source": [
    "MAE почти равен нулю, значит эффектиновсть расчитана корректно."
   ]
  },
  {
   "cell_type": "markdown",
   "metadata": {},
   "source": [
    "По поводу признаков, которых не было изначально в тестовой выборке. Там отсутствовали признаки, которые описывали выходящий продукт после всех стадий обработки и их подсчёты."
   ]
  },
  {
   "cell_type": "code",
   "execution_count": 12,
   "metadata": {},
   "outputs": [
    {
     "data": {
      "text/plain": [
       "Index(['final.output.concentrate_ag', 'final.output.concentrate_au',\n",
       "       'final.output.concentrate_pb', 'final.output.concentrate_sol',\n",
       "       'final.output.recovery', 'final.output.tail_ag', 'final.output.tail_au',\n",
       "       'final.output.tail_pb', 'final.output.tail_sol',\n",
       "       'primary_cleaner.output.concentrate_ag',\n",
       "       'primary_cleaner.output.concentrate_au',\n",
       "       'primary_cleaner.output.concentrate_pb',\n",
       "       'primary_cleaner.output.concentrate_sol',\n",
       "       'primary_cleaner.output.tail_ag', 'primary_cleaner.output.tail_au',\n",
       "       'primary_cleaner.output.tail_pb', 'primary_cleaner.output.tail_sol',\n",
       "       'rougher.calculation.au_pb_ratio',\n",
       "       'rougher.calculation.floatbank10_sulfate_to_au_feed',\n",
       "       'rougher.calculation.floatbank11_sulfate_to_au_feed',\n",
       "       'rougher.calculation.sulfate_to_au_concentrate',\n",
       "       'rougher.output.concentrate_ag', 'rougher.output.concentrate_au',\n",
       "       'rougher.output.concentrate_pb', 'rougher.output.concentrate_sol',\n",
       "       'rougher.output.recovery', 'rougher.output.tail_ag',\n",
       "       'rougher.output.tail_au', 'rougher.output.tail_pb',\n",
       "       'rougher.output.tail_sol', 'secondary_cleaner.output.tail_ag',\n",
       "       'secondary_cleaner.output.tail_au', 'secondary_cleaner.output.tail_pb',\n",
       "       'secondary_cleaner.output.tail_sol'],\n",
       "      dtype='object')"
      ]
     },
     "execution_count": 12,
     "metadata": {},
     "output_type": "execute_result"
    }
   ],
   "source": [
    "col_dif"
   ]
  },
  {
   "cell_type": "markdown",
   "metadata": {},
   "source": [
    "Общий вывод: были загружены 3 датасета, тестовый датасет был восстановлен из полных данных, также были заполнены пропуски медианными значениями. Подсчитана метрика MAE, она оказалось почти равной нулю."
   ]
  },
  {
   "cell_type": "markdown",
   "metadata": {},
   "source": [
    "## Анализ данных"
   ]
  },
  {
   "cell_type": "markdown",
   "metadata": {},
   "source": [
    "###  Посмотрите, как меняется концентрация металлов (Au, Ag, Pb) на различных этапах очистки. Опишите выводы."
   ]
  },
  {
   "cell_type": "code",
   "execution_count": 13,
   "metadata": {},
   "outputs": [
    {
     "name": "stdout",
     "output_type": "stream",
     "text": [
      "Концентрация до флотации\n",
      "Золото: 7.87,серебро: 8.58,свинцец: 3.51\n",
      "Концентрация после флотации\n",
      "Золото: 19.44,серебро: 11.78,свинцец: 11.78\n",
      "Концентрация после первичной очистки\n",
      "Золото: 32.39,серебро: 8.20,свинцец: 9.57\n",
      "Концентрация после вторичной очистки\n",
      "Золото: 44.00,серебро: 5.14,свинцец: 10.13\n"
     ]
    }
   ],
   "source": [
    "print('Концентрация до флотации')\n",
    "print('Золото: {:0.2f},серебро: {:0.2f},свинцец: {:0.2f}'.format(train_data['rougher.input.feed_au'].mean(),\n",
    "        train_data['rougher.input.feed_ag'].mean(),train_data['rougher.input.feed_pb'].mean()))\n",
    "print('Концентрация после флотации')\n",
    "print('Золото: {:0.2f},серебро: {:0.2f},свинцец: {:0.2f}'.format(train_data['rougher.output.concentrate_au'].mean(),\n",
    "        train_data['rougher.output.concentrate_ag'].mean(),train_data['rougher.output.concentrate_ag'].mean()))\n",
    "print('Концентрация после первичной очистки')\n",
    "print('Золото: {:0.2f},серебро: {:0.2f},свинцец: {:0.2f}'.format(train_data['primary_cleaner.output.concentrate_au'].mean(),\n",
    "        train_data['primary_cleaner.output.concentrate_ag'].mean(),train_data['primary_cleaner.output.concentrate_pb'].mean()))\n",
    "print('Концентрация после вторичной очистки')\n",
    "print('Золото: {:0.2f},серебро: {:0.2f},свинцец: {:0.2f}'.format(train_data['final.output.concentrate_au'].mean(),\n",
    "        train_data['final.output.concentrate_ag'].mean(),train_data['final.output.concentrate_pb'].mean()))"
   ]
  },
  {
   "cell_type": "code",
   "execution_count": 14,
   "metadata": {},
   "outputs": [
    {
     "data": {
      "text/html": [
       "<div>\n",
       "<style scoped>\n",
       "    .dataframe tbody tr th:only-of-type {\n",
       "        vertical-align: middle;\n",
       "    }\n",
       "\n",
       "    .dataframe tbody tr th {\n",
       "        vertical-align: top;\n",
       "    }\n",
       "\n",
       "    .dataframe thead th {\n",
       "        text-align: right;\n",
       "    }\n",
       "</style>\n",
       "<table border=\"1\" class=\"dataframe\">\n",
       "  <thead>\n",
       "    <tr style=\"text-align: right;\">\n",
       "      <th></th>\n",
       "      <th>step</th>\n",
       "      <th>metal</th>\n",
       "      <th>concentration</th>\n",
       "    </tr>\n",
       "  </thead>\n",
       "  <tbody>\n",
       "    <tr>\n",
       "      <th>0</th>\n",
       "      <td>r_i</td>\n",
       "      <td>Au</td>\n",
       "      <td>7.87</td>\n",
       "    </tr>\n",
       "    <tr>\n",
       "      <th>1</th>\n",
       "      <td>r_o</td>\n",
       "      <td>Au</td>\n",
       "      <td>19.44</td>\n",
       "    </tr>\n",
       "    <tr>\n",
       "      <th>2</th>\n",
       "      <td>p</td>\n",
       "      <td>Au</td>\n",
       "      <td>32.39</td>\n",
       "    </tr>\n",
       "    <tr>\n",
       "      <th>3</th>\n",
       "      <td>s</td>\n",
       "      <td>Au</td>\n",
       "      <td>44.00</td>\n",
       "    </tr>\n",
       "    <tr>\n",
       "      <th>4</th>\n",
       "      <td>r_i</td>\n",
       "      <td>Ag</td>\n",
       "      <td>8.58</td>\n",
       "    </tr>\n",
       "    <tr>\n",
       "      <th>5</th>\n",
       "      <td>r_o</td>\n",
       "      <td>Ag</td>\n",
       "      <td>11.78</td>\n",
       "    </tr>\n",
       "    <tr>\n",
       "      <th>6</th>\n",
       "      <td>p</td>\n",
       "      <td>Ag</td>\n",
       "      <td>8.20</td>\n",
       "    </tr>\n",
       "    <tr>\n",
       "      <th>7</th>\n",
       "      <td>s</td>\n",
       "      <td>Ag</td>\n",
       "      <td>5.14</td>\n",
       "    </tr>\n",
       "    <tr>\n",
       "      <th>8</th>\n",
       "      <td>r_i</td>\n",
       "      <td>Pb</td>\n",
       "      <td>3.52</td>\n",
       "    </tr>\n",
       "    <tr>\n",
       "      <th>9</th>\n",
       "      <td>r_o</td>\n",
       "      <td>Pb</td>\n",
       "      <td>11.78</td>\n",
       "    </tr>\n",
       "    <tr>\n",
       "      <th>10</th>\n",
       "      <td>p</td>\n",
       "      <td>Pb</td>\n",
       "      <td>9.59</td>\n",
       "    </tr>\n",
       "    <tr>\n",
       "      <th>11</th>\n",
       "      <td>s</td>\n",
       "      <td>Pb</td>\n",
       "      <td>10.13</td>\n",
       "    </tr>\n",
       "  </tbody>\n",
       "</table>\n",
       "</div>"
      ],
      "text/plain": [
       "   step metal  concentration\n",
       "0   r_i    Au           7.87\n",
       "1   r_o    Au          19.44\n",
       "2     p    Au          32.39\n",
       "3     s    Au          44.00\n",
       "4   r_i    Ag           8.58\n",
       "5   r_o    Ag          11.78\n",
       "6     p    Ag           8.20\n",
       "7     s    Ag           5.14\n",
       "8   r_i    Pb           3.52\n",
       "9   r_o    Pb          11.78\n",
       "10    p    Pb           9.59\n",
       "11    s    Pb          10.13"
      ]
     },
     "execution_count": 14,
     "metadata": {},
     "output_type": "execute_result"
    }
   ],
   "source": [
    "df_concentration = pd.DataFrame({'step':['r_i','r_o','p','s','r_i','r_o','p','s','r_i','r_o','p','s'],\n",
    "                   'metal':['Au','Au','Au','Au','Ag','Ag','Ag','Ag','Pb','Pb','Pb','Pb'],\n",
    "                  'concentration':[7.87,19.44,32.39,44.00,8.58,11.78,8.2,5.14,3.52,11.78,9.59,10.13]})\n",
    "df_concentration"
   ]
  },
  {
   "cell_type": "code",
   "execution_count": 15,
   "metadata": {
    "scrolled": true
   },
   "outputs": [
    {
     "data": {
      "image/png": "[encoded data removed]",
      "text/plain": [
       "<Figure size 432x288 with 1 Axes>"
      ]
     },
     "metadata": {
      "needs_background": "light"
     },
     "output_type": "display_data"
    }
   ],
   "source": [
    "sns.barplot(data=df_concentration,x='step',y='concentration',hue='metal');"
   ]
  },
  {
   "cell_type": "markdown",
   "metadata": {},
   "source": [
    "Концентрация золота увеличивается с каждым этапом очистки, концентрация серебра, пройдя все этапы, уменьшилась, а концентрация свинца увеличилась."
   ]
  },
  {
   "cell_type": "markdown",
   "metadata": {},
   "source": [
    "### Сравните распределения размеров гранул сырья на обучающей и тестовой выборках. Если распределения сильно отличаются друг от друга, оценка модели будет неправильной."
   ]
  },
  {
   "cell_type": "code",
   "execution_count": 16,
   "metadata": {},
   "outputs": [
    {
     "name": "stderr",
     "output_type": "stream",
     "text": [
      "/opt/conda/lib/python3.9/site-packages/seaborn/distributions.py:2557: FutureWarning: `distplot` is a deprecated function and will be removed in a future version. Please adapt your code to use either `displot` (a figure-level function with similar flexibility) or `kdeplot` (an axes-level function for kernel density plots).\n",
      "  warnings.warn(msg, FutureWarning)\n",
      "/opt/conda/lib/python3.9/site-packages/seaborn/distributions.py:2557: FutureWarning: `distplot` is a deprecated function and will be removed in a future version. Please adapt your code to use either `displot` (a figure-level function with similar flexibility) or `kdeplot` (an axes-level function for kernel density plots).\n",
      "  warnings.warn(msg, FutureWarning)\n"
     ]
    },
    {
     "data": {
      "image/png": "[encoded data removed]",
      "text/plain": [
       "<Figure size 432x288 with 1 Axes>"
      ]
     },
     "metadata": {
      "needs_background": "light"
     },
     "output_type": "display_data"
    }
   ],
   "source": [
    "sns.distplot(test_data['rougher.input.feed_size'],hist=False);\n",
    "sns.distplot(train_data['rougher.input.feed_size'],hist=False);\n",
    "plt.legend(['test','train']);"
   ]
  },
  {
   "cell_type": "markdown",
   "metadata": {},
   "source": [
    "Распределения имеют небольшие отличия. Центры распределений немного смещены относительно друг друга (размеры гранул в обучающей выборке в среднем больше, чем в тестовой), также у тестовой выборки значения менее разбросаны относительно центра (ширина распределения ниже, а высота больше, чем у обучающей выборки). "
   ]
  },
  {
   "cell_type": "markdown",
   "metadata": {},
   "source": [
    "### Исследуйте суммарную концентрацию всех веществ на разных стадиях: в сырье, в черновом и финальном концентратах. "
   ]
  },
  {
   "cell_type": "code",
   "execution_count": 17,
   "metadata": {},
   "outputs": [],
   "source": [
    "def sum_conc(data):\n",
    "    au = []\n",
    "    ag = []\n",
    "    pb = []\n",
    "    sol = []\n",
    "    summ = []   \n",
    "    steps = ['rougher','final']\n",
    "    for index in range(len(steps)):\n",
    "        au.append(data[steps[index]+'.output.concentrate_au'])\n",
    "        ag.append(data[steps[index]+'.output.concentrate_ag'])\n",
    "        pb.append(data[steps[index]+'.output.concentrate_pb'])\n",
    "        sol.append(data[steps[index]+'.output.concentrate_sol'])\n",
    "        summ.append(au[index]+ag[index]+pb[index]+sol[index])\n",
    "        summ[index].hist(bins=70,figsize=(25,10),alpha=0.6)\n",
    "    summ.append(data['rougher.input.feed_au']+data['rougher.input.feed_ag']+data['rougher.input.feed_pb']+\n",
    "                data['rougher.input.feed_sol'])\n",
    "    summ[-1].hist(bins=70,figsize=(25,20),alpha=0.6)\n",
    "    plt.legend(['rougher_out','final','rougher_in'],prop={'size': 15})    \n",
    "    \n",
    "    "
   ]
  },
  {
   "cell_type": "code",
   "execution_count": 18,
   "metadata": {
    "scrolled": false
   },
   "outputs": [
    {
     "data": {
      "image/png": "[encoded data removed]",
      "text/plain": [
       "<Figure size 1800x1440 with 1 Axes>"
      ]
     },
     "metadata": {
      "needs_background": "light"
     },
     "output_type": "display_data"
    }
   ],
   "source": [
    "sum_conc(train_data)\n",
    "plt.title('train');"
   ]
  },
  {
   "cell_type": "code",
   "execution_count": 19,
   "metadata": {},
   "outputs": [
    {
     "data": {
      "image/png": "[encoded data removed]",
      "text/plain": [
       "<Figure size 1800x1440 with 1 Axes>"
      ]
     },
     "metadata": {
      "needs_background": "light"
     },
     "output_type": "display_data"
    }
   ],
   "source": [
    "sum_conc(test_data)\n",
    "plt.title('test');"
   ]
  },
  {
   "cell_type": "markdown",
   "metadata": {},
   "source": [
    "Распределение суммарных концентраций после всех этапов становится меньше по ширине и выше по высоте, однако средняя концетрация после первого этапа и последнего очень близки друг к другу (можно предположить, что это связано с тем, что концентрация золота увеличивается, а концетрации остальных металлов уменьшается, таким образом суммарная средняя концентрация остаётся прежней).\n",
    "\n",
    "На графиках есть выбросы около нуля. Уберём их"
   ]
  },
  {
   "cell_type": "code",
   "execution_count": 20,
   "metadata": {
    "scrolled": true
   },
   "outputs": [
    {
     "name": "stdout",
     "output_type": "stream",
     "text": [
      "0\n",
      "0\n",
      "0\n",
      "0\n"
     ]
    }
   ],
   "source": [
    "print(train_data[train_data['rougher.input.feed_au'] == 0].count().max())\n",
    "print(train_data[train_data['rougher.input.feed_ag'] == 0].count().max())\n",
    "print(train_data[train_data['rougher.input.feed_pb'] == 0].count().max())\n",
    "print(train_data[train_data['rougher.input.feed_sol'] == 0].count().max())"
   ]
  },
  {
   "cell_type": "code",
   "execution_count": 21,
   "metadata": {},
   "outputs": [],
   "source": [
    "train_data =  train_data[train_data['rougher.output.concentrate_au'] != 0]\n",
    "train_data =  train_data[train_data['rougher.output.concentrate_sol'] != 0]"
   ]
  },
  {
   "cell_type": "code",
   "execution_count": 22,
   "metadata": {},
   "outputs": [
    {
     "name": "stdout",
     "output_type": "stream",
     "text": [
      "0\n",
      "0\n",
      "0\n",
      "0\n"
     ]
    }
   ],
   "source": [
    "print(train_data[train_data['rougher.output.concentrate_au'] == 0].count().max()) \n",
    "print(train_data[train_data['rougher.output.concentrate_ag'] == 0].count().max())\n",
    "print(train_data[train_data['rougher.output.concentrate_pb'] == 0].count().max())\n",
    "print(train_data[train_data['rougher.output.concentrate_sol'] == 0].count().max())"
   ]
  },
  {
   "cell_type": "code",
   "execution_count": 23,
   "metadata": {},
   "outputs": [],
   "source": [
    "train_data =  train_data[train_data['final.output.concentrate_au'] != 0]"
   ]
  },
  {
   "cell_type": "code",
   "execution_count": 24,
   "metadata": {},
   "outputs": [
    {
     "name": "stdout",
     "output_type": "stream",
     "text": [
      "0\n",
      "0\n",
      "0\n",
      "0\n"
     ]
    }
   ],
   "source": [
    "print(train_data[train_data['rougher.output.concentrate_au'] == 0].count().max()) \n",
    "print(train_data[train_data['rougher.output.concentrate_ag'] == 0].count().max())\n",
    "print(train_data[train_data['rougher.output.concentrate_pb'] == 0].count().max())\n",
    "print(train_data[train_data['rougher.output.concentrate_sol'] == 0].count().max())"
   ]
  },
  {
   "cell_type": "code",
   "execution_count": 25,
   "metadata": {},
   "outputs": [
    {
     "data": {
      "image/png": "[encoded data removed]",
      "text/plain": [
       "<Figure size 1800x1440 with 1 Axes>"
      ]
     },
     "metadata": {
      "needs_background": "light"
     },
     "output_type": "display_data"
    }
   ],
   "source": [
    "sum_conc(train_data)\n",
    "plt.title('train');"
   ]
  },
  {
   "cell_type": "raw",
   "metadata": {},
   "source": [
    "def sort(data):\n",
    "    steps = ['rougher','final']\n",
    "    for index in range(len(steps)):\n",
    "        data = data[data[steps[index]+'.output.concentrate_au']>5]\n",
    "    return data    \n",
    "    "
   ]
  },
  {
   "cell_type": "markdown",
   "metadata": {},
   "source": [
    "Убрал все выбросы(можно их убрать, потому что их мало по сравнению со всей выборкой) "
   ]
  },
  {
   "cell_type": "code",
   "execution_count": 26,
   "metadata": {},
   "outputs": [
    {
     "name": "stdout",
     "output_type": "stream",
     "text": [
      "<class 'pandas.core.frame.DataFrame'>\n",
      "Int64Index: 13792 entries, 0 to 14148\n",
      "Data columns (total 87 columns):\n",
      " #   Column                                              Non-Null Count  Dtype  \n",
      "---  ------                                              --------------  -----  \n",
      " 0   date                                                13792 non-null  object \n",
      " 1   final.output.concentrate_ag                         13792 non-null  float64\n",
      " 2   final.output.concentrate_pb                         13792 non-null  float64\n",
      " 3   final.output.concentrate_sol                        13792 non-null  float64\n",
      " 4   final.output.concentrate_au                         13792 non-null  float64\n",
      " 5   final.output.recovery                               13792 non-null  float64\n",
      " 6   final.output.tail_ag                                13792 non-null  float64\n",
      " 7   final.output.tail_pb                                13792 non-null  float64\n",
      " 8   final.output.tail_sol                               13792 non-null  float64\n",
      " 9   final.output.tail_au                                13792 non-null  float64\n",
      " 10  primary_cleaner.input.sulfate                       13792 non-null  float64\n",
      " 11  primary_cleaner.input.depressant                    13792 non-null  float64\n",
      " 12  primary_cleaner.input.feed_size                     13792 non-null  float64\n",
      " 13  primary_cleaner.input.xanthate                      13792 non-null  float64\n",
      " 14  primary_cleaner.output.concentrate_ag               13792 non-null  float64\n",
      " 15  primary_cleaner.output.concentrate_pb               13792 non-null  float64\n",
      " 16  primary_cleaner.output.concentrate_sol              13792 non-null  float64\n",
      " 17  primary_cleaner.output.concentrate_au               13792 non-null  float64\n",
      " 18  primary_cleaner.output.tail_ag                      13792 non-null  float64\n",
      " 19  primary_cleaner.output.tail_pb                      13792 non-null  float64\n",
      " 20  primary_cleaner.output.tail_sol                     13792 non-null  float64\n",
      " 21  primary_cleaner.output.tail_au                      13792 non-null  float64\n",
      " 22  primary_cleaner.state.floatbank8_a_air              13792 non-null  float64\n",
      " 23  primary_cleaner.state.floatbank8_a_level            13792 non-null  float64\n",
      " 24  primary_cleaner.state.floatbank8_b_air              13792 non-null  float64\n",
      " 25  primary_cleaner.state.floatbank8_b_level            13792 non-null  float64\n",
      " 26  primary_cleaner.state.floatbank8_c_air              13792 non-null  float64\n",
      " 27  primary_cleaner.state.floatbank8_c_level            13792 non-null  float64\n",
      " 28  primary_cleaner.state.floatbank8_d_air              13792 non-null  float64\n",
      " 29  primary_cleaner.state.floatbank8_d_level            13792 non-null  float64\n",
      " 30  rougher.calculation.sulfate_to_au_concentrate       13792 non-null  float64\n",
      " 31  rougher.calculation.floatbank10_sulfate_to_au_feed  13792 non-null  float64\n",
      " 32  rougher.calculation.floatbank11_sulfate_to_au_feed  13792 non-null  float64\n",
      " 33  rougher.calculation.au_pb_ratio                     13792 non-null  float64\n",
      " 34  rougher.input.feed_ag                               13792 non-null  float64\n",
      " 35  rougher.input.feed_pb                               13792 non-null  float64\n",
      " 36  rougher.input.feed_rate                             13792 non-null  float64\n",
      " 37  rougher.input.feed_size                             13792 non-null  float64\n",
      " 38  rougher.input.feed_sol                              13792 non-null  float64\n",
      " 39  rougher.input.feed_au                               13792 non-null  float64\n",
      " 40  rougher.input.floatbank10_sulfate                   13792 non-null  float64\n",
      " 41  rougher.input.floatbank10_xanthate                  13792 non-null  float64\n",
      " 42  rougher.input.floatbank11_sulfate                   13792 non-null  float64\n",
      " 43  rougher.input.floatbank11_xanthate                  13792 non-null  float64\n",
      " 44  rougher.output.concentrate_ag                       13792 non-null  float64\n",
      " 45  rougher.output.concentrate_pb                       13792 non-null  float64\n",
      " 46  rougher.output.concentrate_sol                      13792 non-null  float64\n",
      " 47  rougher.output.concentrate_au                       13792 non-null  float64\n",
      " 48  rougher.output.recovery                             13792 non-null  float64\n",
      " 49  rougher.output.tail_ag                              13792 non-null  float64\n",
      " 50  rougher.output.tail_pb                              13792 non-null  float64\n",
      " 51  rougher.output.tail_sol                             13792 non-null  float64\n",
      " 52  rougher.output.tail_au                              13792 non-null  float64\n",
      " 53  rougher.state.floatbank10_a_air                     13792 non-null  float64\n",
      " 54  rougher.state.floatbank10_a_level                   13792 non-null  float64\n",
      " 55  rougher.state.floatbank10_b_air                     13792 non-null  float64\n",
      " 56  rougher.state.floatbank10_b_level                   13792 non-null  float64\n",
      " 57  rougher.state.floatbank10_c_air                     13792 non-null  float64\n",
      " 58  rougher.state.floatbank10_c_level                   13792 non-null  float64\n",
      " 59  rougher.state.floatbank10_d_air                     13792 non-null  float64\n",
      " 60  rougher.state.floatbank10_d_level                   13792 non-null  float64\n",
      " 61  rougher.state.floatbank10_e_air                     13792 non-null  float64\n",
      " 62  rougher.state.floatbank10_e_level                   13792 non-null  float64\n",
      " 63  rougher.state.floatbank10_f_air                     13792 non-null  float64\n",
      " 64  rougher.state.floatbank10_f_level                   13792 non-null  float64\n",
      " 65  secondary_cleaner.output.tail_ag                    13792 non-null  float64\n",
      " 66  secondary_cleaner.output.tail_pb                    13792 non-null  float64\n",
      " 67  secondary_cleaner.output.tail_sol                   13792 non-null  float64\n",
      " 68  secondary_cleaner.output.tail_au                    13792 non-null  float64\n",
      " 69  secondary_cleaner.state.floatbank2_a_air            13792 non-null  float64\n",
      " 70  secondary_cleaner.state.floatbank2_a_level          13792 non-null  float64\n",
      " 71  secondary_cleaner.state.floatbank2_b_air            13792 non-null  float64\n",
      " 72  secondary_cleaner.state.floatbank2_b_level          13792 non-null  float64\n",
      " 73  secondary_cleaner.state.floatbank3_a_air            13792 non-null  float64\n",
      " 74  secondary_cleaner.state.floatbank3_a_level          13792 non-null  float64\n",
      " 75  secondary_cleaner.state.floatbank3_b_air            13792 non-null  float64\n",
      " 76  secondary_cleaner.state.floatbank3_b_level          13792 non-null  float64\n",
      " 77  secondary_cleaner.state.floatbank4_a_air            13792 non-null  float64\n",
      " 78  secondary_cleaner.state.floatbank4_a_level          13792 non-null  float64\n",
      " 79  secondary_cleaner.state.floatbank4_b_air            13792 non-null  float64\n",
      " 80  secondary_cleaner.state.floatbank4_b_level          13792 non-null  float64\n",
      " 81  secondary_cleaner.state.floatbank5_a_air            13792 non-null  float64\n",
      " 82  secondary_cleaner.state.floatbank5_a_level          13792 non-null  float64\n",
      " 83  secondary_cleaner.state.floatbank5_b_air            13792 non-null  float64\n",
      " 84  secondary_cleaner.state.floatbank5_b_level          13792 non-null  float64\n",
      " 85  secondary_cleaner.state.floatbank6_a_air            13792 non-null  float64\n",
      " 86  secondary_cleaner.state.floatbank6_a_level          13792 non-null  float64\n",
      "dtypes: float64(86), object(1)\n",
      "memory usage: 9.3+ MB\n"
     ]
    }
   ],
   "source": [
    "train_data.info()"
   ]
  },
  {
   "cell_type": "code",
   "execution_count": 27,
   "metadata": {},
   "outputs": [
    {
     "name": "stdout",
     "output_type": "stream",
     "text": [
      "<class 'pandas.core.frame.DataFrame'>\n",
      "Int64Index: 5290 entries, 0 to 5289\n",
      "Data columns (total 87 columns):\n",
      " #   Column                                              Non-Null Count  Dtype  \n",
      "---  ------                                              --------------  -----  \n",
      " 0   date                                                5290 non-null   object \n",
      " 1   primary_cleaner.input.sulfate                       5290 non-null   float64\n",
      " 2   primary_cleaner.input.depressant                    5290 non-null   float64\n",
      " 3   primary_cleaner.input.feed_size                     5290 non-null   float64\n",
      " 4   primary_cleaner.input.xanthate                      5290 non-null   float64\n",
      " 5   primary_cleaner.state.floatbank8_a_air              5290 non-null   float64\n",
      " 6   primary_cleaner.state.floatbank8_a_level            5290 non-null   float64\n",
      " 7   primary_cleaner.state.floatbank8_b_air              5290 non-null   float64\n",
      " 8   primary_cleaner.state.floatbank8_b_level            5290 non-null   float64\n",
      " 9   primary_cleaner.state.floatbank8_c_air              5290 non-null   float64\n",
      " 10  primary_cleaner.state.floatbank8_c_level            5290 non-null   float64\n",
      " 11  primary_cleaner.state.floatbank8_d_air              5290 non-null   float64\n",
      " 12  primary_cleaner.state.floatbank8_d_level            5290 non-null   float64\n",
      " 13  rougher.input.feed_ag                               5290 non-null   float64\n",
      " 14  rougher.input.feed_pb                               5290 non-null   float64\n",
      " 15  rougher.input.feed_rate                             5290 non-null   float64\n",
      " 16  rougher.input.feed_size                             5290 non-null   float64\n",
      " 17  rougher.input.feed_sol                              5290 non-null   float64\n",
      " 18  rougher.input.feed_au                               5290 non-null   float64\n",
      " 19  rougher.input.floatbank10_sulfate                   5290 non-null   float64\n",
      " 20  rougher.input.floatbank10_xanthate                  5290 non-null   float64\n",
      " 21  rougher.input.floatbank11_sulfate                   5290 non-null   float64\n",
      " 22  rougher.input.floatbank11_xanthate                  5290 non-null   float64\n",
      " 23  rougher.state.floatbank10_a_air                     5290 non-null   float64\n",
      " 24  rougher.state.floatbank10_a_level                   5290 non-null   float64\n",
      " 25  rougher.state.floatbank10_b_air                     5290 non-null   float64\n",
      " 26  rougher.state.floatbank10_b_level                   5290 non-null   float64\n",
      " 27  rougher.state.floatbank10_c_air                     5290 non-null   float64\n",
      " 28  rougher.state.floatbank10_c_level                   5290 non-null   float64\n",
      " 29  rougher.state.floatbank10_d_air                     5290 non-null   float64\n",
      " 30  rougher.state.floatbank10_d_level                   5290 non-null   float64\n",
      " 31  rougher.state.floatbank10_e_air                     5290 non-null   float64\n",
      " 32  rougher.state.floatbank10_e_level                   5290 non-null   float64\n",
      " 33  rougher.state.floatbank10_f_air                     5290 non-null   float64\n",
      " 34  rougher.state.floatbank10_f_level                   5290 non-null   float64\n",
      " 35  secondary_cleaner.state.floatbank2_a_air            5290 non-null   float64\n",
      " 36  secondary_cleaner.state.floatbank2_a_level          5290 non-null   float64\n",
      " 37  secondary_cleaner.state.floatbank2_b_air            5290 non-null   float64\n",
      " 38  secondary_cleaner.state.floatbank2_b_level          5290 non-null   float64\n",
      " 39  secondary_cleaner.state.floatbank3_a_air            5290 non-null   float64\n",
      " 40  secondary_cleaner.state.floatbank3_a_level          5290 non-null   float64\n",
      " 41  secondary_cleaner.state.floatbank3_b_air            5290 non-null   float64\n",
      " 42  secondary_cleaner.state.floatbank3_b_level          5290 non-null   float64\n",
      " 43  secondary_cleaner.state.floatbank4_a_air            5290 non-null   float64\n",
      " 44  secondary_cleaner.state.floatbank4_a_level          5290 non-null   float64\n",
      " 45  secondary_cleaner.state.floatbank4_b_air            5290 non-null   float64\n",
      " 46  secondary_cleaner.state.floatbank4_b_level          5290 non-null   float64\n",
      " 47  secondary_cleaner.state.floatbank5_a_air            5290 non-null   float64\n",
      " 48  secondary_cleaner.state.floatbank5_a_level          5290 non-null   float64\n",
      " 49  secondary_cleaner.state.floatbank5_b_air            5290 non-null   float64\n",
      " 50  secondary_cleaner.state.floatbank5_b_level          5290 non-null   float64\n",
      " 51  secondary_cleaner.state.floatbank6_a_air            5290 non-null   float64\n",
      " 52  secondary_cleaner.state.floatbank6_a_level          5290 non-null   float64\n",
      " 53  final.output.concentrate_ag                         5290 non-null   float64\n",
      " 54  final.output.concentrate_pb                         5290 non-null   float64\n",
      " 55  final.output.concentrate_sol                        5290 non-null   float64\n",
      " 56  final.output.concentrate_au                         5290 non-null   float64\n",
      " 57  final.output.recovery                               5290 non-null   float64\n",
      " 58  final.output.tail_ag                                5290 non-null   float64\n",
      " 59  final.output.tail_pb                                5290 non-null   float64\n",
      " 60  final.output.tail_sol                               5290 non-null   float64\n",
      " 61  final.output.tail_au                                5290 non-null   float64\n",
      " 62  primary_cleaner.output.concentrate_ag               5290 non-null   float64\n",
      " 63  primary_cleaner.output.concentrate_pb               5290 non-null   float64\n",
      " 64  primary_cleaner.output.concentrate_sol              5290 non-null   float64\n",
      " 65  primary_cleaner.output.concentrate_au               5290 non-null   float64\n",
      " 66  primary_cleaner.output.tail_ag                      5290 non-null   float64\n",
      " 67  primary_cleaner.output.tail_pb                      5290 non-null   float64\n",
      " 68  primary_cleaner.output.tail_sol                     5290 non-null   float64\n",
      " 69  primary_cleaner.output.tail_au                      5290 non-null   float64\n",
      " 70  rougher.calculation.sulfate_to_au_concentrate       5290 non-null   float64\n",
      " 71  rougher.calculation.floatbank10_sulfate_to_au_feed  5290 non-null   float64\n",
      " 72  rougher.calculation.floatbank11_sulfate_to_au_feed  5290 non-null   float64\n",
      " 73  rougher.calculation.au_pb_ratio                     5290 non-null   float64\n",
      " 74  rougher.output.concentrate_ag                       5290 non-null   float64\n",
      " 75  rougher.output.concentrate_pb                       5290 non-null   float64\n",
      " 76  rougher.output.concentrate_sol                      5290 non-null   float64\n",
      " 77  rougher.output.concentrate_au                       5290 non-null   float64\n",
      " 78  rougher.output.recovery                             5290 non-null   float64\n",
      " 79  rougher.output.tail_ag                              5290 non-null   float64\n",
      " 80  rougher.output.tail_pb                              5290 non-null   float64\n",
      " 81  rougher.output.tail_sol                             5290 non-null   float64\n",
      " 82  rougher.output.tail_au                              5290 non-null   float64\n",
      " 83  secondary_cleaner.output.tail_ag                    5290 non-null   float64\n",
      " 84  secondary_cleaner.output.tail_pb                    5290 non-null   float64\n",
      " 85  secondary_cleaner.output.tail_sol                   5290 non-null   float64\n",
      " 86  secondary_cleaner.output.tail_au                    5290 non-null   float64\n",
      "dtypes: float64(86), object(1)\n",
      "memory usage: 3.6+ MB\n"
     ]
    }
   ],
   "source": [
    "test_data.info()"
   ]
  },
  {
   "cell_type": "markdown",
   "metadata": {},
   "source": [
    "## Модель"
   ]
  },
  {
   "cell_type": "markdown",
   "metadata": {},
   "source": [
    "###  Напишите функцию для вычисления итоговой sMAPE."
   ]
  },
  {
   "cell_type": "code",
   "execution_count": 28,
   "metadata": {},
   "outputs": [],
   "source": [
    "def sMAPE(y_true,y_pred):\n",
    "    error = np.mean(abs(y_true - y_pred)/((abs(y_true)+abs(y_pred))/2))*100\n",
    "    return error\n",
    "\n",
    "\n",
    "def total_sMAPE(rougher_smape, final_smape):\n",
    "    return 0.25 * rougher_smape + 0.75 * final_smape\n",
    "\n",
    "\n",
    "sMAPE_score = make_scorer(sMAPE,greater_is_better=False)"
   ]
  },
  {
   "cell_type": "markdown",
   "metadata": {},
   "source": [
    "### Обучите разные модели и оцените их качество кросс-валидацией. Выберите лучшую модель и проверьте её на тестовой выборке. Опишите выводы."
   ]
  },
  {
   "cell_type": "markdown",
   "metadata": {},
   "source": [
    "Масшитабирование"
   ]
  },
  {
   "cell_type": "code",
   "execution_count": 29,
   "metadata": {
    "scrolled": false
   },
   "outputs": [],
   "source": [
    "scaler = StandardScaler()\n",
    "features_columns = col_test[(col_test != 'date')]"
   ]
  },
  {
   "cell_type": "code",
   "execution_count": 30,
   "metadata": {},
   "outputs": [
    {
     "data": {
      "text/plain": [
       "52"
      ]
     },
     "execution_count": 30,
     "metadata": {},
     "output_type": "execute_result"
    }
   ],
   "source": [
    "len(features_columns)"
   ]
  },
  {
   "cell_type": "code",
   "execution_count": 31,
   "metadata": {},
   "outputs": [],
   "source": [
    "features_train = train_data[features_columns]\n",
    "target_train_f_recovery = train_data['final.output.recovery']\n",
    "target_train_r_recovery = train_data['rougher.output.recovery']\n",
    "\n",
    "features_test = test_data[features_columns]\n",
    "target_test_f_recovery = test_data['final.output.recovery']\n",
    "target_test_r_recovery = test_data['rougher.output.recovery']"
   ]
  },
  {
   "cell_type": "code",
   "execution_count": 32,
   "metadata": {},
   "outputs": [
    {
     "name": "stderr",
     "output_type": "stream",
     "text": [
      "/tmp/ipykernel_63/761387425.py:2: SettingWithCopyWarning: \n",
      "A value is trying to be set on a copy of a slice from a DataFrame.\n",
      "Try using .loc[row_indexer,col_indexer] = value instead\n",
      "\n",
      "See the caveats in the documentation: https://pandas.pydata.org/pandas-docs/stable/user_guide/indexing.html#returning-a-view-versus-a-copy\n",
      "  features_train[features_columns] = scaler.transform(features_train[features_columns])\n",
      "/opt/conda/lib/python3.9/site-packages/pandas/core/indexing.py:1637: SettingWithCopyWarning: \n",
      "A value is trying to be set on a copy of a slice from a DataFrame\n",
      "\n",
      "See the caveats in the documentation: https://pandas.pydata.org/pandas-docs/stable/user_guide/indexing.html#returning-a-view-versus-a-copy\n",
      "  self._setitem_single_block(indexer, value, name)\n",
      "/opt/conda/lib/python3.9/site-packages/pandas/core/indexing.py:692: SettingWithCopyWarning: \n",
      "A value is trying to be set on a copy of a slice from a DataFrame\n",
      "\n",
      "See the caveats in the documentation: https://pandas.pydata.org/pandas-docs/stable/user_guide/indexing.html#returning-a-view-versus-a-copy\n",
      "  iloc._setitem_with_indexer(indexer, value, self.name)\n",
      "/tmp/ipykernel_63/761387425.py:3: SettingWithCopyWarning: \n",
      "A value is trying to be set on a copy of a slice from a DataFrame.\n",
      "Try using .loc[row_indexer,col_indexer] = value instead\n",
      "\n",
      "See the caveats in the documentation: https://pandas.pydata.org/pandas-docs/stable/user_guide/indexing.html#returning-a-view-versus-a-copy\n",
      "  features_test[features_columns] = scaler.transform(features_test[features_columns])\n",
      "/opt/conda/lib/python3.9/site-packages/pandas/core/indexing.py:1637: SettingWithCopyWarning: \n",
      "A value is trying to be set on a copy of a slice from a DataFrame\n",
      "\n",
      "See the caveats in the documentation: https://pandas.pydata.org/pandas-docs/stable/user_guide/indexing.html#returning-a-view-versus-a-copy\n",
      "  self._setitem_single_block(indexer, value, name)\n",
      "/opt/conda/lib/python3.9/site-packages/pandas/core/indexing.py:692: SettingWithCopyWarning: \n",
      "A value is trying to be set on a copy of a slice from a DataFrame\n",
      "\n",
      "See the caveats in the documentation: https://pandas.pydata.org/pandas-docs/stable/user_guide/indexing.html#returning-a-view-versus-a-copy\n",
      "  iloc._setitem_with_indexer(indexer, value, self.name)\n"
     ]
    }
   ],
   "source": [
    "scaler.fit(features_train)\n",
    "features_train[features_columns] = scaler.transform(features_train[features_columns])\n",
    "features_test[features_columns] = scaler.transform(features_test[features_columns])"
   ]
  },
  {
   "cell_type": "markdown",
   "metadata": {},
   "source": [
    "Модели"
   ]
  },
  {
   "cell_type": "markdown",
   "metadata": {},
   "source": [
    "LinearRegression()"
   ]
  },
  {
   "cell_type": "code",
   "execution_count": 128,
   "metadata": {
    "scrolled": true
   },
   "outputs": [
    {
     "name": "stdout",
     "output_type": "stream",
     "text": [
      "-7.272530148921712 -10.98817187500314\n",
      "Итоговой sMAPE: -10.059261443482782\n"
     ]
    }
   ],
   "source": [
    "sMAPE_rougher = np.mean(cross_val_score(LinearRegression(), features_train, \n",
    "                                        target_train_r_recovery, scoring=sMAPE_score, \n",
    "                                        cv=5))\n",
    "sMAPE_final= np.mean(cross_val_score(LinearRegression(), features_train, \n",
    "                                      target_train_f_recovery, scoring=sMAPE_score, \n",
    "                                      cv=5))\n",
    "print(sMAPE_rougher, sMAPE_final)\n",
    "print('Итоговой sMAPE:',total_sMAPE(sMAPE_rougher, sMAPE_final))"
   ]
  },
  {
   "cell_type": "markdown",
   "metadata": {},
   "source": [
    "DecisionTreeRegressor()"
   ]
  },
  {
   "cell_type": "code",
   "execution_count": 129,
   "metadata": {
    "scrolled": true
   },
   "outputs": [
    {
     "name": "stdout",
     "output_type": "stream",
     "text": [
      "-7.355656304525764 -9.449161834532678\n",
      "Итоговый sMAPE: -8.925785452030949\n"
     ]
    }
   ],
   "source": [
    "sMAPE_rougher = np.mean(cross_val_score(DecisionTreeRegressor(max_depth=3, random_state=12345), \n",
    "                                        features_train, target_train_r_recovery, scoring=sMAPE_score, \n",
    "                                        cv=5))\n",
    "sMAPE_final = np.mean(cross_val_score(DecisionTreeRegressor(max_depth=3, random_state=12345), \n",
    "                                      features_train, target_train_f_recovery, scoring=sMAPE_score,\n",
    "                                      cv=5))\n",
    "print(sMAPE_rougher, sMAPE_final)\n",
    "print('Итоговый sMAPE:', total_sMAPE(sMAPE_rougher, sMAPE_final))"
   ]
  },
  {
   "cell_type": "markdown",
   "metadata": {},
   "source": [
    "RandomForestRegressor()"
   ]
  },
  {
   "cell_type": "code",
   "execution_count": 130,
   "metadata": {},
   "outputs": [],
   "source": [
    "param_grid = { \n",
    "    'n_estimators': [1,5,7,11,15],\n",
    "    'max_depth' : [4,5,6,7,8]\n",
    "}"
   ]
  },
  {
   "cell_type": "code",
   "execution_count": 131,
   "metadata": {},
   "outputs": [],
   "source": [
    "model = RandomForestRegressor(random_state = 12345)"
   ]
  },
  {
   "cell_type": "code",
   "execution_count": 132,
   "metadata": {},
   "outputs": [
    {
     "data": {
      "text/plain": [
       "GridSearchCV(cv=5, estimator=RandomForestRegressor(random_state=12345),\n",
       "             param_grid={'max_depth': [4, 5, 6, 7, 8],\n",
       "                         'n_estimators': [1, 5, 7, 11, 15]},\n",
       "             scoring=make_scorer(sMAPE, greater_is_better=False))"
      ]
     },
     "execution_count": 132,
     "metadata": {},
     "output_type": "execute_result"
    }
   ],
   "source": [
    "CV_rfc = GridSearchCV(estimator=model, param_grid=param_grid, cv= 5,scoring=sMAPE_score)\n",
    "CV_rfc.fit(features_train, target_train_f_recovery)"
   ]
  },
  {
   "cell_type": "code",
   "execution_count": 133,
   "metadata": {},
   "outputs": [
    {
     "data": {
      "text/plain": [
       "{'max_depth': 4, 'n_estimators': 11}"
      ]
     },
     "execution_count": 133,
     "metadata": {},
     "output_type": "execute_result"
    }
   ],
   "source": [
    "CV_rfc.best_params_"
   ]
  },
  {
   "cell_type": "code",
   "execution_count": 134,
   "metadata": {},
   "outputs": [
    {
     "data": {
      "text/plain": [
       "-9.124811273185639"
      ]
     },
     "execution_count": 134,
     "metadata": {},
     "output_type": "execute_result"
    }
   ],
   "source": [
    "CV_rfc.best_score_"
   ]
  },
  {
   "cell_type": "code",
   "execution_count": 135,
   "metadata": {},
   "outputs": [
    {
     "data": {
      "text/plain": [
       "GridSearchCV(cv=5, estimator=RandomForestRegressor(random_state=12345),\n",
       "             param_grid={'max_depth': [4, 5, 6, 7, 8],\n",
       "                         'n_estimators': [1, 5, 7, 11, 15]},\n",
       "             scoring=make_scorer(sMAPE, greater_is_better=False))"
      ]
     },
     "execution_count": 135,
     "metadata": {},
     "output_type": "execute_result"
    }
   ],
   "source": [
    "CV_rfc = GridSearchCV(estimator=model, param_grid=param_grid, cv= 5,scoring=sMAPE_score)\n",
    "CV_rfc.fit(features_train, target_train_r_recovery)"
   ]
  },
  {
   "cell_type": "code",
   "execution_count": 136,
   "metadata": {},
   "outputs": [
    {
     "data": {
      "text/plain": [
       "{'max_depth': 5, 'n_estimators': 11}"
      ]
     },
     "execution_count": 136,
     "metadata": {},
     "output_type": "execute_result"
    }
   ],
   "source": [
    "CV_rfc.best_params_"
   ]
  },
  {
   "cell_type": "code",
   "execution_count": 137,
   "metadata": {},
   "outputs": [
    {
     "data": {
      "text/plain": [
       "-6.643640342956003"
      ]
     },
     "execution_count": 137,
     "metadata": {},
     "output_type": "execute_result"
    }
   ],
   "source": [
    "CV_rfc.best_score_"
   ]
  },
  {
   "cell_type": "code",
   "execution_count": 144,
   "metadata": {
    "scrolled": true
   },
   "outputs": [
    {
     "name": "stdout",
     "output_type": "stream",
     "text": [
      "-6.643640342956003 -9.124811273185639\n",
      "Итоговый sMAPE: -8.50451854062823\n"
     ]
    }
   ],
   "source": [
    "sMAPE_rougher = np.mean(cross_val_score(RandomForestRegressor(max_depth=5, n_estimators=11, random_state=12345), \n",
    "                                        features_train, target_train_r_recovery, scoring=sMAPE_score, cv=5))\n",
    "sMAPE_final = np.mean(cross_val_score(RandomForestRegressor(max_depth=4, n_estimators=11, random_state=12345), \n",
    "                                      features_train, target_train_f_recovery, scoring=sMAPE_score, cv=5))\n",
    "print(sMAPE_rougher, sMAPE_final)\n",
    "print('Итоговый sMAPE:', total_sMAPE(sMAPE_rougher, sMAPE_final))"
   ]
  },
  {
   "cell_type": "markdown",
   "metadata": {},
   "source": [
    "Проверка на тестовой выборке"
   ]
  },
  {
   "cell_type": "code",
   "execution_count": 33,
   "metadata": {},
   "outputs": [
    {
     "name": "stdout",
     "output_type": "stream",
     "text": [
      "Итоговое sMAPE: 9.62582072568787\n"
     ]
    }
   ],
   "source": [
    "model = RandomForestRegressor(max_depth=5, n_estimators=11, random_state=12345)\n",
    "model.fit(features_train, target_train_r_recovery)\n",
    "predicted = model.predict(features_test)\n",
    "sMAPE_rought = sMAPE(target_test_r_recovery, predicted)\n",
    "\n",
    "model = RandomForestRegressor(max_depth=4, n_estimators=11, random_state=12345)\n",
    "model.fit(features_train, target_train_f_recovery)\n",
    "predicted = model.predict(features_test)\n",
    "sMAPE_final = sMAPE(target_test_f_recovery, predicted)\n",
    "\n",
    "print('Итоговое sMAPE:', total_sMAPE(sMAPE_rought, sMAPE_final))"
   ]
  },
  {
   "cell_type": "code",
   "execution_count": 34,
   "metadata": {},
   "outputs": [],
   "source": [
    "base_r = DummyRegressor()\n",
    "base_f = DummyRegressor()"
   ]
  },
  {
   "cell_type": "code",
   "execution_count": 35,
   "metadata": {},
   "outputs": [
    {
     "data": {
      "text/plain": [
       "DummyRegressor()"
      ]
     },
     "execution_count": 35,
     "metadata": {},
     "output_type": "execute_result"
    }
   ],
   "source": [
    "base_r.fit(features_train,target_train_r_recovery)\n",
    "base_f.fit(features_train,target_train_f_recovery)"
   ]
  },
  {
   "cell_type": "code",
   "execution_count": 36,
   "metadata": {},
   "outputs": [],
   "source": [
    "base_r_pred = base_r.predict(features_test)\n",
    "base_f_pred = base_f.predict(features_test)"
   ]
  },
  {
   "cell_type": "code",
   "execution_count": 37,
   "metadata": {
    "scrolled": false
   },
   "outputs": [
    {
     "name": "stdout",
     "output_type": "stream",
     "text": [
      "Итоговое sMAPE: 9.821468391820268\n"
     ]
    }
   ],
   "source": [
    "sMAPE_rought = sMAPE(target_test_r_recovery, base_r_pred)\n",
    "sMAPE_final = sMAPE(target_test_f_recovery, base_f_pred)\n",
    "print('Итоговое sMAPE:', total_sMAPE(sMAPE_rought, sMAPE_final))"
   ]
  },
  {
   "cell_type": "markdown",
   "metadata": {},
   "source": [
    "Вывод: были рассмотрены три модели, минимальное значение sMape на тестовой выборке показала модель RandomForestRegressor."
   ]
  },
  {
   "cell_type": "markdown",
   "metadata": {},
   "source": [
    "Общий вывод: \n",
    "\n",
    "1. Было загружен 3 датасета, проверена корректность расчёта эффективности обогащения и проанализированы признаки, недоступные в тестовой выборке. \n",
    "2. Проанализированны данные, рассмотрено как меняется концентрация металлов (Au, Ag, Pb) на различных этапах очистки, было проведено сравнение распределений размеров гранул сырья на обучающей и тестовой выборках, исследована суммарная концентрация всех веществ на разных стадиях: в сырье, в черновом и финальном концентратах. \n",
    "3. Построены 3 модели, лучшие результаты показала модель случайного леса, написаны функции для вычисления итоговой sMAPE, обучены разные модели и оценены их качество кросс-валидацией. Провелось сравнение с константной моделью."
   ]
  }
 ],
 "metadata": {
  "ExecuteTimeLog": [
   {
    "duration": 381,
    "start_time": "2023-02-03T19:00:38.924Z"
   },
   {
    "duration": 95,
    "start_time": "2023-02-03T19:01:04.919Z"
   },
   {
    "duration": 3,
    "start_time": "2023-02-03T19:01:13.084Z"
   },
   {
    "duration": 32,
    "start_time": "2023-02-03T19:01:14.044Z"
   },
   {
    "duration": 7,
    "start_time": "2023-02-03T19:01:35.324Z"
   },
   {
    "duration": 48,
    "start_time": "2023-02-03T19:01:39.044Z"
   },
   {
    "duration": 44,
    "start_time": "2023-02-03T19:01:41.765Z"
   },
   {
    "duration": 1167,
    "start_time": "2023-02-03T19:01:45.380Z"
   },
   {
    "duration": 33,
    "start_time": "2023-02-03T19:01:51.973Z"
   },
   {
    "duration": 302,
    "start_time": "2023-02-03T19:02:47.296Z"
   },
   {
    "duration": 960,
    "start_time": "2023-02-03T19:02:53.436Z"
   },
   {
    "duration": 28,
    "start_time": "2023-02-03T19:02:57.564Z"
   },
   {
    "duration": 24,
    "start_time": "2023-02-03T19:03:33.732Z"
   },
   {
    "duration": 243,
    "start_time": "2023-02-03T19:04:43.796Z"
   },
   {
    "duration": 266,
    "start_time": "2023-02-03T19:04:57.045Z"
   },
   {
    "duration": 124,
    "start_time": "2023-02-03T19:05:02.589Z"
   },
   {
    "duration": 245,
    "start_time": "2023-02-03T19:05:10.525Z"
   },
   {
    "duration": 257,
    "start_time": "2023-02-03T19:05:37.341Z"
   },
   {
    "duration": 229,
    "start_time": "2023-02-03T19:06:19.048Z"
   },
   {
    "duration": 264,
    "start_time": "2023-02-03T19:06:23.661Z"
   },
   {
    "duration": 233,
    "start_time": "2023-02-03T19:06:34.253Z"
   },
   {
    "duration": 277,
    "start_time": "2023-02-03T19:06:45.219Z"
   },
   {
    "duration": 265,
    "start_time": "2023-02-03T19:06:49.077Z"
   },
   {
    "duration": 260,
    "start_time": "2023-02-03T19:06:52.693Z"
   },
   {
    "duration": 228,
    "start_time": "2023-02-03T19:06:58.549Z"
   },
   {
    "duration": 259,
    "start_time": "2023-02-03T19:08:27.686Z"
   },
   {
    "duration": 28,
    "start_time": "2023-02-03T19:10:30.149Z"
   },
   {
    "duration": 42,
    "start_time": "2023-02-04T09:44:45.435Z"
   },
   {
    "duration": 399,
    "start_time": "2023-02-04T09:44:48.475Z"
   },
   {
    "duration": 3064,
    "start_time": "2023-02-04T09:44:48.876Z"
   },
   {
    "duration": 37,
    "start_time": "2023-02-04T09:44:51.942Z"
   },
   {
    "duration": 32,
    "start_time": "2023-02-04T09:52:36.292Z"
   },
   {
    "duration": 4,
    "start_time": "2023-02-04T09:53:05.391Z"
   },
   {
    "duration": 26,
    "start_time": "2023-02-04T09:53:09.960Z"
   },
   {
    "duration": 4,
    "start_time": "2023-02-04T09:53:12.080Z"
   },
   {
    "duration": 3,
    "start_time": "2023-02-04T09:53:18.964Z"
   },
   {
    "duration": 4,
    "start_time": "2023-02-04T09:53:21.875Z"
   },
   {
    "duration": 9,
    "start_time": "2023-02-04T09:53:41.817Z"
   },
   {
    "duration": 3,
    "start_time": "2023-02-04T09:53:49.116Z"
   },
   {
    "duration": 8,
    "start_time": "2023-02-04T09:53:56.857Z"
   },
   {
    "duration": 9,
    "start_time": "2023-02-04T09:54:55.514Z"
   },
   {
    "duration": 6,
    "start_time": "2023-02-04T09:55:33.868Z"
   },
   {
    "duration": 1175,
    "start_time": "2023-02-04T09:57:35.728Z"
   },
   {
    "duration": 14,
    "start_time": "2023-02-04T09:57:51.928Z"
   },
   {
    "duration": 1192,
    "start_time": "2023-02-04T09:58:12.060Z"
   },
   {
    "duration": 11,
    "start_time": "2023-02-04T09:58:29.216Z"
   },
   {
    "duration": 8,
    "start_time": "2023-02-04T09:58:35.172Z"
   },
   {
    "duration": 1190,
    "start_time": "2023-02-04T09:59:07.464Z"
   },
   {
    "duration": 12,
    "start_time": "2023-02-04T09:59:20.329Z"
   },
   {
    "duration": 13,
    "start_time": "2023-02-04T09:59:52.111Z"
   },
   {
    "duration": 1243,
    "start_time": "2023-02-04T10:00:45.089Z"
   },
   {
    "duration": 11,
    "start_time": "2023-02-04T10:00:50.959Z"
   },
   {
    "duration": 1181,
    "start_time": "2023-02-04T10:00:58.562Z"
   },
   {
    "duration": 14,
    "start_time": "2023-02-04T10:01:17.654Z"
   },
   {
    "duration": 9,
    "start_time": "2023-02-04T10:01:26.063Z"
   },
   {
    "duration": 16,
    "start_time": "2023-02-04T10:01:31.757Z"
   },
   {
    "duration": 322,
    "start_time": "2023-02-04T10:01:43.957Z"
   },
   {
    "duration": 14,
    "start_time": "2023-02-04T10:01:56.321Z"
   },
   {
    "duration": 331,
    "start_time": "2023-02-04T10:02:20.025Z"
   },
   {
    "duration": 18,
    "start_time": "2023-02-04T10:02:23.225Z"
   },
   {
    "duration": 72,
    "start_time": "2023-02-04T10:03:29.965Z"
   },
   {
    "duration": 3,
    "start_time": "2023-02-04T10:03:46.257Z"
   },
   {
    "duration": 630,
    "start_time": "2023-02-04T10:03:46.453Z"
   },
   {
    "duration": 45,
    "start_time": "2023-02-04T10:03:47.085Z"
   },
   {
    "duration": 349,
    "start_time": "2023-02-04T10:03:47.131Z"
   },
   {
    "duration": 17,
    "start_time": "2023-02-04T10:03:47.737Z"
   },
   {
    "duration": 248,
    "start_time": "2023-02-04T10:04:57.816Z"
   },
   {
    "duration": 2,
    "start_time": "2023-02-04T10:05:05.193Z"
   },
   {
    "duration": 667,
    "start_time": "2023-02-04T10:05:05.385Z"
   },
   {
    "duration": 256,
    "start_time": "2023-02-04T10:05:06.053Z"
   },
   {
    "duration": 224,
    "start_time": "2023-02-04T10:05:14.441Z"
   },
   {
    "duration": 230,
    "start_time": "2023-02-04T10:05:31.570Z"
   },
   {
    "duration": 2,
    "start_time": "2023-02-04T10:09:12.755Z"
   },
   {
    "duration": 8,
    "start_time": "2023-02-04T10:29:10.577Z"
   },
   {
    "duration": 637,
    "start_time": "2023-02-04T10:29:56.562Z"
   },
   {
    "duration": 44,
    "start_time": "2023-02-04T10:31:05.225Z"
   },
   {
    "duration": 7,
    "start_time": "2023-02-04T10:31:11.917Z"
   },
   {
    "duration": 4,
    "start_time": "2023-02-04T10:31:15.118Z"
   },
   {
    "duration": 17,
    "start_time": "2023-02-04T10:31:15.409Z"
   },
   {
    "duration": 3,
    "start_time": "2023-02-04T10:34:58.563Z"
   },
   {
    "duration": 10,
    "start_time": "2023-02-04T10:35:14.787Z"
   },
   {
    "duration": 2215,
    "start_time": "2023-02-04T10:35:29.763Z"
   },
   {
    "duration": 3,
    "start_time": "2023-02-04T10:35:34.765Z"
   },
   {
    "duration": 17,
    "start_time": "2023-02-04T10:35:35.522Z"
   },
   {
    "duration": 17,
    "start_time": "2023-02-04T10:35:50.779Z"
   },
   {
    "duration": 2088,
    "start_time": "2023-02-04T10:37:22.891Z"
   },
   {
    "duration": 3,
    "start_time": "2023-02-04T10:37:36.588Z"
   },
   {
    "duration": 2164,
    "start_time": "2023-02-04T10:37:36.875Z"
   },
   {
    "duration": 18,
    "start_time": "2023-02-04T10:37:44.589Z"
   },
   {
    "duration": 2,
    "start_time": "2023-02-04T10:37:58.232Z"
   },
   {
    "duration": 636,
    "start_time": "2023-02-04T10:37:58.419Z"
   },
   {
    "duration": 255,
    "start_time": "2023-02-04T10:37:59.057Z"
   },
   {
    "duration": 325,
    "start_time": "2023-02-04T10:37:59.314Z"
   },
   {
    "duration": 19,
    "start_time": "2023-02-04T10:38:00.116Z"
   },
   {
    "duration": 2,
    "start_time": "2023-02-04T10:38:00.568Z"
   },
   {
    "duration": 2147,
    "start_time": "2023-02-04T10:38:00.724Z"
   },
   {
    "duration": 19,
    "start_time": "2023-02-04T10:38:02.874Z"
   },
   {
    "duration": 4,
    "start_time": "2023-02-04T10:38:02.895Z"
   },
   {
    "duration": 24,
    "start_time": "2023-02-04T10:38:44.283Z"
   },
   {
    "duration": 9,
    "start_time": "2023-02-04T10:38:50.779Z"
   },
   {
    "duration": 3,
    "start_time": "2023-02-04T10:40:28.423Z"
   },
   {
    "duration": 44,
    "start_time": "2023-02-04T10:40:29.029Z"
   },
   {
    "duration": 5,
    "start_time": "2023-02-04T10:40:51.268Z"
   },
   {
    "duration": 5,
    "start_time": "2023-02-04T10:40:55.588Z"
   },
   {
    "duration": 48,
    "start_time": "2023-02-04T10:41:00.036Z"
   },
   {
    "duration": 3,
    "start_time": "2023-02-04T10:41:47.341Z"
   },
   {
    "duration": 673,
    "start_time": "2023-02-04T10:41:49.933Z"
   },
   {
    "duration": 665,
    "start_time": "2023-02-04T10:42:05.261Z"
   },
   {
    "duration": 4,
    "start_time": "2023-02-04T10:42:22.036Z"
   },
   {
    "duration": 681,
    "start_time": "2023-02-04T10:42:22.965Z"
   },
   {
    "duration": 15,
    "start_time": "2023-02-04T10:42:30.073Z"
   },
   {
    "duration": 17,
    "start_time": "2023-02-04T10:43:13.977Z"
   },
   {
    "duration": 16,
    "start_time": "2023-02-04T10:43:34.317Z"
   },
   {
    "duration": 20,
    "start_time": "2023-02-04T10:43:39.217Z"
   },
   {
    "duration": 13,
    "start_time": "2023-02-04T10:43:58.861Z"
   },
   {
    "duration": 1065,
    "start_time": "2023-02-04T16:35:26.554Z"
   },
   {
    "duration": 3098,
    "start_time": "2023-02-04T16:35:27.621Z"
   },
   {
    "duration": 266,
    "start_time": "2023-02-04T16:35:30.720Z"
   },
   {
    "duration": 371,
    "start_time": "2023-02-04T16:35:30.992Z"
   },
   {
    "duration": 18,
    "start_time": "2023-02-04T16:35:31.364Z"
   },
   {
    "duration": 88,
    "start_time": "2023-02-04T16:37:39.549Z"
   },
   {
    "duration": 11,
    "start_time": "2023-02-04T16:37:49.449Z"
   },
   {
    "duration": 7,
    "start_time": "2023-02-04T16:37:56.478Z"
   },
   {
    "duration": 32,
    "start_time": "2023-02-04T16:38:10.978Z"
   },
   {
    "duration": 8,
    "start_time": "2023-02-04T16:38:41.357Z"
   },
   {
    "duration": 12,
    "start_time": "2023-02-04T16:38:59.048Z"
   },
   {
    "duration": 12,
    "start_time": "2023-02-04T16:39:06.928Z"
   },
   {
    "duration": 3,
    "start_time": "2023-02-04T16:40:30.007Z"
   },
   {
    "duration": 27,
    "start_time": "2023-02-04T16:40:44.251Z"
   },
   {
    "duration": 3,
    "start_time": "2023-02-04T16:40:48.856Z"
   },
   {
    "duration": 24,
    "start_time": "2023-02-04T16:40:49.059Z"
   },
   {
    "duration": 3,
    "start_time": "2023-02-04T16:41:33.338Z"
   },
   {
    "duration": 3,
    "start_time": "2023-02-04T16:41:39.773Z"
   },
   {
    "duration": 79,
    "start_time": "2023-02-04T16:41:54.034Z"
   },
   {
    "duration": 14,
    "start_time": "2023-02-04T16:42:15.210Z"
   },
   {
    "duration": 9,
    "start_time": "2023-02-04T16:42:40.927Z"
   },
   {
    "duration": 6,
    "start_time": "2023-02-04T16:43:15.553Z"
   },
   {
    "duration": 9,
    "start_time": "2023-02-04T16:43:20.144Z"
   },
   {
    "duration": 5,
    "start_time": "2023-02-04T16:43:31.282Z"
   },
   {
    "duration": 4,
    "start_time": "2023-02-04T16:45:15.072Z"
   },
   {
    "duration": 247,
    "start_time": "2023-02-04T16:45:31.858Z"
   },
   {
    "duration": 9,
    "start_time": "2023-02-04T16:45:49.180Z"
   },
   {
    "duration": 3,
    "start_time": "2023-02-04T16:47:22.742Z"
   },
   {
    "duration": 709,
    "start_time": "2023-02-04T16:47:22.985Z"
   },
   {
    "duration": 275,
    "start_time": "2023-02-04T16:47:23.697Z"
   },
   {
    "duration": 340,
    "start_time": "2023-02-04T16:47:23.974Z"
   },
   {
    "duration": 17,
    "start_time": "2023-02-04T16:47:24.316Z"
   },
   {
    "duration": 3,
    "start_time": "2023-02-04T16:47:25.358Z"
   },
   {
    "duration": 610,
    "start_time": "2023-02-04T16:47:26.481Z"
   },
   {
    "duration": 9,
    "start_time": "2023-02-04T16:47:28.025Z"
   },
   {
    "duration": 10,
    "start_time": "2023-02-04T16:47:35.326Z"
   },
   {
    "duration": 3,
    "start_time": "2023-02-04T16:48:09.111Z"
   },
   {
    "duration": 8,
    "start_time": "2023-02-04T16:48:12.358Z"
   },
   {
    "duration": 6,
    "start_time": "2023-02-04T16:48:44.839Z"
   },
   {
    "duration": 3,
    "start_time": "2023-02-04T16:52:21.660Z"
   },
   {
    "duration": 8,
    "start_time": "2023-02-04T16:52:21.966Z"
   },
   {
    "duration": 3,
    "start_time": "2023-02-04T16:54:39.463Z"
   },
   {
    "duration": 6,
    "start_time": "2023-02-04T16:54:39.669Z"
   },
   {
    "duration": 1096,
    "start_time": "2023-02-05T09:20:46.445Z"
   },
   {
    "duration": 1982,
    "start_time": "2023-02-05T09:20:47.543Z"
   },
   {
    "duration": 294,
    "start_time": "2023-02-05T09:20:49.527Z"
   },
   {
    "duration": 387,
    "start_time": "2023-02-05T09:20:49.823Z"
   },
   {
    "duration": 31,
    "start_time": "2023-02-05T09:20:50.212Z"
   },
   {
    "duration": 4,
    "start_time": "2023-02-05T09:20:50.245Z"
   },
   {
    "duration": 638,
    "start_time": "2023-02-05T09:20:50.250Z"
   },
   {
    "duration": 4,
    "start_time": "2023-02-05T09:20:50.890Z"
   },
   {
    "duration": 8,
    "start_time": "2023-02-05T09:20:50.957Z"
   },
   {
    "duration": 878,
    "start_time": "2023-02-05T09:27:02.874Z"
   },
   {
    "duration": 13,
    "start_time": "2023-02-05T09:27:45.171Z"
   },
   {
    "duration": 5,
    "start_time": "2023-02-05T09:28:11.201Z"
   },
   {
    "duration": 7,
    "start_time": "2023-02-05T09:31:33.249Z"
   },
   {
    "duration": 5,
    "start_time": "2023-02-05T09:42:26.836Z"
   },
   {
    "duration": 11,
    "start_time": "2023-02-05T09:43:17.091Z"
   },
   {
    "duration": 5,
    "start_time": "2023-02-05T09:43:31.614Z"
   },
   {
    "duration": 8,
    "start_time": "2023-02-05T09:46:16.924Z"
   },
   {
    "duration": 7,
    "start_time": "2023-02-05T09:47:17.911Z"
   },
   {
    "duration": 456,
    "start_time": "2023-02-05T09:47:58.306Z"
   },
   {
    "duration": 24,
    "start_time": "2023-02-05T09:48:19.439Z"
   },
   {
    "duration": 149,
    "start_time": "2023-02-05T09:48:27.913Z"
   },
   {
    "duration": 125,
    "start_time": "2023-02-05T09:48:36.129Z"
   },
   {
    "duration": 169,
    "start_time": "2023-02-05T09:48:41.884Z"
   },
   {
    "duration": 153,
    "start_time": "2023-02-05T09:49:18.856Z"
   },
   {
    "duration": 144,
    "start_time": "2023-02-05T09:50:10.360Z"
   },
   {
    "duration": 149,
    "start_time": "2023-02-05T09:50:14.212Z"
   },
   {
    "duration": 1597,
    "start_time": "2023-02-05T18:31:33.446Z"
   },
   {
    "duration": 2221,
    "start_time": "2023-02-05T18:31:35.046Z"
   },
   {
    "duration": 299,
    "start_time": "2023-02-05T18:31:37.269Z"
   },
   {
    "duration": 429,
    "start_time": "2023-02-05T18:31:37.572Z"
   },
   {
    "duration": 40,
    "start_time": "2023-02-05T18:31:38.002Z"
   },
   {
    "duration": 4,
    "start_time": "2023-02-05T18:31:38.043Z"
   },
   {
    "duration": 638,
    "start_time": "2023-02-05T18:31:38.049Z"
   },
   {
    "duration": 3,
    "start_time": "2023-02-05T18:31:38.688Z"
   },
   {
    "duration": 16,
    "start_time": "2023-02-05T18:31:38.693Z"
   },
   {
    "duration": 117,
    "start_time": "2023-02-05T18:33:55.644Z"
   },
   {
    "duration": 9,
    "start_time": "2023-02-05T18:33:55.896Z"
   },
   {
    "duration": 13,
    "start_time": "2023-02-05T18:34:08.704Z"
   },
   {
    "duration": 6,
    "start_time": "2023-02-05T18:34:28.804Z"
   },
   {
    "duration": 166,
    "start_time": "2023-02-05T18:34:29.087Z"
   },
   {
    "duration": 6,
    "start_time": "2023-02-05T18:39:14.235Z"
   },
   {
    "duration": 11,
    "start_time": "2023-02-05T18:39:19.732Z"
   },
   {
    "duration": 20,
    "start_time": "2023-02-05T18:39:28.242Z"
   },
   {
    "duration": 5,
    "start_time": "2023-02-05T18:40:07.248Z"
   },
   {
    "duration": 8,
    "start_time": "2023-02-05T18:40:15.425Z"
   },
   {
    "duration": 6,
    "start_time": "2023-02-05T18:40:30.355Z"
   },
   {
    "duration": 815,
    "start_time": "2023-02-05T18:42:07.047Z"
   },
   {
    "duration": 7,
    "start_time": "2023-02-05T18:42:57.751Z"
   },
   {
    "duration": 8,
    "start_time": "2023-02-05T18:44:07.247Z"
   },
   {
    "duration": 11,
    "start_time": "2023-02-05T18:45:50.818Z"
   },
   {
    "duration": 12,
    "start_time": "2023-02-05T18:49:59.752Z"
   },
   {
    "duration": 19,
    "start_time": "2023-02-05T18:50:08.657Z"
   },
   {
    "duration": 4,
    "start_time": "2023-02-05T18:50:22.800Z"
   },
   {
    "duration": 55,
    "start_time": "2023-02-05T18:50:49.866Z"
   },
   {
    "duration": 28,
    "start_time": "2023-02-05T18:51:04.664Z"
   },
   {
    "duration": 171,
    "start_time": "2023-02-05T18:51:32.938Z"
   },
   {
    "duration": 218,
    "start_time": "2023-02-05T18:51:40.190Z"
   },
   {
    "duration": 60,
    "start_time": "2023-02-05T18:52:44.420Z"
   },
   {
    "duration": 50,
    "start_time": "2023-02-05T18:52:58.056Z"
   },
   {
    "duration": 174,
    "start_time": "2023-02-05T18:53:01.282Z"
   },
   {
    "duration": 151,
    "start_time": "2023-02-05T18:53:10.325Z"
   },
   {
    "duration": 251,
    "start_time": "2023-02-05T18:53:25.900Z"
   },
   {
    "duration": 17,
    "start_time": "2023-02-05T18:55:15.614Z"
   },
   {
    "duration": 9,
    "start_time": "2023-02-05T18:55:27.539Z"
   },
   {
    "duration": 14,
    "start_time": "2023-02-05T18:55:44.631Z"
   },
   {
    "duration": 10,
    "start_time": "2023-02-05T18:55:51.658Z"
   },
   {
    "duration": 18,
    "start_time": "2023-02-05T18:59:21.962Z"
   },
   {
    "duration": 11,
    "start_time": "2023-02-05T19:00:12.709Z"
   },
   {
    "duration": 11,
    "start_time": "2023-02-05T19:00:18.165Z"
   },
   {
    "duration": 175,
    "start_time": "2023-02-05T19:00:21.784Z"
   },
   {
    "duration": 14,
    "start_time": "2023-02-05T19:00:43.898Z"
   },
   {
    "duration": 19,
    "start_time": "2023-02-05T19:04:53.817Z"
   },
   {
    "duration": 12,
    "start_time": "2023-02-05T19:05:08.196Z"
   },
   {
    "duration": 16,
    "start_time": "2023-02-05T19:05:08.929Z"
   },
   {
    "duration": 17,
    "start_time": "2023-02-05T19:05:22.651Z"
   },
   {
    "duration": 29,
    "start_time": "2023-02-05T19:06:09.622Z"
   },
   {
    "duration": 24,
    "start_time": "2023-02-05T19:06:44.777Z"
   },
   {
    "duration": 18,
    "start_time": "2023-02-05T19:08:18.986Z"
   },
   {
    "duration": 140,
    "start_time": "2023-02-05T19:08:26.464Z"
   },
   {
    "duration": 123,
    "start_time": "2023-02-05T19:08:35.014Z"
   },
   {
    "duration": 89,
    "start_time": "2023-02-05T19:08:52.920Z"
   },
   {
    "duration": 25,
    "start_time": "2023-02-05T19:08:59.023Z"
   },
   {
    "duration": 17,
    "start_time": "2023-02-05T19:09:05.644Z"
   },
   {
    "duration": 113,
    "start_time": "2023-02-05T19:09:11.164Z"
   },
   {
    "duration": 198,
    "start_time": "2023-02-05T19:14:10.469Z"
   },
   {
    "duration": 173,
    "start_time": "2023-02-05T19:14:30.690Z"
   },
   {
    "duration": 156,
    "start_time": "2023-02-05T19:14:57.205Z"
   },
   {
    "duration": 152,
    "start_time": "2023-02-05T19:15:06.495Z"
   },
   {
    "duration": 129,
    "start_time": "2023-02-05T19:15:17.129Z"
   },
   {
    "duration": 135,
    "start_time": "2023-02-05T19:15:27.577Z"
   },
   {
    "duration": 322,
    "start_time": "2023-02-05T19:16:09.193Z"
   },
   {
    "duration": 270,
    "start_time": "2023-02-05T19:16:20.406Z"
   },
   {
    "duration": 235,
    "start_time": "2023-02-05T19:16:26.122Z"
   },
   {
    "duration": 146,
    "start_time": "2023-02-05T19:16:39.584Z"
   },
   {
    "duration": 261,
    "start_time": "2023-02-05T19:16:45.179Z"
   },
   {
    "duration": 339,
    "start_time": "2023-02-05T19:17:37.222Z"
   },
   {
    "duration": 44,
    "start_time": "2023-02-06T15:39:34.699Z"
   },
   {
    "duration": 1544,
    "start_time": "2023-02-06T15:39:45.656Z"
   },
   {
    "duration": 2304,
    "start_time": "2023-02-06T15:39:47.202Z"
   },
   {
    "duration": 265,
    "start_time": "2023-02-06T15:39:49.508Z"
   },
   {
    "duration": 362,
    "start_time": "2023-02-06T15:39:49.775Z"
   },
   {
    "duration": 18,
    "start_time": "2023-02-06T15:39:50.138Z"
   },
   {
    "duration": 4,
    "start_time": "2023-02-06T15:39:50.157Z"
   },
   {
    "duration": 594,
    "start_time": "2023-02-06T15:39:50.163Z"
   },
   {
    "duration": 4,
    "start_time": "2023-02-06T15:39:50.759Z"
   },
   {
    "duration": 10,
    "start_time": "2023-02-06T15:39:50.764Z"
   },
   {
    "duration": 8,
    "start_time": "2023-02-06T15:39:50.776Z"
   },
   {
    "duration": 15,
    "start_time": "2023-02-06T15:39:50.803Z"
   },
   {
    "duration": 124,
    "start_time": "2023-02-06T15:39:50.820Z"
   },
   {
    "duration": 0,
    "start_time": "2023-02-06T15:39:50.945Z"
   },
   {
    "duration": 9,
    "start_time": "2023-02-06T15:40:25.028Z"
   },
   {
    "duration": 9,
    "start_time": "2023-02-06T15:41:03.188Z"
   },
   {
    "duration": 9,
    "start_time": "2023-02-06T15:41:21.532Z"
   },
   {
    "duration": 14,
    "start_time": "2023-02-06T15:42:22.197Z"
   },
   {
    "duration": 16,
    "start_time": "2023-02-06T15:42:57.752Z"
   },
   {
    "duration": 176,
    "start_time": "2023-02-06T15:43:03.512Z"
   },
   {
    "duration": 12,
    "start_time": "2023-02-06T15:43:23.200Z"
   },
   {
    "duration": 162,
    "start_time": "2023-02-06T15:43:23.548Z"
   },
   {
    "duration": 9,
    "start_time": "2023-02-06T15:48:12.635Z"
   },
   {
    "duration": 10,
    "start_time": "2023-02-06T15:48:12.869Z"
   },
   {
    "duration": 171,
    "start_time": "2023-02-06T15:48:13.062Z"
   },
   {
    "duration": 7,
    "start_time": "2023-02-06T15:49:37.930Z"
   },
   {
    "duration": 147,
    "start_time": "2023-02-06T15:49:42.891Z"
   },
   {
    "duration": 14,
    "start_time": "2023-02-06T15:49:50.761Z"
   },
   {
    "duration": 1375,
    "start_time": "2023-02-06T15:52:42.087Z"
   },
   {
    "duration": 684,
    "start_time": "2023-02-06T15:52:43.465Z"
   },
   {
    "duration": 313,
    "start_time": "2023-02-06T15:52:44.152Z"
   },
   {
    "duration": 387,
    "start_time": "2023-02-06T15:52:44.468Z"
   },
   {
    "duration": 20,
    "start_time": "2023-02-06T15:52:44.856Z"
   },
   {
    "duration": 4,
    "start_time": "2023-02-06T15:52:44.877Z"
   },
   {
    "duration": 606,
    "start_time": "2023-02-06T15:52:44.883Z"
   },
   {
    "duration": 3,
    "start_time": "2023-02-06T15:52:45.491Z"
   },
   {
    "duration": 12,
    "start_time": "2023-02-06T15:52:45.495Z"
   },
   {
    "duration": 9,
    "start_time": "2023-02-06T15:52:45.510Z"
   },
   {
    "duration": 17,
    "start_time": "2023-02-06T15:52:45.521Z"
   },
   {
    "duration": 193,
    "start_time": "2023-02-06T15:52:45.540Z"
   },
   {
    "duration": 150,
    "start_time": "2023-02-06T15:52:45.735Z"
   },
   {
    "duration": 395,
    "start_time": "2023-02-06T15:53:02.798Z"
   },
   {
    "duration": 353,
    "start_time": "2023-02-06T15:53:15.701Z"
   },
   {
    "duration": 425,
    "start_time": "2023-02-06T15:53:36.118Z"
   },
   {
    "duration": 109,
    "start_time": "2023-02-06T15:53:50.302Z"
   },
   {
    "duration": 346,
    "start_time": "2023-02-06T15:53:55.202Z"
   },
   {
    "duration": 376,
    "start_time": "2023-02-06T15:53:56.990Z"
   },
   {
    "duration": 320,
    "start_time": "2023-02-06T15:53:59.422Z"
   },
   {
    "duration": 320,
    "start_time": "2023-02-06T15:54:02.650Z"
   },
   {
    "duration": 131,
    "start_time": "2023-02-06T15:54:28.883Z"
   },
   {
    "duration": 414,
    "start_time": "2023-02-06T15:55:18.909Z"
   },
   {
    "duration": 109,
    "start_time": "2023-02-06T15:55:41.574Z"
   },
   {
    "duration": 376,
    "start_time": "2023-02-06T15:55:49.673Z"
   },
   {
    "duration": 338,
    "start_time": "2023-02-06T15:56:07.923Z"
   },
   {
    "duration": 379,
    "start_time": "2023-02-06T15:56:11.382Z"
   },
   {
    "duration": 411,
    "start_time": "2023-02-06T15:56:13.998Z"
   },
   {
    "duration": 443,
    "start_time": "2023-02-06T15:56:19.382Z"
   },
   {
    "duration": 635,
    "start_time": "2023-02-06T15:56:21.330Z"
   },
   {
    "duration": 389,
    "start_time": "2023-02-06T15:56:37.562Z"
   },
   {
    "duration": 3,
    "start_time": "2023-02-06T15:56:54.010Z"
   },
   {
    "duration": 318,
    "start_time": "2023-02-06T15:56:57.730Z"
   },
   {
    "duration": 357,
    "start_time": "2023-02-06T15:58:15.514Z"
   },
   {
    "duration": 326,
    "start_time": "2023-02-06T15:58:21.346Z"
   },
   {
    "duration": 324,
    "start_time": "2023-02-06T15:58:29.538Z"
   },
   {
    "duration": 348,
    "start_time": "2023-02-06T15:58:39.038Z"
   },
   {
    "duration": 381,
    "start_time": "2023-02-06T15:58:49.290Z"
   },
   {
    "duration": 376,
    "start_time": "2023-02-06T15:58:52.490Z"
   },
   {
    "duration": 404,
    "start_time": "2023-02-06T15:59:01.770Z"
   },
   {
    "duration": 373,
    "start_time": "2023-02-06T16:03:33.267Z"
   },
   {
    "duration": 501,
    "start_time": "2023-02-06T16:03:40.339Z"
   },
   {
    "duration": 3,
    "start_time": "2023-02-06T16:08:37.029Z"
   },
   {
    "duration": 3,
    "start_time": "2023-02-06T16:09:05.733Z"
   },
   {
    "duration": 4,
    "start_time": "2023-02-06T16:09:21.189Z"
   },
   {
    "duration": 4,
    "start_time": "2023-02-06T16:12:47.210Z"
   },
   {
    "duration": 9,
    "start_time": "2023-02-06T16:12:55.178Z"
   },
   {
    "duration": 4,
    "start_time": "2023-02-06T16:14:43.203Z"
   },
   {
    "duration": 11,
    "start_time": "2023-02-06T16:14:44.031Z"
   },
   {
    "duration": 9,
    "start_time": "2023-02-06T16:15:00.675Z"
   },
   {
    "duration": 3,
    "start_time": "2023-02-06T16:15:23.303Z"
   },
   {
    "duration": 7,
    "start_time": "2023-02-06T16:15:26.407Z"
   },
   {
    "duration": 6,
    "start_time": "2023-02-06T16:15:42.087Z"
   },
   {
    "duration": 6,
    "start_time": "2023-02-06T16:15:48.039Z"
   },
   {
    "duration": 9,
    "start_time": "2023-02-06T16:16:33.911Z"
   },
   {
    "duration": 6,
    "start_time": "2023-02-06T16:16:53.887Z"
   },
   {
    "duration": 8,
    "start_time": "2023-02-06T16:16:58.583Z"
   },
   {
    "duration": 6,
    "start_time": "2023-02-06T16:17:03.095Z"
   },
   {
    "duration": 133,
    "start_time": "2023-02-06T16:17:23.487Z"
   },
   {
    "duration": 130,
    "start_time": "2023-02-06T16:17:32.351Z"
   },
   {
    "duration": 120,
    "start_time": "2023-02-06T16:17:37.531Z"
   },
   {
    "duration": 6,
    "start_time": "2023-02-06T16:18:42.712Z"
   },
   {
    "duration": 7,
    "start_time": "2023-02-06T16:18:48.248Z"
   },
   {
    "duration": 5,
    "start_time": "2023-02-06T16:20:58.716Z"
   },
   {
    "duration": 14,
    "start_time": "2023-02-06T16:21:00.056Z"
   },
   {
    "duration": 5,
    "start_time": "2023-02-06T16:21:10.340Z"
   },
   {
    "duration": 5,
    "start_time": "2023-02-06T16:21:10.560Z"
   },
   {
    "duration": 9,
    "start_time": "2023-02-06T16:21:23.616Z"
   },
   {
    "duration": 4,
    "start_time": "2023-02-06T16:21:28.004Z"
   },
   {
    "duration": 5,
    "start_time": "2023-02-06T16:21:30.656Z"
   },
   {
    "duration": 10,
    "start_time": "2023-02-06T16:21:33.632Z"
   },
   {
    "duration": 122,
    "start_time": "2023-02-06T16:21:38.464Z"
   },
   {
    "duration": 4,
    "start_time": "2023-02-06T16:22:43.925Z"
   },
   {
    "duration": 178,
    "start_time": "2023-02-06T16:22:44.208Z"
   },
   {
    "duration": 159,
    "start_time": "2023-02-06T16:22:57.232Z"
   },
   {
    "duration": 4,
    "start_time": "2023-02-06T16:23:00.661Z"
   },
   {
    "duration": 159,
    "start_time": "2023-02-06T16:23:00.881Z"
   },
   {
    "duration": 5,
    "start_time": "2023-02-06T16:23:09.782Z"
   },
   {
    "duration": 213,
    "start_time": "2023-02-06T16:23:11.696Z"
   },
   {
    "duration": 5,
    "start_time": "2023-02-06T16:23:29.268Z"
   },
   {
    "duration": 349,
    "start_time": "2023-02-06T16:23:30.800Z"
   },
   {
    "duration": 5,
    "start_time": "2023-02-06T16:23:35.221Z"
   },
   {
    "duration": 239,
    "start_time": "2023-02-06T16:23:35.889Z"
   },
   {
    "duration": 4,
    "start_time": "2023-02-06T16:26:16.513Z"
   },
   {
    "duration": 233,
    "start_time": "2023-02-06T16:26:16.761Z"
   },
   {
    "duration": 4,
    "start_time": "2023-02-06T16:26:31.838Z"
   },
   {
    "duration": 291,
    "start_time": "2023-02-06T16:26:32.090Z"
   },
   {
    "duration": 5,
    "start_time": "2023-02-06T16:26:44.801Z"
   },
   {
    "duration": 302,
    "start_time": "2023-02-06T16:26:45.118Z"
   },
   {
    "duration": 5,
    "start_time": "2023-02-06T16:26:49.609Z"
   },
   {
    "duration": 442,
    "start_time": "2023-02-06T16:26:50.113Z"
   },
   {
    "duration": 7,
    "start_time": "2023-02-06T16:26:55.817Z"
   },
   {
    "duration": 290,
    "start_time": "2023-02-06T16:26:56.033Z"
   },
   {
    "duration": 5,
    "start_time": "2023-02-06T16:27:00.366Z"
   },
   {
    "duration": 302,
    "start_time": "2023-02-06T16:27:00.610Z"
   },
   {
    "duration": 5,
    "start_time": "2023-02-06T16:27:42.793Z"
   },
   {
    "duration": 310,
    "start_time": "2023-02-06T16:27:43.046Z"
   },
   {
    "duration": 7,
    "start_time": "2023-02-06T16:27:49.257Z"
   },
   {
    "duration": 353,
    "start_time": "2023-02-06T16:27:49.473Z"
   },
   {
    "duration": 5,
    "start_time": "2023-02-06T16:28:32.265Z"
   },
   {
    "duration": 346,
    "start_time": "2023-02-06T16:28:32.545Z"
   },
   {
    "duration": 5,
    "start_time": "2023-02-06T16:28:56.170Z"
   },
   {
    "duration": 527,
    "start_time": "2023-02-06T16:28:56.393Z"
   },
   {
    "duration": 5,
    "start_time": "2023-02-06T16:29:00.465Z"
   },
   {
    "duration": 386,
    "start_time": "2023-02-06T16:29:00.650Z"
   },
   {
    "duration": 5,
    "start_time": "2023-02-06T16:29:08.210Z"
   },
   {
    "duration": 344,
    "start_time": "2023-02-06T16:29:08.361Z"
   },
   {
    "duration": 5,
    "start_time": "2023-02-06T16:29:34.318Z"
   },
   {
    "duration": 453,
    "start_time": "2023-02-06T16:29:34.506Z"
   },
   {
    "duration": 50,
    "start_time": "2023-02-06T16:32:58.147Z"
   },
   {
    "duration": 5,
    "start_time": "2023-02-06T16:33:04.419Z"
   },
   {
    "duration": 475,
    "start_time": "2023-02-06T16:33:04.891Z"
   },
   {
    "duration": 6,
    "start_time": "2023-02-06T16:33:39.490Z"
   },
   {
    "duration": 735,
    "start_time": "2023-02-06T16:33:39.738Z"
   },
   {
    "duration": 5,
    "start_time": "2023-02-06T16:36:13.348Z"
   },
   {
    "duration": 737,
    "start_time": "2023-02-06T16:36:13.595Z"
   },
   {
    "duration": 5,
    "start_time": "2023-02-06T16:41:45.435Z"
   },
   {
    "duration": 752,
    "start_time": "2023-02-06T16:41:45.586Z"
   },
   {
    "duration": 6,
    "start_time": "2023-02-06T16:46:03.827Z"
   },
   {
    "duration": 5,
    "start_time": "2023-02-06T16:46:08.659Z"
   },
   {
    "duration": 35,
    "start_time": "2023-02-06T16:46:13.110Z"
   },
   {
    "duration": 4,
    "start_time": "2023-02-06T16:46:47.902Z"
   },
   {
    "duration": 5,
    "start_time": "2023-02-06T16:47:03.831Z"
   },
   {
    "duration": 922,
    "start_time": "2023-02-06T16:47:10.491Z"
   },
   {
    "duration": 6,
    "start_time": "2023-02-06T16:48:29.711Z"
   },
   {
    "duration": 14,
    "start_time": "2023-02-06T16:48:29.935Z"
   },
   {
    "duration": 4,
    "start_time": "2023-02-06T16:48:37.770Z"
   },
   {
    "duration": 12,
    "start_time": "2023-02-06T16:48:37.991Z"
   },
   {
    "duration": 12,
    "start_time": "2023-02-06T16:48:38.382Z"
   },
   {
    "duration": 1330,
    "start_time": "2023-02-06T16:49:15.124Z"
   },
   {
    "duration": 694,
    "start_time": "2023-02-06T16:49:16.456Z"
   },
   {
    "duration": 286,
    "start_time": "2023-02-06T16:49:17.152Z"
   },
   {
    "duration": 383,
    "start_time": "2023-02-06T16:49:17.440Z"
   },
   {
    "duration": 20,
    "start_time": "2023-02-06T16:49:17.824Z"
   },
   {
    "duration": 3,
    "start_time": "2023-02-06T16:49:17.845Z"
   },
   {
    "duration": 614,
    "start_time": "2023-02-06T16:49:17.850Z"
   },
   {
    "duration": 3,
    "start_time": "2023-02-06T16:49:18.466Z"
   },
   {
    "duration": 11,
    "start_time": "2023-02-06T16:49:18.470Z"
   },
   {
    "duration": 22,
    "start_time": "2023-02-06T16:49:18.484Z"
   },
   {
    "duration": 14,
    "start_time": "2023-02-06T16:49:18.507Z"
   },
   {
    "duration": 204,
    "start_time": "2023-02-06T16:49:18.523Z"
   },
   {
    "duration": 417,
    "start_time": "2023-02-06T16:49:18.728Z"
   },
   {
    "duration": 5,
    "start_time": "2023-02-06T16:49:19.147Z"
   },
   {
    "duration": 871,
    "start_time": "2023-02-06T16:49:19.154Z"
   },
   {
    "duration": 4,
    "start_time": "2023-02-06T16:49:20.026Z"
   },
   {
    "duration": 26,
    "start_time": "2023-02-06T16:49:20.031Z"
   },
   {
    "duration": 761,
    "start_time": "2023-02-06T16:49:20.058Z"
   },
   {
    "duration": 779,
    "start_time": "2023-02-06T16:49:54.056Z"
   },
   {
    "duration": 9,
    "start_time": "2023-02-06T16:50:20.200Z"
   },
   {
    "duration": 878,
    "start_time": "2023-02-06T16:50:20.360Z"
   },
   {
    "duration": 61,
    "start_time": "2023-02-06T16:53:19.085Z"
   },
   {
    "duration": 19,
    "start_time": "2023-02-06T16:53:33.416Z"
   },
   {
    "duration": 16,
    "start_time": "2023-02-06T16:53:44.296Z"
   },
   {
    "duration": 15,
    "start_time": "2023-02-06T16:56:18.808Z"
   },
   {
    "duration": 12,
    "start_time": "2023-02-06T16:56:19.034Z"
   },
   {
    "duration": 868,
    "start_time": "2023-02-06T16:57:02.105Z"
   },
   {
    "duration": 1326,
    "start_time": "2023-02-06T16:57:26.035Z"
   },
   {
    "duration": 625,
    "start_time": "2023-02-06T16:57:27.362Z"
   },
   {
    "duration": 269,
    "start_time": "2023-02-06T16:57:27.989Z"
   },
   {
    "duration": 386,
    "start_time": "2023-02-06T16:57:28.260Z"
   },
   {
    "duration": 20,
    "start_time": "2023-02-06T16:57:28.647Z"
   },
   {
    "duration": 3,
    "start_time": "2023-02-06T16:57:28.669Z"
   },
   {
    "duration": 669,
    "start_time": "2023-02-06T16:57:28.674Z"
   },
   {
    "duration": 3,
    "start_time": "2023-02-06T16:57:29.345Z"
   },
   {
    "duration": 10,
    "start_time": "2023-02-06T16:57:29.349Z"
   },
   {
    "duration": 10,
    "start_time": "2023-02-06T16:57:29.361Z"
   },
   {
    "duration": 36,
    "start_time": "2023-02-06T16:57:29.373Z"
   },
   {
    "duration": 207,
    "start_time": "2023-02-06T16:57:29.411Z"
   },
   {
    "duration": 452,
    "start_time": "2023-02-06T16:57:29.620Z"
   },
   {
    "duration": 6,
    "start_time": "2023-02-06T16:57:30.074Z"
   },
   {
    "duration": 931,
    "start_time": "2023-02-06T16:57:30.082Z"
   },
   {
    "duration": 788,
    "start_time": "2023-02-06T16:57:31.015Z"
   },
   {
    "duration": 5,
    "start_time": "2023-02-06T16:57:31.806Z"
   },
   {
    "duration": 29,
    "start_time": "2023-02-06T16:57:31.812Z"
   },
   {
    "duration": 799,
    "start_time": "2023-02-06T16:57:31.843Z"
   },
   {
    "duration": 8,
    "start_time": "2023-02-06T16:57:32.644Z"
   },
   {
    "duration": 885,
    "start_time": "2023-02-06T16:57:32.653Z"
   },
   {
    "duration": 17,
    "start_time": "2023-02-06T16:57:33.540Z"
   },
   {
    "duration": 13,
    "start_time": "2023-02-06T16:57:33.559Z"
   },
   {
    "duration": 3,
    "start_time": "2023-02-06T17:11:15.990Z"
   },
   {
    "duration": 4,
    "start_time": "2023-02-06T17:11:16.210Z"
   },
   {
    "duration": 3,
    "start_time": "2023-02-06T17:16:31.447Z"
   },
   {
    "duration": 49,
    "start_time": "2023-02-06T17:18:09.387Z"
   },
   {
    "duration": 3,
    "start_time": "2023-02-06T17:20:13.760Z"
   },
   {
    "duration": 1566,
    "start_time": "2023-02-06T18:54:20.932Z"
   },
   {
    "duration": 2,
    "start_time": "2023-02-06T18:54:47.677Z"
   },
   {
    "duration": 53,
    "start_time": "2023-02-06T18:56:08.528Z"
   },
   {
    "duration": 148,
    "start_time": "2023-02-06T18:56:12.929Z"
   },
   {
    "duration": 1335,
    "start_time": "2023-02-06T18:56:20.025Z"
   },
   {
    "duration": 1786,
    "start_time": "2023-02-06T18:56:21.362Z"
   },
   {
    "duration": 286,
    "start_time": "2023-02-06T18:56:23.149Z"
   },
   {
    "duration": 316,
    "start_time": "2023-02-06T18:56:23.438Z"
   },
   {
    "duration": 18,
    "start_time": "2023-02-06T18:56:23.756Z"
   },
   {
    "duration": 3,
    "start_time": "2023-02-06T18:56:23.776Z"
   },
   {
    "duration": 511,
    "start_time": "2023-02-06T18:56:23.781Z"
   },
   {
    "duration": 4,
    "start_time": "2023-02-06T18:56:24.293Z"
   },
   {
    "duration": 15,
    "start_time": "2023-02-06T18:56:24.299Z"
   },
   {
    "duration": 11,
    "start_time": "2023-02-06T18:56:24.317Z"
   },
   {
    "duration": 20,
    "start_time": "2023-02-06T18:56:24.329Z"
   },
   {
    "duration": 189,
    "start_time": "2023-02-06T18:56:24.350Z"
   },
   {
    "duration": 407,
    "start_time": "2023-02-06T18:56:24.541Z"
   },
   {
    "duration": 5,
    "start_time": "2023-02-06T18:56:24.950Z"
   },
   {
    "duration": 782,
    "start_time": "2023-02-06T18:56:24.957Z"
   },
   {
    "duration": 676,
    "start_time": "2023-02-06T18:56:25.740Z"
   },
   {
    "duration": 3,
    "start_time": "2023-02-06T18:56:26.418Z"
   },
   {
    "duration": 15,
    "start_time": "2023-02-06T18:56:26.422Z"
   },
   {
    "duration": 890,
    "start_time": "2023-02-06T18:56:26.438Z"
   },
   {
    "duration": 8,
    "start_time": "2023-02-06T18:56:27.330Z"
   },
   {
    "duration": 700,
    "start_time": "2023-02-06T18:56:27.340Z"
   },
   {
    "duration": 15,
    "start_time": "2023-02-06T18:56:28.041Z"
   },
   {
    "duration": 12,
    "start_time": "2023-02-06T18:56:28.058Z"
   },
   {
    "duration": 3,
    "start_time": "2023-02-06T18:56:28.072Z"
   },
   {
    "duration": 5,
    "start_time": "2023-02-06T18:56:28.077Z"
   },
   {
    "duration": 152,
    "start_time": "2023-02-06T18:56:28.083Z"
   },
   {
    "duration": 13,
    "start_time": "2023-02-06T18:57:02.639Z"
   },
   {
    "duration": 10,
    "start_time": "2023-02-06T18:57:06.432Z"
   },
   {
    "duration": 5,
    "start_time": "2023-02-06T18:57:17.288Z"
   },
   {
    "duration": 12,
    "start_time": "2023-02-06T18:57:30.538Z"
   },
   {
    "duration": 11,
    "start_time": "2023-02-06T18:57:45.965Z"
   },
   {
    "duration": 15,
    "start_time": "2023-02-06T18:57:49.772Z"
   },
   {
    "duration": 4,
    "start_time": "2023-02-06T18:57:51.834Z"
   },
   {
    "duration": 4,
    "start_time": "2023-02-06T18:58:01.673Z"
   },
   {
    "duration": 4,
    "start_time": "2023-02-06T18:58:09.936Z"
   },
   {
    "duration": 9,
    "start_time": "2023-02-06T18:58:21.231Z"
   },
   {
    "duration": 10,
    "start_time": "2023-02-06T18:58:24.556Z"
   },
   {
    "duration": 5,
    "start_time": "2023-02-06T18:58:27.426Z"
   },
   {
    "duration": 5,
    "start_time": "2023-02-06T18:58:31.830Z"
   },
   {
    "duration": 12,
    "start_time": "2023-02-06T18:58:38.162Z"
   },
   {
    "duration": 11,
    "start_time": "2023-02-06T18:58:44.169Z"
   },
   {
    "duration": 5,
    "start_time": "2023-02-06T18:58:49.288Z"
   },
   {
    "duration": 5,
    "start_time": "2023-02-06T18:58:51.437Z"
   },
   {
    "duration": 9,
    "start_time": "2023-02-06T19:12:50.932Z"
   },
   {
    "duration": 6,
    "start_time": "2023-02-06T19:12:58.392Z"
   },
   {
    "duration": 10,
    "start_time": "2023-02-06T19:13:17.945Z"
   },
   {
    "duration": 5,
    "start_time": "2023-02-06T19:13:22.841Z"
   },
   {
    "duration": 5,
    "start_time": "2023-02-06T19:14:08.557Z"
   },
   {
    "duration": 6,
    "start_time": "2023-02-06T19:16:55.377Z"
   },
   {
    "duration": 4,
    "start_time": "2023-02-06T19:19:01.919Z"
   },
   {
    "duration": 26,
    "start_time": "2023-02-06T19:19:13.238Z"
   },
   {
    "duration": 8,
    "start_time": "2023-02-06T19:19:27.545Z"
   },
   {
    "duration": 25,
    "start_time": "2023-02-06T19:19:35.829Z"
   },
   {
    "duration": 11,
    "start_time": "2023-02-06T19:19:46.934Z"
   },
   {
    "duration": 35,
    "start_time": "2023-02-06T19:19:59.126Z"
   },
   {
    "duration": 26,
    "start_time": "2023-02-06T19:20:04.278Z"
   },
   {
    "duration": 10,
    "start_time": "2023-02-06T19:22:35.013Z"
   },
   {
    "duration": 23,
    "start_time": "2023-02-06T19:23:07.231Z"
   },
   {
    "duration": 24,
    "start_time": "2023-02-06T19:23:59.538Z"
   },
   {
    "duration": 5,
    "start_time": "2023-02-06T19:24:09.903Z"
   },
   {
    "duration": 4,
    "start_time": "2023-02-06T19:24:33.735Z"
   },
   {
    "duration": 8,
    "start_time": "2023-02-06T19:24:52.099Z"
   },
   {
    "duration": 5,
    "start_time": "2023-02-06T19:24:54.839Z"
   },
   {
    "duration": 693,
    "start_time": "2023-02-06T19:24:54.846Z"
   },
   {
    "duration": 343,
    "start_time": "2023-02-06T19:24:55.541Z"
   },
   {
    "duration": 342,
    "start_time": "2023-02-06T19:24:55.887Z"
   },
   {
    "duration": 19,
    "start_time": "2023-02-06T19:24:56.231Z"
   },
   {
    "duration": 3,
    "start_time": "2023-02-06T19:24:56.252Z"
   },
   {
    "duration": 631,
    "start_time": "2023-02-06T19:24:56.257Z"
   },
   {
    "duration": 4,
    "start_time": "2023-02-06T19:24:56.890Z"
   },
   {
    "duration": 47,
    "start_time": "2023-02-06T19:24:56.897Z"
   },
   {
    "duration": 23,
    "start_time": "2023-02-06T19:24:56.949Z"
   },
   {
    "duration": 14,
    "start_time": "2023-02-06T19:24:56.973Z"
   },
   {
    "duration": 189,
    "start_time": "2023-02-06T19:24:56.988Z"
   },
   {
    "duration": 372,
    "start_time": "2023-02-06T19:24:57.179Z"
   },
   {
    "duration": 8,
    "start_time": "2023-02-06T19:24:57.553Z"
   },
   {
    "duration": 825,
    "start_time": "2023-02-06T19:24:57.563Z"
   },
   {
    "duration": 715,
    "start_time": "2023-02-06T19:24:58.389Z"
   },
   {
    "duration": 4,
    "start_time": "2023-02-06T19:24:59.109Z"
   },
   {
    "duration": 19,
    "start_time": "2023-02-06T19:24:59.114Z"
   },
   {
    "duration": 819,
    "start_time": "2023-02-06T19:24:59.135Z"
   },
   {
    "duration": 9,
    "start_time": "2023-02-06T19:24:59.957Z"
   },
   {
    "duration": 795,
    "start_time": "2023-02-06T19:24:59.968Z"
   },
   {
    "duration": 15,
    "start_time": "2023-02-06T19:25:00.765Z"
   },
   {
    "duration": 31,
    "start_time": "2023-02-06T19:25:00.782Z"
   },
   {
    "duration": 30,
    "start_time": "2023-02-06T19:25:00.816Z"
   },
   {
    "duration": 26,
    "start_time": "2023-02-06T19:25:00.847Z"
   },
   {
    "duration": 33,
    "start_time": "2023-02-06T19:25:00.874Z"
   },
   {
    "duration": 22,
    "start_time": "2023-02-06T19:25:00.908Z"
   },
   {
    "duration": 25,
    "start_time": "2023-02-06T19:25:06.015Z"
   },
   {
    "duration": 23,
    "start_time": "2023-02-06T19:25:53.916Z"
   },
   {
    "duration": 25,
    "start_time": "2023-02-06T19:25:55.095Z"
   },
   {
    "duration": 5,
    "start_time": "2023-02-06T19:25:55.613Z"
   },
   {
    "duration": 4,
    "start_time": "2023-02-06T19:26:09.748Z"
   },
   {
    "duration": 11,
    "start_time": "2023-02-06T19:26:28.819Z"
   },
   {
    "duration": 9,
    "start_time": "2023-02-06T19:26:31.703Z"
   },
   {
    "duration": 9,
    "start_time": "2023-02-06T19:26:37.079Z"
   },
   {
    "duration": 1321,
    "start_time": "2023-02-06T19:28:39.527Z"
   },
   {
    "duration": 635,
    "start_time": "2023-02-06T19:28:40.850Z"
   },
   {
    "duration": 297,
    "start_time": "2023-02-06T19:28:41.486Z"
   },
   {
    "duration": 318,
    "start_time": "2023-02-06T19:28:41.785Z"
   },
   {
    "duration": 19,
    "start_time": "2023-02-06T19:28:42.110Z"
   },
   {
    "duration": 4,
    "start_time": "2023-02-06T19:28:42.130Z"
   },
   {
    "duration": 505,
    "start_time": "2023-02-06T19:28:42.135Z"
   },
   {
    "duration": 3,
    "start_time": "2023-02-06T19:28:42.642Z"
   },
   {
    "duration": 8,
    "start_time": "2023-02-06T19:28:42.646Z"
   },
   {
    "duration": 9,
    "start_time": "2023-02-06T19:28:42.656Z"
   },
   {
    "duration": 13,
    "start_time": "2023-02-06T19:28:42.666Z"
   },
   {
    "duration": 179,
    "start_time": "2023-02-06T19:28:42.681Z"
   },
   {
    "duration": 484,
    "start_time": "2023-02-06T19:28:42.862Z"
   },
   {
    "duration": 5,
    "start_time": "2023-02-06T19:28:43.348Z"
   },
   {
    "duration": 780,
    "start_time": "2023-02-06T19:28:43.354Z"
   },
   {
    "duration": 686,
    "start_time": "2023-02-06T19:28:44.136Z"
   },
   {
    "duration": 3,
    "start_time": "2023-02-06T19:28:44.823Z"
   },
   {
    "duration": 17,
    "start_time": "2023-02-06T19:28:44.828Z"
   },
   {
    "duration": 789,
    "start_time": "2023-02-06T19:28:44.847Z"
   },
   {
    "duration": 7,
    "start_time": "2023-02-06T19:28:45.638Z"
   },
   {
    "duration": 679,
    "start_time": "2023-02-06T19:28:45.646Z"
   },
   {
    "duration": 16,
    "start_time": "2023-02-06T19:28:46.328Z"
   },
   {
    "duration": 15,
    "start_time": "2023-02-06T19:28:46.346Z"
   },
   {
    "duration": 3,
    "start_time": "2023-02-06T19:28:46.363Z"
   },
   {
    "duration": 4,
    "start_time": "2023-02-06T19:28:46.368Z"
   },
   {
    "duration": 12,
    "start_time": "2023-02-06T19:28:46.374Z"
   },
   {
    "duration": 7,
    "start_time": "2023-02-06T19:28:46.409Z"
   },
   {
    "duration": 23,
    "start_time": "2023-02-06T19:28:46.418Z"
   },
   {
    "duration": 32,
    "start_time": "2023-02-06T19:28:46.443Z"
   },
   {
    "duration": 43,
    "start_time": "2023-02-06T19:28:46.477Z"
   },
   {
    "duration": 24,
    "start_time": "2023-02-06T19:28:53.540Z"
   },
   {
    "duration": 1391,
    "start_time": "2023-02-06T19:29:06.784Z"
   },
   {
    "duration": 647,
    "start_time": "2023-02-06T19:29:08.177Z"
   },
   {
    "duration": 282,
    "start_time": "2023-02-06T19:29:08.826Z"
   },
   {
    "duration": 314,
    "start_time": "2023-02-06T19:29:09.110Z"
   },
   {
    "duration": 18,
    "start_time": "2023-02-06T19:29:09.425Z"
   },
   {
    "duration": 3,
    "start_time": "2023-02-06T19:29:09.445Z"
   },
   {
    "duration": 504,
    "start_time": "2023-02-06T19:29:09.449Z"
   },
   {
    "duration": 3,
    "start_time": "2023-02-06T19:29:09.954Z"
   },
   {
    "duration": 7,
    "start_time": "2023-02-06T19:29:09.959Z"
   },
   {
    "duration": 9,
    "start_time": "2023-02-06T19:29:09.969Z"
   },
   {
    "duration": 36,
    "start_time": "2023-02-06T19:29:09.979Z"
   },
   {
    "duration": 166,
    "start_time": "2023-02-06T19:29:10.016Z"
   },
   {
    "duration": 463,
    "start_time": "2023-02-06T19:29:10.183Z"
   },
   {
    "duration": 6,
    "start_time": "2023-02-06T19:29:10.647Z"
   },
   {
    "duration": 753,
    "start_time": "2023-02-06T19:29:10.654Z"
   },
   {
    "duration": 666,
    "start_time": "2023-02-06T19:29:11.409Z"
   },
   {
    "duration": 3,
    "start_time": "2023-02-06T19:29:12.076Z"
   },
   {
    "duration": 13,
    "start_time": "2023-02-06T19:29:12.081Z"
   },
   {
    "duration": 773,
    "start_time": "2023-02-06T19:29:12.096Z"
   },
   {
    "duration": 7,
    "start_time": "2023-02-06T19:29:12.870Z"
   },
   {
    "duration": 749,
    "start_time": "2023-02-06T19:29:12.878Z"
   },
   {
    "duration": 16,
    "start_time": "2023-02-06T19:29:13.628Z"
   },
   {
    "duration": 17,
    "start_time": "2023-02-06T19:29:13.646Z"
   },
   {
    "duration": 4,
    "start_time": "2023-02-06T19:29:13.664Z"
   },
   {
    "duration": 8,
    "start_time": "2023-02-06T19:29:13.669Z"
   },
   {
    "duration": 6,
    "start_time": "2023-02-06T19:29:13.679Z"
   },
   {
    "duration": 7,
    "start_time": "2023-02-06T19:29:13.709Z"
   },
   {
    "duration": 26,
    "start_time": "2023-02-06T19:29:13.720Z"
   },
   {
    "duration": 35,
    "start_time": "2023-02-06T19:29:13.747Z"
   },
   {
    "duration": 44,
    "start_time": "2023-02-06T19:29:13.785Z"
   },
   {
    "duration": 4,
    "start_time": "2023-02-06T19:32:54.320Z"
   },
   {
    "duration": 5,
    "start_time": "2023-02-06T19:33:27.856Z"
   },
   {
    "duration": 4,
    "start_time": "2023-02-06T19:56:27.284Z"
   },
   {
    "duration": 142,
    "start_time": "2023-02-06T19:57:26.853Z"
   },
   {
    "duration": 2,
    "start_time": "2023-02-06T19:57:46.065Z"
   },
   {
    "duration": 3,
    "start_time": "2023-02-06T19:57:47.057Z"
   },
   {
    "duration": 12,
    "start_time": "2023-02-06T19:59:03.324Z"
   },
   {
    "duration": 57,
    "start_time": "2023-02-07T10:37:31.353Z"
   },
   {
    "duration": 1765,
    "start_time": "2023-02-07T10:37:37.791Z"
   },
   {
    "duration": 3697,
    "start_time": "2023-02-07T10:37:39.566Z"
   },
   {
    "duration": 332,
    "start_time": "2023-02-07T10:37:43.265Z"
   },
   {
    "duration": 355,
    "start_time": "2023-02-07T10:37:43.599Z"
   },
   {
    "duration": 17,
    "start_time": "2023-02-07T10:37:43.959Z"
   },
   {
    "duration": 28,
    "start_time": "2023-02-07T10:37:43.977Z"
   },
   {
    "duration": 594,
    "start_time": "2023-02-07T10:37:44.007Z"
   },
   {
    "duration": 3,
    "start_time": "2023-02-07T10:37:44.603Z"
   },
   {
    "duration": 71,
    "start_time": "2023-02-07T10:37:44.608Z"
   },
   {
    "duration": 70,
    "start_time": "2023-02-07T10:37:44.683Z"
   },
   {
    "duration": 107,
    "start_time": "2023-02-07T10:37:44.755Z"
   },
   {
    "duration": 199,
    "start_time": "2023-02-07T10:37:44.864Z"
   },
   {
    "duration": 423,
    "start_time": "2023-02-07T10:37:45.065Z"
   },
   {
    "duration": 7,
    "start_time": "2023-02-07T10:37:45.490Z"
   },
   {
    "duration": 816,
    "start_time": "2023-02-07T10:37:45.499Z"
   },
   {
    "duration": 779,
    "start_time": "2023-02-07T10:37:46.317Z"
   },
   {
    "duration": 3,
    "start_time": "2023-02-07T10:37:47.098Z"
   },
   {
    "duration": 29,
    "start_time": "2023-02-07T10:37:47.102Z"
   },
   {
    "duration": 864,
    "start_time": "2023-02-07T10:37:47.133Z"
   },
   {
    "duration": 7,
    "start_time": "2023-02-07T10:37:47.999Z"
   },
   {
    "duration": 811,
    "start_time": "2023-02-07T10:37:48.007Z"
   },
   {
    "duration": 25,
    "start_time": "2023-02-07T10:37:48.819Z"
   },
   {
    "duration": 30,
    "start_time": "2023-02-07T10:37:48.845Z"
   },
   {
    "duration": 3,
    "start_time": "2023-02-07T10:37:48.876Z"
   },
   {
    "duration": 12,
    "start_time": "2023-02-07T10:37:48.880Z"
   },
   {
    "duration": 19,
    "start_time": "2023-02-07T10:37:48.894Z"
   },
   {
    "duration": 20,
    "start_time": "2023-02-07T10:37:48.915Z"
   },
   {
    "duration": 73,
    "start_time": "2023-02-07T10:37:48.938Z"
   },
   {
    "duration": 88018,
    "start_time": "2023-02-07T10:37:49.012Z"
   },
   {
    "duration": 343239,
    "start_time": "2023-02-07T10:40:49.940Z"
   },
   {
    "duration": 4,
    "start_time": "2023-02-07T10:47:55.689Z"
   },
   {
    "duration": 123,
    "start_time": "2023-02-07T10:54:13.346Z"
   },
   {
    "duration": 3,
    "start_time": "2023-02-07T10:56:21.095Z"
   },
   {
    "duration": 3,
    "start_time": "2023-02-07T10:56:26.191Z"
   },
   {
    "duration": 89,
    "start_time": "2023-02-07T10:56:28.682Z"
   },
   {
    "duration": 10,
    "start_time": "2023-02-07T10:56:38.358Z"
   },
   {
    "duration": 4,
    "start_time": "2023-02-07T10:56:53.382Z"
   },
   {
    "duration": 6615,
    "start_time": "2023-02-07T10:57:03.951Z"
   },
   {
    "duration": 6315,
    "start_time": "2023-02-07T10:57:48.048Z"
   },
   {
    "duration": 6001,
    "start_time": "2023-02-07T10:58:05.857Z"
   },
   {
    "duration": 10,
    "start_time": "2023-02-07T10:59:44.562Z"
   },
   {
    "duration": 3,
    "start_time": "2023-02-07T11:00:04.229Z"
   },
   {
    "duration": 10,
    "start_time": "2023-02-07T11:00:07.290Z"
   },
   {
    "duration": 12,
    "start_time": "2023-02-07T11:00:09.497Z"
   },
   {
    "duration": 150,
    "start_time": "2023-02-07T11:01:58.658Z"
   },
   {
    "duration": 169,
    "start_time": "2023-02-07T11:02:09.346Z"
   },
   {
    "duration": 14,
    "start_time": "2023-02-07T11:02:10.734Z"
   },
   {
    "duration": 9,
    "start_time": "2023-02-07T11:04:06.462Z"
   },
   {
    "duration": 9,
    "start_time": "2023-02-07T11:04:29.901Z"
   },
   {
    "duration": 4,
    "start_time": "2023-02-07T11:05:25.622Z"
   },
   {
    "duration": 675429,
    "start_time": "2023-02-07T11:05:28.701Z"
   },
   {
    "duration": 11,
    "start_time": "2023-02-07T11:18:12.815Z"
   },
   {
    "duration": 95,
    "start_time": "2023-02-07T11:18:25.624Z"
   },
   {
    "duration": 2905299,
    "start_time": "2023-02-07T11:21:53.698Z"
   },
   {
    "duration": 5,
    "start_time": "2023-02-07T12:19:14.310Z"
   },
   {
    "duration": 9,
    "start_time": "2023-02-07T12:19:20.867Z"
   },
   {
    "duration": 3,
    "start_time": "2023-02-07T12:19:26.980Z"
   },
   {
    "duration": 4,
    "start_time": "2023-02-07T12:19:42.475Z"
   },
   {
    "duration": 3,
    "start_time": "2023-02-07T12:20:29.812Z"
   },
   {
    "duration": 27347,
    "start_time": "2023-02-07T12:22:14.861Z"
   },
   {
    "duration": 2670,
    "start_time": "2023-02-07T12:23:07.036Z"
   },
   {
    "duration": 6893,
    "start_time": "2023-02-07T12:24:15.265Z"
   },
   {
    "duration": 2699,
    "start_time": "2023-02-07T12:24:24.205Z"
   },
   {
    "duration": 2651,
    "start_time": "2023-02-07T12:24:30.029Z"
   },
   {
    "duration": 27405,
    "start_time": "2023-02-07T12:24:32.682Z"
   },
   {
    "duration": 3491,
    "start_time": "2023-02-07T12:31:52.488Z"
   },
   {
    "duration": 3496,
    "start_time": "2023-02-07T12:32:09.969Z"
   },
   {
    "duration": 7101,
    "start_time": "2023-02-07T12:32:34.896Z"
   },
   {
    "duration": 103,
    "start_time": "2023-02-07T12:33:06.736Z"
   },
   {
    "duration": 8451,
    "start_time": "2023-02-07T12:33:22.928Z"
   },
   {
    "duration": 5,
    "start_time": "2023-02-07T12:35:49.951Z"
   },
   {
    "duration": 6057,
    "start_time": "2023-02-07T12:35:51.705Z"
   },
   {
    "duration": 4,
    "start_time": "2023-02-07T12:36:24.225Z"
   },
   {
    "duration": 5970,
    "start_time": "2023-02-07T12:36:25.986Z"
   },
   {
    "duration": 5568,
    "start_time": "2023-02-07T12:36:37.986Z"
   },
   {
    "duration": 2813,
    "start_time": "2023-02-07T12:36:46.406Z"
   },
   {
    "duration": 28172,
    "start_time": "2023-02-07T12:36:50.537Z"
   },
   {
    "duration": 5,
    "start_time": "2023-02-07T12:37:33.262Z"
   },
   {
    "duration": 6795,
    "start_time": "2023-02-07T12:37:34.955Z"
   },
   {
    "duration": 6878,
    "start_time": "2023-02-07T12:37:57.994Z"
   },
   {
    "duration": 2815,
    "start_time": "2023-02-07T12:38:16.630Z"
   },
   {
    "duration": 29432,
    "start_time": "2023-02-07T12:38:31.410Z"
   },
   {
    "duration": 1584,
    "start_time": "2023-02-07T12:39:16.538Z"
   },
   {
    "duration": 818,
    "start_time": "2023-02-07T12:39:18.124Z"
   },
   {
    "duration": 337,
    "start_time": "2023-02-07T12:39:18.955Z"
   },
   {
    "duration": 384,
    "start_time": "2023-02-07T12:39:19.294Z"
   },
   {
    "duration": 16,
    "start_time": "2023-02-07T12:39:19.680Z"
   },
   {
    "duration": 13,
    "start_time": "2023-02-07T12:39:19.698Z"
   },
   {
    "duration": 584,
    "start_time": "2023-02-07T12:39:19.713Z"
   },
   {
    "duration": 4,
    "start_time": "2023-02-07T12:39:20.299Z"
   },
   {
    "duration": 28,
    "start_time": "2023-02-07T12:39:20.304Z"
   },
   {
    "duration": 47,
    "start_time": "2023-02-07T12:39:20.334Z"
   },
   {
    "duration": 14,
    "start_time": "2023-02-07T12:39:20.383Z"
   },
   {
    "duration": 195,
    "start_time": "2023-02-07T12:39:20.398Z"
   },
   {
    "duration": 403,
    "start_time": "2023-02-07T12:39:20.594Z"
   },
   {
    "duration": 5,
    "start_time": "2023-02-07T12:39:20.998Z"
   },
   {
    "duration": 882,
    "start_time": "2023-02-07T12:39:21.005Z"
   },
   {
    "duration": 749,
    "start_time": "2023-02-07T12:39:21.889Z"
   },
   {
    "duration": 10,
    "start_time": "2023-02-07T12:39:22.640Z"
   },
   {
    "duration": 41,
    "start_time": "2023-02-07T12:39:22.652Z"
   },
   {
    "duration": 879,
    "start_time": "2023-02-07T12:39:22.694Z"
   },
   {
    "duration": 7,
    "start_time": "2023-02-07T12:39:23.575Z"
   },
   {
    "duration": 753,
    "start_time": "2023-02-07T12:39:23.583Z"
   },
   {
    "duration": 31,
    "start_time": "2023-02-07T12:39:24.343Z"
   },
   {
    "duration": 15,
    "start_time": "2023-02-07T12:39:24.376Z"
   },
   {
    "duration": 4,
    "start_time": "2023-02-07T12:39:24.393Z"
   },
   {
    "duration": 5,
    "start_time": "2023-02-07T12:39:24.398Z"
   },
   {
    "duration": 12,
    "start_time": "2023-02-07T12:39:24.405Z"
   },
   {
    "duration": 59,
    "start_time": "2023-02-07T12:39:24.419Z"
   },
   {
    "duration": 6353,
    "start_time": "2023-02-07T12:39:24.483Z"
   },
   {
    "duration": 0,
    "start_time": "2023-02-07T12:39:30.838Z"
   },
   {
    "duration": 0,
    "start_time": "2023-02-07T12:39:30.847Z"
   },
   {
    "duration": 0,
    "start_time": "2023-02-07T12:39:30.848Z"
   },
   {
    "duration": 7272,
    "start_time": "2023-02-07T12:39:43.680Z"
   },
   {
    "duration": 3042,
    "start_time": "2023-02-07T12:39:50.954Z"
   },
   {
    "duration": 30188,
    "start_time": "2023-02-07T12:39:53.998Z"
   },
   {
    "duration": 9,
    "start_time": "2023-02-07T12:40:24.188Z"
   },
   {
    "duration": 0,
    "start_time": "2023-02-07T12:40:24.199Z"
   },
   {
    "duration": 7119,
    "start_time": "2023-02-07T12:40:54.363Z"
   },
   {
    "duration": 6231,
    "start_time": "2023-02-07T12:41:21.819Z"
   },
   {
    "duration": 7463,
    "start_time": "2023-02-07T12:42:58.355Z"
   },
   {
    "duration": 2758,
    "start_time": "2023-02-07T12:43:35.304Z"
   },
   {
    "duration": 30098,
    "start_time": "2023-02-07T12:43:40.313Z"
   },
   {
    "duration": 15,
    "start_time": "2023-02-07T12:44:10.413Z"
   },
   {
    "duration": 5191,
    "start_time": "2023-02-07T12:44:24.060Z"
   },
   {
    "duration": 21981,
    "start_time": "2023-02-07T12:44:42.009Z"
   },
   {
    "duration": 27393,
    "start_time": "2023-02-07T12:45:12.184Z"
   },
   {
    "duration": 2751,
    "start_time": "2023-02-07T12:46:49.833Z"
   },
   {
    "duration": 3985,
    "start_time": "2023-02-07T12:47:16.808Z"
   },
   {
    "duration": 8316,
    "start_time": "2023-02-07T12:47:41.737Z"
   },
   {
    "duration": 4269,
    "start_time": "2023-02-07T12:47:55.209Z"
   },
   {
    "duration": 1469,
    "start_time": "2023-02-07T12:48:04.747Z"
   },
   {
    "duration": 2132,
    "start_time": "2023-02-07T12:48:10.317Z"
   },
   {
    "duration": 2748,
    "start_time": "2023-02-07T12:48:16.264Z"
   },
   {
    "duration": 7868,
    "start_time": "2023-02-07T12:48:22.890Z"
   },
   {
    "duration": 6261,
    "start_time": "2023-02-07T12:48:32.584Z"
   },
   {
    "duration": 61425,
    "start_time": "2023-02-07T12:49:17.673Z"
   },
   {
    "duration": 30159,
    "start_time": "2023-02-07T12:50:33.473Z"
   },
   {
    "duration": 31155,
    "start_time": "2023-02-07T12:51:21.671Z"
   },
   {
    "duration": 30523,
    "start_time": "2023-02-07T12:51:54.594Z"
   },
   {
    "duration": 959,
    "start_time": "2023-02-07T12:52:25.120Z"
   },
   {
    "duration": 7738,
    "start_time": "2023-02-07T12:52:26.081Z"
   },
   {
    "duration": 195,
    "start_time": "2023-02-07T12:54:51.041Z"
   },
   {
    "duration": 10,
    "start_time": "2023-02-07T12:59:39.382Z"
   },
   {
    "duration": 4,
    "start_time": "2023-02-07T12:59:47.698Z"
   },
   {
    "duration": 6747,
    "start_time": "2023-02-07T12:59:50.198Z"
   },
   {
    "duration": 6445,
    "start_time": "2023-02-07T13:01:04.318Z"
   },
   {
    "duration": 2995,
    "start_time": "2023-02-07T13:01:10.768Z"
   },
   {
    "duration": 29316,
    "start_time": "2023-02-07T13:01:13.766Z"
   },
   {
    "duration": 1392,
    "start_time": "2023-02-07T13:01:43.084Z"
   },
   {
    "duration": 1511,
    "start_time": "2023-02-07T13:02:04.368Z"
   },
   {
    "duration": 695,
    "start_time": "2023-02-07T13:02:05.881Z"
   },
   {
    "duration": 287,
    "start_time": "2023-02-07T13:02:06.577Z"
   },
   {
    "duration": 351,
    "start_time": "2023-02-07T13:02:06.866Z"
   },
   {
    "duration": 27,
    "start_time": "2023-02-07T13:02:07.218Z"
   },
   {
    "duration": 15,
    "start_time": "2023-02-07T13:02:07.247Z"
   },
   {
    "duration": 580,
    "start_time": "2023-02-07T13:02:07.264Z"
   },
   {
    "duration": 5,
    "start_time": "2023-02-07T13:02:07.845Z"
   },
   {
    "duration": 38,
    "start_time": "2023-02-07T13:02:07.852Z"
   },
   {
    "duration": 33,
    "start_time": "2023-02-07T13:02:07.892Z"
   },
   {
    "duration": 48,
    "start_time": "2023-02-07T13:02:07.927Z"
   },
   {
    "duration": 205,
    "start_time": "2023-02-07T13:02:07.977Z"
   },
   {
    "duration": 517,
    "start_time": "2023-02-07T13:02:08.183Z"
   },
   {
    "duration": 5,
    "start_time": "2023-02-07T13:02:08.702Z"
   },
   {
    "duration": 906,
    "start_time": "2023-02-07T13:02:08.709Z"
   },
   {
    "duration": 772,
    "start_time": "2023-02-07T13:02:09.617Z"
   },
   {
    "duration": 4,
    "start_time": "2023-02-07T13:02:10.391Z"
   },
   {
    "duration": 18,
    "start_time": "2023-02-07T13:02:10.397Z"
   },
   {
    "duration": 914,
    "start_time": "2023-02-07T13:02:10.417Z"
   },
   {
    "duration": 16,
    "start_time": "2023-02-07T13:02:11.333Z"
   },
   {
    "duration": 816,
    "start_time": "2023-02-07T13:02:11.351Z"
   },
   {
    "duration": 15,
    "start_time": "2023-02-07T13:02:12.169Z"
   },
   {
    "duration": 13,
    "start_time": "2023-02-07T13:02:12.186Z"
   },
   {
    "duration": 4,
    "start_time": "2023-02-07T13:02:12.200Z"
   },
   {
    "duration": 10,
    "start_time": "2023-02-07T13:02:12.205Z"
   },
   {
    "duration": 36,
    "start_time": "2023-02-07T13:02:12.217Z"
   },
   {
    "duration": 71,
    "start_time": "2023-02-07T13:02:12.255Z"
   },
   {
    "duration": 6620,
    "start_time": "2023-02-07T13:02:12.329Z"
   },
   {
    "duration": 2936,
    "start_time": "2023-02-07T13:02:18.952Z"
   },
   {
    "duration": 29837,
    "start_time": "2023-02-07T13:02:21.889Z"
   },
   {
    "duration": 1452,
    "start_time": "2023-02-07T13:02:51.728Z"
   },
   {
    "duration": 1499,
    "start_time": "2023-02-07T13:05:03.158Z"
   },
   {
    "duration": 764,
    "start_time": "2023-02-07T13:05:04.659Z"
   },
   {
    "duration": 349,
    "start_time": "2023-02-07T13:05:05.426Z"
   },
   {
    "duration": 350,
    "start_time": "2023-02-07T13:05:05.778Z"
   },
   {
    "duration": 32,
    "start_time": "2023-02-07T13:05:06.130Z"
   },
   {
    "duration": 49,
    "start_time": "2023-02-07T13:05:06.164Z"
   },
   {
    "duration": 583,
    "start_time": "2023-02-07T13:05:06.215Z"
   },
   {
    "duration": 3,
    "start_time": "2023-02-07T13:05:06.799Z"
   },
   {
    "duration": 73,
    "start_time": "2023-02-07T13:05:06.803Z"
   },
   {
    "duration": 29,
    "start_time": "2023-02-07T13:05:06.879Z"
   },
   {
    "duration": 42,
    "start_time": "2023-02-07T13:05:06.910Z"
   },
   {
    "duration": 230,
    "start_time": "2023-02-07T13:05:06.954Z"
   },
   {
    "duration": 412,
    "start_time": "2023-02-07T13:05:07.185Z"
   },
   {
    "duration": 6,
    "start_time": "2023-02-07T13:05:07.599Z"
   },
   {
    "duration": 798,
    "start_time": "2023-02-07T13:05:07.606Z"
   },
   {
    "duration": 707,
    "start_time": "2023-02-07T13:05:08.406Z"
   },
   {
    "duration": 3,
    "start_time": "2023-02-07T13:05:09.114Z"
   },
   {
    "duration": 16,
    "start_time": "2023-02-07T13:05:09.119Z"
   },
   {
    "duration": 888,
    "start_time": "2023-02-07T13:05:09.144Z"
   },
   {
    "duration": 11,
    "start_time": "2023-02-07T13:05:10.034Z"
   },
   {
    "duration": 731,
    "start_time": "2023-02-07T13:05:10.048Z"
   },
   {
    "duration": 15,
    "start_time": "2023-02-07T13:05:10.781Z"
   },
   {
    "duration": 13,
    "start_time": "2023-02-07T13:05:10.797Z"
   },
   {
    "duration": 4,
    "start_time": "2023-02-07T13:05:10.812Z"
   },
   {
    "duration": 35,
    "start_time": "2023-02-07T13:05:10.817Z"
   },
   {
    "duration": 15,
    "start_time": "2023-02-07T13:05:10.859Z"
   },
   {
    "duration": 48,
    "start_time": "2023-02-07T13:05:10.875Z"
   },
   {
    "duration": 5235,
    "start_time": "2023-02-07T13:05:10.926Z"
   },
   {
    "duration": 2737,
    "start_time": "2023-02-07T13:05:16.163Z"
   },
   {
    "duration": 27985,
    "start_time": "2023-02-07T13:05:18.902Z"
   },
   {
    "duration": 1259,
    "start_time": "2023-02-07T13:05:46.888Z"
   },
   {
    "duration": 2214,
    "start_time": "2023-02-07T19:37:09.620Z"
   },
   {
    "duration": 3175,
    "start_time": "2023-02-07T19:37:11.838Z"
   },
   {
    "duration": 323,
    "start_time": "2023-02-07T19:37:15.015Z"
   },
   {
    "duration": 376,
    "start_time": "2023-02-07T19:37:15.341Z"
   },
   {
    "duration": 19,
    "start_time": "2023-02-07T19:37:15.719Z"
   },
   {
    "duration": 4,
    "start_time": "2023-02-07T19:37:15.740Z"
   },
   {
    "duration": 11,
    "start_time": "2023-02-07T19:37:15.745Z"
   },
   {
    "duration": 9,
    "start_time": "2023-02-07T19:37:15.758Z"
   },
   {
    "duration": 5,
    "start_time": "2023-02-07T19:53:12.283Z"
   },
   {
    "duration": 730,
    "start_time": "2023-02-07T19:53:12.290Z"
   },
   {
    "duration": 293,
    "start_time": "2023-02-07T19:53:13.022Z"
   },
   {
    "duration": 394,
    "start_time": "2023-02-07T19:53:13.320Z"
   },
   {
    "duration": 19,
    "start_time": "2023-02-07T19:53:13.716Z"
   },
   {
    "duration": 3,
    "start_time": "2023-02-07T19:53:13.737Z"
   },
   {
    "duration": 7,
    "start_time": "2023-02-07T19:53:13.741Z"
   },
   {
    "duration": 7,
    "start_time": "2023-02-07T19:53:13.749Z"
   },
   {
    "duration": 11,
    "start_time": "2023-02-07T19:53:13.758Z"
   },
   {
    "duration": 40,
    "start_time": "2023-02-07T19:53:13.771Z"
   },
   {
    "duration": 190,
    "start_time": "2023-02-07T19:53:13.813Z"
   },
   {
    "duration": 441,
    "start_time": "2023-02-07T19:53:14.005Z"
   },
   {
    "duration": 5,
    "start_time": "2023-02-07T19:53:14.448Z"
   },
   {
    "duration": 862,
    "start_time": "2023-02-07T19:53:14.457Z"
   },
   {
    "duration": 747,
    "start_time": "2023-02-07T19:53:15.322Z"
   },
   {
    "duration": 3,
    "start_time": "2023-02-07T19:53:16.071Z"
   },
   {
    "duration": 17,
    "start_time": "2023-02-07T19:53:16.076Z"
   },
   {
    "duration": 961,
    "start_time": "2023-02-07T19:53:16.103Z"
   },
   {
    "duration": 10,
    "start_time": "2023-02-07T19:53:17.066Z"
   },
   {
    "duration": 744,
    "start_time": "2023-02-07T19:53:17.078Z"
   },
   {
    "duration": 18,
    "start_time": "2023-02-07T19:53:17.824Z"
   },
   {
    "duration": 14,
    "start_time": "2023-02-07T19:53:17.844Z"
   },
   {
    "duration": 4,
    "start_time": "2023-02-07T19:53:17.861Z"
   },
   {
    "duration": 8,
    "start_time": "2023-02-07T19:53:17.867Z"
   },
   {
    "duration": 31,
    "start_time": "2023-02-07T19:53:17.876Z"
   },
   {
    "duration": 4,
    "start_time": "2023-02-07T19:53:38.472Z"
   },
   {
    "duration": 49,
    "start_time": "2023-02-07T20:04:48.169Z"
   },
   {
    "duration": 1898,
    "start_time": "2023-02-07T20:04:52.988Z"
   },
   {
    "duration": 3627,
    "start_time": "2023-02-07T20:04:54.889Z"
   },
   {
    "duration": 313,
    "start_time": "2023-02-07T20:04:58.518Z"
   },
   {
    "duration": 409,
    "start_time": "2023-02-07T20:04:58.835Z"
   },
   {
    "duration": 23,
    "start_time": "2023-02-07T20:04:59.245Z"
   },
   {
    "duration": 4,
    "start_time": "2023-02-07T20:04:59.269Z"
   },
   {
    "duration": 7,
    "start_time": "2023-02-07T20:04:59.275Z"
   },
   {
    "duration": 10,
    "start_time": "2023-02-07T20:04:59.283Z"
   },
   {
    "duration": 34,
    "start_time": "2023-02-07T20:04:59.294Z"
   },
   {
    "duration": 19,
    "start_time": "2023-02-07T20:04:59.335Z"
   },
   {
    "duration": 203,
    "start_time": "2023-02-07T20:04:59.356Z"
   },
   {
    "duration": 425,
    "start_time": "2023-02-07T20:04:59.561Z"
   },
   {
    "duration": 6,
    "start_time": "2023-02-07T20:04:59.988Z"
   },
   {
    "duration": 914,
    "start_time": "2023-02-07T20:04:59.995Z"
   },
   {
    "duration": 827,
    "start_time": "2023-02-07T20:05:00.911Z"
   },
   {
    "duration": 3,
    "start_time": "2023-02-07T20:05:01.740Z"
   },
   {
    "duration": 26,
    "start_time": "2023-02-07T20:05:01.745Z"
   },
   {
    "duration": 905,
    "start_time": "2023-02-07T20:05:01.773Z"
   },
   {
    "duration": 10,
    "start_time": "2023-02-07T20:05:02.680Z"
   },
   {
    "duration": 799,
    "start_time": "2023-02-07T20:05:02.692Z"
   },
   {
    "duration": 17,
    "start_time": "2023-02-07T20:05:03.492Z"
   },
   {
    "duration": 17,
    "start_time": "2023-02-07T20:05:03.521Z"
   },
   {
    "duration": 7,
    "start_time": "2023-02-07T20:05:03.540Z"
   },
   {
    "duration": 5,
    "start_time": "2023-02-07T20:05:03.549Z"
   },
   {
    "duration": 6,
    "start_time": "2023-02-07T20:05:03.556Z"
   },
   {
    "duration": 11,
    "start_time": "2023-02-07T20:05:03.563Z"
   },
   {
    "duration": 70,
    "start_time": "2023-02-07T20:05:03.576Z"
   },
   {
    "duration": 88,
    "start_time": "2023-02-07T20:05:03.650Z"
   },
   {
    "duration": 84,
    "start_time": "2023-02-07T20:05:03.740Z"
   },
   {
    "duration": 104,
    "start_time": "2023-02-07T20:05:03.829Z"
   },
   {
    "duration": 140,
    "start_time": "2023-02-07T20:05:03.934Z"
   },
   {
    "duration": 5,
    "start_time": "2023-02-07T20:06:11.144Z"
   },
   {
    "duration": 3,
    "start_time": "2023-02-07T20:06:12.200Z"
   },
   {
    "duration": 4,
    "start_time": "2023-02-07T20:06:12.393Z"
   },
   {
    "duration": 7,
    "start_time": "2023-02-07T20:06:13.192Z"
   },
   {
    "duration": 48,
    "start_time": "2023-02-07T20:06:13.608Z"
   },
   {
    "duration": 75,
    "start_time": "2023-02-07T20:06:15.468Z"
   },
   {
    "duration": 106,
    "start_time": "2023-02-07T20:07:04.917Z"
   },
   {
    "duration": 1451,
    "start_time": "2023-02-07T20:07:12.327Z"
   },
   {
    "duration": 729,
    "start_time": "2023-02-07T20:07:13.780Z"
   },
   {
    "duration": 331,
    "start_time": "2023-02-07T20:07:14.512Z"
   },
   {
    "duration": 415,
    "start_time": "2023-02-07T20:07:14.845Z"
   },
   {
    "duration": 20,
    "start_time": "2023-02-07T20:07:15.263Z"
   },
   {
    "duration": 4,
    "start_time": "2023-02-07T20:07:15.284Z"
   },
   {
    "duration": 5,
    "start_time": "2023-02-07T20:07:15.290Z"
   },
   {
    "duration": 34,
    "start_time": "2023-02-07T20:07:15.296Z"
   },
   {
    "duration": 14,
    "start_time": "2023-02-07T20:07:15.332Z"
   },
   {
    "duration": 15,
    "start_time": "2023-02-07T20:07:15.348Z"
   },
   {
    "duration": 214,
    "start_time": "2023-02-07T20:07:15.364Z"
   },
   {
    "duration": 385,
    "start_time": "2023-02-07T20:07:15.580Z"
   },
   {
    "duration": 5,
    "start_time": "2023-02-07T20:07:15.967Z"
   },
   {
    "duration": 864,
    "start_time": "2023-02-07T20:07:15.975Z"
   },
   {
    "duration": 743,
    "start_time": "2023-02-07T20:07:16.840Z"
   },
   {
    "duration": 4,
    "start_time": "2023-02-07T20:07:17.585Z"
   },
   {
    "duration": 20,
    "start_time": "2023-02-07T20:07:17.591Z"
   },
   {
    "duration": 889,
    "start_time": "2023-02-07T20:07:17.620Z"
   },
   {
    "duration": 25,
    "start_time": "2023-02-07T20:07:18.511Z"
   },
   {
    "duration": 743,
    "start_time": "2023-02-07T20:07:18.538Z"
   },
   {
    "duration": 17,
    "start_time": "2023-02-07T20:07:19.283Z"
   },
   {
    "duration": 39,
    "start_time": "2023-02-07T20:07:19.301Z"
   },
   {
    "duration": 4,
    "start_time": "2023-02-07T20:07:19.342Z"
   },
   {
    "duration": 6,
    "start_time": "2023-02-07T20:07:19.348Z"
   },
   {
    "duration": 6,
    "start_time": "2023-02-07T20:07:19.356Z"
   },
   {
    "duration": 8,
    "start_time": "2023-02-07T20:07:19.364Z"
   },
   {
    "duration": 58,
    "start_time": "2023-02-07T20:07:19.374Z"
   },
   {
    "duration": 69,
    "start_time": "2023-02-07T20:07:19.434Z"
   },
   {
    "duration": 91,
    "start_time": "2023-02-07T20:07:19.505Z"
   },
   {
    "duration": 102,
    "start_time": "2023-02-07T20:07:19.598Z"
   },
   {
    "duration": 134,
    "start_time": "2023-02-07T20:07:19.701Z"
   },
   {
    "duration": 28,
    "start_time": "2023-02-07T20:14:10.325Z"
   },
   {
    "duration": 9,
    "start_time": "2023-02-07T20:14:28.807Z"
   },
   {
    "duration": 5,
    "start_time": "2023-02-07T20:15:29.832Z"
   },
   {
    "duration": 8,
    "start_time": "2023-02-07T20:15:45.419Z"
   },
   {
    "duration": 6,
    "start_time": "2023-02-07T20:15:49.124Z"
   },
   {
    "duration": 706,
    "start_time": "2023-02-07T20:15:49.548Z"
   },
   {
    "duration": 298,
    "start_time": "2023-02-07T20:15:50.256Z"
   },
   {
    "duration": 377,
    "start_time": "2023-02-07T20:15:50.790Z"
   },
   {
    "duration": 5,
    "start_time": "2023-02-07T20:15:51.495Z"
   },
   {
    "duration": 4,
    "start_time": "2023-02-07T20:17:01.759Z"
   },
   {
    "duration": 9,
    "start_time": "2023-02-07T20:17:07.899Z"
   },
   {
    "duration": 22,
    "start_time": "2023-02-07T20:17:10.619Z"
   },
   {
    "duration": 4,
    "start_time": "2023-02-07T20:17:24.162Z"
   },
   {
    "duration": 9,
    "start_time": "2023-02-07T20:17:41.834Z"
   },
   {
    "duration": 3,
    "start_time": "2023-02-07T20:18:55.060Z"
   },
   {
    "duration": 6,
    "start_time": "2023-02-07T20:18:57.683Z"
   },
   {
    "duration": 4,
    "start_time": "2023-02-07T20:19:08.861Z"
   },
   {
    "duration": 784,
    "start_time": "2023-02-07T20:19:09.299Z"
   },
   {
    "duration": 327,
    "start_time": "2023-02-07T20:19:10.085Z"
   },
   {
    "duration": 393,
    "start_time": "2023-02-07T20:19:10.414Z"
   },
   {
    "duration": 19,
    "start_time": "2023-02-07T20:19:15.994Z"
   },
   {
    "duration": 3,
    "start_time": "2023-02-07T20:20:06.384Z"
   },
   {
    "duration": 6,
    "start_time": "2023-02-07T20:20:06.896Z"
   },
   {
    "duration": 5,
    "start_time": "2023-02-07T20:21:01.835Z"
   },
   {
    "duration": 740,
    "start_time": "2023-02-07T20:21:02.470Z"
   },
   {
    "duration": 296,
    "start_time": "2023-02-07T20:21:03.796Z"
   },
   {
    "duration": 454,
    "start_time": "2023-02-07T20:21:04.158Z"
   },
   {
    "duration": 4,
    "start_time": "2023-02-07T20:21:08.061Z"
   },
   {
    "duration": 7,
    "start_time": "2023-02-07T20:21:08.496Z"
   },
   {
    "duration": 21,
    "start_time": "2023-02-07T20:22:56.072Z"
   },
   {
    "duration": 8,
    "start_time": "2023-02-07T20:23:06.676Z"
   },
   {
    "duration": 28,
    "start_time": "2023-02-07T20:23:13.059Z"
   },
   {
    "duration": 19,
    "start_time": "2023-02-07T20:23:23.264Z"
   },
   {
    "duration": 14,
    "start_time": "2023-02-07T20:23:56.492Z"
   },
   {
    "duration": 79,
    "start_time": "2023-02-07T20:25:20.861Z"
   },
   {
    "duration": 5,
    "start_time": "2023-02-07T20:28:05.937Z"
   },
   {
    "duration": 761,
    "start_time": "2023-02-07T20:28:08.596Z"
   },
   {
    "duration": 6,
    "start_time": "2023-02-07T20:28:10.461Z"
   },
   {
    "duration": 4,
    "start_time": "2023-02-07T20:28:13.669Z"
   },
   {
    "duration": 792,
    "start_time": "2023-02-07T20:28:14.063Z"
   },
   {
    "duration": 323,
    "start_time": "2023-02-07T20:28:14.857Z"
   },
   {
    "duration": 390,
    "start_time": "2023-02-07T20:28:15.773Z"
   },
   {
    "duration": 5,
    "start_time": "2023-02-07T20:28:21.181Z"
   },
   {
    "duration": 707,
    "start_time": "2023-02-07T20:28:41.185Z"
   },
   {
    "duration": 278,
    "start_time": "2023-02-07T20:28:41.894Z"
   },
   {
    "duration": 4,
    "start_time": "2023-02-07T20:28:42.174Z"
   },
   {
    "duration": 374,
    "start_time": "2023-02-07T20:28:42.273Z"
   },
   {
    "duration": 4,
    "start_time": "2023-02-07T20:29:27.033Z"
   },
   {
    "duration": 19,
    "start_time": "2023-02-07T20:29:28.761Z"
   },
   {
    "duration": 13,
    "start_time": "2023-02-07T20:29:36.665Z"
   },
   {
    "duration": 19,
    "start_time": "2023-02-07T20:29:41.265Z"
   },
   {
    "duration": 3,
    "start_time": "2023-02-07T20:29:47.621Z"
   },
   {
    "duration": 6,
    "start_time": "2023-02-07T20:29:48.264Z"
   },
   {
    "duration": 8,
    "start_time": "2023-02-07T20:39:05.916Z"
   },
   {
    "duration": 749,
    "start_time": "2023-02-07T20:39:06.931Z"
   },
   {
    "duration": 7,
    "start_time": "2023-02-07T20:39:15.327Z"
   },
   {
    "duration": 623,
    "start_time": "2023-02-07T20:40:52.251Z"
   },
   {
    "duration": 634,
    "start_time": "2023-02-07T20:40:53.719Z"
   },
   {
    "duration": 17,
    "start_time": "2023-02-07T20:42:27.972Z"
   },
   {
    "duration": 670,
    "start_time": "2023-02-07T20:42:28.452Z"
   },
   {
    "duration": 4,
    "start_time": "2023-02-07T20:45:32.184Z"
   },
   {
    "duration": 4,
    "start_time": "2023-02-07T20:45:34.649Z"
   },
   {
    "duration": 4,
    "start_time": "2023-02-07T20:45:35.388Z"
   },
   {
    "duration": 8,
    "start_time": "2023-02-07T20:45:36.092Z"
   },
   {
    "duration": 43,
    "start_time": "2023-02-07T20:45:38.100Z"
   },
   {
    "duration": 4578,
    "start_time": "2023-02-07T20:45:42.844Z"
   },
   {
    "duration": 4,
    "start_time": "2023-02-07T20:47:08.688Z"
   },
   {
    "duration": 700,
    "start_time": "2023-02-07T20:47:08.694Z"
   },
   {
    "duration": 411,
    "start_time": "2023-02-07T20:47:09.396Z"
   },
   {
    "duration": 5,
    "start_time": "2023-02-07T20:47:09.809Z"
   },
   {
    "duration": 394,
    "start_time": "2023-02-07T20:47:09.822Z"
   },
   {
    "duration": 20,
    "start_time": "2023-02-07T20:47:10.220Z"
   },
   {
    "duration": 14,
    "start_time": "2023-02-07T20:47:10.242Z"
   },
   {
    "duration": 18,
    "start_time": "2023-02-07T20:47:10.258Z"
   },
   {
    "duration": 3,
    "start_time": "2023-02-07T20:47:10.278Z"
   },
   {
    "duration": 53,
    "start_time": "2023-02-07T20:47:10.284Z"
   },
   {
    "duration": 12,
    "start_time": "2023-02-07T20:47:10.341Z"
   },
   {
    "duration": 16,
    "start_time": "2023-02-07T20:47:10.355Z"
   },
   {
    "duration": 14,
    "start_time": "2023-02-07T20:47:10.373Z"
   },
   {
    "duration": 196,
    "start_time": "2023-02-07T20:47:10.389Z"
   },
   {
    "duration": 480,
    "start_time": "2023-02-07T20:47:10.587Z"
   },
   {
    "duration": 5,
    "start_time": "2023-02-07T20:47:11.069Z"
   },
   {
    "duration": 623,
    "start_time": "2023-02-07T20:47:11.076Z"
   },
   {
    "duration": 636,
    "start_time": "2023-02-07T20:47:11.701Z"
   },
   {
    "duration": 728,
    "start_time": "2023-02-07T20:47:22.865Z"
   },
   {
    "duration": 11,
    "start_time": "2023-02-07T20:49:52.613Z"
   },
   {
    "duration": 16,
    "start_time": "2023-02-07T20:49:59.368Z"
   },
   {
    "duration": 14,
    "start_time": "2023-02-07T20:50:36.461Z"
   },
   {
    "duration": 10,
    "start_time": "2023-02-07T20:51:25.966Z"
   },
   {
    "duration": 15,
    "start_time": "2023-02-07T20:51:32.366Z"
   },
   {
    "duration": 9,
    "start_time": "2023-02-07T20:53:33.166Z"
   },
   {
    "duration": 14,
    "start_time": "2023-02-07T20:53:41.323Z"
   },
   {
    "duration": 10,
    "start_time": "2023-02-07T20:53:48.585Z"
   },
   {
    "duration": 75,
    "start_time": "2023-02-07T20:54:42.461Z"
   },
   {
    "duration": 70,
    "start_time": "2023-02-07T20:54:51.802Z"
   },
   {
    "duration": 73,
    "start_time": "2023-02-07T20:54:53.981Z"
   },
   {
    "duration": 7,
    "start_time": "2023-02-07T20:55:17.333Z"
   },
   {
    "duration": 8,
    "start_time": "2023-02-07T20:55:24.342Z"
   },
   {
    "duration": 8,
    "start_time": "2023-02-07T20:55:28.949Z"
   },
   {
    "duration": 9,
    "start_time": "2023-02-07T20:55:38.770Z"
   },
   {
    "duration": 11,
    "start_time": "2023-02-07T20:57:09.655Z"
   },
   {
    "duration": 11,
    "start_time": "2023-02-07T20:57:14.867Z"
   },
   {
    "duration": 10,
    "start_time": "2023-02-07T20:57:20.082Z"
   },
   {
    "duration": 17,
    "start_time": "2023-02-07T20:57:58.706Z"
   },
   {
    "duration": 16,
    "start_time": "2023-02-07T20:57:59.442Z"
   },
   {
    "duration": 6,
    "start_time": "2023-02-07T20:58:10.742Z"
   },
   {
    "duration": 4,
    "start_time": "2023-02-07T20:58:16.694Z"
   },
   {
    "duration": 3,
    "start_time": "2023-02-07T20:58:18.006Z"
   },
   {
    "duration": 5,
    "start_time": "2023-02-07T20:58:18.738Z"
   },
   {
    "duration": 9,
    "start_time": "2023-02-07T20:58:19.255Z"
   },
   {
    "duration": 44,
    "start_time": "2023-02-07T20:58:20.278Z"
   },
   {
    "duration": 4686,
    "start_time": "2023-02-07T20:58:21.654Z"
   },
   {
    "duration": 4,
    "start_time": "2023-02-07T21:01:05.767Z"
   },
   {
    "duration": 4,
    "start_time": "2023-02-07T21:01:12.070Z"
   },
   {
    "duration": 4,
    "start_time": "2023-02-07T21:01:12.261Z"
   },
   {
    "duration": 9,
    "start_time": "2023-02-07T21:01:14.115Z"
   },
   {
    "duration": 39,
    "start_time": "2023-02-07T21:01:14.307Z"
   },
   {
    "duration": 4435,
    "start_time": "2023-02-07T21:01:16.391Z"
   },
   {
    "duration": 3,
    "start_time": "2023-02-07T21:02:01.675Z"
   },
   {
    "duration": 3,
    "start_time": "2023-02-07T21:02:03.951Z"
   },
   {
    "duration": 4,
    "start_time": "2023-02-07T21:02:04.139Z"
   },
   {
    "duration": 9,
    "start_time": "2023-02-07T21:02:05.134Z"
   },
   {
    "duration": 39,
    "start_time": "2023-02-07T21:02:05.742Z"
   },
   {
    "duration": 4676,
    "start_time": "2023-02-07T21:02:07.150Z"
   },
   {
    "duration": 4,
    "start_time": "2023-02-07T21:02:21.291Z"
   },
   {
    "duration": 5,
    "start_time": "2023-02-07T21:04:04.700Z"
   },
   {
    "duration": 5,
    "start_time": "2023-02-07T21:04:10.399Z"
   },
   {
    "duration": 4,
    "start_time": "2023-02-07T21:04:13.247Z"
   },
   {
    "duration": 665,
    "start_time": "2023-02-07T21:04:13.599Z"
   },
   {
    "duration": 332,
    "start_time": "2023-02-07T21:04:14.267Z"
   },
   {
    "duration": 7,
    "start_time": "2023-02-07T21:04:14.601Z"
   },
   {
    "duration": 6,
    "start_time": "2023-02-07T21:04:32.095Z"
   },
   {
    "duration": 15,
    "start_time": "2023-02-07T21:04:59.100Z"
   },
   {
    "duration": 11,
    "start_time": "2023-02-07T21:05:05.123Z"
   },
   {
    "duration": 5,
    "start_time": "2023-02-07T21:05:09.188Z"
   },
   {
    "duration": 4,
    "start_time": "2023-02-07T21:05:31.432Z"
   },
   {
    "duration": 7,
    "start_time": "2023-02-07T21:05:36.138Z"
   },
   {
    "duration": 1721,
    "start_time": "2023-02-07T21:06:04.978Z"
   },
   {
    "duration": 843,
    "start_time": "2023-02-07T21:06:06.701Z"
   },
   {
    "duration": 332,
    "start_time": "2023-02-07T21:06:07.547Z"
   },
   {
    "duration": 6,
    "start_time": "2023-02-07T21:06:07.881Z"
   },
   {
    "duration": 10,
    "start_time": "2023-02-07T21:06:07.889Z"
   },
   {
    "duration": 480,
    "start_time": "2023-02-07T21:06:07.900Z"
   },
   {
    "duration": 21,
    "start_time": "2023-02-07T21:06:08.382Z"
   },
   {
    "duration": 36,
    "start_time": "2023-02-07T21:06:08.404Z"
   },
   {
    "duration": 18,
    "start_time": "2023-02-07T21:06:08.442Z"
   },
   {
    "duration": 3,
    "start_time": "2023-02-07T21:06:08.464Z"
   },
   {
    "duration": 11,
    "start_time": "2023-02-07T21:06:08.469Z"
   },
   {
    "duration": 42,
    "start_time": "2023-02-07T21:06:08.481Z"
   },
   {
    "duration": 14,
    "start_time": "2023-02-07T21:06:08.526Z"
   },
   {
    "duration": 15,
    "start_time": "2023-02-07T21:06:08.542Z"
   },
   {
    "duration": 219,
    "start_time": "2023-02-07T21:06:08.559Z"
   },
   {
    "duration": 521,
    "start_time": "2023-02-07T21:06:08.779Z"
   },
   {
    "duration": 6,
    "start_time": "2023-02-07T21:06:09.302Z"
   },
   {
    "duration": 859,
    "start_time": "2023-02-07T21:06:09.310Z"
   },
   {
    "duration": 750,
    "start_time": "2023-02-07T21:06:10.171Z"
   },
   {
    "duration": 14,
    "start_time": "2023-02-07T21:06:10.923Z"
   },
   {
    "duration": 25,
    "start_time": "2023-02-07T21:06:10.940Z"
   },
   {
    "duration": 15,
    "start_time": "2023-02-07T21:06:10.967Z"
   },
   {
    "duration": 3,
    "start_time": "2023-02-07T21:06:10.984Z"
   },
   {
    "duration": 6,
    "start_time": "2023-02-07T21:06:10.989Z"
   },
   {
    "duration": 9,
    "start_time": "2023-02-07T21:06:11.022Z"
   },
   {
    "duration": 14,
    "start_time": "2023-02-07T21:06:11.033Z"
   },
   {
    "duration": 72,
    "start_time": "2023-02-07T21:06:11.049Z"
   },
   {
    "duration": 6095,
    "start_time": "2023-02-07T21:06:11.126Z"
   },
   {
    "duration": 3428,
    "start_time": "2023-02-07T21:06:17.223Z"
   },
   {
    "duration": 34270,
    "start_time": "2023-02-07T21:06:20.653Z"
   },
   {
    "duration": 1900,
    "start_time": "2023-02-07T21:06:54.925Z"
   },
   {
    "duration": 4,
    "start_time": "2023-02-07T21:07:03.278Z"
   },
   {
    "duration": 5,
    "start_time": "2023-02-07T21:07:03.594Z"
   },
   {
    "duration": 7,
    "start_time": "2023-02-07T21:07:57.689Z"
   },
   {
    "duration": 35,
    "start_time": "2023-02-07T21:08:00.664Z"
   },
   {
    "duration": 3072,
    "start_time": "2023-02-07T21:08:04.351Z"
   },
   {
    "duration": 1880,
    "start_time": "2023-02-07T21:08:12.059Z"
   },
   {
    "duration": 19633,
    "start_time": "2023-02-07T21:08:16.438Z"
   },
   {
    "duration": 622,
    "start_time": "2023-02-07T21:08:42.903Z"
   },
   {
    "duration": 3,
    "start_time": "2023-02-07T21:11:20.316Z"
   },
   {
    "duration": 4,
    "start_time": "2023-02-07T21:14:44.232Z"
   },
   {
    "duration": 3,
    "start_time": "2023-02-07T21:14:44.516Z"
   },
   {
    "duration": 160,
    "start_time": "2023-02-07T21:14:44.872Z"
   },
   {
    "duration": 3,
    "start_time": "2023-02-07T21:15:23.860Z"
   },
   {
    "duration": 3,
    "start_time": "2023-02-07T21:15:25.207Z"
   },
   {
    "duration": 14,
    "start_time": "2023-02-07T21:15:25.786Z"
   },
   {
    "duration": 83290,
    "start_time": "2023-02-07T21:16:17.792Z"
   },
   {
    "duration": 3,
    "start_time": "2023-02-07T21:18:56.705Z"
   },
   {
    "duration": 82,
    "start_time": "2023-02-07T21:20:34.249Z"
   },
   {
    "duration": 4,
    "start_time": "2023-02-07T21:20:39.829Z"
   },
   {
    "duration": 4,
    "start_time": "2023-02-07T21:21:12.693Z"
   },
   {
    "duration": 3,
    "start_time": "2023-02-07T21:21:12.945Z"
   },
   {
    "duration": 328209,
    "start_time": "2023-02-07T21:21:13.685Z"
   },
   {
    "duration": 4,
    "start_time": "2023-02-07T21:31:29.713Z"
   },
   {
    "duration": 5,
    "start_time": "2023-02-07T21:31:53.483Z"
   },
   {
    "duration": 2819,
    "start_time": "2023-02-07T21:32:04.619Z"
   },
   {
    "duration": 11348,
    "start_time": "2023-02-07T21:32:28.270Z"
   },
   {
    "duration": 19365,
    "start_time": "2023-02-07T21:32:45.263Z"
   },
   {
    "duration": 3,
    "start_time": "2023-02-07T21:33:39.003Z"
   },
   {
    "duration": 9,
    "start_time": "2023-02-07T21:33:39.008Z"
   },
   {
    "duration": 199634,
    "start_time": "2023-02-07T21:33:47.575Z"
   },
   {
    "duration": 4,
    "start_time": "2023-02-07T21:37:07.211Z"
   },
   {
    "duration": 3,
    "start_time": "2023-02-07T21:37:25.660Z"
   },
   {
    "duration": 1592,
    "start_time": "2023-02-07T21:40:04.232Z"
   },
   {
    "duration": 726,
    "start_time": "2023-02-07T21:40:05.826Z"
   },
   {
    "duration": 288,
    "start_time": "2023-02-07T21:40:06.554Z"
   },
   {
    "duration": 7,
    "start_time": "2023-02-07T21:40:06.844Z"
   },
   {
    "duration": 10,
    "start_time": "2023-02-07T21:40:06.852Z"
   },
   {
    "duration": 387,
    "start_time": "2023-02-07T21:40:06.863Z"
   },
   {
    "duration": 20,
    "start_time": "2023-02-07T21:40:07.251Z"
   },
   {
    "duration": 20,
    "start_time": "2023-02-07T21:40:07.272Z"
   },
   {
    "duration": 38,
    "start_time": "2023-02-07T21:40:07.294Z"
   },
   {
    "duration": 3,
    "start_time": "2023-02-07T21:40:07.335Z"
   },
   {
    "duration": 11,
    "start_time": "2023-02-07T21:40:07.339Z"
   },
   {
    "duration": 5,
    "start_time": "2023-02-07T21:40:07.352Z"
   },
   {
    "duration": 13,
    "start_time": "2023-02-07T21:40:07.359Z"
   },
   {
    "duration": 49,
    "start_time": "2023-02-07T21:40:07.374Z"
   },
   {
    "duration": 196,
    "start_time": "2023-02-07T21:40:07.425Z"
   },
   {
    "duration": 436,
    "start_time": "2023-02-07T21:40:07.623Z"
   },
   {
    "duration": 6,
    "start_time": "2023-02-07T21:40:08.061Z"
   },
   {
    "duration": 739,
    "start_time": "2023-02-07T21:40:08.068Z"
   },
   {
    "duration": 633,
    "start_time": "2023-02-07T21:40:08.809Z"
   },
   {
    "duration": 9,
    "start_time": "2023-02-07T21:40:09.444Z"
   },
   {
    "duration": 17,
    "start_time": "2023-02-07T21:40:09.455Z"
   },
   {
    "duration": 14,
    "start_time": "2023-02-07T21:40:09.473Z"
   },
   {
    "duration": 4,
    "start_time": "2023-02-07T21:40:09.488Z"
   },
   {
    "duration": 3,
    "start_time": "2023-02-07T21:40:09.521Z"
   },
   {
    "duration": 7,
    "start_time": "2023-02-07T21:40:09.525Z"
   },
   {
    "duration": 8,
    "start_time": "2023-02-07T21:40:09.533Z"
   },
   {
    "duration": 34,
    "start_time": "2023-02-07T21:40:09.543Z"
   },
   {
    "duration": 3051,
    "start_time": "2023-02-07T21:40:09.582Z"
   },
   {
    "duration": 2079,
    "start_time": "2023-02-07T21:40:12.635Z"
   },
   {
    "duration": 4,
    "start_time": "2023-02-07T21:40:14.721Z"
   },
   {
    "duration": 27,
    "start_time": "2023-02-07T21:40:14.727Z"
   },
   {
    "duration": 203086,
    "start_time": "2023-02-07T21:40:14.756Z"
   },
   {
    "duration": 4,
    "start_time": "2023-02-07T21:43:37.843Z"
   },
   {
    "duration": 211914,
    "start_time": "2023-02-07T21:43:37.849Z"
   },
   {
    "duration": 3,
    "start_time": "2023-02-07T21:47:09.765Z"
   },
   {
    "duration": 600,
    "start_time": "2023-02-07T21:47:29.437Z"
   },
   {
    "duration": 20094,
    "start_time": "2023-02-07T21:47:30.121Z"
   },
   {
    "duration": 143844,
    "start_time": "2023-02-07T21:48:37.370Z"
   },
   {
    "duration": 4950,
    "start_time": "2023-02-07T21:51:35.622Z"
   },
   {
    "duration": 118,
    "start_time": "2023-02-07T21:51:46.595Z"
   },
   {
    "duration": 4,
    "start_time": "2023-02-07T21:52:02.223Z"
   },
   {
    "duration": 3,
    "start_time": "2023-02-07T21:52:06.571Z"
   },
   {
    "duration": 6,
    "start_time": "2023-02-07T21:52:08.330Z"
   },
   {
    "duration": 3,
    "start_time": "2023-02-07T21:53:20.886Z"
   },
   {
    "duration": 5,
    "start_time": "2023-02-07T21:53:21.083Z"
   },
   {
    "duration": 10,
    "start_time": "2023-02-07T21:53:21.499Z"
   },
   {
    "duration": 13,
    "start_time": "2023-02-07T21:53:25.275Z"
   },
   {
    "duration": 3,
    "start_time": "2023-02-07T21:53:29.755Z"
   },
   {
    "duration": 7,
    "start_time": "2023-02-07T21:53:29.948Z"
   },
   {
    "duration": 13,
    "start_time": "2023-02-07T21:53:30.427Z"
   },
   {
    "duration": 11,
    "start_time": "2023-02-07T21:53:34.171Z"
   },
   {
    "duration": 3,
    "start_time": "2023-02-07T21:53:56.731Z"
   },
   {
    "duration": 6,
    "start_time": "2023-02-07T21:53:56.923Z"
   },
   {
    "duration": 3,
    "start_time": "2023-02-07T21:53:57.279Z"
   },
   {
    "duration": 7,
    "start_time": "2023-02-07T21:55:01.444Z"
   },
   {
    "duration": 2,
    "start_time": "2023-02-07T21:55:06.123Z"
   },
   {
    "duration": 6,
    "start_time": "2023-02-07T21:55:06.347Z"
   },
   {
    "duration": 3,
    "start_time": "2023-02-07T21:55:06.604Z"
   },
   {
    "duration": 7,
    "start_time": "2023-02-07T21:55:07.051Z"
   },
   {
    "duration": 3,
    "start_time": "2023-02-07T21:55:20.872Z"
   },
   {
    "duration": 6,
    "start_time": "2023-02-07T21:55:21.068Z"
   },
   {
    "duration": 5,
    "start_time": "2023-02-07T21:55:21.259Z"
   },
   {
    "duration": 8,
    "start_time": "2023-02-07T21:55:21.548Z"
   },
   {
    "duration": 3,
    "start_time": "2023-02-07T21:56:05.427Z"
   },
   {
    "duration": 5,
    "start_time": "2023-02-07T21:56:05.779Z"
   },
   {
    "duration": 3,
    "start_time": "2023-02-07T21:56:06.195Z"
   },
   {
    "duration": 6,
    "start_time": "2023-02-07T21:56:06.484Z"
   },
   {
    "duration": 3,
    "start_time": "2023-02-07T21:56:08.467Z"
   },
   {
    "duration": 5,
    "start_time": "2023-02-07T21:56:08.655Z"
   },
   {
    "duration": 3,
    "start_time": "2023-02-07T21:56:08.919Z"
   },
   {
    "duration": 7,
    "start_time": "2023-02-07T21:56:09.299Z"
   },
   {
    "duration": 48,
    "start_time": "2023-02-08T17:01:40.553Z"
   },
   {
    "duration": 2196,
    "start_time": "2023-02-08T17:02:06.525Z"
   },
   {
    "duration": 713,
    "start_time": "2023-02-08T17:02:08.723Z"
   },
   {
    "duration": 302,
    "start_time": "2023-02-08T17:02:09.438Z"
   },
   {
    "duration": 6,
    "start_time": "2023-02-08T17:02:09.742Z"
   },
   {
    "duration": 7,
    "start_time": "2023-02-08T17:02:09.752Z"
   },
   {
    "duration": 404,
    "start_time": "2023-02-08T17:02:09.761Z"
   },
   {
    "duration": 22,
    "start_time": "2023-02-08T17:02:10.167Z"
   },
   {
    "duration": 38,
    "start_time": "2023-02-08T17:02:10.191Z"
   },
   {
    "duration": 17,
    "start_time": "2023-02-08T17:02:10.231Z"
   },
   {
    "duration": 3,
    "start_time": "2023-02-08T17:02:10.250Z"
   },
   {
    "duration": 11,
    "start_time": "2023-02-08T17:02:10.255Z"
   },
   {
    "duration": 5,
    "start_time": "2023-02-08T17:02:10.268Z"
   },
   {
    "duration": 10,
    "start_time": "2023-02-08T17:02:10.275Z"
   },
   {
    "duration": 18,
    "start_time": "2023-02-08T17:02:10.320Z"
   },
   {
    "duration": 218,
    "start_time": "2023-02-08T17:02:10.340Z"
   },
   {
    "duration": 400,
    "start_time": "2023-02-08T17:02:10.560Z"
   },
   {
    "duration": 8,
    "start_time": "2023-02-08T17:02:10.962Z"
   },
   {
    "duration": 794,
    "start_time": "2023-02-08T17:02:10.973Z"
   },
   {
    "duration": 695,
    "start_time": "2023-02-08T17:02:11.769Z"
   },
   {
    "duration": 10,
    "start_time": "2023-02-08T17:02:12.465Z"
   },
   {
    "duration": 19,
    "start_time": "2023-02-08T17:02:12.476Z"
   },
   {
    "duration": 31,
    "start_time": "2023-02-08T17:02:12.497Z"
   },
   {
    "duration": 4,
    "start_time": "2023-02-08T17:02:12.530Z"
   },
   {
    "duration": 7,
    "start_time": "2023-02-08T17:02:12.536Z"
   },
   {
    "duration": 8,
    "start_time": "2023-02-08T17:02:12.545Z"
   },
   {
    "duration": 11,
    "start_time": "2023-02-08T17:02:12.555Z"
   },
   {
    "duration": 19,
    "start_time": "2023-02-08T17:02:57.729Z"
   },
   {
    "duration": 32,
    "start_time": "2023-02-08T17:03:18.473Z"
   },
   {
    "duration": 5291,
    "start_time": "2023-02-08T17:05:43.661Z"
   },
   {
    "duration": 5162,
    "start_time": "2023-02-08T17:06:53.491Z"
   },
   {
    "duration": 3,
    "start_time": "2023-02-08T17:07:08.314Z"
   },
   {
    "duration": 6,
    "start_time": "2023-02-08T17:07:08.995Z"
   },
   {
    "duration": 4,
    "start_time": "2023-02-08T17:07:09.653Z"
   },
   {
    "duration": 16,
    "start_time": "2023-02-08T17:07:10.189Z"
   },
   {
    "duration": 9,
    "start_time": "2023-02-08T17:07:26.528Z"
   },
   {
    "duration": 4998,
    "start_time": "2023-02-08T17:07:34.919Z"
   },
   {
    "duration": 19,
    "start_time": "2023-02-08T17:08:14.582Z"
   },
   {
    "duration": 53,
    "start_time": "2023-02-08T17:29:04.872Z"
   },
   {
    "duration": 1636,
    "start_time": "2023-02-08T17:29:29.484Z"
   },
   {
    "duration": 2983,
    "start_time": "2023-02-08T17:29:31.122Z"
   },
   {
    "duration": 309,
    "start_time": "2023-02-08T17:29:34.107Z"
   },
   {
    "duration": 8,
    "start_time": "2023-02-08T17:29:34.418Z"
   },
   {
    "duration": 9,
    "start_time": "2023-02-08T17:29:34.437Z"
   },
   {
    "duration": 420,
    "start_time": "2023-02-08T17:29:34.447Z"
   },
   {
    "duration": 20,
    "start_time": "2023-02-08T17:29:34.868Z"
   },
   {
    "duration": 21,
    "start_time": "2023-02-08T17:29:34.890Z"
   },
   {
    "duration": 40,
    "start_time": "2023-02-08T17:29:34.912Z"
   },
   {
    "duration": 3,
    "start_time": "2023-02-08T17:29:34.955Z"
   },
   {
    "duration": 13,
    "start_time": "2023-02-08T17:29:34.960Z"
   },
   {
    "duration": 13,
    "start_time": "2023-02-08T17:29:34.974Z"
   },
   {
    "duration": 18,
    "start_time": "2023-02-08T17:29:34.989Z"
   },
   {
    "duration": 29,
    "start_time": "2023-02-08T17:29:35.008Z"
   },
   {
    "duration": 230,
    "start_time": "2023-02-08T17:29:35.039Z"
   },
   {
    "duration": 454,
    "start_time": "2023-02-08T17:29:35.271Z"
   },
   {
    "duration": 9,
    "start_time": "2023-02-08T17:29:35.727Z"
   },
   {
    "duration": 772,
    "start_time": "2023-02-08T17:29:35.738Z"
   },
   {
    "duration": 690,
    "start_time": "2023-02-08T17:29:36.512Z"
   },
   {
    "duration": 10,
    "start_time": "2023-02-08T17:29:37.204Z"
   },
   {
    "duration": 27,
    "start_time": "2023-02-08T17:29:37.216Z"
   },
   {
    "duration": 15,
    "start_time": "2023-02-08T17:29:37.244Z"
   },
   {
    "duration": 4,
    "start_time": "2023-02-08T17:29:37.261Z"
   },
   {
    "duration": 9,
    "start_time": "2023-02-08T17:29:37.267Z"
   },
   {
    "duration": 11,
    "start_time": "2023-02-08T17:29:37.278Z"
   },
   {
    "duration": 19,
    "start_time": "2023-02-08T17:29:37.291Z"
   },
   {
    "duration": 52,
    "start_time": "2023-02-08T17:29:37.312Z"
   },
   {
    "duration": 2973,
    "start_time": "2023-02-08T17:29:37.367Z"
   },
   {
    "duration": 1980,
    "start_time": "2023-02-08T17:29:40.343Z"
   },
   {
    "duration": 4,
    "start_time": "2023-02-08T17:29:42.325Z"
   },
   {
    "duration": 3,
    "start_time": "2023-02-08T17:29:42.336Z"
   },
   {
    "duration": 44621,
    "start_time": "2023-02-08T17:29:42.341Z"
   },
   {
    "duration": 0,
    "start_time": "2023-02-08T17:30:26.964Z"
   },
   {
    "duration": 0,
    "start_time": "2023-02-08T17:30:26.966Z"
   },
   {
    "duration": 0,
    "start_time": "2023-02-08T17:30:26.967Z"
   },
   {
    "duration": 0,
    "start_time": "2023-02-08T17:30:26.968Z"
   },
   {
    "duration": 1,
    "start_time": "2023-02-08T17:30:26.969Z"
   },
   {
    "duration": 0,
    "start_time": "2023-02-08T17:30:26.971Z"
   },
   {
    "duration": 0,
    "start_time": "2023-02-08T17:30:26.972Z"
   },
   {
    "duration": 0,
    "start_time": "2023-02-08T17:30:26.973Z"
   },
   {
    "duration": 0,
    "start_time": "2023-02-08T17:30:26.974Z"
   },
   {
    "duration": 4,
    "start_time": "2023-02-08T17:30:45.715Z"
   },
   {
    "duration": 3,
    "start_time": "2023-02-08T17:30:45.984Z"
   },
   {
    "duration": 196473,
    "start_time": "2023-02-08T17:30:46.176Z"
   },
   {
    "duration": 4,
    "start_time": "2023-02-08T17:34:02.652Z"
   },
   {
    "duration": 20,
    "start_time": "2023-02-08T17:34:02.658Z"
   },
   {
    "duration": 201548,
    "start_time": "2023-02-08T17:34:02.680Z"
   },
   {
    "duration": 6,
    "start_time": "2023-02-08T17:37:24.231Z"
   },
   {
    "duration": 13,
    "start_time": "2023-02-08T17:37:24.239Z"
   },
   {
    "duration": 19156,
    "start_time": "2023-02-08T17:37:24.253Z"
   },
   {
    "duration": 4817,
    "start_time": "2023-02-08T17:37:43.411Z"
   },
   {
    "duration": 3,
    "start_time": "2023-02-08T17:37:48.230Z"
   },
   {
    "duration": 7,
    "start_time": "2023-02-08T17:37:48.238Z"
   },
   {
    "duration": 4,
    "start_time": "2023-02-08T17:37:48.247Z"
   },
   {
    "duration": 9,
    "start_time": "2023-02-08T17:37:48.253Z"
   },
   {
    "duration": 1255,
    "start_time": "2023-02-08T17:48:34.416Z"
   },
   {
    "duration": 21,
    "start_time": "2023-02-08T17:48:47.831Z"
   },
   {
    "duration": 15,
    "start_time": "2023-02-08T17:48:56.310Z"
   },
   {
    "duration": 20,
    "start_time": "2023-02-08T17:49:01.853Z"
   },
   {
    "duration": 20,
    "start_time": "2023-02-08T17:49:11.231Z"
   },
   {
    "duration": 20,
    "start_time": "2023-02-08T17:50:07.454Z"
   },
   {
    "duration": 20,
    "start_time": "2023-02-08T17:50:17.309Z"
   },
   {
    "duration": 15,
    "start_time": "2023-02-08T17:50:23.569Z"
   },
   {
    "duration": 72,
    "start_time": "2023-02-08T17:50:46.457Z"
   },
   {
    "duration": 4,
    "start_time": "2023-02-08T17:50:49.995Z"
   },
   {
    "duration": 16,
    "start_time": "2023-02-08T17:50:50.259Z"
   },
   {
    "duration": 11,
    "start_time": "2023-02-08T17:50:53.932Z"
   },
   {
    "duration": 18,
    "start_time": "2023-02-08T17:50:54.451Z"
   },
   {
    "duration": 16,
    "start_time": "2023-02-08T17:50:54.663Z"
   },
   {
    "duration": 29,
    "start_time": "2023-02-08T17:52:15.359Z"
   },
   {
    "duration": 40,
    "start_time": "2023-02-08T17:53:40.052Z"
   },
   {
    "duration": 5,
    "start_time": "2023-02-08T17:53:55.572Z"
   },
   {
    "duration": 1308,
    "start_time": "2023-02-08T17:54:00.372Z"
   },
   {
    "duration": 5,
    "start_time": "2023-02-08T17:54:29.316Z"
   },
   {
    "duration": 713,
    "start_time": "2023-02-08T17:54:29.665Z"
   },
   {
    "duration": 323,
    "start_time": "2023-02-08T17:54:30.380Z"
   },
   {
    "duration": 5,
    "start_time": "2023-02-08T17:54:30.705Z"
   },
   {
    "duration": 28,
    "start_time": "2023-02-08T17:54:30.712Z"
   },
   {
    "duration": 450,
    "start_time": "2023-02-08T17:54:30.741Z"
   },
   {
    "duration": 24,
    "start_time": "2023-02-08T17:54:31.237Z"
   },
   {
    "duration": 15,
    "start_time": "2023-02-08T17:54:31.952Z"
   },
   {
    "duration": 18,
    "start_time": "2023-02-08T17:54:33.152Z"
   },
   {
    "duration": 4,
    "start_time": "2023-02-08T17:54:34.284Z"
   },
   {
    "duration": 7,
    "start_time": "2023-02-08T17:54:34.928Z"
   },
   {
    "duration": 5,
    "start_time": "2023-02-08T17:54:36.151Z"
   },
   {
    "duration": 5,
    "start_time": "2023-02-08T17:55:04.610Z"
   },
   {
    "duration": 9,
    "start_time": "2023-02-08T17:55:07.685Z"
   },
   {
    "duration": 25,
    "start_time": "2023-02-08T17:55:07.832Z"
   },
   {
    "duration": 230,
    "start_time": "2023-02-08T17:55:08.024Z"
   },
   {
    "duration": 427,
    "start_time": "2023-02-08T17:55:08.764Z"
   },
   {
    "duration": 10,
    "start_time": "2023-02-08T17:55:11.109Z"
   },
   {
    "duration": 735,
    "start_time": "2023-02-08T17:55:12.084Z"
   },
   {
    "duration": 686,
    "start_time": "2023-02-08T17:55:12.822Z"
   },
   {
    "duration": 10,
    "start_time": "2023-02-08T17:55:14.076Z"
   },
   {
    "duration": 16,
    "start_time": "2023-02-08T17:55:14.910Z"
   },
   {
    "duration": 22,
    "start_time": "2023-02-08T17:55:16.732Z"
   },
   {
    "duration": 7,
    "start_time": "2023-02-08T17:55:47.252Z"
   },
   {
    "duration": 10,
    "start_time": "2023-02-08T17:55:48.785Z"
   },
   {
    "duration": 16,
    "start_time": "2023-02-08T17:56:04.124Z"
   },
   {
    "duration": 10,
    "start_time": "2023-02-08T17:56:05.113Z"
   },
   {
    "duration": 24,
    "start_time": "2023-02-08T17:56:06.333Z"
   },
   {
    "duration": 7,
    "start_time": "2023-02-08T17:56:17.573Z"
   },
   {
    "duration": 13,
    "start_time": "2023-02-08T17:56:18.468Z"
   },
   {
    "duration": 4,
    "start_time": "2023-02-08T17:56:36.949Z"
   },
   {
    "duration": 756,
    "start_time": "2023-02-08T17:56:36.956Z"
   },
   {
    "duration": 299,
    "start_time": "2023-02-08T17:56:37.714Z"
   },
   {
    "duration": 5,
    "start_time": "2023-02-08T17:56:38.015Z"
   },
   {
    "duration": 21,
    "start_time": "2023-02-08T17:56:38.022Z"
   },
   {
    "duration": 428,
    "start_time": "2023-02-08T17:56:38.045Z"
   },
   {
    "duration": 28,
    "start_time": "2023-02-08T17:56:38.475Z"
   },
   {
    "duration": 38,
    "start_time": "2023-02-08T17:56:38.506Z"
   },
   {
    "duration": 21,
    "start_time": "2023-02-08T17:56:38.547Z"
   },
   {
    "duration": 3,
    "start_time": "2023-02-08T17:56:38.571Z"
   },
   {
    "duration": 13,
    "start_time": "2023-02-08T17:56:38.576Z"
   },
   {
    "duration": 16,
    "start_time": "2023-02-08T17:56:38.591Z"
   },
   {
    "duration": 70,
    "start_time": "2023-02-08T17:56:38.610Z"
   },
   {
    "duration": 26,
    "start_time": "2023-02-08T17:56:38.682Z"
   },
   {
    "duration": 189,
    "start_time": "2023-02-08T17:56:38.710Z"
   },
   {
    "duration": 391,
    "start_time": "2023-02-08T17:56:38.901Z"
   },
   {
    "duration": 7,
    "start_time": "2023-02-08T17:56:39.294Z"
   },
   {
    "duration": 803,
    "start_time": "2023-02-08T17:56:39.303Z"
   },
   {
    "duration": 657,
    "start_time": "2023-02-08T17:56:40.109Z"
   },
   {
    "duration": 9,
    "start_time": "2023-02-08T17:56:40.768Z"
   },
   {
    "duration": 17,
    "start_time": "2023-02-08T17:56:40.778Z"
   },
   {
    "duration": 10,
    "start_time": "2023-02-08T17:56:40.797Z"
   },
   {
    "duration": 33,
    "start_time": "2023-02-08T17:56:40.809Z"
   },
   {
    "duration": 8,
    "start_time": "2023-02-08T17:56:41.965Z"
   },
   {
    "duration": 10,
    "start_time": "2023-02-08T17:56:42.280Z"
   },
   {
    "duration": 663,
    "start_time": "2023-02-08T17:57:22.161Z"
   },
   {
    "duration": 22,
    "start_time": "2023-02-08T17:57:29.769Z"
   },
   {
    "duration": 20,
    "start_time": "2023-02-08T17:57:30.057Z"
   },
   {
    "duration": 4,
    "start_time": "2023-02-08T17:57:32.054Z"
   },
   {
    "duration": 3,
    "start_time": "2023-02-08T17:57:35.413Z"
   },
   {
    "duration": 5,
    "start_time": "2023-02-08T17:57:35.825Z"
   },
   {
    "duration": 9,
    "start_time": "2023-02-08T17:57:37.461Z"
   },
   {
    "duration": 27,
    "start_time": "2023-02-08T17:57:38.069Z"
   },
   {
    "duration": 4027,
    "start_time": "2023-02-08T17:57:41.111Z"
   },
   {
    "duration": 1849,
    "start_time": "2023-02-08T17:57:47.585Z"
   },
   {
    "duration": 3,
    "start_time": "2023-02-08T17:57:55.421Z"
   },
   {
    "duration": 3,
    "start_time": "2023-02-08T17:57:55.617Z"
   },
   {
    "duration": 199241,
    "start_time": "2023-02-08T17:57:55.811Z"
   },
   {
    "duration": 5,
    "start_time": "2023-02-08T18:01:15.056Z"
   },
   {
    "duration": 20,
    "start_time": "2023-02-08T18:01:15.063Z"
   },
   {
    "duration": 192767,
    "start_time": "2023-02-08T18:01:15.086Z"
   },
   {
    "duration": 4,
    "start_time": "2023-02-08T18:04:27.855Z"
   },
   {
    "duration": 12,
    "start_time": "2023-02-08T18:04:27.861Z"
   },
   {
    "duration": 18276,
    "start_time": "2023-02-08T18:04:27.876Z"
   },
   {
    "duration": 4809,
    "start_time": "2023-02-08T18:04:46.154Z"
   },
   {
    "duration": 3,
    "start_time": "2023-02-08T18:04:50.965Z"
   },
   {
    "duration": 7,
    "start_time": "2023-02-08T18:04:50.971Z"
   },
   {
    "duration": 3,
    "start_time": "2023-02-08T18:04:50.979Z"
   },
   {
    "duration": 7,
    "start_time": "2023-02-08T18:04:50.984Z"
   },
   {
    "duration": 16274,
    "start_time": "2023-02-08T18:05:26.760Z"
   },
   {
    "duration": 4487,
    "start_time": "2023-02-08T18:05:50.990Z"
   },
   {
    "duration": 4137,
    "start_time": "2023-02-08T18:06:06.026Z"
   },
   {
    "duration": 4,
    "start_time": "2023-02-08T18:06:15.998Z"
   },
   {
    "duration": 5,
    "start_time": "2023-02-08T18:06:16.283Z"
   },
   {
    "duration": 3,
    "start_time": "2023-02-08T18:06:16.702Z"
   },
   {
    "duration": 8,
    "start_time": "2023-02-08T18:06:17.019Z"
   },
   {
    "duration": 2448,
    "start_time": "2023-02-09T16:15:40.392Z"
   },
   {
    "duration": 2159,
    "start_time": "2023-02-09T16:15:42.842Z"
   },
   {
    "duration": 323,
    "start_time": "2023-02-09T16:15:45.003Z"
   },
   {
    "duration": 14,
    "start_time": "2023-02-09T16:15:45.328Z"
   },
   {
    "duration": 18,
    "start_time": "2023-02-09T16:15:45.345Z"
   },
   {
    "duration": 462,
    "start_time": "2023-02-09T16:15:45.366Z"
   },
   {
    "duration": 38,
    "start_time": "2023-02-09T16:15:45.829Z"
   },
   {
    "duration": 18,
    "start_time": "2023-02-09T16:15:45.870Z"
   },
   {
    "duration": 19,
    "start_time": "2023-02-09T16:15:45.890Z"
   },
   {
    "duration": 29,
    "start_time": "2023-02-09T16:15:45.912Z"
   },
   {
    "duration": 15,
    "start_time": "2023-02-09T16:15:45.943Z"
   },
   {
    "duration": 17,
    "start_time": "2023-02-09T16:15:45.961Z"
   },
   {
    "duration": 12,
    "start_time": "2023-02-09T16:15:45.980Z"
   },
   {
    "duration": 25,
    "start_time": "2023-02-09T16:15:45.996Z"
   },
   {
    "duration": 241,
    "start_time": "2023-02-09T16:15:46.041Z"
   },
   {
    "duration": 566,
    "start_time": "2023-02-09T16:15:46.285Z"
   },
   {
    "duration": 7,
    "start_time": "2023-02-09T16:15:46.853Z"
   },
   {
    "duration": 815,
    "start_time": "2023-02-09T16:15:46.862Z"
   },
   {
    "duration": 696,
    "start_time": "2023-02-09T16:15:47.679Z"
   },
   {
    "duration": 11,
    "start_time": "2023-02-09T16:15:48.378Z"
   },
   {
    "duration": 20,
    "start_time": "2023-02-09T16:15:48.391Z"
   },
   {
    "duration": 30,
    "start_time": "2023-02-09T16:15:48.414Z"
   },
   {
    "duration": 8,
    "start_time": "2023-02-09T16:15:48.446Z"
   },
   {
    "duration": 12,
    "start_time": "2023-02-09T16:15:48.457Z"
   },
   {
    "duration": 860,
    "start_time": "2023-02-09T16:15:48.471Z"
   },
   {
    "duration": 22,
    "start_time": "2023-02-09T16:15:49.340Z"
   },
   {
    "duration": 32,
    "start_time": "2023-02-09T16:15:49.365Z"
   },
   {
    "duration": 4,
    "start_time": "2023-02-09T16:15:49.399Z"
   },
   {
    "duration": 8,
    "start_time": "2023-02-09T16:15:49.405Z"
   },
   {
    "duration": 9,
    "start_time": "2023-02-09T16:15:49.415Z"
   },
   {
    "duration": 27,
    "start_time": "2023-02-09T16:15:49.426Z"
   },
   {
    "duration": 42,
    "start_time": "2023-02-09T16:15:49.455Z"
   },
   {
    "duration": 4538,
    "start_time": "2023-02-09T16:16:15.647Z"
   },
   {
    "duration": 4,
    "start_time": "2023-02-09T16:17:01.270Z"
   },
   {
    "duration": 7,
    "start_time": "2023-02-09T16:17:01.724Z"
   },
   {
    "duration": 3,
    "start_time": "2023-02-09T16:17:02.174Z"
   },
   {
    "duration": 8,
    "start_time": "2023-02-09T16:17:02.673Z"
   }
  ],
  "kernelspec": {
   "display_name": "Python 3 (ipykernel)",
   "language": "python",
   "name": "python3"
  },
  "language_info": {
   "codemirror_mode": {
    "name": "ipython",
    "version": 3
   },
   "file_extension": ".py",
   "mimetype": "text/x-python",
   "name": "python",
   "nbconvert_exporter": "python",
   "pygments_lexer": "ipython3",
   "version": "3.9.12"
  },
  "toc": {
   "base_numbering": 1,
   "nav_menu": {},
   "number_sections": true,
   "sideBar": true,
   "skip_h1_title": true,
   "title_cell": "Содержание",
   "title_sidebar": "Contents",
   "toc_cell": true,
   "toc_position": {},
   "toc_section_display": true,
   "toc_window_display": true
  }
 },
 "nbformat": 4,
 "nbformat_minor": 2
}
