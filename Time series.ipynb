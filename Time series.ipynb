{
 "cells": [
  {
   "cell_type": "markdown",
   "metadata": {
    "toc": true
   },
   "source": [
    "<h1>Содержание<span class=\"tocSkip\"></span></h1>\n",
    "<div class=\"toc\"><ul class=\"toc-item\"><li><ul class=\"toc-item\"><li><ul class=\"toc-item\"><li><span><a href=\"#Полезные-ссылки:\" data-toc-modified-id=\"Полезные-ссылки:-0.0.1\"><span class=\"toc-item-num\">0.0.1&nbsp;&nbsp;</span><font color=\"orange\">Полезные ссылки:</font></a></span></li></ul></li><li><span><a href=\"#Общее-впечатление\" data-toc-modified-id=\"Общее-впечатление-0.1\"><span class=\"toc-item-num\">0.1&nbsp;&nbsp;</span><font color=\"orange\">Общее впечатление</font></a></span></li><li><span><a href=\"#Общее-впечатление-(ревью-2)\" data-toc-modified-id=\"Общее-впечатление-(ревью-2)-0.2\"><span class=\"toc-item-num\">0.2&nbsp;&nbsp;</span><font color=\"orange\">Общее впечатление (ревью 2)</font></a></span></li></ul></li><li><span><a href=\"#Подготовка\" data-toc-modified-id=\"Подготовка-1\"><span class=\"toc-item-num\">1&nbsp;&nbsp;</span>Подготовка</a></span></li><li><span><a href=\"#Анализ\" data-toc-modified-id=\"Анализ-2\"><span class=\"toc-item-num\">2&nbsp;&nbsp;</span>Анализ</a></span></li><li><span><a href=\"#Обучение\" data-toc-modified-id=\"Обучение-3\"><span class=\"toc-item-num\">3&nbsp;&nbsp;</span>Обучение</a></span></li><li><span><a href=\"#Тестирование\" data-toc-modified-id=\"Тестирование-4\"><span class=\"toc-item-num\">4&nbsp;&nbsp;</span>Тестирование</a></span></li><li><span><a href=\"#Чек-лист-проверки\" data-toc-modified-id=\"Чек-лист-проверки-5\"><span class=\"toc-item-num\">5&nbsp;&nbsp;</span>Чек-лист проверки</a></span></li></ul></div>"
   ]
  },
  {
   "cell_type": "markdown",
   "metadata": {},
   "source": [
    "#  Прогнозирование заказов такси"
   ]
  },
  {
   "cell_type": "markdown",
   "metadata": {},
   "source": [
    "Компания «Чётенькое такси» собрала исторические данные о заказах такси в аэропортах. Чтобы привлекать больше водителей в период пиковой нагрузки, нужно спрогнозировать количество заказов такси на следующий час. Постройте модель для такого предсказания.\n",
    "\n",
    "Значение метрики *RMSE* на тестовой выборке должно быть не больше 48.\n",
    "\n",
    "Вам нужно:\n",
    "\n",
    "1. Загрузить данные и выполнить их ресемплирование по одному часу.\n",
    "2. Проанализировать данные.\n",
    "3. Обучить разные модели с различными гиперпараметрами. Сделать тестовую выборку размером 10% от исходных данных.\n",
    "4. Проверить данные на тестовой выборке и сделать выводы.\n",
    "\n",
    "\n",
    "Данные лежат в файле `taxi.csv`. Количество заказов находится в столбце `num_orders` (от англ. *number of orders*, «число заказов»)."
   ]
  },
  {
   "cell_type": "code",
   "execution_count": 2,
   "metadata": {},
   "outputs": [
    {
     "name": "stdout",
     "output_type": "stream",
     "text": [
      "Collecting optuna\n",
      "  Downloading optuna-3.2.0-py3-none-any.whl (390 kB)\n",
      "Requirement already satisfied: sqlalchemy>=1.3.0 in f:\\anaconda\\lib\\site-packages (from optuna) (1.4.32)\n",
      "Requirement already satisfied: packaging>=20.0 in f:\\anaconda\\lib\\site-packages (from optuna) (21.3)\n",
      "Collecting alembic>=1.5.0\n",
      "  Downloading alembic-1.11.1-py3-none-any.whl (224 kB)\n",
      "Requirement already satisfied: numpy in f:\\anaconda\\lib\\site-packages (from optuna) (1.21.5)\n",
      "Requirement already satisfied: PyYAML in f:\\anaconda\\lib\\site-packages (from optuna) (6.0)\n",
      "Collecting cmaes>=0.9.1\n",
      "  Downloading cmaes-0.9.1-py3-none-any.whl (21 kB)\n",
      "Collecting colorlog\n",
      "  Downloading colorlog-6.7.0-py2.py3-none-any.whl (11 kB)\n",
      "Requirement already satisfied: tqdm in f:\\anaconda\\lib\\site-packages (from optuna) (4.64.0)\n",
      "Requirement already satisfied: typing-extensions>=4 in f:\\anaconda\\lib\\site-packages (from alembic>=1.5.0->optuna) (4.5.0)\n",
      "Collecting Mako\n",
      "  Downloading Mako-1.2.4-py3-none-any.whl (78 kB)\n",
      "Requirement already satisfied: pyparsing!=3.0.5,>=2.0.2 in f:\\anaconda\\lib\\site-packages (from packaging>=20.0->optuna) (3.0.4)\n",
      "Requirement already satisfied: greenlet!=0.4.17 in f:\\anaconda\\lib\\site-packages (from sqlalchemy>=1.3.0->optuna) (1.1.1)\n",
      "Requirement already satisfied: colorama in f:\\anaconda\\lib\\site-packages (from colorlog->optuna) (0.4.6)\n",
      "Requirement already satisfied: MarkupSafe>=0.9.2 in f:\\anaconda\\lib\\site-packages (from Mako->alembic>=1.5.0->optuna) (2.0.1)\n",
      "Installing collected packages: Mako, colorlog, cmaes, alembic, optuna\n",
      "Successfully installed Mako-1.2.4 alembic-1.11.1 cmaes-0.9.1 colorlog-6.7.0 optuna-3.2.0\n",
      "Note: you may need to restart the kernel to use updated packages.\n"
     ]
    }
   ],
   "source": [
    "pip install optuna"
   ]
  },
  {
   "cell_type": "markdown",
   "metadata": {},
   "source": [
    "## Подготовка"
   ]
  },
  {
   "cell_type": "code",
   "execution_count": 3,
   "metadata": {},
   "outputs": [],
   "source": [
    "import pandas as pd\n",
    "from sklearn.model_selection import train_test_split\n",
    "from sklearn.metrics import mean_squared_error\n",
    "from statsmodels.tsa.seasonal import seasonal_decompose\n",
    "from sklearn.linear_model import LinearRegression\n",
    "from sklearn.model_selection import GridSearchCV, KFold\n",
    "from catboost import CatBoostRegressor\n",
    "import lightgbm as lgb\n",
    "from sklearn.ensemble import RandomForestRegressor\n",
    "from sklearn.preprocessing import StandardScaler\n",
    "from sklearn.model_selection import TimeSeriesSplit\n",
    "import optuna\n",
    "import numpy as np"
   ]
  },
  {
   "cell_type": "code",
   "execution_count": 5,
   "metadata": {},
   "outputs": [],
   "source": [
    "data = pd.read_csv('taxi.csv')"
   ]
  },
  {
   "cell_type": "code",
   "execution_count": 6,
   "metadata": {
    "scrolled": true
   },
   "outputs": [
    {
     "name": "stdout",
     "output_type": "stream",
     "text": [
      "<class 'pandas.core.frame.DataFrame'>\n",
      "RangeIndex: 26496 entries, 0 to 26495\n",
      "Data columns (total 2 columns):\n",
      " #   Column      Non-Null Count  Dtype \n",
      "---  ------      --------------  ----- \n",
      " 0   datetime    26496 non-null  object\n",
      " 1   num_orders  26496 non-null  int64 \n",
      "dtypes: int64(1), object(1)\n",
      "memory usage: 414.1+ KB\n"
     ]
    }
   ],
   "source": [
    "data.info()"
   ]
  },
  {
   "cell_type": "code",
   "execution_count": 7,
   "metadata": {},
   "outputs": [],
   "source": [
    "data['datetime'] = data['datetime'].astype('datetime64')"
   ]
  },
  {
   "cell_type": "code",
   "execution_count": 8,
   "metadata": {},
   "outputs": [
    {
     "name": "stdout",
     "output_type": "stream",
     "text": [
      "<class 'pandas.core.frame.DataFrame'>\n",
      "RangeIndex: 26496 entries, 0 to 26495\n",
      "Data columns (total 2 columns):\n",
      " #   Column      Non-Null Count  Dtype         \n",
      "---  ------      --------------  -----         \n",
      " 0   datetime    26496 non-null  datetime64[ns]\n",
      " 1   num_orders  26496 non-null  int64         \n",
      "dtypes: datetime64[ns](1), int64(1)\n",
      "memory usage: 414.1 KB\n"
     ]
    }
   ],
   "source": [
    "data.info()"
   ]
  },
  {
   "cell_type": "code",
   "execution_count": 9,
   "metadata": {},
   "outputs": [],
   "source": [
    "data = data.set_index('datetime')"
   ]
  },
  {
   "cell_type": "code",
   "execution_count": 10,
   "metadata": {},
   "outputs": [
    {
     "data": {
      "text/html": [
       "<div>\n",
       "<style scoped>\n",
       "    .dataframe tbody tr th:only-of-type {\n",
       "        vertical-align: middle;\n",
       "    }\n",
       "\n",
       "    .dataframe tbody tr th {\n",
       "        vertical-align: top;\n",
       "    }\n",
       "\n",
       "    .dataframe thead th {\n",
       "        text-align: right;\n",
       "    }\n",
       "</style>\n",
       "<table border=\"1\" class=\"dataframe\">\n",
       "  <thead>\n",
       "    <tr style=\"text-align: right;\">\n",
       "      <th></th>\n",
       "      <th>num_orders</th>\n",
       "    </tr>\n",
       "    <tr>\n",
       "      <th>datetime</th>\n",
       "      <th></th>\n",
       "    </tr>\n",
       "  </thead>\n",
       "  <tbody>\n",
       "    <tr>\n",
       "      <th>2018-03-01 00:00:00</th>\n",
       "      <td>9</td>\n",
       "    </tr>\n",
       "    <tr>\n",
       "      <th>2018-03-01 00:10:00</th>\n",
       "      <td>14</td>\n",
       "    </tr>\n",
       "    <tr>\n",
       "      <th>2018-03-01 00:20:00</th>\n",
       "      <td>28</td>\n",
       "    </tr>\n",
       "    <tr>\n",
       "      <th>2018-03-01 00:30:00</th>\n",
       "      <td>20</td>\n",
       "    </tr>\n",
       "    <tr>\n",
       "      <th>2018-03-01 00:40:00</th>\n",
       "      <td>32</td>\n",
       "    </tr>\n",
       "    <tr>\n",
       "      <th>...</th>\n",
       "      <td>...</td>\n",
       "    </tr>\n",
       "    <tr>\n",
       "      <th>2018-08-31 23:10:00</th>\n",
       "      <td>32</td>\n",
       "    </tr>\n",
       "    <tr>\n",
       "      <th>2018-08-31 23:20:00</th>\n",
       "      <td>24</td>\n",
       "    </tr>\n",
       "    <tr>\n",
       "      <th>2018-08-31 23:30:00</th>\n",
       "      <td>27</td>\n",
       "    </tr>\n",
       "    <tr>\n",
       "      <th>2018-08-31 23:40:00</th>\n",
       "      <td>39</td>\n",
       "    </tr>\n",
       "    <tr>\n",
       "      <th>2018-08-31 23:50:00</th>\n",
       "      <td>53</td>\n",
       "    </tr>\n",
       "  </tbody>\n",
       "</table>\n",
       "<p>26496 rows × 1 columns</p>\n",
       "</div>"
      ],
      "text/plain": [
       "                     num_orders\n",
       "datetime                       \n",
       "2018-03-01 00:00:00           9\n",
       "2018-03-01 00:10:00          14\n",
       "2018-03-01 00:20:00          28\n",
       "2018-03-01 00:30:00          20\n",
       "2018-03-01 00:40:00          32\n",
       "...                         ...\n",
       "2018-08-31 23:10:00          32\n",
       "2018-08-31 23:20:00          24\n",
       "2018-08-31 23:30:00          27\n",
       "2018-08-31 23:40:00          39\n",
       "2018-08-31 23:50:00          53\n",
       "\n",
       "[26496 rows x 1 columns]"
      ]
     },
     "execution_count": 10,
     "metadata": {},
     "output_type": "execute_result"
    }
   ],
   "source": [
    "data"
   ]
  },
  {
   "cell_type": "code",
   "execution_count": 11,
   "metadata": {},
   "outputs": [
    {
     "data": {
      "image/png": "[encoded data removed]",
      "text/plain": [
       "<Figure size 432x288 with 1 Axes>"
      ]
     },
     "metadata": {
      "needs_background": "light"
     },
     "output_type": "display_data"
    }
   ],
   "source": [
    "data.hist(bins=100);"
   ]
  },
  {
   "cell_type": "code",
   "execution_count": 12,
   "metadata": {},
   "outputs": [],
   "source": [
    "data = data.resample('1H').sum()"
   ]
  },
  {
   "cell_type": "code",
   "execution_count": 13,
   "metadata": {
    "scrolled": false
   },
   "outputs": [
    {
     "data": {
      "text/html": [
       "<div>\n",
       "<style scoped>\n",
       "    .dataframe tbody tr th:only-of-type {\n",
       "        vertical-align: middle;\n",
       "    }\n",
       "\n",
       "    .dataframe tbody tr th {\n",
       "        vertical-align: top;\n",
       "    }\n",
       "\n",
       "    .dataframe thead th {\n",
       "        text-align: right;\n",
       "    }\n",
       "</style>\n",
       "<table border=\"1\" class=\"dataframe\">\n",
       "  <thead>\n",
       "    <tr style=\"text-align: right;\">\n",
       "      <th></th>\n",
       "      <th>num_orders</th>\n",
       "    </tr>\n",
       "    <tr>\n",
       "      <th>datetime</th>\n",
       "      <th></th>\n",
       "    </tr>\n",
       "  </thead>\n",
       "  <tbody>\n",
       "    <tr>\n",
       "      <th>2018-03-01 00:00:00</th>\n",
       "      <td>124</td>\n",
       "    </tr>\n",
       "    <tr>\n",
       "      <th>2018-03-01 01:00:00</th>\n",
       "      <td>85</td>\n",
       "    </tr>\n",
       "    <tr>\n",
       "      <th>2018-03-01 02:00:00</th>\n",
       "      <td>71</td>\n",
       "    </tr>\n",
       "    <tr>\n",
       "      <th>2018-03-01 03:00:00</th>\n",
       "      <td>66</td>\n",
       "    </tr>\n",
       "    <tr>\n",
       "      <th>2018-03-01 04:00:00</th>\n",
       "      <td>43</td>\n",
       "    </tr>\n",
       "    <tr>\n",
       "      <th>...</th>\n",
       "      <td>...</td>\n",
       "    </tr>\n",
       "    <tr>\n",
       "      <th>2018-08-31 19:00:00</th>\n",
       "      <td>136</td>\n",
       "    </tr>\n",
       "    <tr>\n",
       "      <th>2018-08-31 20:00:00</th>\n",
       "      <td>154</td>\n",
       "    </tr>\n",
       "    <tr>\n",
       "      <th>2018-08-31 21:00:00</th>\n",
       "      <td>159</td>\n",
       "    </tr>\n",
       "    <tr>\n",
       "      <th>2018-08-31 22:00:00</th>\n",
       "      <td>223</td>\n",
       "    </tr>\n",
       "    <tr>\n",
       "      <th>2018-08-31 23:00:00</th>\n",
       "      <td>205</td>\n",
       "    </tr>\n",
       "  </tbody>\n",
       "</table>\n",
       "<p>4416 rows × 1 columns</p>\n",
       "</div>"
      ],
      "text/plain": [
       "                     num_orders\n",
       "datetime                       \n",
       "2018-03-01 00:00:00         124\n",
       "2018-03-01 01:00:00          85\n",
       "2018-03-01 02:00:00          71\n",
       "2018-03-01 03:00:00          66\n",
       "2018-03-01 04:00:00          43\n",
       "...                         ...\n",
       "2018-08-31 19:00:00         136\n",
       "2018-08-31 20:00:00         154\n",
       "2018-08-31 21:00:00         159\n",
       "2018-08-31 22:00:00         223\n",
       "2018-08-31 23:00:00         205\n",
       "\n",
       "[4416 rows x 1 columns]"
      ]
     },
     "execution_count": 13,
     "metadata": {},
     "output_type": "execute_result"
    }
   ],
   "source": [
    "data"
   ]
  },
  {
   "cell_type": "code",
   "execution_count": 14,
   "metadata": {},
   "outputs": [
    {
     "data": {
      "text/plain": [
       "True"
      ]
     },
     "execution_count": 14,
     "metadata": {},
     "output_type": "execute_result"
    }
   ],
   "source": [
    "data.index.is_monotonic"
   ]
  },
  {
   "cell_type": "markdown",
   "metadata": {},
   "source": [
    "Вывод: Загржуен датасет, изменён тип колонки 'datetime' и назначен на индексы датафрейма, данные расположены по порядку, пропусков и аномальных значений не наблюдается."
   ]
  },
  {
   "cell_type": "markdown",
   "metadata": {},
   "source": [
    "## Анализ"
   ]
  },
  {
   "cell_type": "code",
   "execution_count": 15,
   "metadata": {},
   "outputs": [
    {
     "data": {
      "image/png": "[encoded data removed]",
      "text/plain": [
       "<Figure size 1080x432 with 1 Axes>"
      ]
     },
     "metadata": {
      "needs_background": "light"
     },
     "output_type": "display_data"
    }
   ],
   "source": [
    "data.plot(figsize=(15,6));"
   ]
  },
  {
   "cell_type": "code",
   "execution_count": 16,
   "metadata": {},
   "outputs": [],
   "source": [
    "decompose = seasonal_decompose(data)"
   ]
  },
  {
   "cell_type": "code",
   "execution_count": 17,
   "metadata": {},
   "outputs": [
    {
     "data": {
      "image/png": "[encoded data removed]",
      "text/plain": [
       "<Figure size 1080x432 with 1 Axes>"
      ]
     },
     "metadata": {
      "needs_background": "light"
     },
     "output_type": "display_data"
    }
   ],
   "source": [
    "decompose.seasonal.plot(figsize=(15,6),xlim=('2018-03-01','2018-03-05'));"
   ]
  },
  {
   "cell_type": "code",
   "execution_count": 18,
   "metadata": {},
   "outputs": [
    {
     "data": {
      "image/png": "[encoded data removed]",
      "text/plain": [
       "<Figure size 1080x432 with 1 Axes>"
      ]
     },
     "metadata": {
      "needs_background": "light"
     },
     "output_type": "display_data"
    }
   ],
   "source": [
    "decompose.trend.plot(figsize=(15,6));"
   ]
  },
  {
   "cell_type": "markdown",
   "metadata": {},
   "source": [
    "Вывод: Из графиков можно заметить, что есть тенденция роста количества заказов с каждым месяцем, а также есть периодичность, которая наблюдается каждые 24 часа, связана с тем, что кол-во заказов увеличивается к ночи."
   ]
  },
  {
   "cell_type": "markdown",
   "metadata": {},
   "source": [
    "## Обучение"
   ]
  },
  {
   "cell_type": "code",
   "execution_count": 19,
   "metadata": {},
   "outputs": [],
   "source": [
    "def new_col(data,max_lag,max_roll):\n",
    "    df = data.copy()\n",
    "    df['year'] = df.index.year\n",
    "    df['month'] = df.index.month\n",
    "    df['day']  = df.index.day\n",
    "    df['dayofweek'] = df.index.dayofweek\n",
    "    \n",
    "    for lag in range(1,max_lag+1):\n",
    "        df['lag_{}'.format(lag)] = df['num_orders'].shift(lag)\n",
    "        \n",
    "    df['rolling'] = df['num_orders'].shift().rolling(max_roll).mean()    \n",
    "    return df"
   ]
  },
  {
   "cell_type": "code",
   "execution_count": 20,
   "metadata": {},
   "outputs": [],
   "source": [
    "df = new_col(data,50,5)"
   ]
  },
  {
   "cell_type": "code",
   "execution_count": 21,
   "metadata": {
    "scrolled": false
   },
   "outputs": [
    {
     "data": {
      "text/html": [
       "<div>\n",
       "<style scoped>\n",
       "    .dataframe tbody tr th:only-of-type {\n",
       "        vertical-align: middle;\n",
       "    }\n",
       "\n",
       "    .dataframe tbody tr th {\n",
       "        vertical-align: top;\n",
       "    }\n",
       "\n",
       "    .dataframe thead th {\n",
       "        text-align: right;\n",
       "    }\n",
       "</style>\n",
       "<table border=\"1\" class=\"dataframe\">\n",
       "  <thead>\n",
       "    <tr style=\"text-align: right;\">\n",
       "      <th></th>\n",
       "      <th>num_orders</th>\n",
       "      <th>year</th>\n",
       "      <th>month</th>\n",
       "      <th>day</th>\n",
       "      <th>dayofweek</th>\n",
       "      <th>lag_1</th>\n",
       "      <th>lag_2</th>\n",
       "      <th>lag_3</th>\n",
       "      <th>lag_4</th>\n",
       "      <th>lag_5</th>\n",
       "      <th>...</th>\n",
       "      <th>lag_42</th>\n",
       "      <th>lag_43</th>\n",
       "      <th>lag_44</th>\n",
       "      <th>lag_45</th>\n",
       "      <th>lag_46</th>\n",
       "      <th>lag_47</th>\n",
       "      <th>lag_48</th>\n",
       "      <th>lag_49</th>\n",
       "      <th>lag_50</th>\n",
       "      <th>rolling</th>\n",
       "    </tr>\n",
       "    <tr>\n",
       "      <th>datetime</th>\n",
       "      <th></th>\n",
       "      <th></th>\n",
       "      <th></th>\n",
       "      <th></th>\n",
       "      <th></th>\n",
       "      <th></th>\n",
       "      <th></th>\n",
       "      <th></th>\n",
       "      <th></th>\n",
       "      <th></th>\n",
       "      <th></th>\n",
       "      <th></th>\n",
       "      <th></th>\n",
       "      <th></th>\n",
       "      <th></th>\n",
       "      <th></th>\n",
       "      <th></th>\n",
       "      <th></th>\n",
       "      <th></th>\n",
       "      <th></th>\n",
       "      <th></th>\n",
       "    </tr>\n",
       "  </thead>\n",
       "  <tbody>\n",
       "    <tr>\n",
       "      <th>2018-03-01 00:00:00</th>\n",
       "      <td>124</td>\n",
       "      <td>2018</td>\n",
       "      <td>3</td>\n",
       "      <td>1</td>\n",
       "      <td>3</td>\n",
       "      <td>NaN</td>\n",
       "      <td>NaN</td>\n",
       "      <td>NaN</td>\n",
       "      <td>NaN</td>\n",
       "      <td>NaN</td>\n",
       "      <td>...</td>\n",
       "      <td>NaN</td>\n",
       "      <td>NaN</td>\n",
       "      <td>NaN</td>\n",
       "      <td>NaN</td>\n",
       "      <td>NaN</td>\n",
       "      <td>NaN</td>\n",
       "      <td>NaN</td>\n",
       "      <td>NaN</td>\n",
       "      <td>NaN</td>\n",
       "      <td>NaN</td>\n",
       "    </tr>\n",
       "    <tr>\n",
       "      <th>2018-03-01 01:00:00</th>\n",
       "      <td>85</td>\n",
       "      <td>2018</td>\n",
       "      <td>3</td>\n",
       "      <td>1</td>\n",
       "      <td>3</td>\n",
       "      <td>124.0</td>\n",
       "      <td>NaN</td>\n",
       "      <td>NaN</td>\n",
       "      <td>NaN</td>\n",
       "      <td>NaN</td>\n",
       "      <td>...</td>\n",
       "      <td>NaN</td>\n",
       "      <td>NaN</td>\n",
       "      <td>NaN</td>\n",
       "      <td>NaN</td>\n",
       "      <td>NaN</td>\n",
       "      <td>NaN</td>\n",
       "      <td>NaN</td>\n",
       "      <td>NaN</td>\n",
       "      <td>NaN</td>\n",
       "      <td>NaN</td>\n",
       "    </tr>\n",
       "    <tr>\n",
       "      <th>2018-03-01 02:00:00</th>\n",
       "      <td>71</td>\n",
       "      <td>2018</td>\n",
       "      <td>3</td>\n",
       "      <td>1</td>\n",
       "      <td>3</td>\n",
       "      <td>85.0</td>\n",
       "      <td>124.0</td>\n",
       "      <td>NaN</td>\n",
       "      <td>NaN</td>\n",
       "      <td>NaN</td>\n",
       "      <td>...</td>\n",
       "      <td>NaN</td>\n",
       "      <td>NaN</td>\n",
       "      <td>NaN</td>\n",
       "      <td>NaN</td>\n",
       "      <td>NaN</td>\n",
       "      <td>NaN</td>\n",
       "      <td>NaN</td>\n",
       "      <td>NaN</td>\n",
       "      <td>NaN</td>\n",
       "      <td>NaN</td>\n",
       "    </tr>\n",
       "    <tr>\n",
       "      <th>2018-03-01 03:00:00</th>\n",
       "      <td>66</td>\n",
       "      <td>2018</td>\n",
       "      <td>3</td>\n",
       "      <td>1</td>\n",
       "      <td>3</td>\n",
       "      <td>71.0</td>\n",
       "      <td>85.0</td>\n",
       "      <td>124.0</td>\n",
       "      <td>NaN</td>\n",
       "      <td>NaN</td>\n",
       "      <td>...</td>\n",
       "      <td>NaN</td>\n",
       "      <td>NaN</td>\n",
       "      <td>NaN</td>\n",
       "      <td>NaN</td>\n",
       "      <td>NaN</td>\n",
       "      <td>NaN</td>\n",
       "      <td>NaN</td>\n",
       "      <td>NaN</td>\n",
       "      <td>NaN</td>\n",
       "      <td>NaN</td>\n",
       "    </tr>\n",
       "    <tr>\n",
       "      <th>2018-03-01 04:00:00</th>\n",
       "      <td>43</td>\n",
       "      <td>2018</td>\n",
       "      <td>3</td>\n",
       "      <td>1</td>\n",
       "      <td>3</td>\n",
       "      <td>66.0</td>\n",
       "      <td>71.0</td>\n",
       "      <td>85.0</td>\n",
       "      <td>124.0</td>\n",
       "      <td>NaN</td>\n",
       "      <td>...</td>\n",
       "      <td>NaN</td>\n",
       "      <td>NaN</td>\n",
       "      <td>NaN</td>\n",
       "      <td>NaN</td>\n",
       "      <td>NaN</td>\n",
       "      <td>NaN</td>\n",
       "      <td>NaN</td>\n",
       "      <td>NaN</td>\n",
       "      <td>NaN</td>\n",
       "      <td>NaN</td>\n",
       "    </tr>\n",
       "    <tr>\n",
       "      <th>...</th>\n",
       "      <td>...</td>\n",
       "      <td>...</td>\n",
       "      <td>...</td>\n",
       "      <td>...</td>\n",
       "      <td>...</td>\n",
       "      <td>...</td>\n",
       "      <td>...</td>\n",
       "      <td>...</td>\n",
       "      <td>...</td>\n",
       "      <td>...</td>\n",
       "      <td>...</td>\n",
       "      <td>...</td>\n",
       "      <td>...</td>\n",
       "      <td>...</td>\n",
       "      <td>...</td>\n",
       "      <td>...</td>\n",
       "      <td>...</td>\n",
       "      <td>...</td>\n",
       "      <td>...</td>\n",
       "      <td>...</td>\n",
       "      <td>...</td>\n",
       "    </tr>\n",
       "    <tr>\n",
       "      <th>2018-08-31 19:00:00</th>\n",
       "      <td>136</td>\n",
       "      <td>2018</td>\n",
       "      <td>8</td>\n",
       "      <td>31</td>\n",
       "      <td>4</td>\n",
       "      <td>207.0</td>\n",
       "      <td>217.0</td>\n",
       "      <td>197.0</td>\n",
       "      <td>116.0</td>\n",
       "      <td>133.0</td>\n",
       "      <td>...</td>\n",
       "      <td>217.0</td>\n",
       "      <td>216.0</td>\n",
       "      <td>265.0</td>\n",
       "      <td>177.0</td>\n",
       "      <td>170.0</td>\n",
       "      <td>191.0</td>\n",
       "      <td>169.0</td>\n",
       "      <td>120.0</td>\n",
       "      <td>159.0</td>\n",
       "      <td>174.0</td>\n",
       "    </tr>\n",
       "    <tr>\n",
       "      <th>2018-08-31 20:00:00</th>\n",
       "      <td>154</td>\n",
       "      <td>2018</td>\n",
       "      <td>8</td>\n",
       "      <td>31</td>\n",
       "      <td>4</td>\n",
       "      <td>136.0</td>\n",
       "      <td>207.0</td>\n",
       "      <td>217.0</td>\n",
       "      <td>197.0</td>\n",
       "      <td>116.0</td>\n",
       "      <td>...</td>\n",
       "      <td>232.0</td>\n",
       "      <td>217.0</td>\n",
       "      <td>216.0</td>\n",
       "      <td>265.0</td>\n",
       "      <td>177.0</td>\n",
       "      <td>170.0</td>\n",
       "      <td>191.0</td>\n",
       "      <td>169.0</td>\n",
       "      <td>120.0</td>\n",
       "      <td>174.6</td>\n",
       "    </tr>\n",
       "    <tr>\n",
       "      <th>2018-08-31 21:00:00</th>\n",
       "      <td>159</td>\n",
       "      <td>2018</td>\n",
       "      <td>8</td>\n",
       "      <td>31</td>\n",
       "      <td>4</td>\n",
       "      <td>154.0</td>\n",
       "      <td>136.0</td>\n",
       "      <td>207.0</td>\n",
       "      <td>217.0</td>\n",
       "      <td>197.0</td>\n",
       "      <td>...</td>\n",
       "      <td>193.0</td>\n",
       "      <td>232.0</td>\n",
       "      <td>217.0</td>\n",
       "      <td>216.0</td>\n",
       "      <td>265.0</td>\n",
       "      <td>177.0</td>\n",
       "      <td>170.0</td>\n",
       "      <td>191.0</td>\n",
       "      <td>169.0</td>\n",
       "      <td>182.2</td>\n",
       "    </tr>\n",
       "    <tr>\n",
       "      <th>2018-08-31 22:00:00</th>\n",
       "      <td>223</td>\n",
       "      <td>2018</td>\n",
       "      <td>8</td>\n",
       "      <td>31</td>\n",
       "      <td>4</td>\n",
       "      <td>159.0</td>\n",
       "      <td>154.0</td>\n",
       "      <td>136.0</td>\n",
       "      <td>207.0</td>\n",
       "      <td>217.0</td>\n",
       "      <td>...</td>\n",
       "      <td>186.0</td>\n",
       "      <td>193.0</td>\n",
       "      <td>232.0</td>\n",
       "      <td>217.0</td>\n",
       "      <td>216.0</td>\n",
       "      <td>265.0</td>\n",
       "      <td>177.0</td>\n",
       "      <td>170.0</td>\n",
       "      <td>191.0</td>\n",
       "      <td>174.6</td>\n",
       "    </tr>\n",
       "    <tr>\n",
       "      <th>2018-08-31 23:00:00</th>\n",
       "      <td>205</td>\n",
       "      <td>2018</td>\n",
       "      <td>8</td>\n",
       "      <td>31</td>\n",
       "      <td>4</td>\n",
       "      <td>223.0</td>\n",
       "      <td>159.0</td>\n",
       "      <td>154.0</td>\n",
       "      <td>136.0</td>\n",
       "      <td>207.0</td>\n",
       "      <td>...</td>\n",
       "      <td>56.0</td>\n",
       "      <td>186.0</td>\n",
       "      <td>193.0</td>\n",
       "      <td>232.0</td>\n",
       "      <td>217.0</td>\n",
       "      <td>216.0</td>\n",
       "      <td>265.0</td>\n",
       "      <td>177.0</td>\n",
       "      <td>170.0</td>\n",
       "      <td>175.8</td>\n",
       "    </tr>\n",
       "  </tbody>\n",
       "</table>\n",
       "<p>4416 rows × 56 columns</p>\n",
       "</div>"
      ],
      "text/plain": [
       "                     num_orders  year  month  day  dayofweek  lag_1  lag_2  \\\n",
       "datetime                                                                     \n",
       "2018-03-01 00:00:00         124  2018      3    1          3    NaN    NaN   \n",
       "2018-03-01 01:00:00          85  2018      3    1          3  124.0    NaN   \n",
       "2018-03-01 02:00:00          71  2018      3    1          3   85.0  124.0   \n",
       "2018-03-01 03:00:00          66  2018      3    1          3   71.0   85.0   \n",
       "2018-03-01 04:00:00          43  2018      3    1          3   66.0   71.0   \n",
       "...                         ...   ...    ...  ...        ...    ...    ...   \n",
       "2018-08-31 19:00:00         136  2018      8   31          4  207.0  217.0   \n",
       "2018-08-31 20:00:00         154  2018      8   31          4  136.0  207.0   \n",
       "2018-08-31 21:00:00         159  2018      8   31          4  154.0  136.0   \n",
       "2018-08-31 22:00:00         223  2018      8   31          4  159.0  154.0   \n",
       "2018-08-31 23:00:00         205  2018      8   31          4  223.0  159.0   \n",
       "\n",
       "                     lag_3  lag_4  lag_5  ...  lag_42  lag_43  lag_44  lag_45  \\\n",
       "datetime                                  ...                                   \n",
       "2018-03-01 00:00:00    NaN    NaN    NaN  ...     NaN     NaN     NaN     NaN   \n",
       "2018-03-01 01:00:00    NaN    NaN    NaN  ...     NaN     NaN     NaN     NaN   \n",
       "2018-03-01 02:00:00    NaN    NaN    NaN  ...     NaN     NaN     NaN     NaN   \n",
       "2018-03-01 03:00:00  124.0    NaN    NaN  ...     NaN     NaN     NaN     NaN   \n",
       "2018-03-01 04:00:00   85.0  124.0    NaN  ...     NaN     NaN     NaN     NaN   \n",
       "...                    ...    ...    ...  ...     ...     ...     ...     ...   \n",
       "2018-08-31 19:00:00  197.0  116.0  133.0  ...   217.0   216.0   265.0   177.0   \n",
       "2018-08-31 20:00:00  217.0  197.0  116.0  ...   232.0   217.0   216.0   265.0   \n",
       "2018-08-31 21:00:00  207.0  217.0  197.0  ...   193.0   232.0   217.0   216.0   \n",
       "2018-08-31 22:00:00  136.0  207.0  217.0  ...   186.0   193.0   232.0   217.0   \n",
       "2018-08-31 23:00:00  154.0  136.0  207.0  ...    56.0   186.0   193.0   232.0   \n",
       "\n",
       "                     lag_46  lag_47  lag_48  lag_49  lag_50  rolling  \n",
       "datetime                                                              \n",
       "2018-03-01 00:00:00     NaN     NaN     NaN     NaN     NaN      NaN  \n",
       "2018-03-01 01:00:00     NaN     NaN     NaN     NaN     NaN      NaN  \n",
       "2018-03-01 02:00:00     NaN     NaN     NaN     NaN     NaN      NaN  \n",
       "2018-03-01 03:00:00     NaN     NaN     NaN     NaN     NaN      NaN  \n",
       "2018-03-01 04:00:00     NaN     NaN     NaN     NaN     NaN      NaN  \n",
       "...                     ...     ...     ...     ...     ...      ...  \n",
       "2018-08-31 19:00:00   170.0   191.0   169.0   120.0   159.0    174.0  \n",
       "2018-08-31 20:00:00   177.0   170.0   191.0   169.0   120.0    174.6  \n",
       "2018-08-31 21:00:00   265.0   177.0   170.0   191.0   169.0    182.2  \n",
       "2018-08-31 22:00:00   216.0   265.0   177.0   170.0   191.0    174.6  \n",
       "2018-08-31 23:00:00   217.0   216.0   265.0   177.0   170.0    175.8  \n",
       "\n",
       "[4416 rows x 56 columns]"
      ]
     },
     "execution_count": 21,
     "metadata": {},
     "output_type": "execute_result"
    }
   ],
   "source": [
    "df"
   ]
  },
  {
   "cell_type": "code",
   "execution_count": 22,
   "metadata": {},
   "outputs": [],
   "source": [
    "train, test = train_test_split(df,shuffle=False,test_size=0.1)"
   ]
  },
  {
   "cell_type": "code",
   "execution_count": 23,
   "metadata": {},
   "outputs": [],
   "source": [
    "train = train.dropna()"
   ]
  },
  {
   "cell_type": "code",
   "execution_count": 24,
   "metadata": {},
   "outputs": [],
   "source": [
    "features_train = train.drop(columns='num_orders')\n",
    "target_train = train['num_orders']\n",
    "features_test = test.drop(columns='num_orders')\n",
    "target_test = test['num_orders']"
   ]
  },
  {
   "cell_type": "code",
   "execution_count": 25,
   "metadata": {},
   "outputs": [],
   "source": [
    "scaler = StandardScaler()\n",
    "scaler.fit(features_train)\n",
    "features_train = scaler.transform(features_train)\n",
    "features_test = scaler.transform(features_test)\n"
   ]
  },
  {
   "cell_type": "code",
   "execution_count": 26,
   "metadata": {},
   "outputs": [
    {
     "data": {
      "text/plain": [
       "array([[ 0.        , -1.43868038, -1.39672176, ...,  0.19165584,\n",
       "         1.21970007,  1.2191134 ],\n",
       "       [ 0.        , -1.43868038, -1.39672176, ..., -0.17760748,\n",
       "         0.19121323,  0.67596987],\n",
       "       [ 0.        , -1.43868038, -1.39672176, ..., -0.30948724,\n",
       "        -0.17798718,  0.28290547],\n",
       "       ...,\n",
       "       [ 0.        ,  1.74935995, -0.2604882 , ...,  1.64233316,\n",
       "         1.11421424,  0.69026312],\n",
       "       [ 0.        ,  1.74935995, -0.2604882 , ...,  0.08615203,\n",
       "         1.64164339,  1.24769991],\n",
       "       [ 0.        ,  1.74935995, -0.2604882 , ..., -0.38861509,\n",
       "         0.0857274 ,  1.62647105]])"
      ]
     },
     "execution_count": 26,
     "metadata": {},
     "output_type": "execute_result"
    }
   ],
   "source": [
    "features_train"
   ]
  },
  {
   "cell_type": "code",
   "execution_count": 27,
   "metadata": {},
   "outputs": [],
   "source": [
    "lin = LinearRegression()\n",
    "lin.fit(features_train,target_train)\n",
    "lin_pred = lin.predict(features_test)"
   ]
  },
  {
   "cell_type": "code",
   "execution_count": 28,
   "metadata": {},
   "outputs": [
    {
     "name": "stdout",
     "output_type": "stream",
     "text": [
      "LinearRegression RMSE: 43.18342774243338\n"
     ]
    }
   ],
   "source": [
    "print('LinearRegression RMSE:',mean_squared_error(target_test,lin_pred)**0.5)"
   ]
  },
  {
   "cell_type": "code",
   "execution_count": 29,
   "metadata": {},
   "outputs": [
    {
     "name": "stderr",
     "output_type": "stream",
     "text": [
      "F:\\Anaconda\\lib\\site-packages\\sklearn\\model_selection\\_validation.py:372: FitFailedWarning: \n",
      "2 fits failed out of a total of 144.\n",
      "The score on these train-test partitions for these parameters will be set to nan.\n",
      "If these failures are not expected, you can try to debug them by setting error_score='raise'.\n",
      "\n",
      "Below are more details about the failures:\n",
      "--------------------------------------------------------------------------------\n",
      "2 fits failed with the following error:\n",
      "Traceback (most recent call last):\n",
      "  File \"F:\\Anaconda\\lib\\site-packages\\sklearn\\model_selection\\_validation.py\", line 680, in _fit_and_score\n",
      "    estimator.fit(X_train, y_train, **fit_params)\n",
      "  File \"F:\\Anaconda\\lib\\site-packages\\catboost\\core.py\", line 5730, in fit\n",
      "    return self._fit(X, y, cat_features, text_features, embedding_features, None, sample_weight, None, None, None, None, baseline,\n",
      "  File \"F:\\Anaconda\\lib\\site-packages\\catboost\\core.py\", line 2355, in _fit\n",
      "    self._train(\n",
      "  File \"F:\\Anaconda\\lib\\site-packages\\catboost\\core.py\", line 1759, in _train\n",
      "    self._object._train(train_pool, test_pool, params, allow_clear_pool, init_model._object if init_model else None)\n",
      "  File \"_catboost.pyx\", line 4623, in _catboost._CatBoost._train\n",
      "  File \"_catboost.pyx\", line 4672, in _catboost._CatBoost._train\n",
      "_catboost.CatBoostError: C:/Program Files (x86)/Go Agent/pipelines/BuildMaster/catboost.git/catboost/libs/train_lib/dir_helper.cpp:20: Can't create train working dir: catboost_info\n",
      "\n",
      "  warnings.warn(some_fits_failed_message, FitFailedWarning)\n",
      "F:\\Anaconda\\lib\\site-packages\\sklearn\\model_selection\\_search.py:969: UserWarning: One or more of the test scores are non-finite: [          nan -610.11425653 -579.90235153 -737.49225862 -570.67873464\n",
      " -564.64003122 -951.72321628 -610.32229463 -588.9917824  -743.80125326\n",
      " -574.4788869  -573.09024145 -989.0205036  -637.83303157 -604.44331543\n",
      " -781.03204124 -603.71231555 -591.00861425]\n",
      "  warnings.warn(\n"
     ]
    },
    {
     "data": {
      "text/plain": [
       "GridSearchCV(cv=TimeSeriesSplit(gap=0, max_train_size=None, n_splits=8, test_size=None),\n",
       "             estimator=<catboost.core.CatBoostRegressor object at 0x00000143AF218E50>,\n",
       "             n_jobs=-1,\n",
       "             param_grid={'depth': [6, 8, 10], 'iterations': [100, 200],\n",
       "                         'learning_rate': [0.01, 0.05, 0.1]},\n",
       "             scoring='neg_mean_squared_error')"
      ]
     },
     "execution_count": 29,
     "metadata": {},
     "output_type": "execute_result"
    }
   ],
   "source": [
    "param = { 'depth' : [6,8,10],\n",
    "          'learning_rate' : [0.01, 0.05, 0.1],\n",
    "          'iterations'    : [100,200]\n",
    "        }\n",
    "\n",
    "cat = CatBoostRegressor(iterations=100,verbose=False)\n",
    "\n",
    "tscv = TimeSeriesSplit(n_splits=8)\n",
    "\n",
    "grid_search = GridSearchCV(estimator = cat, \n",
    "                           param_grid = param, \n",
    "                           cv = tscv,\n",
    "                           n_jobs = -1, \n",
    "                           verbose = 0, \n",
    "                           scoring = 'neg_mean_squared_error',\n",
    "                          )\n",
    "grid_search.fit(features_train, target_train)"
   ]
  },
  {
   "cell_type": "code",
   "execution_count": 30,
   "metadata": {},
   "outputs": [
    {
     "name": "stdout",
     "output_type": "stream",
     "text": [
      "CatBoostRegressor\n",
      "Best param:  {'depth': 6, 'iterations': 200, 'learning_rate': 0.1}\n",
      "Best RMSE:  23.76215544147687\n"
     ]
    }
   ],
   "source": [
    "print('CatBoostRegressor')\n",
    "print('Best param: ',grid_search.best_params_)\n",
    "print('Best RMSE: ', (abs(grid_search.best_score_))**0.5)"
   ]
  },
  {
   "cell_type": "code",
   "execution_count": 31,
   "metadata": {},
   "outputs": [],
   "source": [
    "train_data = lgb.Dataset(features_train,label=target_train)\n",
    "test_data = lgb.Dataset(features_test,label=target_test)"
   ]
  },
  {
   "cell_type": "code",
   "execution_count": 32,
   "metadata": {},
   "outputs": [
    {
     "data": {
      "text/plain": [
       "GridSearchCV(cv=TimeSeriesSplit(gap=0, max_train_size=None, n_splits=8, test_size=None),\n",
       "             estimator=LGBMRegressor(), n_jobs=-1,\n",
       "             param_grid={'learning_rate': [0.1, 0.3], 'max_depth': [5, 15]},\n",
       "             scoring='neg_mean_squared_error')"
      ]
     },
     "execution_count": 32,
     "metadata": {},
     "output_type": "execute_result"
    }
   ],
   "source": [
    "param_grid = {'learning_rate': [0.1, 0.3],\n",
    "              'max_depth': [5,15],\n",
    "             }\n",
    "\n",
    "lgbm = lgb.LGBMRegressor()\n",
    "\n",
    "tscv = TimeSeriesSplit(n_splits=8)\n",
    "# инициализируем GridSearchCV\n",
    "grid_search = GridSearchCV(estimator = lgbm, \n",
    "                           param_grid = param_grid, \n",
    "                           cv = tscv,\n",
    "                           n_jobs = -1, \n",
    "                           verbose = 0, \n",
    "                           scoring = 'neg_mean_squared_error',\n",
    "                          )\n",
    "grid_search.fit(features_train, target_train)\n"
   ]
  },
  {
   "cell_type": "code",
   "execution_count": 33,
   "metadata": {},
   "outputs": [
    {
     "name": "stdout",
     "output_type": "stream",
     "text": [
      "LGBMRegressor\n",
      "Best param:  {'learning_rate': 0.1, 'max_depth': 5}\n",
      "Best RMSE:  23.892977190240728\n"
     ]
    }
   ],
   "source": [
    "print('LGBMRegressor')\n",
    "print('Best param: ',grid_search.best_params_)\n",
    "print('Best RMSE: ', (abs(grid_search.best_score_))**0.5)"
   ]
  },
  {
   "cell_type": "code",
   "execution_count": 35,
   "metadata": {},
   "outputs": [
    {
     "data": {
      "text/plain": [
       "GridSearchCV(cv=TimeSeriesSplit(gap=0, max_train_size=None, n_splits=8, test_size=None),\n",
       "             estimator=RandomForestRegressor(), n_jobs=-1,\n",
       "             param_grid={'max_depth': [5, 15], 'n_estimators': [100, 250]},\n",
       "             scoring='neg_mean_squared_error')"
      ]
     },
     "execution_count": 35,
     "metadata": {},
     "output_type": "execute_result"
    }
   ],
   "source": [
    "param_grid = {'n_estimators': [100,250],\n",
    "              'max_depth': [5,15],\n",
    "             }\n",
    "\n",
    "rf = RandomForestRegressor()\n",
    "\n",
    "tscv = TimeSeriesSplit(n_splits=8)\n",
    "# инициализируем GridSearchCV\n",
    "grid_search = GridSearchCV(estimator = rf, \n",
    "                           param_grid = param_grid, \n",
    "                           cv = tscv,\n",
    "                           n_jobs = -1, \n",
    "                           verbose = 0, \n",
    "                           scoring = 'neg_mean_squared_error',\n",
    "                          )\n",
    "grid_search.fit(features_train, target_train)\n"
   ]
  },
  {
   "cell_type": "code",
   "execution_count": 36,
   "metadata": {},
   "outputs": [
    {
     "name": "stdout",
     "output_type": "stream",
     "text": [
      "RandomForestRegressor\n",
      "Best param:  {'max_depth': 15, 'n_estimators': 250}\n",
      "Best RMSE:  24.237944155629567\n"
     ]
    }
   ],
   "source": [
    "print('RandomForestRegressor')\n",
    "print('Best param: ',grid_search.best_params_)\n",
    "print('Best RMSE: ', (abs(grid_search.best_score_))**0.5)"
   ]
  },
  {
   "cell_type": "markdown",
   "metadata": {},
   "source": [
    "Вывод: Были обучены 4 модели, у всех моделей адекватные метрики, самая лучшая у CatBoostRegressor."
   ]
  },
  {
   "cell_type": "code",
   "execution_count": 37,
   "metadata": {},
   "outputs": [],
   "source": [
    "X_train = features_train.copy()\n",
    "y_train = target_train.copy()"
   ]
  },
  {
   "cell_type": "code",
   "execution_count": 38,
   "metadata": {},
   "outputs": [],
   "source": [
    "def create_sliding_window(data, window_size):\n",
    "    X, y = [], []\n",
    "    for i in range(len(data)-window_size):\n",
    "        X.append(data[i:i+window_size])\n",
    "        y.append(data[i+window_size])\n",
    "    return np.array(X), np.array(y)\n"
   ]
  },
  {
   "cell_type": "code",
   "execution_count": 39,
   "metadata": {},
   "outputs": [],
   "source": [
    "def objective(trial):\n",
    "    n_estimators = trial.suggest_int('n_estimators', 10, 1000, log=True)\n",
    "    max_depth = trial.suggest_int('max_depth', 2, 10)\n",
    "    window_size = trial.suggest_int('window_size', 5, 20)\n",
    "\n",
    "    train_size = int(len(data) * 0.8)\n",
    "    train_data = data.iloc[:train_size]['num_orders'].values\n",
    "    test_data = data.iloc[train_size:]['num_orders'].values\n",
    "\n",
    "    X_train, y_train = create_sliding_window(train_data, window_size)\n",
    "    X_test, y_test = create_sliding_window(test_data, window_size)\n",
    "\n",
    "    model = RandomForestRegressor(n_estimators=n_estimators, max_depth=max_depth, random_state=0)\n",
    "    model.fit(X_train, y_train)\n",
    "    y_pred = model.predict(X_test)\n",
    "\n",
    "    mse = mean_squared_error(y_test, y_pred)\n",
    "    return mse\n"
   ]
  },
  {
   "cell_type": "code",
   "execution_count": 40,
   "metadata": {
    "scrolled": true
   },
   "outputs": [
    {
     "name": "stderr",
     "output_type": "stream",
     "text": [
      "[I 2023-07-05 14:09:22,242] A new study created in memory with name: no-name-3cce2a7b-d911-4d7a-b79b-3940b73184b1\n",
      "[I 2023-07-05 14:09:22,446] Trial 0 finished with value: 3533.6815201201184 and parameters: {'n_estimators': 43, 'max_depth': 3, 'window_size': 12}. Best is trial 0 with value: 3533.6815201201184.\n",
      "[I 2023-07-05 14:09:23,053] Trial 1 finished with value: 2874.6804225299534 and parameters: {'n_estimators': 88, 'max_depth': 6, 'window_size': 10}. Best is trial 1 with value: 2874.6804225299534.\n",
      "[I 2023-07-05 14:09:24,088] Trial 2 finished with value: 2823.8429151678592 and parameters: {'n_estimators': 98, 'max_depth': 7, 'window_size': 14}. Best is trial 2 with value: 2823.8429151678592.\n",
      "[I 2023-07-05 14:09:28,523] Trial 3 finished with value: 2704.0951367561183 and parameters: {'n_estimators': 473, 'max_depth': 9, 'window_size': 10}. Best is trial 3 with value: 2704.0951367561183.\n",
      "[I 2023-07-05 14:09:37,434] Trial 4 finished with value: 2782.9394992025195 and parameters: {'n_estimators': 730, 'max_depth': 7, 'window_size': 17}. Best is trial 3 with value: 2704.0951367561183.\n",
      "[I 2023-07-05 14:09:38,986] Trial 5 finished with value: 3475.9176558802797 and parameters: {'n_estimators': 205, 'max_depth': 4, 'window_size': 18}. Best is trial 3 with value: 2704.0951367561183.\n",
      "[I 2023-07-05 14:09:39,242] Trial 6 finished with value: 3308.7475414938053 and parameters: {'n_estimators': 40, 'max_depth': 4, 'window_size': 14}. Best is trial 3 with value: 2704.0951367561183.\n",
      "[I 2023-07-05 14:09:39,343] Trial 7 finished with value: 3696.573249496211 and parameters: {'n_estimators': 57, 'max_depth': 2, 'window_size': 5}. Best is trial 3 with value: 2704.0951367561183.\n",
      "[I 2023-07-05 14:09:39,739] Trial 8 finished with value: 3181.718982957743 and parameters: {'n_estimators': 60, 'max_depth': 10, 'window_size': 6}. Best is trial 3 with value: 2704.0951367561183.\n",
      "[I 2023-07-05 14:09:40,225] Trial 9 finished with value: 2735.9942256303293 and parameters: {'n_estimators': 37, 'max_depth': 10, 'window_size': 13}. Best is trial 3 with value: 2704.0951367561183.\n",
      "[I 2023-07-05 14:09:40,347] Trial 10 finished with value: 2923.065742379065 and parameters: {'n_estimators': 12, 'max_depth': 8, 'window_size': 9}. Best is trial 3 with value: 2704.0951367561183.\n",
      "[I 2023-07-05 14:09:48,483] Trial 11 finished with value: 2785.7260237772193 and parameters: {'n_estimators': 871, 'max_depth': 10, 'window_size': 9}. Best is trial 3 with value: 2704.0951367561183.\n",
      "[I 2023-07-05 14:09:51,512] Trial 12 finished with value: 2660.326783326335 and parameters: {'n_estimators': 272, 'max_depth': 9, 'window_size': 12}. Best is trial 12 with value: 2660.326783326335.\n",
      "[I 2023-07-05 14:09:54,800] Trial 13 finished with value: 2688.6492176339157 and parameters: {'n_estimators': 354, 'max_depth': 8, 'window_size': 11}. Best is trial 12 with value: 2660.326783326335.\n",
      "[I 2023-07-05 14:09:57,735] Trial 14 finished with value: 2971.1323640305072 and parameters: {'n_estimators': 291, 'max_depth': 6, 'window_size': 16}. Best is trial 12 with value: 2660.326783326335.\n",
      "[I 2023-07-05 14:10:02,428] Trial 15 finished with value: 2723.492357568342 and parameters: {'n_estimators': 287, 'max_depth': 8, 'window_size': 20}. Best is trial 12 with value: 2660.326783326335.\n",
      "[I 2023-07-05 14:10:05,509] Trial 16 finished with value: 2929.3812450835185 and parameters: {'n_estimators': 462, 'max_depth': 8, 'window_size': 7}. Best is trial 12 with value: 2660.326783326335.\n",
      "[I 2023-07-05 14:10:07,311] Trial 17 finished with value: 2668.5748627905523 and parameters: {'n_estimators': 160, 'max_depth': 9, 'window_size': 12}. Best is trial 12 with value: 2660.326783326335.\n",
      "[I 2023-07-05 14:10:09,544] Trial 18 finished with value: 2675.289050017843 and parameters: {'n_estimators': 162, 'max_depth': 9, 'window_size': 15}. Best is trial 12 with value: 2660.326783326335.\n",
      "[I 2023-07-05 14:10:10,817] Trial 19 finished with value: 2947.2448234606563 and parameters: {'n_estimators': 164, 'max_depth': 6, 'window_size': 12}. Best is trial 12 with value: 2660.326783326335.\n",
      "[I 2023-07-05 14:10:15,227] Trial 20 finished with value: 2783.898849698595 and parameters: {'n_estimators': 572, 'max_depth': 9, 'window_size': 8}. Best is trial 12 with value: 2660.326783326335.\n",
      "[I 2023-07-05 14:10:17,172] Trial 21 finished with value: 2657.7638879411397 and parameters: {'n_estimators': 134, 'max_depth': 9, 'window_size': 15}. Best is trial 21 with value: 2657.7638879411397.\n",
      "[I 2023-07-05 14:10:19,360] Trial 22 finished with value: 2657.899222508916 and parameters: {'n_estimators': 181, 'max_depth': 9, 'window_size': 13}. Best is trial 21 with value: 2657.7638879411397.\n",
      "[I 2023-07-05 14:10:21,951] Trial 23 finished with value: 2812.2877432417613 and parameters: {'n_estimators': 237, 'max_depth': 7, 'window_size': 15}. Best is trial 21 with value: 2657.7638879411397.\n",
      "[I 2023-07-05 14:10:24,141] Trial 24 finished with value: 2479.37071445873 and parameters: {'n_estimators': 116, 'max_depth': 10, 'window_size': 19}. Best is trial 24 with value: 2479.37071445873.\n",
      "[I 2023-07-05 14:10:26,463] Trial 25 finished with value: 2549.7355952681023 and parameters: {'n_estimators': 118, 'max_depth': 10, 'window_size': 20}. Best is trial 24 with value: 2479.37071445873.\n",
      "[I 2023-07-05 14:10:28,808] Trial 26 finished with value: 2549.7355952681023 and parameters: {'n_estimators': 118, 'max_depth': 10, 'window_size': 20}. Best is trial 24 with value: 2479.37071445873.\n",
      "[I 2023-07-05 14:10:30,732] Trial 27 finished with value: 2556.3213391044237 and parameters: {'n_estimators': 96, 'max_depth': 10, 'window_size': 20}. Best is trial 24 with value: 2479.37071445873.\n",
      "[I 2023-07-05 14:10:32,704] Trial 28 finished with value: 2470.0427284585635 and parameters: {'n_estimators': 104, 'max_depth': 10, 'window_size': 19}. Best is trial 28 with value: 2470.0427284585635.\n",
      "[I 2023-07-05 14:10:34,076] Trial 29 finished with value: 2502.8296211211896 and parameters: {'n_estimators': 76, 'max_depth': 10, 'window_size': 18}. Best is trial 28 with value: 2470.0427284585635.\n",
      "[I 2023-07-05 14:10:34,736] Trial 30 finished with value: 3217.708756145033 and parameters: {'n_estimators': 68, 'max_depth': 5, 'window_size': 18}. Best is trial 28 with value: 2470.0427284585635.\n",
      "[I 2023-07-05 14:10:36,806] Trial 31 finished with value: 2475.631260441365 and parameters: {'n_estimators': 110, 'max_depth': 10, 'window_size': 19}. Best is trial 28 with value: 2470.0427284585635.\n",
      "[I 2023-07-05 14:10:38,160] Trial 32 finished with value: 2505.394786444088 and parameters: {'n_estimators': 75, 'max_depth': 10, 'window_size': 18}. Best is trial 28 with value: 2470.0427284585635.\n",
      "[I 2023-07-05 14:10:39,834] Trial 33 finished with value: 2497.360269810985 and parameters: {'n_estimators': 89, 'max_depth': 10, 'window_size': 19}. Best is trial 28 with value: 2470.0427284585635.\n",
      "[I 2023-07-05 14:10:41,385] Trial 34 finished with value: 2659.0310054442207 and parameters: {'n_estimators': 100, 'max_depth': 8, 'window_size': 19}. Best is trial 28 with value: 2470.0427284585635.\n",
      "[I 2023-07-05 14:10:43,480] Trial 35 finished with value: 2554.327690795726 and parameters: {'n_estimators': 122, 'max_depth': 9, 'window_size': 19}. Best is trial 28 with value: 2470.0427284585635.\n",
      "[I 2023-07-05 14:10:44,346] Trial 36 finished with value: 2491.1211651672247 and parameters: {'n_estimators': 51, 'max_depth': 10, 'window_size': 17}. Best is trial 28 with value: 2470.0427284585635.\n",
      "[I 2023-07-05 14:10:45,119] Trial 37 finished with value: 2807.5621708300814 and parameters: {'n_estimators': 61, 'max_depth': 7, 'window_size': 17}. Best is trial 28 with value: 2470.0427284585635.\n",
      "[I 2023-07-05 14:10:45,300] Trial 38 finished with value: 3835.8357491880374 and parameters: {'n_estimators': 41, 'max_depth': 2, 'window_size': 17}. Best is trial 28 with value: 2470.0427284585635.\n",
      "[I 2023-07-05 14:10:46,129] Trial 39 finished with value: 2522.4543922408716 and parameters: {'n_estimators': 52, 'max_depth': 9, 'window_size': 17}. Best is trial 28 with value: 2470.0427284585635.\n",
      "[I 2023-07-05 14:10:46,371] Trial 40 finished with value: 3199.9023216678293 and parameters: {'n_estimators': 32, 'max_depth': 4, 'window_size': 16}. Best is trial 28 with value: 2470.0427284585635.\n"
     ]
    },
    {
     "name": "stderr",
     "output_type": "stream",
     "text": [
      "[I 2023-07-05 14:10:47,969] Trial 41 finished with value: 2511.9930983727118 and parameters: {'n_estimators': 83, 'max_depth': 10, 'window_size': 19}. Best is trial 28 with value: 2470.0427284585635.\n",
      "[I 2023-07-05 14:10:49,752] Trial 42 finished with value: 2498.6962752993645 and parameters: {'n_estimators': 94, 'max_depth': 10, 'window_size': 19}. Best is trial 28 with value: 2470.0427284585635.\n",
      "[I 2023-07-05 14:10:50,698] Trial 43 finished with value: 2554.227634565795 and parameters: {'n_estimators': 52, 'max_depth': 10, 'window_size': 18}. Best is trial 28 with value: 2470.0427284585635.\n",
      "[I 2023-07-05 14:10:54,489] Trial 44 finished with value: 2511.354634925073 and parameters: {'n_estimators': 202, 'max_depth': 10, 'window_size': 19}. Best is trial 28 with value: 2470.0427284585635.\n",
      "[I 2023-07-05 14:10:55,747] Trial 45 finished with value: 2654.255681773911 and parameters: {'n_estimators': 85, 'max_depth': 9, 'window_size': 16}. Best is trial 28 with value: 2470.0427284585635.\n",
      "[I 2023-07-05 14:10:56,528] Trial 46 finished with value: 3738.7375379550144 and parameters: {'n_estimators': 129, 'max_depth': 3, 'window_size': 18}. Best is trial 28 with value: 2470.0427284585635.\n",
      "[I 2023-07-05 14:10:57,976] Trial 47 finished with value: 2558.8518167198918 and parameters: {'n_estimators': 70, 'max_depth': 10, 'window_size': 20}. Best is trial 28 with value: 2470.0427284585635.\n",
      "[I 2023-07-05 14:10:59,613] Trial 48 finished with value: 2516.3538276410304 and parameters: {'n_estimators': 102, 'max_depth': 9, 'window_size': 17}. Best is trial 28 with value: 2470.0427284585635.\n",
      "[I 2023-07-05 14:11:00,132] Trial 49 finished with value: 2651.6241309098214 and parameters: {'n_estimators': 32, 'max_depth': 8, 'window_size': 19}. Best is trial 28 with value: 2470.0427284585635.\n",
      "[I 2023-07-05 14:11:00,957] Trial 50 finished with value: 2643.7809381975494 and parameters: {'n_estimators': 47, 'max_depth': 10, 'window_size': 16}. Best is trial 28 with value: 2470.0427284585635.\n",
      "[I 2023-07-05 14:11:02,773] Trial 51 finished with value: 2498.3143630761124 and parameters: {'n_estimators': 92, 'max_depth': 10, 'window_size': 19}. Best is trial 28 with value: 2470.0427284585635.\n",
      "[I 2023-07-05 14:11:03,972] Trial 52 finished with value: 2531.8009795484763 and parameters: {'n_estimators': 63, 'max_depth': 10, 'window_size': 19}. Best is trial 28 with value: 2470.0427284585635.\n",
      "[I 2023-07-05 14:11:06,584] Trial 53 finished with value: 2620.627690174286 and parameters: {'n_estimators': 145, 'max_depth': 9, 'window_size': 20}. Best is trial 28 with value: 2470.0427284585635.\n",
      "[I 2023-07-05 14:11:08,520] Trial 54 finished with value: 2501.494621771465 and parameters: {'n_estimators': 107, 'max_depth': 10, 'window_size': 18}. Best is trial 28 with value: 2470.0427284585635.\n",
      "[I 2023-07-05 14:11:09,759] Trial 55 finished with value: 2649.2757107764955 and parameters: {'n_estimators': 87, 'max_depth': 8, 'window_size': 17}. Best is trial 28 with value: 2470.0427284585635.\n",
      "[I 2023-07-05 14:11:12,452] Trial 56 finished with value: 2628.4130863733985 and parameters: {'n_estimators': 147, 'max_depth': 9, 'window_size': 20}. Best is trial 28 with value: 2470.0427284585635.\n",
      "[I 2023-07-05 14:11:14,890] Trial 57 finished with value: 2695.799171514154 and parameters: {'n_estimators': 184, 'max_depth': 9, 'window_size': 14}. Best is trial 28 with value: 2470.0427284585635.\n",
      "[I 2023-07-05 14:11:16,959] Trial 58 finished with value: 2504.2500518708925 and parameters: {'n_estimators': 110, 'max_depth': 10, 'window_size': 18}. Best is trial 28 with value: 2470.0427284585635.\n",
      "[I 2023-07-05 14:11:18,621] Trial 59 finished with value: 2611.254365753271 and parameters: {'n_estimators': 137, 'max_depth': 10, 'window_size': 11}. Best is trial 28 with value: 2470.0427284585635.\n",
      "[I 2023-07-05 14:11:20,153] Trial 60 finished with value: 2569.9412457170074 and parameters: {'n_estimators': 86, 'max_depth': 9, 'window_size': 19}. Best is trial 28 with value: 2470.0427284585635.\n",
      "[I 2023-07-05 14:11:21,994] Trial 61 finished with value: 2498.3935881095695 and parameters: {'n_estimators': 96, 'max_depth': 10, 'window_size': 19}. Best is trial 28 with value: 2470.0427284585635.\n",
      "[I 2023-07-05 14:11:23,515] Trial 62 finished with value: 2555.693452739841 and parameters: {'n_estimators': 74, 'max_depth': 10, 'window_size': 20}. Best is trial 28 with value: 2470.0427284585635.\n",
      "[I 2023-07-05 14:11:25,882] Trial 63 finished with value: 2475.631260441365 and parameters: {'n_estimators': 110, 'max_depth': 10, 'window_size': 19}. Best is trial 28 with value: 2470.0427284585635.\n",
      "[I 2023-07-05 14:11:27,869] Trial 64 finished with value: 2563.085531597047 and parameters: {'n_estimators': 117, 'max_depth': 9, 'window_size': 18}. Best is trial 28 with value: 2470.0427284585635.\n",
      "[I 2023-07-05 14:11:31,160] Trial 65 finished with value: 2550.2806035572366 and parameters: {'n_estimators': 163, 'max_depth': 10, 'window_size': 20}. Best is trial 28 with value: 2470.0427284585635.\n",
      "[I 2023-07-05 14:11:33,822] Trial 66 finished with value: 2485.7682246420973 and parameters: {'n_estimators': 138, 'max_depth': 10, 'window_size': 19}. Best is trial 28 with value: 2470.0427284585635.\n",
      "[I 2023-07-05 14:11:36,010] Trial 67 finished with value: 2570.671565157428 and parameters: {'n_estimators': 129, 'max_depth': 9, 'window_size': 18}. Best is trial 28 with value: 2470.0427284585635.\n",
      "[I 2023-07-05 14:11:40,093] Trial 68 finished with value: 2542.73937329603 and parameters: {'n_estimators': 236, 'max_depth': 10, 'window_size': 17}. Best is trial 28 with value: 2470.0427284585635.\n",
      "[I 2023-07-05 14:11:40,882] Trial 69 finished with value: 3116.353297207769 and parameters: {'n_estimators': 150, 'max_depth': 9, 'window_size': 5}. Best is trial 28 with value: 2470.0427284585635.\n",
      "[I 2023-07-05 14:11:42,687] Trial 70 finished with value: 2741.001844462325 and parameters: {'n_estimators': 110, 'max_depth': 8, 'window_size': 20}. Best is trial 28 with value: 2470.0427284585635.\n",
      "[I 2023-07-05 14:11:44,150] Trial 71 finished with value: 2536.44359461069 and parameters: {'n_estimators': 77, 'max_depth': 10, 'window_size': 19}. Best is trial 28 with value: 2470.0427284585635.\n",
      "[I 2023-07-05 14:11:45,972] Trial 72 finished with value: 2498.3935881095695 and parameters: {'n_estimators': 96, 'max_depth': 10, 'window_size': 19}. Best is trial 28 with value: 2470.0427284585635.\n",
      "[I 2023-07-05 14:11:48,462] Trial 73 finished with value: 2481.4346643230647 and parameters: {'n_estimators': 129, 'max_depth': 10, 'window_size': 19}. Best is trial 28 with value: 2470.0427284585635.\n",
      "[I 2023-07-05 14:11:51,602] Trial 74 finished with value: 2552.567070320512 and parameters: {'n_estimators': 181, 'max_depth': 10, 'window_size': 17}. Best is trial 28 with value: 2470.0427284585635.\n",
      "[I 2023-07-05 14:11:52,982] Trial 75 finished with value: 3210.1370377075864 and parameters: {'n_estimators': 128, 'max_depth': 5, 'window_size': 20}. Best is trial 28 with value: 2470.0427284585635.\n",
      "[I 2023-07-05 14:11:54,959] Trial 76 finished with value: 2563.085531597047 and parameters: {'n_estimators': 117, 'max_depth': 9, 'window_size': 18}. Best is trial 28 with value: 2470.0427284585635.\n",
      "[I 2023-07-05 14:11:57,535] Trial 77 finished with value: 2516.537735001879 and parameters: {'n_estimators': 142, 'max_depth': 10, 'window_size': 18}. Best is trial 28 with value: 2470.0427284585635.\n",
      "[I 2023-07-05 14:11:58,237] Trial 78 finished with value: 3240.3234162757344 and parameters: {'n_estimators': 64, 'max_depth': 5, 'window_size': 20}. Best is trial 28 with value: 2470.0427284585635.\n",
      "[I 2023-07-05 14:11:59,313] Trial 79 finished with value: 3748.403409784131 and parameters: {'n_estimators': 168, 'max_depth': 3, 'window_size': 19}. Best is trial 28 with value: 2470.0427284585635.\n",
      "[I 2023-07-05 14:12:01,258] Trial 80 finished with value: 2505.548645316776 and parameters: {'n_estimators': 105, 'max_depth': 10, 'window_size': 18}. Best is trial 28 with value: 2470.0427284585635.\n",
      "[I 2023-07-05 14:12:02,912] Trial 81 finished with value: 2505.1630845587465 and parameters: {'n_estimators': 85, 'max_depth': 10, 'window_size': 19}. Best is trial 28 with value: 2470.0427284585635.\n",
      "[I 2023-07-05 14:12:05,369] Trial 82 finished with value: 2483.335876581933 and parameters: {'n_estimators': 127, 'max_depth': 10, 'window_size': 19}. Best is trial 28 with value: 2470.0427284585635.\n"
     ]
    },
    {
     "name": "stderr",
     "output_type": "stream",
     "text": [
      "[I 2023-07-05 14:12:07,861] Trial 83 finished with value: 2481.1741866141483 and parameters: {'n_estimators': 130, 'max_depth': 10, 'window_size': 19}. Best is trial 28 with value: 2470.0427284585635.\n",
      "[I 2023-07-05 14:12:10,464] Trial 84 finished with value: 2540.4958755527764 and parameters: {'n_estimators': 128, 'max_depth': 10, 'window_size': 20}. Best is trial 28 with value: 2470.0427284585635.\n",
      "[I 2023-07-05 14:12:11,455] Trial 85 finished with value: 3155.0210363929955 and parameters: {'n_estimators': 156, 'max_depth': 9, 'window_size': 6}. Best is trial 28 with value: 2470.0427284585635.\n",
      "[I 2023-07-05 14:12:15,106] Trial 86 finished with value: 2494.8545644834626 and parameters: {'n_estimators': 200, 'max_depth': 10, 'window_size': 18}. Best is trial 28 with value: 2470.0427284585635.\n",
      "[I 2023-07-05 14:12:17,089] Trial 87 finished with value: 2491.949075760686 and parameters: {'n_estimators': 112, 'max_depth': 10, 'window_size': 17}. Best is trial 28 with value: 2470.0427284585635.\n",
      "[I 2023-07-05 14:12:18,721] Trial 88 finished with value: 2675.9839881877224 and parameters: {'n_estimators': 120, 'max_depth': 10, 'window_size': 13}. Best is trial 28 with value: 2470.0427284585635.\n",
      "[I 2023-07-05 14:12:20,503] Trial 89 finished with value: 3023.547747872444 and parameters: {'n_estimators': 146, 'max_depth': 6, 'window_size': 19}. Best is trial 28 with value: 2470.0427284585635.\n",
      "[I 2023-07-05 14:12:21,943] Trial 90 finished with value: 2658.651015757342 and parameters: {'n_estimators': 101, 'max_depth': 9, 'window_size': 15}. Best is trial 28 with value: 2470.0427284585635.\n",
      "[I 2023-07-05 14:12:24,157] Trial 91 finished with value: 2618.2839193018895 and parameters: {'n_estimators': 136, 'max_depth': 10, 'window_size': 16}. Best is trial 28 with value: 2470.0427284585635.\n",
      "[I 2023-07-05 14:12:26,319] Trial 92 finished with value: 2476.0970213049823 and parameters: {'n_estimators': 111, 'max_depth': 10, 'window_size': 19}. Best is trial 28 with value: 2470.0427284585635.\n",
      "[I 2023-07-05 14:12:27,862] Trial 93 finished with value: 2533.25545141228 and parameters: {'n_estimators': 79, 'max_depth': 10, 'window_size': 19}. Best is trial 28 with value: 2470.0427284585635.\n",
      "[I 2023-07-05 14:12:29,895] Trial 94 finished with value: 2554.301705482182 and parameters: {'n_estimators': 100, 'max_depth': 10, 'window_size': 20}. Best is trial 28 with value: 2470.0427284585635.\n",
      "[I 2023-07-05 14:12:32,209] Trial 95 finished with value: 2513.7991881978414 and parameters: {'n_estimators': 126, 'max_depth': 10, 'window_size': 18}. Best is trial 28 with value: 2470.0427284585635.\n",
      "[I 2023-07-05 14:12:35,085] Trial 96 finished with value: 2573.9499843077056 and parameters: {'n_estimators': 164, 'max_depth': 9, 'window_size': 19}. Best is trial 28 with value: 2470.0427284585635.\n",
      "[I 2023-07-05 14:12:37,215] Trial 97 finished with value: 2550.449263259018 and parameters: {'n_estimators': 107, 'max_depth': 10, 'window_size': 20}. Best is trial 28 with value: 2470.0427284585635.\n",
      "[I 2023-07-05 14:12:38,412] Trial 98 finished with value: 2759.6677475688766 and parameters: {'n_estimators': 137, 'max_depth': 9, 'window_size': 9}. Best is trial 28 with value: 2470.0427284585635.\n",
      "[I 2023-07-05 14:12:40,157] Trial 99 finished with value: 2498.3143630761124 and parameters: {'n_estimators': 92, 'max_depth': 10, 'window_size': 19}. Best is trial 28 with value: 2470.0427284585635.\n"
     ]
    }
   ],
   "source": [
    "study = optuna.create_study(direction='minimize')\n",
    "study.optimize(objective, n_trials=100)\n"
   ]
  },
  {
   "cell_type": "code",
   "execution_count": 41,
   "metadata": {},
   "outputs": [
    {
     "name": "stdout",
     "output_type": "stream",
     "text": [
      "Best hyperparameters:  {'n_estimators': 104, 'max_depth': 10, 'window_size': 19}\n"
     ]
    }
   ],
   "source": [
    "print('Best hyperparameters: ', study.best_params)\n"
   ]
  },
  {
   "cell_type": "code",
   "execution_count": 42,
   "metadata": {},
   "outputs": [
    {
     "name": "stdout",
     "output_type": "stream",
     "text": [
      "Mean Squared Error on test set:  49.69952442889734\n"
     ]
    }
   ],
   "source": [
    "best_params = study.best_params\n",
    "train_size = int(len(data) * 0.8)\n",
    "train_data = df.iloc[:train_size]['num_orders'].values\n",
    "test_data = df.iloc[train_size:]['num_orders'].values\n",
    "\n",
    "X_train, y_train = create_sliding_window(train_data, best_params['window_size'])\n",
    "X_test, y_test = create_sliding_window(test_data, best_params['window_size'])\n",
    "\n",
    "model = RandomForestRegressor(n_estimators=best_params['n_estimators'], max_depth=best_params['max_depth'], random_state=0)\n",
    "model.fit(X_train, y_train)\n",
    "y_pred = model.predict(X_test)\n",
    "\n",
    "mse = mean_squared_error(y_test, y_pred)\n",
    "print('Mean Squared Error on test set: ', mse**.5)\n"
   ]
  },
  {
   "cell_type": "markdown",
   "metadata": {},
   "source": [
    "## Тестирование"
   ]
  },
  {
   "cell_type": "code",
   "execution_count": 43,
   "metadata": {},
   "outputs": [],
   "source": [
    "cat = CatBoostRegressor(iterations=200,verbose=False,learning_rate=0.1,depth=6)\n",
    "cat.fit(features_train,target_train)\n",
    "cat_pred = cat.predict(features_test)"
   ]
  },
  {
   "cell_type": "code",
   "execution_count": 44,
   "metadata": {
    "scrolled": true
   },
   "outputs": [
    {
     "name": "stdout",
     "output_type": "stream",
     "text": [
      "RMSE: 40.02096865221426\n"
     ]
    }
   ],
   "source": [
    "print('RMSE:',mean_squared_error(target_test,cat_pred)**0.5)"
   ]
  },
  {
   "cell_type": "code",
   "execution_count": 45,
   "metadata": {},
   "outputs": [],
   "source": [
    "pred = pd.Series(cat_pred,index = target_test.index)"
   ]
  },
  {
   "cell_type": "code",
   "execution_count": 46,
   "metadata": {},
   "outputs": [
    {
     "data": {
      "image/png": "[encoded data removed]",
      "text/plain": [
       "<Figure size 1080x432 with 1 Axes>"
      ]
     },
     "metadata": {
      "needs_background": "light"
     },
     "output_type": "display_data"
    }
   ],
   "source": [
    "pred.plot(figsize=(15,6));\n",
    "target_test.plot();"
   ]
  },
  {
   "cell_type": "markdown",
   "metadata": {},
   "source": [
    "Вывод: Модель была проверена на тестовой выборке и показала хороший результат"
   ]
  },
  {
   "cell_type": "markdown",
   "metadata": {},
   "source": [
    "Общий вывод: \n",
    "1. Был загружен и подготовлен датасет\n",
    "2. Был проанализорованы тренд и сезоность заказов\n",
    "3. Обучено 4 модели и выбрана лучшая\n",
    "4. Модели показали удовлетворительные метрики\n",
    "5. Лучшая модель протестирована на тестовой выборке и показала хорошее качество"
   ]
  },
  {
   "cell_type": "markdown",
   "metadata": {},
   "source": [
    "## Чек-лист проверки"
   ]
  },
  {
   "cell_type": "markdown",
   "metadata": {},
   "source": [
    "- [x]  Jupyter Notebook открыт\n",
    "- [x]  Весь код выполняется без ошибок\n",
    "- [x]  Ячейки с кодом расположены в порядке исполнения\n",
    "- [x]  Данные загружены и подготовлены\n",
    "- [x]  Данные проанализированы\n",
    "- [x]  Модель обучена, гиперпараметры подобраны\n",
    "- [x]  Качество моделей проверено, выводы сделаны\n",
    "- [x]  Значение *RMSE* на тестовой выборке не больше 48"
   ]
  }
 ],
 "metadata": {
  "ExecuteTimeLog": [
   {
    "duration": 493,
    "start_time": "2023-03-15T11:15:57.770Z"
   },
   {
    "duration": 106,
    "start_time": "2023-03-15T11:16:17.017Z"
   },
   {
    "duration": 17,
    "start_time": "2023-03-15T11:16:21.984Z"
   },
   {
    "duration": 76,
    "start_time": "2023-03-15T11:16:36.456Z"
   },
   {
    "duration": 9,
    "start_time": "2023-03-15T11:16:46.556Z"
   },
   {
    "duration": 11,
    "start_time": "2023-03-15T11:16:51.006Z"
   },
   {
    "duration": 18,
    "start_time": "2023-03-15T11:17:20.567Z"
   },
   {
    "duration": 10,
    "start_time": "2023-03-15T11:18:14.007Z"
   },
   {
    "duration": 10,
    "start_time": "2023-03-15T11:18:21.116Z"
   },
   {
    "duration": 16,
    "start_time": "2023-03-15T11:18:36.624Z"
   },
   {
    "duration": 11,
    "start_time": "2023-03-15T11:19:17.221Z"
   },
   {
    "duration": 12,
    "start_time": "2023-03-15T11:19:25.355Z"
   },
   {
    "duration": 4,
    "start_time": "2023-03-15T11:19:29.504Z"
   },
   {
    "duration": 11,
    "start_time": "2023-03-15T11:19:30.335Z"
   },
   {
    "duration": 786,
    "start_time": "2023-03-15T11:19:50.015Z"
   },
   {
    "duration": 186,
    "start_time": "2023-03-15T11:19:56.905Z"
   },
   {
    "duration": 292,
    "start_time": "2023-03-15T11:20:12.522Z"
   },
   {
    "duration": 6,
    "start_time": "2023-03-15T11:20:32.598Z"
   },
   {
    "duration": 1409,
    "start_time": "2023-03-15T11:20:54.344Z"
   },
   {
    "duration": 21,
    "start_time": "2023-03-15T11:21:21.668Z"
   },
   {
    "duration": 6,
    "start_time": "2023-03-15T11:21:37.765Z"
   },
   {
    "duration": 4,
    "start_time": "2023-03-15T11:21:43.669Z"
   },
   {
    "duration": 11,
    "start_time": "2023-03-15T11:21:47.918Z"
   },
   {
    "duration": 11,
    "start_time": "2023-03-15T11:21:58.001Z"
   },
   {
    "duration": 443,
    "start_time": "2023-03-15T11:22:22.101Z"
   },
   {
    "duration": 51,
    "start_time": "2023-03-15T11:22:22.547Z"
   },
   {
    "duration": 19,
    "start_time": "2023-03-15T11:22:22.600Z"
   },
   {
    "duration": 15,
    "start_time": "2023-03-15T11:22:22.621Z"
   },
   {
    "duration": 11,
    "start_time": "2023-03-15T11:22:22.717Z"
   },
   {
    "duration": 5,
    "start_time": "2023-03-15T11:22:22.865Z"
   },
   {
    "duration": 16,
    "start_time": "2023-03-15T11:22:23.025Z"
   },
   {
    "duration": 572,
    "start_time": "2023-03-15T11:22:23.213Z"
   },
   {
    "duration": 10,
    "start_time": "2023-03-15T11:22:23.815Z"
   },
   {
    "duration": 13,
    "start_time": "2023-03-15T11:22:24.265Z"
   },
   {
    "duration": 13,
    "start_time": "2023-03-15T11:22:33.426Z"
   },
   {
    "duration": 3,
    "start_time": "2023-03-15T11:23:02.665Z"
   },
   {
    "duration": 47,
    "start_time": "2023-03-15T11:23:02.833Z"
   },
   {
    "duration": 14,
    "start_time": "2023-03-15T11:23:03.005Z"
   },
   {
    "duration": 11,
    "start_time": "2023-03-15T11:23:03.145Z"
   },
   {
    "duration": 15,
    "start_time": "2023-03-15T11:23:03.273Z"
   },
   {
    "duration": 5,
    "start_time": "2023-03-15T11:23:03.429Z"
   },
   {
    "duration": 15,
    "start_time": "2023-03-15T11:23:03.573Z"
   },
   {
    "duration": 362,
    "start_time": "2023-03-15T11:23:04.025Z"
   },
   {
    "duration": 9,
    "start_time": "2023-03-15T11:23:04.519Z"
   },
   {
    "duration": 24,
    "start_time": "2023-03-15T11:23:05.365Z"
   },
   {
    "duration": 5,
    "start_time": "2023-03-15T11:27:00.128Z"
   },
   {
    "duration": 88,
    "start_time": "2023-03-15T11:27:10.877Z"
   },
   {
    "duration": 1489,
    "start_time": "2023-03-15T11:27:17.653Z"
   },
   {
    "duration": 4,
    "start_time": "2023-03-15T11:30:15.098Z"
   },
   {
    "duration": 15,
    "start_time": "2023-03-15T11:30:15.364Z"
   },
   {
    "duration": 19,
    "start_time": "2023-03-15T11:30:21.013Z"
   },
   {
    "duration": 5,
    "start_time": "2023-03-15T11:30:39.602Z"
   },
   {
    "duration": 6,
    "start_time": "2023-03-15T11:30:39.821Z"
   },
   {
    "duration": 16,
    "start_time": "2023-03-15T11:30:40.201Z"
   },
   {
    "duration": 5,
    "start_time": "2023-03-15T11:32:13.447Z"
   },
   {
    "duration": 8,
    "start_time": "2023-03-15T11:32:13.731Z"
   },
   {
    "duration": 16,
    "start_time": "2023-03-15T11:32:14.029Z"
   },
   {
    "duration": 7,
    "start_time": "2023-03-15T11:32:21.001Z"
   },
   {
    "duration": 16,
    "start_time": "2023-03-15T11:32:21.331Z"
   },
   {
    "duration": 6,
    "start_time": "2023-03-15T11:32:32.325Z"
   },
   {
    "duration": 16,
    "start_time": "2023-03-15T11:32:32.902Z"
   },
   {
    "duration": 12,
    "start_time": "2023-03-15T11:33:47.503Z"
   },
   {
    "duration": 23,
    "start_time": "2023-03-15T11:33:47.532Z"
   },
   {
    "duration": 7,
    "start_time": "2023-03-15T11:34:31.202Z"
   },
   {
    "duration": 45,
    "start_time": "2023-03-15T11:34:31.211Z"
   },
   {
    "duration": 5,
    "start_time": "2023-03-15T11:34:33.809Z"
   },
   {
    "duration": 7,
    "start_time": "2023-03-15T11:34:34.032Z"
   },
   {
    "duration": 21,
    "start_time": "2023-03-15T11:34:34.439Z"
   },
   {
    "duration": 409,
    "start_time": "2023-03-15T11:34:47.432Z"
   },
   {
    "duration": 55,
    "start_time": "2023-03-15T11:34:47.843Z"
   },
   {
    "duration": 14,
    "start_time": "2023-03-15T11:34:47.904Z"
   },
   {
    "duration": 18,
    "start_time": "2023-03-15T11:34:47.920Z"
   },
   {
    "duration": 32,
    "start_time": "2023-03-15T11:34:47.940Z"
   },
   {
    "duration": 53,
    "start_time": "2023-03-15T11:34:47.978Z"
   },
   {
    "duration": 86,
    "start_time": "2023-03-15T11:34:48.033Z"
   },
   {
    "duration": 585,
    "start_time": "2023-03-15T11:34:48.121Z"
   },
   {
    "duration": 10,
    "start_time": "2023-03-15T11:34:48.709Z"
   },
   {
    "duration": 11,
    "start_time": "2023-03-15T11:34:48.722Z"
   },
   {
    "duration": 7,
    "start_time": "2023-03-15T11:34:48.735Z"
   },
   {
    "duration": 39,
    "start_time": "2023-03-15T11:34:48.744Z"
   },
   {
    "duration": 25,
    "start_time": "2023-03-15T11:34:48.788Z"
   },
   {
    "duration": 791,
    "start_time": "2023-03-15T11:36:25.618Z"
   },
   {
    "duration": 129,
    "start_time": "2023-03-15T11:37:18.440Z"
   },
   {
    "duration": 6,
    "start_time": "2023-03-15T11:37:25.117Z"
   },
   {
    "duration": 9,
    "start_time": "2023-03-15T11:37:46.497Z"
   },
   {
    "duration": 18,
    "start_time": "2023-03-15T11:37:54.240Z"
   },
   {
    "duration": 6,
    "start_time": "2023-03-15T11:39:16.729Z"
   },
   {
    "duration": 4,
    "start_time": "2023-03-15T11:40:10.013Z"
   },
   {
    "duration": 1223,
    "start_time": "2023-03-15T11:41:44.931Z"
   },
   {
    "duration": 59,
    "start_time": "2023-03-15T11:41:46.156Z"
   },
   {
    "duration": 16,
    "start_time": "2023-03-15T11:41:46.217Z"
   },
   {
    "duration": 10,
    "start_time": "2023-03-15T11:41:46.235Z"
   },
   {
    "duration": 13,
    "start_time": "2023-03-15T11:41:46.247Z"
   },
   {
    "duration": 16,
    "start_time": "2023-03-15T11:41:46.262Z"
   },
   {
    "duration": 28,
    "start_time": "2023-03-15T11:41:46.285Z"
   },
   {
    "duration": 611,
    "start_time": "2023-03-15T11:41:46.316Z"
   },
   {
    "duration": 12,
    "start_time": "2023-03-15T11:41:46.930Z"
   },
   {
    "duration": 11,
    "start_time": "2023-03-15T11:41:46.946Z"
   },
   {
    "duration": 301,
    "start_time": "2023-03-15T11:41:46.959Z"
   },
   {
    "duration": 5,
    "start_time": "2023-03-15T11:41:47.262Z"
   },
   {
    "duration": 30,
    "start_time": "2023-03-15T11:41:47.278Z"
   },
   {
    "duration": 19,
    "start_time": "2023-03-15T11:41:47.310Z"
   },
   {
    "duration": 6,
    "start_time": "2023-03-15T11:41:47.331Z"
   },
   {
    "duration": 11,
    "start_time": "2023-03-15T11:41:47.339Z"
   },
   {
    "duration": 8,
    "start_time": "2023-03-15T11:41:47.352Z"
   },
   {
    "duration": 26,
    "start_time": "2023-03-15T11:42:55.705Z"
   },
   {
    "duration": 127,
    "start_time": "2023-03-15T11:43:28.498Z"
   },
   {
    "duration": 13,
    "start_time": "2023-03-15T11:43:35.249Z"
   },
   {
    "duration": 663,
    "start_time": "2023-03-15T11:43:51.153Z"
   },
   {
    "duration": 1258,
    "start_time": "2023-03-15T11:44:06.306Z"
   },
   {
    "duration": 51,
    "start_time": "2023-03-15T11:44:07.567Z"
   },
   {
    "duration": 14,
    "start_time": "2023-03-15T11:44:07.620Z"
   },
   {
    "duration": 10,
    "start_time": "2023-03-15T11:44:07.636Z"
   },
   {
    "duration": 14,
    "start_time": "2023-03-15T11:44:07.649Z"
   },
   {
    "duration": 34,
    "start_time": "2023-03-15T11:44:07.665Z"
   },
   {
    "duration": 20,
    "start_time": "2023-03-15T11:44:07.701Z"
   },
   {
    "duration": 620,
    "start_time": "2023-03-15T11:44:07.723Z"
   },
   {
    "duration": 10,
    "start_time": "2023-03-15T11:44:08.345Z"
   },
   {
    "duration": 34,
    "start_time": "2023-03-15T11:44:08.356Z"
   },
   {
    "duration": 270,
    "start_time": "2023-03-15T11:44:08.397Z"
   },
   {
    "duration": 22,
    "start_time": "2023-03-15T11:44:08.668Z"
   },
   {
    "duration": 11,
    "start_time": "2023-03-15T11:44:08.695Z"
   },
   {
    "duration": 15,
    "start_time": "2023-03-15T11:44:08.709Z"
   },
   {
    "duration": 18,
    "start_time": "2023-03-15T11:44:08.726Z"
   },
   {
    "duration": 6,
    "start_time": "2023-03-15T11:44:08.746Z"
   },
   {
    "duration": 25,
    "start_time": "2023-03-15T11:44:08.754Z"
   },
   {
    "duration": 8,
    "start_time": "2023-03-15T11:44:08.783Z"
   },
   {
    "duration": 3,
    "start_time": "2023-03-15T11:44:17.341Z"
   },
   {
    "duration": 63,
    "start_time": "2023-03-15T11:44:17.346Z"
   },
   {
    "duration": 20,
    "start_time": "2023-03-15T11:44:17.412Z"
   },
   {
    "duration": 16,
    "start_time": "2023-03-15T11:44:17.435Z"
   },
   {
    "duration": 32,
    "start_time": "2023-03-15T11:44:17.453Z"
   },
   {
    "duration": 22,
    "start_time": "2023-03-15T11:44:17.491Z"
   },
   {
    "duration": 13,
    "start_time": "2023-03-15T11:44:17.515Z"
   },
   {
    "duration": 294,
    "start_time": "2023-03-15T11:44:17.530Z"
   },
   {
    "duration": 8,
    "start_time": "2023-03-15T11:44:17.827Z"
   },
   {
    "duration": 26,
    "start_time": "2023-03-15T11:44:17.837Z"
   },
   {
    "duration": 360,
    "start_time": "2023-03-15T11:44:17.865Z"
   },
   {
    "duration": 249,
    "start_time": "2023-03-15T11:44:43.120Z"
   },
   {
    "duration": 242,
    "start_time": "2023-03-15T11:44:47.218Z"
   },
   {
    "duration": 4,
    "start_time": "2023-03-15T11:46:36.630Z"
   },
   {
    "duration": 356,
    "start_time": "2023-03-15T11:47:33.345Z"
   },
   {
    "duration": 100,
    "start_time": "2023-03-15T11:49:01.238Z"
   },
   {
    "duration": 2333,
    "start_time": "2023-03-15T11:49:06.314Z"
   },
   {
    "duration": 360,
    "start_time": "2023-03-15T11:49:19.830Z"
   },
   {
    "duration": 265,
    "start_time": "2023-03-15T11:49:29.738Z"
   },
   {
    "duration": 413,
    "start_time": "2023-03-15T11:49:42.049Z"
   },
   {
    "duration": 323,
    "start_time": "2023-03-15T11:49:50.513Z"
   },
   {
    "duration": 201,
    "start_time": "2023-03-15T11:50:12.002Z"
   },
   {
    "duration": 253,
    "start_time": "2023-03-15T11:50:36.514Z"
   },
   {
    "duration": 383,
    "start_time": "2023-03-15T11:50:38.742Z"
   },
   {
    "duration": 309,
    "start_time": "2023-03-15T11:51:48.615Z"
   },
   {
    "duration": 306,
    "start_time": "2023-03-15T11:52:07.309Z"
   },
   {
    "duration": 4,
    "start_time": "2023-03-15T11:52:44.743Z"
   },
   {
    "duration": 11,
    "start_time": "2023-03-15T11:52:44.963Z"
   },
   {
    "duration": 20,
    "start_time": "2023-03-15T11:52:45.209Z"
   },
   {
    "duration": 12,
    "start_time": "2023-03-15T11:52:50.610Z"
   },
   {
    "duration": 6,
    "start_time": "2023-03-15T11:52:50.835Z"
   },
   {
    "duration": 7,
    "start_time": "2023-03-15T11:52:51.247Z"
   },
   {
    "duration": 23,
    "start_time": "2023-03-15T12:49:03.935Z"
   },
   {
    "duration": 1243,
    "start_time": "2023-03-15T12:49:08.970Z"
   },
   {
    "duration": 48,
    "start_time": "2023-03-15T12:49:10.216Z"
   },
   {
    "duration": 20,
    "start_time": "2023-03-15T12:49:10.265Z"
   },
   {
    "duration": 12,
    "start_time": "2023-03-15T12:49:10.291Z"
   },
   {
    "duration": 18,
    "start_time": "2023-03-15T12:49:10.305Z"
   },
   {
    "duration": 14,
    "start_time": "2023-03-15T12:49:10.325Z"
   },
   {
    "duration": 22,
    "start_time": "2023-03-15T12:49:10.341Z"
   },
   {
    "duration": 669,
    "start_time": "2023-03-15T12:49:10.372Z"
   },
   {
    "duration": 10,
    "start_time": "2023-03-15T12:49:11.043Z"
   },
   {
    "duration": 29,
    "start_time": "2023-03-15T12:49:11.056Z"
   },
   {
    "duration": 14,
    "start_time": "2023-03-15T12:49:11.086Z"
   },
   {
    "duration": 333,
    "start_time": "2023-03-15T12:49:11.103Z"
   },
   {
    "duration": 9,
    "start_time": "2023-03-15T12:49:11.438Z"
   },
   {
    "duration": 198,
    "start_time": "2023-03-15T12:49:11.450Z"
   },
   {
    "duration": 368,
    "start_time": "2023-03-15T12:49:11.650Z"
   },
   {
    "duration": 5,
    "start_time": "2023-03-15T12:49:12.020Z"
   },
   {
    "duration": 14,
    "start_time": "2023-03-15T12:49:12.027Z"
   },
   {
    "duration": 46,
    "start_time": "2023-03-15T12:49:12.043Z"
   },
   {
    "duration": 5,
    "start_time": "2023-03-15T12:49:12.091Z"
   },
   {
    "duration": 8,
    "start_time": "2023-03-15T12:49:12.099Z"
   },
   {
    "duration": 8,
    "start_time": "2023-03-15T12:49:12.110Z"
   },
   {
    "duration": 99,
    "start_time": "2023-03-15T12:49:12.120Z"
   },
   {
    "duration": 11,
    "start_time": "2023-03-15T12:50:07.344Z"
   },
   {
    "duration": 131,
    "start_time": "2023-03-15T12:52:05.337Z"
   },
   {
    "duration": 11,
    "start_time": "2023-03-15T12:52:20.391Z"
   },
   {
    "duration": 3,
    "start_time": "2023-03-15T12:53:33.037Z"
   },
   {
    "duration": 4,
    "start_time": "2023-03-15T12:53:44.849Z"
   },
   {
    "duration": 5,
    "start_time": "2023-03-15T12:53:58.441Z"
   },
   {
    "duration": 12,
    "start_time": "2023-03-15T13:05:38.023Z"
   },
   {
    "duration": 63,
    "start_time": "2023-03-15T13:05:46.284Z"
   },
   {
    "duration": 15,
    "start_time": "2023-03-15T13:08:24.881Z"
   },
   {
    "duration": 412753,
    "start_time": "2023-03-15T13:08:40.548Z"
   },
   {
    "duration": 29,
    "start_time": "2023-03-15T13:16:00.045Z"
   },
   {
    "duration": 4,
    "start_time": "2023-03-15T13:16:09.115Z"
   },
   {
    "duration": 4,
    "start_time": "2023-03-15T13:16:38.478Z"
   },
   {
    "duration": 4,
    "start_time": "2023-03-15T13:16:48.554Z"
   },
   {
    "duration": 4,
    "start_time": "2023-03-15T13:17:14.490Z"
   },
   {
    "duration": 44,
    "start_time": "2023-03-15T13:17:14.754Z"
   },
   {
    "duration": 14,
    "start_time": "2023-03-15T13:17:14.914Z"
   },
   {
    "duration": 11,
    "start_time": "2023-03-15T13:17:15.014Z"
   },
   {
    "duration": 12,
    "start_time": "2023-03-15T13:17:15.146Z"
   },
   {
    "duration": 4,
    "start_time": "2023-03-15T13:17:15.289Z"
   },
   {
    "duration": 10,
    "start_time": "2023-03-15T13:17:15.433Z"
   },
   {
    "duration": 256,
    "start_time": "2023-03-15T13:17:15.591Z"
   },
   {
    "duration": 7,
    "start_time": "2023-03-15T13:17:15.849Z"
   },
   {
    "duration": 11,
    "start_time": "2023-03-15T13:17:15.884Z"
   },
   {
    "duration": 6,
    "start_time": "2023-03-15T13:17:16.014Z"
   },
   {
    "duration": 285,
    "start_time": "2023-03-15T13:17:16.294Z"
   },
   {
    "duration": 9,
    "start_time": "2023-03-15T13:17:16.581Z"
   },
   {
    "duration": 191,
    "start_time": "2023-03-15T13:17:16.599Z"
   },
   {
    "duration": 270,
    "start_time": "2023-03-15T13:17:16.793Z"
   },
   {
    "duration": 4,
    "start_time": "2023-03-15T13:17:19.468Z"
   },
   {
    "duration": 14,
    "start_time": "2023-03-15T13:17:19.878Z"
   },
   {
    "duration": 26,
    "start_time": "2023-03-15T13:17:20.254Z"
   },
   {
    "duration": 6,
    "start_time": "2023-03-15T13:17:22.133Z"
   },
   {
    "duration": 7,
    "start_time": "2023-03-15T13:17:22.889Z"
   },
   {
    "duration": 5,
    "start_time": "2023-03-15T13:17:23.420Z"
   },
   {
    "duration": 10,
    "start_time": "2023-03-15T13:17:23.906Z"
   },
   {
    "duration": 4,
    "start_time": "2023-03-15T13:17:25.034Z"
   },
   {
    "duration": 9674,
    "start_time": "2023-03-15T13:18:06.681Z"
   },
   {
    "duration": 4,
    "start_time": "2023-03-15T13:18:16.357Z"
   },
   {
    "duration": 3,
    "start_time": "2023-03-15T13:19:18.634Z"
   },
   {
    "duration": 15,
    "start_time": "2023-03-15T13:19:43.246Z"
   },
   {
    "duration": 11767,
    "start_time": "2023-03-15T13:20:02.918Z"
   },
   {
    "duration": 4,
    "start_time": "2023-03-15T13:21:32.921Z"
   },
   {
    "duration": 31,
    "start_time": "2023-03-15T13:22:21.619Z"
   },
   {
    "duration": 4,
    "start_time": "2023-03-15T13:28:15.791Z"
   },
   {
    "duration": 6,
    "start_time": "2023-03-15T13:28:25.495Z"
   },
   {
    "duration": 29393,
    "start_time": "2023-03-15T13:28:27.943Z"
   },
   {
    "duration": 4,
    "start_time": "2023-03-15T13:28:57.339Z"
   },
   {
    "duration": 105232,
    "start_time": "2023-03-15T13:30:05.811Z"
   },
   {
    "duration": 4,
    "start_time": "2023-03-15T13:31:51.045Z"
   },
   {
    "duration": 4,
    "start_time": "2023-03-15T13:32:11.511Z"
   },
   {
    "duration": 1489,
    "start_time": "2023-03-15T13:32:20.796Z"
   },
   {
    "duration": 0,
    "start_time": "2023-03-15T13:32:22.287Z"
   },
   {
    "duration": 0,
    "start_time": "2023-03-15T13:32:22.289Z"
   },
   {
    "duration": 0,
    "start_time": "2023-03-15T13:32:22.290Z"
   },
   {
    "duration": 0,
    "start_time": "2023-03-15T13:32:22.292Z"
   },
   {
    "duration": 0,
    "start_time": "2023-03-15T13:32:22.294Z"
   },
   {
    "duration": 0,
    "start_time": "2023-03-15T13:32:22.295Z"
   },
   {
    "duration": 0,
    "start_time": "2023-03-15T13:32:22.296Z"
   },
   {
    "duration": 0,
    "start_time": "2023-03-15T13:32:22.297Z"
   },
   {
    "duration": 0,
    "start_time": "2023-03-15T13:32:22.298Z"
   },
   {
    "duration": 0,
    "start_time": "2023-03-15T13:32:22.299Z"
   },
   {
    "duration": 0,
    "start_time": "2023-03-15T13:32:22.300Z"
   },
   {
    "duration": 0,
    "start_time": "2023-03-15T13:32:22.302Z"
   },
   {
    "duration": 0,
    "start_time": "2023-03-15T13:32:22.303Z"
   },
   {
    "duration": 0,
    "start_time": "2023-03-15T13:32:22.304Z"
   },
   {
    "duration": 0,
    "start_time": "2023-03-15T13:32:22.306Z"
   },
   {
    "duration": 0,
    "start_time": "2023-03-15T13:32:22.307Z"
   },
   {
    "duration": 0,
    "start_time": "2023-03-15T13:32:22.308Z"
   },
   {
    "duration": 0,
    "start_time": "2023-03-15T13:32:22.309Z"
   },
   {
    "duration": 0,
    "start_time": "2023-03-15T13:32:22.311Z"
   },
   {
    "duration": 0,
    "start_time": "2023-03-15T13:32:22.312Z"
   },
   {
    "duration": 0,
    "start_time": "2023-03-15T13:32:22.313Z"
   },
   {
    "duration": 0,
    "start_time": "2023-03-15T13:32:22.314Z"
   },
   {
    "duration": 0,
    "start_time": "2023-03-15T13:32:22.315Z"
   },
   {
    "duration": 0,
    "start_time": "2023-03-15T13:32:22.316Z"
   },
   {
    "duration": 0,
    "start_time": "2023-03-15T13:32:22.317Z"
   },
   {
    "duration": 0,
    "start_time": "2023-03-15T13:32:22.318Z"
   },
   {
    "duration": 0,
    "start_time": "2023-03-15T13:32:22.319Z"
   },
   {
    "duration": 0,
    "start_time": "2023-03-15T13:32:22.320Z"
   },
   {
    "duration": 0,
    "start_time": "2023-03-15T13:32:22.321Z"
   },
   {
    "duration": 1367,
    "start_time": "2023-03-15T13:33:36.628Z"
   },
   {
    "duration": 44,
    "start_time": "2023-03-15T13:33:37.997Z"
   },
   {
    "duration": 15,
    "start_time": "2023-03-15T13:33:38.042Z"
   },
   {
    "duration": 10,
    "start_time": "2023-03-15T13:33:38.059Z"
   },
   {
    "duration": 13,
    "start_time": "2023-03-15T13:33:38.071Z"
   },
   {
    "duration": 4,
    "start_time": "2023-03-15T13:33:38.086Z"
   },
   {
    "duration": 19,
    "start_time": "2023-03-15T13:33:38.092Z"
   },
   {
    "duration": 431,
    "start_time": "2023-03-15T13:33:38.113Z"
   },
   {
    "duration": 10,
    "start_time": "2023-03-15T13:33:38.545Z"
   },
   {
    "duration": 21,
    "start_time": "2023-03-15T13:33:38.558Z"
   },
   {
    "duration": 12,
    "start_time": "2023-03-15T13:33:38.581Z"
   },
   {
    "duration": 425,
    "start_time": "2023-03-15T13:33:38.595Z"
   },
   {
    "duration": 10,
    "start_time": "2023-03-15T13:33:39.022Z"
   },
   {
    "duration": 169,
    "start_time": "2023-03-15T13:33:39.034Z"
   },
   {
    "duration": 251,
    "start_time": "2023-03-15T13:33:39.205Z"
   },
   {
    "duration": 4,
    "start_time": "2023-03-15T13:33:39.458Z"
   },
   {
    "duration": 22,
    "start_time": "2023-03-15T13:33:39.463Z"
   },
   {
    "duration": 24,
    "start_time": "2023-03-15T13:33:39.486Z"
   },
   {
    "duration": 5,
    "start_time": "2023-03-15T13:33:39.511Z"
   },
   {
    "duration": 9,
    "start_time": "2023-03-15T13:33:39.517Z"
   },
   {
    "duration": 11,
    "start_time": "2023-03-15T13:33:39.527Z"
   },
   {
    "duration": 41,
    "start_time": "2023-03-15T13:33:39.540Z"
   },
   {
    "duration": 6,
    "start_time": "2023-03-15T13:33:39.583Z"
   },
   {
    "duration": 8952,
    "start_time": "2023-03-15T13:33:39.591Z"
   },
   {
    "duration": 4,
    "start_time": "2023-03-15T13:33:48.544Z"
   },
   {
    "duration": 9,
    "start_time": "2023-03-15T13:33:48.550Z"
   },
   {
    "duration": 11719,
    "start_time": "2023-03-15T13:33:48.561Z"
   },
   {
    "duration": 4,
    "start_time": "2023-03-15T13:34:00.283Z"
   },
   {
    "duration": 106010,
    "start_time": "2023-03-15T13:34:00.289Z"
   },
   {
    "duration": 4,
    "start_time": "2023-03-15T13:35:46.300Z"
   },
   {
    "duration": 3,
    "start_time": "2023-03-15T13:38:58.404Z"
   },
   {
    "duration": 864,
    "start_time": "2023-03-15T13:39:36.505Z"
   },
   {
    "duration": 5,
    "start_time": "2023-03-15T13:40:27.746Z"
   },
   {
    "duration": 4,
    "start_time": "2023-03-15T13:40:39.403Z"
   },
   {
    "duration": 1075,
    "start_time": "2023-03-15T13:40:58.503Z"
   },
   {
    "duration": 4,
    "start_time": "2023-03-15T13:40:59.580Z"
   },
   {
    "duration": 803,
    "start_time": "2023-03-15T13:41:15.534Z"
   },
   {
    "duration": 5,
    "start_time": "2023-03-15T13:41:16.408Z"
   },
   {
    "duration": 1496,
    "start_time": "2023-03-15T13:41:33.909Z"
   },
   {
    "duration": 50,
    "start_time": "2023-03-15T13:41:35.406Z"
   },
   {
    "duration": 15,
    "start_time": "2023-03-15T13:41:35.458Z"
   },
   {
    "duration": 9,
    "start_time": "2023-03-15T13:41:35.475Z"
   },
   {
    "duration": 16,
    "start_time": "2023-03-15T13:41:35.486Z"
   },
   {
    "duration": 4,
    "start_time": "2023-03-15T13:41:35.504Z"
   },
   {
    "duration": 19,
    "start_time": "2023-03-15T13:41:35.509Z"
   },
   {
    "duration": 438,
    "start_time": "2023-03-15T13:41:35.529Z"
   },
   {
    "duration": 12,
    "start_time": "2023-03-15T13:41:35.969Z"
   },
   {
    "duration": 9,
    "start_time": "2023-03-15T13:41:35.983Z"
   },
   {
    "duration": 6,
    "start_time": "2023-03-15T13:41:35.994Z"
   },
   {
    "duration": 426,
    "start_time": "2023-03-15T13:41:36.002Z"
   },
   {
    "duration": 11,
    "start_time": "2023-03-15T13:41:36.430Z"
   },
   {
    "duration": 190,
    "start_time": "2023-03-15T13:41:36.444Z"
   },
   {
    "duration": 269,
    "start_time": "2023-03-15T13:41:36.636Z"
   },
   {
    "duration": 4,
    "start_time": "2023-03-15T13:41:36.907Z"
   },
   {
    "duration": 23,
    "start_time": "2023-03-15T13:41:36.912Z"
   },
   {
    "duration": 19,
    "start_time": "2023-03-15T13:41:36.937Z"
   },
   {
    "duration": 17,
    "start_time": "2023-03-15T13:41:36.957Z"
   },
   {
    "duration": 7,
    "start_time": "2023-03-15T13:41:36.976Z"
   },
   {
    "duration": 7,
    "start_time": "2023-03-15T13:41:36.985Z"
   },
   {
    "duration": 36,
    "start_time": "2023-03-15T13:41:36.994Z"
   },
   {
    "duration": 5,
    "start_time": "2023-03-15T13:41:37.032Z"
   },
   {
    "duration": 9680,
    "start_time": "2023-03-15T13:41:37.039Z"
   },
   {
    "duration": 5,
    "start_time": "2023-03-15T13:41:46.721Z"
   },
   {
    "duration": 7,
    "start_time": "2023-03-15T13:41:46.727Z"
   },
   {
    "duration": 9947,
    "start_time": "2023-03-15T13:41:46.736Z"
   },
   {
    "duration": 5,
    "start_time": "2023-03-15T13:41:56.685Z"
   },
   {
    "duration": 39323,
    "start_time": "2023-03-15T13:41:56.691Z"
   },
   {
    "duration": 4,
    "start_time": "2023-03-15T13:42:36.016Z"
   },
   {
    "duration": 675,
    "start_time": "2023-03-15T13:42:36.022Z"
   },
   {
    "duration": 3,
    "start_time": "2023-03-15T13:42:36.699Z"
   },
   {
    "duration": 1400,
    "start_time": "2023-03-15T13:43:04.995Z"
   },
   {
    "duration": 45,
    "start_time": "2023-03-15T13:43:06.397Z"
   },
   {
    "duration": 14,
    "start_time": "2023-03-15T13:43:06.444Z"
   },
   {
    "duration": 11,
    "start_time": "2023-03-15T13:43:06.460Z"
   },
   {
    "duration": 21,
    "start_time": "2023-03-15T13:43:06.473Z"
   },
   {
    "duration": 6,
    "start_time": "2023-03-15T13:43:06.496Z"
   },
   {
    "duration": 17,
    "start_time": "2023-03-15T13:43:06.504Z"
   },
   {
    "duration": 442,
    "start_time": "2023-03-15T13:43:06.523Z"
   },
   {
    "duration": 13,
    "start_time": "2023-03-15T13:43:06.967Z"
   },
   {
    "duration": 10,
    "start_time": "2023-03-15T13:43:06.983Z"
   },
   {
    "duration": 14,
    "start_time": "2023-03-15T13:43:06.995Z"
   },
   {
    "duration": 417,
    "start_time": "2023-03-15T13:43:07.011Z"
   },
   {
    "duration": 9,
    "start_time": "2023-03-15T13:43:07.430Z"
   },
   {
    "duration": 179,
    "start_time": "2023-03-15T13:43:07.441Z"
   },
   {
    "duration": 267,
    "start_time": "2023-03-15T13:43:07.622Z"
   },
   {
    "duration": 5,
    "start_time": "2023-03-15T13:43:07.890Z"
   },
   {
    "duration": 22,
    "start_time": "2023-03-15T13:43:07.896Z"
   },
   {
    "duration": 30,
    "start_time": "2023-03-15T13:43:07.919Z"
   },
   {
    "duration": 25,
    "start_time": "2023-03-15T13:43:07.951Z"
   },
   {
    "duration": 6,
    "start_time": "2023-03-15T13:43:07.978Z"
   },
   {
    "duration": 7,
    "start_time": "2023-03-15T13:43:07.986Z"
   },
   {
    "duration": 14,
    "start_time": "2023-03-15T13:43:07.995Z"
   },
   {
    "duration": 64,
    "start_time": "2023-03-15T13:43:08.011Z"
   },
   {
    "duration": 9870,
    "start_time": "2023-03-15T13:43:08.078Z"
   },
   {
    "duration": 4,
    "start_time": "2023-03-15T13:43:17.950Z"
   },
   {
    "duration": 5,
    "start_time": "2023-03-15T13:43:17.956Z"
   },
   {
    "duration": 13615,
    "start_time": "2023-03-15T13:43:17.963Z"
   },
   {
    "duration": 4,
    "start_time": "2023-03-15T13:43:31.582Z"
   },
   {
    "duration": 118185,
    "start_time": "2023-03-15T13:43:31.588Z"
   },
   {
    "duration": 5,
    "start_time": "2023-03-15T13:45:29.774Z"
   },
   {
    "duration": 912,
    "start_time": "2023-03-15T13:45:29.781Z"
   },
   {
    "duration": 4,
    "start_time": "2023-03-15T13:45:30.696Z"
   },
   {
    "duration": 6,
    "start_time": "2023-03-15T13:47:11.995Z"
   },
   {
    "duration": 4,
    "start_time": "2023-03-15T13:47:40.730Z"
   },
   {
    "duration": 8,
    "start_time": "2023-03-15T13:47:55.423Z"
   },
   {
    "duration": 11,
    "start_time": "2023-03-15T13:52:51.291Z"
   },
   {
    "duration": 6,
    "start_time": "2023-03-15T13:52:52.894Z"
   },
   {
    "duration": 5,
    "start_time": "2023-03-15T13:52:53.247Z"
   },
   {
    "duration": 11337,
    "start_time": "2023-03-15T13:52:55.226Z"
   },
   {
    "duration": 5,
    "start_time": "2023-03-15T13:53:06.565Z"
   },
   {
    "duration": 17,
    "start_time": "2023-03-15T13:53:06.572Z"
   },
   {
    "duration": 12185,
    "start_time": "2023-03-15T13:53:06.592Z"
   },
   {
    "duration": 4,
    "start_time": "2023-03-15T13:53:18.780Z"
   },
   {
    "duration": 123040,
    "start_time": "2023-03-15T13:53:18.785Z"
   },
   {
    "duration": 5,
    "start_time": "2023-03-15T13:55:21.827Z"
   },
   {
    "duration": 960,
    "start_time": "2023-03-15T13:55:21.834Z"
   },
   {
    "duration": 4,
    "start_time": "2023-03-15T13:55:22.796Z"
   },
   {
    "duration": 27,
    "start_time": "2023-03-15T13:56:10.135Z"
   },
   {
    "duration": 1033,
    "start_time": "2023-03-15T13:56:49.556Z"
   },
   {
    "duration": 5,
    "start_time": "2023-03-15T13:56:51.155Z"
   },
   {
    "duration": 1736,
    "start_time": "2023-03-15T13:56:55.989Z"
   },
   {
    "duration": 4,
    "start_time": "2023-03-15T13:56:57.728Z"
   },
   {
    "duration": 1333,
    "start_time": "2023-03-15T13:57:24.528Z"
   },
   {
    "duration": 43,
    "start_time": "2023-03-15T13:57:25.863Z"
   },
   {
    "duration": 14,
    "start_time": "2023-03-15T13:57:25.908Z"
   },
   {
    "duration": 16,
    "start_time": "2023-03-15T13:57:25.924Z"
   },
   {
    "duration": 21,
    "start_time": "2023-03-15T13:57:25.941Z"
   },
   {
    "duration": 21,
    "start_time": "2023-03-15T13:57:25.963Z"
   },
   {
    "duration": 30,
    "start_time": "2023-03-15T13:57:25.986Z"
   },
   {
    "duration": 450,
    "start_time": "2023-03-15T13:57:26.018Z"
   },
   {
    "duration": 11,
    "start_time": "2023-03-15T13:57:26.470Z"
   },
   {
    "duration": 15,
    "start_time": "2023-03-15T13:57:26.484Z"
   },
   {
    "duration": 10,
    "start_time": "2023-03-15T13:57:26.501Z"
   },
   {
    "duration": 424,
    "start_time": "2023-03-15T13:57:26.512Z"
   },
   {
    "duration": 11,
    "start_time": "2023-03-15T13:57:26.939Z"
   },
   {
    "duration": 184,
    "start_time": "2023-03-15T13:57:26.953Z"
   },
   {
    "duration": 263,
    "start_time": "2023-03-15T13:57:27.139Z"
   },
   {
    "duration": 5,
    "start_time": "2023-03-15T13:57:27.403Z"
   },
   {
    "duration": 17,
    "start_time": "2023-03-15T13:57:27.409Z"
   },
   {
    "duration": 21,
    "start_time": "2023-03-15T13:57:27.428Z"
   },
   {
    "duration": 25,
    "start_time": "2023-03-15T13:57:27.451Z"
   },
   {
    "duration": 8,
    "start_time": "2023-03-15T13:57:27.478Z"
   },
   {
    "duration": 6,
    "start_time": "2023-03-15T13:57:27.488Z"
   },
   {
    "duration": 10,
    "start_time": "2023-03-15T13:57:27.496Z"
   },
   {
    "duration": 5,
    "start_time": "2023-03-15T13:57:27.508Z"
   },
   {
    "duration": 8539,
    "start_time": "2023-03-15T13:57:27.515Z"
   },
   {
    "duration": 4,
    "start_time": "2023-03-15T13:57:36.056Z"
   },
   {
    "duration": 15,
    "start_time": "2023-03-15T13:57:36.061Z"
   },
   {
    "duration": 9997,
    "start_time": "2023-03-15T13:57:36.078Z"
   },
   {
    "duration": 4,
    "start_time": "2023-03-15T13:57:46.078Z"
   },
   {
    "duration": 75948,
    "start_time": "2023-03-15T13:57:46.084Z"
   },
   {
    "duration": 5,
    "start_time": "2023-03-15T13:59:02.033Z"
   },
   {
    "duration": 1681,
    "start_time": "2023-03-15T13:59:02.039Z"
   },
   {
    "duration": 4,
    "start_time": "2023-03-15T13:59:03.722Z"
   },
   {
    "duration": 1422,
    "start_time": "2023-03-15T13:59:28.503Z"
   },
   {
    "duration": 45,
    "start_time": "2023-03-15T13:59:29.928Z"
   },
   {
    "duration": 13,
    "start_time": "2023-03-15T13:59:29.975Z"
   },
   {
    "duration": 13,
    "start_time": "2023-03-15T13:59:29.991Z"
   },
   {
    "duration": 34,
    "start_time": "2023-03-15T13:59:30.006Z"
   },
   {
    "duration": 24,
    "start_time": "2023-03-15T13:59:30.042Z"
   },
   {
    "duration": 33,
    "start_time": "2023-03-15T13:59:30.068Z"
   },
   {
    "duration": 498,
    "start_time": "2023-03-15T13:59:30.103Z"
   },
   {
    "duration": 12,
    "start_time": "2023-03-15T13:59:30.603Z"
   },
   {
    "duration": 35,
    "start_time": "2023-03-15T13:59:30.618Z"
   },
   {
    "duration": 36,
    "start_time": "2023-03-15T13:59:30.655Z"
   },
   {
    "duration": 435,
    "start_time": "2023-03-15T13:59:30.693Z"
   },
   {
    "duration": 10,
    "start_time": "2023-03-15T13:59:31.130Z"
   },
   {
    "duration": 193,
    "start_time": "2023-03-15T13:59:31.142Z"
   },
   {
    "duration": 263,
    "start_time": "2023-03-15T13:59:31.338Z"
   },
   {
    "duration": 4,
    "start_time": "2023-03-15T13:59:31.603Z"
   },
   {
    "duration": 41,
    "start_time": "2023-03-15T13:59:31.609Z"
   },
   {
    "duration": 32,
    "start_time": "2023-03-15T13:59:31.652Z"
   },
   {
    "duration": 7,
    "start_time": "2023-03-15T13:59:31.686Z"
   },
   {
    "duration": 41,
    "start_time": "2023-03-15T13:59:31.695Z"
   },
   {
    "duration": 9,
    "start_time": "2023-03-15T13:59:31.738Z"
   },
   {
    "duration": 35,
    "start_time": "2023-03-15T13:59:31.749Z"
   },
   {
    "duration": 9,
    "start_time": "2023-03-15T13:59:31.787Z"
   },
   {
    "duration": 8374,
    "start_time": "2023-03-15T13:59:31.798Z"
   },
   {
    "duration": 5,
    "start_time": "2023-03-15T13:59:40.173Z"
   },
   {
    "duration": 15,
    "start_time": "2023-03-15T13:59:40.179Z"
   },
   {
    "duration": 8589,
    "start_time": "2023-03-15T13:59:40.196Z"
   },
   {
    "duration": 4,
    "start_time": "2023-03-15T13:59:48.788Z"
   },
   {
    "duration": 76133,
    "start_time": "2023-03-15T13:59:48.794Z"
   },
   {
    "duration": 5,
    "start_time": "2023-03-15T14:01:04.929Z"
   },
   {
    "duration": 1426,
    "start_time": "2023-03-15T14:01:04.936Z"
   },
   {
    "duration": 6,
    "start_time": "2023-03-15T14:01:06.364Z"
   },
   {
    "duration": 686,
    "start_time": "2023-03-15T14:01:13.716Z"
   },
   {
    "duration": 4,
    "start_time": "2023-03-15T14:01:14.404Z"
   },
   {
    "duration": 1449,
    "start_time": "2023-03-16T09:19:58.446Z"
   },
   {
    "duration": 4,
    "start_time": "2023-03-16T09:21:23.380Z"
   },
   {
    "duration": 164,
    "start_time": "2023-03-16T09:21:23.386Z"
   },
   {
    "duration": 14,
    "start_time": "2023-03-16T09:21:23.553Z"
   },
   {
    "duration": 17,
    "start_time": "2023-03-16T09:21:23.569Z"
   },
   {
    "duration": 12,
    "start_time": "2023-03-16T09:21:23.588Z"
   },
   {
    "duration": 3,
    "start_time": "2023-03-16T09:21:23.601Z"
   },
   {
    "duration": 16,
    "start_time": "2023-03-16T09:21:23.606Z"
   },
   {
    "duration": 570,
    "start_time": "2023-03-16T09:21:23.623Z"
   },
   {
    "duration": 8,
    "start_time": "2023-03-16T09:21:24.195Z"
   },
   {
    "duration": 16,
    "start_time": "2023-03-16T09:21:24.205Z"
   },
   {
    "duration": 20,
    "start_time": "2023-03-16T09:21:24.222Z"
   },
   {
    "duration": 367,
    "start_time": "2023-03-16T09:21:24.244Z"
   },
   {
    "duration": 6,
    "start_time": "2023-03-16T09:21:24.613Z"
   },
   {
    "duration": 166,
    "start_time": "2023-03-16T09:21:24.622Z"
   },
   {
    "duration": 239,
    "start_time": "2023-03-16T09:21:24.789Z"
   },
   {
    "duration": 4,
    "start_time": "2023-03-16T09:21:25.029Z"
   },
   {
    "duration": 12,
    "start_time": "2023-03-16T09:21:25.041Z"
   },
   {
    "duration": 20,
    "start_time": "2023-03-16T09:21:25.055Z"
   },
   {
    "duration": 15,
    "start_time": "2023-03-16T09:21:25.077Z"
   },
   {
    "duration": 25,
    "start_time": "2023-03-16T09:21:25.094Z"
   },
   {
    "duration": 30,
    "start_time": "2023-03-16T09:21:25.120Z"
   },
   {
    "duration": 44,
    "start_time": "2023-03-16T09:21:25.151Z"
   },
   {
    "duration": 5,
    "start_time": "2023-03-16T09:21:46.231Z"
   },
   {
    "duration": 16483,
    "start_time": "2023-03-16T09:21:53.628Z"
   },
   {
    "duration": 3,
    "start_time": "2023-03-16T09:22:27.020Z"
   },
   {
    "duration": 3,
    "start_time": "2023-03-16T09:22:28.011Z"
   },
   {
    "duration": 667,
    "start_time": "2023-03-16T09:23:04.027Z"
   },
   {
    "duration": 4,
    "start_time": "2023-03-16T09:23:04.696Z"
   },
   {
    "duration": 31607,
    "start_time": "2023-03-16T09:23:21.223Z"
   },
   {
    "duration": 3,
    "start_time": "2023-03-16T09:24:00.924Z"
   },
   {
    "duration": 952,
    "start_time": "2023-03-16T09:24:19.012Z"
   },
   {
    "duration": 5,
    "start_time": "2023-03-16T09:24:19.968Z"
   },
   {
    "duration": 1187,
    "start_time": "2023-03-16T09:24:23.223Z"
   },
   {
    "duration": 4,
    "start_time": "2023-03-16T09:24:24.412Z"
   },
   {
    "duration": 522,
    "start_time": "2023-03-16T09:24:28.415Z"
   },
   {
    "duration": 5,
    "start_time": "2023-03-16T09:24:28.938Z"
   },
   {
    "duration": 1384,
    "start_time": "2023-03-16T09:31:46.717Z"
   },
   {
    "duration": 43,
    "start_time": "2023-03-16T09:31:48.103Z"
   },
   {
    "duration": 18,
    "start_time": "2023-03-16T09:31:48.149Z"
   },
   {
    "duration": 15,
    "start_time": "2023-03-16T09:31:48.169Z"
   },
   {
    "duration": 25,
    "start_time": "2023-03-16T09:31:48.186Z"
   },
   {
    "duration": 11,
    "start_time": "2023-03-16T09:31:48.213Z"
   },
   {
    "duration": 25,
    "start_time": "2023-03-16T09:31:48.225Z"
   },
   {
    "duration": 429,
    "start_time": "2023-03-16T09:31:48.253Z"
   },
   {
    "duration": 9,
    "start_time": "2023-03-16T09:31:48.683Z"
   },
   {
    "duration": 32,
    "start_time": "2023-03-16T09:31:48.693Z"
   },
   {
    "duration": 8,
    "start_time": "2023-03-16T09:31:48.727Z"
   },
   {
    "duration": 395,
    "start_time": "2023-03-16T09:31:48.736Z"
   },
   {
    "duration": 7,
    "start_time": "2023-03-16T09:31:49.133Z"
   },
   {
    "duration": 172,
    "start_time": "2023-03-16T09:31:49.144Z"
   },
   {
    "duration": 251,
    "start_time": "2023-03-16T09:31:49.317Z"
   },
   {
    "duration": 4,
    "start_time": "2023-03-16T09:31:49.570Z"
   },
   {
    "duration": 35,
    "start_time": "2023-03-16T09:31:49.575Z"
   },
   {
    "duration": 35,
    "start_time": "2023-03-16T09:31:49.611Z"
   },
   {
    "duration": 7,
    "start_time": "2023-03-16T09:31:49.648Z"
   },
   {
    "duration": 20,
    "start_time": "2023-03-16T09:31:49.657Z"
   },
   {
    "duration": 17,
    "start_time": "2023-03-16T09:31:49.679Z"
   },
   {
    "duration": 24,
    "start_time": "2023-03-16T09:31:49.698Z"
   },
   {
    "duration": 128,
    "start_time": "2023-03-16T09:31:49.724Z"
   },
   {
    "duration": 288301,
    "start_time": "2023-03-16T09:31:49.856Z"
   },
   {
    "duration": 5,
    "start_time": "2023-03-16T09:36:38.159Z"
   },
   {
    "duration": 24,
    "start_time": "2023-03-16T09:36:38.166Z"
   },
   {
    "duration": 63553,
    "start_time": "2023-03-16T09:36:38.192Z"
   },
   {
    "duration": 4,
    "start_time": "2023-03-16T09:37:41.747Z"
   },
   {
    "duration": 286687,
    "start_time": "2023-03-16T09:37:41.753Z"
   },
   {
    "duration": 4,
    "start_time": "2023-03-16T09:42:28.442Z"
   },
   {
    "duration": 762,
    "start_time": "2023-03-16T09:42:28.448Z"
   },
   {
    "duration": 4,
    "start_time": "2023-03-16T09:42:29.212Z"
   },
   {
    "duration": 891,
    "start_time": "2023-03-16T10:49:50.485Z"
   },
   {
    "duration": 3,
    "start_time": "2023-03-16T10:49:51.378Z"
   },
   {
    "duration": 1224,
    "start_time": "2023-03-16T10:50:12.590Z"
   },
   {
    "duration": 41,
    "start_time": "2023-03-16T10:50:13.816Z"
   },
   {
    "duration": 11,
    "start_time": "2023-03-16T10:50:13.858Z"
   },
   {
    "duration": 24,
    "start_time": "2023-03-16T10:50:13.871Z"
   },
   {
    "duration": 12,
    "start_time": "2023-03-16T10:50:13.897Z"
   },
   {
    "duration": 3,
    "start_time": "2023-03-16T10:50:13.910Z"
   },
   {
    "duration": 19,
    "start_time": "2023-03-16T10:50:13.915Z"
   },
   {
    "duration": 349,
    "start_time": "2023-03-16T10:50:13.940Z"
   },
   {
    "duration": 7,
    "start_time": "2023-03-16T10:50:14.291Z"
   },
   {
    "duration": 8,
    "start_time": "2023-03-16T10:50:14.300Z"
   },
   {
    "duration": 9,
    "start_time": "2023-03-16T10:50:14.309Z"
   },
   {
    "duration": 331,
    "start_time": "2023-03-16T10:50:14.319Z"
   },
   {
    "duration": 7,
    "start_time": "2023-03-16T10:50:14.652Z"
   },
   {
    "duration": 150,
    "start_time": "2023-03-16T10:50:14.661Z"
   },
   {
    "duration": 216,
    "start_time": "2023-03-16T10:50:14.813Z"
   },
   {
    "duration": 11,
    "start_time": "2023-03-16T10:50:15.031Z"
   },
   {
    "duration": 25,
    "start_time": "2023-03-16T10:50:15.044Z"
   },
   {
    "duration": 29,
    "start_time": "2023-03-16T10:50:15.070Z"
   },
   {
    "duration": 5,
    "start_time": "2023-03-16T10:50:15.100Z"
   },
   {
    "duration": 7,
    "start_time": "2023-03-16T10:50:15.106Z"
   },
   {
    "duration": 6,
    "start_time": "2023-03-16T10:50:15.114Z"
   },
   {
    "duration": 27,
    "start_time": "2023-03-16T10:50:15.121Z"
   },
   {
    "duration": 5,
    "start_time": "2023-03-16T10:50:15.150Z"
   },
   {
    "duration": 245077,
    "start_time": "2023-03-16T10:50:15.157Z"
   },
   {
    "duration": 3,
    "start_time": "2023-03-16T10:54:20.235Z"
   },
   {
    "duration": 6,
    "start_time": "2023-03-16T10:54:20.241Z"
   },
   {
    "duration": 416894,
    "start_time": "2023-03-16T10:54:20.248Z"
   },
   {
    "duration": 5,
    "start_time": "2023-03-16T11:01:17.144Z"
   },
   {
    "duration": 268016,
    "start_time": "2023-03-16T11:01:17.151Z"
   },
   {
    "duration": 4,
    "start_time": "2023-03-16T11:05:45.169Z"
   },
   {
    "duration": 951,
    "start_time": "2023-03-16T11:05:45.175Z"
   },
   {
    "duration": 4,
    "start_time": "2023-03-16T11:05:46.128Z"
   },
   {
    "duration": 7987,
    "start_time": "2023-03-16T11:15:50.588Z"
   },
   {
    "duration": 4,
    "start_time": "2023-03-16T11:15:58.577Z"
   },
   {
    "duration": 1282,
    "start_time": "2023-03-16T11:16:33.988Z"
   },
   {
    "duration": 41,
    "start_time": "2023-03-16T11:16:35.273Z"
   },
   {
    "duration": 12,
    "start_time": "2023-03-16T11:16:35.316Z"
   },
   {
    "duration": 8,
    "start_time": "2023-03-16T11:16:35.330Z"
   },
   {
    "duration": 48,
    "start_time": "2023-03-16T11:16:35.339Z"
   },
   {
    "duration": 11,
    "start_time": "2023-03-16T11:16:35.389Z"
   },
   {
    "duration": 20,
    "start_time": "2023-03-16T11:16:35.401Z"
   },
   {
    "duration": 408,
    "start_time": "2023-03-16T11:16:35.423Z"
   },
   {
    "duration": 27,
    "start_time": "2023-03-16T11:16:35.833Z"
   },
   {
    "duration": 27,
    "start_time": "2023-03-16T11:16:35.870Z"
   },
   {
    "duration": 12,
    "start_time": "2023-03-16T11:16:35.899Z"
   },
   {
    "duration": 350,
    "start_time": "2023-03-16T11:16:35.913Z"
   },
   {
    "duration": 14,
    "start_time": "2023-03-16T11:16:36.265Z"
   },
   {
    "duration": 165,
    "start_time": "2023-03-16T11:16:36.281Z"
   },
   {
    "duration": 263,
    "start_time": "2023-03-16T11:16:36.448Z"
   },
   {
    "duration": 4,
    "start_time": "2023-03-16T11:16:36.713Z"
   },
   {
    "duration": 34,
    "start_time": "2023-03-16T11:16:36.718Z"
   },
   {
    "duration": 42,
    "start_time": "2023-03-16T11:16:36.754Z"
   },
   {
    "duration": 5,
    "start_time": "2023-03-16T11:16:36.798Z"
   },
   {
    "duration": 19,
    "start_time": "2023-03-16T11:16:36.804Z"
   },
   {
    "duration": 9,
    "start_time": "2023-03-16T11:16:36.825Z"
   },
   {
    "duration": 54,
    "start_time": "2023-03-16T11:16:36.835Z"
   },
   {
    "duration": 12,
    "start_time": "2023-03-16T11:16:36.891Z"
   },
   {
    "duration": 279225,
    "start_time": "2023-03-16T11:16:36.905Z"
   },
   {
    "duration": 4,
    "start_time": "2023-03-16T11:21:16.131Z"
   },
   {
    "duration": 10,
    "start_time": "2023-03-16T11:21:16.136Z"
   },
   {
    "duration": 537396,
    "start_time": "2023-03-16T11:21:16.147Z"
   },
   {
    "duration": 4,
    "start_time": "2023-03-16T11:30:13.551Z"
   },
   {
    "duration": 50197,
    "start_time": "2023-03-16T11:30:13.556Z"
   },
   {
    "duration": 4,
    "start_time": "2023-03-16T11:31:03.756Z"
   },
   {
    "duration": 5860,
    "start_time": "2023-03-16T11:31:03.762Z"
   },
   {
    "duration": 4,
    "start_time": "2023-03-16T11:31:09.624Z"
   },
   {
    "duration": 770,
    "start_time": "2023-03-16T11:31:09.629Z"
   },
   {
    "duration": 4,
    "start_time": "2023-03-16T11:31:10.400Z"
   },
   {
    "duration": 2074,
    "start_time": "2023-03-16T11:46:22.455Z"
   },
   {
    "duration": 4,
    "start_time": "2023-03-16T11:46:24.531Z"
   },
   {
    "duration": 1250,
    "start_time": "2023-03-16T11:47:29.332Z"
   },
   {
    "duration": 41,
    "start_time": "2023-03-16T11:47:30.584Z"
   },
   {
    "duration": 12,
    "start_time": "2023-03-16T11:47:30.627Z"
   },
   {
    "duration": 35,
    "start_time": "2023-03-16T11:47:30.642Z"
   },
   {
    "duration": 31,
    "start_time": "2023-03-16T11:47:30.679Z"
   },
   {
    "duration": 44,
    "start_time": "2023-03-16T11:47:30.711Z"
   },
   {
    "duration": 43,
    "start_time": "2023-03-16T11:47:30.756Z"
   },
   {
    "duration": 399,
    "start_time": "2023-03-16T11:47:30.801Z"
   },
   {
    "duration": 8,
    "start_time": "2023-03-16T11:47:31.201Z"
   },
   {
    "duration": 45,
    "start_time": "2023-03-16T11:47:31.210Z"
   },
   {
    "duration": 47,
    "start_time": "2023-03-16T11:47:31.256Z"
   },
   {
    "duration": 378,
    "start_time": "2023-03-16T11:47:31.304Z"
   },
   {
    "duration": 6,
    "start_time": "2023-03-16T11:47:31.684Z"
   },
   {
    "duration": 160,
    "start_time": "2023-03-16T11:47:31.693Z"
   },
   {
    "duration": 222,
    "start_time": "2023-03-16T11:47:31.855Z"
   },
   {
    "duration": 3,
    "start_time": "2023-03-16T11:47:32.079Z"
   },
   {
    "duration": 27,
    "start_time": "2023-03-16T11:47:32.084Z"
   },
   {
    "duration": 52,
    "start_time": "2023-03-16T11:47:32.113Z"
   },
   {
    "duration": 6,
    "start_time": "2023-03-16T11:47:32.167Z"
   },
   {
    "duration": 7,
    "start_time": "2023-03-16T11:47:32.175Z"
   },
   {
    "duration": 11,
    "start_time": "2023-03-16T11:47:32.183Z"
   },
   {
    "duration": 18,
    "start_time": "2023-03-16T11:47:32.196Z"
   },
   {
    "duration": 128,
    "start_time": "2023-03-16T11:47:32.216Z"
   },
   {
    "duration": 1221,
    "start_time": "2023-03-16T11:48:53.994Z"
   },
   {
    "duration": 56,
    "start_time": "2023-03-16T11:48:55.217Z"
   },
   {
    "duration": 13,
    "start_time": "2023-03-16T11:48:55.275Z"
   },
   {
    "duration": 9,
    "start_time": "2023-03-16T11:48:55.289Z"
   },
   {
    "duration": 12,
    "start_time": "2023-03-16T11:48:55.299Z"
   },
   {
    "duration": 3,
    "start_time": "2023-03-16T11:48:55.312Z"
   },
   {
    "duration": 16,
    "start_time": "2023-03-16T11:48:55.317Z"
   },
   {
    "duration": 363,
    "start_time": "2023-03-16T11:48:55.335Z"
   },
   {
    "duration": 8,
    "start_time": "2023-03-16T11:48:55.699Z"
   },
   {
    "duration": 22,
    "start_time": "2023-03-16T11:48:55.708Z"
   },
   {
    "duration": 7,
    "start_time": "2023-03-16T11:48:55.732Z"
   },
   {
    "duration": 371,
    "start_time": "2023-03-16T11:48:55.740Z"
   },
   {
    "duration": 8,
    "start_time": "2023-03-16T11:48:56.112Z"
   },
   {
    "duration": 173,
    "start_time": "2023-03-16T11:48:56.123Z"
   },
   {
    "duration": 268,
    "start_time": "2023-03-16T11:48:56.298Z"
   },
   {
    "duration": 4,
    "start_time": "2023-03-16T11:48:56.568Z"
   },
   {
    "duration": 26,
    "start_time": "2023-03-16T11:48:56.574Z"
   },
   {
    "duration": 9,
    "start_time": "2023-03-16T11:48:56.601Z"
   },
   {
    "duration": 8,
    "start_time": "2023-03-16T11:48:56.611Z"
   },
   {
    "duration": 28,
    "start_time": "2023-03-16T11:48:56.621Z"
   },
   {
    "duration": 8,
    "start_time": "2023-03-16T11:48:56.653Z"
   },
   {
    "duration": 190,
    "start_time": "2023-03-16T11:48:56.662Z"
   },
   {
    "duration": 0,
    "start_time": "2023-03-16T11:48:56.857Z"
   },
   {
    "duration": 0,
    "start_time": "2023-03-16T11:48:56.858Z"
   },
   {
    "duration": 0,
    "start_time": "2023-03-16T11:48:56.859Z"
   },
   {
    "duration": 0,
    "start_time": "2023-03-16T11:48:56.860Z"
   },
   {
    "duration": 0,
    "start_time": "2023-03-16T11:48:56.862Z"
   },
   {
    "duration": 0,
    "start_time": "2023-03-16T11:48:56.863Z"
   },
   {
    "duration": 0,
    "start_time": "2023-03-16T11:48:56.865Z"
   },
   {
    "duration": 0,
    "start_time": "2023-03-16T11:48:56.866Z"
   },
   {
    "duration": 0,
    "start_time": "2023-03-16T11:48:56.867Z"
   },
   {
    "duration": 0,
    "start_time": "2023-03-16T11:48:56.867Z"
   },
   {
    "duration": 0,
    "start_time": "2023-03-16T11:48:56.868Z"
   },
   {
    "duration": 0,
    "start_time": "2023-03-16T11:48:56.870Z"
   },
   {
    "duration": 69,
    "start_time": "2023-03-16T11:50:18.591Z"
   },
   {
    "duration": 8,
    "start_time": "2023-03-16T11:51:04.390Z"
   },
   {
    "duration": 10,
    "start_time": "2023-03-16T11:51:06.652Z"
   },
   {
    "duration": 3,
    "start_time": "2023-03-16T11:51:08.616Z"
   },
   {
    "duration": 15,
    "start_time": "2023-03-16T11:51:08.997Z"
   },
   {
    "duration": 8,
    "start_time": "2023-03-16T11:51:09.189Z"
   },
   {
    "duration": 3,
    "start_time": "2023-03-16T11:51:48.697Z"
   },
   {
    "duration": 16,
    "start_time": "2023-03-16T11:51:49.389Z"
   },
   {
    "duration": 8,
    "start_time": "2023-03-16T11:51:49.705Z"
   },
   {
    "duration": 9,
    "start_time": "2023-03-16T11:51:52.204Z"
   },
   {
    "duration": 1252,
    "start_time": "2023-03-16T11:52:02.915Z"
   },
   {
    "duration": 43,
    "start_time": "2023-03-16T11:52:04.171Z"
   },
   {
    "duration": 13,
    "start_time": "2023-03-16T11:52:04.216Z"
   },
   {
    "duration": 15,
    "start_time": "2023-03-16T11:52:04.231Z"
   },
   {
    "duration": 20,
    "start_time": "2023-03-16T11:52:04.253Z"
   },
   {
    "duration": 7,
    "start_time": "2023-03-16T11:52:04.275Z"
   },
   {
    "duration": 22,
    "start_time": "2023-03-16T11:52:04.284Z"
   },
   {
    "duration": 400,
    "start_time": "2023-03-16T11:52:04.307Z"
   },
   {
    "duration": 8,
    "start_time": "2023-03-16T11:52:04.709Z"
   },
   {
    "duration": 11,
    "start_time": "2023-03-16T11:52:04.719Z"
   },
   {
    "duration": 11,
    "start_time": "2023-03-16T11:52:04.742Z"
   },
   {
    "duration": 360,
    "start_time": "2023-03-16T11:52:04.755Z"
   },
   {
    "duration": 8,
    "start_time": "2023-03-16T11:52:05.116Z"
   },
   {
    "duration": 167,
    "start_time": "2023-03-16T11:52:05.127Z"
   },
   {
    "duration": 230,
    "start_time": "2023-03-16T11:52:05.296Z"
   },
   {
    "duration": 3,
    "start_time": "2023-03-16T11:52:05.528Z"
   },
   {
    "duration": 36,
    "start_time": "2023-03-16T11:52:05.533Z"
   },
   {
    "duration": 114,
    "start_time": "2023-03-16T11:52:05.570Z"
   },
   {
    "duration": 0,
    "start_time": "2023-03-16T11:52:05.685Z"
   },
   {
    "duration": 0,
    "start_time": "2023-03-16T11:52:05.686Z"
   },
   {
    "duration": 0,
    "start_time": "2023-03-16T11:52:05.688Z"
   },
   {
    "duration": 0,
    "start_time": "2023-03-16T11:52:05.688Z"
   },
   {
    "duration": 0,
    "start_time": "2023-03-16T11:52:05.690Z"
   },
   {
    "duration": 0,
    "start_time": "2023-03-16T11:52:05.691Z"
   },
   {
    "duration": 0,
    "start_time": "2023-03-16T11:52:05.692Z"
   },
   {
    "duration": 0,
    "start_time": "2023-03-16T11:52:05.693Z"
   },
   {
    "duration": 0,
    "start_time": "2023-03-16T11:52:05.693Z"
   },
   {
    "duration": 0,
    "start_time": "2023-03-16T11:52:05.695Z"
   },
   {
    "duration": 0,
    "start_time": "2023-03-16T11:52:05.695Z"
   },
   {
    "duration": 0,
    "start_time": "2023-03-16T11:52:05.696Z"
   },
   {
    "duration": 0,
    "start_time": "2023-03-16T11:52:05.697Z"
   },
   {
    "duration": 0,
    "start_time": "2023-03-16T11:52:05.698Z"
   },
   {
    "duration": 0,
    "start_time": "2023-03-16T11:52:05.699Z"
   },
   {
    "duration": 0,
    "start_time": "2023-03-16T11:52:05.700Z"
   },
   {
    "duration": 4,
    "start_time": "2023-03-16T11:52:21.400Z"
   },
   {
    "duration": 47,
    "start_time": "2023-03-16T11:52:21.907Z"
   },
   {
    "duration": 8,
    "start_time": "2023-03-16T11:52:22.195Z"
   },
   {
    "duration": 8,
    "start_time": "2023-03-16T11:52:55.189Z"
   },
   {
    "duration": 15,
    "start_time": "2023-03-16T11:53:25.955Z"
   },
   {
    "duration": 30,
    "start_time": "2023-03-16T11:53:26.799Z"
   },
   {
    "duration": 1308,
    "start_time": "2023-03-16T11:53:48.220Z"
   },
   {
    "duration": 52,
    "start_time": "2023-03-16T11:53:49.530Z"
   },
   {
    "duration": 12,
    "start_time": "2023-03-16T11:53:49.583Z"
   },
   {
    "duration": 15,
    "start_time": "2023-03-16T11:53:49.597Z"
   },
   {
    "duration": 18,
    "start_time": "2023-03-16T11:53:49.614Z"
   },
   {
    "duration": 27,
    "start_time": "2023-03-16T11:53:49.633Z"
   },
   {
    "duration": 27,
    "start_time": "2023-03-16T11:53:49.662Z"
   },
   {
    "duration": 385,
    "start_time": "2023-03-16T11:53:49.691Z"
   },
   {
    "duration": 8,
    "start_time": "2023-03-16T11:53:50.077Z"
   },
   {
    "duration": 18,
    "start_time": "2023-03-16T11:53:50.087Z"
   },
   {
    "duration": 15,
    "start_time": "2023-03-16T11:53:50.107Z"
   },
   {
    "duration": 355,
    "start_time": "2023-03-16T11:53:50.124Z"
   },
   {
    "duration": 7,
    "start_time": "2023-03-16T11:53:50.480Z"
   },
   {
    "duration": 171,
    "start_time": "2023-03-16T11:53:50.491Z"
   },
   {
    "duration": 247,
    "start_time": "2023-03-16T11:53:50.664Z"
   },
   {
    "duration": 5,
    "start_time": "2023-03-16T11:53:50.913Z"
   },
   {
    "duration": 31,
    "start_time": "2023-03-16T11:53:50.919Z"
   },
   {
    "duration": 38,
    "start_time": "2023-03-16T11:53:50.952Z"
   },
   {
    "duration": 4,
    "start_time": "2023-03-16T11:53:50.992Z"
   },
   {
    "duration": 9,
    "start_time": "2023-03-16T11:53:50.998Z"
   },
   {
    "duration": 10,
    "start_time": "2023-03-16T11:53:51.009Z"
   },
   {
    "duration": 42,
    "start_time": "2023-03-16T11:53:51.021Z"
   },
   {
    "duration": 76,
    "start_time": "2023-03-16T11:53:51.065Z"
   },
   {
    "duration": 1283,
    "start_time": "2023-03-16T11:56:13.386Z"
   },
   {
    "duration": 41,
    "start_time": "2023-03-16T11:56:14.671Z"
   },
   {
    "duration": 11,
    "start_time": "2023-03-16T11:56:14.714Z"
   },
   {
    "duration": 15,
    "start_time": "2023-03-16T11:56:14.727Z"
   },
   {
    "duration": 36,
    "start_time": "2023-03-16T11:56:14.751Z"
   },
   {
    "duration": 6,
    "start_time": "2023-03-16T11:56:14.789Z"
   },
   {
    "duration": 30,
    "start_time": "2023-03-16T11:56:14.797Z"
   },
   {
    "duration": 405,
    "start_time": "2023-03-16T11:56:14.828Z"
   },
   {
    "duration": 13,
    "start_time": "2023-03-16T11:56:15.243Z"
   },
   {
    "duration": 27,
    "start_time": "2023-03-16T11:56:15.258Z"
   },
   {
    "duration": 11,
    "start_time": "2023-03-16T11:56:15.287Z"
   },
   {
    "duration": 380,
    "start_time": "2023-03-16T11:56:15.299Z"
   },
   {
    "duration": 8,
    "start_time": "2023-03-16T11:56:15.680Z"
   },
   {
    "duration": 155,
    "start_time": "2023-03-16T11:56:15.690Z"
   },
   {
    "duration": 238,
    "start_time": "2023-03-16T11:56:15.847Z"
   },
   {
    "duration": 5,
    "start_time": "2023-03-16T11:56:16.087Z"
   },
   {
    "duration": 19,
    "start_time": "2023-03-16T11:56:16.094Z"
   },
   {
    "duration": 12,
    "start_time": "2023-03-16T11:56:16.997Z"
   },
   {
    "duration": 20,
    "start_time": "2023-03-16T11:56:17.355Z"
   },
   {
    "duration": 5,
    "start_time": "2023-03-16T11:56:20.306Z"
   },
   {
    "duration": 7,
    "start_time": "2023-03-16T11:56:20.555Z"
   },
   {
    "duration": 7,
    "start_time": "2023-03-16T11:56:22.516Z"
   },
   {
    "duration": 110,
    "start_time": "2023-03-16T11:56:41.891Z"
   },
   {
    "duration": 5,
    "start_time": "2023-03-16T11:56:44.289Z"
   },
   {
    "duration": 5,
    "start_time": "2023-03-16T11:56:44.521Z"
   },
   {
    "duration": 5,
    "start_time": "2023-03-16T11:56:44.785Z"
   },
   {
    "duration": 9,
    "start_time": "2023-03-16T11:56:45.108Z"
   },
   {
    "duration": 6,
    "start_time": "2023-03-16T11:56:49.001Z"
   },
   {
    "duration": 17,
    "start_time": "2023-03-16T11:56:59.107Z"
   },
   {
    "duration": 8,
    "start_time": "2023-03-16T11:57:05.414Z"
   },
   {
    "duration": 5,
    "start_time": "2023-03-16T11:57:05.728Z"
   },
   {
    "duration": 15,
    "start_time": "2023-03-16T11:57:09.929Z"
   },
   {
    "duration": 34,
    "start_time": "2023-03-16T11:57:10.121Z"
   },
   {
    "duration": 8,
    "start_time": "2023-03-16T11:57:10.313Z"
   },
   {
    "duration": 7,
    "start_time": "2023-03-16T11:57:10.517Z"
   },
   {
    "duration": 4,
    "start_time": "2023-03-16T11:57:10.702Z"
   },
   {
    "duration": 11,
    "start_time": "2023-03-16T11:57:12.652Z"
   },
   {
    "duration": 4,
    "start_time": "2023-03-16T11:57:12.937Z"
   },
   {
    "duration": 11,
    "start_time": "2023-03-16T11:57:20.689Z"
   },
   {
    "duration": 20,
    "start_time": "2023-03-16T11:57:20.917Z"
   },
   {
    "duration": 5,
    "start_time": "2023-03-16T11:57:21.111Z"
   },
   {
    "duration": 6,
    "start_time": "2023-03-16T11:57:21.389Z"
   },
   {
    "duration": 5,
    "start_time": "2023-03-16T11:57:21.652Z"
   },
   {
    "duration": 9,
    "start_time": "2023-03-16T11:57:22.468Z"
   },
   {
    "duration": 5,
    "start_time": "2023-03-16T11:57:22.745Z"
   },
   {
    "duration": 12,
    "start_time": "2023-03-16T11:57:26.889Z"
   },
   {
    "duration": 20,
    "start_time": "2023-03-16T11:57:27.101Z"
   },
   {
    "duration": 6,
    "start_time": "2023-03-16T11:57:27.293Z"
   },
   {
    "duration": 5,
    "start_time": "2023-03-16T11:57:27.545Z"
   },
   {
    "duration": 5,
    "start_time": "2023-03-16T11:57:27.775Z"
   },
   {
    "duration": 10,
    "start_time": "2023-03-16T11:57:28.512Z"
   },
   {
    "duration": 4,
    "start_time": "2023-03-16T11:57:28.785Z"
   },
   {
    "duration": 11,
    "start_time": "2023-03-16T11:57:33.101Z"
   },
   {
    "duration": 18,
    "start_time": "2023-03-16T11:57:33.345Z"
   },
   {
    "duration": 4,
    "start_time": "2023-03-16T11:57:34.241Z"
   },
   {
    "duration": 6,
    "start_time": "2023-03-16T11:57:34.442Z"
   },
   {
    "duration": 5,
    "start_time": "2023-03-16T11:57:34.635Z"
   },
   {
    "duration": 9,
    "start_time": "2023-03-16T11:57:35.341Z"
   },
   {
    "duration": 6,
    "start_time": "2023-03-16T11:57:35.505Z"
   },
   {
    "duration": 10,
    "start_time": "2023-03-16T11:57:39.622Z"
   },
   {
    "duration": 18,
    "start_time": "2023-03-16T11:57:39.825Z"
   },
   {
    "duration": 5,
    "start_time": "2023-03-16T11:57:40.017Z"
   },
   {
    "duration": 6,
    "start_time": "2023-03-16T11:57:40.240Z"
   },
   {
    "duration": 6,
    "start_time": "2023-03-16T11:57:40.509Z"
   },
   {
    "duration": 7,
    "start_time": "2023-03-16T11:57:41.694Z"
   },
   {
    "duration": 4,
    "start_time": "2023-03-16T11:57:42.086Z"
   },
   {
    "duration": 13,
    "start_time": "2023-03-16T11:57:46.841Z"
   },
   {
    "duration": 18,
    "start_time": "2023-03-16T11:57:47.036Z"
   },
   {
    "duration": 5,
    "start_time": "2023-03-16T11:57:47.204Z"
   },
   {
    "duration": 6,
    "start_time": "2023-03-16T11:57:47.389Z"
   },
   {
    "duration": 5,
    "start_time": "2023-03-16T11:57:47.589Z"
   },
   {
    "duration": 9,
    "start_time": "2023-03-16T11:57:48.709Z"
   },
   {
    "duration": 3,
    "start_time": "2023-03-16T11:57:48.921Z"
   },
   {
    "duration": 9,
    "start_time": "2023-03-16T11:57:53.786Z"
   },
   {
    "duration": 20,
    "start_time": "2023-03-16T11:57:53.954Z"
   },
   {
    "duration": 5,
    "start_time": "2023-03-16T11:57:54.145Z"
   },
   {
    "duration": 7,
    "start_time": "2023-03-16T11:57:54.409Z"
   },
   {
    "duration": 5,
    "start_time": "2023-03-16T11:57:54.601Z"
   },
   {
    "duration": 10,
    "start_time": "2023-03-16T11:57:55.285Z"
   },
   {
    "duration": 5,
    "start_time": "2023-03-16T11:57:55.458Z"
   },
   {
    "duration": 13,
    "start_time": "2023-03-16T11:57:59.432Z"
   },
   {
    "duration": 22,
    "start_time": "2023-03-16T11:57:59.625Z"
   },
   {
    "duration": 5,
    "start_time": "2023-03-16T11:57:59.816Z"
   },
   {
    "duration": 6,
    "start_time": "2023-03-16T11:58:00.010Z"
   },
   {
    "duration": 5,
    "start_time": "2023-03-16T11:58:00.203Z"
   },
   {
    "duration": 9,
    "start_time": "2023-03-16T11:58:01.128Z"
   },
   {
    "duration": 4,
    "start_time": "2023-03-16T11:58:01.321Z"
   },
   {
    "duration": 23,
    "start_time": "2023-03-16T11:58:04.334Z"
   },
   {
    "duration": 33,
    "start_time": "2023-03-16T11:58:04.524Z"
   },
   {
    "duration": 7,
    "start_time": "2023-03-16T11:58:04.717Z"
   },
   {
    "duration": 8,
    "start_time": "2023-03-16T11:58:04.912Z"
   },
   {
    "duration": 6,
    "start_time": "2023-03-16T11:58:05.137Z"
   },
   {
    "duration": 16,
    "start_time": "2023-03-16T11:58:05.841Z"
   },
   {
    "duration": 16,
    "start_time": "2023-03-16T11:58:06.041Z"
   },
   {
    "duration": 42,
    "start_time": "2023-03-16T11:58:09.694Z"
   },
   {
    "duration": 39,
    "start_time": "2023-03-16T11:58:09.889Z"
   },
   {
    "duration": 8,
    "start_time": "2023-03-16T11:58:10.081Z"
   },
   {
    "duration": 7,
    "start_time": "2023-03-16T11:58:10.257Z"
   },
   {
    "duration": 5,
    "start_time": "2023-03-16T11:58:10.449Z"
   },
   {
    "duration": 219,
    "start_time": "2023-03-16T11:58:11.121Z"
   },
   {
    "duration": 4,
    "start_time": "2023-03-16T11:58:11.409Z"
   },
   {
    "duration": 37,
    "start_time": "2023-03-16T11:58:19.201Z"
   },
   {
    "duration": 36,
    "start_time": "2023-03-16T11:58:19.429Z"
   },
   {
    "duration": 7,
    "start_time": "2023-03-16T11:58:19.797Z"
   },
   {
    "duration": 7,
    "start_time": "2023-03-16T11:58:19.985Z"
   },
   {
    "duration": 6,
    "start_time": "2023-03-16T11:58:20.258Z"
   },
   {
    "duration": 136,
    "start_time": "2023-03-16T11:58:21.005Z"
   },
   {
    "duration": 6,
    "start_time": "2023-03-16T11:58:21.240Z"
   },
   {
    "duration": 950767,
    "start_time": "2023-03-16T11:58:23.826Z"
   },
   {
    "duration": 4,
    "start_time": "2023-03-16T12:14:14.595Z"
   },
   {
    "duration": 7,
    "start_time": "2023-03-16T12:14:14.600Z"
   },
   {
    "duration": 2084339,
    "start_time": "2023-03-16T12:14:14.609Z"
   },
   {
    "duration": 9,
    "start_time": "2023-03-16T12:48:58.950Z"
   },
   {
    "duration": 179874,
    "start_time": "2023-03-16T12:48:58.961Z"
   },
   {
    "duration": 11,
    "start_time": "2023-03-16T12:51:58.837Z"
   },
   {
    "duration": 22925,
    "start_time": "2023-03-16T12:51:58.849Z"
   },
   {
    "duration": 5,
    "start_time": "2023-03-16T12:52:21.776Z"
   },
   {
    "duration": 8613,
    "start_time": "2023-03-16T12:52:21.783Z"
   },
   {
    "duration": 4,
    "start_time": "2023-03-16T12:52:30.398Z"
   },
   {
    "duration": 59,
    "start_time": "2023-03-16T15:46:21.532Z"
   },
   {
    "duration": 1382,
    "start_time": "2023-03-16T15:50:34.749Z"
   },
   {
    "duration": 174,
    "start_time": "2023-03-16T15:50:36.133Z"
   },
   {
    "duration": 13,
    "start_time": "2023-03-16T15:50:36.309Z"
   },
   {
    "duration": 10,
    "start_time": "2023-03-16T15:50:36.324Z"
   },
   {
    "duration": 14,
    "start_time": "2023-03-16T15:50:36.337Z"
   },
   {
    "duration": 4,
    "start_time": "2023-03-16T15:50:36.353Z"
   },
   {
    "duration": 24,
    "start_time": "2023-03-16T15:50:36.359Z"
   },
   {
    "duration": 584,
    "start_time": "2023-03-16T15:50:36.385Z"
   },
   {
    "duration": 10,
    "start_time": "2023-03-16T15:50:36.975Z"
   },
   {
    "duration": 12,
    "start_time": "2023-03-16T15:50:36.986Z"
   },
   {
    "duration": 14,
    "start_time": "2023-03-16T15:50:37.000Z"
   },
   {
    "duration": 382,
    "start_time": "2023-03-16T15:50:37.015Z"
   },
   {
    "duration": 9,
    "start_time": "2023-03-16T15:50:37.398Z"
   },
   {
    "duration": 171,
    "start_time": "2023-03-16T15:50:37.410Z"
   },
   {
    "duration": 252,
    "start_time": "2023-03-16T15:50:37.583Z"
   },
   {
    "duration": 4,
    "start_time": "2023-03-16T15:50:37.837Z"
   },
   {
    "duration": 51,
    "start_time": "2023-03-16T15:50:37.843Z"
   },
   {
    "duration": 46,
    "start_time": "2023-03-16T15:50:37.896Z"
   },
   {
    "duration": 9,
    "start_time": "2023-03-16T15:50:37.944Z"
   },
   {
    "duration": 27,
    "start_time": "2023-03-16T15:50:37.955Z"
   },
   {
    "duration": 9,
    "start_time": "2023-03-16T15:50:37.983Z"
   },
   {
    "duration": 90,
    "start_time": "2023-03-16T15:50:37.994Z"
   },
   {
    "duration": 62,
    "start_time": "2023-03-16T15:51:49.120Z"
   },
   {
    "duration": 5,
    "start_time": "2023-03-16T15:51:49.660Z"
   },
   {
    "duration": 2987,
    "start_time": "2023-03-16T15:52:17.397Z"
   },
   {
    "duration": 6,
    "start_time": "2023-03-16T15:52:20.387Z"
   },
   {
    "duration": 86,
    "start_time": "2023-03-16T15:55:02.525Z"
   },
   {
    "duration": 10,
    "start_time": "2023-03-16T15:57:37.238Z"
   },
   {
    "duration": 7,
    "start_time": "2023-03-16T15:57:41.686Z"
   },
   {
    "duration": 217,
    "start_time": "2023-03-16T15:57:46.686Z"
   },
   {
    "duration": 189,
    "start_time": "2023-03-16T15:57:49.694Z"
   },
   {
    "duration": 5,
    "start_time": "2023-03-16T15:58:13.484Z"
   },
   {
    "duration": 9,
    "start_time": "2023-03-16T15:58:21.790Z"
   },
   {
    "duration": 13,
    "start_time": "2023-03-16T15:58:34.318Z"
   },
   {
    "duration": 9,
    "start_time": "2023-03-16T15:58:52.382Z"
   },
   {
    "duration": 15,
    "start_time": "2023-03-16T15:59:24.542Z"
   },
   {
    "duration": 6,
    "start_time": "2023-03-16T15:59:30.142Z"
   },
   {
    "duration": 13,
    "start_time": "2023-03-16T15:59:46.257Z"
   },
   {
    "duration": 11,
    "start_time": "2023-03-16T16:00:02.138Z"
   },
   {
    "duration": 7,
    "start_time": "2023-03-16T16:00:18.758Z"
   },
   {
    "duration": 8,
    "start_time": "2023-03-16T16:00:46.178Z"
   },
   {
    "duration": 3,
    "start_time": "2023-03-16T16:00:56.101Z"
   },
   {
    "duration": 204,
    "start_time": "2023-03-16T16:01:01.478Z"
   },
   {
    "duration": 266,
    "start_time": "2023-03-16T16:01:14.098Z"
   },
   {
    "duration": 197,
    "start_time": "2023-03-16T16:01:16.786Z"
   },
   {
    "duration": 268,
    "start_time": "2023-03-16T16:01:24.734Z"
   },
   {
    "duration": 1751,
    "start_time": "2023-03-18T19:06:10.426Z"
   },
   {
    "duration": 310,
    "start_time": "2023-03-18T19:06:12.183Z"
   },
   {
    "duration": 18,
    "start_time": "2023-03-18T19:06:12.507Z"
   },
   {
    "duration": 10,
    "start_time": "2023-03-18T19:06:12.526Z"
   },
   {
    "duration": 28,
    "start_time": "2023-03-18T19:06:12.539Z"
   },
   {
    "duration": 11,
    "start_time": "2023-03-18T19:06:12.573Z"
   },
   {
    "duration": 29,
    "start_time": "2023-03-18T19:06:12.588Z"
   },
   {
    "duration": 902,
    "start_time": "2023-03-18T19:06:12.618Z"
   },
   {
    "duration": 8,
    "start_time": "2023-03-18T19:06:13.523Z"
   },
   {
    "duration": 48,
    "start_time": "2023-03-18T19:06:13.558Z"
   },
   {
    "duration": 5,
    "start_time": "2023-03-18T19:06:13.615Z"
   },
   {
    "duration": 499,
    "start_time": "2023-03-18T19:06:13.623Z"
   },
   {
    "duration": 8,
    "start_time": "2023-03-18T19:06:14.124Z"
   },
   {
    "duration": 254,
    "start_time": "2023-03-18T19:06:14.134Z"
   },
   {
    "duration": 307,
    "start_time": "2023-03-18T19:06:14.402Z"
   },
   {
    "duration": 7,
    "start_time": "2023-03-18T19:06:14.714Z"
   },
   {
    "duration": 56,
    "start_time": "2023-03-18T19:06:14.725Z"
   },
   {
    "duration": 48,
    "start_time": "2023-03-18T19:06:14.783Z"
   },
   {
    "duration": 15,
    "start_time": "2023-03-18T19:06:14.833Z"
   },
   {
    "duration": 8,
    "start_time": "2023-03-18T19:06:14.849Z"
   },
   {
    "duration": 15,
    "start_time": "2023-03-18T19:06:28.268Z"
   },
   {
    "duration": 23,
    "start_time": "2023-03-18T19:06:28.634Z"
   },
   {
    "duration": 6,
    "start_time": "2023-03-18T19:06:29.033Z"
   },
   {
    "duration": 27,
    "start_time": "2023-03-18T19:06:29.998Z"
   },
   {
    "duration": 12,
    "start_time": "2023-03-18T19:06:47.208Z"
   },
   {
    "duration": 5,
    "start_time": "2023-03-18T19:07:12.106Z"
   },
   {
    "duration": 312,
    "start_time": "2023-03-18T19:07:17.433Z"
   },
   {
    "duration": 353,
    "start_time": "2023-03-18T19:07:22.103Z"
   },
   {
    "duration": 10,
    "start_time": "2023-03-18T19:07:22.919Z"
   },
   {
    "duration": 4,
    "start_time": "2023-03-18T19:07:37.029Z"
   },
   {
    "duration": 92,
    "start_time": "2023-03-18T19:07:37.039Z"
   },
   {
    "duration": 28,
    "start_time": "2023-03-18T19:07:37.133Z"
   },
   {
    "duration": 29,
    "start_time": "2023-03-18T19:07:37.174Z"
   },
   {
    "duration": 13,
    "start_time": "2023-03-18T19:07:37.210Z"
   },
   {
    "duration": 4,
    "start_time": "2023-03-18T19:07:37.226Z"
   },
   {
    "duration": 21,
    "start_time": "2023-03-18T19:07:37.232Z"
   },
   {
    "duration": 370,
    "start_time": "2023-03-18T19:07:37.255Z"
   },
   {
    "duration": 19,
    "start_time": "2023-03-18T19:07:37.628Z"
   },
   {
    "duration": 19,
    "start_time": "2023-03-18T19:07:37.649Z"
   },
   {
    "duration": 6,
    "start_time": "2023-03-18T19:07:37.669Z"
   },
   {
    "duration": 387,
    "start_time": "2023-03-18T19:07:37.677Z"
   },
   {
    "duration": 11,
    "start_time": "2023-03-18T19:07:38.082Z"
   },
   {
    "duration": 208,
    "start_time": "2023-03-18T19:07:38.096Z"
   },
   {
    "duration": 314,
    "start_time": "2023-03-18T19:07:38.315Z"
   },
   {
    "duration": 4,
    "start_time": "2023-03-18T19:07:38.634Z"
   },
   {
    "duration": 79,
    "start_time": "2023-03-18T19:07:38.639Z"
   },
   {
    "duration": 161,
    "start_time": "2023-03-18T19:07:38.720Z"
   },
   {
    "duration": 13,
    "start_time": "2023-03-18T19:07:38.898Z"
   },
   {
    "duration": 8,
    "start_time": "2023-03-18T19:07:38.913Z"
   },
   {
    "duration": 6,
    "start_time": "2023-03-18T19:07:38.922Z"
   },
   {
    "duration": 54,
    "start_time": "2023-03-18T19:07:38.929Z"
   },
   {
    "duration": 724,
    "start_time": "2023-03-18T19:07:38.984Z"
   },
   {
    "duration": 244,
    "start_time": "2023-03-18T19:07:44.133Z"
   },
   {
    "duration": 19,
    "start_time": "2023-03-18T19:07:44.590Z"
   },
   {
    "duration": 1766,
    "start_time": "2023-03-18T19:08:00.690Z"
   },
   {
    "duration": 70,
    "start_time": "2023-03-18T19:08:02.463Z"
   },
   {
    "duration": 39,
    "start_time": "2023-03-18T19:08:02.534Z"
   },
   {
    "duration": 23,
    "start_time": "2023-03-18T19:08:02.586Z"
   },
   {
    "duration": 13,
    "start_time": "2023-03-18T19:08:02.614Z"
   },
   {
    "duration": 6,
    "start_time": "2023-03-18T19:08:02.629Z"
   },
   {
    "duration": 85,
    "start_time": "2023-03-18T19:08:02.636Z"
   },
   {
    "duration": 547,
    "start_time": "2023-03-18T19:08:02.730Z"
   },
   {
    "duration": 39,
    "start_time": "2023-03-18T19:08:03.282Z"
   },
   {
    "duration": 14,
    "start_time": "2023-03-18T19:08:03.323Z"
   },
   {
    "duration": 13,
    "start_time": "2023-03-18T19:08:03.338Z"
   },
   {
    "duration": 553,
    "start_time": "2023-03-18T19:08:03.353Z"
   },
   {
    "duration": 17,
    "start_time": "2023-03-18T19:08:03.908Z"
   },
   {
    "duration": 269,
    "start_time": "2023-03-18T19:08:03.928Z"
   },
   {
    "duration": 331,
    "start_time": "2023-03-18T19:08:04.198Z"
   },
   {
    "duration": 6,
    "start_time": "2023-03-18T19:08:04.531Z"
   },
   {
    "duration": 65,
    "start_time": "2023-03-18T19:08:04.539Z"
   },
   {
    "duration": 74,
    "start_time": "2023-03-18T19:08:04.606Z"
   },
   {
    "duration": 11,
    "start_time": "2023-03-18T19:08:04.686Z"
   },
   {
    "duration": 15,
    "start_time": "2023-03-18T19:08:04.702Z"
   },
   {
    "duration": 18,
    "start_time": "2023-03-18T19:08:04.718Z"
   },
   {
    "duration": 63,
    "start_time": "2023-03-18T19:08:04.738Z"
   },
   {
    "duration": 13,
    "start_time": "2023-03-18T19:08:04.809Z"
   },
   {
    "duration": 726,
    "start_time": "2023-03-18T19:08:04.824Z"
   },
   {
    "duration": 30,
    "start_time": "2023-03-18T19:08:05.556Z"
   },
   {
    "duration": 1462792,
    "start_time": "2023-03-18T19:08:05.601Z"
   },
   {
    "duration": 14,
    "start_time": "2023-03-18T19:32:28.404Z"
   },
   {
    "duration": 5,
    "start_time": "2023-03-18T19:32:28.421Z"
   },
   {
    "duration": 47535,
    "start_time": "2023-03-18T19:32:28.428Z"
   },
   {
    "duration": 0,
    "start_time": "2023-03-18T19:33:15.975Z"
   },
   {
    "duration": 0,
    "start_time": "2023-03-18T19:33:15.981Z"
   },
   {
    "duration": 0,
    "start_time": "2023-03-18T19:33:15.982Z"
   },
   {
    "duration": 0,
    "start_time": "2023-03-18T19:33:15.983Z"
   },
   {
    "duration": 0,
    "start_time": "2023-03-18T19:33:15.985Z"
   },
   {
    "duration": 0,
    "start_time": "2023-03-18T19:33:15.994Z"
   },
   {
    "duration": 0,
    "start_time": "2023-03-18T19:33:16.000Z"
   },
   {
    "duration": 7,
    "start_time": "2023-03-18T19:33:20.514Z"
   },
   {
    "duration": 8,
    "start_time": "2023-03-18T19:33:21.571Z"
   },
   {
    "duration": 27,
    "start_time": "2023-03-18T19:33:22.946Z"
   },
   {
    "duration": 20,
    "start_time": "2023-03-18T19:33:28.617Z"
   },
   {
    "duration": 1313,
    "start_time": "2023-03-18T19:33:41.861Z"
   },
   {
    "duration": 7405,
    "start_time": "2023-03-18T19:33:49.583Z"
   },
   {
    "duration": 285,
    "start_time": "2023-03-18T19:34:01.654Z"
   },
   {
    "duration": 7,
    "start_time": "2023-03-18T19:34:07.994Z"
   },
   {
    "duration": 115,
    "start_time": "2023-03-18T19:34:08.286Z"
   },
   {
    "duration": 2933,
    "start_time": "2023-03-18T19:34:29.489Z"
   },
   {
    "duration": 1970,
    "start_time": "2023-03-18T19:34:32.424Z"
   },
   {
    "duration": 96,
    "start_time": "2023-03-18T19:34:34.395Z"
   },
   {
    "duration": 26,
    "start_time": "2023-03-18T19:34:34.497Z"
   },
   {
    "duration": 13,
    "start_time": "2023-03-18T19:34:34.525Z"
   },
   {
    "duration": 25,
    "start_time": "2023-03-18T19:34:34.539Z"
   },
   {
    "duration": 31,
    "start_time": "2023-03-18T19:34:34.566Z"
   },
   {
    "duration": 21,
    "start_time": "2023-03-18T19:34:34.617Z"
   },
   {
    "duration": 631,
    "start_time": "2023-03-18T19:34:34.641Z"
   },
   {
    "duration": 14,
    "start_time": "2023-03-18T19:34:35.279Z"
   },
   {
    "duration": 15,
    "start_time": "2023-03-18T19:34:35.299Z"
   },
   {
    "duration": 7,
    "start_time": "2023-03-18T19:34:35.320Z"
   },
   {
    "duration": 398,
    "start_time": "2023-03-18T19:34:35.329Z"
   },
   {
    "duration": 7,
    "start_time": "2023-03-18T19:34:35.730Z"
   },
   {
    "duration": 266,
    "start_time": "2023-03-18T19:34:35.739Z"
   },
   {
    "duration": 336,
    "start_time": "2023-03-18T19:34:36.006Z"
   },
   {
    "duration": 17,
    "start_time": "2023-03-18T19:34:36.344Z"
   },
   {
    "duration": 56,
    "start_time": "2023-03-18T19:34:36.364Z"
   },
   {
    "duration": 49,
    "start_time": "2023-03-18T19:34:36.422Z"
   },
   {
    "duration": 10,
    "start_time": "2023-03-18T19:34:36.473Z"
   },
   {
    "duration": 51,
    "start_time": "2023-03-18T19:34:36.488Z"
   },
   {
    "duration": 24,
    "start_time": "2023-03-18T19:34:36.541Z"
   },
   {
    "duration": 12,
    "start_time": "2023-03-18T19:34:40.316Z"
   },
   {
    "duration": 3,
    "start_time": "2023-03-18T19:34:48.399Z"
   },
   {
    "duration": 14,
    "start_time": "2023-03-18T19:34:48.712Z"
   },
   {
    "duration": 275,
    "start_time": "2023-03-18T19:34:48.980Z"
   },
   {
    "duration": 8,
    "start_time": "2023-03-18T19:35:17.732Z"
   },
   {
    "duration": 4,
    "start_time": "2023-03-18T19:35:54.115Z"
   },
   {
    "duration": 7,
    "start_time": "2023-03-18T19:35:54.402Z"
   },
   {
    "duration": 37,
    "start_time": "2023-03-18T19:35:54.868Z"
   },
   {
    "duration": 13,
    "start_time": "2023-03-18T19:36:30.121Z"
   },
   {
    "duration": 10,
    "start_time": "2023-03-18T19:36:37.559Z"
   },
   {
    "duration": 26,
    "start_time": "2023-03-18T19:36:37.759Z"
   },
   {
    "duration": 131,
    "start_time": "2023-03-18T19:36:38.518Z"
   },
   {
    "duration": 8,
    "start_time": "2023-03-18T19:41:35.817Z"
   },
   {
    "duration": 47,
    "start_time": "2023-03-18T19:41:36.082Z"
   },
   {
    "duration": 12,
    "start_time": "2023-03-18T19:41:55.898Z"
   },
   {
    "duration": 18,
    "start_time": "2023-03-18T19:41:56.235Z"
   },
   {
    "duration": 50,
    "start_time": "2023-03-18T19:41:56.987Z"
   },
   {
    "duration": 12,
    "start_time": "2023-03-18T19:42:32.617Z"
   },
   {
    "duration": 5,
    "start_time": "2023-03-18T19:42:43.073Z"
   },
   {
    "duration": 16,
    "start_time": "2023-03-18T19:42:43.513Z"
   },
   {
    "duration": 1551995,
    "start_time": "2023-03-18T19:42:43.990Z"
   },
   {
    "duration": 9,
    "start_time": "2023-03-18T20:08:35.987Z"
   },
   {
    "duration": 16,
    "start_time": "2023-03-18T20:08:35.998Z"
   },
   {
    "duration": 13,
    "start_time": "2023-03-18T20:08:43.726Z"
   },
   {
    "duration": 20,
    "start_time": "2023-03-18T20:09:13.674Z"
   },
   {
    "duration": 15,
    "start_time": "2023-03-18T20:09:20.084Z"
   },
   {
    "duration": 26544,
    "start_time": "2023-03-18T20:09:59.436Z"
   },
   {
    "duration": 26840,
    "start_time": "2023-03-18T20:10:28.698Z"
   }
  ],
  "kernelspec": {
   "display_name": "Python 3 (ipykernel)",
   "language": "python",
   "name": "python3"
  },
  "language_info": {
   "codemirror_mode": {
    "name": "ipython",
    "version": 3
   },
   "file_extension": ".py",
   "mimetype": "text/x-python",
   "name": "python",
   "nbconvert_exporter": "python",
   "pygments_lexer": "ipython3",
   "version": "3.9.12"
  },
  "toc": {
   "base_numbering": 1,
   "nav_menu": {},
   "number_sections": true,
   "sideBar": true,
   "skip_h1_title": true,
   "title_cell": "Содержание",
   "title_sidebar": "Contents",
   "toc_cell": true,
   "toc_position": {},
   "toc_section_display": true,
   "toc_window_display": false
  }
 },
 "nbformat": 4,
 "nbformat_minor": 2
}
