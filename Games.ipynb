{
 "cells": [
  {
   "cell_type": "markdown",
   "metadata": {},
   "source": [
    "# Исследование данных о продажах игр\n",
    "\n",
    "Вы работаете в интернет-магазине «Стримчик», который продаёт по всему миру компьютерные игры. Из открытых источников доступны исторические данные о продажах игр, оценки пользователей и экспертов, жанры и платформы (например, Xbox или PlayStation). Вам нужно выявить определяющие успешность игры закономерности. Это позволит сделать ставку на потенциально популярный продукт и спланировать рекламные кампании.\n",
    "Перед вами данные до 2016 года. Представим, что сейчас декабрь 2016 г., и вы планируете кампанию на 2017-й. Нужно отработать принцип работы с данными. Неважно, прогнозируете ли вы продажи на 2017 год по данным 2016-го или же 2027-й — по данным 2026 года.\n",
    "В наборе данных попадается аббревиатура ESRB (Entertainment Software Rating Board) — это ассоциация, определяющая возрастной рейтинг компьютерных игр. ESRB оценивает игровой контент и присваивает ему подходящую возрастную категорию, например, «Для взрослых», «Для детей младшего возраста» или «Для подростков»."
   ]
  },
  {
   "cell_type": "markdown",
   "metadata": {},
   "source": [
    "## Открытие датасета и просмотр общей инфорамации"
   ]
  },
  {
   "cell_type": "code",
   "execution_count": 1,
   "metadata": {},
   "outputs": [],
   "source": [
    "import pandas as pd\n",
    "import numpy as np\n",
    "import matplotlib.pyplot as plt\n",
    "import seaborn as sns\n",
    "from scipy import stats as st"
   ]
  },
  {
   "cell_type": "code",
   "execution_count": 2,
   "metadata": {},
   "outputs": [],
   "source": [
    "df = pd.read_csv('/datasets/games.csv')"
   ]
  },
  {
   "cell_type": "code",
   "execution_count": 3,
   "metadata": {},
   "outputs": [
    {
     "data": {
      "text/html": [
       "<div>\n",
       "<style scoped>\n",
       "    .dataframe tbody tr th:only-of-type {\n",
       "        vertical-align: middle;\n",
       "    }\n",
       "\n",
       "    .dataframe tbody tr th {\n",
       "        vertical-align: top;\n",
       "    }\n",
       "\n",
       "    .dataframe thead th {\n",
       "        text-align: right;\n",
       "    }\n",
       "</style>\n",
       "<table border=\"1\" class=\"dataframe\">\n",
       "  <thead>\n",
       "    <tr style=\"text-align: right;\">\n",
       "      <th></th>\n",
       "      <th>Name</th>\n",
       "      <th>Platform</th>\n",
       "      <th>Year_of_Release</th>\n",
       "      <th>Genre</th>\n",
       "      <th>NA_sales</th>\n",
       "      <th>EU_sales</th>\n",
       "      <th>JP_sales</th>\n",
       "      <th>Other_sales</th>\n",
       "      <th>Critic_Score</th>\n",
       "      <th>User_Score</th>\n",
       "      <th>Rating</th>\n",
       "    </tr>\n",
       "  </thead>\n",
       "  <tbody>\n",
       "    <tr>\n",
       "      <th>0</th>\n",
       "      <td>Wii Sports</td>\n",
       "      <td>Wii</td>\n",
       "      <td>2006.0</td>\n",
       "      <td>Sports</td>\n",
       "      <td>41.36</td>\n",
       "      <td>28.96</td>\n",
       "      <td>3.77</td>\n",
       "      <td>8.45</td>\n",
       "      <td>76.0</td>\n",
       "      <td>8</td>\n",
       "      <td>E</td>\n",
       "    </tr>\n",
       "    <tr>\n",
       "      <th>1</th>\n",
       "      <td>Super Mario Bros.</td>\n",
       "      <td>NES</td>\n",
       "      <td>1985.0</td>\n",
       "      <td>Platform</td>\n",
       "      <td>29.08</td>\n",
       "      <td>3.58</td>\n",
       "      <td>6.81</td>\n",
       "      <td>0.77</td>\n",
       "      <td>NaN</td>\n",
       "      <td>NaN</td>\n",
       "      <td>NaN</td>\n",
       "    </tr>\n",
       "    <tr>\n",
       "      <th>2</th>\n",
       "      <td>Mario Kart Wii</td>\n",
       "      <td>Wii</td>\n",
       "      <td>2008.0</td>\n",
       "      <td>Racing</td>\n",
       "      <td>15.68</td>\n",
       "      <td>12.76</td>\n",
       "      <td>3.79</td>\n",
       "      <td>3.29</td>\n",
       "      <td>82.0</td>\n",
       "      <td>8.3</td>\n",
       "      <td>E</td>\n",
       "    </tr>\n",
       "    <tr>\n",
       "      <th>3</th>\n",
       "      <td>Wii Sports Resort</td>\n",
       "      <td>Wii</td>\n",
       "      <td>2009.0</td>\n",
       "      <td>Sports</td>\n",
       "      <td>15.61</td>\n",
       "      <td>10.93</td>\n",
       "      <td>3.28</td>\n",
       "      <td>2.95</td>\n",
       "      <td>80.0</td>\n",
       "      <td>8</td>\n",
       "      <td>E</td>\n",
       "    </tr>\n",
       "    <tr>\n",
       "      <th>4</th>\n",
       "      <td>Pokemon Red/Pokemon Blue</td>\n",
       "      <td>GB</td>\n",
       "      <td>1996.0</td>\n",
       "      <td>Role-Playing</td>\n",
       "      <td>11.27</td>\n",
       "      <td>8.89</td>\n",
       "      <td>10.22</td>\n",
       "      <td>1.00</td>\n",
       "      <td>NaN</td>\n",
       "      <td>NaN</td>\n",
       "      <td>NaN</td>\n",
       "    </tr>\n",
       "    <tr>\n",
       "      <th>...</th>\n",
       "      <td>...</td>\n",
       "      <td>...</td>\n",
       "      <td>...</td>\n",
       "      <td>...</td>\n",
       "      <td>...</td>\n",
       "      <td>...</td>\n",
       "      <td>...</td>\n",
       "      <td>...</td>\n",
       "      <td>...</td>\n",
       "      <td>...</td>\n",
       "      <td>...</td>\n",
       "    </tr>\n",
       "    <tr>\n",
       "      <th>16710</th>\n",
       "      <td>Samurai Warriors: Sanada Maru</td>\n",
       "      <td>PS3</td>\n",
       "      <td>2016.0</td>\n",
       "      <td>Action</td>\n",
       "      <td>0.00</td>\n",
       "      <td>0.00</td>\n",
       "      <td>0.01</td>\n",
       "      <td>0.00</td>\n",
       "      <td>NaN</td>\n",
       "      <td>NaN</td>\n",
       "      <td>NaN</td>\n",
       "    </tr>\n",
       "    <tr>\n",
       "      <th>16711</th>\n",
       "      <td>LMA Manager 2007</td>\n",
       "      <td>X360</td>\n",
       "      <td>2006.0</td>\n",
       "      <td>Sports</td>\n",
       "      <td>0.00</td>\n",
       "      <td>0.01</td>\n",
       "      <td>0.00</td>\n",
       "      <td>0.00</td>\n",
       "      <td>NaN</td>\n",
       "      <td>NaN</td>\n",
       "      <td>NaN</td>\n",
       "    </tr>\n",
       "    <tr>\n",
       "      <th>16712</th>\n",
       "      <td>Haitaka no Psychedelica</td>\n",
       "      <td>PSV</td>\n",
       "      <td>2016.0</td>\n",
       "      <td>Adventure</td>\n",
       "      <td>0.00</td>\n",
       "      <td>0.00</td>\n",
       "      <td>0.01</td>\n",
       "      <td>0.00</td>\n",
       "      <td>NaN</td>\n",
       "      <td>NaN</td>\n",
       "      <td>NaN</td>\n",
       "    </tr>\n",
       "    <tr>\n",
       "      <th>16713</th>\n",
       "      <td>Spirits &amp; Spells</td>\n",
       "      <td>GBA</td>\n",
       "      <td>2003.0</td>\n",
       "      <td>Platform</td>\n",
       "      <td>0.01</td>\n",
       "      <td>0.00</td>\n",
       "      <td>0.00</td>\n",
       "      <td>0.00</td>\n",
       "      <td>NaN</td>\n",
       "      <td>NaN</td>\n",
       "      <td>NaN</td>\n",
       "    </tr>\n",
       "    <tr>\n",
       "      <th>16714</th>\n",
       "      <td>Winning Post 8 2016</td>\n",
       "      <td>PSV</td>\n",
       "      <td>2016.0</td>\n",
       "      <td>Simulation</td>\n",
       "      <td>0.00</td>\n",
       "      <td>0.00</td>\n",
       "      <td>0.01</td>\n",
       "      <td>0.00</td>\n",
       "      <td>NaN</td>\n",
       "      <td>NaN</td>\n",
       "      <td>NaN</td>\n",
       "    </tr>\n",
       "  </tbody>\n",
       "</table>\n",
       "<p>16715 rows × 11 columns</p>\n",
       "</div>"
      ],
      "text/plain": [
       "                                Name Platform  Year_of_Release         Genre  \\\n",
       "0                         Wii Sports      Wii           2006.0        Sports   \n",
       "1                  Super Mario Bros.      NES           1985.0      Platform   \n",
       "2                     Mario Kart Wii      Wii           2008.0        Racing   \n",
       "3                  Wii Sports Resort      Wii           2009.0        Sports   \n",
       "4           Pokemon Red/Pokemon Blue       GB           1996.0  Role-Playing   \n",
       "...                              ...      ...              ...           ...   \n",
       "16710  Samurai Warriors: Sanada Maru      PS3           2016.0        Action   \n",
       "16711               LMA Manager 2007     X360           2006.0        Sports   \n",
       "16712        Haitaka no Psychedelica      PSV           2016.0     Adventure   \n",
       "16713               Spirits & Spells      GBA           2003.0      Platform   \n",
       "16714            Winning Post 8 2016      PSV           2016.0    Simulation   \n",
       "\n",
       "       NA_sales  EU_sales  JP_sales  Other_sales  Critic_Score User_Score  \\\n",
       "0         41.36     28.96      3.77         8.45          76.0          8   \n",
       "1         29.08      3.58      6.81         0.77           NaN        NaN   \n",
       "2         15.68     12.76      3.79         3.29          82.0        8.3   \n",
       "3         15.61     10.93      3.28         2.95          80.0          8   \n",
       "4         11.27      8.89     10.22         1.00           NaN        NaN   \n",
       "...         ...       ...       ...          ...           ...        ...   \n",
       "16710      0.00      0.00      0.01         0.00           NaN        NaN   \n",
       "16711      0.00      0.01      0.00         0.00           NaN        NaN   \n",
       "16712      0.00      0.00      0.01         0.00           NaN        NaN   \n",
       "16713      0.01      0.00      0.00         0.00           NaN        NaN   \n",
       "16714      0.00      0.00      0.01         0.00           NaN        NaN   \n",
       "\n",
       "      Rating  \n",
       "0          E  \n",
       "1        NaN  \n",
       "2          E  \n",
       "3          E  \n",
       "4        NaN  \n",
       "...      ...  \n",
       "16710    NaN  \n",
       "16711    NaN  \n",
       "16712    NaN  \n",
       "16713    NaN  \n",
       "16714    NaN  \n",
       "\n",
       "[16715 rows x 11 columns]"
      ]
     },
     "execution_count": 3,
     "metadata": {},
     "output_type": "execute_result"
    }
   ],
   "source": [
    "df"
   ]
  },
  {
   "cell_type": "code",
   "execution_count": 4,
   "metadata": {
    "scrolled": true
   },
   "outputs": [
    {
     "name": "stdout",
     "output_type": "stream",
     "text": [
      "<class 'pandas.core.frame.DataFrame'>\n",
      "RangeIndex: 16715 entries, 0 to 16714\n",
      "Data columns (total 11 columns):\n",
      " #   Column           Non-Null Count  Dtype  \n",
      "---  ------           --------------  -----  \n",
      " 0   Name             16713 non-null  object \n",
      " 1   Platform         16715 non-null  object \n",
      " 2   Year_of_Release  16446 non-null  float64\n",
      " 3   Genre            16713 non-null  object \n",
      " 4   NA_sales         16715 non-null  float64\n",
      " 5   EU_sales         16715 non-null  float64\n",
      " 6   JP_sales         16715 non-null  float64\n",
      " 7   Other_sales      16715 non-null  float64\n",
      " 8   Critic_Score     8137 non-null   float64\n",
      " 9   User_Score       10014 non-null  object \n",
      " 10  Rating           9949 non-null   object \n",
      "dtypes: float64(6), object(5)\n",
      "memory usage: 1.4+ MB\n"
     ]
    }
   ],
   "source": [
    "df.info()"
   ]
  },
  {
   "cell_type": "code",
   "execution_count": 5,
   "metadata": {},
   "outputs": [],
   "source": [
    "def pass_value_barh(df):\n",
    "    try:\n",
    "        (\n",
    "            (df.isna().mean()*100)\n",
    "            .to_frame()\n",
    "            .rename(columns = {0:'space'})\n",
    "            .query('space > 0')\n",
    "            .sort_values(by = 'space', ascending = True)\n",
    "            .plot(kind = 'barh', figsize = (19,6), rot = -5, legend = False, fontsize = 16)\n",
    "            .set_title('Количество пропусков' + \"\\n\", fontsize = 22, color = 'SteelBlue')    \n",
    "        );    \n",
    "    except:\n",
    "        print('пропусков не осталось :) ')"
   ]
  },
  {
   "cell_type": "code",
   "execution_count": 6,
   "metadata": {
    "scrolled": false
   },
   "outputs": [
    {
     "data": {
      "image/png": "[encoded data removed]",
      "text/plain": [
       "<Figure size 1368x432 with 1 Axes>"
      ]
     },
     "metadata": {
      "needs_background": "light"
     },
     "output_type": "display_data"
    }
   ],
   "source": [
    "pass_value_barh(df)"
   ]
  },
  {
   "cell_type": "code",
   "execution_count": 7,
   "metadata": {
    "scrolled": true
   },
   "outputs": [
    {
     "data": {
      "text/html": [
       "<style  type=\"text/css\" >\n",
       "#T_278cc_row0_col0,#T_278cc_row1_col0,#T_278cc_row3_col0,#T_278cc_row4_col0,#T_278cc_row5_col0,#T_278cc_row6_col0,#T_278cc_row7_col0{\n",
       "            background-color:  #3b4cc0;\n",
       "            color:  #f1f1f1;\n",
       "        }#T_278cc_row2_col0{\n",
       "            background-color:  #4358cb;\n",
       "            color:  #f1f1f1;\n",
       "        }#T_278cc_row8_col0{\n",
       "            background-color:  #b40426;\n",
       "            color:  #f1f1f1;\n",
       "        }#T_278cc_row9_col0{\n",
       "            background-color:  #f08b6e;\n",
       "            color:  #000000;\n",
       "        }#T_278cc_row10_col0{\n",
       "            background-color:  #ef886b;\n",
       "            color:  #000000;\n",
       "        }</style><table id=\"T_278cc_\" ><thead>    <tr>        <th class=\"blank level0\" ></th>        <th class=\"col_heading level0 col0\" >0</th>    </tr></thead><tbody>\n",
       "                <tr>\n",
       "                        <th id=\"T_278cc_level0_row0\" class=\"row_heading level0 row0\" >Name</th>\n",
       "                        <td id=\"T_278cc_row0_col0\" class=\"data row0 col0\" >0.000000</td>\n",
       "            </tr>\n",
       "            <tr>\n",
       "                        <th id=\"T_278cc_level0_row1\" class=\"row_heading level0 row1\" >Platform</th>\n",
       "                        <td id=\"T_278cc_row1_col0\" class=\"data row1 col0\" >0.000000</td>\n",
       "            </tr>\n",
       "            <tr>\n",
       "                        <th id=\"T_278cc_level0_row2\" class=\"row_heading level0 row2\" >Year_of_Release</th>\n",
       "                        <td id=\"T_278cc_row2_col0\" class=\"data row2 col0\" >1.600000</td>\n",
       "            </tr>\n",
       "            <tr>\n",
       "                        <th id=\"T_278cc_level0_row3\" class=\"row_heading level0 row3\" >Genre</th>\n",
       "                        <td id=\"T_278cc_row3_col0\" class=\"data row3 col0\" >0.000000</td>\n",
       "            </tr>\n",
       "            <tr>\n",
       "                        <th id=\"T_278cc_level0_row4\" class=\"row_heading level0 row4\" >NA_sales</th>\n",
       "                        <td id=\"T_278cc_row4_col0\" class=\"data row4 col0\" >0.000000</td>\n",
       "            </tr>\n",
       "            <tr>\n",
       "                        <th id=\"T_278cc_level0_row5\" class=\"row_heading level0 row5\" >EU_sales</th>\n",
       "                        <td id=\"T_278cc_row5_col0\" class=\"data row5 col0\" >0.000000</td>\n",
       "            </tr>\n",
       "            <tr>\n",
       "                        <th id=\"T_278cc_level0_row6\" class=\"row_heading level0 row6\" >JP_sales</th>\n",
       "                        <td id=\"T_278cc_row6_col0\" class=\"data row6 col0\" >0.000000</td>\n",
       "            </tr>\n",
       "            <tr>\n",
       "                        <th id=\"T_278cc_level0_row7\" class=\"row_heading level0 row7\" >Other_sales</th>\n",
       "                        <td id=\"T_278cc_row7_col0\" class=\"data row7 col0\" >0.000000</td>\n",
       "            </tr>\n",
       "            <tr>\n",
       "                        <th id=\"T_278cc_level0_row8\" class=\"row_heading level0 row8\" >Critic_Score</th>\n",
       "                        <td id=\"T_278cc_row8_col0\" class=\"data row8 col0\" >51.300000</td>\n",
       "            </tr>\n",
       "            <tr>\n",
       "                        <th id=\"T_278cc_level0_row9\" class=\"row_heading level0 row9\" >User_Score</th>\n",
       "                        <td id=\"T_278cc_row9_col0\" class=\"data row9 col0\" >40.100000</td>\n",
       "            </tr>\n",
       "            <tr>\n",
       "                        <th id=\"T_278cc_level0_row10\" class=\"row_heading level0 row10\" >Rating</th>\n",
       "                        <td id=\"T_278cc_row10_col0\" class=\"data row10 col0\" >40.500000</td>\n",
       "            </tr>\n",
       "    </tbody></table>"
      ],
      "text/plain": [
       "<pandas.io.formats.style.Styler at 0x7efcf6285580>"
      ]
     },
     "execution_count": 7,
     "metadata": {},
     "output_type": "execute_result"
    }
   ],
   "source": [
    "pd.DataFrame(round(df.isna().mean()*100,1)).style.background_gradient('coolwarm')"
   ]
  },
  {
   "cell_type": "markdown",
   "metadata": {},
   "source": [
    "## Подготовка данных"
   ]
  },
  {
   "cell_type": "markdown",
   "metadata": {},
   "source": [
    "### Перевод названий столбцов к нижнему регистру"
   ]
  },
  {
   "cell_type": "code",
   "execution_count": 8,
   "metadata": {},
   "outputs": [],
   "source": [
    "df.columns = df.columns.str.lower()"
   ]
  },
  {
   "cell_type": "code",
   "execution_count": 9,
   "metadata": {
    "scrolled": true
   },
   "outputs": [
    {
     "data": {
      "text/html": [
       "<div>\n",
       "<style scoped>\n",
       "    .dataframe tbody tr th:only-of-type {\n",
       "        vertical-align: middle;\n",
       "    }\n",
       "\n",
       "    .dataframe tbody tr th {\n",
       "        vertical-align: top;\n",
       "    }\n",
       "\n",
       "    .dataframe thead th {\n",
       "        text-align: right;\n",
       "    }\n",
       "</style>\n",
       "<table border=\"1\" class=\"dataframe\">\n",
       "  <thead>\n",
       "    <tr style=\"text-align: right;\">\n",
       "      <th></th>\n",
       "      <th>name</th>\n",
       "      <th>platform</th>\n",
       "      <th>year_of_release</th>\n",
       "      <th>genre</th>\n",
       "      <th>na_sales</th>\n",
       "      <th>eu_sales</th>\n",
       "      <th>jp_sales</th>\n",
       "      <th>other_sales</th>\n",
       "      <th>critic_score</th>\n",
       "      <th>user_score</th>\n",
       "      <th>rating</th>\n",
       "    </tr>\n",
       "  </thead>\n",
       "  <tbody>\n",
       "    <tr>\n",
       "      <th>0</th>\n",
       "      <td>Wii Sports</td>\n",
       "      <td>Wii</td>\n",
       "      <td>2006.0</td>\n",
       "      <td>Sports</td>\n",
       "      <td>41.36</td>\n",
       "      <td>28.96</td>\n",
       "      <td>3.77</td>\n",
       "      <td>8.45</td>\n",
       "      <td>76.0</td>\n",
       "      <td>8</td>\n",
       "      <td>E</td>\n",
       "    </tr>\n",
       "    <tr>\n",
       "      <th>1</th>\n",
       "      <td>Super Mario Bros.</td>\n",
       "      <td>NES</td>\n",
       "      <td>1985.0</td>\n",
       "      <td>Platform</td>\n",
       "      <td>29.08</td>\n",
       "      <td>3.58</td>\n",
       "      <td>6.81</td>\n",
       "      <td>0.77</td>\n",
       "      <td>NaN</td>\n",
       "      <td>NaN</td>\n",
       "      <td>NaN</td>\n",
       "    </tr>\n",
       "    <tr>\n",
       "      <th>2</th>\n",
       "      <td>Mario Kart Wii</td>\n",
       "      <td>Wii</td>\n",
       "      <td>2008.0</td>\n",
       "      <td>Racing</td>\n",
       "      <td>15.68</td>\n",
       "      <td>12.76</td>\n",
       "      <td>3.79</td>\n",
       "      <td>3.29</td>\n",
       "      <td>82.0</td>\n",
       "      <td>8.3</td>\n",
       "      <td>E</td>\n",
       "    </tr>\n",
       "    <tr>\n",
       "      <th>3</th>\n",
       "      <td>Wii Sports Resort</td>\n",
       "      <td>Wii</td>\n",
       "      <td>2009.0</td>\n",
       "      <td>Sports</td>\n",
       "      <td>15.61</td>\n",
       "      <td>10.93</td>\n",
       "      <td>3.28</td>\n",
       "      <td>2.95</td>\n",
       "      <td>80.0</td>\n",
       "      <td>8</td>\n",
       "      <td>E</td>\n",
       "    </tr>\n",
       "    <tr>\n",
       "      <th>4</th>\n",
       "      <td>Pokemon Red/Pokemon Blue</td>\n",
       "      <td>GB</td>\n",
       "      <td>1996.0</td>\n",
       "      <td>Role-Playing</td>\n",
       "      <td>11.27</td>\n",
       "      <td>8.89</td>\n",
       "      <td>10.22</td>\n",
       "      <td>1.00</td>\n",
       "      <td>NaN</td>\n",
       "      <td>NaN</td>\n",
       "      <td>NaN</td>\n",
       "    </tr>\n",
       "    <tr>\n",
       "      <th>...</th>\n",
       "      <td>...</td>\n",
       "      <td>...</td>\n",
       "      <td>...</td>\n",
       "      <td>...</td>\n",
       "      <td>...</td>\n",
       "      <td>...</td>\n",
       "      <td>...</td>\n",
       "      <td>...</td>\n",
       "      <td>...</td>\n",
       "      <td>...</td>\n",
       "      <td>...</td>\n",
       "    </tr>\n",
       "    <tr>\n",
       "      <th>16710</th>\n",
       "      <td>Samurai Warriors: Sanada Maru</td>\n",
       "      <td>PS3</td>\n",
       "      <td>2016.0</td>\n",
       "      <td>Action</td>\n",
       "      <td>0.00</td>\n",
       "      <td>0.00</td>\n",
       "      <td>0.01</td>\n",
       "      <td>0.00</td>\n",
       "      <td>NaN</td>\n",
       "      <td>NaN</td>\n",
       "      <td>NaN</td>\n",
       "    </tr>\n",
       "    <tr>\n",
       "      <th>16711</th>\n",
       "      <td>LMA Manager 2007</td>\n",
       "      <td>X360</td>\n",
       "      <td>2006.0</td>\n",
       "      <td>Sports</td>\n",
       "      <td>0.00</td>\n",
       "      <td>0.01</td>\n",
       "      <td>0.00</td>\n",
       "      <td>0.00</td>\n",
       "      <td>NaN</td>\n",
       "      <td>NaN</td>\n",
       "      <td>NaN</td>\n",
       "    </tr>\n",
       "    <tr>\n",
       "      <th>16712</th>\n",
       "      <td>Haitaka no Psychedelica</td>\n",
       "      <td>PSV</td>\n",
       "      <td>2016.0</td>\n",
       "      <td>Adventure</td>\n",
       "      <td>0.00</td>\n",
       "      <td>0.00</td>\n",
       "      <td>0.01</td>\n",
       "      <td>0.00</td>\n",
       "      <td>NaN</td>\n",
       "      <td>NaN</td>\n",
       "      <td>NaN</td>\n",
       "    </tr>\n",
       "    <tr>\n",
       "      <th>16713</th>\n",
       "      <td>Spirits &amp; Spells</td>\n",
       "      <td>GBA</td>\n",
       "      <td>2003.0</td>\n",
       "      <td>Platform</td>\n",
       "      <td>0.01</td>\n",
       "      <td>0.00</td>\n",
       "      <td>0.00</td>\n",
       "      <td>0.00</td>\n",
       "      <td>NaN</td>\n",
       "      <td>NaN</td>\n",
       "      <td>NaN</td>\n",
       "    </tr>\n",
       "    <tr>\n",
       "      <th>16714</th>\n",
       "      <td>Winning Post 8 2016</td>\n",
       "      <td>PSV</td>\n",
       "      <td>2016.0</td>\n",
       "      <td>Simulation</td>\n",
       "      <td>0.00</td>\n",
       "      <td>0.00</td>\n",
       "      <td>0.01</td>\n",
       "      <td>0.00</td>\n",
       "      <td>NaN</td>\n",
       "      <td>NaN</td>\n",
       "      <td>NaN</td>\n",
       "    </tr>\n",
       "  </tbody>\n",
       "</table>\n",
       "<p>16715 rows × 11 columns</p>\n",
       "</div>"
      ],
      "text/plain": [
       "                                name platform  year_of_release         genre  \\\n",
       "0                         Wii Sports      Wii           2006.0        Sports   \n",
       "1                  Super Mario Bros.      NES           1985.0      Platform   \n",
       "2                     Mario Kart Wii      Wii           2008.0        Racing   \n",
       "3                  Wii Sports Resort      Wii           2009.0        Sports   \n",
       "4           Pokemon Red/Pokemon Blue       GB           1996.0  Role-Playing   \n",
       "...                              ...      ...              ...           ...   \n",
       "16710  Samurai Warriors: Sanada Maru      PS3           2016.0        Action   \n",
       "16711               LMA Manager 2007     X360           2006.0        Sports   \n",
       "16712        Haitaka no Psychedelica      PSV           2016.0     Adventure   \n",
       "16713               Spirits & Spells      GBA           2003.0      Platform   \n",
       "16714            Winning Post 8 2016      PSV           2016.0    Simulation   \n",
       "\n",
       "       na_sales  eu_sales  jp_sales  other_sales  critic_score user_score  \\\n",
       "0         41.36     28.96      3.77         8.45          76.0          8   \n",
       "1         29.08      3.58      6.81         0.77           NaN        NaN   \n",
       "2         15.68     12.76      3.79         3.29          82.0        8.3   \n",
       "3         15.61     10.93      3.28         2.95          80.0          8   \n",
       "4         11.27      8.89     10.22         1.00           NaN        NaN   \n",
       "...         ...       ...       ...          ...           ...        ...   \n",
       "16710      0.00      0.00      0.01         0.00           NaN        NaN   \n",
       "16711      0.00      0.01      0.00         0.00           NaN        NaN   \n",
       "16712      0.00      0.00      0.01         0.00           NaN        NaN   \n",
       "16713      0.01      0.00      0.00         0.00           NaN        NaN   \n",
       "16714      0.00      0.00      0.01         0.00           NaN        NaN   \n",
       "\n",
       "      rating  \n",
       "0          E  \n",
       "1        NaN  \n",
       "2          E  \n",
       "3          E  \n",
       "4        NaN  \n",
       "...      ...  \n",
       "16710    NaN  \n",
       "16711    NaN  \n",
       "16712    NaN  \n",
       "16713    NaN  \n",
       "16714    NaN  \n",
       "\n",
       "[16715 rows x 11 columns]"
      ]
     },
     "execution_count": 9,
     "metadata": {},
     "output_type": "execute_result"
    }
   ],
   "source": [
    "df"
   ]
  },
  {
   "cell_type": "markdown",
   "metadata": {},
   "source": [
    "### Работа с пропусками"
   ]
  },
  {
   "cell_type": "code",
   "execution_count": 10,
   "metadata": {
    "scrolled": true
   },
   "outputs": [
    {
     "data": {
      "text/plain": [
       "name               0.000120\n",
       "platform           0.000000\n",
       "year_of_release    0.016093\n",
       "genre              0.000120\n",
       "na_sales           0.000000\n",
       "eu_sales           0.000000\n",
       "jp_sales           0.000000\n",
       "other_sales        0.000000\n",
       "critic_score       0.513192\n",
       "user_score         0.400897\n",
       "rating             0.404786\n",
       "dtype: float64"
      ]
     },
     "execution_count": 10,
     "metadata": {},
     "output_type": "execute_result"
    }
   ],
   "source": [
    "df.isna().mean()"
   ]
  },
  {
   "cell_type": "code",
   "execution_count": 11,
   "metadata": {},
   "outputs": [],
   "source": [
    "#df.drop(df[df['year_of_release'].isna()].index, inplace = True)\n",
    "df.drop(df[df['name'].isna()].index, inplace = True)\n",
    "df.drop(df[df['genre'].isna()].index, inplace = True)"
   ]
  },
  {
   "cell_type": "code",
   "execution_count": 12,
   "metadata": {},
   "outputs": [
    {
     "data": {
      "text/html": [
       "<div>\n",
       "<style scoped>\n",
       "    .dataframe tbody tr th:only-of-type {\n",
       "        vertical-align: middle;\n",
       "    }\n",
       "\n",
       "    .dataframe tbody tr th {\n",
       "        vertical-align: top;\n",
       "    }\n",
       "\n",
       "    .dataframe thead th {\n",
       "        text-align: right;\n",
       "    }\n",
       "</style>\n",
       "<table border=\"1\" class=\"dataframe\">\n",
       "  <thead>\n",
       "    <tr style=\"text-align: right;\">\n",
       "      <th></th>\n",
       "      <th>name</th>\n",
       "      <th>platform</th>\n",
       "      <th>year_of_release</th>\n",
       "      <th>genre</th>\n",
       "      <th>na_sales</th>\n",
       "      <th>eu_sales</th>\n",
       "      <th>jp_sales</th>\n",
       "      <th>other_sales</th>\n",
       "      <th>critic_score</th>\n",
       "      <th>user_score</th>\n",
       "      <th>rating</th>\n",
       "    </tr>\n",
       "  </thead>\n",
       "  <tbody>\n",
       "    <tr>\n",
       "      <th>16293</th>\n",
       "      <td>AKB1/48: Idol to Guam de Koishitara...</td>\n",
       "      <td>X360</td>\n",
       "      <td>NaN</td>\n",
       "      <td>Misc</td>\n",
       "      <td>0.00</td>\n",
       "      <td>0.00</td>\n",
       "      <td>0.01</td>\n",
       "      <td>0.00</td>\n",
       "      <td>NaN</td>\n",
       "      <td>NaN</td>\n",
       "      <td>NaN</td>\n",
       "    </tr>\n",
       "    <tr>\n",
       "      <th>11092</th>\n",
       "      <td>Action Man-Operation Extreme</td>\n",
       "      <td>PS</td>\n",
       "      <td>NaN</td>\n",
       "      <td>Action</td>\n",
       "      <td>0.05</td>\n",
       "      <td>0.03</td>\n",
       "      <td>0.00</td>\n",
       "      <td>0.01</td>\n",
       "      <td>NaN</td>\n",
       "      <td>NaN</td>\n",
       "      <td>NaN</td>\n",
       "    </tr>\n",
       "    <tr>\n",
       "      <th>3289</th>\n",
       "      <td>Advance Wars: Days of Ruin</td>\n",
       "      <td>DS</td>\n",
       "      <td>NaN</td>\n",
       "      <td>Strategy</td>\n",
       "      <td>0.43</td>\n",
       "      <td>0.12</td>\n",
       "      <td>0.00</td>\n",
       "      <td>0.05</td>\n",
       "      <td>86.0</td>\n",
       "      <td>8.7</td>\n",
       "      <td>E10+</td>\n",
       "    </tr>\n",
       "    <tr>\n",
       "      <th>1506</th>\n",
       "      <td>Adventure</td>\n",
       "      <td>2600</td>\n",
       "      <td>NaN</td>\n",
       "      <td>Adventure</td>\n",
       "      <td>1.21</td>\n",
       "      <td>0.08</td>\n",
       "      <td>0.00</td>\n",
       "      <td>0.01</td>\n",
       "      <td>NaN</td>\n",
       "      <td>NaN</td>\n",
       "      <td>NaN</td>\n",
       "    </tr>\n",
       "    <tr>\n",
       "      <th>16348</th>\n",
       "      <td>Agarest Senki: Re-appearance</td>\n",
       "      <td>PS3</td>\n",
       "      <td>NaN</td>\n",
       "      <td>Role-Playing</td>\n",
       "      <td>0.00</td>\n",
       "      <td>0.00</td>\n",
       "      <td>0.01</td>\n",
       "      <td>0.00</td>\n",
       "      <td>NaN</td>\n",
       "      <td>NaN</td>\n",
       "      <td>NaN</td>\n",
       "    </tr>\n",
       "    <tr>\n",
       "      <th>...</th>\n",
       "      <td>...</td>\n",
       "      <td>...</td>\n",
       "      <td>...</td>\n",
       "      <td>...</td>\n",
       "      <td>...</td>\n",
       "      <td>...</td>\n",
       "      <td>...</td>\n",
       "      <td>...</td>\n",
       "      <td>...</td>\n",
       "      <td>...</td>\n",
       "      <td>...</td>\n",
       "    </tr>\n",
       "    <tr>\n",
       "      <th>7332</th>\n",
       "      <td>Yu Yu Hakusho: Dark Tournament</td>\n",
       "      <td>PS2</td>\n",
       "      <td>NaN</td>\n",
       "      <td>Fighting</td>\n",
       "      <td>0.10</td>\n",
       "      <td>0.08</td>\n",
       "      <td>0.00</td>\n",
       "      <td>0.03</td>\n",
       "      <td>56.0</td>\n",
       "      <td>8.5</td>\n",
       "      <td>T</td>\n",
       "    </tr>\n",
       "    <tr>\n",
       "      <th>15557</th>\n",
       "      <td>Yu-Gi-Oh! 5D's Wheelie Breakers (JP sales)</td>\n",
       "      <td>Wii</td>\n",
       "      <td>NaN</td>\n",
       "      <td>Racing</td>\n",
       "      <td>0.00</td>\n",
       "      <td>0.00</td>\n",
       "      <td>0.02</td>\n",
       "      <td>0.00</td>\n",
       "      <td>NaN</td>\n",
       "      <td>NaN</td>\n",
       "      <td>NaN</td>\n",
       "    </tr>\n",
       "    <tr>\n",
       "      <th>11433</th>\n",
       "      <td>Zero: Tsukihami no Kamen</td>\n",
       "      <td>Wii</td>\n",
       "      <td>NaN</td>\n",
       "      <td>Action</td>\n",
       "      <td>0.00</td>\n",
       "      <td>0.00</td>\n",
       "      <td>0.08</td>\n",
       "      <td>0.00</td>\n",
       "      <td>NaN</td>\n",
       "      <td>NaN</td>\n",
       "      <td>NaN</td>\n",
       "    </tr>\n",
       "    <tr>\n",
       "      <th>8884</th>\n",
       "      <td>eJay Clubworld</td>\n",
       "      <td>PS2</td>\n",
       "      <td>NaN</td>\n",
       "      <td>Misc</td>\n",
       "      <td>0.07</td>\n",
       "      <td>0.06</td>\n",
       "      <td>0.00</td>\n",
       "      <td>0.02</td>\n",
       "      <td>69.0</td>\n",
       "      <td>8.6</td>\n",
       "      <td>E</td>\n",
       "    </tr>\n",
       "    <tr>\n",
       "      <th>475</th>\n",
       "      <td>wwe Smackdown vs. Raw 2006</td>\n",
       "      <td>PS2</td>\n",
       "      <td>NaN</td>\n",
       "      <td>Fighting</td>\n",
       "      <td>1.57</td>\n",
       "      <td>1.02</td>\n",
       "      <td>0.00</td>\n",
       "      <td>0.41</td>\n",
       "      <td>NaN</td>\n",
       "      <td>NaN</td>\n",
       "      <td>NaN</td>\n",
       "    </tr>\n",
       "  </tbody>\n",
       "</table>\n",
       "<p>269 rows × 11 columns</p>\n",
       "</div>"
      ],
      "text/plain": [
       "                                             name platform  year_of_release  \\\n",
       "16293      AKB1/48: Idol to Guam de Koishitara...     X360              NaN   \n",
       "11092                Action Man-Operation Extreme       PS              NaN   \n",
       "3289                   Advance Wars: Days of Ruin       DS              NaN   \n",
       "1506                                    Adventure     2600              NaN   \n",
       "16348                Agarest Senki: Re-appearance      PS3              NaN   \n",
       "...                                           ...      ...              ...   \n",
       "7332               Yu Yu Hakusho: Dark Tournament      PS2              NaN   \n",
       "15557  Yu-Gi-Oh! 5D's Wheelie Breakers (JP sales)      Wii              NaN   \n",
       "11433                    Zero: Tsukihami no Kamen      Wii              NaN   \n",
       "8884                               eJay Clubworld      PS2              NaN   \n",
       "475                    wwe Smackdown vs. Raw 2006      PS2              NaN   \n",
       "\n",
       "              genre  na_sales  eu_sales  jp_sales  other_sales  critic_score  \\\n",
       "16293          Misc      0.00      0.00      0.01         0.00           NaN   \n",
       "11092        Action      0.05      0.03      0.00         0.01           NaN   \n",
       "3289       Strategy      0.43      0.12      0.00         0.05          86.0   \n",
       "1506      Adventure      1.21      0.08      0.00         0.01           NaN   \n",
       "16348  Role-Playing      0.00      0.00      0.01         0.00           NaN   \n",
       "...             ...       ...       ...       ...          ...           ...   \n",
       "7332       Fighting      0.10      0.08      0.00         0.03          56.0   \n",
       "15557        Racing      0.00      0.00      0.02         0.00           NaN   \n",
       "11433        Action      0.00      0.00      0.08         0.00           NaN   \n",
       "8884           Misc      0.07      0.06      0.00         0.02          69.0   \n",
       "475        Fighting      1.57      1.02      0.00         0.41           NaN   \n",
       "\n",
       "      user_score rating  \n",
       "16293        NaN    NaN  \n",
       "11092        NaN    NaN  \n",
       "3289         8.7   E10+  \n",
       "1506         NaN    NaN  \n",
       "16348        NaN    NaN  \n",
       "...          ...    ...  \n",
       "7332         8.5      T  \n",
       "15557        NaN    NaN  \n",
       "11433        NaN    NaN  \n",
       "8884         8.6      E  \n",
       "475          NaN    NaN  \n",
       "\n",
       "[269 rows x 11 columns]"
      ]
     },
     "execution_count": 12,
     "metadata": {},
     "output_type": "execute_result"
    }
   ],
   "source": [
    "df[df['year_of_release'].isna()].sort_values(by = 'name')\n"
   ]
  },
  {
   "cell_type": "code",
   "execution_count": 13,
   "metadata": {},
   "outputs": [
    {
     "data": {
      "text/plain": [
       "269"
      ]
     },
     "execution_count": 13,
     "metadata": {},
     "output_type": "execute_result"
    }
   ],
   "source": [
    "df['year_of_release'].isna().sum()"
   ]
  },
  {
   "cell_type": "code",
   "execution_count": 14,
   "metadata": {
    "scrolled": true
   },
   "outputs": [],
   "source": [
    "df['year_of_release'] = df.fillna({'year_of_release': df.groupby(['name'])['year_of_release'].transform('mean')})['year_of_release'].round()"
   ]
  },
  {
   "cell_type": "code",
   "execution_count": 15,
   "metadata": {},
   "outputs": [
    {
     "data": {
      "text/plain": [
       "146"
      ]
     },
     "execution_count": 15,
     "metadata": {},
     "output_type": "execute_result"
    }
   ],
   "source": [
    "df['year_of_release'].isna().sum()"
   ]
  },
  {
   "cell_type": "code",
   "execution_count": 16,
   "metadata": {
    "scrolled": false
   },
   "outputs": [
    {
     "data": {
      "text/plain": [
       "name               0.000000\n",
       "platform           0.000000\n",
       "year_of_release    0.008736\n",
       "genre              0.000000\n",
       "na_sales           0.000000\n",
       "eu_sales           0.000000\n",
       "jp_sales           0.000000\n",
       "other_sales        0.000000\n",
       "critic_score       0.513133\n",
       "user_score         0.400826\n",
       "rating             0.404715\n",
       "dtype: float64"
      ]
     },
     "execution_count": 16,
     "metadata": {},
     "output_type": "execute_result"
    }
   ],
   "source": [
    "df.isna().mean()"
   ]
  },
  {
   "cell_type": "code",
   "execution_count": 17,
   "metadata": {},
   "outputs": [],
   "source": [
    "df.drop(df[df['year_of_release'].isna()].index, inplace = True)"
   ]
  },
  {
   "cell_type": "markdown",
   "metadata": {},
   "source": [
    "### Изменение типа данных"
   ]
  },
  {
   "cell_type": "code",
   "execution_count": 18,
   "metadata": {
    "scrolled": true
   },
   "outputs": [],
   "source": [
    "df['year_of_release'] = df['year_of_release'].astype('int')\n",
    "df['critic_score'] = df['critic_score']/10"
   ]
  },
  {
   "cell_type": "code",
   "execution_count": 19,
   "metadata": {},
   "outputs": [
    {
     "name": "stdout",
     "output_type": "stream",
     "text": [
      "[1.3 1.7 1.9 2.  2.1 2.3 2.4 2.5 2.6 2.7 2.8 2.9 3.  3.1 3.2 3.3 3.4 3.5\n",
      " 3.6 3.7 3.8 3.9 4.  4.1 4.2 4.3 4.4 4.5 4.6 4.7 4.8 4.9 5.  5.1 5.2 5.3\n",
      " 5.4 5.5 5.6 5.7 5.8 5.9 6.  6.1 6.2 6.3 6.4 6.5 6.6 6.7 6.8 6.9 7.  7.1\n",
      " 7.2 7.3 7.4 7.5 7.6 7.7 7.8 7.9 8.  8.1 8.2 8.3 8.4 8.5 8.6 8.7 8.8 8.9\n",
      " 9.  9.1 9.2 9.3 9.4 9.5 9.6 9.7 9.8 nan]\n",
      "['0' '0.2' '0.3' '0.5' '0.6' '0.7' '0.9' '1' '1.1' '1.2' '1.3' '1.4' '1.5'\n",
      " '1.6' '1.7' '1.8' '1.9' '2' '2.1' '2.2' '2.3' '2.4' '2.5' '2.6' '2.7'\n",
      " '2.8' '2.9' '3' '3.1' '3.2' '3.3' '3.4' '3.5' '3.6' '3.7' '3.8' '3.9' '4'\n",
      " '4.1' '4.2' '4.3' '4.4' '4.5' '4.6' '4.7' '4.8' '4.9' '5' '5.1' '5.2'\n",
      " '5.3' '5.4' '5.5' '5.6' '5.7' '5.8' '5.9' '6' '6.1' '6.2' '6.3' '6.4'\n",
      " '6.5' '6.6' '6.7' '6.8' '6.9' '7' '7.1' '7.2' '7.3' '7.4' '7.5' '7.6'\n",
      " '7.7' '7.8' '7.9' '8' '8.1' '8.2' '8.3' '8.4' '8.5' '8.6' '8.7' '8.8'\n",
      " '8.9' '9' '9.1' '9.2' '9.3' '9.4' '9.5' '9.6' '9.7' 'tbd' nan]\n"
     ]
    }
   ],
   "source": [
    "print(df['critic_score'].sort_values().unique())\n",
    "print(df['user_score'].sort_values().unique())"
   ]
  },
  {
   "cell_type": "code",
   "execution_count": 20,
   "metadata": {},
   "outputs": [],
   "source": [
    "#Игры с одинаковыми названиями и разными платформами, в тех местах где есть пропуски \\\n",
    "#заполним средним значением для этой игры по всем платформам\n",
    "df['critic_score'] = df.fillna({'critic_score': df.groupby(['name'])['critic_score']\\\n",
    "                                   .transform('mean')})['critic_score'].round(1)"
   ]
  },
  {
   "cell_type": "code",
   "execution_count": 21,
   "metadata": {},
   "outputs": [],
   "source": [
    "df.loc[df['user_score'] == 'tbd','user_score'] = np.nan"
   ]
  },
  {
   "cell_type": "code",
   "execution_count": 22,
   "metadata": {},
   "outputs": [],
   "source": [
    "#Перевели значения user_score \n",
    "df.loc[df['user_score'] != 'tbd','user_score'] = df.loc[df['user_score'] != 'tbd','user_score'].astype('float')"
   ]
  },
  {
   "cell_type": "code",
   "execution_count": 23,
   "metadata": {},
   "outputs": [
    {
     "data": {
      "text/plain": [
       "name               0.000000\n",
       "platform           0.000000\n",
       "year_of_release    0.000000\n",
       "genre              0.000000\n",
       "na_sales           0.000000\n",
       "eu_sales           0.000000\n",
       "jp_sales           0.000000\n",
       "other_sales        0.000000\n",
       "critic_score       0.454639\n",
       "user_score         0.544878\n",
       "rating             0.404358\n",
       "dtype: float64"
      ]
     },
     "execution_count": 23,
     "metadata": {},
     "output_type": "execute_result"
    }
   ],
   "source": [
    "df.isna().mean()"
   ]
  },
  {
   "cell_type": "code",
   "execution_count": 24,
   "metadata": {
    "scrolled": true
   },
   "outputs": [
    {
     "name": "stdout",
     "output_type": "stream",
     "text": [
      "1\n"
     ]
    }
   ],
   "source": [
    "print(df[df['user_score'] == 0].user_score.count())\n",
    "df.drop(df[df['user_score'] == 0].index, inplace = True)\n",
    "#Удалили игру с рейтингом ноль."
   ]
  },
  {
   "cell_type": "code",
   "execution_count": 25,
   "metadata": {},
   "outputs": [],
   "source": [
    "df['user_score'] = df.fillna({'user_score': df.groupby(['name'])['user_score']\\\n",
    "                                   .transform('mean')})['user_score'].round(1)"
   ]
  },
  {
   "cell_type": "code",
   "execution_count": 26,
   "metadata": {
    "scrolled": true
   },
   "outputs": [
    {
     "data": {
      "text/plain": [
       "name               0.000000\n",
       "platform           0.000000\n",
       "year_of_release    0.000000\n",
       "genre              0.000000\n",
       "na_sales           0.000000\n",
       "eu_sales           0.000000\n",
       "jp_sales           0.000000\n",
       "other_sales        0.000000\n",
       "critic_score       0.454606\n",
       "user_score         0.478571\n",
       "rating             0.404382\n",
       "dtype: float64"
      ]
     },
     "execution_count": 26,
     "metadata": {},
     "output_type": "execute_result"
    }
   ],
   "source": [
    "df.isna().mean()"
   ]
  },
  {
   "cell_type": "markdown",
   "metadata": {},
   "source": [
    "### Посчитайте суммарные продажи во всех регионах и запишите их в отдельный столбец.\n"
   ]
  },
  {
   "cell_type": "code",
   "execution_count": 27,
   "metadata": {},
   "outputs": [],
   "source": [
    "df['sum_sales'] = df.loc[:,'na_sales':'other_sales'].sum(axis = 1)"
   ]
  },
  {
   "cell_type": "code",
   "execution_count": 28,
   "metadata": {},
   "outputs": [
    {
     "data": {
      "text/html": [
       "<div>\n",
       "<style scoped>\n",
       "    .dataframe tbody tr th:only-of-type {\n",
       "        vertical-align: middle;\n",
       "    }\n",
       "\n",
       "    .dataframe tbody tr th {\n",
       "        vertical-align: top;\n",
       "    }\n",
       "\n",
       "    .dataframe thead th {\n",
       "        text-align: right;\n",
       "    }\n",
       "</style>\n",
       "<table border=\"1\" class=\"dataframe\">\n",
       "  <thead>\n",
       "    <tr style=\"text-align: right;\">\n",
       "      <th></th>\n",
       "      <th>name</th>\n",
       "      <th>platform</th>\n",
       "      <th>year_of_release</th>\n",
       "      <th>genre</th>\n",
       "      <th>na_sales</th>\n",
       "      <th>eu_sales</th>\n",
       "      <th>jp_sales</th>\n",
       "      <th>other_sales</th>\n",
       "      <th>critic_score</th>\n",
       "      <th>user_score</th>\n",
       "      <th>rating</th>\n",
       "      <th>sum_sales</th>\n",
       "    </tr>\n",
       "  </thead>\n",
       "  <tbody>\n",
       "    <tr>\n",
       "      <th>0</th>\n",
       "      <td>Wii Sports</td>\n",
       "      <td>Wii</td>\n",
       "      <td>2006</td>\n",
       "      <td>Sports</td>\n",
       "      <td>41.36</td>\n",
       "      <td>28.96</td>\n",
       "      <td>3.77</td>\n",
       "      <td>8.45</td>\n",
       "      <td>7.6</td>\n",
       "      <td>8.0</td>\n",
       "      <td>E</td>\n",
       "      <td>82.54</td>\n",
       "    </tr>\n",
       "    <tr>\n",
       "      <th>1</th>\n",
       "      <td>Super Mario Bros.</td>\n",
       "      <td>NES</td>\n",
       "      <td>1985</td>\n",
       "      <td>Platform</td>\n",
       "      <td>29.08</td>\n",
       "      <td>3.58</td>\n",
       "      <td>6.81</td>\n",
       "      <td>0.77</td>\n",
       "      <td>NaN</td>\n",
       "      <td>NaN</td>\n",
       "      <td>NaN</td>\n",
       "      <td>40.24</td>\n",
       "    </tr>\n",
       "    <tr>\n",
       "      <th>2</th>\n",
       "      <td>Mario Kart Wii</td>\n",
       "      <td>Wii</td>\n",
       "      <td>2008</td>\n",
       "      <td>Racing</td>\n",
       "      <td>15.68</td>\n",
       "      <td>12.76</td>\n",
       "      <td>3.79</td>\n",
       "      <td>3.29</td>\n",
       "      <td>8.2</td>\n",
       "      <td>8.3</td>\n",
       "      <td>E</td>\n",
       "      <td>35.52</td>\n",
       "    </tr>\n",
       "    <tr>\n",
       "      <th>3</th>\n",
       "      <td>Wii Sports Resort</td>\n",
       "      <td>Wii</td>\n",
       "      <td>2009</td>\n",
       "      <td>Sports</td>\n",
       "      <td>15.61</td>\n",
       "      <td>10.93</td>\n",
       "      <td>3.28</td>\n",
       "      <td>2.95</td>\n",
       "      <td>8.0</td>\n",
       "      <td>8.0</td>\n",
       "      <td>E</td>\n",
       "      <td>32.77</td>\n",
       "    </tr>\n",
       "    <tr>\n",
       "      <th>4</th>\n",
       "      <td>Pokemon Red/Pokemon Blue</td>\n",
       "      <td>GB</td>\n",
       "      <td>1996</td>\n",
       "      <td>Role-Playing</td>\n",
       "      <td>11.27</td>\n",
       "      <td>8.89</td>\n",
       "      <td>10.22</td>\n",
       "      <td>1.00</td>\n",
       "      <td>NaN</td>\n",
       "      <td>NaN</td>\n",
       "      <td>NaN</td>\n",
       "      <td>31.38</td>\n",
       "    </tr>\n",
       "    <tr>\n",
       "      <th>...</th>\n",
       "      <td>...</td>\n",
       "      <td>...</td>\n",
       "      <td>...</td>\n",
       "      <td>...</td>\n",
       "      <td>...</td>\n",
       "      <td>...</td>\n",
       "      <td>...</td>\n",
       "      <td>...</td>\n",
       "      <td>...</td>\n",
       "      <td>...</td>\n",
       "      <td>...</td>\n",
       "      <td>...</td>\n",
       "    </tr>\n",
       "    <tr>\n",
       "      <th>16710</th>\n",
       "      <td>Samurai Warriors: Sanada Maru</td>\n",
       "      <td>PS3</td>\n",
       "      <td>2016</td>\n",
       "      <td>Action</td>\n",
       "      <td>0.00</td>\n",
       "      <td>0.00</td>\n",
       "      <td>0.01</td>\n",
       "      <td>0.00</td>\n",
       "      <td>NaN</td>\n",
       "      <td>NaN</td>\n",
       "      <td>NaN</td>\n",
       "      <td>0.01</td>\n",
       "    </tr>\n",
       "    <tr>\n",
       "      <th>16711</th>\n",
       "      <td>LMA Manager 2007</td>\n",
       "      <td>X360</td>\n",
       "      <td>2006</td>\n",
       "      <td>Sports</td>\n",
       "      <td>0.00</td>\n",
       "      <td>0.01</td>\n",
       "      <td>0.00</td>\n",
       "      <td>0.00</td>\n",
       "      <td>NaN</td>\n",
       "      <td>NaN</td>\n",
       "      <td>NaN</td>\n",
       "      <td>0.01</td>\n",
       "    </tr>\n",
       "    <tr>\n",
       "      <th>16712</th>\n",
       "      <td>Haitaka no Psychedelica</td>\n",
       "      <td>PSV</td>\n",
       "      <td>2016</td>\n",
       "      <td>Adventure</td>\n",
       "      <td>0.00</td>\n",
       "      <td>0.00</td>\n",
       "      <td>0.01</td>\n",
       "      <td>0.00</td>\n",
       "      <td>NaN</td>\n",
       "      <td>NaN</td>\n",
       "      <td>NaN</td>\n",
       "      <td>0.01</td>\n",
       "    </tr>\n",
       "    <tr>\n",
       "      <th>16713</th>\n",
       "      <td>Spirits &amp; Spells</td>\n",
       "      <td>GBA</td>\n",
       "      <td>2003</td>\n",
       "      <td>Platform</td>\n",
       "      <td>0.01</td>\n",
       "      <td>0.00</td>\n",
       "      <td>0.00</td>\n",
       "      <td>0.00</td>\n",
       "      <td>NaN</td>\n",
       "      <td>NaN</td>\n",
       "      <td>NaN</td>\n",
       "      <td>0.01</td>\n",
       "    </tr>\n",
       "    <tr>\n",
       "      <th>16714</th>\n",
       "      <td>Winning Post 8 2016</td>\n",
       "      <td>PSV</td>\n",
       "      <td>2016</td>\n",
       "      <td>Simulation</td>\n",
       "      <td>0.00</td>\n",
       "      <td>0.00</td>\n",
       "      <td>0.01</td>\n",
       "      <td>0.00</td>\n",
       "      <td>NaN</td>\n",
       "      <td>NaN</td>\n",
       "      <td>NaN</td>\n",
       "      <td>0.01</td>\n",
       "    </tr>\n",
       "  </tbody>\n",
       "</table>\n",
       "<p>16566 rows × 12 columns</p>\n",
       "</div>"
      ],
      "text/plain": [
       "                                name platform  year_of_release         genre  \\\n",
       "0                         Wii Sports      Wii             2006        Sports   \n",
       "1                  Super Mario Bros.      NES             1985      Platform   \n",
       "2                     Mario Kart Wii      Wii             2008        Racing   \n",
       "3                  Wii Sports Resort      Wii             2009        Sports   \n",
       "4           Pokemon Red/Pokemon Blue       GB             1996  Role-Playing   \n",
       "...                              ...      ...              ...           ...   \n",
       "16710  Samurai Warriors: Sanada Maru      PS3             2016        Action   \n",
       "16711               LMA Manager 2007     X360             2006        Sports   \n",
       "16712        Haitaka no Psychedelica      PSV             2016     Adventure   \n",
       "16713               Spirits & Spells      GBA             2003      Platform   \n",
       "16714            Winning Post 8 2016      PSV             2016    Simulation   \n",
       "\n",
       "       na_sales  eu_sales  jp_sales  other_sales  critic_score  user_score  \\\n",
       "0         41.36     28.96      3.77         8.45           7.6         8.0   \n",
       "1         29.08      3.58      6.81         0.77           NaN         NaN   \n",
       "2         15.68     12.76      3.79         3.29           8.2         8.3   \n",
       "3         15.61     10.93      3.28         2.95           8.0         8.0   \n",
       "4         11.27      8.89     10.22         1.00           NaN         NaN   \n",
       "...         ...       ...       ...          ...           ...         ...   \n",
       "16710      0.00      0.00      0.01         0.00           NaN         NaN   \n",
       "16711      0.00      0.01      0.00         0.00           NaN         NaN   \n",
       "16712      0.00      0.00      0.01         0.00           NaN         NaN   \n",
       "16713      0.01      0.00      0.00         0.00           NaN         NaN   \n",
       "16714      0.00      0.00      0.01         0.00           NaN         NaN   \n",
       "\n",
       "      rating  sum_sales  \n",
       "0          E      82.54  \n",
       "1        NaN      40.24  \n",
       "2          E      35.52  \n",
       "3          E      32.77  \n",
       "4        NaN      31.38  \n",
       "...      ...        ...  \n",
       "16710    NaN       0.01  \n",
       "16711    NaN       0.01  \n",
       "16712    NaN       0.01  \n",
       "16713    NaN       0.01  \n",
       "16714    NaN       0.01  \n",
       "\n",
       "[16566 rows x 12 columns]"
      ]
     },
     "execution_count": 28,
     "metadata": {},
     "output_type": "execute_result"
    }
   ],
   "source": [
    "df"
   ]
  },
  {
   "cell_type": "code",
   "execution_count": 29,
   "metadata": {},
   "outputs": [
    {
     "data": {
      "text/plain": [
       "0"
      ]
     },
     "execution_count": 29,
     "metadata": {},
     "output_type": "execute_result"
    }
   ],
   "source": [
    "df.duplicated().sum()"
   ]
  },
  {
   "cell_type": "markdown",
   "metadata": {},
   "source": [
    "## Исследовательский анализ данных"
   ]
  },
  {
   "cell_type": "markdown",
   "metadata": {},
   "source": [
    "### Посмотрите, сколько игр выпускалось в разные годы. Важны ли данные за все периоды?"
   ]
  },
  {
   "cell_type": "code",
   "execution_count": 30,
   "metadata": {},
   "outputs": [
    {
     "data": {
      "image/png": "[encoded data removed]",
      "text/plain": [
       "<Figure size 432x288 with 1 Axes>"
      ]
     },
     "metadata": {
      "needs_background": "light"
     },
     "output_type": "display_data"
    }
   ],
   "source": [
    "df.year_of_release.plot.hist( bins = df['year_of_release'].max()- df['year_of_release'].min()\\\n",
    "                             , title = 'Кол-во игр');"
   ]
  },
  {
   "cell_type": "code",
   "execution_count": 31,
   "metadata": {
    "scrolled": false
   },
   "outputs": [
    {
     "data": {
      "image/png": "[encoded data removed]",
      "text/plain": [
       "<Figure size 432x288 with 1 Axes>"
      ]
     },
     "metadata": {
      "needs_background": "light"
     },
     "output_type": "display_data"
    }
   ],
   "source": [
    "df.year_of_release.plot.hist( bins = df['year_of_release'].max()- df['year_of_release'].min()\\\n",
    "                             , title = 'Кол-во игр', ylim = (0, 500));"
   ]
  },
  {
   "cell_type": "code",
   "execution_count": 32,
   "metadata": {},
   "outputs": [
    {
     "name": "stdout",
     "output_type": "stream",
     "text": [
      "Кол-во вышедших игр с 1980 по 1995 год: 705\n",
      "Доля вышедших игр с 1980 по 1995 год: 0.04255704454907642\n",
      "Кол-во вышедших игр в 2004 году: 765\n"
     ]
    }
   ],
   "source": [
    "print('Кол-во вышедших игр с 1980 по 1995 год:',df[df['year_of_release'] < 1996]['name'].count())\n",
    "print('Доля вышедших игр с 1980 по 1995 год:',df[df['year_of_release'] < 1996]['name'].count()/df['name'].count())\n",
    "print('Кол-во вышедших игр в 2004 году:',df[df['year_of_release'] == 2004]['name'].count())"
   ]
  },
  {
   "cell_type": "markdown",
   "metadata": {},
   "source": [
    "### Посмотрите, как менялись продажи по платформам. Выберите платформы с наибольшими суммарными продажами и постройте распределение по годам. За какой характерный срок появляются новые и исчезают старые платформы?"
   ]
  },
  {
   "cell_type": "code",
   "execution_count": 33,
   "metadata": {
    "scrolled": false
   },
   "outputs": [
    {
     "data": {
      "text/html": [
       "<div>\n",
       "<style scoped>\n",
       "    .dataframe tbody tr th:only-of-type {\n",
       "        vertical-align: middle;\n",
       "    }\n",
       "\n",
       "    .dataframe tbody tr th {\n",
       "        vertical-align: top;\n",
       "    }\n",
       "\n",
       "    .dataframe thead th {\n",
       "        text-align: right;\n",
       "    }\n",
       "</style>\n",
       "<table border=\"1\" class=\"dataframe\">\n",
       "  <thead>\n",
       "    <tr style=\"text-align: right;\">\n",
       "      <th></th>\n",
       "      <th>sum_sales</th>\n",
       "    </tr>\n",
       "    <tr>\n",
       "      <th>platform</th>\n",
       "      <th></th>\n",
       "    </tr>\n",
       "  </thead>\n",
       "  <tbody>\n",
       "    <tr>\n",
       "      <th>PS2</th>\n",
       "      <td>1247.16</td>\n",
       "    </tr>\n",
       "    <tr>\n",
       "      <th>X360</th>\n",
       "      <td>966.61</td>\n",
       "    </tr>\n",
       "    <tr>\n",
       "      <th>PS3</th>\n",
       "      <td>935.19</td>\n",
       "    </tr>\n",
       "    <tr>\n",
       "      <th>Wii</th>\n",
       "      <td>903.31</td>\n",
       "    </tr>\n",
       "    <tr>\n",
       "      <th>DS</th>\n",
       "      <td>803.56</td>\n",
       "    </tr>\n",
       "    <tr>\n",
       "      <th>PS</th>\n",
       "      <td>727.58</td>\n",
       "    </tr>\n",
       "    <tr>\n",
       "      <th>PS4</th>\n",
       "      <td>314.14</td>\n",
       "    </tr>\n",
       "    <tr>\n",
       "      <th>GBA</th>\n",
       "      <td>313.73</td>\n",
       "    </tr>\n",
       "    <tr>\n",
       "      <th>PSP</th>\n",
       "      <td>293.57</td>\n",
       "    </tr>\n",
       "    <tr>\n",
       "      <th>PC</th>\n",
       "      <td>258.86</td>\n",
       "    </tr>\n",
       "    <tr>\n",
       "      <th>3DS</th>\n",
       "      <td>258.53</td>\n",
       "    </tr>\n",
       "    <tr>\n",
       "      <th>XB</th>\n",
       "      <td>256.69</td>\n",
       "    </tr>\n",
       "    <tr>\n",
       "      <th>GB</th>\n",
       "      <td>254.43</td>\n",
       "    </tr>\n",
       "    <tr>\n",
       "      <th>NES</th>\n",
       "      <td>251.05</td>\n",
       "    </tr>\n",
       "    <tr>\n",
       "      <th>N64</th>\n",
       "      <td>218.48</td>\n",
       "    </tr>\n",
       "    <tr>\n",
       "      <th>SNES</th>\n",
       "      <td>200.04</td>\n",
       "    </tr>\n",
       "    <tr>\n",
       "      <th>GC</th>\n",
       "      <td>198.66</td>\n",
       "    </tr>\n",
       "    <tr>\n",
       "      <th>XOne</th>\n",
       "      <td>159.32</td>\n",
       "    </tr>\n",
       "    <tr>\n",
       "      <th>2600</th>\n",
       "      <td>89.01</td>\n",
       "    </tr>\n",
       "    <tr>\n",
       "      <th>WiiU</th>\n",
       "      <td>82.19</td>\n",
       "    </tr>\n",
       "    <tr>\n",
       "      <th>PSV</th>\n",
       "      <td>53.81</td>\n",
       "    </tr>\n",
       "    <tr>\n",
       "      <th>SAT</th>\n",
       "      <td>33.59</td>\n",
       "    </tr>\n",
       "    <tr>\n",
       "      <th>GEN</th>\n",
       "      <td>28.35</td>\n",
       "    </tr>\n",
       "    <tr>\n",
       "      <th>DC</th>\n",
       "      <td>15.95</td>\n",
       "    </tr>\n",
       "    <tr>\n",
       "      <th>SCD</th>\n",
       "      <td>1.86</td>\n",
       "    </tr>\n",
       "    <tr>\n",
       "      <th>NG</th>\n",
       "      <td>1.44</td>\n",
       "    </tr>\n",
       "    <tr>\n",
       "      <th>WS</th>\n",
       "      <td>1.42</td>\n",
       "    </tr>\n",
       "    <tr>\n",
       "      <th>TG16</th>\n",
       "      <td>0.16</td>\n",
       "    </tr>\n",
       "    <tr>\n",
       "      <th>3DO</th>\n",
       "      <td>0.10</td>\n",
       "    </tr>\n",
       "    <tr>\n",
       "      <th>GG</th>\n",
       "      <td>0.04</td>\n",
       "    </tr>\n",
       "    <tr>\n",
       "      <th>PCFX</th>\n",
       "      <td>0.03</td>\n",
       "    </tr>\n",
       "  </tbody>\n",
       "</table>\n",
       "</div>"
      ],
      "text/plain": [
       "          sum_sales\n",
       "platform           \n",
       "PS2         1247.16\n",
       "X360         966.61\n",
       "PS3          935.19\n",
       "Wii          903.31\n",
       "DS           803.56\n",
       "PS           727.58\n",
       "PS4          314.14\n",
       "GBA          313.73\n",
       "PSP          293.57\n",
       "PC           258.86\n",
       "3DS          258.53\n",
       "XB           256.69\n",
       "GB           254.43\n",
       "NES          251.05\n",
       "N64          218.48\n",
       "SNES         200.04\n",
       "GC           198.66\n",
       "XOne         159.32\n",
       "2600          89.01\n",
       "WiiU          82.19\n",
       "PSV           53.81\n",
       "SAT           33.59\n",
       "GEN           28.35\n",
       "DC            15.95\n",
       "SCD            1.86\n",
       "NG             1.44\n",
       "WS             1.42\n",
       "TG16           0.16\n",
       "3DO            0.10\n",
       "GG             0.04\n",
       "PCFX           0.03"
      ]
     },
     "execution_count": 33,
     "metadata": {},
     "output_type": "execute_result"
    }
   ],
   "source": [
    "df.pivot_table(index = 'platform', values = 'sum_sales',aggfunc = 'sum').sort_values(by = 'sum_sales',ascending = False)"
   ]
  },
  {
   "cell_type": "code",
   "execution_count": 34,
   "metadata": {},
   "outputs": [
    {
     "data": {
      "image/png": "[encoded data removed]",
      "text/plain": [
       "<Figure size 432x288 with 1 Axes>"
      ]
     },
     "metadata": {
      "needs_background": "light"
     },
     "output_type": "display_data"
    }
   ],
   "source": [
    "df[df['platform'] == 'PS2'].pivot_table(index = 'year_of_release', values = 'sum_sales',aggfunc = (sum)).plot(title = 'PS2');"
   ]
  },
  {
   "cell_type": "code",
   "execution_count": 35,
   "metadata": {},
   "outputs": [
    {
     "data": {
      "image/png": "[encoded data removed]",
      "text/plain": [
       "<Figure size 432x288 with 1 Axes>"
      ]
     },
     "metadata": {
      "needs_background": "light"
     },
     "output_type": "display_data"
    }
   ],
   "source": [
    "df[df['platform'] == 'X360'].pivot_table(index = 'year_of_release', values = 'sum_sales',aggfunc = (sum)).plot(title = 'X360');"
   ]
  },
  {
   "cell_type": "code",
   "execution_count": 36,
   "metadata": {},
   "outputs": [
    {
     "data": {
      "image/png": "[encoded data removed]",
      "text/plain": [
       "<Figure size 432x288 with 1 Axes>"
      ]
     },
     "metadata": {
      "needs_background": "light"
     },
     "output_type": "display_data"
    }
   ],
   "source": [
    "df[df['platform'] == 'PS3'].pivot_table(index = 'year_of_release', values = 'sum_sales',aggfunc = (sum)).plot(title = 'PS3');"
   ]
  },
  {
   "cell_type": "code",
   "execution_count": 37,
   "metadata": {
    "scrolled": false
   },
   "outputs": [
    {
     "data": {
      "image/png": "[encoded data removed]",
      "text/plain": [
       "<Figure size 432x288 with 1 Axes>"
      ]
     },
     "metadata": {
      "needs_background": "light"
     },
     "output_type": "display_data"
    }
   ],
   "source": [
    "df[df['platform'] == 'Wii'].pivot_table(index = 'year_of_release', values = 'sum_sales',aggfunc = (sum)).plot(title = 'Wii');"
   ]
  },
  {
   "cell_type": "code",
   "execution_count": 38,
   "metadata": {
    "scrolled": false
   },
   "outputs": [
    {
     "data": {
      "image/png": "[encoded data removed]",
      "text/plain": [
       "<Figure size 432x288 with 1 Axes>"
      ]
     },
     "metadata": {
      "needs_background": "light"
     },
     "output_type": "display_data"
    }
   ],
   "source": [
    "df[df['platform'] == 'PS4'].pivot_table(index = 'year_of_release', values = 'sum_sales',aggfunc = (sum)).plot(title = 'PS4');"
   ]
  },
  {
   "cell_type": "markdown",
   "metadata": {},
   "source": [
    "### Возьмите данные за соответствующий актуальный период. Актуальный период определите самостоятельно в результате исследования предыдущих вопросов. Основной фактор — эти данные помогут построить прогноз на 2017 год."
   ]
  },
  {
   "cell_type": "code",
   "execution_count": 39,
   "metadata": {},
   "outputs": [],
   "source": [
    "df_actual = df[df['year_of_release'] >= 2012]"
   ]
  },
  {
   "cell_type": "code",
   "execution_count": 40,
   "metadata": {},
   "outputs": [
    {
     "data": {
      "text/html": [
       "<div>\n",
       "<style scoped>\n",
       "    .dataframe tbody tr th:only-of-type {\n",
       "        vertical-align: middle;\n",
       "    }\n",
       "\n",
       "    .dataframe tbody tr th {\n",
       "        vertical-align: top;\n",
       "    }\n",
       "\n",
       "    .dataframe thead th {\n",
       "        text-align: right;\n",
       "    }\n",
       "</style>\n",
       "<table border=\"1\" class=\"dataframe\">\n",
       "  <thead>\n",
       "    <tr style=\"text-align: right;\">\n",
       "      <th></th>\n",
       "      <th>name</th>\n",
       "      <th>platform</th>\n",
       "      <th>year_of_release</th>\n",
       "      <th>genre</th>\n",
       "      <th>na_sales</th>\n",
       "      <th>eu_sales</th>\n",
       "      <th>jp_sales</th>\n",
       "      <th>other_sales</th>\n",
       "      <th>critic_score</th>\n",
       "      <th>user_score</th>\n",
       "      <th>rating</th>\n",
       "      <th>sum_sales</th>\n",
       "    </tr>\n",
       "  </thead>\n",
       "  <tbody>\n",
       "    <tr>\n",
       "      <th>16</th>\n",
       "      <td>Grand Theft Auto V</td>\n",
       "      <td>PS3</td>\n",
       "      <td>2013</td>\n",
       "      <td>Action</td>\n",
       "      <td>7.02</td>\n",
       "      <td>9.09</td>\n",
       "      <td>0.98</td>\n",
       "      <td>3.96</td>\n",
       "      <td>9.7</td>\n",
       "      <td>8.2</td>\n",
       "      <td>M</td>\n",
       "      <td>21.05</td>\n",
       "    </tr>\n",
       "    <tr>\n",
       "      <th>23</th>\n",
       "      <td>Grand Theft Auto V</td>\n",
       "      <td>X360</td>\n",
       "      <td>2013</td>\n",
       "      <td>Action</td>\n",
       "      <td>9.66</td>\n",
       "      <td>5.14</td>\n",
       "      <td>0.06</td>\n",
       "      <td>1.41</td>\n",
       "      <td>9.7</td>\n",
       "      <td>8.1</td>\n",
       "      <td>M</td>\n",
       "      <td>16.27</td>\n",
       "    </tr>\n",
       "    <tr>\n",
       "      <th>31</th>\n",
       "      <td>Call of Duty: Black Ops 3</td>\n",
       "      <td>PS4</td>\n",
       "      <td>2015</td>\n",
       "      <td>Shooter</td>\n",
       "      <td>6.03</td>\n",
       "      <td>5.86</td>\n",
       "      <td>0.36</td>\n",
       "      <td>2.38</td>\n",
       "      <td>NaN</td>\n",
       "      <td>NaN</td>\n",
       "      <td>NaN</td>\n",
       "      <td>14.63</td>\n",
       "    </tr>\n",
       "    <tr>\n",
       "      <th>33</th>\n",
       "      <td>Pokemon X/Pokemon Y</td>\n",
       "      <td>3DS</td>\n",
       "      <td>2013</td>\n",
       "      <td>Role-Playing</td>\n",
       "      <td>5.28</td>\n",
       "      <td>4.19</td>\n",
       "      <td>4.35</td>\n",
       "      <td>0.78</td>\n",
       "      <td>NaN</td>\n",
       "      <td>NaN</td>\n",
       "      <td>NaN</td>\n",
       "      <td>14.60</td>\n",
       "    </tr>\n",
       "    <tr>\n",
       "      <th>34</th>\n",
       "      <td>Call of Duty: Black Ops II</td>\n",
       "      <td>PS3</td>\n",
       "      <td>2012</td>\n",
       "      <td>Shooter</td>\n",
       "      <td>4.99</td>\n",
       "      <td>5.73</td>\n",
       "      <td>0.65</td>\n",
       "      <td>2.42</td>\n",
       "      <td>8.3</td>\n",
       "      <td>5.3</td>\n",
       "      <td>M</td>\n",
       "      <td>13.79</td>\n",
       "    </tr>\n",
       "    <tr>\n",
       "      <th>...</th>\n",
       "      <td>...</td>\n",
       "      <td>...</td>\n",
       "      <td>...</td>\n",
       "      <td>...</td>\n",
       "      <td>...</td>\n",
       "      <td>...</td>\n",
       "      <td>...</td>\n",
       "      <td>...</td>\n",
       "      <td>...</td>\n",
       "      <td>...</td>\n",
       "      <td>...</td>\n",
       "      <td>...</td>\n",
       "    </tr>\n",
       "    <tr>\n",
       "      <th>16703</th>\n",
       "      <td>Strawberry Nauts</td>\n",
       "      <td>PSV</td>\n",
       "      <td>2016</td>\n",
       "      <td>Adventure</td>\n",
       "      <td>0.00</td>\n",
       "      <td>0.00</td>\n",
       "      <td>0.01</td>\n",
       "      <td>0.00</td>\n",
       "      <td>NaN</td>\n",
       "      <td>NaN</td>\n",
       "      <td>NaN</td>\n",
       "      <td>0.01</td>\n",
       "    </tr>\n",
       "    <tr>\n",
       "      <th>16707</th>\n",
       "      <td>Aiyoku no Eustia</td>\n",
       "      <td>PSV</td>\n",
       "      <td>2014</td>\n",
       "      <td>Misc</td>\n",
       "      <td>0.00</td>\n",
       "      <td>0.00</td>\n",
       "      <td>0.01</td>\n",
       "      <td>0.00</td>\n",
       "      <td>NaN</td>\n",
       "      <td>NaN</td>\n",
       "      <td>NaN</td>\n",
       "      <td>0.01</td>\n",
       "    </tr>\n",
       "    <tr>\n",
       "      <th>16710</th>\n",
       "      <td>Samurai Warriors: Sanada Maru</td>\n",
       "      <td>PS3</td>\n",
       "      <td>2016</td>\n",
       "      <td>Action</td>\n",
       "      <td>0.00</td>\n",
       "      <td>0.00</td>\n",
       "      <td>0.01</td>\n",
       "      <td>0.00</td>\n",
       "      <td>NaN</td>\n",
       "      <td>NaN</td>\n",
       "      <td>NaN</td>\n",
       "      <td>0.01</td>\n",
       "    </tr>\n",
       "    <tr>\n",
       "      <th>16712</th>\n",
       "      <td>Haitaka no Psychedelica</td>\n",
       "      <td>PSV</td>\n",
       "      <td>2016</td>\n",
       "      <td>Adventure</td>\n",
       "      <td>0.00</td>\n",
       "      <td>0.00</td>\n",
       "      <td>0.01</td>\n",
       "      <td>0.00</td>\n",
       "      <td>NaN</td>\n",
       "      <td>NaN</td>\n",
       "      <td>NaN</td>\n",
       "      <td>0.01</td>\n",
       "    </tr>\n",
       "    <tr>\n",
       "      <th>16714</th>\n",
       "      <td>Winning Post 8 2016</td>\n",
       "      <td>PSV</td>\n",
       "      <td>2016</td>\n",
       "      <td>Simulation</td>\n",
       "      <td>0.00</td>\n",
       "      <td>0.00</td>\n",
       "      <td>0.01</td>\n",
       "      <td>0.00</td>\n",
       "      <td>NaN</td>\n",
       "      <td>NaN</td>\n",
       "      <td>NaN</td>\n",
       "      <td>0.01</td>\n",
       "    </tr>\n",
       "  </tbody>\n",
       "</table>\n",
       "<p>2899 rows × 12 columns</p>\n",
       "</div>"
      ],
      "text/plain": [
       "                                name platform  year_of_release         genre  \\\n",
       "16                Grand Theft Auto V      PS3             2013        Action   \n",
       "23                Grand Theft Auto V     X360             2013        Action   \n",
       "31         Call of Duty: Black Ops 3      PS4             2015       Shooter   \n",
       "33               Pokemon X/Pokemon Y      3DS             2013  Role-Playing   \n",
       "34        Call of Duty: Black Ops II      PS3             2012       Shooter   \n",
       "...                              ...      ...              ...           ...   \n",
       "16703               Strawberry Nauts      PSV             2016     Adventure   \n",
       "16707               Aiyoku no Eustia      PSV             2014          Misc   \n",
       "16710  Samurai Warriors: Sanada Maru      PS3             2016        Action   \n",
       "16712        Haitaka no Psychedelica      PSV             2016     Adventure   \n",
       "16714            Winning Post 8 2016      PSV             2016    Simulation   \n",
       "\n",
       "       na_sales  eu_sales  jp_sales  other_sales  critic_score  user_score  \\\n",
       "16         7.02      9.09      0.98         3.96           9.7         8.2   \n",
       "23         9.66      5.14      0.06         1.41           9.7         8.1   \n",
       "31         6.03      5.86      0.36         2.38           NaN         NaN   \n",
       "33         5.28      4.19      4.35         0.78           NaN         NaN   \n",
       "34         4.99      5.73      0.65         2.42           8.3         5.3   \n",
       "...         ...       ...       ...          ...           ...         ...   \n",
       "16703      0.00      0.00      0.01         0.00           NaN         NaN   \n",
       "16707      0.00      0.00      0.01         0.00           NaN         NaN   \n",
       "16710      0.00      0.00      0.01         0.00           NaN         NaN   \n",
       "16712      0.00      0.00      0.01         0.00           NaN         NaN   \n",
       "16714      0.00      0.00      0.01         0.00           NaN         NaN   \n",
       "\n",
       "      rating  sum_sales  \n",
       "16         M      21.05  \n",
       "23         M      16.27  \n",
       "31       NaN      14.63  \n",
       "33       NaN      14.60  \n",
       "34         M      13.79  \n",
       "...      ...        ...  \n",
       "16703    NaN       0.01  \n",
       "16707    NaN       0.01  \n",
       "16710    NaN       0.01  \n",
       "16712    NaN       0.01  \n",
       "16714    NaN       0.01  \n",
       "\n",
       "[2899 rows x 12 columns]"
      ]
     },
     "execution_count": 40,
     "metadata": {},
     "output_type": "execute_result"
    }
   ],
   "source": [
    "df_actual"
   ]
  },
  {
   "cell_type": "markdown",
   "metadata": {},
   "source": [
    "### Какие платформы лидируют по продажам, растут или падают? Выберите несколько потенциально прибыльных платформ."
   ]
  },
  {
   "cell_type": "code",
   "execution_count": 41,
   "metadata": {
    "scrolled": false
   },
   "outputs": [
    {
     "data": {
      "text/html": [
       "<div>\n",
       "<style scoped>\n",
       "    .dataframe tbody tr th:only-of-type {\n",
       "        vertical-align: middle;\n",
       "    }\n",
       "\n",
       "    .dataframe tbody tr th {\n",
       "        vertical-align: top;\n",
       "    }\n",
       "\n",
       "    .dataframe thead th {\n",
       "        text-align: right;\n",
       "    }\n",
       "</style>\n",
       "<table border=\"1\" class=\"dataframe\">\n",
       "  <thead>\n",
       "    <tr style=\"text-align: right;\">\n",
       "      <th></th>\n",
       "      <th>sum_sales</th>\n",
       "    </tr>\n",
       "    <tr>\n",
       "      <th>platform</th>\n",
       "      <th></th>\n",
       "    </tr>\n",
       "  </thead>\n",
       "  <tbody>\n",
       "    <tr>\n",
       "      <th>PS4</th>\n",
       "      <td>314.14</td>\n",
       "    </tr>\n",
       "    <tr>\n",
       "      <th>PS3</th>\n",
       "      <td>289.71</td>\n",
       "    </tr>\n",
       "    <tr>\n",
       "      <th>X360</th>\n",
       "      <td>237.52</td>\n",
       "    </tr>\n",
       "    <tr>\n",
       "      <th>3DS</th>\n",
       "      <td>195.01</td>\n",
       "    </tr>\n",
       "    <tr>\n",
       "      <th>XOne</th>\n",
       "      <td>159.32</td>\n",
       "    </tr>\n",
       "    <tr>\n",
       "      <th>WiiU</th>\n",
       "      <td>82.19</td>\n",
       "    </tr>\n",
       "    <tr>\n",
       "      <th>PC</th>\n",
       "      <td>63.51</td>\n",
       "    </tr>\n",
       "    <tr>\n",
       "      <th>PSV</th>\n",
       "      <td>49.18</td>\n",
       "    </tr>\n",
       "    <tr>\n",
       "      <th>Wii</th>\n",
       "      <td>36.60</td>\n",
       "    </tr>\n",
       "    <tr>\n",
       "      <th>DS</th>\n",
       "      <td>13.21</td>\n",
       "    </tr>\n",
       "    <tr>\n",
       "      <th>PSP</th>\n",
       "      <td>11.69</td>\n",
       "    </tr>\n",
       "  </tbody>\n",
       "</table>\n",
       "</div>"
      ],
      "text/plain": [
       "          sum_sales\n",
       "platform           \n",
       "PS4          314.14\n",
       "PS3          289.71\n",
       "X360         237.52\n",
       "3DS          195.01\n",
       "XOne         159.32\n",
       "WiiU          82.19\n",
       "PC            63.51\n",
       "PSV           49.18\n",
       "Wii           36.60\n",
       "DS            13.21\n",
       "PSP           11.69"
      ]
     },
     "execution_count": 41,
     "metadata": {},
     "output_type": "execute_result"
    }
   ],
   "source": [
    "df_actual.pivot_table(index = 'platform', values = 'sum_sales',aggfunc = 'sum').sort_values(by = 'sum_sales',ascending = False)"
   ]
  },
  {
   "cell_type": "code",
   "execution_count": 42,
   "metadata": {},
   "outputs": [
    {
     "data": {
      "image/png": "[encoded data removed]",
      "text/plain": [
       "<Figure size 1080x216 with 1 Axes>"
      ]
     },
     "metadata": {
      "needs_background": "light"
     },
     "output_type": "display_data"
    }
   ],
   "source": [
    "df_actual.pivot_table(index = 'platform', values = 'sum_sales',aggfunc = 'sum')\\\n",
    ".sort_values(by = 'sum_sales',ascending = False).plot(kind = 'bar',figsize = (15,3));"
   ]
  },
  {
   "cell_type": "code",
   "execution_count": 43,
   "metadata": {},
   "outputs": [
    {
     "data": {
      "image/png": "[encoded data removed]",
      "text/plain": [
       "<Figure size 1080x216 with 1 Axes>"
      ]
     },
     "metadata": {
      "needs_background": "light"
     },
     "output_type": "display_data"
    }
   ],
   "source": [
    "df[df['platform'] == 'PS3'].pivot_table(index = 'year_of_release', values = 'sum_sales',aggfunc = (sum))\\\n",
    ".plot(kind = 'bar',title = 'PS3',figsize = (15,3));"
   ]
  },
  {
   "cell_type": "code",
   "execution_count": 44,
   "metadata": {},
   "outputs": [
    {
     "data": {
      "image/png": "[encoded data removed]",
      "text/plain": [
       "<Figure size 1080x216 with 1 Axes>"
      ]
     },
     "metadata": {
      "needs_background": "light"
     },
     "output_type": "display_data"
    }
   ],
   "source": [
    "df[df['platform'] == 'X360'].pivot_table(index = 'year_of_release', values = 'sum_sales',aggfunc = (sum))\\\n",
    ".plot(kind = 'bar',title = 'X360',figsize = (15,3));"
   ]
  },
  {
   "cell_type": "code",
   "execution_count": 45,
   "metadata": {},
   "outputs": [
    {
     "data": {
      "image/png": "[encoded data removed]",
      "text/plain": [
       "<Figure size 1080x216 with 1 Axes>"
      ]
     },
     "metadata": {
      "needs_background": "light"
     },
     "output_type": "display_data"
    }
   ],
   "source": [
    "df[df['platform'] == 'PS4'].pivot_table(index = 'year_of_release', values = 'sum_sales',aggfunc = (sum))\\\n",
    ".plot(kind = 'bar',title = 'PS4',figsize = (15,3));"
   ]
  },
  {
   "cell_type": "code",
   "execution_count": 46,
   "metadata": {},
   "outputs": [
    {
     "data": {
      "image/png": "[encoded data removed]",
      "text/plain": [
       "<Figure size 1080x216 with 1 Axes>"
      ]
     },
     "metadata": {
      "needs_background": "light"
     },
     "output_type": "display_data"
    }
   ],
   "source": [
    "df[df['platform'] == '3DS'].pivot_table(index = 'year_of_release', values = 'sum_sales',aggfunc = (sum))\\\n",
    ".plot(kind = 'bar',title = '3DS',figsize = (15,3));"
   ]
  },
  {
   "cell_type": "code",
   "execution_count": 47,
   "metadata": {},
   "outputs": [
    {
     "data": {
      "image/png": "[encoded data removed]",
      "text/plain": [
       "<Figure size 1080x216 with 1 Axes>"
      ]
     },
     "metadata": {
      "needs_background": "light"
     },
     "output_type": "display_data"
    }
   ],
   "source": [
    "df[df['platform'] == 'Wii'].pivot_table(index = 'year_of_release', values = 'sum_sales',aggfunc = (sum))\\\n",
    ".plot(kind = 'bar',title = 'Wii',figsize = (15,3));"
   ]
  },
  {
   "cell_type": "code",
   "execution_count": 48,
   "metadata": {
    "scrolled": false
   },
   "outputs": [
    {
     "data": {
      "image/png": "[encoded data removed]",
      "text/plain": [
       "<Figure size 1080x216 with 1 Axes>"
      ]
     },
     "metadata": {
      "needs_background": "light"
     },
     "output_type": "display_data"
    }
   ],
   "source": [
    "df[df['platform'] == 'XOne'].pivot_table(index = 'year_of_release', values = 'sum_sales',aggfunc = (sum))\\\n",
    ".plot(kind = 'bar',title = 'XOne',figsize = (15,3));"
   ]
  },
  {
   "cell_type": "code",
   "execution_count": 49,
   "metadata": {},
   "outputs": [
    {
     "data": {
      "image/png": "[encoded data removed]",
      "text/plain": [
       "<Figure size 1080x216 with 1 Axes>"
      ]
     },
     "metadata": {
      "needs_background": "light"
     },
     "output_type": "display_data"
    }
   ],
   "source": [
    "df[df['platform'] == 'PC'].pivot_table(index = 'year_of_release', values = 'sum_sales',aggfunc = (sum))\\\n",
    ".plot(kind='bar',title = 'PC',figsize = (15,3));"
   ]
  },
  {
   "cell_type": "markdown",
   "metadata": {},
   "source": [
    "### Постройте график «ящик с усами» по глобальным продажам игр в разбивке по платформам. Опишите результат."
   ]
  },
  {
   "cell_type": "code",
   "execution_count": 50,
   "metadata": {},
   "outputs": [
    {
     "data": {
      "text/html": [
       "<div>\n",
       "<style scoped>\n",
       "    .dataframe tbody tr th:only-of-type {\n",
       "        vertical-align: middle;\n",
       "    }\n",
       "\n",
       "    .dataframe tbody tr th {\n",
       "        vertical-align: top;\n",
       "    }\n",
       "\n",
       "    .dataframe thead th {\n",
       "        text-align: right;\n",
       "    }\n",
       "</style>\n",
       "<table border=\"1\" class=\"dataframe\">\n",
       "  <thead>\n",
       "    <tr style=\"text-align: right;\">\n",
       "      <th></th>\n",
       "      <th>sum_sales</th>\n",
       "    </tr>\n",
       "    <tr>\n",
       "      <th>platform</th>\n",
       "      <th></th>\n",
       "    </tr>\n",
       "  </thead>\n",
       "  <tbody>\n",
       "    <tr>\n",
       "      <th>PS4</th>\n",
       "      <td>314.14</td>\n",
       "    </tr>\n",
       "    <tr>\n",
       "      <th>PS3</th>\n",
       "      <td>289.71</td>\n",
       "    </tr>\n",
       "    <tr>\n",
       "      <th>X360</th>\n",
       "      <td>237.52</td>\n",
       "    </tr>\n",
       "    <tr>\n",
       "      <th>3DS</th>\n",
       "      <td>195.01</td>\n",
       "    </tr>\n",
       "    <tr>\n",
       "      <th>XOne</th>\n",
       "      <td>159.32</td>\n",
       "    </tr>\n",
       "    <tr>\n",
       "      <th>WiiU</th>\n",
       "      <td>82.19</td>\n",
       "    </tr>\n",
       "    <tr>\n",
       "      <th>PC</th>\n",
       "      <td>63.51</td>\n",
       "    </tr>\n",
       "    <tr>\n",
       "      <th>PSV</th>\n",
       "      <td>49.18</td>\n",
       "    </tr>\n",
       "    <tr>\n",
       "      <th>Wii</th>\n",
       "      <td>36.60</td>\n",
       "    </tr>\n",
       "    <tr>\n",
       "      <th>DS</th>\n",
       "      <td>13.21</td>\n",
       "    </tr>\n",
       "    <tr>\n",
       "      <th>PSP</th>\n",
       "      <td>11.69</td>\n",
       "    </tr>\n",
       "  </tbody>\n",
       "</table>\n",
       "</div>"
      ],
      "text/plain": [
       "          sum_sales\n",
       "platform           \n",
       "PS4          314.14\n",
       "PS3          289.71\n",
       "X360         237.52\n",
       "3DS          195.01\n",
       "XOne         159.32\n",
       "WiiU          82.19\n",
       "PC            63.51\n",
       "PSV           49.18\n",
       "Wii           36.60\n",
       "DS            13.21\n",
       "PSP           11.69"
      ]
     },
     "execution_count": 50,
     "metadata": {},
     "output_type": "execute_result"
    }
   ],
   "source": [
    "df_actual.pivot_table(index = 'platform', values = 'sum_sales',aggfunc = 'sum').sort_values(by = 'sum_sales',ascending = False)"
   ]
  },
  {
   "cell_type": "code",
   "execution_count": 51,
   "metadata": {
    "scrolled": false
   },
   "outputs": [
    {
     "data": {
      "text/plain": [
       "Text(0, 0.5, 'Глобальные продажи')"
      ]
     },
     "execution_count": 51,
     "metadata": {},
     "output_type": "execute_result"
    },
    {
     "data": {
      "image/png": "[encoded data removed]",
      "text/plain": [
       "<Figure size 1080x576 with 1 Axes>"
      ]
     },
     "metadata": {
      "needs_background": "light"
     },
     "output_type": "display_data"
    }
   ],
   "source": [
    "df_top = df_actual.query('platform in [\"PS4\",\"PS3\",\"X360\",\"3DS\",\"XOne\",\"WiiU\"]')\n",
    "plt.figure(figsize=(15,8))\n",
    "#plt.ylim(0,5)\n",
    "sns.boxplot(data=df_top, x='platform', y='sum_sales')\n",
    "plt.title('Ящик с усами')\n",
    "plt.xlabel('Платформа')\n",
    "plt.ylabel('Глобальные продажи',fontsize=12)\n"
   ]
  },
  {
   "cell_type": "code",
   "execution_count": 52,
   "metadata": {
    "scrolled": false
   },
   "outputs": [
    {
     "data": {
      "text/plain": [
       "(0.0, 1.0)"
      ]
     },
     "execution_count": 52,
     "metadata": {},
     "output_type": "execute_result"
    },
    {
     "data": {
      "image/png": "[encoded data removed]",
      "text/plain": [
       "<Figure size 1080x504 with 1 Axes>"
      ]
     },
     "metadata": {
      "needs_background": "light"
     },
     "output_type": "display_data"
    }
   ],
   "source": [
    "df_top = df_actual.query('platform in [\"PS4\",\"PS3\",\"X360\",\"3DS\",\"XOne\",\"WiiU\"]')\n",
    "plt.figure(figsize=(15,7))\n",
    "sns.boxplot(data=df_top, x='platform', y='sum_sales')\n",
    "plt.title('Ящик с усами')\n",
    "plt.xlabel('Платформа')\n",
    "plt.ylabel('Глобальные продажи',fontsize=12)\n",
    "plt.ylim(0,1)"
   ]
  },
  {
   "cell_type": "markdown",
   "metadata": {},
   "source": [
    "### Посмотрите, как влияют на продажи внутри одной популярной платформы отзывы пользователей и критиков. Постройте диаграмму рассеяния и посчитайте корреляцию между отзывами и продажами. Сформулируйте выводы."
   ]
  },
  {
   "cell_type": "code",
   "execution_count": 53,
   "metadata": {
    "scrolled": false
   },
   "outputs": [
    {
     "data": {
      "image/png": "[encoded data removed]",
      "text/plain": [
       "<Figure size 1080x504 with 1 Axes>"
      ]
     },
     "metadata": {
      "needs_background": "light"
     },
     "output_type": "display_data"
    }
   ],
   "source": [
    "df[df['platform'] == 'PS3'].plot(kind = 'scatter', x = 'user_score', y = 'sum_sales',figsize = (15,7), title = 'PS3');"
   ]
  },
  {
   "cell_type": "code",
   "execution_count": 54,
   "metadata": {
    "scrolled": true
   },
   "outputs": [
    {
     "data": {
      "text/html": [
       "<div>\n",
       "<style scoped>\n",
       "    .dataframe tbody tr th:only-of-type {\n",
       "        vertical-align: middle;\n",
       "    }\n",
       "\n",
       "    .dataframe tbody tr th {\n",
       "        vertical-align: top;\n",
       "    }\n",
       "\n",
       "    .dataframe thead th {\n",
       "        text-align: right;\n",
       "    }\n",
       "</style>\n",
       "<table border=\"1\" class=\"dataframe\">\n",
       "  <thead>\n",
       "    <tr style=\"text-align: right;\">\n",
       "      <th></th>\n",
       "      <th>user_score</th>\n",
       "      <th>sum_sales</th>\n",
       "    </tr>\n",
       "  </thead>\n",
       "  <tbody>\n",
       "    <tr>\n",
       "      <th>user_score</th>\n",
       "      <td>1.000000</td>\n",
       "      <td>0.129268</td>\n",
       "    </tr>\n",
       "    <tr>\n",
       "      <th>sum_sales</th>\n",
       "      <td>0.129268</td>\n",
       "      <td>1.000000</td>\n",
       "    </tr>\n",
       "  </tbody>\n",
       "</table>\n",
       "</div>"
      ],
      "text/plain": [
       "            user_score  sum_sales\n",
       "user_score    1.000000   0.129268\n",
       "sum_sales     0.129268   1.000000"
      ]
     },
     "execution_count": 54,
     "metadata": {},
     "output_type": "execute_result"
    }
   ],
   "source": [
    "df.loc[df['platform'] == 'PS3',['user_score','sum_sales']].corr()     "
   ]
  },
  {
   "cell_type": "code",
   "execution_count": 55,
   "metadata": {},
   "outputs": [
    {
     "data": {
      "image/png": "[encoded data removed]",
      "text/plain": [
       "<Figure size 1080x504 with 1 Axes>"
      ]
     },
     "metadata": {
      "needs_background": "light"
     },
     "output_type": "display_data"
    }
   ],
   "source": [
    "df[df['platform'] == 'PS3'].plot(kind = 'scatter', x = 'critic_score', y = 'sum_sales',figsize = (15,7),title = 'PS3');"
   ]
  },
  {
   "cell_type": "code",
   "execution_count": 56,
   "metadata": {
    "scrolled": true
   },
   "outputs": [
    {
     "data": {
      "text/html": [
       "<div>\n",
       "<style scoped>\n",
       "    .dataframe tbody tr th:only-of-type {\n",
       "        vertical-align: middle;\n",
       "    }\n",
       "\n",
       "    .dataframe tbody tr th {\n",
       "        vertical-align: top;\n",
       "    }\n",
       "\n",
       "    .dataframe thead th {\n",
       "        text-align: right;\n",
       "    }\n",
       "</style>\n",
       "<table border=\"1\" class=\"dataframe\">\n",
       "  <thead>\n",
       "    <tr style=\"text-align: right;\">\n",
       "      <th></th>\n",
       "      <th>critic_score</th>\n",
       "      <th>sum_sales</th>\n",
       "    </tr>\n",
       "  </thead>\n",
       "  <tbody>\n",
       "    <tr>\n",
       "      <th>critic_score</th>\n",
       "      <td>1.000000</td>\n",
       "      <td>0.406586</td>\n",
       "    </tr>\n",
       "    <tr>\n",
       "      <th>sum_sales</th>\n",
       "      <td>0.406586</td>\n",
       "      <td>1.000000</td>\n",
       "    </tr>\n",
       "  </tbody>\n",
       "</table>\n",
       "</div>"
      ],
      "text/plain": [
       "              critic_score  sum_sales\n",
       "critic_score      1.000000   0.406586\n",
       "sum_sales         0.406586   1.000000"
      ]
     },
     "execution_count": 56,
     "metadata": {},
     "output_type": "execute_result"
    }
   ],
   "source": [
    "df.loc[df['platform'] == 'PS3',['critic_score','sum_sales']].corr()\n"
   ]
  },
  {
   "cell_type": "code",
   "execution_count": 57,
   "metadata": {},
   "outputs": [
    {
     "data": {
      "image/png": "[encoded data removed]",
      "text/plain": [
       "<Figure size 1080x504 with 1 Axes>"
      ]
     },
     "metadata": {
      "needs_background": "light"
     },
     "output_type": "display_data"
    }
   ],
   "source": [
    "df[df['platform'] == 'X360'].plot(kind = 'scatter', x = 'user_score', y = 'sum_sales',figsize = (15,7), title = 'X360');"
   ]
  },
  {
   "cell_type": "code",
   "execution_count": 58,
   "metadata": {
    "scrolled": true
   },
   "outputs": [
    {
     "data": {
      "text/html": [
       "<div>\n",
       "<style scoped>\n",
       "    .dataframe tbody tr th:only-of-type {\n",
       "        vertical-align: middle;\n",
       "    }\n",
       "\n",
       "    .dataframe tbody tr th {\n",
       "        vertical-align: top;\n",
       "    }\n",
       "\n",
       "    .dataframe thead th {\n",
       "        text-align: right;\n",
       "    }\n",
       "</style>\n",
       "<table border=\"1\" class=\"dataframe\">\n",
       "  <thead>\n",
       "    <tr style=\"text-align: right;\">\n",
       "      <th></th>\n",
       "      <th>user_score</th>\n",
       "      <th>sum_sales</th>\n",
       "    </tr>\n",
       "  </thead>\n",
       "  <tbody>\n",
       "    <tr>\n",
       "      <th>user_score</th>\n",
       "      <td>1.000000</td>\n",
       "      <td>0.116392</td>\n",
       "    </tr>\n",
       "    <tr>\n",
       "      <th>sum_sales</th>\n",
       "      <td>0.116392</td>\n",
       "      <td>1.000000</td>\n",
       "    </tr>\n",
       "  </tbody>\n",
       "</table>\n",
       "</div>"
      ],
      "text/plain": [
       "            user_score  sum_sales\n",
       "user_score    1.000000   0.116392\n",
       "sum_sales     0.116392   1.000000"
      ]
     },
     "execution_count": 58,
     "metadata": {},
     "output_type": "execute_result"
    }
   ],
   "source": [
    "df.loc[df['platform'] == 'X360',['user_score','sum_sales']].corr()     "
   ]
  },
  {
   "cell_type": "code",
   "execution_count": 59,
   "metadata": {},
   "outputs": [
    {
     "data": {
      "image/png": "[encoded data removed]",
      "text/plain": [
       "<Figure size 1080x504 with 1 Axes>"
      ]
     },
     "metadata": {
      "needs_background": "light"
     },
     "output_type": "display_data"
    }
   ],
   "source": [
    "df[df['platform'] == 'X360'].plot(kind = 'scatter', x = 'critic_score', y = 'sum_sales',figsize = (15,7), title = 'X360');"
   ]
  },
  {
   "cell_type": "code",
   "execution_count": 60,
   "metadata": {
    "scrolled": true
   },
   "outputs": [
    {
     "data": {
      "text/html": [
       "<div>\n",
       "<style scoped>\n",
       "    .dataframe tbody tr th:only-of-type {\n",
       "        vertical-align: middle;\n",
       "    }\n",
       "\n",
       "    .dataframe tbody tr th {\n",
       "        vertical-align: top;\n",
       "    }\n",
       "\n",
       "    .dataframe thead th {\n",
       "        text-align: right;\n",
       "    }\n",
       "</style>\n",
       "<table border=\"1\" class=\"dataframe\">\n",
       "  <thead>\n",
       "    <tr style=\"text-align: right;\">\n",
       "      <th></th>\n",
       "      <th>critic_score</th>\n",
       "      <th>sum_sales</th>\n",
       "    </tr>\n",
       "  </thead>\n",
       "  <tbody>\n",
       "    <tr>\n",
       "      <th>critic_score</th>\n",
       "      <td>1.000000</td>\n",
       "      <td>0.378129</td>\n",
       "    </tr>\n",
       "    <tr>\n",
       "      <th>sum_sales</th>\n",
       "      <td>0.378129</td>\n",
       "      <td>1.000000</td>\n",
       "    </tr>\n",
       "  </tbody>\n",
       "</table>\n",
       "</div>"
      ],
      "text/plain": [
       "              critic_score  sum_sales\n",
       "critic_score      1.000000   0.378129\n",
       "sum_sales         0.378129   1.000000"
      ]
     },
     "execution_count": 60,
     "metadata": {},
     "output_type": "execute_result"
    }
   ],
   "source": [
    "df.loc[df['platform'] == 'X360',['critic_score','sum_sales']].corr()     "
   ]
  },
  {
   "cell_type": "code",
   "execution_count": 61,
   "metadata": {
    "scrolled": true
   },
   "outputs": [
    {
     "name": "stdout",
     "output_type": "stream",
     "text": [
      "PS4               critic_score  sum_sales\n",
      "critic_score      1.000000   0.391409\n",
      "sum_sales         0.391409   1.000000 \n",
      "\n",
      "PS4             user_score  sum_sales\n",
      "user_score    1.000000  -0.021589\n",
      "sum_sales    -0.021589   1.000000 \n",
      " ---------------------------------------\n",
      "3DS               critic_score  sum_sales\n",
      "critic_score      1.000000   0.321439\n",
      "sum_sales         0.321439   1.000000 \n",
      "\n",
      "3DS             user_score  sum_sales\n",
      "user_score    1.000000   0.231594\n",
      "sum_sales     0.231594   1.000000 \n",
      " ---------------------------------------\n",
      "XOne               critic_score  sum_sales\n",
      "critic_score      1.000000   0.373767\n",
      "sum_sales         0.373767   1.000000 \n",
      "\n",
      "XOne             user_score  sum_sales\n",
      "user_score     1.00000   -0.09416\n",
      "sum_sales     -0.09416    1.00000 \n",
      " ---------------------------------------\n",
      "WiiU               critic_score  sum_sales\n",
      "critic_score      1.000000   0.327304\n",
      "sum_sales         0.327304   1.000000 \n",
      "\n",
      "WiiU             user_score  sum_sales\n",
      "user_score    1.000000   0.367253\n",
      "sum_sales     0.367253   1.000000 \n",
      " ---------------------------------------\n"
     ]
    },
    {
     "data": {
      "image/png": "[encoded data removed]",
      "text/plain": [
       "<Figure size 1080x216 with 1 Axes>"
      ]
     },
     "metadata": {
      "needs_background": "light"
     },
     "output_type": "display_data"
    },
    {
     "data": {
      "image/png": "[encoded data removed]",
      "text/plain": [
       "<Figure size 1080x216 with 1 Axes>"
      ]
     },
     "metadata": {
      "needs_background": "light"
     },
     "output_type": "display_data"
    },
    {
     "data": {
      "image/png": "[encoded data removed]",
      "text/plain": [
       "<Figure size 1080x216 with 1 Axes>"
      ]
     },
     "metadata": {
      "needs_background": "light"
     },
     "output_type": "display_data"
    },
    {
     "data": {
      "image/png": "[encoded data removed]",
      "text/plain": [
       "<Figure size 1080x216 with 1 Axes>"
      ]
     },
     "metadata": {
      "needs_background": "light"
     },
     "output_type": "display_data"
    },
    {
     "data": {
      "image/png": "[encoded data removed]",
      "text/plain": [
       "<Figure size 1080x216 with 1 Axes>"
      ]
     },
     "metadata": {
      "needs_background": "light"
     },
     "output_type": "display_data"
    },
    {
     "data": {
      "image/png": "[encoded data removed]",
      "text/plain": [
       "<Figure size 1080x216 with 1 Axes>"
      ]
     },
     "metadata": {
      "needs_background": "light"
     },
     "output_type": "display_data"
    },
    {
     "data": {
      "image/png": "[encoded data removed]",
      "text/plain": [
       "<Figure size 1080x216 with 1 Axes>"
      ]
     },
     "metadata": {
      "needs_background": "light"
     },
     "output_type": "display_data"
    },
    {
     "data": {
      "image/png": "[encoded data removed]",
      "text/plain": [
       "<Figure size 1080x216 with 1 Axes>"
      ]
     },
     "metadata": {
      "needs_background": "light"
     },
     "output_type": "display_data"
    }
   ],
   "source": [
    "list_pop_platform = ['PS4','3DS','XOne','WiiU']\n",
    "\n",
    "for i in list_pop_platform:\n",
    "    df[df['platform'] == i].plot(kind = 'scatter', x = 'critic_score', y = 'sum_sales',figsize = (15,3), title = i);\n",
    "    df[df['platform'] == i].plot(kind = 'scatter', x = 'user_score', y = 'sum_sales',figsize = (15,3), title = i);\n",
    "    print(i,df.loc[df['platform'] == i,['critic_score','sum_sales']].corr(),'\\n')\n",
    "    print(i,df.loc[df['platform'] == i,['user_score','sum_sales']].corr(),'\\n','---------------------------------------')   "
   ]
  },
  {
   "cell_type": "markdown",
   "metadata": {},
   "source": [
    "### Посмотрите на общее распределение игр по жанрам. Что можно сказать о самых прибыльных жанрах? Выделяются ли жанры с высокими и низкими продажами?"
   ]
  },
  {
   "cell_type": "code",
   "execution_count": 84,
   "metadata": {
    "scrolled": false
   },
   "outputs": [
    {
     "data": {
      "image/png": "[encoded data removed]",
      "text/plain": [
       "<Figure size 1080x360 with 1 Axes>"
      ]
     },
     "metadata": {
      "needs_background": "light"
     },
     "output_type": "display_data"
    }
   ],
   "source": [
    "df_actual.pivot_table(index = 'genre', values = 'sum_sales', aggfunc = 'sum').sort_values(by = 'sum_sales',ascending = False)\\\n",
    ".plot(kind='bar',figsize = (15,5));"
   ]
  },
  {
   "cell_type": "code",
   "execution_count": 85,
   "metadata": {
    "scrolled": false
   },
   "outputs": [
    {
     "data": {
      "image/png": "[encoded data removed]",
      "text/plain": [
       "<Figure size 1080x360 with 1 Axes>"
      ]
     },
     "metadata": {
      "needs_background": "light"
     },
     "output_type": "display_data"
    }
   ],
   "source": [
    "df_actual.pivot_table(index = 'genre', values = 'sum_sales', aggfunc = 'median').sort_values(by = 'sum_sales',ascending = False)\\\n",
    ".plot(kind='bar',figsize = (15,5),title = 'median');"
   ]
  },
  {
   "cell_type": "code",
   "execution_count": 99,
   "metadata": {
    "scrolled": false
   },
   "outputs": [
    {
     "data": {
      "text/plain": [
       "Text(0, 0.5, 'Глобальные продажи')"
      ]
     },
     "execution_count": 99,
     "metadata": {},
     "output_type": "execute_result"
    },
    {
     "data": {
      "image/png": "[encoded data removed]",
      "text/plain": [
       "<Figure size 1080x504 with 1 Axes>"
      ]
     },
     "metadata": {
      "needs_background": "light"
     },
     "output_type": "display_data"
    }
   ],
   "source": [
    "plt.figure(figsize=(15,7))\n",
    "sns.boxplot(data=df_actual, x='genre', y='sum_sales')\n",
    "plt.title('Ящик с усами')\n",
    "plt.xlabel('Платформа')\n",
    "plt.ylabel('Глобальные продажи',fontsize=12)"
   ]
  },
  {
   "cell_type": "code",
   "execution_count": 102,
   "metadata": {
    "scrolled": false
   },
   "outputs": [
    {
     "data": {
      "text/plain": [
       "(0.0, 2.0)"
      ]
     },
     "execution_count": 102,
     "metadata": {},
     "output_type": "execute_result"
    },
    {
     "data": {
      "image/png": "[encoded data removed]",
      "text/plain": [
       "<Figure size 1080x504 with 1 Axes>"
      ]
     },
     "metadata": {
      "needs_background": "light"
     },
     "output_type": "display_data"
    }
   ],
   "source": [
    "plt.figure(figsize=(15,7))\n",
    "sns.boxplot(data=df_actual, x='genre', y='sum_sales')\n",
    "plt.title('Ящик с усами')\n",
    "plt.xlabel('Платформа')\n",
    "plt.ylabel('Глобальные продажи',fontsize=12)\n",
    "plt.ylim(0,2)"
   ]
  },
  {
   "cell_type": "markdown",
   "metadata": {},
   "source": [
    "##  Составьте портрет пользователя каждого региона"
   ]
  },
  {
   "cell_type": "markdown",
   "metadata": {},
   "source": [
    "### Самые популярные платформы (топ-5). Опишите различия в долях продаж."
   ]
  },
  {
   "cell_type": "code",
   "execution_count": 64,
   "metadata": {},
   "outputs": [
    {
     "data": {
      "image/png": "[encoded data removed]",
      "text/plain": [
       "<Figure size 1080x360 with 1 Axes>"
      ]
     },
     "metadata": {
      "needs_background": "light"
     },
     "output_type": "display_data"
    }
   ],
   "source": [
    "df.pivot_table(index = 'platform', values = 'na_sales',aggfunc = 'sum')\\\n",
    ".sort_values(by = 'na_sales',ascending = False).head().plot(kind = 'bar',figsize = (15,5), title = 'North America');"
   ]
  },
  {
   "cell_type": "code",
   "execution_count": 65,
   "metadata": {},
   "outputs": [
    {
     "data": {
      "image/png": "[encoded data removed]",
      "text/plain": [
       "<Figure size 1080x360 with 1 Axes>"
      ]
     },
     "metadata": {
      "needs_background": "light"
     },
     "output_type": "display_data"
    }
   ],
   "source": [
    "df.pivot_table(index = 'platform', values = 'eu_sales',aggfunc = 'sum')\\\n",
    ".sort_values(by = 'eu_sales',ascending = False).head().plot(kind = 'bar',figsize = (15,5), title = 'Europe');"
   ]
  },
  {
   "cell_type": "code",
   "execution_count": 66,
   "metadata": {
    "scrolled": false
   },
   "outputs": [
    {
     "data": {
      "image/png": "[encoded data removed]",
      "text/plain": [
       "<Figure size 1080x360 with 1 Axes>"
      ]
     },
     "metadata": {
      "needs_background": "light"
     },
     "output_type": "display_data"
    }
   ],
   "source": [
    "df.pivot_table(index = 'platform', values = 'jp_sales',aggfunc = 'sum')\\\n",
    ".sort_values(by = 'jp_sales',ascending = False).head().plot(kind = 'bar',figsize = (15,5), title = 'Japan');"
   ]
  },
  {
   "cell_type": "markdown",
   "metadata": {},
   "source": [
    "### Самые популярные жанры (топ-5). Поясните разницу."
   ]
  },
  {
   "cell_type": "code",
   "execution_count": 67,
   "metadata": {},
   "outputs": [
    {
     "data": {
      "image/png": "[encoded data removed]",
      "text/plain": [
       "<Figure size 1080x360 with 1 Axes>"
      ]
     },
     "metadata": {
      "needs_background": "light"
     },
     "output_type": "display_data"
    }
   ],
   "source": [
    "df_actual.pivot_table(index = 'genre', values = 'na_sales',aggfunc = 'sum')\\\n",
    ".sort_values(by = 'na_sales',ascending = False).head().plot(kind = 'bar',figsize = (15,5), title = 'North America');"
   ]
  },
  {
   "cell_type": "code",
   "execution_count": 68,
   "metadata": {},
   "outputs": [
    {
     "data": {
      "image/png": "[encoded data removed]",
      "text/plain": [
       "<Figure size 1080x360 with 1 Axes>"
      ]
     },
     "metadata": {
      "needs_background": "light"
     },
     "output_type": "display_data"
    }
   ],
   "source": [
    "df_actual.pivot_table(index = 'genre', values = 'eu_sales',aggfunc = 'sum')\\\n",
    ".sort_values(by = 'eu_sales',ascending = False).head().plot(kind = 'bar',figsize = (15,5), title = 'Europe');"
   ]
  },
  {
   "cell_type": "code",
   "execution_count": 69,
   "metadata": {},
   "outputs": [
    {
     "data": {
      "image/png": "[encoded data removed]",
      "text/plain": [
       "<Figure size 1080x360 with 1 Axes>"
      ]
     },
     "metadata": {
      "needs_background": "light"
     },
     "output_type": "display_data"
    }
   ],
   "source": [
    "df_actual.pivot_table(index = 'genre', values = 'jp_sales',aggfunc = 'sum')\\\n",
    ".sort_values(by = 'jp_sales',ascending = False).head().plot(kind = 'bar',figsize = (15,5), title = 'Japan');"
   ]
  },
  {
   "cell_type": "markdown",
   "metadata": {},
   "source": [
    "### Влияет ли рейтинг ESRB на продажи в отдельном регионе?"
   ]
  },
  {
   "cell_type": "code",
   "execution_count": 82,
   "metadata": {},
   "outputs": [
    {
     "name": "stderr",
     "output_type": "stream",
     "text": [
      "/tmp/ipykernel_152/3664490442.py:1: SettingWithCopyWarning: \n",
      "A value is trying to be set on a copy of a slice from a DataFrame.\n",
      "Try using .loc[row_indexer,col_indexer] = value instead\n",
      "\n",
      "See the caveats in the documentation: https://pandas.pydata.org/pandas-docs/stable/user_guide/indexing.html#returning-a-view-versus-a-copy\n",
      "  df_actual['rating'] = df_actual['rating'].fillna('Non-rating');\n"
     ]
    }
   ],
   "source": [
    "df_actual['rating'] = df_actual['rating'].fillna('Non-rating')"
   ]
  },
  {
   "cell_type": "code",
   "execution_count": 71,
   "metadata": {},
   "outputs": [
    {
     "data": {
      "image/png": "[encoded data removed]",
      "text/plain": [
       "<Figure size 1080x360 with 1 Axes>"
      ]
     },
     "metadata": {
      "needs_background": "light"
     },
     "output_type": "display_data"
    }
   ],
   "source": [
    "df_actual.pivot_table(index = 'rating', values = 'na_sales',aggfunc = 'sum')\\\n",
    ".sort_values(by = 'na_sales',ascending = False).head().plot(kind = 'bar',figsize = (15,5), title = 'North America');"
   ]
  },
  {
   "cell_type": "code",
   "execution_count": 72,
   "metadata": {
    "scrolled": false
   },
   "outputs": [
    {
     "data": {
      "image/png": "[encoded data removed]",
      "text/plain": [
       "<Figure size 1080x360 with 1 Axes>"
      ]
     },
     "metadata": {
      "needs_background": "light"
     },
     "output_type": "display_data"
    }
   ],
   "source": [
    "df_actual.pivot_table(index = 'rating', values = 'eu_sales',aggfunc = 'sum')\\\n",
    ".sort_values(by = 'eu_sales',ascending = False).head().plot(kind = 'bar',figsize = (15,5), title = 'Europe');"
   ]
  },
  {
   "cell_type": "code",
   "execution_count": 73,
   "metadata": {
    "scrolled": false
   },
   "outputs": [
    {
     "data": {
      "image/png": "[encoded data removed]",
      "text/plain": [
       "<Figure size 1080x360 with 1 Axes>"
      ]
     },
     "metadata": {
      "needs_background": "light"
     },
     "output_type": "display_data"
    }
   ],
   "source": [
    "df_actual.pivot_table(index = 'rating', values = 'jp_sales',aggfunc = 'sum')\\\n",
    ".sort_values(by = 'jp_sales',ascending = False).head().plot(kind = 'bar',figsize = (15,5), title = 'Japan');"
   ]
  },
  {
   "cell_type": "markdown",
   "metadata": {},
   "source": [
    "## Проверьте гипотезы"
   ]
  },
  {
   "cell_type": "markdown",
   "metadata": {},
   "source": [
    "### Средние пользовательские рейтинги платформ Xbox One и PC одинаковые"
   ]
  },
  {
   "cell_type": "markdown",
   "metadata": {},
   "source": [
    "H0 - средние рейтинги пользователей платформ Xbox One и PC одинаковые.\n",
    "\n",
    "H1 - средние рейтинги пользователей платформ Xbox One и PC разные.\n",
    "\n",
    "α = 5%"
   ]
  },
  {
   "cell_type": "code",
   "execution_count": 74,
   "metadata": {},
   "outputs": [],
   "source": [
    "sample1 = df_actual[df_actual['platform'] == 'XOne']['user_score']\n",
    "sample1 = sample1[~sample1.isna()]"
   ]
  },
  {
   "cell_type": "code",
   "execution_count": 75,
   "metadata": {},
   "outputs": [],
   "source": [
    "sample2 = df_actual[df_actual['platform'] == 'PC']['user_score']\n",
    "sample2 = sample2[~sample2.isna()]"
   ]
  },
  {
   "cell_type": "code",
   "execution_count": 76,
   "metadata": {
    "scrolled": false
   },
   "outputs": [
    {
     "name": "stdout",
     "output_type": "stream",
     "text": [
      "p-значение:  0.2948662812262724\n",
      "Не получилось отвергнуть нулевую гипотезу\n",
      "средние рейтинги пользователей платформ Xbox One и PC одинаковые.\n"
     ]
    }
   ],
   "source": [
    "results = st.ttest_ind(sample1, sample2, equal_var = False)\n",
    "alpha = .05\n",
    "\n",
    "print('p-значение: ', results.pvalue)\n",
    "\n",
    "if (results.pvalue < alpha):\n",
    "    print('Отвергаем нулевую гипотезу')\n",
    "    print('средние рейтинги пользователей платформ Xbox One и PC разные')\n",
    "else:\n",
    "    print('Не получилось отвергнуть нулевую гипотезу')\n",
    "    print('средние рейтинги пользователей платформ Xbox One и PC одинаковые.')"
   ]
  },
  {
   "cell_type": "code",
   "execution_count": 77,
   "metadata": {},
   "outputs": [
    {
     "data": {
      "text/html": [
       "<div>\n",
       "<style scoped>\n",
       "    .dataframe tbody tr th:only-of-type {\n",
       "        vertical-align: middle;\n",
       "    }\n",
       "\n",
       "    .dataframe tbody tr th {\n",
       "        vertical-align: top;\n",
       "    }\n",
       "\n",
       "    .dataframe thead th {\n",
       "        text-align: right;\n",
       "    }\n",
       "</style>\n",
       "<table border=\"1\" class=\"dataframe\">\n",
       "  <thead>\n",
       "    <tr style=\"text-align: right;\">\n",
       "      <th></th>\n",
       "      <th>user_score</th>\n",
       "    </tr>\n",
       "    <tr>\n",
       "      <th>platform</th>\n",
       "      <th></th>\n",
       "    </tr>\n",
       "  </thead>\n",
       "  <tbody>\n",
       "    <tr>\n",
       "      <th>PC</th>\n",
       "      <td>6.448372</td>\n",
       "    </tr>\n",
       "    <tr>\n",
       "      <th>XOne</th>\n",
       "      <td>6.604369</td>\n",
       "    </tr>\n",
       "  </tbody>\n",
       "</table>\n",
       "</div>"
      ],
      "text/plain": [
       "          user_score\n",
       "platform            \n",
       "PC          6.448372\n",
       "XOne        6.604369"
      ]
     },
     "execution_count": 77,
     "metadata": {},
     "output_type": "execute_result"
    }
   ],
   "source": [
    "df_actual.query('platform == \"XOne\" or platform == \"PC\"')\\\n",
    ".pivot_table(index='platform', values='user_score', aggfunc='mean')"
   ]
  },
  {
   "cell_type": "markdown",
   "metadata": {},
   "source": [
    "### Средние пользовательские рейтинги жанров Action (англ. «действие», экшен-игры) и Sports (англ. «спортивные соревнования») разные."
   ]
  },
  {
   "cell_type": "markdown",
   "metadata": {},
   "source": [
    "H0 - средние пользовательские рейтинги жанров Action (англ. «действие», экшен-игры) и Sports (англ. «спортивные соревнования») одинаковые.\n",
    "\n",
    "H1 - средние пользовательские рейтинги жанров Action (англ. «действие», экшен-игры) и Sports (англ. «спортивные соревнования») разные.\n",
    "\n",
    "α = 5%"
   ]
  },
  {
   "cell_type": "code",
   "execution_count": 78,
   "metadata": {},
   "outputs": [],
   "source": [
    "sample1 = df_actual[df_actual['genre'] == 'Action']['user_score']\n",
    "sample1 = sample1[~sample1.isna()]"
   ]
  },
  {
   "cell_type": "code",
   "execution_count": 79,
   "metadata": {},
   "outputs": [],
   "source": [
    "sample2 = df_actual[df_actual['genre'] == 'Sports']['user_score']\n",
    "sample2 = sample2[~sample2.isna()]"
   ]
  },
  {
   "cell_type": "code",
   "execution_count": 80,
   "metadata": {},
   "outputs": [
    {
     "name": "stdout",
     "output_type": "stream",
     "text": [
      "p-значение:  1.2637989356380714e-25\n",
      "Отвергаем нулевую гипотезу\n",
      "средние пользовательские рейтинги жанров Action и Sports разные\n"
     ]
    }
   ],
   "source": [
    "results = st.ttest_ind(sample1, sample2, equal_var = False)\n",
    "alpha = .05\n",
    "\n",
    "print('p-значение: ', results.pvalue)\n",
    "\n",
    "if (results.pvalue < alpha):\n",
    "    print('Отвергаем нулевую гипотезу')\n",
    "    print('средние пользовательские рейтинги жанров Action и Sports разные')\n",
    "else:\n",
    "    print('Не получилось отвергнуть нулевую гипотезу')\n",
    "    print('средние пользовательские рейтинги жанров Action и Sports одинаковые.')"
   ]
  },
  {
   "cell_type": "code",
   "execution_count": 81,
   "metadata": {},
   "outputs": [
    {
     "data": {
      "text/html": [
       "<div>\n",
       "<style scoped>\n",
       "    .dataframe tbody tr th:only-of-type {\n",
       "        vertical-align: middle;\n",
       "    }\n",
       "\n",
       "    .dataframe tbody tr th {\n",
       "        vertical-align: top;\n",
       "    }\n",
       "\n",
       "    .dataframe thead th {\n",
       "        text-align: right;\n",
       "    }\n",
       "</style>\n",
       "<table border=\"1\" class=\"dataframe\">\n",
       "  <thead>\n",
       "    <tr style=\"text-align: right;\">\n",
       "      <th></th>\n",
       "      <th>user_score</th>\n",
       "    </tr>\n",
       "    <tr>\n",
       "      <th>genre</th>\n",
       "      <th></th>\n",
       "    </tr>\n",
       "  </thead>\n",
       "  <tbody>\n",
       "    <tr>\n",
       "      <th>Action</th>\n",
       "      <td>6.862623</td>\n",
       "    </tr>\n",
       "    <tr>\n",
       "      <th>Sports</th>\n",
       "      <td>5.416290</td>\n",
       "    </tr>\n",
       "  </tbody>\n",
       "</table>\n",
       "</div>"
      ],
      "text/plain": [
       "        user_score\n",
       "genre             \n",
       "Action    6.862623\n",
       "Sports    5.416290"
      ]
     },
     "execution_count": 81,
     "metadata": {},
     "output_type": "execute_result"
    }
   ],
   "source": [
    "df_actual.query('genre == \"Action\" or genre == \"Sports\"')\\\n",
    ".pivot_table(index='genre', values='user_score', aggfunc='mean')"
   ]
  },
  {
   "cell_type": "markdown",
   "metadata": {},
   "source": [
    "## Напишите общий вывод"
   ]
  },
  {
   "cell_type": "markdown",
   "metadata": {},
   "source": [
    "**Общий вывод:**\n",
    "\n",
    "1.С 1980 по 1995 год выходило менее 100 игр в год, что является очень маленьким показателем (менее 5% от общей доли). Так например в 2004 году вышло больше игр, чем за 15 лет с 1980 по 1995 года.\n",
    "\n",
    "2.После выхода консоли, игры на неё выпускаются в течении 10 лет(на примере Playstation). Через 5 лет после выхода старой консоли на рынок выходит новая консоль, которая постепенно сдвигает старую консоль, а затем и полностью её заменяет.\n",
    "\n",
    "3.Из графиков видно, что старые консоли (Wii,PS2,PS3,X360,3DS) хоть и лидируют по продажам с 2012 по 2016 год, но динамика их продаж убывает и стремиться к нулю. А новые консоли (PS4,XOne) только начинают набирать обороты. Малая доля продаж в 2016 году связано с тем, что датасет определён до 2016 года, но не сказано до какого месяца. Так же стоит отметить особую платформу (PC). Она была и будет актуальна за счёт постоянного обновления её начинки. А маленькая доля продаж относительно других консолей связана с тем, что многие игры не выходят на PC, а те которые выходят, взламывают и распространяют бесплатно.\n",
    "\n",
    "4.Всех больше продаж у X360, PS3 и Wii. PS4 и XOne довольно близки к ним, и в скором времени предпологается, что они выйдут на первые места по продажам.\n",
    "\n",
    "5.Зависимость оценки критиков значительно больше влияет на кол-во продаж нежели оценки пользователей.\n",
    "\n",
    "6.Самые популярные жанры platform, sports, shooter. Думаю это связано с большим охватом аудитории. В эти жанры игр могут играть самые разные люди, они отличаются зрелищностью и простотой. А самая низкая продаваемость у strategy. Предположительно это связано с большим порогом входа и сложностью.\n",
    "\n",
    "7.Европа и Америка очень похожи по своим предпочтениям в жанрах (action,shooter,sports). А в Японии всех больше продаж в жанре Role_playing, доля продаж игр с жанром role_playing превышает следующий по значимости жанр более чем в 2 раза.\n",
    "\n",
    "8.Во всех трёх регионах самые продаваемые игры с рейтингом E(Для всех.) В Европе и Америке игры с рейтингом M(для взрослых) и T(для подростков) имеют почти одинаковую долю продаж, однако в Японии в с большим отрывом (почти в 4 раза) лидируют игры без рейтинга.\n",
    "\n",
    "9.Самая популярная консоль в Америке X360, В Европе PS2, В Японии DS. Доля продаж игр в Америке на X360 почти в два раза больше PS2 в Европе и в 4 раза больше DS в Японии."
   ]
  },
  {
   "cell_type": "markdown",
   "metadata": {},
   "source": [
    "**Результат исследований:**\n",
    "Самыми популярными и перспективными консолями в 2017-ом году будут PS4 и XOne, они показывают положительную динамику роста. Самым популярным и стабильным жанром является shooter. Рекламировать игры стоит в Американском регионе с рейтингом M. Насчёт отзывов, стоит обращать внимания на отзывы критиков, отзывы пользователей не влияют на уровень продаж.\n"
   ]
  }
 ],
 "metadata": {
  "ExecuteTimeLog": [
   {
    "duration": 379,
    "start_time": "2022-11-28T09:51:23.060Z"
   },
   {
    "duration": 98,
    "start_time": "2022-11-28T09:51:53.398Z"
   },
   {
    "duration": 94,
    "start_time": "2022-11-28T09:52:11.641Z"
   },
   {
    "duration": 14,
    "start_time": "2022-11-28T09:52:20.918Z"
   },
   {
    "duration": 27,
    "start_time": "2022-11-28T09:52:27.069Z"
   },
   {
    "duration": 12,
    "start_time": "2022-11-28T09:53:07.938Z"
   },
   {
    "duration": 220,
    "start_time": "2022-11-28T09:55:22.260Z"
   },
   {
    "duration": 3,
    "start_time": "2022-11-28T09:55:31.069Z"
   },
   {
    "duration": 21,
    "start_time": "2022-11-28T09:55:34.014Z"
   },
   {
    "duration": 4,
    "start_time": "2022-11-28T09:56:01.575Z"
   },
   {
    "duration": 22,
    "start_time": "2022-11-28T09:56:05.098Z"
   },
   {
    "duration": 4,
    "start_time": "2022-11-28T09:57:48.355Z"
   },
   {
    "duration": 14,
    "start_time": "2022-11-28T10:02:18.918Z"
   },
   {
    "duration": 14,
    "start_time": "2022-11-28T10:02:24.679Z"
   },
   {
    "duration": 73,
    "start_time": "2022-11-28T10:02:37.439Z"
   },
   {
    "duration": 14,
    "start_time": "2022-11-28T10:02:55.605Z"
   },
   {
    "duration": 13,
    "start_time": "2022-11-28T10:03:15.678Z"
   },
   {
    "duration": 5,
    "start_time": "2022-11-28T10:03:17.964Z"
   },
   {
    "duration": 13,
    "start_time": "2022-11-28T10:06:46.399Z"
   },
   {
    "duration": 13,
    "start_time": "2022-11-28T10:07:01.515Z"
   },
   {
    "duration": 14,
    "start_time": "2022-11-28T10:07:17.996Z"
   },
   {
    "duration": 6,
    "start_time": "2022-11-28T10:08:45.078Z"
   },
   {
    "duration": 13,
    "start_time": "2022-11-28T10:08:47.355Z"
   },
   {
    "duration": 8,
    "start_time": "2022-11-28T10:09:55.717Z"
   },
   {
    "duration": 9,
    "start_time": "2022-11-28T10:10:01.478Z"
   },
   {
    "duration": 11,
    "start_time": "2022-11-28T10:10:13.758Z"
   },
   {
    "duration": 12,
    "start_time": "2022-11-28T10:10:27.942Z"
   },
   {
    "duration": 13,
    "start_time": "2022-11-28T10:10:36.099Z"
   },
   {
    "duration": 9,
    "start_time": "2022-11-28T10:14:01.356Z"
   },
   {
    "duration": 9,
    "start_time": "2022-11-28T10:14:04.415Z"
   },
   {
    "duration": 2,
    "start_time": "2022-11-28T10:14:24.146Z"
   },
   {
    "duration": 49,
    "start_time": "2022-11-28T10:14:24.765Z"
   },
   {
    "duration": 26,
    "start_time": "2022-11-28T10:14:24.817Z"
   },
   {
    "duration": 13,
    "start_time": "2022-11-28T10:14:25.635Z"
   },
   {
    "duration": 3,
    "start_time": "2022-11-28T10:14:25.905Z"
   },
   {
    "duration": 3,
    "start_time": "2022-11-28T10:14:37.439Z"
   },
   {
    "duration": 21,
    "start_time": "2022-11-28T10:14:38.098Z"
   },
   {
    "duration": 9,
    "start_time": "2022-11-28T10:14:40.597Z"
   },
   {
    "duration": 13,
    "start_time": "2022-11-28T10:14:54.298Z"
   },
   {
    "duration": 16,
    "start_time": "2022-11-28T10:15:34.669Z"
   },
   {
    "duration": 12,
    "start_time": "2022-11-28T10:15:35.020Z"
   },
   {
    "duration": 5,
    "start_time": "2022-11-28T10:16:17.382Z"
   },
   {
    "duration": 17,
    "start_time": "2022-11-28T10:16:40.164Z"
   },
   {
    "duration": 3,
    "start_time": "2022-11-28T10:16:54.559Z"
   },
   {
    "duration": 6,
    "start_time": "2022-11-28T10:16:58.279Z"
   },
   {
    "duration": 6,
    "start_time": "2022-11-28T10:17:30.240Z"
   },
   {
    "duration": 13,
    "start_time": "2022-11-28T10:17:33.222Z"
   },
   {
    "duration": 9,
    "start_time": "2022-11-28T10:17:47.419Z"
   },
   {
    "duration": 14,
    "start_time": "2022-11-28T10:18:16.599Z"
   },
   {
    "duration": 9,
    "start_time": "2022-11-28T10:18:16.841Z"
   },
   {
    "duration": 4,
    "start_time": "2022-11-28T10:24:53.977Z"
   },
   {
    "duration": 547,
    "start_time": "2022-11-28T10:25:10.518Z"
   },
   {
    "duration": 3,
    "start_time": "2022-11-28T10:25:19.259Z"
   },
   {
    "duration": 50,
    "start_time": "2022-11-28T10:25:19.437Z"
   },
   {
    "duration": 21,
    "start_time": "2022-11-28T10:25:19.574Z"
   },
   {
    "duration": 14,
    "start_time": "2022-11-28T10:25:19.757Z"
   },
   {
    "duration": 3,
    "start_time": "2022-11-28T10:25:19.937Z"
   },
   {
    "duration": 20,
    "start_time": "2022-11-28T10:25:20.157Z"
   },
   {
    "duration": 3,
    "start_time": "2022-11-28T10:25:20.378Z"
   },
   {
    "duration": 171,
    "start_time": "2022-11-28T10:25:20.566Z"
   },
   {
    "duration": 10,
    "start_time": "2022-11-28T10:25:20.929Z"
   },
   {
    "duration": 12,
    "start_time": "2022-11-28T10:25:21.178Z"
   },
   {
    "duration": 10,
    "start_time": "2022-11-28T10:25:21.365Z"
   },
   {
    "duration": 5,
    "start_time": "2022-11-28T10:26:05.257Z"
   },
   {
    "duration": 168,
    "start_time": "2022-11-28T10:26:06.178Z"
   },
   {
    "duration": 412,
    "start_time": "2022-11-28T10:26:15.620Z"
   },
   {
    "duration": 64,
    "start_time": "2022-11-28T10:26:16.034Z"
   },
   {
    "duration": 38,
    "start_time": "2022-11-28T10:26:16.100Z"
   },
   {
    "duration": 19,
    "start_time": "2022-11-28T10:26:16.141Z"
   },
   {
    "duration": 4,
    "start_time": "2022-11-28T10:26:16.162Z"
   },
   {
    "duration": 25,
    "start_time": "2022-11-28T10:26:16.196Z"
   },
   {
    "duration": 12,
    "start_time": "2022-11-28T10:26:16.223Z"
   },
   {
    "duration": 428,
    "start_time": "2022-11-28T10:26:16.237Z"
   },
   {
    "duration": 11,
    "start_time": "2022-11-28T10:26:16.667Z"
   },
   {
    "duration": 26,
    "start_time": "2022-11-28T10:26:16.680Z"
   },
   {
    "duration": 10,
    "start_time": "2022-11-28T10:26:16.707Z"
   },
   {
    "duration": 5,
    "start_time": "2022-11-28T10:28:00.599Z"
   },
   {
    "duration": 6,
    "start_time": "2022-11-28T10:28:44.590Z"
   },
   {
    "duration": 6,
    "start_time": "2022-11-28T10:41:56.519Z"
   },
   {
    "duration": 6,
    "start_time": "2022-11-28T10:42:44.119Z"
   },
   {
    "duration": 19,
    "start_time": "2022-11-28T10:43:03.280Z"
   },
   {
    "duration": 4,
    "start_time": "2022-11-28T10:47:05.996Z"
   },
   {
    "duration": 3,
    "start_time": "2022-11-28T10:47:25.591Z"
   },
   {
    "duration": 25,
    "start_time": "2022-11-28T10:47:25.947Z"
   },
   {
    "duration": 5,
    "start_time": "2022-11-28T10:48:21.505Z"
   },
   {
    "duration": 4,
    "start_time": "2022-11-28T10:48:22.730Z"
   },
   {
    "duration": 19,
    "start_time": "2022-11-28T10:48:22.965Z"
   },
   {
    "duration": 48,
    "start_time": "2022-11-28T10:50:55.700Z"
   },
   {
    "duration": 5,
    "start_time": "2022-11-28T10:51:00.856Z"
   },
   {
    "duration": 7,
    "start_time": "2022-11-28T10:51:31.876Z"
   },
   {
    "duration": 12,
    "start_time": "2022-11-28T10:52:09.889Z"
   },
   {
    "duration": 7,
    "start_time": "2022-11-28T10:52:53.040Z"
   },
   {
    "duration": 9,
    "start_time": "2022-11-28T10:53:11.133Z"
   },
   {
    "duration": 19,
    "start_time": "2022-11-28T10:53:22.536Z"
   },
   {
    "duration": 8,
    "start_time": "2022-11-28T10:53:28.973Z"
   },
   {
    "duration": 85,
    "start_time": "2022-11-28T10:54:11.284Z"
   },
   {
    "duration": 14,
    "start_time": "2022-11-28T10:54:17.932Z"
   },
   {
    "duration": 15,
    "start_time": "2022-11-28T10:54:41.391Z"
   },
   {
    "duration": 14,
    "start_time": "2022-11-28T10:54:44.770Z"
   },
   {
    "duration": 5,
    "start_time": "2022-11-28T10:55:06.792Z"
   },
   {
    "duration": 3,
    "start_time": "2022-11-28T10:55:09.176Z"
   },
   {
    "duration": 19,
    "start_time": "2022-11-28T10:55:09.348Z"
   },
   {
    "duration": 12,
    "start_time": "2022-11-28T10:55:10.027Z"
   },
   {
    "duration": 8,
    "start_time": "2022-11-28T10:55:13.240Z"
   },
   {
    "duration": 9,
    "start_time": "2022-11-28T10:56:01.999Z"
   },
   {
    "duration": 7,
    "start_time": "2022-11-28T10:56:25.480Z"
   },
   {
    "duration": 7,
    "start_time": "2022-11-28T10:57:20.479Z"
   },
   {
    "duration": 7,
    "start_time": "2022-11-28T10:57:31.040Z"
   },
   {
    "duration": 7,
    "start_time": "2022-11-28T10:57:37.608Z"
   },
   {
    "duration": 4,
    "start_time": "2022-11-28T11:01:31.178Z"
   },
   {
    "duration": 20,
    "start_time": "2022-11-28T11:01:31.699Z"
   },
   {
    "duration": 15,
    "start_time": "2022-11-28T11:01:31.918Z"
   },
   {
    "duration": 7,
    "start_time": "2022-11-28T11:01:32.418Z"
   },
   {
    "duration": 379,
    "start_time": "2022-11-28T19:25:04.892Z"
   },
   {
    "duration": 188,
    "start_time": "2022-11-28T19:25:05.273Z"
   },
   {
    "duration": 27,
    "start_time": "2022-11-28T19:25:05.463Z"
   },
   {
    "duration": 14,
    "start_time": "2022-11-28T19:25:05.493Z"
   },
   {
    "duration": 4,
    "start_time": "2022-11-28T19:25:06.620Z"
   },
   {
    "duration": 601,
    "start_time": "2022-11-28T19:25:07.065Z"
   },
   {
    "duration": 12,
    "start_time": "2022-11-28T19:25:09.377Z"
   },
   {
    "duration": 1344,
    "start_time": "2022-11-28T19:25:10.308Z"
   },
   {
    "duration": 0,
    "start_time": "2022-11-28T19:25:11.654Z"
   },
   {
    "duration": 3,
    "start_time": "2022-11-28T19:25:58.145Z"
   },
   {
    "duration": 65,
    "start_time": "2022-11-28T19:25:58.361Z"
   },
   {
    "duration": 22,
    "start_time": "2022-11-28T19:25:58.552Z"
   },
   {
    "duration": 15,
    "start_time": "2022-11-28T19:25:58.744Z"
   },
   {
    "duration": 4,
    "start_time": "2022-11-28T19:25:59.678Z"
   },
   {
    "duration": 164,
    "start_time": "2022-11-28T19:26:00.288Z"
   },
   {
    "duration": 4,
    "start_time": "2022-11-28T19:26:01.253Z"
   },
   {
    "duration": 20,
    "start_time": "2022-11-28T19:26:02.305Z"
   },
   {
    "duration": 6,
    "start_time": "2022-11-28T19:26:30.197Z"
   },
   {
    "duration": 13,
    "start_time": "2022-11-28T19:26:56.781Z"
   },
   {
    "duration": 2,
    "start_time": "2022-11-28T19:27:08.657Z"
   },
   {
    "duration": 59,
    "start_time": "2022-11-28T19:27:08.880Z"
   },
   {
    "duration": 30,
    "start_time": "2022-11-28T19:27:09.104Z"
   },
   {
    "duration": 14,
    "start_time": "2022-11-28T19:27:10.097Z"
   },
   {
    "duration": 4,
    "start_time": "2022-11-28T19:27:10.901Z"
   },
   {
    "duration": 164,
    "start_time": "2022-11-28T19:27:11.217Z"
   },
   {
    "duration": 3,
    "start_time": "2022-11-28T19:27:12.945Z"
   },
   {
    "duration": 21,
    "start_time": "2022-11-28T19:27:13.745Z"
   },
   {
    "duration": 9,
    "start_time": "2022-11-28T19:27:14.865Z"
   },
   {
    "duration": 13,
    "start_time": "2022-11-28T19:27:16.021Z"
   },
   {
    "duration": 54,
    "start_time": "2022-11-28T19:27:23.385Z"
   },
   {
    "duration": 3,
    "start_time": "2022-11-28T19:27:26.777Z"
   },
   {
    "duration": 15,
    "start_time": "2022-11-28T19:27:30.949Z"
   },
   {
    "duration": 15,
    "start_time": "2022-11-28T19:27:50.541Z"
   },
   {
    "duration": 1101,
    "start_time": "2022-11-28T19:28:05.585Z"
   },
   {
    "duration": 23,
    "start_time": "2022-11-28T19:28:11.613Z"
   },
   {
    "duration": 13,
    "start_time": "2022-11-28T19:32:03.394Z"
   },
   {
    "duration": 12,
    "start_time": "2022-11-28T19:32:06.158Z"
   },
   {
    "duration": 5,
    "start_time": "2022-11-28T19:32:21.294Z"
   },
   {
    "duration": 4,
    "start_time": "2022-11-28T19:41:09.563Z"
   },
   {
    "duration": 4,
    "start_time": "2022-11-28T19:41:20.251Z"
   },
   {
    "duration": 19,
    "start_time": "2022-11-28T19:41:26.271Z"
   },
   {
    "duration": 19,
    "start_time": "2022-11-28T19:41:26.431Z"
   },
   {
    "duration": 3,
    "start_time": "2022-11-28T19:44:47.860Z"
   },
   {
    "duration": 25,
    "start_time": "2022-11-28T19:47:12.484Z"
   },
   {
    "duration": 2,
    "start_time": "2022-11-28T19:47:15.724Z"
   },
   {
    "duration": 51,
    "start_time": "2022-11-28T19:47:15.884Z"
   },
   {
    "duration": 29,
    "start_time": "2022-11-28T19:47:16.052Z"
   },
   {
    "duration": 14,
    "start_time": "2022-11-28T19:47:16.172Z"
   },
   {
    "duration": 4,
    "start_time": "2022-11-28T19:47:16.332Z"
   },
   {
    "duration": 183,
    "start_time": "2022-11-28T19:47:16.465Z"
   },
   {
    "duration": 4,
    "start_time": "2022-11-28T19:47:16.763Z"
   },
   {
    "duration": 21,
    "start_time": "2022-11-28T19:47:18.064Z"
   },
   {
    "duration": 422,
    "start_time": "2022-11-28T19:49:30.451Z"
   },
   {
    "duration": 56,
    "start_time": "2022-11-28T19:49:30.875Z"
   },
   {
    "duration": 33,
    "start_time": "2022-11-28T19:49:30.933Z"
   },
   {
    "duration": 16,
    "start_time": "2022-11-28T19:49:30.968Z"
   },
   {
    "duration": 4,
    "start_time": "2022-11-28T19:49:30.986Z"
   },
   {
    "duration": 437,
    "start_time": "2022-11-28T19:49:30.992Z"
   },
   {
    "duration": 22,
    "start_time": "2022-11-28T19:49:31.431Z"
   },
   {
    "duration": 25,
    "start_time": "2022-11-28T19:49:31.455Z"
   },
   {
    "duration": 11,
    "start_time": "2022-11-28T19:49:31.482Z"
   },
   {
    "duration": 12,
    "start_time": "2022-11-28T19:49:31.495Z"
   },
   {
    "duration": 9,
    "start_time": "2022-11-28T19:49:31.509Z"
   },
   {
    "duration": 105,
    "start_time": "2022-11-28T19:49:31.520Z"
   },
   {
    "duration": 0,
    "start_time": "2022-11-28T19:49:31.627Z"
   },
   {
    "duration": 0,
    "start_time": "2022-11-28T19:49:31.628Z"
   },
   {
    "duration": 9,
    "start_time": "2022-11-28T19:50:02.035Z"
   },
   {
    "duration": 18,
    "start_time": "2022-11-28T19:50:12.892Z"
   },
   {
    "duration": 24,
    "start_time": "2022-11-28T19:50:49.835Z"
   },
   {
    "duration": 23,
    "start_time": "2022-11-28T19:51:29.488Z"
   },
   {
    "duration": 10,
    "start_time": "2022-11-28T19:51:33.772Z"
   },
   {
    "duration": 20,
    "start_time": "2022-11-28T19:51:53.354Z"
   },
   {
    "duration": 24,
    "start_time": "2022-11-28T19:51:59.656Z"
   },
   {
    "duration": 12,
    "start_time": "2022-11-28T19:52:18.992Z"
   },
   {
    "duration": 10,
    "start_time": "2022-11-28T19:52:32.120Z"
   },
   {
    "duration": 8,
    "start_time": "2022-11-28T19:52:36.312Z"
   },
   {
    "duration": 27,
    "start_time": "2022-11-28T19:52:39.224Z"
   },
   {
    "duration": 6,
    "start_time": "2022-11-28T19:54:26.364Z"
   },
   {
    "duration": 6,
    "start_time": "2022-11-28T19:54:33.693Z"
   },
   {
    "duration": 24,
    "start_time": "2022-11-28T19:54:47.172Z"
   },
   {
    "duration": 83,
    "start_time": "2022-11-28T19:55:05.621Z"
   },
   {
    "duration": 74,
    "start_time": "2022-11-28T19:55:10.808Z"
   },
   {
    "duration": 25,
    "start_time": "2022-11-28T19:55:12.573Z"
   },
   {
    "duration": 118,
    "start_time": "2022-11-28T19:58:58.669Z"
   },
   {
    "duration": 103,
    "start_time": "2022-11-28T19:59:31.133Z"
   },
   {
    "duration": 21,
    "start_time": "2022-11-28T19:59:38.408Z"
   },
   {
    "duration": 30,
    "start_time": "2022-11-28T19:59:51.846Z"
   },
   {
    "duration": 82,
    "start_time": "2022-11-28T20:01:55.117Z"
   },
   {
    "duration": 456,
    "start_time": "2022-11-28T20:02:02.101Z"
   },
   {
    "duration": 5,
    "start_time": "2022-11-28T20:02:50.642Z"
   },
   {
    "duration": 3,
    "start_time": "2022-11-28T20:03:07.578Z"
   },
   {
    "duration": 58,
    "start_time": "2022-11-28T20:03:07.798Z"
   },
   {
    "duration": 23,
    "start_time": "2022-11-28T20:03:08.541Z"
   },
   {
    "duration": 14,
    "start_time": "2022-11-28T20:03:09.082Z"
   },
   {
    "duration": 4,
    "start_time": "2022-11-28T20:03:09.726Z"
   },
   {
    "duration": 165,
    "start_time": "2022-11-28T20:03:10.298Z"
   },
   {
    "duration": 3,
    "start_time": "2022-11-28T20:03:11.930Z"
   },
   {
    "duration": 30,
    "start_time": "2022-11-28T20:03:12.671Z"
   },
   {
    "duration": 9,
    "start_time": "2022-11-28T20:03:13.722Z"
   },
   {
    "duration": 15,
    "start_time": "2022-11-28T20:03:14.974Z"
   },
   {
    "duration": 25,
    "start_time": "2022-11-28T20:03:16.101Z"
   },
   {
    "duration": 6,
    "start_time": "2022-11-28T20:03:16.514Z"
   },
   {
    "duration": 1494,
    "start_time": "2022-11-28T20:05:00.906Z"
   },
   {
    "duration": 1482,
    "start_time": "2022-11-28T20:05:53.126Z"
   },
   {
    "duration": 74,
    "start_time": "2022-11-28T20:07:45.922Z"
   },
   {
    "duration": 368,
    "start_time": "2022-11-28T20:08:01.803Z"
   },
   {
    "duration": 23,
    "start_time": "2022-11-28T20:10:57.443Z"
   },
   {
    "duration": 1037,
    "start_time": "2022-11-28T20:11:51.475Z"
   },
   {
    "duration": 16,
    "start_time": "2022-11-28T20:12:03.040Z"
   },
   {
    "duration": 1162,
    "start_time": "2022-11-28T20:12:21.456Z"
   },
   {
    "duration": 18,
    "start_time": "2022-11-28T20:13:01.615Z"
   },
   {
    "duration": 16,
    "start_time": "2022-11-28T20:13:05.103Z"
   },
   {
    "duration": 19,
    "start_time": "2022-11-28T20:13:06.802Z"
   },
   {
    "duration": 1047,
    "start_time": "2022-11-28T20:13:14.551Z"
   },
   {
    "duration": 707,
    "start_time": "2022-11-28T20:13:33.511Z"
   },
   {
    "duration": 588,
    "start_time": "2022-11-28T20:13:39.823Z"
   },
   {
    "duration": 587,
    "start_time": "2022-11-28T20:13:50.327Z"
   },
   {
    "duration": 597,
    "start_time": "2022-11-28T20:13:55.607Z"
   },
   {
    "duration": 677,
    "start_time": "2022-11-28T20:13:59.415Z"
   },
   {
    "duration": 612,
    "start_time": "2022-11-28T20:15:06.472Z"
   },
   {
    "duration": 583,
    "start_time": "2022-11-28T20:15:10.824Z"
   },
   {
    "duration": 653,
    "start_time": "2022-11-28T20:15:20.496Z"
   },
   {
    "duration": 517,
    "start_time": "2022-11-28T20:15:45.136Z"
   },
   {
    "duration": 465,
    "start_time": "2022-11-28T20:15:50.976Z"
   },
   {
    "duration": 500,
    "start_time": "2022-11-28T20:16:10.472Z"
   },
   {
    "duration": 486,
    "start_time": "2022-11-28T20:16:38.292Z"
   },
   {
    "duration": 606,
    "start_time": "2022-11-28T20:16:43.869Z"
   },
   {
    "duration": 964,
    "start_time": "2022-11-28T20:17:01.852Z"
   },
   {
    "duration": 21,
    "start_time": "2022-11-28T20:18:11.236Z"
   },
   {
    "duration": 463,
    "start_time": "2022-11-28T20:18:32.328Z"
   },
   {
    "duration": 188,
    "start_time": "2022-11-28T20:19:06.788Z"
   },
   {
    "duration": 383,
    "start_time": "2022-11-28T20:19:12.365Z"
   },
   {
    "duration": 55,
    "start_time": "2022-11-28T20:19:12.750Z"
   },
   {
    "duration": 26,
    "start_time": "2022-11-28T20:19:12.807Z"
   },
   {
    "duration": 15,
    "start_time": "2022-11-28T20:19:12.835Z"
   },
   {
    "duration": 17,
    "start_time": "2022-11-28T20:19:12.851Z"
   },
   {
    "duration": 436,
    "start_time": "2022-11-28T20:19:12.870Z"
   },
   {
    "duration": 3,
    "start_time": "2022-11-28T20:19:13.308Z"
   },
   {
    "duration": 44,
    "start_time": "2022-11-28T20:19:13.312Z"
   },
   {
    "duration": 17,
    "start_time": "2022-11-28T20:19:13.357Z"
   },
   {
    "duration": 17,
    "start_time": "2022-11-28T20:19:13.376Z"
   },
   {
    "duration": 23,
    "start_time": "2022-11-28T20:19:13.395Z"
   },
   {
    "duration": 8,
    "start_time": "2022-11-28T20:19:13.420Z"
   },
   {
    "duration": 452,
    "start_time": "2022-11-28T20:19:13.438Z"
   },
   {
    "duration": 10,
    "start_time": "2022-11-28T20:19:13.893Z"
   },
   {
    "duration": 89,
    "start_time": "2022-11-28T20:19:13.904Z"
   },
   {
    "duration": 0,
    "start_time": "2022-11-28T20:19:13.994Z"
   },
   {
    "duration": 197,
    "start_time": "2022-11-28T20:21:59.781Z"
   },
   {
    "duration": 3,
    "start_time": "2022-11-28T20:22:22.581Z"
   },
   {
    "duration": 55,
    "start_time": "2022-11-28T20:22:22.770Z"
   },
   {
    "duration": 22,
    "start_time": "2022-11-28T20:22:22.966Z"
   },
   {
    "duration": 16,
    "start_time": "2022-11-28T20:22:23.125Z"
   },
   {
    "duration": 4,
    "start_time": "2022-11-28T20:22:23.318Z"
   },
   {
    "duration": 183,
    "start_time": "2022-11-28T20:22:23.510Z"
   },
   {
    "duration": 4,
    "start_time": "2022-11-28T20:22:23.925Z"
   },
   {
    "duration": 26,
    "start_time": "2022-11-28T20:22:24.149Z"
   },
   {
    "duration": 12,
    "start_time": "2022-11-28T20:22:25.206Z"
   },
   {
    "duration": 12,
    "start_time": "2022-11-28T20:22:25.590Z"
   },
   {
    "duration": 27,
    "start_time": "2022-11-28T20:22:26.485Z"
   },
   {
    "duration": 6,
    "start_time": "2022-11-28T20:22:27.153Z"
   },
   {
    "duration": 433,
    "start_time": "2022-11-28T20:22:28.057Z"
   },
   {
    "duration": 477,
    "start_time": "2022-11-28T20:22:51.430Z"
   },
   {
    "duration": 215,
    "start_time": "2022-11-28T20:22:58.666Z"
   },
   {
    "duration": 218,
    "start_time": "2022-11-28T20:23:17.786Z"
   },
   {
    "duration": 3,
    "start_time": "2022-11-28T20:23:35.354Z"
   },
   {
    "duration": 57,
    "start_time": "2022-11-28T20:23:35.360Z"
   },
   {
    "duration": 27,
    "start_time": "2022-11-28T20:23:35.419Z"
   },
   {
    "duration": 31,
    "start_time": "2022-11-28T20:23:35.452Z"
   },
   {
    "duration": 5,
    "start_time": "2022-11-28T20:23:35.486Z"
   },
   {
    "duration": 204,
    "start_time": "2022-11-28T20:23:35.494Z"
   },
   {
    "duration": 3,
    "start_time": "2022-11-28T20:23:35.700Z"
   },
   {
    "duration": 39,
    "start_time": "2022-11-28T20:23:35.705Z"
   },
   {
    "duration": 22,
    "start_time": "2022-11-28T20:23:35.746Z"
   },
   {
    "duration": 13,
    "start_time": "2022-11-28T20:23:35.769Z"
   },
   {
    "duration": 25,
    "start_time": "2022-11-28T20:23:35.785Z"
   },
   {
    "duration": 29,
    "start_time": "2022-11-28T20:23:35.812Z"
   },
   {
    "duration": 429,
    "start_time": "2022-11-28T20:23:40.894Z"
   },
   {
    "duration": 18,
    "start_time": "2022-11-28T20:25:20.953Z"
   },
   {
    "duration": 3,
    "start_time": "2022-11-28T20:25:43.594Z"
   },
   {
    "duration": 73,
    "start_time": "2022-11-28T20:25:43.600Z"
   },
   {
    "duration": 27,
    "start_time": "2022-11-28T20:25:43.675Z"
   },
   {
    "duration": 37,
    "start_time": "2022-11-28T20:25:43.705Z"
   },
   {
    "duration": 10,
    "start_time": "2022-11-28T20:25:43.747Z"
   },
   {
    "duration": 217,
    "start_time": "2022-11-28T20:25:43.760Z"
   },
   {
    "duration": 3,
    "start_time": "2022-11-28T20:25:43.979Z"
   },
   {
    "duration": 26,
    "start_time": "2022-11-28T20:25:43.983Z"
   },
   {
    "duration": 37,
    "start_time": "2022-11-28T20:25:44.011Z"
   },
   {
    "duration": 25,
    "start_time": "2022-11-28T20:25:44.049Z"
   },
   {
    "duration": 29,
    "start_time": "2022-11-28T20:25:44.076Z"
   },
   {
    "duration": 6,
    "start_time": "2022-11-28T20:25:44.107Z"
   },
   {
    "duration": 5,
    "start_time": "2022-11-28T20:25:46.886Z"
   },
   {
    "duration": 12,
    "start_time": "2022-11-28T20:25:47.370Z"
   },
   {
    "duration": 18,
    "start_time": "2022-11-28T20:53:20.339Z"
   },
   {
    "duration": 42,
    "start_time": "2022-11-28T20:53:26.899Z"
   },
   {
    "duration": 44,
    "start_time": "2022-11-28T20:54:34.721Z"
   },
   {
    "duration": 27,
    "start_time": "2022-11-28T20:55:07.458Z"
   },
   {
    "duration": 6,
    "start_time": "2022-11-28T20:55:11.079Z"
   },
   {
    "duration": 3,
    "start_time": "2022-11-28T20:55:22.391Z"
   },
   {
    "duration": 73,
    "start_time": "2022-11-28T20:55:22.396Z"
   },
   {
    "duration": 34,
    "start_time": "2022-11-28T20:55:22.471Z"
   },
   {
    "duration": 21,
    "start_time": "2022-11-28T20:55:22.507Z"
   },
   {
    "duration": 20,
    "start_time": "2022-11-28T20:55:22.543Z"
   },
   {
    "duration": 211,
    "start_time": "2022-11-28T20:55:22.565Z"
   },
   {
    "duration": 3,
    "start_time": "2022-11-28T20:55:22.778Z"
   },
   {
    "duration": 24,
    "start_time": "2022-11-28T20:55:22.783Z"
   },
   {
    "duration": 22,
    "start_time": "2022-11-28T20:55:22.809Z"
   },
   {
    "duration": 21,
    "start_time": "2022-11-28T20:55:22.837Z"
   },
   {
    "duration": 33,
    "start_time": "2022-11-28T20:55:22.861Z"
   },
   {
    "duration": 6,
    "start_time": "2022-11-28T20:55:22.896Z"
   },
   {
    "duration": 11,
    "start_time": "2022-11-28T20:55:25.135Z"
   },
   {
    "duration": 23,
    "start_time": "2022-11-28T20:55:25.776Z"
   },
   {
    "duration": 6,
    "start_time": "2022-11-28T20:55:26.123Z"
   },
   {
    "duration": 11,
    "start_time": "2022-11-28T20:55:27.723Z"
   },
   {
    "duration": 76,
    "start_time": "2022-11-28T20:57:28.959Z"
   },
   {
    "duration": 81,
    "start_time": "2022-11-28T20:57:37.404Z"
   },
   {
    "duration": 91,
    "start_time": "2022-11-28T20:57:43.708Z"
   },
   {
    "duration": 9,
    "start_time": "2022-11-28T20:58:06.139Z"
   },
   {
    "duration": 475,
    "start_time": "2022-11-28T20:58:10.648Z"
   },
   {
    "duration": 87,
    "start_time": "2022-11-28T20:58:11.125Z"
   },
   {
    "duration": 30,
    "start_time": "2022-11-28T20:58:11.214Z"
   },
   {
    "duration": 20,
    "start_time": "2022-11-28T20:58:11.251Z"
   },
   {
    "duration": 4,
    "start_time": "2022-11-28T20:58:11.274Z"
   },
   {
    "duration": 486,
    "start_time": "2022-11-28T20:58:11.280Z"
   },
   {
    "duration": 4,
    "start_time": "2022-11-28T20:58:11.767Z"
   },
   {
    "duration": 24,
    "start_time": "2022-11-28T20:58:11.773Z"
   },
   {
    "duration": 39,
    "start_time": "2022-11-28T20:58:11.799Z"
   },
   {
    "duration": 14,
    "start_time": "2022-11-28T20:58:11.840Z"
   },
   {
    "duration": 39,
    "start_time": "2022-11-28T20:58:11.861Z"
   },
   {
    "duration": 6,
    "start_time": "2022-11-28T20:58:11.903Z"
   },
   {
    "duration": 52,
    "start_time": "2022-11-28T20:58:11.912Z"
   },
   {
    "duration": 21,
    "start_time": "2022-11-28T20:58:11.966Z"
   },
   {
    "duration": 36,
    "start_time": "2022-11-28T20:58:11.990Z"
   },
   {
    "duration": 401,
    "start_time": "2022-11-28T20:58:12.028Z"
   },
   {
    "duration": 0,
    "start_time": "2022-11-28T20:58:12.431Z"
   },
   {
    "duration": 8,
    "start_time": "2022-11-28T20:58:23.817Z"
   },
   {
    "duration": 20,
    "start_time": "2022-11-28T20:58:29.871Z"
   },
   {
    "duration": 6,
    "start_time": "2022-11-28T20:59:19.552Z"
   },
   {
    "duration": 30,
    "start_time": "2022-11-28T20:59:30.411Z"
   },
   {
    "duration": 3,
    "start_time": "2022-11-28T20:59:40.195Z"
   },
   {
    "duration": 78,
    "start_time": "2022-11-28T20:59:40.200Z"
   },
   {
    "duration": 30,
    "start_time": "2022-11-28T20:59:40.280Z"
   },
   {
    "duration": 15,
    "start_time": "2022-11-28T20:59:40.313Z"
   },
   {
    "duration": 9,
    "start_time": "2022-11-28T20:59:40.330Z"
   },
   {
    "duration": 188,
    "start_time": "2022-11-28T20:59:40.341Z"
   },
   {
    "duration": 8,
    "start_time": "2022-11-28T20:59:40.530Z"
   },
   {
    "duration": 23,
    "start_time": "2022-11-28T20:59:40.540Z"
   },
   {
    "duration": 11,
    "start_time": "2022-11-28T20:59:40.565Z"
   },
   {
    "duration": 16,
    "start_time": "2022-11-28T20:59:40.577Z"
   },
   {
    "duration": 44,
    "start_time": "2022-11-28T20:59:40.596Z"
   },
   {
    "duration": 18,
    "start_time": "2022-11-28T20:59:44.300Z"
   },
   {
    "duration": 23,
    "start_time": "2022-11-28T21:02:09.304Z"
   },
   {
    "duration": 17,
    "start_time": "2022-11-28T21:02:09.556Z"
   },
   {
    "duration": 29,
    "start_time": "2022-11-28T21:02:13.495Z"
   },
   {
    "duration": 21,
    "start_time": "2022-11-28T21:02:13.716Z"
   },
   {
    "duration": 24,
    "start_time": "2022-11-28T21:02:14.708Z"
   },
   {
    "duration": 19,
    "start_time": "2022-11-28T21:02:14.931Z"
   },
   {
    "duration": 24,
    "start_time": "2022-11-28T21:02:45.308Z"
   },
   {
    "duration": 18,
    "start_time": "2022-11-28T21:02:45.667Z"
   },
   {
    "duration": 2,
    "start_time": "2022-11-28T21:02:49.476Z"
   },
   {
    "duration": 49,
    "start_time": "2022-11-28T21:02:49.669Z"
   },
   {
    "duration": 22,
    "start_time": "2022-11-28T21:02:49.862Z"
   },
   {
    "duration": 13,
    "start_time": "2022-11-28T21:02:50.052Z"
   },
   {
    "duration": 5,
    "start_time": "2022-11-28T21:02:50.215Z"
   },
   {
    "duration": 176,
    "start_time": "2022-11-28T21:02:50.404Z"
   },
   {
    "duration": 3,
    "start_time": "2022-11-28T21:02:51.460Z"
   },
   {
    "duration": 21,
    "start_time": "2022-11-28T21:02:52.356Z"
   },
   {
    "duration": 12,
    "start_time": "2022-11-28T21:02:54.211Z"
   },
   {
    "duration": 10,
    "start_time": "2022-11-28T21:02:54.920Z"
   },
   {
    "duration": 21,
    "start_time": "2022-11-28T21:02:56.168Z"
   },
   {
    "duration": 5,
    "start_time": "2022-11-28T21:02:58.660Z"
   },
   {
    "duration": 21,
    "start_time": "2022-11-28T21:03:00.232Z"
   },
   {
    "duration": 17,
    "start_time": "2022-11-28T21:03:00.484Z"
   },
   {
    "duration": 3,
    "start_time": "2022-11-28T21:03:13.916Z"
   },
   {
    "duration": 54,
    "start_time": "2022-11-28T21:03:13.921Z"
   },
   {
    "duration": 21,
    "start_time": "2022-11-28T21:03:13.977Z"
   },
   {
    "duration": 16,
    "start_time": "2022-11-28T21:03:14.000Z"
   },
   {
    "duration": 4,
    "start_time": "2022-11-28T21:03:14.018Z"
   },
   {
    "duration": 181,
    "start_time": "2022-11-28T21:03:14.023Z"
   },
   {
    "duration": 4,
    "start_time": "2022-11-28T21:03:14.207Z"
   },
   {
    "duration": 33,
    "start_time": "2022-11-28T21:03:14.213Z"
   },
   {
    "duration": 13,
    "start_time": "2022-11-28T21:03:14.248Z"
   },
   {
    "duration": 10,
    "start_time": "2022-11-28T21:03:14.262Z"
   },
   {
    "duration": 23,
    "start_time": "2022-11-28T21:03:14.274Z"
   },
   {
    "duration": 39,
    "start_time": "2022-11-28T21:03:14.299Z"
   },
   {
    "duration": 5,
    "start_time": "2022-11-28T21:03:17.356Z"
   },
   {
    "duration": 19,
    "start_time": "2022-11-28T21:03:18.092Z"
   },
   {
    "duration": 17,
    "start_time": "2022-11-28T21:05:29.520Z"
   },
   {
    "duration": 55,
    "start_time": "2022-11-28T21:05:38.041Z"
   },
   {
    "duration": 35,
    "start_time": "2022-11-28T21:05:54.112Z"
   },
   {
    "duration": 9,
    "start_time": "2022-11-28T21:06:25.028Z"
   },
   {
    "duration": 28,
    "start_time": "2022-11-28T21:06:40.365Z"
   },
   {
    "duration": 30,
    "start_time": "2022-11-28T21:06:56.217Z"
   },
   {
    "duration": 7,
    "start_time": "2022-11-28T21:06:56.948Z"
   },
   {
    "duration": 21,
    "start_time": "2022-11-28T21:07:33.648Z"
   },
   {
    "duration": 14,
    "start_time": "2022-11-28T21:10:31.230Z"
   },
   {
    "duration": 13,
    "start_time": "2022-11-28T21:10:34.366Z"
   },
   {
    "duration": 16,
    "start_time": "2022-11-28T21:11:15.957Z"
   },
   {
    "duration": 6,
    "start_time": "2022-11-28T21:12:14.546Z"
   },
   {
    "duration": 17,
    "start_time": "2022-11-28T21:12:17.846Z"
   },
   {
    "duration": 10,
    "start_time": "2022-11-28T21:12:19.734Z"
   },
   {
    "duration": 437,
    "start_time": "2022-11-28T21:12:29.911Z"
   },
   {
    "duration": 53,
    "start_time": "2022-11-28T21:12:30.350Z"
   },
   {
    "duration": 28,
    "start_time": "2022-11-28T21:12:30.405Z"
   },
   {
    "duration": 30,
    "start_time": "2022-11-28T21:12:30.436Z"
   },
   {
    "duration": 10,
    "start_time": "2022-11-28T21:12:30.468Z"
   },
   {
    "duration": 479,
    "start_time": "2022-11-28T21:12:30.480Z"
   },
   {
    "duration": 4,
    "start_time": "2022-11-28T21:12:30.961Z"
   },
   {
    "duration": 42,
    "start_time": "2022-11-28T21:12:30.966Z"
   },
   {
    "duration": 25,
    "start_time": "2022-11-28T21:12:31.010Z"
   },
   {
    "duration": 23,
    "start_time": "2022-11-28T21:12:31.037Z"
   },
   {
    "duration": 45,
    "start_time": "2022-11-28T21:12:31.062Z"
   },
   {
    "duration": 18,
    "start_time": "2022-11-28T21:12:31.109Z"
   },
   {
    "duration": 23,
    "start_time": "2022-11-28T21:12:31.128Z"
   },
   {
    "duration": 5,
    "start_time": "2022-11-28T21:12:31.153Z"
   },
   {
    "duration": 24,
    "start_time": "2022-11-28T21:12:31.160Z"
   },
   {
    "duration": 21,
    "start_time": "2022-11-28T21:12:31.187Z"
   },
   {
    "duration": 8,
    "start_time": "2022-11-28T21:12:31.210Z"
   },
   {
    "duration": 20,
    "start_time": "2022-11-28T21:12:31.220Z"
   },
   {
    "duration": 6,
    "start_time": "2022-11-28T21:12:47.614Z"
   },
   {
    "duration": 31,
    "start_time": "2022-11-28T21:14:49.495Z"
   },
   {
    "duration": 13,
    "start_time": "2022-11-28T21:14:57.182Z"
   },
   {
    "duration": 10,
    "start_time": "2022-11-28T21:15:12.227Z"
   },
   {
    "duration": 20,
    "start_time": "2022-11-28T21:18:28.963Z"
   },
   {
    "duration": 10,
    "start_time": "2022-11-28T21:18:48.007Z"
   },
   {
    "duration": 11,
    "start_time": "2022-11-28T21:19:14.639Z"
   },
   {
    "duration": 10,
    "start_time": "2022-11-28T21:20:37.659Z"
   },
   {
    "duration": 7,
    "start_time": "2022-11-28T21:20:55.503Z"
   },
   {
    "duration": 8,
    "start_time": "2022-11-28T21:21:04.707Z"
   },
   {
    "duration": 9,
    "start_time": "2022-11-28T21:21:08.928Z"
   },
   {
    "duration": 10,
    "start_time": "2022-11-28T21:21:19.679Z"
   },
   {
    "duration": 21,
    "start_time": "2022-11-28T21:21:51.860Z"
   },
   {
    "duration": 437,
    "start_time": "2022-11-28T21:22:00.944Z"
   },
   {
    "duration": 56,
    "start_time": "2022-11-28T21:22:01.383Z"
   },
   {
    "duration": 28,
    "start_time": "2022-11-28T21:22:01.441Z"
   },
   {
    "duration": 34,
    "start_time": "2022-11-28T21:22:01.471Z"
   },
   {
    "duration": 20,
    "start_time": "2022-11-28T21:22:01.507Z"
   },
   {
    "duration": 470,
    "start_time": "2022-11-28T21:22:01.529Z"
   },
   {
    "duration": 4,
    "start_time": "2022-11-28T21:22:02.001Z"
   },
   {
    "duration": 35,
    "start_time": "2022-11-28T21:22:02.006Z"
   },
   {
    "duration": 15,
    "start_time": "2022-11-28T21:22:02.043Z"
   },
   {
    "duration": 14,
    "start_time": "2022-11-28T21:22:02.061Z"
   },
   {
    "duration": 21,
    "start_time": "2022-11-28T21:22:02.077Z"
   },
   {
    "duration": 6,
    "start_time": "2022-11-28T21:22:02.101Z"
   },
   {
    "duration": 55,
    "start_time": "2022-11-28T21:22:02.109Z"
   },
   {
    "duration": 6,
    "start_time": "2022-11-28T21:22:02.166Z"
   },
   {
    "duration": 15,
    "start_time": "2022-11-28T21:22:02.173Z"
   },
   {
    "duration": 7,
    "start_time": "2022-11-28T21:22:02.190Z"
   },
   {
    "duration": 9,
    "start_time": "2022-11-28T21:22:02.198Z"
   },
   {
    "duration": 35,
    "start_time": "2022-11-28T21:22:02.209Z"
   },
   {
    "duration": 18,
    "start_time": "2022-11-28T21:22:02.246Z"
   },
   {
    "duration": 9,
    "start_time": "2022-11-28T21:22:02.266Z"
   },
   {
    "duration": 10,
    "start_time": "2022-11-28T21:22:02.277Z"
   },
   {
    "duration": 76,
    "start_time": "2022-11-28T21:22:09.395Z"
   },
   {
    "duration": 7,
    "start_time": "2022-11-28T21:22:12.599Z"
   },
   {
    "duration": 8,
    "start_time": "2022-11-28T21:22:19.511Z"
   },
   {
    "duration": 16,
    "start_time": "2022-11-28T21:22:30.872Z"
   },
   {
    "duration": 370,
    "start_time": "2022-11-28T21:23:35.865Z"
   },
   {
    "duration": 52,
    "start_time": "2022-11-28T21:23:36.237Z"
   },
   {
    "duration": 25,
    "start_time": "2022-11-28T21:23:36.291Z"
   },
   {
    "duration": 36,
    "start_time": "2022-11-28T21:23:36.318Z"
   },
   {
    "duration": 4,
    "start_time": "2022-11-28T21:23:36.356Z"
   },
   {
    "duration": 418,
    "start_time": "2022-11-28T21:23:36.361Z"
   },
   {
    "duration": 4,
    "start_time": "2022-11-28T21:23:36.781Z"
   },
   {
    "duration": 32,
    "start_time": "2022-11-28T21:23:36.787Z"
   },
   {
    "duration": 17,
    "start_time": "2022-11-28T21:23:36.838Z"
   },
   {
    "duration": 28,
    "start_time": "2022-11-28T21:23:36.857Z"
   },
   {
    "duration": 31,
    "start_time": "2022-11-28T21:23:36.887Z"
   },
   {
    "duration": 20,
    "start_time": "2022-11-28T21:23:36.919Z"
   },
   {
    "duration": 28,
    "start_time": "2022-11-28T21:23:36.941Z"
   },
   {
    "duration": 19,
    "start_time": "2022-11-28T21:23:36.971Z"
   },
   {
    "duration": 25,
    "start_time": "2022-11-28T21:23:36.992Z"
   },
   {
    "duration": 25,
    "start_time": "2022-11-28T21:23:37.020Z"
   },
   {
    "duration": 14,
    "start_time": "2022-11-28T21:23:37.047Z"
   },
   {
    "duration": 21,
    "start_time": "2022-11-28T21:23:37.063Z"
   },
   {
    "duration": 16,
    "start_time": "2022-11-28T21:23:37.086Z"
   },
   {
    "duration": 11,
    "start_time": "2022-11-28T21:23:37.103Z"
   },
   {
    "duration": 26,
    "start_time": "2022-11-28T21:23:37.115Z"
   },
   {
    "duration": 5,
    "start_time": "2022-11-28T21:23:48.716Z"
   },
   {
    "duration": 46,
    "start_time": "2022-11-29T11:16:24.106Z"
   },
   {
    "duration": 404,
    "start_time": "2022-11-29T11:16:28.814Z"
   },
   {
    "duration": 178,
    "start_time": "2022-11-29T11:16:29.220Z"
   },
   {
    "duration": 28,
    "start_time": "2022-11-29T11:16:29.400Z"
   },
   {
    "duration": 15,
    "start_time": "2022-11-29T11:16:29.430Z"
   },
   {
    "duration": 4,
    "start_time": "2022-11-29T11:16:29.446Z"
   },
   {
    "duration": 600,
    "start_time": "2022-11-29T11:16:29.451Z"
   },
   {
    "duration": 4,
    "start_time": "2022-11-29T11:16:30.053Z"
   },
   {
    "duration": 31,
    "start_time": "2022-11-29T11:16:30.059Z"
   },
   {
    "duration": 25,
    "start_time": "2022-11-29T11:16:30.092Z"
   },
   {
    "duration": 24,
    "start_time": "2022-11-29T11:16:30.120Z"
   },
   {
    "duration": 29,
    "start_time": "2022-11-29T11:16:30.146Z"
   },
   {
    "duration": 21,
    "start_time": "2022-11-29T11:16:30.176Z"
   },
   {
    "duration": 21,
    "start_time": "2022-11-29T11:16:30.199Z"
   },
   {
    "duration": 5,
    "start_time": "2022-11-29T11:16:30.221Z"
   },
   {
    "duration": 32,
    "start_time": "2022-11-29T11:16:30.228Z"
   },
   {
    "duration": 27,
    "start_time": "2022-11-29T11:16:30.263Z"
   },
   {
    "duration": 54,
    "start_time": "2022-11-29T11:16:30.293Z"
   },
   {
    "duration": 35,
    "start_time": "2022-11-29T11:16:30.349Z"
   },
   {
    "duration": 30,
    "start_time": "2022-11-29T11:16:30.387Z"
   },
   {
    "duration": 13,
    "start_time": "2022-11-29T11:16:30.421Z"
   },
   {
    "duration": 23,
    "start_time": "2022-11-29T11:16:30.436Z"
   },
   {
    "duration": 178,
    "start_time": "2022-11-29T11:16:30.461Z"
   },
   {
    "duration": 127,
    "start_time": "2022-11-29T11:16:41.982Z"
   },
   {
    "duration": 131,
    "start_time": "2022-11-29T11:16:53.534Z"
   },
   {
    "duration": 328,
    "start_time": "2022-11-29T11:17:00.085Z"
   },
   {
    "duration": 179,
    "start_time": "2022-11-29T11:17:13.558Z"
   },
   {
    "duration": 150,
    "start_time": "2022-11-29T11:17:19.686Z"
   },
   {
    "duration": 142,
    "start_time": "2022-11-29T11:17:23.342Z"
   },
   {
    "duration": 165,
    "start_time": "2022-11-29T11:17:29.730Z"
   },
   {
    "duration": 6,
    "start_time": "2022-11-29T11:18:38.113Z"
   },
   {
    "duration": 17,
    "start_time": "2022-11-29T11:18:49.657Z"
   },
   {
    "duration": 6,
    "start_time": "2022-11-29T11:18:53.674Z"
   },
   {
    "duration": 18,
    "start_time": "2022-11-29T11:18:53.990Z"
   },
   {
    "duration": 6,
    "start_time": "2022-11-29T11:19:39.169Z"
   },
   {
    "duration": 5,
    "start_time": "2022-11-29T11:19:44.594Z"
   },
   {
    "duration": 5,
    "start_time": "2022-11-29T11:20:13.903Z"
   },
   {
    "duration": 14,
    "start_time": "2022-11-29T11:20:26.310Z"
   },
   {
    "duration": 13,
    "start_time": "2022-11-29T11:21:19.503Z"
   },
   {
    "duration": 10,
    "start_time": "2022-11-29T11:21:33.442Z"
   },
   {
    "duration": 15,
    "start_time": "2022-11-29T11:23:37.679Z"
   },
   {
    "duration": 15,
    "start_time": "2022-11-29T11:23:43.611Z"
   },
   {
    "duration": 14,
    "start_time": "2022-11-29T11:24:55.192Z"
   },
   {
    "duration": 17,
    "start_time": "2022-11-29T11:25:14.583Z"
   },
   {
    "duration": 9,
    "start_time": "2022-11-29T11:25:17.339Z"
   },
   {
    "duration": 7,
    "start_time": "2022-11-29T11:25:17.828Z"
   },
   {
    "duration": 6,
    "start_time": "2022-11-29T11:25:18.495Z"
   },
   {
    "duration": 80,
    "start_time": "2022-11-29T11:25:19.071Z"
   },
   {
    "duration": 413,
    "start_time": "2022-11-29T11:25:31.388Z"
   },
   {
    "duration": 53,
    "start_time": "2022-11-29T11:25:31.803Z"
   },
   {
    "duration": 27,
    "start_time": "2022-11-29T11:25:31.857Z"
   },
   {
    "duration": 14,
    "start_time": "2022-11-29T11:25:31.885Z"
   },
   {
    "duration": 4,
    "start_time": "2022-11-29T11:25:31.902Z"
   },
   {
    "duration": 439,
    "start_time": "2022-11-29T11:25:31.913Z"
   },
   {
    "duration": 3,
    "start_time": "2022-11-29T11:25:32.354Z"
   },
   {
    "duration": 26,
    "start_time": "2022-11-29T11:25:32.359Z"
   },
   {
    "duration": 11,
    "start_time": "2022-11-29T11:25:32.388Z"
   },
   {
    "duration": 14,
    "start_time": "2022-11-29T11:25:32.413Z"
   },
   {
    "duration": 29,
    "start_time": "2022-11-29T11:25:32.430Z"
   },
   {
    "duration": 5,
    "start_time": "2022-11-29T11:25:32.461Z"
   },
   {
    "duration": 22,
    "start_time": "2022-11-29T11:25:32.467Z"
   },
   {
    "duration": 25,
    "start_time": "2022-11-29T11:25:32.491Z"
   },
   {
    "duration": 18,
    "start_time": "2022-11-29T11:25:32.518Z"
   },
   {
    "duration": 8,
    "start_time": "2022-11-29T11:25:32.538Z"
   },
   {
    "duration": 7,
    "start_time": "2022-11-29T11:25:32.548Z"
   },
   {
    "duration": 19,
    "start_time": "2022-11-29T11:25:32.558Z"
   },
   {
    "duration": 55,
    "start_time": "2022-11-29T11:25:32.579Z"
   },
   {
    "duration": 13,
    "start_time": "2022-11-29T11:25:32.637Z"
   },
   {
    "duration": 5,
    "start_time": "2022-11-29T11:25:32.652Z"
   },
   {
    "duration": 6,
    "start_time": "2022-11-29T11:25:32.659Z"
   },
   {
    "duration": 98,
    "start_time": "2022-11-29T11:25:32.667Z"
   },
   {
    "duration": 17,
    "start_time": "2022-11-29T11:25:44.140Z"
   },
   {
    "duration": 13,
    "start_time": "2022-11-29T11:25:47.755Z"
   },
   {
    "duration": 6,
    "start_time": "2022-11-29T11:26:22.116Z"
   },
   {
    "duration": 16,
    "start_time": "2022-11-29T11:26:24.048Z"
   },
   {
    "duration": 404,
    "start_time": "2022-11-29T11:29:20.515Z"
   },
   {
    "duration": 53,
    "start_time": "2022-11-29T11:29:20.921Z"
   },
   {
    "duration": 25,
    "start_time": "2022-11-29T11:29:20.976Z"
   },
   {
    "duration": 13,
    "start_time": "2022-11-29T11:29:21.003Z"
   },
   {
    "duration": 4,
    "start_time": "2022-11-29T11:29:21.018Z"
   },
   {
    "duration": 406,
    "start_time": "2022-11-29T11:29:21.023Z"
   },
   {
    "duration": 3,
    "start_time": "2022-11-29T11:29:21.431Z"
   },
   {
    "duration": 33,
    "start_time": "2022-11-29T11:29:21.435Z"
   },
   {
    "duration": 10,
    "start_time": "2022-11-29T11:29:21.470Z"
   },
   {
    "duration": 21,
    "start_time": "2022-11-29T11:29:21.482Z"
   },
   {
    "duration": 27,
    "start_time": "2022-11-29T11:29:21.505Z"
   },
   {
    "duration": 4,
    "start_time": "2022-11-29T11:29:21.534Z"
   },
   {
    "duration": 22,
    "start_time": "2022-11-29T11:29:21.540Z"
   },
   {
    "duration": 4,
    "start_time": "2022-11-29T11:29:21.564Z"
   },
   {
    "duration": 18,
    "start_time": "2022-11-29T11:29:21.570Z"
   },
   {
    "duration": 7,
    "start_time": "2022-11-29T11:29:21.590Z"
   },
   {
    "duration": 14,
    "start_time": "2022-11-29T11:29:21.599Z"
   },
   {
    "duration": 18,
    "start_time": "2022-11-29T11:29:21.615Z"
   },
   {
    "duration": 17,
    "start_time": "2022-11-29T11:29:21.635Z"
   },
   {
    "duration": 9,
    "start_time": "2022-11-29T11:29:21.654Z"
   },
   {
    "duration": 5,
    "start_time": "2022-11-29T11:29:21.665Z"
   },
   {
    "duration": 5,
    "start_time": "2022-11-29T11:29:21.671Z"
   },
   {
    "duration": 4,
    "start_time": "2022-11-29T11:29:21.678Z"
   },
   {
    "duration": 14,
    "start_time": "2022-11-29T11:29:21.713Z"
   },
   {
    "duration": 409,
    "start_time": "2022-11-29T11:30:23.488Z"
   },
   {
    "duration": 50,
    "start_time": "2022-11-29T11:30:23.899Z"
   },
   {
    "duration": 26,
    "start_time": "2022-11-29T11:30:23.951Z"
   },
   {
    "duration": 25,
    "start_time": "2022-11-29T11:30:23.979Z"
   },
   {
    "duration": 27,
    "start_time": "2022-11-29T11:30:24.006Z"
   },
   {
    "duration": 430,
    "start_time": "2022-11-29T11:30:24.034Z"
   },
   {
    "duration": 4,
    "start_time": "2022-11-29T11:30:24.465Z"
   },
   {
    "duration": 39,
    "start_time": "2022-11-29T11:30:24.470Z"
   },
   {
    "duration": 34,
    "start_time": "2022-11-29T11:30:24.511Z"
   },
   {
    "duration": 36,
    "start_time": "2022-11-29T11:30:24.547Z"
   },
   {
    "duration": 42,
    "start_time": "2022-11-29T11:30:24.584Z"
   },
   {
    "duration": 22,
    "start_time": "2022-11-29T11:30:24.628Z"
   },
   {
    "duration": 56,
    "start_time": "2022-11-29T11:30:24.652Z"
   },
   {
    "duration": 41,
    "start_time": "2022-11-29T11:30:24.711Z"
   },
   {
    "duration": 25,
    "start_time": "2022-11-29T11:30:24.753Z"
   },
   {
    "duration": 32,
    "start_time": "2022-11-29T11:30:24.780Z"
   },
   {
    "duration": 28,
    "start_time": "2022-11-29T11:30:24.814Z"
   },
   {
    "duration": 31,
    "start_time": "2022-11-29T11:30:24.844Z"
   },
   {
    "duration": 25,
    "start_time": "2022-11-29T11:30:24.877Z"
   },
   {
    "duration": 15,
    "start_time": "2022-11-29T11:30:24.904Z"
   },
   {
    "duration": 28,
    "start_time": "2022-11-29T11:30:24.921Z"
   },
   {
    "duration": 29,
    "start_time": "2022-11-29T11:30:24.950Z"
   },
   {
    "duration": 101,
    "start_time": "2022-11-29T11:30:24.981Z"
   },
   {
    "duration": 0,
    "start_time": "2022-11-29T11:30:25.084Z"
   },
   {
    "duration": 10,
    "start_time": "2022-11-29T11:30:57.472Z"
   },
   {
    "duration": 406,
    "start_time": "2022-11-29T11:31:11.096Z"
   },
   {
    "duration": 50,
    "start_time": "2022-11-29T11:31:11.505Z"
   },
   {
    "duration": 31,
    "start_time": "2022-11-29T11:31:11.557Z"
   },
   {
    "duration": 13,
    "start_time": "2022-11-29T11:31:11.590Z"
   },
   {
    "duration": 4,
    "start_time": "2022-11-29T11:31:11.605Z"
   },
   {
    "duration": 395,
    "start_time": "2022-11-29T11:31:11.610Z"
   },
   {
    "duration": 6,
    "start_time": "2022-11-29T11:31:12.007Z"
   },
   {
    "duration": 22,
    "start_time": "2022-11-29T11:31:12.014Z"
   },
   {
    "duration": 11,
    "start_time": "2022-11-29T11:31:12.038Z"
   },
   {
    "duration": 12,
    "start_time": "2022-11-29T11:31:12.052Z"
   },
   {
    "duration": 22,
    "start_time": "2022-11-29T11:31:12.066Z"
   },
   {
    "duration": 5,
    "start_time": "2022-11-29T11:31:12.113Z"
   },
   {
    "duration": 17,
    "start_time": "2022-11-29T11:31:12.120Z"
   },
   {
    "duration": 5,
    "start_time": "2022-11-29T11:31:12.139Z"
   },
   {
    "duration": 10,
    "start_time": "2022-11-29T11:31:12.146Z"
   },
   {
    "duration": 6,
    "start_time": "2022-11-29T11:31:12.158Z"
   },
   {
    "duration": 8,
    "start_time": "2022-11-29T11:31:12.166Z"
   },
   {
    "duration": 50,
    "start_time": "2022-11-29T11:31:12.176Z"
   },
   {
    "duration": 14,
    "start_time": "2022-11-29T11:31:12.228Z"
   },
   {
    "duration": 8,
    "start_time": "2022-11-29T11:31:12.244Z"
   },
   {
    "duration": 5,
    "start_time": "2022-11-29T11:31:12.254Z"
   },
   {
    "duration": 9,
    "start_time": "2022-11-29T11:31:12.261Z"
   },
   {
    "duration": 13,
    "start_time": "2022-11-29T11:31:12.272Z"
   },
   {
    "duration": 67,
    "start_time": "2022-11-29T11:31:12.313Z"
   },
   {
    "duration": 6,
    "start_time": "2022-11-29T11:32:08.732Z"
   },
   {
    "duration": 374,
    "start_time": "2022-11-29T11:32:13.440Z"
   },
   {
    "duration": 56,
    "start_time": "2022-11-29T11:32:13.816Z"
   },
   {
    "duration": 28,
    "start_time": "2022-11-29T11:32:13.873Z"
   },
   {
    "duration": 14,
    "start_time": "2022-11-29T11:32:13.903Z"
   },
   {
    "duration": 4,
    "start_time": "2022-11-29T11:32:13.920Z"
   },
   {
    "duration": 414,
    "start_time": "2022-11-29T11:32:13.926Z"
   },
   {
    "duration": 4,
    "start_time": "2022-11-29T11:32:14.342Z"
   },
   {
    "duration": 25,
    "start_time": "2022-11-29T11:32:14.348Z"
   },
   {
    "duration": 11,
    "start_time": "2022-11-29T11:32:14.375Z"
   },
   {
    "duration": 39,
    "start_time": "2022-11-29T11:32:14.387Z"
   },
   {
    "duration": 34,
    "start_time": "2022-11-29T11:32:14.428Z"
   },
   {
    "duration": 6,
    "start_time": "2022-11-29T11:32:14.464Z"
   },
   {
    "duration": 21,
    "start_time": "2022-11-29T11:32:14.471Z"
   },
   {
    "duration": 21,
    "start_time": "2022-11-29T11:32:14.495Z"
   },
   {
    "duration": 13,
    "start_time": "2022-11-29T11:32:14.517Z"
   },
   {
    "duration": 6,
    "start_time": "2022-11-29T11:32:14.532Z"
   },
   {
    "duration": 5,
    "start_time": "2022-11-29T11:32:14.540Z"
   },
   {
    "duration": 14,
    "start_time": "2022-11-29T11:32:14.546Z"
   },
   {
    "duration": 17,
    "start_time": "2022-11-29T11:32:14.561Z"
   },
   {
    "duration": 11,
    "start_time": "2022-11-29T11:32:14.612Z"
   },
   {
    "duration": 7,
    "start_time": "2022-11-29T11:32:14.625Z"
   },
   {
    "duration": 5,
    "start_time": "2022-11-29T11:32:14.633Z"
   },
   {
    "duration": 6,
    "start_time": "2022-11-29T11:32:14.640Z"
   },
   {
    "duration": 106,
    "start_time": "2022-11-29T11:32:14.648Z"
   },
   {
    "duration": 7,
    "start_time": "2022-11-29T11:32:33.296Z"
   },
   {
    "duration": 402,
    "start_time": "2022-11-29T11:32:42.192Z"
   },
   {
    "duration": 56,
    "start_time": "2022-11-29T11:32:42.596Z"
   },
   {
    "duration": 27,
    "start_time": "2022-11-29T11:32:42.654Z"
   },
   {
    "duration": 15,
    "start_time": "2022-11-29T11:32:42.682Z"
   },
   {
    "duration": 4,
    "start_time": "2022-11-29T11:32:42.699Z"
   },
   {
    "duration": 443,
    "start_time": "2022-11-29T11:32:42.704Z"
   },
   {
    "duration": 4,
    "start_time": "2022-11-29T11:32:43.149Z"
   },
   {
    "duration": 26,
    "start_time": "2022-11-29T11:32:43.154Z"
   },
   {
    "duration": 12,
    "start_time": "2022-11-29T11:32:43.182Z"
   },
   {
    "duration": 22,
    "start_time": "2022-11-29T11:32:43.195Z"
   },
   {
    "duration": 22,
    "start_time": "2022-11-29T11:32:43.221Z"
   },
   {
    "duration": 7,
    "start_time": "2022-11-29T11:32:43.244Z"
   },
   {
    "duration": 17,
    "start_time": "2022-11-29T11:32:43.252Z"
   },
   {
    "duration": 4,
    "start_time": "2022-11-29T11:32:43.272Z"
   },
   {
    "duration": 39,
    "start_time": "2022-11-29T11:32:43.278Z"
   },
   {
    "duration": 9,
    "start_time": "2022-11-29T11:32:43.319Z"
   },
   {
    "duration": 6,
    "start_time": "2022-11-29T11:32:43.330Z"
   },
   {
    "duration": 12,
    "start_time": "2022-11-29T11:32:43.337Z"
   },
   {
    "duration": 14,
    "start_time": "2022-11-29T11:32:43.351Z"
   },
   {
    "duration": 8,
    "start_time": "2022-11-29T11:32:43.367Z"
   },
   {
    "duration": 38,
    "start_time": "2022-11-29T11:32:43.377Z"
   },
   {
    "duration": 9,
    "start_time": "2022-11-29T11:32:43.417Z"
   },
   {
    "duration": 9,
    "start_time": "2022-11-29T11:32:43.428Z"
   },
   {
    "duration": 90,
    "start_time": "2022-11-29T11:32:43.438Z"
   },
   {
    "duration": 6,
    "start_time": "2022-11-29T11:32:53.385Z"
   },
   {
    "duration": 6,
    "start_time": "2022-11-29T11:34:24.137Z"
   },
   {
    "duration": 5,
    "start_time": "2022-11-29T11:34:32.561Z"
   },
   {
    "duration": 15,
    "start_time": "2022-11-29T11:39:25.330Z"
   },
   {
    "duration": 377,
    "start_time": "2022-11-29T11:39:34.241Z"
   },
   {
    "duration": 57,
    "start_time": "2022-11-29T11:39:34.621Z"
   },
   {
    "duration": 33,
    "start_time": "2022-11-29T11:39:34.683Z"
   },
   {
    "duration": 15,
    "start_time": "2022-11-29T11:39:34.720Z"
   },
   {
    "duration": 5,
    "start_time": "2022-11-29T11:39:34.737Z"
   },
   {
    "duration": 430,
    "start_time": "2022-11-29T11:39:34.743Z"
   },
   {
    "duration": 3,
    "start_time": "2022-11-29T11:39:35.175Z"
   },
   {
    "duration": 36,
    "start_time": "2022-11-29T11:39:35.180Z"
   },
   {
    "duration": 23,
    "start_time": "2022-11-29T11:39:35.218Z"
   },
   {
    "duration": 19,
    "start_time": "2022-11-29T11:39:35.243Z"
   },
   {
    "duration": 25,
    "start_time": "2022-11-29T11:39:35.264Z"
   },
   {
    "duration": 17,
    "start_time": "2022-11-29T11:39:35.291Z"
   },
   {
    "duration": 33,
    "start_time": "2022-11-29T11:39:35.310Z"
   },
   {
    "duration": 4,
    "start_time": "2022-11-29T11:39:35.345Z"
   },
   {
    "duration": 15,
    "start_time": "2022-11-29T11:39:35.351Z"
   },
   {
    "duration": 13,
    "start_time": "2022-11-29T11:39:35.368Z"
   },
   {
    "duration": 9,
    "start_time": "2022-11-29T11:39:35.383Z"
   },
   {
    "duration": 14,
    "start_time": "2022-11-29T11:39:35.394Z"
   },
   {
    "duration": 18,
    "start_time": "2022-11-29T11:39:35.412Z"
   },
   {
    "duration": 9,
    "start_time": "2022-11-29T11:39:35.431Z"
   },
   {
    "duration": 6,
    "start_time": "2022-11-29T11:39:35.442Z"
   },
   {
    "duration": 6,
    "start_time": "2022-11-29T11:39:35.449Z"
   },
   {
    "duration": 95,
    "start_time": "2022-11-29T11:39:35.456Z"
   },
   {
    "duration": 0,
    "start_time": "2022-11-29T11:39:35.552Z"
   },
   {
    "duration": 5,
    "start_time": "2022-11-29T11:41:48.338Z"
   },
   {
    "duration": 6,
    "start_time": "2022-11-29T11:42:08.806Z"
   },
   {
    "duration": 8,
    "start_time": "2022-11-29T11:42:23.262Z"
   },
   {
    "duration": 363,
    "start_time": "2022-11-29T11:42:43.067Z"
   },
   {
    "duration": 52,
    "start_time": "2022-11-29T11:42:43.432Z"
   },
   {
    "duration": 28,
    "start_time": "2022-11-29T11:42:43.486Z"
   },
   {
    "duration": 16,
    "start_time": "2022-11-29T11:42:43.516Z"
   },
   {
    "duration": 4,
    "start_time": "2022-11-29T11:42:43.534Z"
   },
   {
    "duration": 422,
    "start_time": "2022-11-29T11:42:43.539Z"
   },
   {
    "duration": 4,
    "start_time": "2022-11-29T11:42:43.963Z"
   },
   {
    "duration": 25,
    "start_time": "2022-11-29T11:42:43.969Z"
   },
   {
    "duration": 23,
    "start_time": "2022-11-29T11:42:43.996Z"
   },
   {
    "duration": 17,
    "start_time": "2022-11-29T11:42:44.023Z"
   },
   {
    "duration": 31,
    "start_time": "2022-11-29T11:42:44.042Z"
   },
   {
    "duration": 5,
    "start_time": "2022-11-29T11:42:44.075Z"
   },
   {
    "duration": 47,
    "start_time": "2022-11-29T11:42:44.082Z"
   },
   {
    "duration": 5,
    "start_time": "2022-11-29T11:42:44.133Z"
   },
   {
    "duration": 16,
    "start_time": "2022-11-29T11:42:44.140Z"
   },
   {
    "duration": 9,
    "start_time": "2022-11-29T11:42:44.158Z"
   },
   {
    "duration": 9,
    "start_time": "2022-11-29T11:42:44.169Z"
   },
   {
    "duration": 33,
    "start_time": "2022-11-29T11:42:44.180Z"
   },
   {
    "duration": 19,
    "start_time": "2022-11-29T11:42:44.215Z"
   },
   {
    "duration": 11,
    "start_time": "2022-11-29T11:42:44.236Z"
   },
   {
    "duration": 13,
    "start_time": "2022-11-29T11:42:44.249Z"
   },
   {
    "duration": 8,
    "start_time": "2022-11-29T11:42:44.264Z"
   },
   {
    "duration": 13,
    "start_time": "2022-11-29T11:42:44.273Z"
   },
   {
    "duration": 74,
    "start_time": "2022-11-29T11:42:44.313Z"
   },
   {
    "duration": 78,
    "start_time": "2022-11-29T11:43:57.207Z"
   },
   {
    "duration": 7,
    "start_time": "2022-11-29T11:44:00.664Z"
   },
   {
    "duration": 6,
    "start_time": "2022-11-29T11:44:06.400Z"
   },
   {
    "duration": 377,
    "start_time": "2022-11-29T11:44:16.139Z"
   },
   {
    "duration": 54,
    "start_time": "2022-11-29T11:44:16.517Z"
   },
   {
    "duration": 29,
    "start_time": "2022-11-29T11:44:16.573Z"
   },
   {
    "duration": 17,
    "start_time": "2022-11-29T11:44:16.604Z"
   },
   {
    "duration": 5,
    "start_time": "2022-11-29T11:44:16.624Z"
   },
   {
    "duration": 430,
    "start_time": "2022-11-29T11:44:16.631Z"
   },
   {
    "duration": 3,
    "start_time": "2022-11-29T11:44:17.063Z"
   },
   {
    "duration": 38,
    "start_time": "2022-11-29T11:44:17.068Z"
   },
   {
    "duration": 20,
    "start_time": "2022-11-29T11:44:17.108Z"
   },
   {
    "duration": 12,
    "start_time": "2022-11-29T11:44:17.130Z"
   },
   {
    "duration": 22,
    "start_time": "2022-11-29T11:44:17.144Z"
   },
   {
    "duration": 5,
    "start_time": "2022-11-29T11:44:17.168Z"
   },
   {
    "duration": 39,
    "start_time": "2022-11-29T11:44:17.174Z"
   },
   {
    "duration": 5,
    "start_time": "2022-11-29T11:44:17.216Z"
   },
   {
    "duration": 16,
    "start_time": "2022-11-29T11:44:17.222Z"
   },
   {
    "duration": 8,
    "start_time": "2022-11-29T11:44:17.240Z"
   },
   {
    "duration": 7,
    "start_time": "2022-11-29T11:44:17.250Z"
   },
   {
    "duration": 17,
    "start_time": "2022-11-29T11:44:17.258Z"
   },
   {
    "duration": 36,
    "start_time": "2022-11-29T11:44:17.277Z"
   },
   {
    "duration": 10,
    "start_time": "2022-11-29T11:44:17.314Z"
   },
   {
    "duration": 8,
    "start_time": "2022-11-29T11:44:17.325Z"
   },
   {
    "duration": 9,
    "start_time": "2022-11-29T11:44:17.335Z"
   },
   {
    "duration": 16,
    "start_time": "2022-11-29T11:44:17.346Z"
   },
   {
    "duration": 86,
    "start_time": "2022-11-29T11:44:17.364Z"
   },
   {
    "duration": 5,
    "start_time": "2022-11-29T11:47:21.676Z"
   },
   {
    "duration": 6,
    "start_time": "2022-11-29T11:49:02.644Z"
   },
   {
    "duration": 342,
    "start_time": "2022-11-29T11:49:37.468Z"
   },
   {
    "duration": 49,
    "start_time": "2022-11-29T11:49:37.813Z"
   },
   {
    "duration": 26,
    "start_time": "2022-11-29T11:49:37.864Z"
   },
   {
    "duration": 14,
    "start_time": "2022-11-29T11:49:37.892Z"
   },
   {
    "duration": 4,
    "start_time": "2022-11-29T11:49:37.909Z"
   },
   {
    "duration": 404,
    "start_time": "2022-11-29T11:49:37.915Z"
   },
   {
    "duration": 4,
    "start_time": "2022-11-29T11:49:38.321Z"
   },
   {
    "duration": 22,
    "start_time": "2022-11-29T11:49:38.326Z"
   },
   {
    "duration": 10,
    "start_time": "2022-11-29T11:49:38.350Z"
   },
   {
    "duration": 12,
    "start_time": "2022-11-29T11:49:38.362Z"
   },
   {
    "duration": 46,
    "start_time": "2022-11-29T11:49:38.375Z"
   },
   {
    "duration": 4,
    "start_time": "2022-11-29T11:49:38.423Z"
   },
   {
    "duration": 17,
    "start_time": "2022-11-29T11:49:38.429Z"
   },
   {
    "duration": 6,
    "start_time": "2022-11-29T11:49:38.449Z"
   },
   {
    "duration": 16,
    "start_time": "2022-11-29T11:49:38.456Z"
   },
   {
    "duration": 6,
    "start_time": "2022-11-29T11:49:38.475Z"
   },
   {
    "duration": 33,
    "start_time": "2022-11-29T11:49:38.483Z"
   },
   {
    "duration": 14,
    "start_time": "2022-11-29T11:49:38.518Z"
   },
   {
    "duration": 15,
    "start_time": "2022-11-29T11:49:38.534Z"
   },
   {
    "duration": 9,
    "start_time": "2022-11-29T11:49:38.550Z"
   },
   {
    "duration": 6,
    "start_time": "2022-11-29T11:49:38.561Z"
   },
   {
    "duration": 6,
    "start_time": "2022-11-29T11:49:38.569Z"
   },
   {
    "duration": 1118,
    "start_time": "2022-11-29T11:49:38.576Z"
   },
   {
    "duration": 0,
    "start_time": "2022-11-29T11:49:39.695Z"
   },
   {
    "duration": 7,
    "start_time": "2022-11-29T11:50:06.009Z"
   },
   {
    "duration": 16,
    "start_time": "2022-11-29T11:50:48.389Z"
   },
   {
    "duration": 11,
    "start_time": "2022-11-29T11:51:06.720Z"
   },
   {
    "duration": 17,
    "start_time": "2022-11-29T11:51:20.049Z"
   },
   {
    "duration": 10,
    "start_time": "2022-11-29T11:51:26.901Z"
   },
   {
    "duration": 371,
    "start_time": "2022-11-29T11:51:31.545Z"
   },
   {
    "duration": 52,
    "start_time": "2022-11-29T11:51:31.918Z"
   },
   {
    "duration": 27,
    "start_time": "2022-11-29T11:51:31.974Z"
   },
   {
    "duration": 14,
    "start_time": "2022-11-29T11:51:32.003Z"
   },
   {
    "duration": 5,
    "start_time": "2022-11-29T11:51:32.018Z"
   },
   {
    "duration": 429,
    "start_time": "2022-11-29T11:51:32.025Z"
   },
   {
    "duration": 3,
    "start_time": "2022-11-29T11:51:32.456Z"
   },
   {
    "duration": 25,
    "start_time": "2022-11-29T11:51:32.461Z"
   },
   {
    "duration": 12,
    "start_time": "2022-11-29T11:51:32.488Z"
   },
   {
    "duration": 14,
    "start_time": "2022-11-29T11:51:32.513Z"
   },
   {
    "duration": 22,
    "start_time": "2022-11-29T11:51:32.528Z"
   },
   {
    "duration": 6,
    "start_time": "2022-11-29T11:51:32.552Z"
   },
   {
    "duration": 17,
    "start_time": "2022-11-29T11:51:32.561Z"
   },
   {
    "duration": 4,
    "start_time": "2022-11-29T11:51:32.580Z"
   },
   {
    "duration": 8,
    "start_time": "2022-11-29T11:51:32.614Z"
   },
   {
    "duration": 5,
    "start_time": "2022-11-29T11:51:32.624Z"
   },
   {
    "duration": 7,
    "start_time": "2022-11-29T11:51:32.631Z"
   },
   {
    "duration": 13,
    "start_time": "2022-11-29T11:51:32.640Z"
   },
   {
    "duration": 15,
    "start_time": "2022-11-29T11:51:32.655Z"
   },
   {
    "duration": 8,
    "start_time": "2022-11-29T11:51:32.672Z"
   },
   {
    "duration": 6,
    "start_time": "2022-11-29T11:51:32.714Z"
   },
   {
    "duration": 15,
    "start_time": "2022-11-29T11:51:32.721Z"
   },
   {
    "duration": 16,
    "start_time": "2022-11-29T11:51:32.738Z"
   },
   {
    "duration": 83,
    "start_time": "2022-11-29T11:51:32.755Z"
   },
   {
    "duration": 0,
    "start_time": "2022-11-29T11:51:32.839Z"
   },
   {
    "duration": 348,
    "start_time": "2022-11-29T11:51:59.061Z"
   },
   {
    "duration": 50,
    "start_time": "2022-11-29T11:51:59.410Z"
   },
   {
    "duration": 25,
    "start_time": "2022-11-29T11:51:59.462Z"
   },
   {
    "duration": 15,
    "start_time": "2022-11-29T11:51:59.489Z"
   },
   {
    "duration": 4,
    "start_time": "2022-11-29T11:51:59.506Z"
   },
   {
    "duration": 415,
    "start_time": "2022-11-29T11:51:59.511Z"
   },
   {
    "duration": 3,
    "start_time": "2022-11-29T11:51:59.928Z"
   },
   {
    "duration": 26,
    "start_time": "2022-11-29T11:51:59.932Z"
   },
   {
    "duration": 14,
    "start_time": "2022-11-29T11:51:59.960Z"
   },
   {
    "duration": 13,
    "start_time": "2022-11-29T11:51:59.976Z"
   },
   {
    "duration": 38,
    "start_time": "2022-11-29T11:51:59.990Z"
   },
   {
    "duration": 5,
    "start_time": "2022-11-29T11:52:00.030Z"
   },
   {
    "duration": 20,
    "start_time": "2022-11-29T11:52:00.037Z"
   },
   {
    "duration": 5,
    "start_time": "2022-11-29T11:52:00.060Z"
   },
   {
    "duration": 13,
    "start_time": "2022-11-29T11:52:00.067Z"
   },
   {
    "duration": 36,
    "start_time": "2022-11-29T11:52:00.082Z"
   },
   {
    "duration": 17,
    "start_time": "2022-11-29T11:52:00.120Z"
   },
   {
    "duration": 31,
    "start_time": "2022-11-29T11:52:00.138Z"
   },
   {
    "duration": 42,
    "start_time": "2022-11-29T11:52:00.170Z"
   },
   {
    "duration": 24,
    "start_time": "2022-11-29T11:52:00.214Z"
   },
   {
    "duration": 25,
    "start_time": "2022-11-29T11:52:00.240Z"
   },
   {
    "duration": 39,
    "start_time": "2022-11-29T11:52:00.267Z"
   },
   {
    "duration": 99,
    "start_time": "2022-11-29T11:52:00.307Z"
   },
   {
    "duration": 0,
    "start_time": "2022-11-29T11:52:00.408Z"
   },
   {
    "duration": 10,
    "start_time": "2022-11-29T11:52:16.525Z"
   },
   {
    "duration": 8,
    "start_time": "2022-11-29T11:53:18.650Z"
   },
   {
    "duration": 348,
    "start_time": "2022-11-29T11:53:23.069Z"
   },
   {
    "duration": 51,
    "start_time": "2022-11-29T11:53:23.418Z"
   },
   {
    "duration": 26,
    "start_time": "2022-11-29T11:53:23.471Z"
   },
   {
    "duration": 13,
    "start_time": "2022-11-29T11:53:23.499Z"
   },
   {
    "duration": 4,
    "start_time": "2022-11-29T11:53:23.514Z"
   },
   {
    "duration": 471,
    "start_time": "2022-11-29T11:53:23.519Z"
   },
   {
    "duration": 3,
    "start_time": "2022-11-29T11:53:23.992Z"
   },
   {
    "duration": 45,
    "start_time": "2022-11-29T11:53:23.996Z"
   },
   {
    "duration": 27,
    "start_time": "2022-11-29T11:53:24.042Z"
   },
   {
    "duration": 23,
    "start_time": "2022-11-29T11:53:24.071Z"
   },
   {
    "duration": 25,
    "start_time": "2022-11-29T11:53:24.096Z"
   },
   {
    "duration": 28,
    "start_time": "2022-11-29T11:53:24.123Z"
   },
   {
    "duration": 41,
    "start_time": "2022-11-29T11:53:24.153Z"
   },
   {
    "duration": 6,
    "start_time": "2022-11-29T11:53:24.198Z"
   },
   {
    "duration": 36,
    "start_time": "2022-11-29T11:53:24.206Z"
   },
   {
    "duration": 20,
    "start_time": "2022-11-29T11:53:24.245Z"
   },
   {
    "duration": 17,
    "start_time": "2022-11-29T11:53:24.268Z"
   },
   {
    "duration": 39,
    "start_time": "2022-11-29T11:53:24.287Z"
   },
   {
    "duration": 25,
    "start_time": "2022-11-29T11:53:24.328Z"
   },
   {
    "duration": 14,
    "start_time": "2022-11-29T11:53:24.355Z"
   },
   {
    "duration": 27,
    "start_time": "2022-11-29T11:53:24.371Z"
   },
   {
    "duration": 19,
    "start_time": "2022-11-29T11:53:24.400Z"
   },
   {
    "duration": 86,
    "start_time": "2022-11-29T11:53:24.421Z"
   },
   {
    "duration": 0,
    "start_time": "2022-11-29T11:53:24.513Z"
   },
   {
    "duration": 12,
    "start_time": "2022-11-29T11:53:35.537Z"
   },
   {
    "duration": 6,
    "start_time": "2022-11-29T11:53:58.053Z"
   },
   {
    "duration": 16,
    "start_time": "2022-11-29T11:54:34.587Z"
   },
   {
    "duration": 16,
    "start_time": "2022-11-29T11:55:13.769Z"
   },
   {
    "duration": 15,
    "start_time": "2022-11-29T11:55:45.130Z"
   },
   {
    "duration": 16,
    "start_time": "2022-11-29T11:58:15.607Z"
   },
   {
    "duration": 12,
    "start_time": "2022-11-29T11:58:51.906Z"
   },
   {
    "duration": 393,
    "start_time": "2022-11-29T11:59:01.780Z"
   },
   {
    "duration": 53,
    "start_time": "2022-11-29T11:59:02.175Z"
   },
   {
    "duration": 28,
    "start_time": "2022-11-29T11:59:02.229Z"
   },
   {
    "duration": 13,
    "start_time": "2022-11-29T11:59:02.258Z"
   },
   {
    "duration": 7,
    "start_time": "2022-11-29T11:59:02.273Z"
   },
   {
    "duration": 402,
    "start_time": "2022-11-29T11:59:02.282Z"
   },
   {
    "duration": 4,
    "start_time": "2022-11-29T11:59:02.686Z"
   },
   {
    "duration": 27,
    "start_time": "2022-11-29T11:59:02.691Z"
   },
   {
    "duration": 10,
    "start_time": "2022-11-29T11:59:02.720Z"
   },
   {
    "duration": 12,
    "start_time": "2022-11-29T11:59:02.732Z"
   },
   {
    "duration": 22,
    "start_time": "2022-11-29T11:59:02.746Z"
   },
   {
    "duration": 6,
    "start_time": "2022-11-29T11:59:02.769Z"
   },
   {
    "duration": 46,
    "start_time": "2022-11-29T11:59:02.777Z"
   },
   {
    "duration": 4,
    "start_time": "2022-11-29T11:59:02.826Z"
   },
   {
    "duration": 18,
    "start_time": "2022-11-29T11:59:02.832Z"
   },
   {
    "duration": 5,
    "start_time": "2022-11-29T11:59:02.852Z"
   },
   {
    "duration": 4,
    "start_time": "2022-11-29T11:59:02.859Z"
   },
   {
    "duration": 12,
    "start_time": "2022-11-29T11:59:02.864Z"
   },
   {
    "duration": 38,
    "start_time": "2022-11-29T11:59:02.878Z"
   },
   {
    "duration": 15,
    "start_time": "2022-11-29T11:59:02.918Z"
   },
   {
    "duration": 9,
    "start_time": "2022-11-29T11:59:02.934Z"
   },
   {
    "duration": 12,
    "start_time": "2022-11-29T11:59:02.944Z"
   },
   {
    "duration": 79,
    "start_time": "2022-11-29T11:59:02.958Z"
   },
   {
    "duration": 0,
    "start_time": "2022-11-29T11:59:03.039Z"
   },
   {
    "duration": 11,
    "start_time": "2022-11-29T11:59:22.175Z"
   },
   {
    "duration": 5,
    "start_time": "2022-11-29T11:59:28.007Z"
   },
   {
    "duration": 8,
    "start_time": "2022-11-29T12:00:26.211Z"
   },
   {
    "duration": 6,
    "start_time": "2022-11-29T12:00:52.869Z"
   },
   {
    "duration": 5,
    "start_time": "2022-11-29T12:01:09.364Z"
   },
   {
    "duration": 6,
    "start_time": "2022-11-29T12:01:20.119Z"
   },
   {
    "duration": 8,
    "start_time": "2022-11-29T12:02:08.200Z"
   },
   {
    "duration": 7,
    "start_time": "2022-11-29T12:02:16.139Z"
   },
   {
    "duration": 20,
    "start_time": "2022-11-29T12:03:12.000Z"
   },
   {
    "duration": 16,
    "start_time": "2022-11-29T12:03:24.940Z"
   },
   {
    "duration": 21,
    "start_time": "2022-11-29T12:03:28.392Z"
   },
   {
    "duration": 10,
    "start_time": "2022-11-29T12:03:57.565Z"
   },
   {
    "duration": 11,
    "start_time": "2022-11-29T12:04:04.629Z"
   },
   {
    "duration": 9,
    "start_time": "2022-11-29T12:04:13.065Z"
   },
   {
    "duration": 11,
    "start_time": "2022-11-29T12:04:39.449Z"
   },
   {
    "duration": 11,
    "start_time": "2022-11-29T12:06:46.837Z"
   },
   {
    "duration": 16,
    "start_time": "2022-11-29T12:07:24.699Z"
   },
   {
    "duration": 10,
    "start_time": "2022-11-29T12:07:43.234Z"
   },
   {
    "duration": 20,
    "start_time": "2022-11-29T12:07:53.573Z"
   },
   {
    "duration": 17,
    "start_time": "2022-11-29T12:08:23.381Z"
   },
   {
    "duration": 16,
    "start_time": "2022-11-29T12:08:31.870Z"
   },
   {
    "duration": 10,
    "start_time": "2022-11-29T12:08:49.169Z"
   },
   {
    "duration": 5,
    "start_time": "2022-11-29T12:09:43.758Z"
   },
   {
    "duration": 5,
    "start_time": "2022-11-29T12:10:52.485Z"
   },
   {
    "duration": 4,
    "start_time": "2022-11-29T12:11:16.501Z"
   },
   {
    "duration": 5,
    "start_time": "2022-11-29T12:12:10.506Z"
   },
   {
    "duration": 8,
    "start_time": "2022-11-29T12:12:13.322Z"
   },
   {
    "duration": 5,
    "start_time": "2022-11-29T12:12:21.134Z"
   },
   {
    "duration": 13,
    "start_time": "2022-11-29T12:12:26.862Z"
   },
   {
    "duration": 17,
    "start_time": "2022-11-29T12:13:05.041Z"
   },
   {
    "duration": 8,
    "start_time": "2022-11-29T12:13:15.130Z"
   },
   {
    "duration": 15,
    "start_time": "2022-11-29T12:13:32.578Z"
   },
   {
    "duration": 411,
    "start_time": "2022-11-29T12:13:37.106Z"
   },
   {
    "duration": 52,
    "start_time": "2022-11-29T12:13:37.519Z"
   },
   {
    "duration": 26,
    "start_time": "2022-11-29T12:13:37.573Z"
   },
   {
    "duration": 14,
    "start_time": "2022-11-29T12:13:37.601Z"
   },
   {
    "duration": 5,
    "start_time": "2022-11-29T12:13:37.616Z"
   },
   {
    "duration": 406,
    "start_time": "2022-11-29T12:13:37.622Z"
   },
   {
    "duration": 3,
    "start_time": "2022-11-29T12:13:38.030Z"
   },
   {
    "duration": 26,
    "start_time": "2022-11-29T12:13:38.034Z"
   },
   {
    "duration": 12,
    "start_time": "2022-11-29T12:13:38.062Z"
   },
   {
    "duration": 12,
    "start_time": "2022-11-29T12:13:38.077Z"
   },
   {
    "duration": 33,
    "start_time": "2022-11-29T12:13:38.091Z"
   },
   {
    "duration": 5,
    "start_time": "2022-11-29T12:13:38.125Z"
   },
   {
    "duration": 18,
    "start_time": "2022-11-29T12:13:38.131Z"
   },
   {
    "duration": 5,
    "start_time": "2022-11-29T12:13:38.150Z"
   },
   {
    "duration": 12,
    "start_time": "2022-11-29T12:13:38.157Z"
   },
   {
    "duration": 6,
    "start_time": "2022-11-29T12:13:38.170Z"
   },
   {
    "duration": 36,
    "start_time": "2022-11-29T12:13:38.177Z"
   },
   {
    "duration": 12,
    "start_time": "2022-11-29T12:13:38.215Z"
   },
   {
    "duration": 15,
    "start_time": "2022-11-29T12:13:38.229Z"
   },
   {
    "duration": 9,
    "start_time": "2022-11-29T12:13:38.246Z"
   },
   {
    "duration": 4,
    "start_time": "2022-11-29T12:13:38.257Z"
   },
   {
    "duration": 11,
    "start_time": "2022-11-29T12:13:38.263Z"
   },
   {
    "duration": 40,
    "start_time": "2022-11-29T12:13:38.275Z"
   },
   {
    "duration": 15,
    "start_time": "2022-11-29T12:13:38.317Z"
   },
   {
    "duration": 9,
    "start_time": "2022-11-29T12:13:52.302Z"
   },
   {
    "duration": 395,
    "start_time": "2022-11-29T12:14:17.958Z"
   },
   {
    "duration": 54,
    "start_time": "2022-11-29T12:14:18.355Z"
   },
   {
    "duration": 36,
    "start_time": "2022-11-29T12:14:18.410Z"
   },
   {
    "duration": 21,
    "start_time": "2022-11-29T12:14:18.448Z"
   },
   {
    "duration": 5,
    "start_time": "2022-11-29T12:14:18.471Z"
   },
   {
    "duration": 409,
    "start_time": "2022-11-29T12:14:18.478Z"
   },
   {
    "duration": 3,
    "start_time": "2022-11-29T12:14:18.889Z"
   },
   {
    "duration": 26,
    "start_time": "2022-11-29T12:14:18.894Z"
   },
   {
    "duration": 11,
    "start_time": "2022-11-29T12:14:18.922Z"
   },
   {
    "duration": 12,
    "start_time": "2022-11-29T12:14:18.935Z"
   },
   {
    "duration": 20,
    "start_time": "2022-11-29T12:14:18.949Z"
   },
   {
    "duration": 4,
    "start_time": "2022-11-29T12:14:18.971Z"
   },
   {
    "duration": 44,
    "start_time": "2022-11-29T12:14:18.976Z"
   },
   {
    "duration": 4,
    "start_time": "2022-11-29T12:14:19.021Z"
   },
   {
    "duration": 11,
    "start_time": "2022-11-29T12:14:19.027Z"
   },
   {
    "duration": 5,
    "start_time": "2022-11-29T12:14:19.040Z"
   },
   {
    "duration": 4,
    "start_time": "2022-11-29T12:14:19.047Z"
   },
   {
    "duration": 14,
    "start_time": "2022-11-29T12:14:19.053Z"
   },
   {
    "duration": 45,
    "start_time": "2022-11-29T12:14:19.069Z"
   },
   {
    "duration": 10,
    "start_time": "2022-11-29T12:14:19.116Z"
   },
   {
    "duration": 8,
    "start_time": "2022-11-29T12:14:19.128Z"
   },
   {
    "duration": 11,
    "start_time": "2022-11-29T12:14:19.138Z"
   },
   {
    "duration": 11,
    "start_time": "2022-11-29T12:14:19.150Z"
   },
   {
    "duration": 9,
    "start_time": "2022-11-29T12:14:19.162Z"
   },
   {
    "duration": 47,
    "start_time": "2022-11-29T12:14:19.172Z"
   },
   {
    "duration": 11,
    "start_time": "2022-11-29T12:14:19.221Z"
   },
   {
    "duration": 66,
    "start_time": "2022-11-29T12:17:45.779Z"
   },
   {
    "duration": 6,
    "start_time": "2022-11-29T12:18:32.571Z"
   },
   {
    "duration": 25,
    "start_time": "2022-11-29T12:18:35.414Z"
   },
   {
    "duration": 4,
    "start_time": "2022-11-29T12:19:26.539Z"
   },
   {
    "duration": 20,
    "start_time": "2022-11-29T12:19:27.144Z"
   },
   {
    "duration": 1233,
    "start_time": "2022-11-29T12:20:26.327Z"
   },
   {
    "duration": 13,
    "start_time": "2022-11-29T12:20:34.395Z"
   },
   {
    "duration": 9,
    "start_time": "2022-11-29T12:20:43.935Z"
   },
   {
    "duration": 15,
    "start_time": "2022-11-29T12:20:51.047Z"
   },
   {
    "duration": 8,
    "start_time": "2022-11-29T12:21:09.975Z"
   },
   {
    "duration": 3,
    "start_time": "2022-11-29T12:21:13.459Z"
   },
   {
    "duration": 12,
    "start_time": "2022-11-29T12:21:15.671Z"
   },
   {
    "duration": 11,
    "start_time": "2022-11-29T12:21:50.172Z"
   },
   {
    "duration": 5,
    "start_time": "2022-11-29T12:22:04.299Z"
   },
   {
    "duration": 23,
    "start_time": "2022-11-29T12:22:04.871Z"
   },
   {
    "duration": 150,
    "start_time": "2022-11-29T12:24:26.004Z"
   },
   {
    "duration": 138,
    "start_time": "2022-11-29T12:24:34.047Z"
   },
   {
    "duration": 277,
    "start_time": "2022-11-29T12:24:38.888Z"
   },
   {
    "duration": 787,
    "start_time": "2022-11-29T12:24:42.439Z"
   },
   {
    "duration": 182,
    "start_time": "2022-11-29T12:24:45.679Z"
   },
   {
    "duration": 157,
    "start_time": "2022-11-29T12:24:48.751Z"
   },
   {
    "duration": 175,
    "start_time": "2022-11-29T12:24:52.587Z"
   },
   {
    "duration": 183,
    "start_time": "2022-11-29T12:24:57.107Z"
   },
   {
    "duration": 263,
    "start_time": "2022-11-29T12:25:15.623Z"
   },
   {
    "duration": 190,
    "start_time": "2022-11-29T12:25:33.368Z"
   },
   {
    "duration": 185,
    "start_time": "2022-11-29T12:25:49.739Z"
   },
   {
    "duration": 188,
    "start_time": "2022-11-29T12:25:54.343Z"
   },
   {
    "duration": 231,
    "start_time": "2022-11-29T12:25:59.248Z"
   },
   {
    "duration": 187,
    "start_time": "2022-11-29T12:26:53.052Z"
   },
   {
    "duration": 206,
    "start_time": "2022-11-29T12:27:13.184Z"
   },
   {
    "duration": 188,
    "start_time": "2022-11-29T12:27:19.400Z"
   },
   {
    "duration": 188,
    "start_time": "2022-11-29T12:27:47.580Z"
   },
   {
    "duration": 90,
    "start_time": "2022-11-29T12:28:02.760Z"
   },
   {
    "duration": 113,
    "start_time": "2022-11-29T12:28:08.295Z"
   },
   {
    "duration": 210,
    "start_time": "2022-11-29T12:28:13.328Z"
   },
   {
    "duration": 299,
    "start_time": "2022-11-29T12:28:21.528Z"
   },
   {
    "duration": 242,
    "start_time": "2022-11-29T12:28:50.288Z"
   },
   {
    "duration": 171,
    "start_time": "2022-11-29T12:29:07.296Z"
   },
   {
    "duration": 170,
    "start_time": "2022-11-29T12:29:11.904Z"
   },
   {
    "duration": 194,
    "start_time": "2022-11-29T12:29:26.504Z"
   },
   {
    "duration": 197,
    "start_time": "2022-11-29T12:29:31.888Z"
   },
   {
    "duration": 207,
    "start_time": "2022-11-29T12:29:37.968Z"
   },
   {
    "duration": 347,
    "start_time": "2022-11-29T12:29:42.420Z"
   },
   {
    "duration": 231,
    "start_time": "2022-11-29T12:29:47.097Z"
   },
   {
    "duration": 245,
    "start_time": "2022-11-29T12:29:56.285Z"
   },
   {
    "duration": 231,
    "start_time": "2022-11-29T12:30:00.328Z"
   },
   {
    "duration": 175,
    "start_time": "2022-11-29T12:30:04.329Z"
   },
   {
    "duration": 180,
    "start_time": "2022-11-29T12:30:08.913Z"
   },
   {
    "duration": 164,
    "start_time": "2022-11-29T12:30:11.696Z"
   },
   {
    "duration": 167,
    "start_time": "2022-11-29T12:30:41.874Z"
   },
   {
    "duration": 168,
    "start_time": "2022-11-29T12:30:48.433Z"
   },
   {
    "duration": 296,
    "start_time": "2022-11-29T12:30:50.960Z"
   },
   {
    "duration": 174,
    "start_time": "2022-11-29T12:30:54.257Z"
   },
   {
    "duration": 156,
    "start_time": "2022-11-29T12:30:58.708Z"
   },
   {
    "duration": 4,
    "start_time": "2022-11-29T12:31:30.701Z"
   },
   {
    "duration": 6,
    "start_time": "2022-11-29T12:31:39.833Z"
   },
   {
    "duration": 169,
    "start_time": "2022-11-29T12:31:45.757Z"
   },
   {
    "duration": 163,
    "start_time": "2022-11-29T12:31:47.008Z"
   },
   {
    "duration": 162,
    "start_time": "2022-11-29T12:32:04.048Z"
   },
   {
    "duration": 171,
    "start_time": "2022-11-29T12:32:05.965Z"
   },
   {
    "duration": 7,
    "start_time": "2022-11-29T12:34:01.517Z"
   },
   {
    "duration": 10,
    "start_time": "2022-11-29T12:34:36.933Z"
   },
   {
    "duration": 7,
    "start_time": "2022-11-29T12:35:51.665Z"
   },
   {
    "duration": 126,
    "start_time": "2022-11-29T12:36:19.905Z"
   },
   {
    "duration": 8,
    "start_time": "2022-11-29T12:36:24.866Z"
   },
   {
    "duration": 11,
    "start_time": "2022-11-29T12:36:54.684Z"
   },
   {
    "duration": 9,
    "start_time": "2022-11-29T12:37:07.362Z"
   },
   {
    "duration": 5,
    "start_time": "2022-11-29T12:39:27.672Z"
   },
   {
    "duration": 27,
    "start_time": "2022-11-29T12:39:33.471Z"
   },
   {
    "duration": 24,
    "start_time": "2022-11-29T12:40:22.048Z"
   },
   {
    "duration": 8,
    "start_time": "2022-11-29T12:40:31.198Z"
   },
   {
    "duration": 23,
    "start_time": "2022-11-29T12:40:39.878Z"
   },
   {
    "duration": 20,
    "start_time": "2022-11-29T12:40:54.418Z"
   },
   {
    "duration": 23,
    "start_time": "2022-11-29T12:41:40.650Z"
   },
   {
    "duration": 24,
    "start_time": "2022-11-29T12:41:49.270Z"
   },
   {
    "duration": 4,
    "start_time": "2022-11-29T12:42:13.350Z"
   },
   {
    "duration": 14,
    "start_time": "2022-11-29T12:43:00.735Z"
   },
   {
    "duration": 14,
    "start_time": "2022-11-29T12:43:12.010Z"
   },
   {
    "duration": 18,
    "start_time": "2022-11-29T12:43:21.810Z"
   },
   {
    "duration": 14,
    "start_time": "2022-11-29T12:43:25.724Z"
   },
   {
    "duration": 15,
    "start_time": "2022-11-29T12:43:34.850Z"
   },
   {
    "duration": 15,
    "start_time": "2022-11-29T12:43:44.098Z"
   },
   {
    "duration": 15,
    "start_time": "2022-11-29T12:43:47.754Z"
   },
   {
    "duration": 23,
    "start_time": "2022-11-29T12:43:55.443Z"
   },
   {
    "duration": 140,
    "start_time": "2022-11-29T12:45:30.531Z"
   },
   {
    "duration": 150,
    "start_time": "2022-11-29T12:45:40.587Z"
   },
   {
    "duration": 154,
    "start_time": "2022-11-29T12:45:49.396Z"
   },
   {
    "duration": 165,
    "start_time": "2022-11-29T12:46:40.924Z"
   },
   {
    "duration": 274,
    "start_time": "2022-11-29T12:46:53.099Z"
   },
   {
    "duration": 151,
    "start_time": "2022-11-29T12:46:56.452Z"
   },
   {
    "duration": 148,
    "start_time": "2022-11-29T12:46:59.211Z"
   },
   {
    "duration": 134,
    "start_time": "2022-11-29T12:47:01.651Z"
   },
   {
    "duration": 137,
    "start_time": "2022-11-29T12:47:04.339Z"
   },
   {
    "duration": 147,
    "start_time": "2022-11-29T12:47:06.900Z"
   },
   {
    "duration": 138,
    "start_time": "2022-11-29T12:47:09.212Z"
   },
   {
    "duration": 136,
    "start_time": "2022-11-29T12:47:11.831Z"
   },
   {
    "duration": 142,
    "start_time": "2022-11-29T12:47:14.295Z"
   },
   {
    "duration": 139,
    "start_time": "2022-11-29T12:47:17.692Z"
   },
   {
    "duration": 129,
    "start_time": "2022-11-29T12:47:26.179Z"
   },
   {
    "duration": 248,
    "start_time": "2022-11-29T12:47:37.707Z"
   },
   {
    "duration": 247,
    "start_time": "2022-11-29T12:47:47.732Z"
   },
   {
    "duration": 135,
    "start_time": "2022-11-29T12:48:52.288Z"
   },
   {
    "duration": 182,
    "start_time": "2022-11-29T12:50:10.300Z"
   },
   {
    "duration": 5,
    "start_time": "2022-11-29T12:57:14.442Z"
   },
   {
    "duration": 78,
    "start_time": "2022-11-29T12:58:04.311Z"
   },
   {
    "duration": 15,
    "start_time": "2022-11-29T12:58:05.652Z"
   },
   {
    "duration": 17,
    "start_time": "2022-11-29T12:59:44.279Z"
   },
   {
    "duration": 82,
    "start_time": "2022-11-29T13:02:34.629Z"
   },
   {
    "duration": 167,
    "start_time": "2022-11-29T13:02:50.036Z"
   },
   {
    "duration": 16,
    "start_time": "2022-11-29T13:03:08.604Z"
   },
   {
    "duration": 11,
    "start_time": "2022-11-29T13:03:22.848Z"
   },
   {
    "duration": 16,
    "start_time": "2022-11-29T13:03:32.140Z"
   },
   {
    "duration": 357,
    "start_time": "2022-11-29T13:03:38.372Z"
   },
   {
    "duration": 50,
    "start_time": "2022-11-29T13:03:38.731Z"
   },
   {
    "duration": 27,
    "start_time": "2022-11-29T13:03:38.782Z"
   },
   {
    "duration": 13,
    "start_time": "2022-11-29T13:03:38.811Z"
   },
   {
    "duration": 4,
    "start_time": "2022-11-29T13:03:38.826Z"
   },
   {
    "duration": 403,
    "start_time": "2022-11-29T13:03:38.831Z"
   },
   {
    "duration": 3,
    "start_time": "2022-11-29T13:03:39.236Z"
   },
   {
    "duration": 21,
    "start_time": "2022-11-29T13:03:39.241Z"
   },
   {
    "duration": 13,
    "start_time": "2022-11-29T13:03:39.264Z"
   },
   {
    "duration": 10,
    "start_time": "2022-11-29T13:03:39.279Z"
   },
   {
    "duration": 33,
    "start_time": "2022-11-29T13:03:39.291Z"
   },
   {
    "duration": 6,
    "start_time": "2022-11-29T13:03:39.326Z"
   },
   {
    "duration": 19,
    "start_time": "2022-11-29T13:03:39.334Z"
   },
   {
    "duration": 5,
    "start_time": "2022-11-29T13:03:39.356Z"
   },
   {
    "duration": 12,
    "start_time": "2022-11-29T13:03:39.362Z"
   },
   {
    "duration": 6,
    "start_time": "2022-11-29T13:03:39.375Z"
   },
   {
    "duration": 33,
    "start_time": "2022-11-29T13:03:39.382Z"
   },
   {
    "duration": 12,
    "start_time": "2022-11-29T13:03:39.416Z"
   },
   {
    "duration": 16,
    "start_time": "2022-11-29T13:03:39.429Z"
   },
   {
    "duration": 5,
    "start_time": "2022-11-29T13:03:39.446Z"
   },
   {
    "duration": 15,
    "start_time": "2022-11-29T13:03:39.452Z"
   },
   {
    "duration": 9,
    "start_time": "2022-11-29T13:03:39.468Z"
   },
   {
    "duration": 34,
    "start_time": "2022-11-29T13:03:39.479Z"
   },
   {
    "duration": 16,
    "start_time": "2022-11-29T13:03:39.514Z"
   },
   {
    "duration": 9,
    "start_time": "2022-11-29T13:03:39.532Z"
   },
   {
    "duration": 5,
    "start_time": "2022-11-29T13:03:39.542Z"
   },
   {
    "duration": 23,
    "start_time": "2022-11-29T13:03:39.549Z"
   },
   {
    "duration": 191,
    "start_time": "2022-11-29T13:03:39.573Z"
   },
   {
    "duration": 167,
    "start_time": "2022-11-29T13:03:39.766Z"
   },
   {
    "duration": 11,
    "start_time": "2022-11-29T13:03:39.935Z"
   },
   {
    "duration": 15,
    "start_time": "2022-11-29T13:03:39.947Z"
   },
   {
    "duration": 152,
    "start_time": "2022-11-29T13:03:39.963Z"
   },
   {
    "duration": 10,
    "start_time": "2022-11-29T13:03:40.117Z"
   },
   {
    "duration": 18,
    "start_time": "2022-11-29T13:03:40.128Z"
   },
   {
    "duration": 244,
    "start_time": "2022-11-29T13:03:40.148Z"
   },
   {
    "duration": 1477,
    "start_time": "2022-11-29T13:05:13.125Z"
   },
   {
    "duration": 138,
    "start_time": "2022-11-29T13:05:28.108Z"
   },
   {
    "duration": 131,
    "start_time": "2022-11-29T13:05:39.829Z"
   },
   {
    "duration": 139,
    "start_time": "2022-11-29T13:05:44.882Z"
   },
   {
    "duration": 347,
    "start_time": "2022-11-29T13:05:48.633Z"
   },
   {
    "duration": 156,
    "start_time": "2022-11-29T13:06:23.797Z"
   },
   {
    "duration": 146,
    "start_time": "2022-11-29T13:06:31.797Z"
   },
   {
    "duration": 142,
    "start_time": "2022-11-29T13:06:45.245Z"
   },
   {
    "duration": 16,
    "start_time": "2022-11-29T13:10:21.630Z"
   },
   {
    "duration": 135,
    "start_time": "2022-11-29T13:10:34.027Z"
   },
   {
    "duration": 26,
    "start_time": "2022-11-29T13:10:44.909Z"
   },
   {
    "duration": 210,
    "start_time": "2022-11-29T13:10:52.534Z"
   },
   {
    "duration": 150,
    "start_time": "2022-11-29T13:11:05.182Z"
   },
   {
    "duration": 1385,
    "start_time": "2022-11-29T13:11:20.198Z"
   },
   {
    "duration": 17,
    "start_time": "2022-11-29T13:11:36.874Z"
   },
   {
    "duration": 1559,
    "start_time": "2022-11-29T13:11:55.482Z"
   },
   {
    "duration": 1295,
    "start_time": "2022-11-29T13:12:16.870Z"
   },
   {
    "duration": 1382,
    "start_time": "2022-11-29T13:12:32.718Z"
   },
   {
    "duration": 145,
    "start_time": "2022-11-29T13:12:42.734Z"
   },
   {
    "duration": 1406,
    "start_time": "2022-11-29T13:12:58.962Z"
   },
   {
    "duration": 143,
    "start_time": "2022-11-29T13:13:08.090Z"
   },
   {
    "duration": 143,
    "start_time": "2022-11-29T13:13:11.227Z"
   },
   {
    "duration": 16,
    "start_time": "2022-11-29T13:13:31.430Z"
   },
   {
    "duration": 131,
    "start_time": "2022-11-29T13:13:36.046Z"
   },
   {
    "duration": 159,
    "start_time": "2022-11-29T13:14:00.498Z"
   },
   {
    "duration": 154,
    "start_time": "2022-11-29T13:14:10.619Z"
   },
   {
    "duration": 135,
    "start_time": "2022-11-29T13:14:47.199Z"
   },
   {
    "duration": 162,
    "start_time": "2022-11-29T13:15:12.979Z"
   },
   {
    "duration": 141,
    "start_time": "2022-11-29T13:15:22.008Z"
   },
   {
    "duration": 220,
    "start_time": "2022-11-29T13:15:26.747Z"
   },
   {
    "duration": 151,
    "start_time": "2022-11-29T13:15:34.555Z"
   },
   {
    "duration": 135,
    "start_time": "2022-11-29T13:17:23.676Z"
   },
   {
    "duration": 5,
    "start_time": "2022-11-29T13:22:53.400Z"
   },
   {
    "duration": 20,
    "start_time": "2022-11-29T13:22:57.977Z"
   },
   {
    "duration": 15,
    "start_time": "2022-11-29T13:25:05.621Z"
   },
   {
    "duration": 4,
    "start_time": "2022-11-29T13:25:40.173Z"
   },
   {
    "duration": 15,
    "start_time": "2022-11-29T13:25:42.825Z"
   },
   {
    "duration": 162,
    "start_time": "2022-11-29T13:26:29.997Z"
   },
   {
    "duration": 143,
    "start_time": "2022-11-29T13:26:39.724Z"
   },
   {
    "duration": 137,
    "start_time": "2022-11-29T13:26:49.489Z"
   },
   {
    "duration": 140,
    "start_time": "2022-11-29T13:27:02.653Z"
   },
   {
    "duration": 132,
    "start_time": "2022-11-29T13:27:27.606Z"
   },
   {
    "duration": 146,
    "start_time": "2022-11-29T13:27:47.909Z"
   },
   {
    "duration": 148,
    "start_time": "2022-11-29T13:31:13.151Z"
   },
   {
    "duration": 17,
    "start_time": "2022-11-29T13:37:20.024Z"
   },
   {
    "duration": 2,
    "start_time": "2022-11-29T14:13:41.431Z"
   },
   {
    "duration": 307,
    "start_time": "2022-11-29T14:14:02.059Z"
   },
   {
    "duration": 10,
    "start_time": "2022-11-29T14:14:17.691Z"
   },
   {
    "duration": 107,
    "start_time": "2022-11-29T14:14:34.187Z"
   },
   {
    "duration": 6,
    "start_time": "2022-11-29T14:15:19.259Z"
   },
   {
    "duration": 9,
    "start_time": "2022-11-29T14:15:27.583Z"
   },
   {
    "duration": 1698,
    "start_time": "2022-11-29T14:15:32.995Z"
   },
   {
    "duration": 152,
    "start_time": "2022-11-29T14:16:53.108Z"
   },
   {
    "duration": 16,
    "start_time": "2022-11-29T14:17:05.084Z"
   },
   {
    "duration": 16,
    "start_time": "2022-11-29T14:17:28.812Z"
   },
   {
    "duration": 265,
    "start_time": "2022-11-29T14:17:32.317Z"
   },
   {
    "duration": 213,
    "start_time": "2022-11-29T14:17:44.481Z"
   },
   {
    "duration": 164,
    "start_time": "2022-11-29T14:17:57.424Z"
   },
   {
    "duration": 138,
    "start_time": "2022-11-29T14:18:09.816Z"
   },
   {
    "duration": 187,
    "start_time": "2022-11-29T14:19:38.056Z"
   },
   {
    "duration": 181,
    "start_time": "2022-11-29T14:19:48.048Z"
   },
   {
    "duration": 252,
    "start_time": "2022-11-29T14:20:38.128Z"
   },
   {
    "duration": 265,
    "start_time": "2022-11-29T14:20:47.240Z"
   },
   {
    "duration": 174,
    "start_time": "2022-11-29T14:20:55.344Z"
   },
   {
    "duration": 154,
    "start_time": "2022-11-29T14:21:01.401Z"
   },
   {
    "duration": 144,
    "start_time": "2022-11-29T14:21:06.776Z"
   },
   {
    "duration": 188,
    "start_time": "2022-11-29T14:21:12.349Z"
   },
   {
    "duration": 190,
    "start_time": "2022-11-29T14:21:17.888Z"
   },
   {
    "duration": 458,
    "start_time": "2022-11-29T14:21:40.508Z"
   },
   {
    "duration": 160,
    "start_time": "2022-11-29T14:23:05.546Z"
   },
   {
    "duration": 46,
    "start_time": "2022-11-29T14:23:09.897Z"
   },
   {
    "duration": 332,
    "start_time": "2022-11-29T14:23:18.866Z"
   },
   {
    "duration": 161,
    "start_time": "2022-11-29T14:23:27.765Z"
   },
   {
    "duration": 282,
    "start_time": "2022-11-29T14:25:09.138Z"
   },
   {
    "duration": 264,
    "start_time": "2022-11-29T14:25:33.225Z"
   },
   {
    "duration": 42,
    "start_time": "2022-11-29T14:27:03.946Z"
   },
   {
    "duration": 292,
    "start_time": "2022-11-29T14:27:08.858Z"
   },
   {
    "duration": 174,
    "start_time": "2022-11-29T14:27:15.743Z"
   },
   {
    "duration": 158,
    "start_time": "2022-11-29T14:27:35.122Z"
   },
   {
    "duration": 163,
    "start_time": "2022-11-29T14:27:41.749Z"
   },
   {
    "duration": 148,
    "start_time": "2022-11-29T14:27:46.206Z"
   },
   {
    "duration": 130,
    "start_time": "2022-11-29T14:27:59.814Z"
   },
   {
    "duration": 174,
    "start_time": "2022-11-29T14:28:10.126Z"
   },
   {
    "duration": 188,
    "start_time": "2022-11-29T14:28:25.058Z"
   },
   {
    "duration": 230,
    "start_time": "2022-11-29T14:28:30.666Z"
   },
   {
    "duration": 249,
    "start_time": "2022-11-29T14:28:44.463Z"
   },
   {
    "duration": 339,
    "start_time": "2022-11-29T14:28:48.374Z"
   },
   {
    "duration": 16,
    "start_time": "2022-11-29T14:29:42.606Z"
   },
   {
    "duration": 229,
    "start_time": "2022-11-29T14:30:11.586Z"
   },
   {
    "duration": 223,
    "start_time": "2022-11-29T14:30:16.583Z"
   },
   {
    "duration": 223,
    "start_time": "2022-11-29T14:30:20.719Z"
   },
   {
    "duration": 227,
    "start_time": "2022-11-29T14:31:03.854Z"
   },
   {
    "duration": 247,
    "start_time": "2022-11-29T14:32:05.351Z"
   },
   {
    "duration": 1174,
    "start_time": "2022-11-29T14:33:03.578Z"
   },
   {
    "duration": 60,
    "start_time": "2022-11-29T14:33:04.754Z"
   },
   {
    "duration": 26,
    "start_time": "2022-11-29T14:33:04.816Z"
   },
   {
    "duration": 15,
    "start_time": "2022-11-29T14:33:04.845Z"
   },
   {
    "duration": 4,
    "start_time": "2022-11-29T14:33:04.862Z"
   },
   {
    "duration": 212,
    "start_time": "2022-11-29T14:33:04.868Z"
   },
   {
    "duration": 3,
    "start_time": "2022-11-29T14:33:05.081Z"
   },
   {
    "duration": 33,
    "start_time": "2022-11-29T14:33:05.086Z"
   },
   {
    "duration": 8,
    "start_time": "2022-11-29T14:33:05.121Z"
   },
   {
    "duration": 10,
    "start_time": "2022-11-29T14:33:05.132Z"
   },
   {
    "duration": 21,
    "start_time": "2022-11-29T14:33:05.144Z"
   },
   {
    "duration": 6,
    "start_time": "2022-11-29T14:33:05.167Z"
   },
   {
    "duration": 46,
    "start_time": "2022-11-29T14:33:05.175Z"
   },
   {
    "duration": 4,
    "start_time": "2022-11-29T14:33:05.222Z"
   },
   {
    "duration": 11,
    "start_time": "2022-11-29T14:33:05.227Z"
   },
   {
    "duration": 5,
    "start_time": "2022-11-29T14:33:05.239Z"
   },
   {
    "duration": 4,
    "start_time": "2022-11-29T14:33:05.246Z"
   },
   {
    "duration": 13,
    "start_time": "2022-11-29T14:33:05.251Z"
   },
   {
    "duration": 48,
    "start_time": "2022-11-29T14:33:05.265Z"
   },
   {
    "duration": 5,
    "start_time": "2022-11-29T14:33:05.315Z"
   },
   {
    "duration": 18,
    "start_time": "2022-11-29T14:33:05.321Z"
   },
   {
    "duration": 9,
    "start_time": "2022-11-29T14:33:05.341Z"
   },
   {
    "duration": 8,
    "start_time": "2022-11-29T14:33:05.352Z"
   },
   {
    "duration": 17,
    "start_time": "2022-11-29T14:33:05.362Z"
   },
   {
    "duration": 36,
    "start_time": "2022-11-29T14:33:05.381Z"
   },
   {
    "duration": 8,
    "start_time": "2022-11-29T14:33:05.419Z"
   },
   {
    "duration": 21,
    "start_time": "2022-11-29T14:33:05.429Z"
   },
   {
    "duration": 181,
    "start_time": "2022-11-29T14:33:05.453Z"
   },
   {
    "duration": 157,
    "start_time": "2022-11-29T14:33:05.635Z"
   },
   {
    "duration": 20,
    "start_time": "2022-11-29T14:33:05.793Z"
   },
   {
    "duration": 15,
    "start_time": "2022-11-29T14:33:05.814Z"
   },
   {
    "duration": 135,
    "start_time": "2022-11-29T14:33:05.830Z"
   },
   {
    "duration": 146,
    "start_time": "2022-11-29T14:33:05.967Z"
   },
   {
    "duration": 153,
    "start_time": "2022-11-29T14:33:06.114Z"
   },
   {
    "duration": 138,
    "start_time": "2022-11-29T14:33:06.269Z"
   },
   {
    "duration": 218,
    "start_time": "2022-11-29T14:33:06.412Z"
   },
   {
    "duration": 4,
    "start_time": "2022-11-29T14:33:06.632Z"
   },
   {
    "duration": 22,
    "start_time": "2022-11-29T14:33:06.638Z"
   },
   {
    "duration": 13,
    "start_time": "2022-11-29T14:33:06.662Z"
   },
   {
    "duration": 199,
    "start_time": "2022-11-29T14:33:06.677Z"
   },
   {
    "duration": 216,
    "start_time": "2022-11-29T14:33:06.878Z"
   },
   {
    "duration": 192,
    "start_time": "2022-11-29T14:33:07.096Z"
   },
   {
    "duration": 163,
    "start_time": "2022-11-29T14:33:07.290Z"
   },
   {
    "duration": 165,
    "start_time": "2022-11-29T14:33:07.454Z"
   },
   {
    "duration": 167,
    "start_time": "2022-11-29T14:33:07.621Z"
   },
   {
    "duration": 141,
    "start_time": "2022-11-29T14:33:07.790Z"
   },
   {
    "duration": 249,
    "start_time": "2022-11-29T14:33:07.933Z"
   },
   {
    "duration": 13,
    "start_time": "2022-11-29T14:33:08.183Z"
   },
   {
    "duration": 275,
    "start_time": "2022-11-29T14:33:08.198Z"
   },
   {
    "duration": 179,
    "start_time": "2022-11-29T14:33:38.370Z"
   },
   {
    "duration": 345,
    "start_time": "2022-11-29T14:34:23.209Z"
   },
   {
    "duration": 262,
    "start_time": "2022-11-29T14:34:46.175Z"
   },
   {
    "duration": 300,
    "start_time": "2022-11-29T14:35:36.838Z"
   },
   {
    "duration": 250,
    "start_time": "2022-11-29T14:36:04.643Z"
   },
   {
    "duration": 241,
    "start_time": "2022-11-29T14:36:14.341Z"
   },
   {
    "duration": 240,
    "start_time": "2022-11-29T14:36:26.610Z"
   },
   {
    "duration": 242,
    "start_time": "2022-11-29T14:36:31.098Z"
   },
   {
    "duration": 127,
    "start_time": "2022-11-29T15:14:50.572Z"
   },
   {
    "duration": 133,
    "start_time": "2022-11-29T15:15:18.792Z"
   },
   {
    "duration": 156,
    "start_time": "2022-11-29T15:15:34.071Z"
   },
   {
    "duration": 133,
    "start_time": "2022-11-29T15:15:37.630Z"
   },
   {
    "duration": 233,
    "start_time": "2022-11-29T15:15:45.576Z"
   },
   {
    "duration": 149,
    "start_time": "2022-11-29T15:15:51.304Z"
   },
   {
    "duration": 151,
    "start_time": "2022-11-29T15:16:13.312Z"
   },
   {
    "duration": 142,
    "start_time": "2022-11-29T15:16:15.725Z"
   },
   {
    "duration": 157,
    "start_time": "2022-11-29T15:16:25.617Z"
   },
   {
    "duration": 154,
    "start_time": "2022-11-29T15:16:33.204Z"
   },
   {
    "duration": 1420,
    "start_time": "2022-11-29T15:19:58.680Z"
   },
   {
    "duration": 16,
    "start_time": "2022-11-29T15:20:26.005Z"
   },
   {
    "duration": 12,
    "start_time": "2022-11-29T15:20:35.297Z"
   },
   {
    "duration": 11,
    "start_time": "2022-11-29T15:20:51.353Z"
   },
   {
    "duration": 14,
    "start_time": "2022-11-29T15:21:50.033Z"
   },
   {
    "duration": 14,
    "start_time": "2022-11-29T15:21:58.809Z"
   },
   {
    "duration": 143,
    "start_time": "2022-11-29T15:22:26.545Z"
   },
   {
    "duration": 11,
    "start_time": "2022-11-29T15:22:28.249Z"
   },
   {
    "duration": 191,
    "start_time": "2022-11-29T15:22:36.864Z"
   },
   {
    "duration": 193,
    "start_time": "2022-11-29T15:25:17.482Z"
   },
   {
    "duration": 200,
    "start_time": "2022-11-29T15:26:08.142Z"
   },
   {
    "duration": 23,
    "start_time": "2022-11-29T15:33:09.966Z"
   },
   {
    "duration": 251,
    "start_time": "2022-11-29T15:33:19.535Z"
   },
   {
    "duration": 285,
    "start_time": "2022-11-29T15:33:29.271Z"
   },
   {
    "duration": 286,
    "start_time": "2022-11-29T15:33:44.903Z"
   },
   {
    "duration": 259,
    "start_time": "2022-11-29T15:34:08.996Z"
   },
   {
    "duration": 154,
    "start_time": "2022-11-29T15:34:40.548Z"
   },
   {
    "duration": 149,
    "start_time": "2022-11-29T15:34:57.227Z"
   },
   {
    "duration": 170,
    "start_time": "2022-11-29T15:35:10.395Z"
   },
   {
    "duration": 145,
    "start_time": "2022-11-29T15:35:23.493Z"
   },
   {
    "duration": 141,
    "start_time": "2022-11-29T15:39:19.976Z"
   },
   {
    "duration": 179,
    "start_time": "2022-11-29T15:39:34.552Z"
   },
   {
    "duration": 152,
    "start_time": "2022-11-29T15:39:41.504Z"
   },
   {
    "duration": 152,
    "start_time": "2022-11-29T15:39:48.768Z"
   },
   {
    "duration": 142,
    "start_time": "2022-11-29T15:39:54.184Z"
   },
   {
    "duration": 162,
    "start_time": "2022-11-29T15:44:04.786Z"
   },
   {
    "duration": 151,
    "start_time": "2022-11-29T15:44:24.449Z"
   },
   {
    "duration": 157,
    "start_time": "2022-11-29T15:44:39.441Z"
   },
   {
    "duration": 4,
    "start_time": "2022-11-29T15:49:42.934Z"
   },
   {
    "duration": 5,
    "start_time": "2022-11-29T15:51:17.410Z"
   },
   {
    "duration": 5,
    "start_time": "2022-11-29T15:51:23.783Z"
   },
   {
    "duration": 7,
    "start_time": "2022-11-29T15:51:41.628Z"
   },
   {
    "duration": 9,
    "start_time": "2022-11-29T15:51:49.887Z"
   },
   {
    "duration": 4,
    "start_time": "2022-11-29T15:51:55.395Z"
   },
   {
    "duration": 5,
    "start_time": "2022-11-29T15:52:06.163Z"
   },
   {
    "duration": 8,
    "start_time": "2022-11-29T15:52:46.611Z"
   },
   {
    "duration": 6,
    "start_time": "2022-11-29T15:53:00.130Z"
   },
   {
    "duration": 6,
    "start_time": "2022-11-29T15:53:03.583Z"
   },
   {
    "duration": 6,
    "start_time": "2022-11-29T15:53:06.079Z"
   },
   {
    "duration": 5,
    "start_time": "2022-11-29T15:53:08.390Z"
   },
   {
    "duration": 5,
    "start_time": "2022-11-29T15:53:46.219Z"
   },
   {
    "duration": 121,
    "start_time": "2022-11-29T15:55:37.419Z"
   },
   {
    "duration": 80,
    "start_time": "2022-11-29T15:55:43.150Z"
   },
   {
    "duration": 6,
    "start_time": "2022-11-29T15:56:08.675Z"
   },
   {
    "duration": 5,
    "start_time": "2022-11-29T15:57:39.732Z"
   },
   {
    "duration": 5,
    "start_time": "2022-11-29T15:57:48.356Z"
   },
   {
    "duration": 6,
    "start_time": "2022-11-29T15:59:26.148Z"
   },
   {
    "duration": 4,
    "start_time": "2022-11-29T15:59:29.900Z"
   },
   {
    "duration": 4,
    "start_time": "2022-11-29T15:59:33.549Z"
   },
   {
    "duration": 5,
    "start_time": "2022-11-29T15:59:42.748Z"
   },
   {
    "duration": 5,
    "start_time": "2022-11-29T15:59:44.988Z"
   },
   {
    "duration": 5,
    "start_time": "2022-11-29T15:59:48.280Z"
   },
   {
    "duration": 314,
    "start_time": "2022-11-29T16:00:15.637Z"
   },
   {
    "duration": 156,
    "start_time": "2022-11-29T16:00:39.444Z"
   },
   {
    "duration": 1156,
    "start_time": "2022-11-29T16:02:15.133Z"
   },
   {
    "duration": 56,
    "start_time": "2022-11-29T16:02:16.290Z"
   },
   {
    "duration": 26,
    "start_time": "2022-11-29T16:02:16.347Z"
   },
   {
    "duration": 16,
    "start_time": "2022-11-29T16:02:16.375Z"
   },
   {
    "duration": 4,
    "start_time": "2022-11-29T16:02:16.393Z"
   },
   {
    "duration": 219,
    "start_time": "2022-11-29T16:02:16.412Z"
   },
   {
    "duration": 3,
    "start_time": "2022-11-29T16:02:16.633Z"
   },
   {
    "duration": 24,
    "start_time": "2022-11-29T16:02:16.637Z"
   },
   {
    "duration": 10,
    "start_time": "2022-11-29T16:02:16.663Z"
   },
   {
    "duration": 12,
    "start_time": "2022-11-29T16:02:16.675Z"
   },
   {
    "duration": 49,
    "start_time": "2022-11-29T16:02:16.688Z"
   },
   {
    "duration": 6,
    "start_time": "2022-11-29T16:02:16.738Z"
   },
   {
    "duration": 17,
    "start_time": "2022-11-29T16:02:16.746Z"
   },
   {
    "duration": 4,
    "start_time": "2022-11-29T16:02:16.765Z"
   },
   {
    "duration": 11,
    "start_time": "2022-11-29T16:02:16.771Z"
   },
   {
    "duration": 29,
    "start_time": "2022-11-29T16:02:16.784Z"
   },
   {
    "duration": 10,
    "start_time": "2022-11-29T16:02:16.821Z"
   },
   {
    "duration": 17,
    "start_time": "2022-11-29T16:02:16.833Z"
   },
   {
    "duration": 17,
    "start_time": "2022-11-29T16:02:16.853Z"
   },
   {
    "duration": 5,
    "start_time": "2022-11-29T16:02:16.872Z"
   },
   {
    "duration": 13,
    "start_time": "2022-11-29T16:02:16.879Z"
   },
   {
    "duration": 39,
    "start_time": "2022-11-29T16:02:16.894Z"
   },
   {
    "duration": 11,
    "start_time": "2022-11-29T16:02:16.935Z"
   },
   {
    "duration": 19,
    "start_time": "2022-11-29T16:02:16.948Z"
   },
   {
    "duration": 11,
    "start_time": "2022-11-29T16:02:16.970Z"
   },
   {
    "duration": 31,
    "start_time": "2022-11-29T16:02:16.982Z"
   },
   {
    "duration": 22,
    "start_time": "2022-11-29T16:02:17.029Z"
   },
   {
    "duration": 176,
    "start_time": "2022-11-29T16:02:17.055Z"
   },
   {
    "duration": 168,
    "start_time": "2022-11-29T16:02:17.232Z"
   },
   {
    "duration": 19,
    "start_time": "2022-11-29T16:02:17.402Z"
   },
   {
    "duration": 48,
    "start_time": "2022-11-29T16:02:17.423Z"
   },
   {
    "duration": 134,
    "start_time": "2022-11-29T16:02:17.474Z"
   },
   {
    "duration": 147,
    "start_time": "2022-11-29T16:02:17.610Z"
   },
   {
    "duration": 167,
    "start_time": "2022-11-29T16:02:17.758Z"
   },
   {
    "duration": 142,
    "start_time": "2022-11-29T16:02:17.927Z"
   },
   {
    "duration": 238,
    "start_time": "2022-11-29T16:02:18.070Z"
   },
   {
    "duration": 5,
    "start_time": "2022-11-29T16:02:18.312Z"
   },
   {
    "duration": 32,
    "start_time": "2022-11-29T16:02:18.319Z"
   },
   {
    "duration": 18,
    "start_time": "2022-11-29T16:02:18.353Z"
   },
   {
    "duration": 180,
    "start_time": "2022-11-29T16:02:18.374Z"
   },
   {
    "duration": 207,
    "start_time": "2022-11-29T16:02:18.556Z"
   },
   {
    "duration": 208,
    "start_time": "2022-11-29T16:02:18.764Z"
   },
   {
    "duration": 161,
    "start_time": "2022-11-29T16:02:18.973Z"
   },
   {
    "duration": 198,
    "start_time": "2022-11-29T16:02:19.136Z"
   },
   {
    "duration": 175,
    "start_time": "2022-11-29T16:02:19.336Z"
   },
   {
    "duration": 155,
    "start_time": "2022-11-29T16:02:19.514Z"
   },
   {
    "duration": 276,
    "start_time": "2022-11-29T16:02:19.670Z"
   },
   {
    "duration": 13,
    "start_time": "2022-11-29T16:02:19.948Z"
   },
   {
    "duration": 288,
    "start_time": "2022-11-29T16:02:19.963Z"
   },
   {
    "duration": 182,
    "start_time": "2022-11-29T16:02:20.253Z"
   },
   {
    "duration": 15,
    "start_time": "2022-11-29T16:02:20.437Z"
   },
   {
    "duration": 276,
    "start_time": "2022-11-29T16:02:20.454Z"
   },
   {
    "duration": 11,
    "start_time": "2022-11-29T16:02:20.732Z"
   },
   {
    "duration": 157,
    "start_time": "2022-11-29T16:02:20.744Z"
   },
   {
    "duration": 23,
    "start_time": "2022-11-29T16:02:20.903Z"
   },
   {
    "duration": 183,
    "start_time": "2022-11-29T16:02:20.928Z"
   },
   {
    "duration": 13,
    "start_time": "2022-11-29T16:02:21.113Z"
   },
   {
    "duration": 203,
    "start_time": "2022-11-29T16:02:21.128Z"
   },
   {
    "duration": 167,
    "start_time": "2022-11-29T16:02:21.333Z"
   },
   {
    "duration": 167,
    "start_time": "2022-11-29T16:02:21.501Z"
   },
   {
    "duration": 169,
    "start_time": "2022-11-29T16:02:21.669Z"
   },
   {
    "duration": 147,
    "start_time": "2022-11-29T16:02:21.840Z"
   },
   {
    "duration": 174,
    "start_time": "2022-11-29T16:02:21.989Z"
   },
   {
    "duration": 176,
    "start_time": "2022-11-29T16:02:22.165Z"
   },
   {
    "duration": 159,
    "start_time": "2022-11-29T16:02:22.343Z"
   },
   {
    "duration": 166,
    "start_time": "2022-11-29T16:02:22.504Z"
   },
   {
    "duration": 263,
    "start_time": "2022-11-29T16:02:22.672Z"
   },
   {
    "duration": 5,
    "start_time": "2022-11-29T16:02:22.937Z"
   },
   {
    "duration": 10,
    "start_time": "2022-11-29T16:02:22.944Z"
   },
   {
    "duration": 7,
    "start_time": "2022-11-29T16:02:22.955Z"
   },
   {
    "duration": 6,
    "start_time": "2022-11-29T16:03:12.257Z"
   },
   {
    "duration": 1171,
    "start_time": "2022-11-29T16:03:23.145Z"
   },
   {
    "duration": 51,
    "start_time": "2022-11-29T16:03:24.318Z"
   },
   {
    "duration": 23,
    "start_time": "2022-11-29T16:03:24.371Z"
   },
   {
    "duration": 37,
    "start_time": "2022-11-29T16:03:24.397Z"
   },
   {
    "duration": 4,
    "start_time": "2022-11-29T16:03:24.436Z"
   },
   {
    "duration": 209,
    "start_time": "2022-11-29T16:03:24.441Z"
   },
   {
    "duration": 3,
    "start_time": "2022-11-29T16:03:24.652Z"
   },
   {
    "duration": 26,
    "start_time": "2022-11-29T16:03:24.658Z"
   },
   {
    "duration": 28,
    "start_time": "2022-11-29T16:03:24.686Z"
   },
   {
    "duration": 31,
    "start_time": "2022-11-29T16:03:24.717Z"
   },
   {
    "duration": 24,
    "start_time": "2022-11-29T16:03:24.750Z"
   },
   {
    "duration": 20,
    "start_time": "2022-11-29T16:03:24.776Z"
   },
   {
    "duration": 45,
    "start_time": "2022-11-29T16:03:24.797Z"
   },
   {
    "duration": 4,
    "start_time": "2022-11-29T16:03:24.844Z"
   },
   {
    "duration": 16,
    "start_time": "2022-11-29T16:03:24.849Z"
   },
   {
    "duration": 40,
    "start_time": "2022-11-29T16:03:24.866Z"
   },
   {
    "duration": 32,
    "start_time": "2022-11-29T16:03:24.907Z"
   },
   {
    "duration": 52,
    "start_time": "2022-11-29T16:03:24.941Z"
   },
   {
    "duration": 18,
    "start_time": "2022-11-29T16:03:24.994Z"
   },
   {
    "duration": 56,
    "start_time": "2022-11-29T16:03:25.014Z"
   },
   {
    "duration": 52,
    "start_time": "2022-11-29T16:03:25.072Z"
   },
   {
    "duration": 48,
    "start_time": "2022-11-29T16:03:25.126Z"
   },
   {
    "duration": 15,
    "start_time": "2022-11-29T16:03:25.176Z"
   },
   {
    "duration": 56,
    "start_time": "2022-11-29T16:03:25.193Z"
   },
   {
    "duration": 10,
    "start_time": "2022-11-29T16:03:25.251Z"
   },
   {
    "duration": 54,
    "start_time": "2022-11-29T16:03:25.263Z"
   },
   {
    "duration": 51,
    "start_time": "2022-11-29T16:03:25.318Z"
   },
   {
    "duration": 194,
    "start_time": "2022-11-29T16:03:25.374Z"
   },
   {
    "duration": 173,
    "start_time": "2022-11-29T16:03:25.570Z"
   },
   {
    "duration": 11,
    "start_time": "2022-11-29T16:03:25.744Z"
   },
   {
    "duration": 15,
    "start_time": "2022-11-29T16:03:25.757Z"
   },
   {
    "duration": 164,
    "start_time": "2022-11-29T16:03:25.774Z"
   },
   {
    "duration": 150,
    "start_time": "2022-11-29T16:03:25.940Z"
   },
   {
    "duration": 165,
    "start_time": "2022-11-29T16:03:26.092Z"
   },
   {
    "duration": 145,
    "start_time": "2022-11-29T16:03:26.259Z"
   },
   {
    "duration": 235,
    "start_time": "2022-11-29T16:03:26.406Z"
   },
   {
    "duration": 5,
    "start_time": "2022-11-29T16:03:26.642Z"
   },
   {
    "duration": 22,
    "start_time": "2022-11-29T16:03:26.649Z"
   },
   {
    "duration": 16,
    "start_time": "2022-11-29T16:03:26.673Z"
   },
   {
    "duration": 190,
    "start_time": "2022-11-29T16:03:26.691Z"
   },
   {
    "duration": 212,
    "start_time": "2022-11-29T16:03:26.882Z"
   },
   {
    "duration": 202,
    "start_time": "2022-11-29T16:03:27.095Z"
   },
   {
    "duration": 156,
    "start_time": "2022-11-29T16:03:27.299Z"
   },
   {
    "duration": 170,
    "start_time": "2022-11-29T16:03:27.457Z"
   },
   {
    "duration": 174,
    "start_time": "2022-11-29T16:03:27.629Z"
   },
   {
    "duration": 149,
    "start_time": "2022-11-29T16:03:27.804Z"
   },
   {
    "duration": 277,
    "start_time": "2022-11-29T16:03:27.955Z"
   },
   {
    "duration": 14,
    "start_time": "2022-11-29T16:03:28.234Z"
   },
   {
    "duration": 259,
    "start_time": "2022-11-29T16:03:28.250Z"
   },
   {
    "duration": 159,
    "start_time": "2022-11-29T16:03:28.512Z"
   },
   {
    "duration": 10,
    "start_time": "2022-11-29T16:03:28.673Z"
   },
   {
    "duration": 260,
    "start_time": "2022-11-29T16:03:28.685Z"
   },
   {
    "duration": 10,
    "start_time": "2022-11-29T16:03:28.948Z"
   },
   {
    "duration": 162,
    "start_time": "2022-11-29T16:03:28.960Z"
   },
   {
    "duration": 11,
    "start_time": "2022-11-29T16:03:29.124Z"
   },
   {
    "duration": 178,
    "start_time": "2022-11-29T16:03:29.137Z"
   },
   {
    "duration": 14,
    "start_time": "2022-11-29T16:03:29.317Z"
   },
   {
    "duration": 209,
    "start_time": "2022-11-29T16:03:29.333Z"
   },
   {
    "duration": 149,
    "start_time": "2022-11-29T16:03:29.544Z"
   },
   {
    "duration": 172,
    "start_time": "2022-11-29T16:03:29.695Z"
   },
   {
    "duration": 162,
    "start_time": "2022-11-29T16:03:29.869Z"
   },
   {
    "duration": 165,
    "start_time": "2022-11-29T16:03:30.033Z"
   },
   {
    "duration": 193,
    "start_time": "2022-11-29T16:03:30.200Z"
   },
   {
    "duration": 198,
    "start_time": "2022-11-29T16:03:30.395Z"
   },
   {
    "duration": 174,
    "start_time": "2022-11-29T16:03:30.595Z"
   },
   {
    "duration": 166,
    "start_time": "2022-11-29T16:03:30.771Z"
   },
   {
    "duration": 263,
    "start_time": "2022-11-29T16:03:30.939Z"
   },
   {
    "duration": 13,
    "start_time": "2022-11-29T16:03:31.203Z"
   },
   {
    "duration": 55,
    "start_time": "2022-11-29T16:03:31.218Z"
   },
   {
    "duration": 21,
    "start_time": "2022-11-29T16:03:31.275Z"
   },
   {
    "duration": 5,
    "start_time": "2022-11-29T16:04:26.930Z"
   },
   {
    "duration": 13,
    "start_time": "2022-11-29T16:05:09.597Z"
   },
   {
    "duration": 5,
    "start_time": "2022-11-29T16:06:11.006Z"
   },
   {
    "duration": 5,
    "start_time": "2022-11-29T16:06:11.541Z"
   },
   {
    "duration": 5,
    "start_time": "2022-11-29T16:06:12.282Z"
   },
   {
    "duration": 5,
    "start_time": "2022-11-29T16:06:30.226Z"
   },
   {
    "duration": 5,
    "start_time": "2022-11-29T16:06:30.478Z"
   },
   {
    "duration": 5,
    "start_time": "2022-11-29T16:06:30.670Z"
   },
   {
    "duration": 5,
    "start_time": "2022-11-29T16:06:54.025Z"
   },
   {
    "duration": 5,
    "start_time": "2022-11-29T16:07:07.765Z"
   },
   {
    "duration": 7,
    "start_time": "2022-11-29T16:07:45.325Z"
   },
   {
    "duration": 6,
    "start_time": "2022-11-29T16:07:45.662Z"
   },
   {
    "duration": 5,
    "start_time": "2022-11-29T16:07:45.982Z"
   },
   {
    "duration": 97,
    "start_time": "2022-11-29T16:08:18.059Z"
   },
   {
    "duration": 6,
    "start_time": "2022-11-29T16:08:37.370Z"
   },
   {
    "duration": 6,
    "start_time": "2022-11-29T16:08:37.650Z"
   },
   {
    "duration": 5,
    "start_time": "2022-11-29T16:08:37.874Z"
   },
   {
    "duration": 5,
    "start_time": "2022-11-29T16:09:55.042Z"
   },
   {
    "duration": 5,
    "start_time": "2022-11-29T16:10:05.803Z"
   },
   {
    "duration": 7,
    "start_time": "2022-11-29T16:10:06.027Z"
   },
   {
    "duration": 6,
    "start_time": "2022-11-29T16:10:06.442Z"
   },
   {
    "duration": 6,
    "start_time": "2022-11-29T16:10:08.139Z"
   },
   {
    "duration": 6,
    "start_time": "2022-11-29T16:10:08.458Z"
   },
   {
    "duration": 5,
    "start_time": "2022-11-29T16:10:08.875Z"
   },
   {
    "duration": 5,
    "start_time": "2022-11-29T16:10:27.707Z"
   },
   {
    "duration": 5,
    "start_time": "2022-11-29T16:10:37.966Z"
   },
   {
    "duration": 15,
    "start_time": "2022-11-29T16:12:09.671Z"
   },
   {
    "duration": 99,
    "start_time": "2022-11-29T16:12:29.690Z"
   },
   {
    "duration": 15,
    "start_time": "2022-11-29T16:12:34.564Z"
   },
   {
    "duration": 16,
    "start_time": "2022-11-29T16:13:12.459Z"
   },
   {
    "duration": 6,
    "start_time": "2022-11-29T16:14:09.573Z"
   },
   {
    "duration": 6,
    "start_time": "2022-11-29T16:14:24.056Z"
   },
   {
    "duration": 6,
    "start_time": "2022-11-29T16:14:36.225Z"
   },
   {
    "duration": 7,
    "start_time": "2022-11-29T16:15:00.930Z"
   },
   {
    "duration": 14,
    "start_time": "2022-11-29T16:15:03.973Z"
   },
   {
    "duration": 6,
    "start_time": "2022-11-29T16:15:04.778Z"
   },
   {
    "duration": 11,
    "start_time": "2022-11-29T16:15:05.017Z"
   },
   {
    "duration": 6,
    "start_time": "2022-11-29T16:15:05.309Z"
   },
   {
    "duration": 5,
    "start_time": "2022-11-29T16:15:07.098Z"
   },
   {
    "duration": 8,
    "start_time": "2022-11-29T16:15:07.265Z"
   },
   {
    "duration": 6,
    "start_time": "2022-11-29T16:15:07.453Z"
   },
   {
    "duration": 15,
    "start_time": "2022-11-29T16:15:07.641Z"
   },
   {
    "duration": 6,
    "start_time": "2022-11-29T16:15:08.230Z"
   },
   {
    "duration": 7,
    "start_time": "2022-11-29T16:15:08.449Z"
   },
   {
    "duration": 6,
    "start_time": "2022-11-29T16:15:08.645Z"
   },
   {
    "duration": 22,
    "start_time": "2022-11-29T16:15:09.326Z"
   },
   {
    "duration": 1249,
    "start_time": "2022-11-29T16:33:32.184Z"
   },
   {
    "duration": 94,
    "start_time": "2022-11-29T16:33:33.435Z"
   },
   {
    "duration": 22,
    "start_time": "2022-11-29T16:33:33.530Z"
   },
   {
    "duration": 13,
    "start_time": "2022-11-29T16:33:33.554Z"
   },
   {
    "duration": 4,
    "start_time": "2022-11-29T16:33:33.568Z"
   },
   {
    "duration": 169,
    "start_time": "2022-11-29T16:33:33.573Z"
   },
   {
    "duration": 4,
    "start_time": "2022-11-29T16:33:33.744Z"
   },
   {
    "duration": 21,
    "start_time": "2022-11-29T16:33:33.750Z"
   },
   {
    "duration": 12,
    "start_time": "2022-11-29T16:33:33.772Z"
   },
   {
    "duration": 12,
    "start_time": "2022-11-29T16:33:33.798Z"
   },
   {
    "duration": 22,
    "start_time": "2022-11-29T16:33:33.811Z"
   },
   {
    "duration": 3,
    "start_time": "2022-11-29T16:33:33.834Z"
   },
   {
    "duration": 19,
    "start_time": "2022-11-29T16:33:33.838Z"
   },
   {
    "duration": 6,
    "start_time": "2022-11-29T16:33:33.858Z"
   },
   {
    "duration": 11,
    "start_time": "2022-11-29T16:33:33.865Z"
   },
   {
    "duration": 5,
    "start_time": "2022-11-29T16:33:33.897Z"
   },
   {
    "duration": 8,
    "start_time": "2022-11-29T16:33:33.903Z"
   },
   {
    "duration": 13,
    "start_time": "2022-11-29T16:33:33.912Z"
   },
   {
    "duration": 18,
    "start_time": "2022-11-29T16:33:33.927Z"
   },
   {
    "duration": 11,
    "start_time": "2022-11-29T16:33:33.947Z"
   },
   {
    "duration": 18,
    "start_time": "2022-11-29T16:33:33.960Z"
   },
   {
    "duration": 22,
    "start_time": "2022-11-29T16:33:33.979Z"
   },
   {
    "duration": 9,
    "start_time": "2022-11-29T16:33:34.003Z"
   },
   {
    "duration": 15,
    "start_time": "2022-11-29T16:33:34.014Z"
   },
   {
    "duration": 8,
    "start_time": "2022-11-29T16:33:34.031Z"
   },
   {
    "duration": 8,
    "start_time": "2022-11-29T16:33:34.040Z"
   },
   {
    "duration": 21,
    "start_time": "2022-11-29T16:33:34.049Z"
   },
   {
    "duration": 180,
    "start_time": "2022-11-29T16:33:34.097Z"
   },
   {
    "duration": 148,
    "start_time": "2022-11-29T16:33:34.278Z"
   },
   {
    "duration": 8,
    "start_time": "2022-11-29T16:33:34.428Z"
   },
   {
    "duration": 14,
    "start_time": "2022-11-29T16:33:34.438Z"
   },
   {
    "duration": 134,
    "start_time": "2022-11-29T16:33:34.453Z"
   },
   {
    "duration": 178,
    "start_time": "2022-11-29T16:33:34.589Z"
   },
   {
    "duration": 194,
    "start_time": "2022-11-29T16:33:34.769Z"
   },
   {
    "duration": 146,
    "start_time": "2022-11-29T16:33:34.965Z"
   },
   {
    "duration": 201,
    "start_time": "2022-11-29T16:33:35.113Z"
   },
   {
    "duration": 4,
    "start_time": "2022-11-29T16:33:35.316Z"
   },
   {
    "duration": 24,
    "start_time": "2022-11-29T16:33:35.322Z"
   },
   {
    "duration": 17,
    "start_time": "2022-11-29T16:33:35.348Z"
   },
   {
    "duration": 160,
    "start_time": "2022-11-29T16:33:35.367Z"
   },
   {
    "duration": 176,
    "start_time": "2022-11-29T16:33:35.529Z"
   },
   {
    "duration": 168,
    "start_time": "2022-11-29T16:33:35.707Z"
   },
   {
    "duration": 146,
    "start_time": "2022-11-29T16:33:35.877Z"
   },
   {
    "duration": 156,
    "start_time": "2022-11-29T16:33:36.025Z"
   },
   {
    "duration": 156,
    "start_time": "2022-11-29T16:33:36.182Z"
   },
   {
    "duration": 130,
    "start_time": "2022-11-29T16:33:36.340Z"
   },
   {
    "duration": 237,
    "start_time": "2022-11-29T16:33:36.472Z"
   },
   {
    "duration": 12,
    "start_time": "2022-11-29T16:33:36.711Z"
   },
   {
    "duration": 230,
    "start_time": "2022-11-29T16:33:36.725Z"
   },
   {
    "duration": 145,
    "start_time": "2022-11-29T16:33:36.957Z"
   },
   {
    "duration": 10,
    "start_time": "2022-11-29T16:33:37.104Z"
   },
   {
    "duration": 215,
    "start_time": "2022-11-29T16:33:37.115Z"
   },
   {
    "duration": 9,
    "start_time": "2022-11-29T16:33:37.331Z"
   },
   {
    "duration": 135,
    "start_time": "2022-11-29T16:33:37.341Z"
   },
   {
    "duration": 10,
    "start_time": "2022-11-29T16:33:37.477Z"
   },
   {
    "duration": 150,
    "start_time": "2022-11-29T16:33:37.497Z"
   },
   {
    "duration": 9,
    "start_time": "2022-11-29T16:33:37.649Z"
   },
   {
    "duration": 176,
    "start_time": "2022-11-29T16:33:37.659Z"
   },
   {
    "duration": 140,
    "start_time": "2022-11-29T16:33:37.837Z"
   },
   {
    "duration": 137,
    "start_time": "2022-11-29T16:33:37.979Z"
   },
   {
    "duration": 140,
    "start_time": "2022-11-29T16:33:38.118Z"
   },
   {
    "duration": 133,
    "start_time": "2022-11-29T16:33:38.260Z"
   },
   {
    "duration": 131,
    "start_time": "2022-11-29T16:33:38.397Z"
   },
   {
    "duration": 143,
    "start_time": "2022-11-29T16:33:38.530Z"
   },
   {
    "duration": 136,
    "start_time": "2022-11-29T16:33:38.674Z"
   },
   {
    "duration": 138,
    "start_time": "2022-11-29T16:33:38.812Z"
   },
   {
    "duration": 226,
    "start_time": "2022-11-29T16:33:38.951Z"
   },
   {
    "duration": 5,
    "start_time": "2022-11-29T16:33:39.178Z"
   },
   {
    "duration": 13,
    "start_time": "2022-11-29T16:33:39.185Z"
   },
   {
    "duration": 8,
    "start_time": "2022-11-29T16:33:39.199Z"
   },
   {
    "duration": 15,
    "start_time": "2022-11-29T16:33:39.209Z"
   },
   {
    "duration": 5,
    "start_time": "2022-11-29T16:33:39.226Z"
   },
   {
    "duration": 9,
    "start_time": "2022-11-29T16:33:39.232Z"
   },
   {
    "duration": 7,
    "start_time": "2022-11-29T16:33:39.243Z"
   },
   {
    "duration": 16,
    "start_time": "2022-11-29T16:33:39.252Z"
   },
   {
    "duration": 1237,
    "start_time": "2022-11-30T05:38:30.641Z"
   },
   {
    "duration": 195,
    "start_time": "2022-11-30T05:38:31.881Z"
   },
   {
    "duration": 23,
    "start_time": "2022-11-30T05:38:32.078Z"
   },
   {
    "duration": 14,
    "start_time": "2022-11-30T05:38:32.102Z"
   },
   {
    "duration": 3,
    "start_time": "2022-11-30T05:38:32.117Z"
   },
   {
    "duration": 189,
    "start_time": "2022-11-30T05:38:32.122Z"
   },
   {
    "duration": 3,
    "start_time": "2022-11-30T05:38:32.313Z"
   },
   {
    "duration": 20,
    "start_time": "2022-11-30T05:38:32.318Z"
   },
   {
    "duration": 12,
    "start_time": "2022-11-30T05:38:32.340Z"
   },
   {
    "duration": 25,
    "start_time": "2022-11-30T05:38:32.354Z"
   },
   {
    "duration": 18,
    "start_time": "2022-11-30T05:38:32.381Z"
   },
   {
    "duration": 9,
    "start_time": "2022-11-30T05:38:32.401Z"
   },
   {
    "duration": 16,
    "start_time": "2022-11-30T05:38:32.411Z"
   },
   {
    "duration": 3,
    "start_time": "2022-11-30T05:38:32.429Z"
   },
   {
    "duration": 14,
    "start_time": "2022-11-30T05:38:32.434Z"
   },
   {
    "duration": 29,
    "start_time": "2022-11-30T05:38:32.449Z"
   },
   {
    "duration": 4,
    "start_time": "2022-11-30T05:38:32.480Z"
   },
   {
    "duration": 17,
    "start_time": "2022-11-30T05:38:32.486Z"
   },
   {
    "duration": 16,
    "start_time": "2022-11-30T05:38:32.504Z"
   },
   {
    "duration": 6,
    "start_time": "2022-11-30T05:38:32.521Z"
   },
   {
    "duration": 12,
    "start_time": "2022-11-30T05:38:32.528Z"
   },
   {
    "duration": 10,
    "start_time": "2022-11-30T05:38:32.542Z"
   },
   {
    "duration": 29,
    "start_time": "2022-11-30T05:38:32.553Z"
   },
   {
    "duration": 15,
    "start_time": "2022-11-30T05:38:32.583Z"
   },
   {
    "duration": 11,
    "start_time": "2022-11-30T05:38:32.599Z"
   },
   {
    "duration": 7,
    "start_time": "2022-11-30T05:38:32.611Z"
   },
   {
    "duration": 22,
    "start_time": "2022-11-30T05:38:32.620Z"
   },
   {
    "duration": 187,
    "start_time": "2022-11-30T05:38:32.646Z"
   },
   {
    "duration": 169,
    "start_time": "2022-11-30T05:38:32.835Z"
   },
   {
    "duration": 10,
    "start_time": "2022-11-30T05:38:33.006Z"
   },
   {
    "duration": 17,
    "start_time": "2022-11-30T05:38:33.017Z"
   },
   {
    "duration": 146,
    "start_time": "2022-11-30T05:38:33.035Z"
   },
   {
    "duration": 148,
    "start_time": "2022-11-30T05:38:33.183Z"
   },
   {
    "duration": 156,
    "start_time": "2022-11-30T05:38:33.332Z"
   },
   {
    "duration": 145,
    "start_time": "2022-11-30T05:38:33.489Z"
   },
   {
    "duration": 212,
    "start_time": "2022-11-30T05:38:33.635Z"
   },
   {
    "duration": 4,
    "start_time": "2022-11-30T05:38:33.849Z"
   },
   {
    "duration": 32,
    "start_time": "2022-11-30T05:38:33.855Z"
   },
   {
    "duration": 31,
    "start_time": "2022-11-30T05:38:33.889Z"
   },
   {
    "duration": 253,
    "start_time": "2022-11-30T05:38:33.922Z"
   },
   {
    "duration": 175,
    "start_time": "2022-11-30T05:38:34.177Z"
   },
   {
    "duration": 176,
    "start_time": "2022-11-30T05:38:34.354Z"
   },
   {
    "duration": 133,
    "start_time": "2022-11-30T05:38:34.532Z"
   },
   {
    "duration": 158,
    "start_time": "2022-11-30T05:38:34.667Z"
   },
   {
    "duration": 163,
    "start_time": "2022-11-30T05:38:34.826Z"
   },
   {
    "duration": 139,
    "start_time": "2022-11-30T05:38:34.990Z"
   },
   {
    "duration": 265,
    "start_time": "2022-11-30T05:38:35.131Z"
   },
   {
    "duration": 15,
    "start_time": "2022-11-30T05:38:35.398Z"
   },
   {
    "duration": 255,
    "start_time": "2022-11-30T05:38:35.414Z"
   },
   {
    "duration": 173,
    "start_time": "2022-11-30T05:38:35.671Z"
   },
   {
    "duration": 11,
    "start_time": "2022-11-30T05:38:35.846Z"
   },
   {
    "duration": 238,
    "start_time": "2022-11-30T05:38:35.858Z"
   },
   {
    "duration": 11,
    "start_time": "2022-11-30T05:38:36.098Z"
   },
   {
    "duration": 148,
    "start_time": "2022-11-30T05:38:36.110Z"
   },
   {
    "duration": 21,
    "start_time": "2022-11-30T05:38:36.259Z"
   },
   {
    "duration": 153,
    "start_time": "2022-11-30T05:38:36.282Z"
   },
   {
    "duration": 10,
    "start_time": "2022-11-30T05:38:36.437Z"
   },
   {
    "duration": 207,
    "start_time": "2022-11-30T05:38:36.448Z"
   },
   {
    "duration": 144,
    "start_time": "2022-11-30T05:38:36.657Z"
   },
   {
    "duration": 157,
    "start_time": "2022-11-30T05:38:36.803Z"
   },
   {
    "duration": 167,
    "start_time": "2022-11-30T05:38:36.962Z"
   },
   {
    "duration": 155,
    "start_time": "2022-11-30T05:38:37.131Z"
   },
   {
    "duration": 145,
    "start_time": "2022-11-30T05:38:37.287Z"
   },
   {
    "duration": 159,
    "start_time": "2022-11-30T05:38:37.433Z"
   },
   {
    "duration": 153,
    "start_time": "2022-11-30T05:38:37.593Z"
   },
   {
    "duration": 155,
    "start_time": "2022-11-30T05:38:37.748Z"
   },
   {
    "duration": 239,
    "start_time": "2022-11-30T05:38:37.904Z"
   },
   {
    "duration": 6,
    "start_time": "2022-11-30T05:38:38.144Z"
   },
   {
    "duration": 10,
    "start_time": "2022-11-30T05:38:38.152Z"
   },
   {
    "duration": 7,
    "start_time": "2022-11-30T05:38:38.177Z"
   },
   {
    "duration": 16,
    "start_time": "2022-11-30T05:38:38.186Z"
   },
   {
    "duration": 6,
    "start_time": "2022-11-30T05:38:38.204Z"
   },
   {
    "duration": 11,
    "start_time": "2022-11-30T05:38:38.211Z"
   },
   {
    "duration": 9,
    "start_time": "2022-11-30T05:38:38.223Z"
   },
   {
    "duration": 26,
    "start_time": "2022-11-30T05:38:38.234Z"
   },
   {
    "duration": 43,
    "start_time": "2022-11-30T11:07:48.892Z"
   },
   {
    "duration": 1252,
    "start_time": "2022-11-30T11:07:54.959Z"
   },
   {
    "duration": 95,
    "start_time": "2022-11-30T11:07:56.213Z"
   },
   {
    "duration": 22,
    "start_time": "2022-11-30T11:07:56.312Z"
   },
   {
    "duration": 17,
    "start_time": "2022-11-30T11:07:56.336Z"
   },
   {
    "duration": 13,
    "start_time": "2022-11-30T11:07:56.355Z"
   },
   {
    "duration": 177,
    "start_time": "2022-11-30T11:07:56.369Z"
   },
   {
    "duration": 109,
    "start_time": "2022-11-30T11:07:56.547Z"
   },
   {
    "duration": 0,
    "start_time": "2022-11-30T11:07:56.660Z"
   },
   {
    "duration": 0,
    "start_time": "2022-11-30T11:07:56.661Z"
   },
   {
    "duration": 0,
    "start_time": "2022-11-30T11:07:56.663Z"
   },
   {
    "duration": 0,
    "start_time": "2022-11-30T11:07:56.664Z"
   },
   {
    "duration": 0,
    "start_time": "2022-11-30T11:07:56.665Z"
   },
   {
    "duration": 0,
    "start_time": "2022-11-30T11:07:56.667Z"
   },
   {
    "duration": 0,
    "start_time": "2022-11-30T11:07:56.668Z"
   },
   {
    "duration": 0,
    "start_time": "2022-11-30T11:07:56.669Z"
   },
   {
    "duration": 0,
    "start_time": "2022-11-30T11:07:56.671Z"
   },
   {
    "duration": 0,
    "start_time": "2022-11-30T11:07:56.672Z"
   },
   {
    "duration": 0,
    "start_time": "2022-11-30T11:07:56.673Z"
   },
   {
    "duration": 0,
    "start_time": "2022-11-30T11:07:56.675Z"
   },
   {
    "duration": 0,
    "start_time": "2022-11-30T11:07:56.676Z"
   },
   {
    "duration": 0,
    "start_time": "2022-11-30T11:07:56.678Z"
   },
   {
    "duration": 0,
    "start_time": "2022-11-30T11:07:56.679Z"
   },
   {
    "duration": 0,
    "start_time": "2022-11-30T11:07:56.680Z"
   },
   {
    "duration": 0,
    "start_time": "2022-11-30T11:07:56.681Z"
   },
   {
    "duration": 0,
    "start_time": "2022-11-30T11:07:56.721Z"
   },
   {
    "duration": 0,
    "start_time": "2022-11-30T11:07:56.723Z"
   },
   {
    "duration": 0,
    "start_time": "2022-11-30T11:07:56.724Z"
   },
   {
    "duration": 0,
    "start_time": "2022-11-30T11:07:56.725Z"
   },
   {
    "duration": 0,
    "start_time": "2022-11-30T11:07:56.727Z"
   },
   {
    "duration": 0,
    "start_time": "2022-11-30T11:07:56.728Z"
   },
   {
    "duration": 0,
    "start_time": "2022-11-30T11:07:56.729Z"
   },
   {
    "duration": 0,
    "start_time": "2022-11-30T11:07:56.730Z"
   },
   {
    "duration": 0,
    "start_time": "2022-11-30T11:07:56.731Z"
   },
   {
    "duration": 0,
    "start_time": "2022-11-30T11:07:56.732Z"
   },
   {
    "duration": 0,
    "start_time": "2022-11-30T11:07:56.733Z"
   },
   {
    "duration": 0,
    "start_time": "2022-11-30T11:07:56.734Z"
   },
   {
    "duration": 0,
    "start_time": "2022-11-30T11:07:56.735Z"
   },
   {
    "duration": 0,
    "start_time": "2022-11-30T11:07:56.736Z"
   },
   {
    "duration": 0,
    "start_time": "2022-11-30T11:07:56.737Z"
   },
   {
    "duration": 0,
    "start_time": "2022-11-30T11:07:56.738Z"
   },
   {
    "duration": 0,
    "start_time": "2022-11-30T11:07:56.739Z"
   },
   {
    "duration": 0,
    "start_time": "2022-11-30T11:07:56.740Z"
   },
   {
    "duration": 0,
    "start_time": "2022-11-30T11:07:56.741Z"
   },
   {
    "duration": 0,
    "start_time": "2022-11-30T11:07:56.742Z"
   },
   {
    "duration": 0,
    "start_time": "2022-11-30T11:07:56.743Z"
   },
   {
    "duration": 0,
    "start_time": "2022-11-30T11:07:56.744Z"
   },
   {
    "duration": 0,
    "start_time": "2022-11-30T11:07:56.745Z"
   },
   {
    "duration": 0,
    "start_time": "2022-11-30T11:07:56.746Z"
   },
   {
    "duration": 0,
    "start_time": "2022-11-30T11:07:56.747Z"
   },
   {
    "duration": 0,
    "start_time": "2022-11-30T11:07:56.748Z"
   },
   {
    "duration": 0,
    "start_time": "2022-11-30T11:07:56.749Z"
   },
   {
    "duration": 0,
    "start_time": "2022-11-30T11:07:56.751Z"
   },
   {
    "duration": 0,
    "start_time": "2022-11-30T11:07:56.752Z"
   },
   {
    "duration": 0,
    "start_time": "2022-11-30T11:07:56.753Z"
   },
   {
    "duration": 0,
    "start_time": "2022-11-30T11:07:56.754Z"
   },
   {
    "duration": 0,
    "start_time": "2022-11-30T11:07:56.755Z"
   },
   {
    "duration": 0,
    "start_time": "2022-11-30T11:07:56.756Z"
   },
   {
    "duration": 0,
    "start_time": "2022-11-30T11:07:56.821Z"
   },
   {
    "duration": 0,
    "start_time": "2022-11-30T11:07:56.822Z"
   },
   {
    "duration": 0,
    "start_time": "2022-11-30T11:07:56.823Z"
   },
   {
    "duration": 0,
    "start_time": "2022-11-30T11:07:56.824Z"
   },
   {
    "duration": 0,
    "start_time": "2022-11-30T11:07:56.825Z"
   },
   {
    "duration": 0,
    "start_time": "2022-11-30T11:07:56.826Z"
   },
   {
    "duration": 0,
    "start_time": "2022-11-30T11:07:56.827Z"
   },
   {
    "duration": 0,
    "start_time": "2022-11-30T11:07:56.827Z"
   },
   {
    "duration": 0,
    "start_time": "2022-11-30T11:07:56.828Z"
   },
   {
    "duration": 0,
    "start_time": "2022-11-30T11:07:56.829Z"
   },
   {
    "duration": 0,
    "start_time": "2022-11-30T11:07:56.830Z"
   },
   {
    "duration": 0,
    "start_time": "2022-11-30T11:07:56.832Z"
   },
   {
    "duration": 0,
    "start_time": "2022-11-30T11:07:56.832Z"
   },
   {
    "duration": 0,
    "start_time": "2022-11-30T11:07:56.833Z"
   },
   {
    "duration": 0,
    "start_time": "2022-11-30T11:07:56.834Z"
   },
   {
    "duration": 0,
    "start_time": "2022-11-30T11:07:56.835Z"
   },
   {
    "duration": 0,
    "start_time": "2022-11-30T11:07:56.836Z"
   },
   {
    "duration": 0,
    "start_time": "2022-11-30T11:07:56.837Z"
   },
   {
    "duration": 0,
    "start_time": "2022-11-30T11:07:56.838Z"
   },
   {
    "duration": 12,
    "start_time": "2022-11-30T11:08:35.144Z"
   },
   {
    "duration": 58,
    "start_time": "2022-11-30T11:08:42.424Z"
   },
   {
    "duration": 1071,
    "start_time": "2022-11-30T11:11:27.536Z"
   },
   {
    "duration": 51,
    "start_time": "2022-11-30T11:11:28.608Z"
   },
   {
    "duration": 22,
    "start_time": "2022-11-30T11:11:28.660Z"
   },
   {
    "duration": 13,
    "start_time": "2022-11-30T11:11:28.684Z"
   },
   {
    "duration": 4,
    "start_time": "2022-11-30T11:11:28.699Z"
   },
   {
    "duration": 177,
    "start_time": "2022-11-30T11:11:28.704Z"
   },
   {
    "duration": 54,
    "start_time": "2022-11-30T11:11:28.883Z"
   },
   {
    "duration": 4,
    "start_time": "2022-11-30T11:11:28.939Z"
   },
   {
    "duration": 21,
    "start_time": "2022-11-30T11:11:28.944Z"
   },
   {
    "duration": 11,
    "start_time": "2022-11-30T11:11:28.967Z"
   },
   {
    "duration": 12,
    "start_time": "2022-11-30T11:11:28.980Z"
   },
   {
    "duration": 33,
    "start_time": "2022-11-30T11:11:28.994Z"
   },
   {
    "duration": 5,
    "start_time": "2022-11-30T11:11:29.029Z"
   },
   {
    "duration": 18,
    "start_time": "2022-11-30T11:11:29.036Z"
   },
   {
    "duration": 4,
    "start_time": "2022-11-30T11:11:29.056Z"
   },
   {
    "duration": 11,
    "start_time": "2022-11-30T11:11:29.061Z"
   },
   {
    "duration": 5,
    "start_time": "2022-11-30T11:11:29.073Z"
   },
   {
    "duration": 7,
    "start_time": "2022-11-30T11:11:29.079Z"
   },
   {
    "duration": 43,
    "start_time": "2022-11-30T11:11:29.087Z"
   },
   {
    "duration": 14,
    "start_time": "2022-11-30T11:11:29.131Z"
   },
   {
    "duration": 4,
    "start_time": "2022-11-30T11:11:29.147Z"
   },
   {
    "duration": 12,
    "start_time": "2022-11-30T11:11:29.152Z"
   },
   {
    "duration": 8,
    "start_time": "2022-11-30T11:11:29.166Z"
   },
   {
    "duration": 7,
    "start_time": "2022-11-30T11:11:29.176Z"
   },
   {
    "duration": 41,
    "start_time": "2022-11-30T11:11:29.184Z"
   },
   {
    "duration": 8,
    "start_time": "2022-11-30T11:11:29.227Z"
   },
   {
    "duration": 7,
    "start_time": "2022-11-30T11:11:29.237Z"
   },
   {
    "duration": 18,
    "start_time": "2022-11-30T11:11:29.248Z"
   },
   {
    "duration": 190,
    "start_time": "2022-11-30T11:11:29.268Z"
   },
   {
    "duration": 152,
    "start_time": "2022-11-30T11:11:29.460Z"
   },
   {
    "duration": 13,
    "start_time": "2022-11-30T11:11:29.614Z"
   },
   {
    "duration": 13,
    "start_time": "2022-11-30T11:11:29.629Z"
   },
   {
    "duration": 136,
    "start_time": "2022-11-30T11:11:29.644Z"
   },
   {
    "duration": 142,
    "start_time": "2022-11-30T11:11:29.781Z"
   },
   {
    "duration": 152,
    "start_time": "2022-11-30T11:11:29.924Z"
   },
   {
    "duration": 136,
    "start_time": "2022-11-30T11:11:30.078Z"
   },
   {
    "duration": 206,
    "start_time": "2022-11-30T11:11:30.221Z"
   },
   {
    "duration": 4,
    "start_time": "2022-11-30T11:11:30.429Z"
   },
   {
    "duration": 51,
    "start_time": "2022-11-30T11:11:30.434Z"
   },
   {
    "duration": 39,
    "start_time": "2022-11-30T11:11:30.486Z"
   },
   {
    "duration": 195,
    "start_time": "2022-11-30T11:11:30.526Z"
   },
   {
    "duration": 180,
    "start_time": "2022-11-30T11:11:30.723Z"
   },
   {
    "duration": 176,
    "start_time": "2022-11-30T11:11:30.905Z"
   },
   {
    "duration": 148,
    "start_time": "2022-11-30T11:11:31.083Z"
   },
   {
    "duration": 166,
    "start_time": "2022-11-30T11:11:31.232Z"
   },
   {
    "duration": 179,
    "start_time": "2022-11-30T11:11:31.400Z"
   },
   {
    "duration": 141,
    "start_time": "2022-11-30T11:11:31.581Z"
   },
   {
    "duration": 258,
    "start_time": "2022-11-30T11:11:31.724Z"
   },
   {
    "duration": 14,
    "start_time": "2022-11-30T11:11:31.984Z"
   },
   {
    "duration": 268,
    "start_time": "2022-11-30T11:11:31.999Z"
   },
   {
    "duration": 163,
    "start_time": "2022-11-30T11:11:32.269Z"
   },
   {
    "duration": 13,
    "start_time": "2022-11-30T11:11:32.433Z"
   },
   {
    "duration": 238,
    "start_time": "2022-11-30T11:11:32.448Z"
   },
   {
    "duration": 13,
    "start_time": "2022-11-30T11:11:32.688Z"
   },
   {
    "duration": 166,
    "start_time": "2022-11-30T11:11:32.702Z"
   },
   {
    "duration": 13,
    "start_time": "2022-11-30T11:11:32.869Z"
   },
   {
    "duration": 180,
    "start_time": "2022-11-30T11:11:32.884Z"
   },
   {
    "duration": 12,
    "start_time": "2022-11-30T11:11:33.066Z"
   },
   {
    "duration": 217,
    "start_time": "2022-11-30T11:11:33.079Z"
   },
   {
    "duration": 150,
    "start_time": "2022-11-30T11:11:33.298Z"
   },
   {
    "duration": 145,
    "start_time": "2022-11-30T11:11:33.449Z"
   },
   {
    "duration": 147,
    "start_time": "2022-11-30T11:11:33.596Z"
   },
   {
    "duration": 143,
    "start_time": "2022-11-30T11:11:33.745Z"
   },
   {
    "duration": 154,
    "start_time": "2022-11-30T11:11:33.890Z"
   },
   {
    "duration": 157,
    "start_time": "2022-11-30T11:11:34.045Z"
   },
   {
    "duration": 147,
    "start_time": "2022-11-30T11:11:34.204Z"
   },
   {
    "duration": 164,
    "start_time": "2022-11-30T11:11:34.353Z"
   },
   {
    "duration": 247,
    "start_time": "2022-11-30T11:11:34.521Z"
   },
   {
    "duration": 4,
    "start_time": "2022-11-30T11:11:34.770Z"
   },
   {
    "duration": 8,
    "start_time": "2022-11-30T11:11:34.775Z"
   },
   {
    "duration": 6,
    "start_time": "2022-11-30T11:11:34.784Z"
   },
   {
    "duration": 31,
    "start_time": "2022-11-30T11:11:34.791Z"
   },
   {
    "duration": 5,
    "start_time": "2022-11-30T11:11:34.823Z"
   },
   {
    "duration": 12,
    "start_time": "2022-11-30T11:11:34.829Z"
   },
   {
    "duration": 7,
    "start_time": "2022-11-30T11:11:34.843Z"
   },
   {
    "duration": 19,
    "start_time": "2022-11-30T11:11:34.851Z"
   },
   {
    "duration": 96,
    "start_time": "2022-11-30T11:19:30.343Z"
   },
   {
    "duration": 13,
    "start_time": "2022-11-30T11:19:35.790Z"
   },
   {
    "duration": 14,
    "start_time": "2022-11-30T11:19:40.727Z"
   },
   {
    "duration": 12,
    "start_time": "2022-11-30T11:19:47.174Z"
   },
   {
    "duration": 5,
    "start_time": "2022-11-30T11:20:51.163Z"
   },
   {
    "duration": 5,
    "start_time": "2022-11-30T11:21:02.994Z"
   },
   {
    "duration": 4,
    "start_time": "2022-11-30T11:22:32.890Z"
   },
   {
    "duration": 21,
    "start_time": "2022-11-30T11:22:34.446Z"
   },
   {
    "duration": 17,
    "start_time": "2022-11-30T11:22:39.034Z"
   },
   {
    "duration": 166,
    "start_time": "2022-11-30T11:22:40.507Z"
   },
   {
    "duration": 185,
    "start_time": "2022-11-30T11:22:46.531Z"
   },
   {
    "duration": 181,
    "start_time": "2022-11-30T11:22:48.427Z"
   },
   {
    "duration": 130,
    "start_time": "2022-11-30T11:22:49.451Z"
   },
   {
    "duration": 143,
    "start_time": "2022-11-30T11:22:50.571Z"
   },
   {
    "duration": 148,
    "start_time": "2022-11-30T11:22:51.923Z"
   },
   {
    "duration": 125,
    "start_time": "2022-11-30T11:22:53.235Z"
   },
   {
    "duration": 237,
    "start_time": "2022-11-30T11:22:54.355Z"
   },
   {
    "duration": 12,
    "start_time": "2022-11-30T11:27:28.744Z"
   },
   {
    "duration": 219,
    "start_time": "2022-11-30T11:27:46.176Z"
   },
   {
    "duration": 186,
    "start_time": "2022-11-30T11:27:52.816Z"
   },
   {
    "duration": 286,
    "start_time": "2022-11-30T11:27:56.436Z"
   },
   {
    "duration": 225,
    "start_time": "2022-11-30T11:28:30.508Z"
   },
   {
    "duration": 199,
    "start_time": "2022-11-30T11:28:46.312Z"
   },
   {
    "duration": 180,
    "start_time": "2022-11-30T11:29:07.536Z"
   },
   {
    "duration": 174,
    "start_time": "2022-11-30T11:29:10.641Z"
   },
   {
    "duration": 195,
    "start_time": "2022-11-30T11:29:19.328Z"
   },
   {
    "duration": 14,
    "start_time": "2022-11-30T11:29:22.536Z"
   },
   {
    "duration": 15,
    "start_time": "2022-11-30T11:29:26.148Z"
   },
   {
    "duration": 185,
    "start_time": "2022-11-30T11:29:29.424Z"
   },
   {
    "duration": 14,
    "start_time": "2022-11-30T11:29:44.744Z"
   },
   {
    "duration": 13,
    "start_time": "2022-11-30T11:30:11.416Z"
   },
   {
    "duration": 13,
    "start_time": "2022-11-30T11:30:14.880Z"
   },
   {
    "duration": 14,
    "start_time": "2022-11-30T11:30:21.384Z"
   },
   {
    "duration": 283,
    "start_time": "2022-11-30T11:30:25.776Z"
   },
   {
    "duration": 17,
    "start_time": "2022-11-30T11:30:29.912Z"
   },
   {
    "duration": 202,
    "start_time": "2022-11-30T11:31:01.424Z"
   },
   {
    "duration": 189,
    "start_time": "2022-11-30T11:31:10.240Z"
   },
   {
    "duration": 222,
    "start_time": "2022-11-30T11:31:15.273Z"
   },
   {
    "duration": 14,
    "start_time": "2022-11-30T11:31:24.576Z"
   },
   {
    "duration": 14,
    "start_time": "2022-11-30T11:31:49.280Z"
   },
   {
    "duration": 14,
    "start_time": "2022-11-30T11:32:31.369Z"
   },
   {
    "duration": 202,
    "start_time": "2022-11-30T11:33:10.864Z"
   },
   {
    "duration": 196,
    "start_time": "2022-11-30T11:33:56.974Z"
   },
   {
    "duration": 202,
    "start_time": "2022-11-30T11:34:02.865Z"
   },
   {
    "duration": 172,
    "start_time": "2022-11-30T11:34:07.349Z"
   },
   {
    "duration": 14,
    "start_time": "2022-11-30T11:34:40.913Z"
   },
   {
    "duration": 15,
    "start_time": "2022-11-30T11:34:45.657Z"
   },
   {
    "duration": 17,
    "start_time": "2022-11-30T11:34:48.122Z"
   },
   {
    "duration": 275,
    "start_time": "2022-11-30T11:36:16.841Z"
   },
   {
    "duration": 180,
    "start_time": "2022-11-30T11:36:39.693Z"
   },
   {
    "duration": 186,
    "start_time": "2022-11-30T11:36:51.869Z"
   },
   {
    "duration": 184,
    "start_time": "2022-11-30T11:36:57.062Z"
   },
   {
    "duration": 176,
    "start_time": "2022-11-30T11:37:41.066Z"
   },
   {
    "duration": 180,
    "start_time": "2022-11-30T11:37:47.666Z"
   },
   {
    "duration": 185,
    "start_time": "2022-11-30T11:38:47.801Z"
   },
   {
    "duration": 1017,
    "start_time": "2022-11-30T11:38:56.476Z"
   },
   {
    "duration": 52,
    "start_time": "2022-11-30T11:38:57.494Z"
   },
   {
    "duration": 22,
    "start_time": "2022-11-30T11:38:57.548Z"
   },
   {
    "duration": 15,
    "start_time": "2022-11-30T11:38:57.572Z"
   },
   {
    "duration": 5,
    "start_time": "2022-11-30T11:38:57.588Z"
   },
   {
    "duration": 194,
    "start_time": "2022-11-30T11:38:57.594Z"
   },
   {
    "duration": 57,
    "start_time": "2022-11-30T11:38:57.790Z"
   },
   {
    "duration": 2,
    "start_time": "2022-11-30T11:38:57.849Z"
   },
   {
    "duration": 36,
    "start_time": "2022-11-30T11:38:57.853Z"
   },
   {
    "duration": 14,
    "start_time": "2022-11-30T11:38:57.892Z"
   },
   {
    "duration": 14,
    "start_time": "2022-11-30T11:38:57.908Z"
   },
   {
    "duration": 22,
    "start_time": "2022-11-30T11:38:57.923Z"
   },
   {
    "duration": 4,
    "start_time": "2022-11-30T11:38:57.947Z"
   },
   {
    "duration": 20,
    "start_time": "2022-11-30T11:38:57.953Z"
   },
   {
    "duration": 4,
    "start_time": "2022-11-30T11:38:57.974Z"
   },
   {
    "duration": 13,
    "start_time": "2022-11-30T11:38:57.979Z"
   },
   {
    "duration": 6,
    "start_time": "2022-11-30T11:38:57.993Z"
   },
   {
    "duration": 21,
    "start_time": "2022-11-30T11:38:58.000Z"
   },
   {
    "duration": 11,
    "start_time": "2022-11-30T11:38:58.022Z"
   },
   {
    "duration": 14,
    "start_time": "2022-11-30T11:38:58.035Z"
   },
   {
    "duration": 4,
    "start_time": "2022-11-30T11:38:58.051Z"
   },
   {
    "duration": 12,
    "start_time": "2022-11-30T11:38:58.056Z"
   },
   {
    "duration": 14,
    "start_time": "2022-11-30T11:38:58.070Z"
   },
   {
    "duration": 8,
    "start_time": "2022-11-30T11:38:58.086Z"
   },
   {
    "duration": 38,
    "start_time": "2022-11-30T11:38:58.096Z"
   },
   {
    "duration": 19,
    "start_time": "2022-11-30T11:38:58.135Z"
   },
   {
    "duration": 19,
    "start_time": "2022-11-30T11:38:58.156Z"
   },
   {
    "duration": 23,
    "start_time": "2022-11-30T11:38:58.179Z"
   },
   {
    "duration": 17,
    "start_time": "2022-11-30T11:38:58.204Z"
   },
   {
    "duration": 166,
    "start_time": "2022-11-30T11:38:58.223Z"
   },
   {
    "duration": 158,
    "start_time": "2022-11-30T11:38:58.391Z"
   },
   {
    "duration": 10,
    "start_time": "2022-11-30T11:38:58.551Z"
   },
   {
    "duration": 20,
    "start_time": "2022-11-30T11:38:58.563Z"
   },
   {
    "duration": 137,
    "start_time": "2022-11-30T11:38:58.585Z"
   },
   {
    "duration": 143,
    "start_time": "2022-11-30T11:38:58.724Z"
   },
   {
    "duration": 161,
    "start_time": "2022-11-30T11:38:58.869Z"
   },
   {
    "duration": 199,
    "start_time": "2022-11-30T11:38:59.032Z"
   },
   {
    "duration": 140,
    "start_time": "2022-11-30T11:38:59.233Z"
   },
   {
    "duration": 5,
    "start_time": "2022-11-30T11:38:59.375Z"
   },
   {
    "duration": 30,
    "start_time": "2022-11-30T11:38:59.381Z"
   },
   {
    "duration": 18,
    "start_time": "2022-11-30T11:38:59.420Z"
   },
   {
    "duration": 166,
    "start_time": "2022-11-30T11:38:59.440Z"
   },
   {
    "duration": 170,
    "start_time": "2022-11-30T11:38:59.607Z"
   },
   {
    "duration": 177,
    "start_time": "2022-11-30T11:38:59.779Z"
   },
   {
    "duration": 139,
    "start_time": "2022-11-30T11:38:59.958Z"
   },
   {
    "duration": 154,
    "start_time": "2022-11-30T11:39:00.099Z"
   },
   {
    "duration": 164,
    "start_time": "2022-11-30T11:39:00.255Z"
   },
   {
    "duration": 142,
    "start_time": "2022-11-30T11:39:00.421Z"
   },
   {
    "duration": 278,
    "start_time": "2022-11-30T11:39:00.564Z"
   },
   {
    "duration": 15,
    "start_time": "2022-11-30T11:39:00.844Z"
   },
   {
    "duration": 215,
    "start_time": "2022-11-30T11:39:00.861Z"
   },
   {
    "duration": 270,
    "start_time": "2022-11-30T11:39:01.077Z"
   },
   {
    "duration": 142,
    "start_time": "2022-11-30T11:39:01.349Z"
   },
   {
    "duration": 13,
    "start_time": "2022-11-30T11:39:01.493Z"
   },
   {
    "duration": 159,
    "start_time": "2022-11-30T11:39:01.520Z"
   },
   {
    "duration": 11,
    "start_time": "2022-11-30T11:39:01.681Z"
   },
   {
    "duration": 217,
    "start_time": "2022-11-30T11:39:01.693Z"
   },
   {
    "duration": 13,
    "start_time": "2022-11-30T11:39:01.912Z"
   },
   {
    "duration": 157,
    "start_time": "2022-11-30T11:39:01.927Z"
   },
   {
    "duration": 10,
    "start_time": "2022-11-30T11:39:02.086Z"
   },
   {
    "duration": 197,
    "start_time": "2022-11-30T11:39:02.098Z"
   },
   {
    "duration": 160,
    "start_time": "2022-11-30T11:39:02.296Z"
   },
   {
    "duration": 151,
    "start_time": "2022-11-30T11:39:02.458Z"
   },
   {
    "duration": 145,
    "start_time": "2022-11-30T11:39:02.611Z"
   },
   {
    "duration": 154,
    "start_time": "2022-11-30T11:39:02.757Z"
   },
   {
    "duration": 141,
    "start_time": "2022-11-30T11:39:02.913Z"
   },
   {
    "duration": 154,
    "start_time": "2022-11-30T11:39:03.056Z"
   },
   {
    "duration": 229,
    "start_time": "2022-11-30T11:39:03.212Z"
   },
   {
    "duration": 143,
    "start_time": "2022-11-30T11:39:03.443Z"
   },
   {
    "duration": 151,
    "start_time": "2022-11-30T11:39:03.588Z"
   },
   {
    "duration": 5,
    "start_time": "2022-11-30T11:39:03.741Z"
   },
   {
    "duration": 10,
    "start_time": "2022-11-30T11:39:03.748Z"
   },
   {
    "duration": 7,
    "start_time": "2022-11-30T11:39:03.760Z"
   },
   {
    "duration": 26,
    "start_time": "2022-11-30T11:39:03.769Z"
   },
   {
    "duration": 6,
    "start_time": "2022-11-30T11:39:03.797Z"
   },
   {
    "duration": 9,
    "start_time": "2022-11-30T11:39:03.804Z"
   },
   {
    "duration": 10,
    "start_time": "2022-11-30T11:39:03.815Z"
   },
   {
    "duration": 19,
    "start_time": "2022-11-30T11:39:03.826Z"
   },
   {
    "duration": 180,
    "start_time": "2022-11-30T11:39:41.921Z"
   },
   {
    "duration": 192,
    "start_time": "2022-11-30T11:41:53.954Z"
   },
   {
    "duration": 211,
    "start_time": "2022-11-30T11:41:58.475Z"
   },
   {
    "duration": 137,
    "start_time": "2022-11-30T11:43:55.990Z"
   },
   {
    "duration": 137,
    "start_time": "2022-11-30T11:44:33.651Z"
   },
   {
    "duration": 132,
    "start_time": "2022-11-30T11:44:40.634Z"
   },
   {
    "duration": 94,
    "start_time": "2022-11-30T11:49:26.059Z"
   },
   {
    "duration": 589,
    "start_time": "2022-11-30T11:49:31.471Z"
   },
   {
    "duration": 695,
    "start_time": "2022-11-30T11:49:43.591Z"
   },
   {
    "duration": 599,
    "start_time": "2022-11-30T11:50:01.439Z"
   },
   {
    "duration": 561,
    "start_time": "2022-11-30T11:50:56.560Z"
   },
   {
    "duration": 596,
    "start_time": "2022-11-30T11:51:09.316Z"
   },
   {
    "duration": 579,
    "start_time": "2022-11-30T11:51:52.248Z"
   },
   {
    "duration": 659,
    "start_time": "2022-11-30T11:52:07.856Z"
   },
   {
    "duration": 583,
    "start_time": "2022-11-30T11:52:27.016Z"
   },
   {
    "duration": 576,
    "start_time": "2022-11-30T11:52:43.292Z"
   },
   {
    "duration": 562,
    "start_time": "2022-11-30T11:52:47.816Z"
   },
   {
    "duration": 595,
    "start_time": "2022-11-30T11:52:55.440Z"
   },
   {
    "duration": 650,
    "start_time": "2022-11-30T11:53:34.984Z"
   },
   {
    "duration": 679,
    "start_time": "2022-11-30T11:53:45.816Z"
   },
   {
    "duration": 10,
    "start_time": "2022-11-30T11:57:59.365Z"
   },
   {
    "duration": 17,
    "start_time": "2022-11-30T11:58:13.911Z"
   },
   {
    "duration": 1170,
    "start_time": "2022-11-30T11:58:20.088Z"
   },
   {
    "duration": 1325,
    "start_time": "2022-11-30T11:59:01.965Z"
   },
   {
    "duration": 1188,
    "start_time": "2022-11-30T11:59:17.953Z"
   },
   {
    "duration": 26,
    "start_time": "2022-11-30T11:59:25.233Z"
   },
   {
    "duration": 1264,
    "start_time": "2022-11-30T11:59:29.257Z"
   },
   {
    "duration": 1116,
    "start_time": "2022-11-30T11:59:39.893Z"
   },
   {
    "duration": 1065,
    "start_time": "2022-11-30T11:59:42.208Z"
   },
   {
    "duration": 1239,
    "start_time": "2022-11-30T11:59:53.193Z"
   },
   {
    "duration": 184,
    "start_time": "2022-11-30T12:00:16.969Z"
   },
   {
    "duration": 171,
    "start_time": "2022-11-30T12:01:10.153Z"
   },
   {
    "duration": 170,
    "start_time": "2022-11-30T12:01:15.538Z"
   },
   {
    "duration": 137,
    "start_time": "2022-11-30T12:01:30.678Z"
   },
   {
    "duration": 133,
    "start_time": "2022-11-30T12:01:31.785Z"
   },
   {
    "duration": 135,
    "start_time": "2022-11-30T12:01:33.641Z"
   },
   {
    "duration": 155,
    "start_time": "2022-11-30T12:01:38.513Z"
   },
   {
    "duration": 136,
    "start_time": "2022-11-30T12:01:39.285Z"
   },
   {
    "duration": 165,
    "start_time": "2022-11-30T12:01:40.433Z"
   },
   {
    "duration": 180,
    "start_time": "2022-11-30T12:02:01.801Z"
   },
   {
    "duration": 246,
    "start_time": "2022-11-30T12:02:12.025Z"
   },
   {
    "duration": 151,
    "start_time": "2022-11-30T12:02:19.457Z"
   },
   {
    "duration": 126,
    "start_time": "2022-11-30T12:02:32.618Z"
   },
   {
    "duration": 145,
    "start_time": "2022-11-30T12:02:40.146Z"
   },
   {
    "duration": 141,
    "start_time": "2022-11-30T12:02:44.826Z"
   },
   {
    "duration": 6,
    "start_time": "2022-11-30T12:03:12.573Z"
   },
   {
    "duration": 5,
    "start_time": "2022-11-30T12:03:12.921Z"
   },
   {
    "duration": 6,
    "start_time": "2022-11-30T12:03:13.945Z"
   },
   {
    "duration": 17,
    "start_time": "2022-11-30T12:03:20.450Z"
   },
   {
    "duration": 5,
    "start_time": "2022-11-30T12:04:01.770Z"
   },
   {
    "duration": 4,
    "start_time": "2022-11-30T12:04:02.022Z"
   },
   {
    "duration": 6,
    "start_time": "2022-11-30T12:04:03.245Z"
   },
   {
    "duration": 15,
    "start_time": "2022-11-30T12:04:08.145Z"
   },
   {
    "duration": 4,
    "start_time": "2022-11-30T12:06:11.163Z"
   },
   {
    "duration": 148,
    "start_time": "2022-11-30T12:06:18.850Z"
   },
   {
    "duration": 142,
    "start_time": "2022-11-30T12:06:21.730Z"
   },
   {
    "duration": 136,
    "start_time": "2022-11-30T12:06:23.079Z"
   },
   {
    "duration": 15,
    "start_time": "2022-11-30T12:07:15.011Z"
   },
   {
    "duration": 10,
    "start_time": "2022-11-30T12:07:20.994Z"
   },
   {
    "duration": 4,
    "start_time": "2022-11-30T12:07:29.290Z"
   },
   {
    "duration": 16,
    "start_time": "2022-11-30T12:12:10.183Z"
   },
   {
    "duration": 8,
    "start_time": "2022-11-30T12:12:43.943Z"
   },
   {
    "duration": 4,
    "start_time": "2022-11-30T12:13:10.752Z"
   },
   {
    "duration": 156,
    "start_time": "2022-11-30T12:13:12.703Z"
   },
   {
    "duration": 1048,
    "start_time": "2022-11-30T12:13:17.459Z"
   },
   {
    "duration": 50,
    "start_time": "2022-11-30T12:13:18.509Z"
   },
   {
    "duration": 24,
    "start_time": "2022-11-30T12:13:18.561Z"
   },
   {
    "duration": 19,
    "start_time": "2022-11-30T12:13:18.587Z"
   },
   {
    "duration": 4,
    "start_time": "2022-11-30T12:13:18.607Z"
   },
   {
    "duration": 194,
    "start_time": "2022-11-30T12:13:18.612Z"
   },
   {
    "duration": 52,
    "start_time": "2022-11-30T12:13:18.807Z"
   },
   {
    "duration": 3,
    "start_time": "2022-11-30T12:13:18.860Z"
   },
   {
    "duration": 23,
    "start_time": "2022-11-30T12:13:18.864Z"
   },
   {
    "duration": 10,
    "start_time": "2022-11-30T12:13:18.889Z"
   },
   {
    "duration": 28,
    "start_time": "2022-11-30T12:13:18.901Z"
   },
   {
    "duration": 20,
    "start_time": "2022-11-30T12:13:18.931Z"
   },
   {
    "duration": 4,
    "start_time": "2022-11-30T12:13:18.953Z"
   },
   {
    "duration": 29,
    "start_time": "2022-11-30T12:13:18.959Z"
   },
   {
    "duration": 5,
    "start_time": "2022-11-30T12:13:18.989Z"
   },
   {
    "duration": 12,
    "start_time": "2022-11-30T12:13:19.020Z"
   },
   {
    "duration": 5,
    "start_time": "2022-11-30T12:13:19.034Z"
   },
   {
    "duration": 4,
    "start_time": "2022-11-30T12:13:19.041Z"
   },
   {
    "duration": 14,
    "start_time": "2022-11-30T12:13:19.047Z"
   },
   {
    "duration": 15,
    "start_time": "2022-11-30T12:13:19.063Z"
   },
   {
    "duration": 5,
    "start_time": "2022-11-30T12:13:19.079Z"
   },
   {
    "duration": 38,
    "start_time": "2022-11-30T12:13:19.086Z"
   },
   {
    "duration": 11,
    "start_time": "2022-11-30T12:13:19.125Z"
   },
   {
    "duration": 8,
    "start_time": "2022-11-30T12:13:19.138Z"
   },
   {
    "duration": 18,
    "start_time": "2022-11-30T12:13:19.148Z"
   },
   {
    "duration": 8,
    "start_time": "2022-11-30T12:13:19.168Z"
   },
   {
    "duration": 9,
    "start_time": "2022-11-30T12:13:19.177Z"
   },
   {
    "duration": 53,
    "start_time": "2022-11-30T12:13:19.191Z"
   },
   {
    "duration": 18,
    "start_time": "2022-11-30T12:13:19.246Z"
   },
   {
    "duration": 195,
    "start_time": "2022-11-30T12:13:19.266Z"
   },
   {
    "duration": 162,
    "start_time": "2022-11-30T12:13:19.463Z"
   },
   {
    "duration": 10,
    "start_time": "2022-11-30T12:13:19.626Z"
   },
   {
    "duration": 14,
    "start_time": "2022-11-30T12:13:19.637Z"
   },
   {
    "duration": 138,
    "start_time": "2022-11-30T12:13:19.652Z"
   },
   {
    "duration": 152,
    "start_time": "2022-11-30T12:13:19.792Z"
   },
   {
    "duration": 147,
    "start_time": "2022-11-30T12:13:19.946Z"
   },
   {
    "duration": 199,
    "start_time": "2022-11-30T12:13:20.094Z"
   },
   {
    "duration": 137,
    "start_time": "2022-11-30T12:13:20.295Z"
   },
   {
    "duration": 4,
    "start_time": "2022-11-30T12:13:20.433Z"
   },
   {
    "duration": 20,
    "start_time": "2022-11-30T12:13:20.439Z"
   },
   {
    "duration": 17,
    "start_time": "2022-11-30T12:13:20.461Z"
   },
   {
    "duration": 193,
    "start_time": "2022-11-30T12:13:20.480Z"
   },
   {
    "duration": 180,
    "start_time": "2022-11-30T12:13:20.674Z"
   },
   {
    "duration": 185,
    "start_time": "2022-11-30T12:13:20.856Z"
   },
   {
    "duration": 145,
    "start_time": "2022-11-30T12:13:21.042Z"
   },
   {
    "duration": 154,
    "start_time": "2022-11-30T12:13:21.188Z"
   },
   {
    "duration": 168,
    "start_time": "2022-11-30T12:13:21.344Z"
   },
   {
    "duration": 145,
    "start_time": "2022-11-30T12:13:21.514Z"
   },
   {
    "duration": 243,
    "start_time": "2022-11-30T12:13:21.661Z"
   },
   {
    "duration": 18,
    "start_time": "2022-11-30T12:13:21.906Z"
   },
   {
    "duration": 213,
    "start_time": "2022-11-30T12:13:21.926Z"
   },
   {
    "duration": 272,
    "start_time": "2022-11-30T12:13:22.141Z"
   },
   {
    "duration": 151,
    "start_time": "2022-11-30T12:13:22.415Z"
   },
   {
    "duration": 11,
    "start_time": "2022-11-30T12:13:22.568Z"
   },
   {
    "duration": 156,
    "start_time": "2022-11-30T12:13:22.580Z"
   },
   {
    "duration": 11,
    "start_time": "2022-11-30T12:13:22.737Z"
   },
   {
    "duration": 163,
    "start_time": "2022-11-30T12:13:22.749Z"
   },
   {
    "duration": 16,
    "start_time": "2022-11-30T12:13:22.914Z"
   },
   {
    "duration": 160,
    "start_time": "2022-11-30T12:13:22.932Z"
   },
   {
    "duration": 11,
    "start_time": "2022-11-30T12:13:23.094Z"
   },
   {
    "duration": 1182,
    "start_time": "2022-11-30T12:13:23.106Z"
   },
   {
    "duration": 339,
    "start_time": "2022-11-30T12:13:24.290Z"
   },
   {
    "duration": 192,
    "start_time": "2022-11-30T12:13:24.631Z"
   },
   {
    "duration": 231,
    "start_time": "2022-11-30T12:13:24.825Z"
   },
   {
    "duration": 154,
    "start_time": "2022-11-30T12:13:25.058Z"
   },
   {
    "duration": 141,
    "start_time": "2022-11-30T12:13:25.214Z"
   },
   {
    "duration": 160,
    "start_time": "2022-11-30T12:13:25.357Z"
   },
   {
    "duration": 227,
    "start_time": "2022-11-30T12:13:25.521Z"
   },
   {
    "duration": 171,
    "start_time": "2022-11-30T12:13:25.750Z"
   },
   {
    "duration": 5,
    "start_time": "2022-11-30T12:13:25.922Z"
   },
   {
    "duration": 141,
    "start_time": "2022-11-30T12:13:25.928Z"
   },
   {
    "duration": 190,
    "start_time": "2022-11-30T12:13:26.071Z"
   },
   {
    "duration": 168,
    "start_time": "2022-11-30T12:13:26.263Z"
   },
   {
    "duration": 5,
    "start_time": "2022-11-30T12:13:26.432Z"
   },
   {
    "duration": 7,
    "start_time": "2022-11-30T12:13:26.438Z"
   },
   {
    "duration": 9,
    "start_time": "2022-11-30T12:13:26.446Z"
   },
   {
    "duration": 18,
    "start_time": "2022-11-30T12:13:26.456Z"
   },
   {
    "duration": 4,
    "start_time": "2022-11-30T12:13:26.475Z"
   },
   {
    "duration": 5,
    "start_time": "2022-11-30T12:13:26.480Z"
   },
   {
    "duration": 7,
    "start_time": "2022-11-30T12:13:26.486Z"
   },
   {
    "duration": 36,
    "start_time": "2022-11-30T12:13:26.495Z"
   },
   {
    "duration": 4,
    "start_time": "2022-11-30T12:13:45.016Z"
   },
   {
    "duration": 183,
    "start_time": "2022-11-30T12:14:35.111Z"
   },
   {
    "duration": 187,
    "start_time": "2022-11-30T12:16:01.822Z"
   },
   {
    "duration": 171,
    "start_time": "2022-11-30T12:16:07.928Z"
   },
   {
    "duration": 113,
    "start_time": "2022-11-30T12:17:17.473Z"
   },
   {
    "duration": 21,
    "start_time": "2022-11-30T12:17:34.252Z"
   },
   {
    "duration": 7,
    "start_time": "2022-11-30T12:17:50.204Z"
   },
   {
    "duration": 1054,
    "start_time": "2022-11-30T12:18:00.753Z"
   },
   {
    "duration": 45,
    "start_time": "2022-11-30T12:18:08.236Z"
   },
   {
    "duration": 8,
    "start_time": "2022-11-30T12:18:09.973Z"
   },
   {
    "duration": 13,
    "start_time": "2022-11-30T12:18:20.029Z"
   },
   {
    "duration": 5,
    "start_time": "2022-11-30T12:18:23.772Z"
   },
   {
    "duration": 277,
    "start_time": "2022-11-30T12:18:47.836Z"
   },
   {
    "duration": 4,
    "start_time": "2022-11-30T12:19:07.821Z"
   },
   {
    "duration": 407,
    "start_time": "2022-11-30T12:19:25.472Z"
   },
   {
    "duration": 20,
    "start_time": "2022-11-30T12:19:42.512Z"
   },
   {
    "duration": 255,
    "start_time": "2022-11-30T12:19:54.942Z"
   },
   {
    "duration": 267,
    "start_time": "2022-11-30T12:20:02.913Z"
   },
   {
    "duration": 268,
    "start_time": "2022-11-30T12:20:15.249Z"
   },
   {
    "duration": 277,
    "start_time": "2022-11-30T12:20:20.537Z"
   },
   {
    "duration": 355,
    "start_time": "2022-11-30T12:20:24.537Z"
   }
  ],
  "kernelspec": {
   "display_name": "Python 3 (ipykernel)",
   "language": "python",
   "name": "python3"
  },
  "language_info": {
   "codemirror_mode": {
    "name": "ipython",
    "version": 3
   },
   "file_extension": ".py",
   "mimetype": "text/x-python",
   "name": "python",
   "nbconvert_exporter": "python",
   "pygments_lexer": "ipython3",
   "version": "3.9.12"
  },
  "toc": {
   "base_numbering": 1,
   "nav_menu": {},
   "number_sections": true,
   "sideBar": true,
   "skip_h1_title": true,
   "title_cell": "Table of Contents",
   "title_sidebar": "Contents",
   "toc_cell": false,
   "toc_position": {},
   "toc_section_display": true,
   "toc_window_display": false
  }
 },
 "nbformat": 4,
 "nbformat_minor": 2
}
