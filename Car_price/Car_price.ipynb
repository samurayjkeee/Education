{
 "cells": [
  {
   "cell_type": "markdown",
   "metadata": {},
   "source": [
    "# Определение стоимости автомобилей"
   ]
  },
  {
   "cell_type": "markdown",
   "metadata": {},
   "source": [
    "Сервис по продаже автомобилей с пробегом «Не бит, не крашен» разрабатывает приложение для привлечения новых клиентов. В нём можно быстро узнать рыночную стоимость своего автомобиля. В вашем распоряжении исторические данные: технические характеристики, комплектации и цены автомобилей. Вам нужно построить модель для определения стоимости. \n",
    "\n",
    "Заказчику важны:\n",
    "\n",
    "- качество предсказания;\n",
    "- скорость предсказания;\n",
    "- время обучения."
   ]
  },
  {
   "cell_type": "code",
   "execution_count": 2,
   "metadata": {},
   "outputs": [
    {
     "name": "stdout",
     "output_type": "stream",
     "text": [
      "Collecting scikit-learn==1.1.3\n",
      "  Downloading scikit_learn-1.1.3-cp39-cp39-manylinux_2_17_x86_64.manylinux2014_x86_64.whl (30.8 MB)\n",
      "\u001b[K     |████████████████████████████████| 30.8 MB 48 kB/s  eta 0:00:01\n",
      "\u001b[?25hRequirement already satisfied: threadpoolctl>=2.0.0 in /opt/conda/lib/python3.9/site-packages (from scikit-learn==1.1.3) (3.1.0)\n",
      "Requirement already satisfied: joblib>=1.0.0 in /opt/conda/lib/python3.9/site-packages (from scikit-learn==1.1.3) (1.1.0)\n",
      "Requirement already satisfied: numpy>=1.17.3 in /opt/conda/lib/python3.9/site-packages (from scikit-learn==1.1.3) (1.21.1)\n",
      "Requirement already satisfied: scipy>=1.3.2 in /opt/conda/lib/python3.9/site-packages (from scikit-learn==1.1.3) (1.9.1)\n",
      "Installing collected packages: scikit-learn\n",
      "  Attempting uninstall: scikit-learn\n",
      "    Found existing installation: scikit-learn 0.24.1\n",
      "    Uninstalling scikit-learn-0.24.1:\n",
      "      Successfully uninstalled scikit-learn-0.24.1\n",
      "Successfully installed scikit-learn-1.1.3\n"
     ]
    }
   ],
   "source": [
    "!pip install scikit-learn==1.1.3"
   ]
  },
  {
   "cell_type": "markdown",
   "metadata": {},
   "source": [
    "## Подготовка данных"
   ]
  },
  {
   "cell_type": "code",
   "execution_count": 1,
   "metadata": {},
   "outputs": [],
   "source": [
    "import pandas as pd\n",
    "import numpy as np\n",
    "import re\n",
    "from scipy import stats as st\n",
    "import matplotlib.pyplot as plt\n",
    "import seaborn as sns\n",
    "from IPython.display import display\n",
    "from numpy.random import RandomState\n",
    "from scipy import stats\n",
    "\n",
    "from sklearn.inspection import permutation_importance\n",
    "from sklearn.preprocessing import StandardScaler, OneHotEncoder, OrdinalEncoder\n",
    "from sklearn.model_selection import train_test_split, cross_val_score, GridSearchCV\n",
    "from sklearn.linear_model import LinearRegression\n",
    "from sklearn.ensemble import GradientBoostingRegressor, RandomForestRegressor\n",
    "from sklearn.metrics import mean_squared_error, make_scorer\n",
    "import lightgbm as lgb\n",
    "import catboost"
   ]
  },
  {
   "cell_type": "code",
   "execution_count": 2,
   "metadata": {},
   "outputs": [],
   "source": [
    "df = pd.read_csv('autos.csv')"
   ]
  },
  {
   "cell_type": "code",
   "execution_count": 3,
   "metadata": {
    "scrolled": false
   },
   "outputs": [
    {
     "data": {
      "text/html": [
       "<div>\n",
       "<style scoped>\n",
       "    .dataframe tbody tr th:only-of-type {\n",
       "        vertical-align: middle;\n",
       "    }\n",
       "\n",
       "    .dataframe tbody tr th {\n",
       "        vertical-align: top;\n",
       "    }\n",
       "\n",
       "    .dataframe thead th {\n",
       "        text-align: right;\n",
       "    }\n",
       "</style>\n",
       "<table border=\"1\" class=\"dataframe\">\n",
       "  <thead>\n",
       "    <tr style=\"text-align: right;\">\n",
       "      <th></th>\n",
       "      <th>DateCrawled</th>\n",
       "      <th>Price</th>\n",
       "      <th>VehicleType</th>\n",
       "      <th>RegistrationYear</th>\n",
       "      <th>Gearbox</th>\n",
       "      <th>Power</th>\n",
       "      <th>Model</th>\n",
       "      <th>Kilometer</th>\n",
       "      <th>RegistrationMonth</th>\n",
       "      <th>FuelType</th>\n",
       "      <th>Brand</th>\n",
       "      <th>Repaired</th>\n",
       "      <th>DateCreated</th>\n",
       "      <th>NumberOfPictures</th>\n",
       "      <th>PostalCode</th>\n",
       "      <th>LastSeen</th>\n",
       "    </tr>\n",
       "  </thead>\n",
       "  <tbody>\n",
       "    <tr>\n",
       "      <th>0</th>\n",
       "      <td>2016-03-24 11:52:17</td>\n",
       "      <td>480</td>\n",
       "      <td>NaN</td>\n",
       "      <td>1993</td>\n",
       "      <td>manual</td>\n",
       "      <td>0</td>\n",
       "      <td>golf</td>\n",
       "      <td>150000</td>\n",
       "      <td>0</td>\n",
       "      <td>petrol</td>\n",
       "      <td>volkswagen</td>\n",
       "      <td>NaN</td>\n",
       "      <td>2016-03-24 00:00:00</td>\n",
       "      <td>0</td>\n",
       "      <td>70435</td>\n",
       "      <td>2016-04-07 03:16:57</td>\n",
       "    </tr>\n",
       "    <tr>\n",
       "      <th>1</th>\n",
       "      <td>2016-03-24 10:58:45</td>\n",
       "      <td>18300</td>\n",
       "      <td>coupe</td>\n",
       "      <td>2011</td>\n",
       "      <td>manual</td>\n",
       "      <td>190</td>\n",
       "      <td>NaN</td>\n",
       "      <td>125000</td>\n",
       "      <td>5</td>\n",
       "      <td>gasoline</td>\n",
       "      <td>audi</td>\n",
       "      <td>yes</td>\n",
       "      <td>2016-03-24 00:00:00</td>\n",
       "      <td>0</td>\n",
       "      <td>66954</td>\n",
       "      <td>2016-04-07 01:46:50</td>\n",
       "    </tr>\n",
       "    <tr>\n",
       "      <th>2</th>\n",
       "      <td>2016-03-14 12:52:21</td>\n",
       "      <td>9800</td>\n",
       "      <td>suv</td>\n",
       "      <td>2004</td>\n",
       "      <td>auto</td>\n",
       "      <td>163</td>\n",
       "      <td>grand</td>\n",
       "      <td>125000</td>\n",
       "      <td>8</td>\n",
       "      <td>gasoline</td>\n",
       "      <td>jeep</td>\n",
       "      <td>NaN</td>\n",
       "      <td>2016-03-14 00:00:00</td>\n",
       "      <td>0</td>\n",
       "      <td>90480</td>\n",
       "      <td>2016-04-05 12:47:46</td>\n",
       "    </tr>\n",
       "    <tr>\n",
       "      <th>3</th>\n",
       "      <td>2016-03-17 16:54:04</td>\n",
       "      <td>1500</td>\n",
       "      <td>small</td>\n",
       "      <td>2001</td>\n",
       "      <td>manual</td>\n",
       "      <td>75</td>\n",
       "      <td>golf</td>\n",
       "      <td>150000</td>\n",
       "      <td>6</td>\n",
       "      <td>petrol</td>\n",
       "      <td>volkswagen</td>\n",
       "      <td>no</td>\n",
       "      <td>2016-03-17 00:00:00</td>\n",
       "      <td>0</td>\n",
       "      <td>91074</td>\n",
       "      <td>2016-03-17 17:40:17</td>\n",
       "    </tr>\n",
       "    <tr>\n",
       "      <th>4</th>\n",
       "      <td>2016-03-31 17:25:20</td>\n",
       "      <td>3600</td>\n",
       "      <td>small</td>\n",
       "      <td>2008</td>\n",
       "      <td>manual</td>\n",
       "      <td>69</td>\n",
       "      <td>fabia</td>\n",
       "      <td>90000</td>\n",
       "      <td>7</td>\n",
       "      <td>gasoline</td>\n",
       "      <td>skoda</td>\n",
       "      <td>no</td>\n",
       "      <td>2016-03-31 00:00:00</td>\n",
       "      <td>0</td>\n",
       "      <td>60437</td>\n",
       "      <td>2016-04-06 10:17:21</td>\n",
       "    </tr>\n",
       "    <tr>\n",
       "      <th>...</th>\n",
       "      <td>...</td>\n",
       "      <td>...</td>\n",
       "      <td>...</td>\n",
       "      <td>...</td>\n",
       "      <td>...</td>\n",
       "      <td>...</td>\n",
       "      <td>...</td>\n",
       "      <td>...</td>\n",
       "      <td>...</td>\n",
       "      <td>...</td>\n",
       "      <td>...</td>\n",
       "      <td>...</td>\n",
       "      <td>...</td>\n",
       "      <td>...</td>\n",
       "      <td>...</td>\n",
       "      <td>...</td>\n",
       "    </tr>\n",
       "    <tr>\n",
       "      <th>354364</th>\n",
       "      <td>2016-03-21 09:50:58</td>\n",
       "      <td>0</td>\n",
       "      <td>NaN</td>\n",
       "      <td>2005</td>\n",
       "      <td>manual</td>\n",
       "      <td>0</td>\n",
       "      <td>colt</td>\n",
       "      <td>150000</td>\n",
       "      <td>7</td>\n",
       "      <td>petrol</td>\n",
       "      <td>mitsubishi</td>\n",
       "      <td>yes</td>\n",
       "      <td>2016-03-21 00:00:00</td>\n",
       "      <td>0</td>\n",
       "      <td>2694</td>\n",
       "      <td>2016-03-21 10:42:49</td>\n",
       "    </tr>\n",
       "    <tr>\n",
       "      <th>354365</th>\n",
       "      <td>2016-03-14 17:48:27</td>\n",
       "      <td>2200</td>\n",
       "      <td>NaN</td>\n",
       "      <td>2005</td>\n",
       "      <td>NaN</td>\n",
       "      <td>0</td>\n",
       "      <td>NaN</td>\n",
       "      <td>20000</td>\n",
       "      <td>1</td>\n",
       "      <td>NaN</td>\n",
       "      <td>sonstige_autos</td>\n",
       "      <td>NaN</td>\n",
       "      <td>2016-03-14 00:00:00</td>\n",
       "      <td>0</td>\n",
       "      <td>39576</td>\n",
       "      <td>2016-04-06 00:46:52</td>\n",
       "    </tr>\n",
       "    <tr>\n",
       "      <th>354366</th>\n",
       "      <td>2016-03-05 19:56:21</td>\n",
       "      <td>1199</td>\n",
       "      <td>convertible</td>\n",
       "      <td>2000</td>\n",
       "      <td>auto</td>\n",
       "      <td>101</td>\n",
       "      <td>fortwo</td>\n",
       "      <td>125000</td>\n",
       "      <td>3</td>\n",
       "      <td>petrol</td>\n",
       "      <td>smart</td>\n",
       "      <td>no</td>\n",
       "      <td>2016-03-05 00:00:00</td>\n",
       "      <td>0</td>\n",
       "      <td>26135</td>\n",
       "      <td>2016-03-11 18:17:12</td>\n",
       "    </tr>\n",
       "    <tr>\n",
       "      <th>354367</th>\n",
       "      <td>2016-03-19 18:57:12</td>\n",
       "      <td>9200</td>\n",
       "      <td>bus</td>\n",
       "      <td>1996</td>\n",
       "      <td>manual</td>\n",
       "      <td>102</td>\n",
       "      <td>transporter</td>\n",
       "      <td>150000</td>\n",
       "      <td>3</td>\n",
       "      <td>gasoline</td>\n",
       "      <td>volkswagen</td>\n",
       "      <td>no</td>\n",
       "      <td>2016-03-19 00:00:00</td>\n",
       "      <td>0</td>\n",
       "      <td>87439</td>\n",
       "      <td>2016-04-07 07:15:26</td>\n",
       "    </tr>\n",
       "    <tr>\n",
       "      <th>354368</th>\n",
       "      <td>2016-03-20 19:41:08</td>\n",
       "      <td>3400</td>\n",
       "      <td>wagon</td>\n",
       "      <td>2002</td>\n",
       "      <td>manual</td>\n",
       "      <td>100</td>\n",
       "      <td>golf</td>\n",
       "      <td>150000</td>\n",
       "      <td>6</td>\n",
       "      <td>gasoline</td>\n",
       "      <td>volkswagen</td>\n",
       "      <td>NaN</td>\n",
       "      <td>2016-03-20 00:00:00</td>\n",
       "      <td>0</td>\n",
       "      <td>40764</td>\n",
       "      <td>2016-03-24 12:45:21</td>\n",
       "    </tr>\n",
       "  </tbody>\n",
       "</table>\n",
       "<p>354369 rows × 16 columns</p>\n",
       "</div>"
      ],
      "text/plain": [
       "                DateCrawled  Price  VehicleType  RegistrationYear Gearbox  \\\n",
       "0       2016-03-24 11:52:17    480          NaN              1993  manual   \n",
       "1       2016-03-24 10:58:45  18300        coupe              2011  manual   \n",
       "2       2016-03-14 12:52:21   9800          suv              2004    auto   \n",
       "3       2016-03-17 16:54:04   1500        small              2001  manual   \n",
       "4       2016-03-31 17:25:20   3600        small              2008  manual   \n",
       "...                     ...    ...          ...               ...     ...   \n",
       "354364  2016-03-21 09:50:58      0          NaN              2005  manual   \n",
       "354365  2016-03-14 17:48:27   2200          NaN              2005     NaN   \n",
       "354366  2016-03-05 19:56:21   1199  convertible              2000    auto   \n",
       "354367  2016-03-19 18:57:12   9200          bus              1996  manual   \n",
       "354368  2016-03-20 19:41:08   3400        wagon              2002  manual   \n",
       "\n",
       "        Power        Model  Kilometer  RegistrationMonth  FuelType  \\\n",
       "0           0         golf     150000                  0    petrol   \n",
       "1         190          NaN     125000                  5  gasoline   \n",
       "2         163        grand     125000                  8  gasoline   \n",
       "3          75         golf     150000                  6    petrol   \n",
       "4          69        fabia      90000                  7  gasoline   \n",
       "...       ...          ...        ...                ...       ...   \n",
       "354364      0         colt     150000                  7    petrol   \n",
       "354365      0          NaN      20000                  1       NaN   \n",
       "354366    101       fortwo     125000                  3    petrol   \n",
       "354367    102  transporter     150000                  3  gasoline   \n",
       "354368    100         golf     150000                  6  gasoline   \n",
       "\n",
       "                 Brand Repaired          DateCreated  NumberOfPictures  \\\n",
       "0           volkswagen      NaN  2016-03-24 00:00:00                 0   \n",
       "1                 audi      yes  2016-03-24 00:00:00                 0   \n",
       "2                 jeep      NaN  2016-03-14 00:00:00                 0   \n",
       "3           volkswagen       no  2016-03-17 00:00:00                 0   \n",
       "4                skoda       no  2016-03-31 00:00:00                 0   \n",
       "...                ...      ...                  ...               ...   \n",
       "354364      mitsubishi      yes  2016-03-21 00:00:00                 0   \n",
       "354365  sonstige_autos      NaN  2016-03-14 00:00:00                 0   \n",
       "354366           smart       no  2016-03-05 00:00:00                 0   \n",
       "354367      volkswagen       no  2016-03-19 00:00:00                 0   \n",
       "354368      volkswagen      NaN  2016-03-20 00:00:00                 0   \n",
       "\n",
       "        PostalCode             LastSeen  \n",
       "0            70435  2016-04-07 03:16:57  \n",
       "1            66954  2016-04-07 01:46:50  \n",
       "2            90480  2016-04-05 12:47:46  \n",
       "3            91074  2016-03-17 17:40:17  \n",
       "4            60437  2016-04-06 10:17:21  \n",
       "...            ...                  ...  \n",
       "354364        2694  2016-03-21 10:42:49  \n",
       "354365       39576  2016-04-06 00:46:52  \n",
       "354366       26135  2016-03-11 18:17:12  \n",
       "354367       87439  2016-04-07 07:15:26  \n",
       "354368       40764  2016-03-24 12:45:21  \n",
       "\n",
       "[354369 rows x 16 columns]"
      ]
     },
     "execution_count": 3,
     "metadata": {},
     "output_type": "execute_result"
    }
   ],
   "source": [
    "df"
   ]
  },
  {
   "cell_type": "code",
   "execution_count": 4,
   "metadata": {},
   "outputs": [],
   "source": [
    "df = df.drop(columns=['DateCrawled','RegistrationMonth','DateCreated','NumberOfPictures','PostalCode','LastSeen'])"
   ]
  },
  {
   "cell_type": "code",
   "execution_count": 5,
   "metadata": {},
   "outputs": [],
   "source": [
    "df.drop(df[df['Model'].isna()].index, inplace=True)"
   ]
  },
  {
   "cell_type": "code",
   "execution_count": 6,
   "metadata": {
    "scrolled": false
   },
   "outputs": [
    {
     "data": {
      "text/html": [
       "<div>\n",
       "<style scoped>\n",
       "    .dataframe tbody tr th:only-of-type {\n",
       "        vertical-align: middle;\n",
       "    }\n",
       "\n",
       "    .dataframe tbody tr th {\n",
       "        vertical-align: top;\n",
       "    }\n",
       "\n",
       "    .dataframe thead th {\n",
       "        text-align: right;\n",
       "    }\n",
       "</style>\n",
       "<table border=\"1\" class=\"dataframe\">\n",
       "  <thead>\n",
       "    <tr style=\"text-align: right;\">\n",
       "      <th></th>\n",
       "      <th>Price</th>\n",
       "      <th>VehicleType</th>\n",
       "      <th>RegistrationYear</th>\n",
       "      <th>Gearbox</th>\n",
       "      <th>Power</th>\n",
       "      <th>Model</th>\n",
       "      <th>Kilometer</th>\n",
       "      <th>FuelType</th>\n",
       "      <th>Brand</th>\n",
       "      <th>Repaired</th>\n",
       "    </tr>\n",
       "  </thead>\n",
       "  <tbody>\n",
       "    <tr>\n",
       "      <th>0</th>\n",
       "      <td>480</td>\n",
       "      <td>NaN</td>\n",
       "      <td>1993</td>\n",
       "      <td>manual</td>\n",
       "      <td>0</td>\n",
       "      <td>golf</td>\n",
       "      <td>150000</td>\n",
       "      <td>petrol</td>\n",
       "      <td>volkswagen</td>\n",
       "      <td>NaN</td>\n",
       "    </tr>\n",
       "    <tr>\n",
       "      <th>2</th>\n",
       "      <td>9800</td>\n",
       "      <td>suv</td>\n",
       "      <td>2004</td>\n",
       "      <td>auto</td>\n",
       "      <td>163</td>\n",
       "      <td>grand</td>\n",
       "      <td>125000</td>\n",
       "      <td>gasoline</td>\n",
       "      <td>jeep</td>\n",
       "      <td>NaN</td>\n",
       "    </tr>\n",
       "    <tr>\n",
       "      <th>3</th>\n",
       "      <td>1500</td>\n",
       "      <td>small</td>\n",
       "      <td>2001</td>\n",
       "      <td>manual</td>\n",
       "      <td>75</td>\n",
       "      <td>golf</td>\n",
       "      <td>150000</td>\n",
       "      <td>petrol</td>\n",
       "      <td>volkswagen</td>\n",
       "      <td>no</td>\n",
       "    </tr>\n",
       "    <tr>\n",
       "      <th>4</th>\n",
       "      <td>3600</td>\n",
       "      <td>small</td>\n",
       "      <td>2008</td>\n",
       "      <td>manual</td>\n",
       "      <td>69</td>\n",
       "      <td>fabia</td>\n",
       "      <td>90000</td>\n",
       "      <td>gasoline</td>\n",
       "      <td>skoda</td>\n",
       "      <td>no</td>\n",
       "    </tr>\n",
       "    <tr>\n",
       "      <th>5</th>\n",
       "      <td>650</td>\n",
       "      <td>sedan</td>\n",
       "      <td>1995</td>\n",
       "      <td>manual</td>\n",
       "      <td>102</td>\n",
       "      <td>3er</td>\n",
       "      <td>150000</td>\n",
       "      <td>petrol</td>\n",
       "      <td>bmw</td>\n",
       "      <td>yes</td>\n",
       "    </tr>\n",
       "    <tr>\n",
       "      <th>...</th>\n",
       "      <td>...</td>\n",
       "      <td>...</td>\n",
       "      <td>...</td>\n",
       "      <td>...</td>\n",
       "      <td>...</td>\n",
       "      <td>...</td>\n",
       "      <td>...</td>\n",
       "      <td>...</td>\n",
       "      <td>...</td>\n",
       "      <td>...</td>\n",
       "    </tr>\n",
       "    <tr>\n",
       "      <th>354363</th>\n",
       "      <td>1150</td>\n",
       "      <td>bus</td>\n",
       "      <td>2000</td>\n",
       "      <td>manual</td>\n",
       "      <td>0</td>\n",
       "      <td>zafira</td>\n",
       "      <td>150000</td>\n",
       "      <td>petrol</td>\n",
       "      <td>opel</td>\n",
       "      <td>no</td>\n",
       "    </tr>\n",
       "    <tr>\n",
       "      <th>354364</th>\n",
       "      <td>0</td>\n",
       "      <td>NaN</td>\n",
       "      <td>2005</td>\n",
       "      <td>manual</td>\n",
       "      <td>0</td>\n",
       "      <td>colt</td>\n",
       "      <td>150000</td>\n",
       "      <td>petrol</td>\n",
       "      <td>mitsubishi</td>\n",
       "      <td>yes</td>\n",
       "    </tr>\n",
       "    <tr>\n",
       "      <th>354366</th>\n",
       "      <td>1199</td>\n",
       "      <td>convertible</td>\n",
       "      <td>2000</td>\n",
       "      <td>auto</td>\n",
       "      <td>101</td>\n",
       "      <td>fortwo</td>\n",
       "      <td>125000</td>\n",
       "      <td>petrol</td>\n",
       "      <td>smart</td>\n",
       "      <td>no</td>\n",
       "    </tr>\n",
       "    <tr>\n",
       "      <th>354367</th>\n",
       "      <td>9200</td>\n",
       "      <td>bus</td>\n",
       "      <td>1996</td>\n",
       "      <td>manual</td>\n",
       "      <td>102</td>\n",
       "      <td>transporter</td>\n",
       "      <td>150000</td>\n",
       "      <td>gasoline</td>\n",
       "      <td>volkswagen</td>\n",
       "      <td>no</td>\n",
       "    </tr>\n",
       "    <tr>\n",
       "      <th>354368</th>\n",
       "      <td>3400</td>\n",
       "      <td>wagon</td>\n",
       "      <td>2002</td>\n",
       "      <td>manual</td>\n",
       "      <td>100</td>\n",
       "      <td>golf</td>\n",
       "      <td>150000</td>\n",
       "      <td>gasoline</td>\n",
       "      <td>volkswagen</td>\n",
       "      <td>NaN</td>\n",
       "    </tr>\n",
       "  </tbody>\n",
       "</table>\n",
       "<p>334664 rows × 10 columns</p>\n",
       "</div>"
      ],
      "text/plain": [
       "        Price  VehicleType  RegistrationYear Gearbox  Power        Model  \\\n",
       "0         480          NaN              1993  manual      0         golf   \n",
       "2        9800          suv              2004    auto    163        grand   \n",
       "3        1500        small              2001  manual     75         golf   \n",
       "4        3600        small              2008  manual     69        fabia   \n",
       "5         650        sedan              1995  manual    102          3er   \n",
       "...       ...          ...               ...     ...    ...          ...   \n",
       "354363   1150          bus              2000  manual      0       zafira   \n",
       "354364      0          NaN              2005  manual      0         colt   \n",
       "354366   1199  convertible              2000    auto    101       fortwo   \n",
       "354367   9200          bus              1996  manual    102  transporter   \n",
       "354368   3400        wagon              2002  manual    100         golf   \n",
       "\n",
       "        Kilometer  FuelType       Brand Repaired  \n",
       "0          150000    petrol  volkswagen      NaN  \n",
       "2          125000  gasoline        jeep      NaN  \n",
       "3          150000    petrol  volkswagen       no  \n",
       "4           90000  gasoline       skoda       no  \n",
       "5          150000    petrol         bmw      yes  \n",
       "...           ...       ...         ...      ...  \n",
       "354363     150000    petrol        opel       no  \n",
       "354364     150000    petrol  mitsubishi      yes  \n",
       "354366     125000    petrol       smart       no  \n",
       "354367     150000  gasoline  volkswagen       no  \n",
       "354368     150000  gasoline  volkswagen      NaN  \n",
       "\n",
       "[334664 rows x 10 columns]"
      ]
     },
     "execution_count": 6,
     "metadata": {},
     "output_type": "execute_result"
    }
   ],
   "source": [
    "df"
   ]
  },
  {
   "cell_type": "code",
   "execution_count": 7,
   "metadata": {},
   "outputs": [
    {
     "data": {
      "image/png": "[encoded data removed]",
      "text/plain": [
       "<Figure size 1080x432 with 1 Axes>"
      ]
     },
     "metadata": {
      "needs_background": "light"
     },
     "output_type": "display_data"
    }
   ],
   "source": [
    "df.Price.hist(bins=100,figsize=(15,6));"
   ]
  },
  {
   "cell_type": "code",
   "execution_count": 8,
   "metadata": {
    "scrolled": false
   },
   "outputs": [
    {
     "data": {
      "image/png": "[encoded data removed]",
      "text/plain": [
       "<Figure size 1080x432 with 1 Axes>"
      ]
     },
     "metadata": {
      "needs_background": "light"
     },
     "output_type": "display_data"
    }
   ],
   "source": [
    "df.Price.hist(bins=100,figsize=(15,6),range=(0,2));"
   ]
  },
  {
   "cell_type": "code",
   "execution_count": 9,
   "metadata": {},
   "outputs": [
    {
     "name": "stdout",
     "output_type": "stream",
     "text": [
      "Доля машин с ценой меньше 100 евро: 0.03179905815982598\n"
     ]
    }
   ],
   "source": [
    "print('Доля машин с ценой меньше 100 евро:',(df[df['Price']<100].shape[0])/(df.shape[0]))"
   ]
  },
  {
   "cell_type": "code",
   "execution_count": 10,
   "metadata": {},
   "outputs": [],
   "source": [
    "df = df[df['Price']>=100]"
   ]
  },
  {
   "cell_type": "code",
   "execution_count": 11,
   "metadata": {},
   "outputs": [
    {
     "data": {
      "image/png": "[encoded data removed]",
      "text/plain": [
       "<Figure size 432x288 with 1 Axes>"
      ]
     },
     "metadata": {
      "needs_background": "light"
     },
     "output_type": "display_data"
    }
   ],
   "source": [
    "df.RegistrationYear.hist(bins=100);"
   ]
  },
  {
   "cell_type": "code",
   "execution_count": 12,
   "metadata": {},
   "outputs": [
    {
     "data": {
      "text/plain": [
       "array([1000, 1001, 1234, 1300, 1400, 1500, 1600, 1602, 1800, 1910, 1923,\n",
       "       1927, 1928, 1929, 1930, 1931, 1932, 1933, 1934, 1935, 1936, 1937,\n",
       "       1938, 1941, 1942, 1943, 1945, 1947, 1949, 1950, 1951, 1952, 1953,\n",
       "       1954, 1955, 1956, 1957, 1958, 1959, 1960, 1961, 1962, 1963, 1964,\n",
       "       1965, 1966, 1967, 1968, 1969, 1970, 1971, 1972, 1973, 1974, 1975,\n",
       "       1976, 1977, 1978, 1979, 1980, 1981, 1982, 1983, 1984, 1985, 1986,\n",
       "       1987, 1988, 1989, 1990, 1991, 1992, 1993, 1994, 1995, 1996, 1997,\n",
       "       1998, 1999, 2000, 2001, 2002, 2003, 2004, 2005, 2006, 2007, 2008,\n",
       "       2009, 2010, 2011, 2012, 2013, 2014, 2015, 2016, 2017, 2018, 2019,\n",
       "       2066, 2200, 2290, 2500, 2900, 3000, 3700, 4000, 4500, 5000, 5555,\n",
       "       5900, 5911, 6000, 7000, 7100, 7800, 8200, 8500, 9000, 9999],\n",
       "      dtype=int64)"
      ]
     },
     "execution_count": 12,
     "metadata": {},
     "output_type": "execute_result"
    }
   ],
   "source": [
    "df.RegistrationYear.sort_values().unique()"
   ]
  },
  {
   "cell_type": "code",
   "execution_count": 13,
   "metadata": {},
   "outputs": [
    {
     "name": "stdout",
     "output_type": "stream",
     "text": [
      "Доля машин выпущенных до 1980-го года: 0.0072525939596694055\n"
     ]
    }
   ],
   "source": [
    "print('Доля машин выпущенных до 1980-го года:',(df[df['RegistrationYear']<1980].shape[0])/(df.shape[0]))"
   ]
  },
  {
   "cell_type": "code",
   "execution_count": 14,
   "metadata": {},
   "outputs": [],
   "source": [
    "df=df[df['RegistrationYear']>=1980]\n",
    "df=df[df['RegistrationYear']<2066]"
   ]
  },
  {
   "cell_type": "code",
   "execution_count": 15,
   "metadata": {
    "scrolled": true
   },
   "outputs": [
    {
     "data": {
      "text/plain": [
       "array([1980, 1981, 1982, 1983, 1984, 1985, 1986, 1987, 1988, 1989, 1990,\n",
       "       1991, 1992, 1993, 1994, 1995, 1996, 1997, 1998, 1999, 2000, 2001,\n",
       "       2002, 2003, 2004, 2005, 2006, 2007, 2008, 2009, 2010, 2011, 2012,\n",
       "       2013, 2014, 2015, 2016, 2017, 2018, 2019], dtype=int64)"
      ]
     },
     "execution_count": 15,
     "metadata": {},
     "output_type": "execute_result"
    }
   ],
   "source": [
    "df.RegistrationYear.sort_values().unique()"
   ]
  },
  {
   "cell_type": "code",
   "execution_count": 16,
   "metadata": {},
   "outputs": [
    {
     "data": {
      "image/png": "[encoded data removed]",
      "text/plain": [
       "<Figure size 432x288 with 1 Axes>"
      ]
     },
     "metadata": {
      "needs_background": "light"
     },
     "output_type": "display_data"
    }
   ],
   "source": [
    "df.Power.hist(bins=100);"
   ]
  },
  {
   "cell_type": "code",
   "execution_count": 17,
   "metadata": {},
   "outputs": [
    {
     "data": {
      "image/png": "[encoded data removed]",
      "text/plain": [
       "<Figure size 432x288 with 1 Axes>"
      ]
     },
     "metadata": {
      "needs_background": "light"
     },
     "output_type": "display_data"
    }
   ],
   "source": [
    "df.Power.hist(bins=100,range=(0,60));"
   ]
  },
  {
   "cell_type": "code",
   "execution_count": 18,
   "metadata": {},
   "outputs": [
    {
     "data": {
      "text/plain": [
       "0.09271580832514582"
      ]
     },
     "execution_count": 18,
     "metadata": {},
     "output_type": "execute_result"
    }
   ],
   "source": [
    "(df[df['Power']<10].shape[0])/(df.shape[0])"
   ]
  },
  {
   "cell_type": "markdown",
   "metadata": {},
   "source": [
    "Машин с нулевой мощностью около 10 процентов, выкинуть не получится, восстановим по существующим данным(будем находить машины того же года и модели)."
   ]
  },
  {
   "cell_type": "code",
   "execution_count": 19,
   "metadata": {
    "scrolled": true
   },
   "outputs": [],
   "source": [
    "df.reset_index(drop= True , inplace= True )"
   ]
  },
  {
   "cell_type": "code",
   "execution_count": 20,
   "metadata": {},
   "outputs": [
    {
     "data": {
      "text/html": [
       "<div>\n",
       "<style scoped>\n",
       "    .dataframe tbody tr th:only-of-type {\n",
       "        vertical-align: middle;\n",
       "    }\n",
       "\n",
       "    .dataframe tbody tr th {\n",
       "        vertical-align: top;\n",
       "    }\n",
       "\n",
       "    .dataframe thead th {\n",
       "        text-align: right;\n",
       "    }\n",
       "</style>\n",
       "<table border=\"1\" class=\"dataframe\">\n",
       "  <thead>\n",
       "    <tr style=\"text-align: right;\">\n",
       "      <th></th>\n",
       "      <th>Price</th>\n",
       "      <th>VehicleType</th>\n",
       "      <th>RegistrationYear</th>\n",
       "      <th>Gearbox</th>\n",
       "      <th>Power</th>\n",
       "      <th>Model</th>\n",
       "      <th>Kilometer</th>\n",
       "      <th>FuelType</th>\n",
       "      <th>Brand</th>\n",
       "      <th>Repaired</th>\n",
       "    </tr>\n",
       "  </thead>\n",
       "  <tbody>\n",
       "    <tr>\n",
       "      <th>1</th>\n",
       "      <td>9800</td>\n",
       "      <td>suv</td>\n",
       "      <td>2004</td>\n",
       "      <td>auto</td>\n",
       "      <td>163</td>\n",
       "      <td>grand</td>\n",
       "      <td>125000</td>\n",
       "      <td>gasoline</td>\n",
       "      <td>jeep</td>\n",
       "      <td>NaN</td>\n",
       "    </tr>\n",
       "    <tr>\n",
       "      <th>2</th>\n",
       "      <td>1500</td>\n",
       "      <td>small</td>\n",
       "      <td>2001</td>\n",
       "      <td>manual</td>\n",
       "      <td>75</td>\n",
       "      <td>golf</td>\n",
       "      <td>150000</td>\n",
       "      <td>petrol</td>\n",
       "      <td>volkswagen</td>\n",
       "      <td>no</td>\n",
       "    </tr>\n",
       "    <tr>\n",
       "      <th>3</th>\n",
       "      <td>3600</td>\n",
       "      <td>small</td>\n",
       "      <td>2008</td>\n",
       "      <td>manual</td>\n",
       "      <td>69</td>\n",
       "      <td>fabia</td>\n",
       "      <td>90000</td>\n",
       "      <td>gasoline</td>\n",
       "      <td>skoda</td>\n",
       "      <td>no</td>\n",
       "    </tr>\n",
       "    <tr>\n",
       "      <th>4</th>\n",
       "      <td>650</td>\n",
       "      <td>sedan</td>\n",
       "      <td>1995</td>\n",
       "      <td>manual</td>\n",
       "      <td>102</td>\n",
       "      <td>3er</td>\n",
       "      <td>150000</td>\n",
       "      <td>petrol</td>\n",
       "      <td>bmw</td>\n",
       "      <td>yes</td>\n",
       "    </tr>\n",
       "    <tr>\n",
       "      <th>5</th>\n",
       "      <td>2200</td>\n",
       "      <td>convertible</td>\n",
       "      <td>2004</td>\n",
       "      <td>manual</td>\n",
       "      <td>109</td>\n",
       "      <td>2_reihe</td>\n",
       "      <td>150000</td>\n",
       "      <td>petrol</td>\n",
       "      <td>peugeot</td>\n",
       "      <td>no</td>\n",
       "    </tr>\n",
       "    <tr>\n",
       "      <th>...</th>\n",
       "      <td>...</td>\n",
       "      <td>...</td>\n",
       "      <td>...</td>\n",
       "      <td>...</td>\n",
       "      <td>...</td>\n",
       "      <td>...</td>\n",
       "      <td>...</td>\n",
       "      <td>...</td>\n",
       "      <td>...</td>\n",
       "      <td>...</td>\n",
       "    </tr>\n",
       "    <tr>\n",
       "      <th>321622</th>\n",
       "      <td>5250</td>\n",
       "      <td>NaN</td>\n",
       "      <td>2016</td>\n",
       "      <td>auto</td>\n",
       "      <td>150</td>\n",
       "      <td>159</td>\n",
       "      <td>150000</td>\n",
       "      <td>NaN</td>\n",
       "      <td>alfa_romeo</td>\n",
       "      <td>no</td>\n",
       "    </tr>\n",
       "    <tr>\n",
       "      <th>321623</th>\n",
       "      <td>3200</td>\n",
       "      <td>sedan</td>\n",
       "      <td>2004</td>\n",
       "      <td>manual</td>\n",
       "      <td>225</td>\n",
       "      <td>leon</td>\n",
       "      <td>150000</td>\n",
       "      <td>petrol</td>\n",
       "      <td>seat</td>\n",
       "      <td>yes</td>\n",
       "    </tr>\n",
       "    <tr>\n",
       "      <th>321625</th>\n",
       "      <td>1199</td>\n",
       "      <td>convertible</td>\n",
       "      <td>2000</td>\n",
       "      <td>auto</td>\n",
       "      <td>101</td>\n",
       "      <td>fortwo</td>\n",
       "      <td>125000</td>\n",
       "      <td>petrol</td>\n",
       "      <td>smart</td>\n",
       "      <td>no</td>\n",
       "    </tr>\n",
       "    <tr>\n",
       "      <th>321626</th>\n",
       "      <td>9200</td>\n",
       "      <td>bus</td>\n",
       "      <td>1996</td>\n",
       "      <td>manual</td>\n",
       "      <td>102</td>\n",
       "      <td>transporter</td>\n",
       "      <td>150000</td>\n",
       "      <td>gasoline</td>\n",
       "      <td>volkswagen</td>\n",
       "      <td>no</td>\n",
       "    </tr>\n",
       "    <tr>\n",
       "      <th>321627</th>\n",
       "      <td>3400</td>\n",
       "      <td>wagon</td>\n",
       "      <td>2002</td>\n",
       "      <td>manual</td>\n",
       "      <td>100</td>\n",
       "      <td>golf</td>\n",
       "      <td>150000</td>\n",
       "      <td>gasoline</td>\n",
       "      <td>volkswagen</td>\n",
       "      <td>NaN</td>\n",
       "    </tr>\n",
       "  </tbody>\n",
       "</table>\n",
       "<p>291859 rows × 10 columns</p>\n",
       "</div>"
      ],
      "text/plain": [
       "        Price  VehicleType  RegistrationYear Gearbox  Power        Model  \\\n",
       "1        9800          suv              2004    auto    163        grand   \n",
       "2        1500        small              2001  manual     75         golf   \n",
       "3        3600        small              2008  manual     69        fabia   \n",
       "4         650        sedan              1995  manual    102          3er   \n",
       "5        2200  convertible              2004  manual    109      2_reihe   \n",
       "...       ...          ...               ...     ...    ...          ...   \n",
       "321622   5250          NaN              2016    auto    150          159   \n",
       "321623   3200        sedan              2004  manual    225         leon   \n",
       "321625   1199  convertible              2000    auto    101       fortwo   \n",
       "321626   9200          bus              1996  manual    102  transporter   \n",
       "321627   3400        wagon              2002  manual    100         golf   \n",
       "\n",
       "        Kilometer  FuelType       Brand Repaired  \n",
       "1          125000  gasoline        jeep      NaN  \n",
       "2          150000    petrol  volkswagen       no  \n",
       "3           90000  gasoline       skoda       no  \n",
       "4          150000    petrol         bmw      yes  \n",
       "5          150000    petrol     peugeot       no  \n",
       "...           ...       ...         ...      ...  \n",
       "321622     150000       NaN  alfa_romeo       no  \n",
       "321623     150000    petrol        seat      yes  \n",
       "321625     125000    petrol       smart       no  \n",
       "321626     150000  gasoline  volkswagen       no  \n",
       "321627     150000  gasoline  volkswagen      NaN  \n",
       "\n",
       "[291859 rows x 10 columns]"
      ]
     },
     "execution_count": 20,
     "metadata": {},
     "output_type": "execute_result"
    }
   ],
   "source": [
    "df_power = df[df['Power']!=0]\n",
    "df_power"
   ]
  },
  {
   "cell_type": "code",
   "execution_count": 21,
   "metadata": {},
   "outputs": [],
   "source": [
    "power={}\n",
    "for model in df_power['Model'].unique():\n",
    "    for year in df_power.loc[df_power['Model']==model,'RegistrationYear'].unique():\n",
    "        power[model,year] = df_power.query(f\"('{model}' in Model)&({year} == RegistrationYear)\")['Power'].values[0]"
   ]
  },
  {
   "cell_type": "code",
   "execution_count": 22,
   "metadata": {
    "scrolled": true
   },
   "outputs": [
    {
     "data": {
      "text/plain": [
       "{('grand', 2004): 163,\n",
       " ('grand', 2007): 129,\n",
       " ('grand', 1995): 211,\n",
       " ('grand', 2003): 163,\n",
       " ('grand', 2011): 129,\n",
       " ('grand', 2001): 174,\n",
       " ('grand', 2000): 223,\n",
       " ('grand', 2014): 250,\n",
       " ('grand', 2002): 173,\n",
       " ('grand', 2005): 109,\n",
       " ('grand', 2008): 218,\n",
       " ('grand', 1998): 212,\n",
       " ('grand', 2009): 426,\n",
       " ('grand', 1996): 177,\n",
       " ('grand', 2006): 106,\n",
       " ('grand', 2010): 166,\n",
       " ('grand', 2016): 223,\n",
       " ('grand', 1999): 220,\n",
       " ('grand', 2012): 129,\n",
       " ('grand', 1994): 190,\n",
       " ('grand', 1997): 212,\n",
       " ('grand', 1993): 80,\n",
       " ('grand', 2018): 150,\n",
       " ('grand', 1990): 80,\n",
       " ('grand', 2013): 169,\n",
       " ('grand', 2017): 220,\n",
       " ('golf', 2001): 75,\n",
       " ('golf', 1998): 101,\n",
       " ('golf', 2016): 75,\n",
       " ('golf', 2017): 80,\n",
       " ('golf', 2006): 105,\n",
       " ('golf', 2000): 90,\n",
       " ('golf', 2002): 265,\n",
       " ('golf', 1990): 54,\n",
       " ('golf', 2005): 90,\n",
       " ('golf', 1996): 75,\n",
       " ('golf', 1989): 69,\n",
       " ('golf', 1997): 75,\n",
       " ('golf', 1999): 90,\n",
       " ('golf', 2010): 80,\n",
       " ('golf', 1994): 75,\n",
       " ('golf', 1991): 98,\n",
       " ('golf', 2004): 75,\n",
       " ('golf', 2011): 170,\n",
       " ('golf', 2012): 211,\n",
       " ('golf', 1993): 90,\n",
       " ('golf', 1992): 66,\n",
       " ('golf', 2009): 80,\n",
       " ('golf', 2008): 140,\n",
       " ('golf', 2007): 80,\n",
       " ('golf', 2014): 86,\n",
       " ('golf', 1995): 55,\n",
       " ('golf', 2015): 86,\n",
       " ('golf', 2003): 105,\n",
       " ('golf', 1987): 90,\n",
       " ('golf', 2018): 75,\n",
       " ('golf', 2013): 150,\n",
       " ('golf', 1985): 75,\n",
       " ('golf', 1983): 111,\n",
       " ('golf', 1982): 54,\n",
       " ('golf', 1986): 111,\n",
       " ('golf', 1988): 54,\n",
       " ('golf', 1980): 69,\n",
       " ('golf', 1981): 69,\n",
       " ('golf', 1984): 54,\n",
       " ('fabia', 2008): 69,\n",
       " ('fabia', 2010): 60,\n",
       " ('fabia', 2012): 75,\n",
       " ('fabia', 2015): 110,\n",
       " ('fabia', 2016): 75,\n",
       " ('fabia', 2001): 101,\n",
       " ('fabia', 2006): 54,\n",
       " ('fabia', 2009): 105,\n",
       " ('fabia', 2011): 105,\n",
       " ('fabia', 2005): 116,\n",
       " ('fabia', 2002): 75,\n",
       " ('fabia', 2007): 101,\n",
       " ('fabia', 2013): 86,\n",
       " ('fabia', 2004): 101,\n",
       " ('fabia', 2003): 101,\n",
       " ('fabia', 2000): 68,\n",
       " ('fabia', 2018): 50,\n",
       " ('fabia', 2014): 110,\n",
       " ('fabia', 2017): 75,\n",
       " ('fabia', 1991): 75,\n",
       " ('fabia', 1994): 54,\n",
       " ('fabia', 1998): 75,\n",
       " ('3er', 1995): 102,\n",
       " ('3er', 2007): 218,\n",
       " ('3er', 2008): 143,\n",
       " ('3er', 1997): 102,\n",
       " ('3er', 2006): 163,\n",
       " ('3er', 2003): 204,\n",
       " ('3er', 2000): 170,\n",
       " ('3er', 2010): 143,\n",
       " ('3er', 2005): 218,\n",
       " ('3er', 1989): 102,\n",
       " ('3er', 2001): 231,\n",
       " ('3er', 1994): 102,\n",
       " ('3er', 2002): 143,\n",
       " ('3er', 1999): 170,\n",
       " ('3er', 2017): 184,\n",
       " ('3er', 2011): 184,\n",
       " ('3er', 1998): 109,\n",
       " ('3er', 2009): 177,\n",
       " ('3er', 1996): 193,\n",
       " ('3er', 2016): 150,\n",
       " ('3er', 1991): 113,\n",
       " ('3er', 2004): 200,\n",
       " ('3er', 1993): 140,\n",
       " ('3er', 1983): 200,\n",
       " ('3er', 2012): 143,\n",
       " ('3er', 1988): 171,\n",
       " ('3er', 1992): 150,\n",
       " ('3er', 1987): 170,\n",
       " ('3er', 1990): 99,\n",
       " ('3er', 1986): 129,\n",
       " ('3er', 1985): 129,\n",
       " ('3er', 2018): 102,\n",
       " ('3er', 2013): 184,\n",
       " ('3er', 2014): 136,\n",
       " ('3er', 2015): 186,\n",
       " ('3er', 1982): 122,\n",
       " ('3er', 1984): 90,\n",
       " ('3er', 1980): 98,\n",
       " ('3er', 1981): 122,\n",
       " ('2_reihe', 2004): 109,\n",
       " ('2_reihe', 1999): 75,\n",
       " ('2_reihe', 2009): 73,\n",
       " ('2_reihe', 2006): 109,\n",
       " ('2_reihe', 2002): 148,\n",
       " ('2_reihe', 2001): 60,\n",
       " ('2_reihe', 2012): 120,\n",
       " ('2_reihe', 2005): 109,\n",
       " ('2_reihe', 2007): 75,\n",
       " ('2_reihe', 2013): 92,\n",
       " ('2_reihe', 2003): 88,\n",
       " ('2_reihe', 2000): 135,\n",
       " ('2_reihe', 2008): 95,\n",
       " ('2_reihe', 1998): 60,\n",
       " ('2_reihe', 2010): 75,\n",
       " ('2_reihe', 2016): 90,\n",
       " ('2_reihe', 1995): 60,\n",
       " ('2_reihe', 2017): 75,\n",
       " ('2_reihe', 1986): 75,\n",
       " ('2_reihe', 2011): 60,\n",
       " ('2_reihe', 1992): 102,\n",
       " ('2_reihe', 2018): 109,\n",
       " ('2_reihe', 2014): 114,\n",
       " ('2_reihe', 1990): 60,\n",
       " ('2_reihe', 1997): 65,\n",
       " ('2_reihe', 2015): 120,\n",
       " ('2_reihe', 1991): 102,\n",
       " ('2_reihe', 1989): 67,\n",
       " ('2_reihe', 1996): 94,\n",
       " ('2_reihe', 1994): 102,\n",
       " ('2_reihe', 1993): 75,\n",
       " ('2_reihe', 1987): 140,\n",
       " ('2_reihe', 1985): 60,\n",
       " ('2_reihe', 1988): 109,\n",
       " ('c_max', 2014): 125,\n",
       " ('c_max', 2007): 136,\n",
       " ('c_max', 2010): 109,\n",
       " ('c_max', 2011): 116,\n",
       " ('c_max', 2008): 115,\n",
       " ('c_max', 2006): 136,\n",
       " ('c_max', 2004): 110,\n",
       " ('c_max', 2017): 108,\n",
       " ('c_max', 2003): 125,\n",
       " ('c_max', 2005): 125,\n",
       " ('c_max', 2013): 182,\n",
       " ('c_max', 2015): 125,\n",
       " ('c_max', 2018): 109,\n",
       " ('c_max', 2012): 95,\n",
       " ('c_max', 2009): 110,\n",
       " ('c_max', 2016): 101,\n",
       " ('c_max', 2000): 110,\n",
       " ('3_reihe', 2004): 105,\n",
       " ('3_reihe', 2008): 174,\n",
       " ('3_reihe', 2009): 185,\n",
       " ('3_reihe', 1999): 88,\n",
       " ('3_reihe', 2002): 90,\n",
       " ('3_reihe', 2018): 101,\n",
       " ('3_reihe', 1997): 81,\n",
       " ('3_reihe', 2005): 109,\n",
       " ('3_reihe', 2006): 140,\n",
       " ('3_reihe', 2001): 98,\n",
       " ('3_reihe', 2007): 109,\n",
       " ('3_reihe', 1998): 101,\n",
       " ('3_reihe', 2003): 109,\n",
       " ('3_reihe', 1988): 64,\n",
       " ('3_reihe', 2017): 110,\n",
       " ('3_reihe', 1990): 84,\n",
       " ('3_reihe', 1996): 60,\n",
       " ('3_reihe', 2013): 163,\n",
       " ('3_reihe', 2011): 260,\n",
       " ('3_reihe', 2010): 260,\n",
       " ('3_reihe', 2015): 150,\n",
       " ('3_reihe', 2016): 107,\n",
       " ('3_reihe', 2012): 111,\n",
       " ('3_reihe', 1995): 121,\n",
       " ('3_reihe', 1994): 88,\n",
       " ('3_reihe', 1991): 64,\n",
       " ('3_reihe', 1993): 75,\n",
       " ('3_reihe', 2000): 110,\n",
       " ('3_reihe', 1992): 103,\n",
       " ('3_reihe', 1983): 44,\n",
       " ('3_reihe', 2014): 120,\n",
       " ('3_reihe', 1987): 128,\n",
       " ('3_reihe', 1986): 60,\n",
       " ('3_reihe', 1989): 84,\n",
       " ('3_reihe', 1982): 76,\n",
       " ('3_reihe', 1984): 60,\n",
       " ('passat', 2005): 140,\n",
       " ('passat', 1995): 115,\n",
       " ('passat', 2004): 131,\n",
       " ('passat', 2003): 131,\n",
       " ('passat', 1997): 101,\n",
       " ('passat', 2001): 131,\n",
       " ('passat', 2007): 140,\n",
       " ('passat', 2000): 101,\n",
       " ('passat', 2009): 140,\n",
       " ('passat', 1998): 90,\n",
       " ('passat', 2006): 140,\n",
       " ('passat', 2002): 150,\n",
       " ('passat', 1996): 116,\n",
       " ('passat', 2013): 140,\n",
       " ('passat', 2017): 101,\n",
       " ('passat', 1999): 90,\n",
       " ('passat', 2008): 299,\n",
       " ('passat', 2014): 140,\n",
       " ('passat', 1992): 90,\n",
       " ('passat', 1991): 116,\n",
       " ('passat', 2018): 193,\n",
       " ('passat', 1994): 90,\n",
       " ('passat', 2010): 170,\n",
       " ('passat', 1993): 90,\n",
       " ('passat', 2011): 122,\n",
       " ('passat', 2012): 140,\n",
       " ('passat', 2016): 115,\n",
       " ('passat', 1990): 90,\n",
       " ('passat', 1989): 136,\n",
       " ('passat', 1988): 90,\n",
       " ('passat', 1984): 54,\n",
       " ('passat', 2019): 170,\n",
       " ('passat', 1987): 90,\n",
       " ('passat', 1986): 90,\n",
       " ('passat', 1983): 75,\n",
       " ('passat', 1985): 116,\n",
       " ('passat', 2015): 240,\n",
       " ('passat', 1982): 86,\n",
       " ('navara', 2011): 190,\n",
       " ('navara', 2005): 174,\n",
       " ('navara', 2004): 173,\n",
       " ('navara', 2008): 171,\n",
       " ('navara', 2006): 176,\n",
       " ('navara', 2010): 190,\n",
       " ('navara', 2007): 171,\n",
       " ('navara', 1998): 103,\n",
       " ('navara', 1999): 103,\n",
       " ('navara', 2003): 133,\n",
       " ('navara', 2002): 103,\n",
       " ('navara', 2000): 103,\n",
       " ('navara', 2009): 171,\n",
       " ('navara', 2013): 190,\n",
       " ('polo', 2016): 60,\n",
       " ('polo', 2010): 86,\n",
       " ('polo', 2009): 80,\n",
       " ('polo', 1992): 54,\n",
       " ('polo', 1995): 54,\n",
       " ('polo', 2012): 90,\n",
       " ('polo', 2004): 54,\n",
       " ('polo', 2008): 60,\n",
       " ('polo', 1996): 45,\n",
       " ('polo', 2005): 64,\n",
       " ('polo', 1999): 60,\n",
       " ('polo', 2000): 75,\n",
       " ('polo', 2001): 75,\n",
       " ('polo', 2007): 80,\n",
       " ('polo', 2006): 80,\n",
       " ('polo', 2002): 64,\n",
       " ('polo', 2017): 120,\n",
       " ('polo', 2011): 75,\n",
       " ('polo', 2003): 75,\n",
       " ('polo', 1997): 75,\n",
       " ('polo', 1998): 60,\n",
       " ('polo', 1991): 45,\n",
       " ('polo', 2015): 75,\n",
       " ('polo', 1985): 39,\n",
       " ('polo', 1994): 45,\n",
       " ('polo', 1993): 45,\n",
       " ('polo', 2014): 110,\n",
       " ('polo', 2013): 69,\n",
       " ('polo', 2018): 64,\n",
       " ('polo', 1982): 50,\n",
       " ('polo', 1990): 54,\n",
       " ('polo', 1986): 45,\n",
       " ('polo', 1987): 54,\n",
       " ('polo', 1984): 29,\n",
       " ('polo', 1988): 54,\n",
       " ('polo', 1989): 45,\n",
       " ('polo', 1983): 50,\n",
       " ('polo', 1981): 60,\n",
       " ('polo', 2019): 90,\n",
       " ('polo', 1980): 39,\n",
       " ('twingo', 2004): 75,\n",
       " ('twingo', 2000): 60,\n",
       " ('twingo', 2018): 75,\n",
       " ('twingo', 1998): 58,\n",
       " ('twingo', 2002): 58,\n",
       " ('twingo', 2003): 75,\n",
       " ('twingo', 2005): 58,\n",
       " ('twingo', 1995): 54,\n",
       " ('twingo', 2012): 55,\n",
       " ('twingo', 2009): 58,\n",
       " ('twingo', 1999): 58,\n",
       " ('twingo', 1997): 55,\n",
       " ('twingo', 2001): 60,\n",
       " ('twingo', 2017): 60,\n",
       " ('twingo', 2013): 75,\n",
       " ('twingo', 1996): 54,\n",
       " ('twingo', 2006): 75,\n",
       " ('twingo', 2007): 101,\n",
       " ('twingo', 2010): 58,\n",
       " ('twingo', 2008): 46,\n",
       " ('twingo', 1993): 54,\n",
       " ('twingo', 1994): 54,\n",
       " ('twingo', 2016): 54,\n",
       " ('twingo', 2011): 133,\n",
       " ('twingo', 2015): 71,\n",
       " ('twingo', 2014): 75,\n",
       " ('twingo', 1992): 45,\n",
       " ('a_klasse', 2004): 102,\n",
       " ('a_klasse', 1999): 102,\n",
       " ('a_klasse', 2002): 140,\n",
       " ('a_klasse', 2013): 122,\n",
       " ('a_klasse', 2010): 95,\n",
       " ('a_klasse', 2001): 82,\n",
       " ('a_klasse', 2009): 95,\n",
       " ('a_klasse', 2017): 95,\n",
       " ('a_klasse', 2011): 95,\n",
       " ('a_klasse', 2003): 102,\n",
       " ('a_klasse', 2007): 95,\n",
       " ('a_klasse', 2005): 95,\n",
       " ('a_klasse', 2000): 82,\n",
       " ('a_klasse', 1998): 90,\n",
       " ('a_klasse', 2016): 111,\n",
       " ('a_klasse', 2006): 95,\n",
       " ('a_klasse', 2018): 125,\n",
       " ('a_klasse', 2012): 122,\n",
       " ('a_klasse', 2008): 140,\n",
       " ('a_klasse', 2014): 122,\n",
       " ('a_klasse', 1988): 95,\n",
       " ('a_klasse', 1997): 84,\n",
       " ('a_klasse', 1990): 102,\n",
       " ('a_klasse', 2015): 122,\n",
       " ('a_klasse', 1996): 82,\n",
       " ('scirocco', 2009): 160,\n",
       " ('scirocco', 2008): 160,\n",
       " ('scirocco', 2010): 122,\n",
       " ('scirocco', 2012): 160,\n",
       " ('scirocco', 2016): 160,\n",
       " ('scirocco', 2011): 122,\n",
       " ('scirocco', 2017): 260,\n",
       " ('scirocco', 2018): 160,\n",
       " ('scirocco', 1992): 95,\n",
       " ('scirocco', 1989): 95,\n",
       " ('scirocco', 1991): 95,\n",
       " ('scirocco', 1987): 90,\n",
       " ('scirocco', 1982): 82,\n",
       " ('scirocco', 2015): 125,\n",
       " ('scirocco', 1980): 75,\n",
       " ('scirocco', 1986): 90,\n",
       " ('scirocco', 1993): 95,\n",
       " ('scirocco', 1990): 95,\n",
       " ('scirocco', 2013): 122,\n",
       " ('scirocco', 2014): 160,\n",
       " ('scirocco', 1999): 122,\n",
       " ('scirocco', 1983): 85,\n",
       " ('scirocco', 1985): 111,\n",
       " ('scirocco', 1981): 110,\n",
       " ('scirocco', 1988): 95,\n",
       " ('5er', 2002): 231,\n",
       " ('5er', 2006): 231,\n",
       " ('5er', 1998): 193,\n",
       " ('5er', 1997): 150,\n",
       " ('5er', 2009): 235,\n",
       " ('5er', 2000): 184,\n",
       " ('5er', 1995): 115,\n",
       " ('5er', 2011): 313,\n",
       " ('5er', 2004): 170,\n",
       " ('5er', 2008): 177,\n",
       " ('5er', 2007): 150,\n",
       " ('5er', 1999): 170,\n",
       " ('5er', 2005): 333,\n",
       " ('5er', 2010): 177,\n",
       " ('5er', 2001): 163,\n",
       " ('5er', 1984): 125,\n",
       " ('5er', 2003): 193,\n",
       " ('5er', 1985): 122,\n",
       " ('5er', 1996): 150,\n",
       " ('5er', 1990): 170,\n",
       " ('5er', 1991): 192,\n",
       " ('5er', 1994): 143,\n",
       " ('5er', 1989): 129,\n",
       " ('5er', 1987): 130,\n",
       " ('5er', 1993): 192,\n",
       " ('5er', 2012): 184,\n",
       " ('5er', 2016): 235,\n",
       " ('5er', 1983): 116,\n",
       " ('5er', 1992): 192,\n",
       " ('5er', 2013): 184,\n",
       " ('5er', 2017): 160,\n",
       " ('5er', 1988): 116,\n",
       " ('5er', 2018): 170,\n",
       " ('5er', 1986): 122,\n",
       " ('5er', 1981): 122,\n",
       " ('5er', 1980): 218,\n",
       " ('5er', 1982): 150,\n",
       " ('5er', 2014): 258,\n",
       " ('meriva', 2018): 90,\n",
       " ('meriva', 2017): 90,\n",
       " ('meriva', 2003): 87,\n",
       " ('meriva', 2011): 101,\n",
       " ('meriva', 2006): 90,\n",
       " ('meriva', 2005): 75,\n",
       " ('meriva', 2004): 101,\n",
       " ('meriva', 2008): 105,\n",
       " ('meriva', 2012): 140,\n",
       " ('meriva', 2010): 120,\n",
       " ('meriva', 2007): 125,\n",
       " ('meriva', 2015): 120,\n",
       " ('meriva', 2016): 101,\n",
       " ('meriva', 2009): 105,\n",
       " ('meriva', 2013): 120,\n",
       " ('meriva', 2014): 120,\n",
       " ('meriva', 1999): 54,\n",
       " ('arosa', 1997): 50,\n",
       " ('arosa', 1998): 50,\n",
       " ('arosa', 1999): 50,\n",
       " ('arosa', 2000): 60,\n",
       " ('arosa', 2017): 55,\n",
       " ('arosa', 2001): 60,\n",
       " ('arosa', 2002): 60,\n",
       " ('arosa', 2004): 50,\n",
       " ('arosa', 2016): 50,\n",
       " ('arosa', 2018): 75,\n",
       " ('arosa', 2003): 60,\n",
       " ('arosa', 2005): 50,\n",
       " ('arosa', 2006): 50,\n",
       " ('arosa', 2009): 50,\n",
       " ('arosa', 1995): 50,\n",
       " ('arosa', 1996): 50,\n",
       " ('arosa', 1989): 50,\n",
       " ('other', 1990): 118,\n",
       " ('other', 2002): 129,\n",
       " ('other', 1984): 70,\n",
       " ('other', 2016): 55,\n",
       " ('other', 2018): 64,\n",
       " ('other', 2000): 105,\n",
       " ('other', 1992): 109,\n",
       " ('other', 2001): 87,\n",
       " ('other', 1991): 160,\n",
       " ('other', 1995): 75,\n",
       " ('other', 1982): 41,\n",
       " ('other', 2003): 109,\n",
       " ('other', 1996): 69,\n",
       " ('other', 1998): 170,\n",
       " ('other', 2008): 170,\n",
       " ('other', 2005): 131,\n",
       " ('other', 2004): 203,\n",
       " ('other', 2010): 120,\n",
       " ('other', 1999): 101,\n",
       " ('other', 1989): 45,\n",
       " ('other', 2007): 54,\n",
       " ('other', 2017): 184,\n",
       " ('other', 2009): 156,\n",
       " ('other', 1997): 136,\n",
       " ('other', 2014): 105,\n",
       " ('other', 2013): 122,\n",
       " ('other', 2011): 120,\n",
       " ('other', 2006): 166,\n",
       " ('other', 1980): 96,\n",
       " ('other', 1986): 150,\n",
       " ('other', 1981): 136,\n",
       " ('other', 1983): 140,\n",
       " ('other', 1985): 72,\n",
       " ('other', 1994): 156,\n",
       " ('other', 1993): 131,\n",
       " ('other', 2012): 150,\n",
       " ('other', 1988): 101,\n",
       " ('other', 1987): 72,\n",
       " ('other', 2015): 87,\n",
       " ('c4', 2017): 125,\n",
       " ('c4', 2006): 88,\n",
       " ('c4', 2008): 136,\n",
       " ('c4', 2011): 120,\n",
       " ('c4', 2010): 111,\n",
       " ('c4', 2007): 88,\n",
       " ('c4', 2012): 108,\n",
       " ('c4', 2005): 136,\n",
       " ('c4', 2013): 150,\n",
       " ('c4', 2009): 135,\n",
       " ('c4', 2018): 88,\n",
       " ('c4', 2004): 109,\n",
       " ('c4', 2015): 82,\n",
       " ('c4', 2014): 156,\n",
       " ('c4', 2016): 136,\n",
       " ('c4', 2001): 116,\n",
       " ('c4', 2003): 116,\n",
       " ('civic', 2008): 99,\n",
       " ('civic', 1995): 90,\n",
       " ('civic', 2003): 110,\n",
       " ('civic', 2000): 75,\n",
       " ('civic', 2001): 90,\n",
       " ('civic', 1999): 90,\n",
       " ('civic', 2017): 90,\n",
       " ('civic', 2012): 141,\n",
       " ('civic', 2005): 90,\n",
       " ('civic', 1994): 75,\n",
       " ('civic', 1993): 90,\n",
       " ('civic', 2002): 110,\n",
       " ('civic', 2009): 140,\n",
       " ('civic', 1996): 90,\n",
       " ('civic', 2007): 95,\n",
       " ('civic', 2006): 83,\n",
       " ('civic', 2016): 75,\n",
       " ('civic', 1998): 90,\n",
       " ('civic', 1997): 90,\n",
       " ('civic', 2014): 140,\n",
       " ('civic', 2004): 200,\n",
       " ('civic', 1989): 110,\n",
       " ('civic', 2011): 140,\n",
       " ('civic', 2010): 140,\n",
       " ('civic', 1991): 75,\n",
       " ('civic', 1990): 63,\n",
       " ('civic', 1992): 110,\n",
       " ('civic', 2013): 120,\n",
       " ('civic', 2015): 141,\n",
       " ('civic', 2018): 169,\n",
       " ('civic', 1982): 60,\n",
       " ('civic', 1988): 109,\n",
       " ('transporter', 1981): 50,\n",
       " ('transporter', 2008): 84,\n",
       " ('transporter', 1996): 110,\n",
       " ('transporter', 2007): 131,\n",
       " ('transporter', 2017): 85,\n",
       " ('transporter', 1991): 77,\n",
       " ('transporter', 1992): 60,\n",
       " ('transporter', 2006): 131,\n",
       " ('transporter', 2005): 109,\n",
       " ('transporter', 2012): 179,\n",
       " ('transporter', 1997): 102,\n",
       " ('transporter', 1995): 68,\n",
       " ('transporter', 2001): 68,\n",
       " ('transporter', 1999): 88,\n",
       " ('transporter', 2018): 110,\n",
       " ('transporter', 2010): 102,\n",
       " ('transporter', 1986): 69,\n",
       " ('transporter', 2009): 131,\n",
       " ('transporter', 1998): 102,\n",
       " ('transporter', 2000): 102,\n",
       " ('transporter', 2004): 174,\n",
       " ('transporter', 2013): 140,\n",
       " ('transporter', 2003): 105,\n",
       " ('transporter', 1994): 78,\n",
       " ('transporter', 2002): 102,\n",
       " ('transporter', 1982): 69,\n",
       " ('transporter', 1990): 78,\n",
       " ('transporter', 1989): 136,\n",
       " ('transporter', 2011): 140,\n",
       " ('transporter', 1993): 116,\n",
       " ('transporter', 1980): 50,\n",
       " ('transporter', 1988): 92,\n",
       " ('transporter', 1987): 69,\n",
       " ('transporter', 1985): 77,\n",
       " ('transporter', 2016): 102,\n",
       " ('transporter', 1983): 50,\n",
       " ('transporter', 1984): 116,\n",
       " ('transporter', 2014): 179,\n",
       " ('transporter', 2019): 90,\n",
       " ('transporter', 2015): 75,\n",
       " ('punto', 2003): 60,\n",
       " ('punto', 2017): 90,\n",
       " ('punto', 2000): 60,\n",
       " ('punto', 2001): 60,\n",
       " ('punto', 2012): 69,\n",
       " ('punto', 2016): 60,\n",
       " ('punto', 1998): 86,\n",
       " ('punto', 2002): 60,\n",
       " ('punto', 2009): 77,\n",
       " ('punto', 1997): 56,\n",
       " ('punto', 1994): 72,\n",
       " ('punto', 2011): 68,\n",
       " ('punto', 1996): 55,\n",
       " ('punto', 2013): 69,\n",
       " ('punto', 2018): 77,\n",
       " ('punto', 1999): 60,\n",
       " ('punto', 2008): 78,\n",
       " ('punto', 2006): 65,\n",
       " ('punto', 2005): 60,\n",
       " ('punto', 2004): 58,\n",
       " ('punto', 2007): 65,\n",
       " ('punto', 2010): 77,\n",
       " ('punto', 1995): 90,\n",
       " ('punto', 2014): 69,\n",
       " ('punto', 1993): 60,\n",
       " ('punto', 2019): 80,\n",
       " ('e_klasse', 1995): 113,\n",
       " ('e_klasse', 2004): 122,\n",
       " ('e_klasse', 2002): 306,\n",
       " ('e_klasse', 2001): 170,\n",
       " ('e_klasse', 2000): 197,\n",
       " ('e_klasse', 1992): 220,\n",
       " ('e_klasse', 2005): 190,\n",
       " ('e_klasse', 2006): 170,\n",
       " ('e_klasse', 1989): 132,\n",
       " ('e_klasse', 1998): 204,\n",
       " ('e_klasse', 1997): 204,\n",
       " ('e_klasse', 1983): 72,\n",
       " ('e_klasse', 1988): 105,\n",
       " ('e_klasse', 2011): 170,\n",
       " ('e_klasse', 1980): 194,\n",
       " ('e_klasse', 1999): 279,\n",
       " ('e_klasse', 1991): 179,\n",
       " ('e_klasse', 1993): 113,\n",
       " ('e_klasse', 2003): 163,\n",
       " ('e_klasse', 2008): 190,\n",
       " ('e_klasse', 2009): 231,\n",
       " ('e_klasse', 2012): 213,\n",
       " ('e_klasse', 2017): 150,\n",
       " ('e_klasse', 2007): 170,\n",
       " ('e_klasse', 1987): 75,\n",
       " ('e_klasse', 1996): 180,\n",
       " ('e_klasse', 2010): 136,\n",
       " ('e_klasse', 2018): 150,\n",
       " ('e_klasse', 1994): 150,\n",
       " ('e_klasse', 2016): 225,\n",
       " ('e_klasse', 1986): 179,\n",
       " ('e_klasse', 1990): 118,\n",
       " ('e_klasse', 1981): 185,\n",
       " ('e_klasse', 1985): 90,\n",
       " ('e_klasse', 1984): 88,\n",
       " ('e_klasse', 1982): 109,\n",
       " ('e_klasse', 2013): 265,\n",
       " ('e_klasse', 2014): 585,\n",
       " ('e_klasse', 2015): 136,\n",
       " ('clio', 2016): 60,\n",
       " ('clio', 1999): 75,\n",
       " ('clio', 1998): 54,\n",
       " ('clio', 2000): 75,\n",
       " ('clio', 2006): 75,\n",
       " ('clio', 2009): 201,\n",
       " ('clio', 2014): 73,\n",
       " ('clio', 2002): 75,\n",
       " ('clio', 2003): 82,\n",
       " ('clio', 1993): 54,\n",
       " ('clio', 2001): 75,\n",
       " ('clio', 2005): 75,\n",
       " ('clio', 2004): 75,\n",
       " ('clio', 2013): 90,\n",
       " ('clio', 2008): 58,\n",
       " ('clio', 1996): 60,\n",
       " ('clio', 2018): 54,\n",
       " ('clio', 2017): 70,\n",
       " ('clio', 1992): 135,\n",
       " ('clio', 2007): 102,\n",
       " ('clio', 1995): 75,\n",
       " ('clio', 1997): 54,\n",
       " ('clio', 1994): 54,\n",
       " ('clio', 2011): 101,\n",
       " ('clio', 2012): 75,\n",
       " ('clio', 2010): 73,\n",
       " ('clio', 1991): 75,\n",
       " ('clio', 1990): 54,\n",
       " ('clio', 1988): 60,\n",
       " ('clio', 2015): 120,\n",
       " ('clio', 1989): 75,\n",
       " ('kadett', 1991): 75,\n",
       " ('kadett', 1987): 75,\n",
       " ('kadett', 2018): 75,\n",
       " ('kadett', 2016): 88,\n",
       " ('kadett', 1989): 75,\n",
       " ('kadett', 1983): 60,\n",
       " ('kadett', 1986): 75,\n",
       " ('kadett', 1985): 60,\n",
       " ('kadett', 1988): 75,\n",
       " ('kadett', 1990): 118,\n",
       " ('kadett', 2017): 75,\n",
       " ('kadett', 1993): 75,\n",
       " ('kadett', 1981): 53,\n",
       " ('kadett', 1984): 150,\n",
       " ('kadett', 1980): 60,\n",
       " ('kadett', 1995): 75,\n",
       " ('kadett', 1992): 75,\n",
       " ('kadett', 1982): 75,\n",
       " ('kadett', 2002): 50,\n",
       " ('one', 2007): 95,\n",
       " ('one', 2003): 90,\n",
       " ('one', 2012): 75,\n",
       " ('one', 2005): 90,\n",
       " ('one', 2015): 102,\n",
       " ('one', 2010): 90,\n",
       " ('one', 2004): 90,\n",
       " ('one', 2002): 90,\n",
       " ('one', 2001): 90,\n",
       " ('one', 2008): 95,\n",
       " ('one', 2011): 90,\n",
       " ('one', 2009): 75,\n",
       " ('one', 2006): 90,\n",
       " ('one', 2014): 102,\n",
       " ('one', 2017): 90,\n",
       " ('one', 2018): 90,\n",
       " ('one', 2016): 95,\n",
       " ('one', 2013): 98,\n",
       " ('fortwo', 2008): 61,\n",
       " ('fortwo', 2006): 61,\n",
       " ('fortwo', 2001): 41,\n",
       " ('fortwo', 1999): 54,\n",
       " ('fortwo', 2010): 71,\n",
       " ('fortwo', 2000): 54,\n",
       " ('fortwo', 2013): 71,\n",
       " ('fortwo', 2007): 84,\n",
       " ('fortwo', 2003): 41,\n",
       " ('fortwo', 2009): 71,\n",
       " ('fortwo', 2015): 84,\n",
       " ('fortwo', 2005): 61,\n",
       " ('fortwo', 2011): 71,\n",
       " ('fortwo', 2004): 61,\n",
       " ('fortwo', 2012): 84,\n",
       " ('fortwo', 2002): 45,\n",
       " ('fortwo', 2014): 71,\n",
       " ('fortwo', 1998): 45,\n",
       " ('fortwo', 2017): 54,\n",
       " ('fortwo', 2016): 61,\n",
       " ('fortwo', 2018): 52,\n",
       " ('fortwo', 1992): 55,\n",
       " ('1er', 2007): 177,\n",
       " ('1er', 2008): 170,\n",
       " ('1er', 2010): 143,\n",
       " ('1er', 2009): 143,\n",
       " ('1er', 2006): 129,\n",
       " ('1er', 2016): 122,\n",
       " ('1er', 2011): 143,\n",
       " ('1er', 2005): 129,\n",
       " ('1er', 2012): 143,\n",
       " ('1er', 2018): 143,\n",
       " ('1er', 2004): 163,\n",
       " ('1er', 2013): 141,\n",
       " ('1er', 2015): 136,\n",
       " ('1er', 2017): 170,\n",
       " ('1er', 2014): 136,\n",
       " ('1er', 2000): 106,\n",
       " ('1er', 2003): 118,\n",
       " ('1er', 1993): 102,\n",
       " ('1er', 2001): 116,\n",
       " ('1er', 1997): 101,\n",
       " ('1er', 1999): 156,\n",
       " ('1er', 1994): 102,\n",
       " ('1er', 1992): 150,\n",
       " ('1er', 1996): 116,\n",
       " ('1er', 1991): 113,\n",
       " ('1er', 2002): 116,\n",
       " ('1er', 1998): 102,\n",
       " ('1er', 1995): 105,\n",
       " ('b_klasse', 2012): 109,\n",
       " ('b_klasse', 2006): 95,\n",
       " ('b_klasse', 2007): 95,\n",
       " ('b_klasse', 2010): 193,\n",
       " ('b_klasse', 2005): 116,\n",
       " ('b_klasse', 2009): 109,\n",
       " ('b_klasse', 2016): 116,\n",
       " ('b_klasse', 2013): 122,\n",
       " ('b_klasse', 2008): 109,\n",
       " ('b_klasse', 2017): 141,\n",
       " ('b_klasse', 2011): 109,\n",
       " ('b_klasse', 1994): 122,\n",
       " ('b_klasse', 2014): 122,\n",
       " ('b_klasse', 2018): 140,\n",
       " ('b_klasse', 1997): 122,\n",
       " ('b_klasse', 1999): 109,\n",
       " ('a8', 2004): 232,\n",
       " ('a8', 2001): 260,\n",
       " ('a8', 2000): 193,\n",
       " ('a8', 2008): 232,\n",
       " ('a8', 2003): 334,\n",
       " ('a8', 1997): 299,\n",
       " ('a8', 2005): 232,\n",
       " ('a8', 1999): 310,\n",
       " ('a8', 2007): 334,\n",
       " ('a8', 2009): 232,\n",
       " ('a8', 2006): 450,\n",
       " ('a8', 1996): 299,\n",
       " ('a8', 2018): 233,\n",
       " ('a8', 1995): 174,\n",
       " ('a8', 1994): 299,\n",
       " ('a8', 1998): 299,\n",
       " ('a8', 2016): 300,\n",
       " ('a8', 2017): 230,\n",
       " ('a8', 2002): 224,\n",
       " ('a8', 2012): 250,\n",
       " ('a8', 2010): 371,\n",
       " ('a8', 2011): 250,\n",
       " ('jetta', 2006): 105,\n",
       " ('jetta', 2007): 102,\n",
       " ('jetta', 2005): 102,\n",
       " ('jetta', 2009): 140,\n",
       " ('jetta', 1991): 69,\n",
       " ('jetta', 1989): 70,\n",
       " ('jetta', 1990): 75,\n",
       " ('jetta', 2011): 105,\n",
       " ('jetta', 1986): 54,\n",
       " ('jetta', 1996): 90,\n",
       " ('jetta', 2012): 105,\n",
       " ('jetta', 1993): 75,\n",
       " ('jetta', 1981): 70,\n",
       " ('jetta', 2000): 72,\n",
       " ('jetta', 1987): 75,\n",
       " ('jetta', 1983): 60,\n",
       " ('jetta', 1980): 69,\n",
       " ('jetta', 2016): 75,\n",
       " ('jetta', 1995): 90,\n",
       " ('jetta', 1985): 69,\n",
       " ('jetta', 2014): 105,\n",
       " ('jetta', 1992): 90,\n",
       " ('jetta', 1982): 72,\n",
       " ('jetta', 2008): 160,\n",
       " ('jetta', 2017): 90,\n",
       " ('jetta', 2018): 70,\n",
       " ('jetta', 2015): 170,\n",
       " ('jetta', 1984): 54,\n",
       " ('jetta', 1997): 90,\n",
       " ('jetta', 1994): 75,\n",
       " ('jetta', 1988): 72,\n",
       " ('jetta', 2010): 105,\n",
       " ('jetta', 2013): 140,\n",
       " ('jetta', 1998): 101,\n",
       " ('astra', 2017): 101,\n",
       " ('astra', 2016): 75,\n",
       " ('astra', 2006): 200,\n",
       " ('astra', 2018): 75,\n",
       " ('astra', 2012): 131,\n",
       " ('astra', 1999): 75,\n",
       " ('astra', 2004): 125,\n",
       " ('astra', 1994): 115,\n",
       " ('astra', 2008): 110,\n",
       " ('astra', 1998): 115,\n",
       " ('astra', 2001): 147,\n",
       " ('astra', 2000): 75,\n",
       " ('astra', 2005): 80,\n",
       " ('astra', 2003): 80,\n",
       " ('astra', 2010): 110,\n",
       " ('astra', 2007): 140,\n",
       " ('astra', 2002): 101,\n",
       " ('astra', 1995): 74,\n",
       " ('astra', 2009): 90,\n",
       " ('astra', 1997): 75,\n",
       " ('astra', 1992): 60,\n",
       " ('astra', 1996): 60,\n",
       " ('astra', 2011): 140,\n",
       " ('astra', 1993): 75,\n",
       " ('astra', 2015): 116,\n",
       " ('astra', 1991): 75,\n",
       " ('astra', 2013): 140,\n",
       " ('astra', 2014): 101,\n",
       " ('astra', 1990): 90,\n",
       " ('astra', 1988): 75,\n",
       " ('astra', 1989): 65,\n",
       " ('fiesta', 2002): 50,\n",
       " ('fiesta', 2009): 82,\n",
       " ('fiesta', 2003): 80,\n",
       " ('fiesta', 2012): 95,\n",
       " ('fiesta', 2016): 75,\n",
       " ('fiesta', 2007): 88,\n",
       " ('fiesta', 2013): 80,\n",
       " ('fiesta', 2004): 69,\n",
       " ('fiesta', 2000): 60,\n",
       " ('fiesta', 2014): 101,\n",
       " ('fiesta', 1995): 45,\n",
       " ('fiesta', 1996): 75,\n",
       " ('fiesta', 2006): 101,\n",
       " ('fiesta', 1997): 55,\n",
       " ('fiesta', 2005): 65,\n",
       " ('fiesta', 2008): 82,\n",
       " ('fiesta', 1998): 60,\n",
       " ('fiesta', 1999): 75,\n",
       " ('fiesta', 1986): 50,\n",
       " ('fiesta', 2001): 60,\n",
       " ('fiesta', 2010): 71,\n",
       " ('fiesta', 2015): 101,\n",
       " ('fiesta', 2017): 60,\n",
       " ('fiesta', 1992): 50,\n",
       " ('fiesta', 2011): 82,\n",
       " ('fiesta', 2018): 80,\n",
       " ('fiesta', 1994): 60,\n",
       " ('fiesta', 1988): 50,\n",
       " ('fiesta', 1990): 54,\n",
       " ('fiesta', 1991): 50,\n",
       " ('fiesta', 1984): 43,\n",
       " ('fiesta', 1993): 44,\n",
       " ('fiesta', 1989): 55,\n",
       " ('fiesta', 1981): 67,\n",
       " ('fiesta', 1985): 54,\n",
       " ('fiesta', 1987): 50,\n",
       " ('fiesta', 1982): 53,\n",
       " ('c_klasse', 2008): 156,\n",
       " ('c_klasse', 2005): 150,\n",
       " ('c_klasse', 1999): 125,\n",
       " ('c_klasse', 2007): 170,\n",
       " ('c_klasse', 1996): 122,\n",
       " ('c_klasse', 2000): 160,\n",
       " ('c_klasse', 2003): 170,\n",
       " ('c_klasse', 2004): 122,\n",
       " ('c_klasse', 2001): 150,\n",
       " ('c_klasse', 2011): 156,\n",
       " ('c_klasse', 1995): 85,\n",
       " ('c_klasse', 1997): 122,\n",
       " ('c_klasse', 2010): 170,\n",
       " ('c_klasse', 2006): 122,\n",
       " ('c_klasse', 2009): 170,\n",
       " ('c_klasse', 1993): 122,\n",
       " ('c_klasse', 2002): 180,\n",
       " ('c_klasse', 1998): 122,\n",
       " ('c_klasse', 1994): 122,\n",
       " ('c_klasse', 2017): 122,\n",
       " ('c_klasse', 2016): 130,\n",
       " ('c_klasse', 2012): 156,\n",
       " ('c_klasse', 2013): 136,\n",
       " ('c_klasse', 1991): 136,\n",
       " ('c_klasse', 2018): 143,\n",
       " ('c_klasse', 1990): 75,\n",
       " ('c_klasse', 2015): 367,\n",
       " ('c_klasse', 1992): 109,\n",
       " ('c_klasse', 2019): 122,\n",
       " ('c_klasse', 1989): 185,\n",
       " ('c_klasse', 2014): 122,\n",
       " ('c_klasse', 1984): 90,\n",
       " ('c_klasse', 1985): 185,\n",
       " ('c_klasse', 1986): 72,\n",
       " ('c_klasse', 1988): 101,\n",
       " ('micra', 2013): 80,\n",
       " ('micra', 2003): 65,\n",
       " ('micra', 2004): 65,\n",
       " ('micra', 1996): 55,\n",
       " ('micra', 2009): 65,\n",
       " ('micra', 2005): 68,\n",
       " ('micra', 2000): 55,\n",
       " ('micra', 2016): 80,\n",
       " ('micra', 2001): 60,\n",
       " ('micra', 1998): 55,\n",
       " ('micra', 1997): 54,\n",
       " ('micra', 2017): 60,\n",
       " ('micra', 2002): 60,\n",
       " ('micra', 2006): 80,\n",
       " ('micra', 1995): 52,\n",
       " ('micra', 1999): 60,\n",
       " ('micra', 2011): 80,\n",
       " ('micra', 2007): 86,\n",
       " ('micra', 1994): 75,\n",
       " ('micra', 2010): 65,\n",
       " ('micra', 2008): 65,\n",
       " ('micra', 2018): 65,\n",
       " ('micra', 2012): 80,\n",
       " ('micra', 1993): 54,\n",
       " ('micra', 1989): 50,\n",
       " ('micra', 1992): 55,\n",
       " ('micra', 2014): 80,\n",
       " ('micra', 1991): 54,\n",
       " ('micra', 1990): 54,\n",
       " ('micra', 1988): 54,\n",
       " ('micra', 2015): 80,\n",
       " ('micra', 1986): 50,\n",
       " ('vito', 2003): 82,\n",
       " ('vito', 2006): 150,\n",
       " ('vito', 2000): 122,\n",
       " ('vito', 2002): 122,\n",
       " ('vito', 2004): 109,\n",
       " ('vito', 2009): 116,\n",
       " ('vito', 2011): 136,\n",
       " ('vito', 2001): 122,\n",
       " ('vito', 2008): 150,\n",
       " ('vito', 1998): 204,\n",
       " ('vito', 2005): 150,\n",
       " ('vito', 2012): 100,\n",
       " ('vito', 1997): 100,\n",
       " ('vito', 1999): 143,\n",
       " ('vito', 2007): 150,\n",
       " ('vito', 1996): 72,\n",
       " ('vito', 2013): 163,\n",
       " ('vito', 2010): 95,\n",
       " ('vito', 2017): 163,\n",
       " ('vito', 2016): 150,\n",
       " ('vito', 2018): 116,\n",
       " ('vito', 2014): 136,\n",
       " ('sprinter', 2006): 109,\n",
       " ('sprinter', 2000): 130,\n",
       " ('sprinter', 2007): 109,\n",
       " ('sprinter', 2010): 190,\n",
       " ('sprinter', 1997): 122,\n",
       " ('sprinter', 2005): 129,\n",
       " ...}"
      ]
     },
     "execution_count": 22,
     "metadata": {},
     "output_type": "execute_result"
    }
   ],
   "source": [
    "power"
   ]
  },
  {
   "cell_type": "code",
   "execution_count": 23,
   "metadata": {},
   "outputs": [
    {
     "data": {
      "text/plain": [
       "0.09255724004128994"
      ]
     },
     "execution_count": 23,
     "metadata": {},
     "output_type": "execute_result"
    }
   ],
   "source": [
    "(df[df['Power']==0].shape[0])/(df.shape[0])"
   ]
  },
  {
   "cell_type": "code",
   "execution_count": 24,
   "metadata": {},
   "outputs": [],
   "source": [
    "def power_filler(data):\n",
    "    for index in range(data[data['Power']==0].shape[0]):\n",
    "        try:\n",
    "            year = data.loc[index,:]['RegistrationYear']\n",
    "            model = data.loc[index,:]['Model']\n",
    "            data.loc[index,'Power'] = power[model,year]\n",
    "        except KeyError:\n",
    "            pass"
   ]
  },
  {
   "cell_type": "code",
   "execution_count": 25,
   "metadata": {
    "scrolled": false
   },
   "outputs": [],
   "source": [
    "power_filler(df)"
   ]
  },
  {
   "cell_type": "code",
   "execution_count": 26,
   "metadata": {
    "scrolled": true
   },
   "outputs": [
    {
     "data": {
      "text/plain": [
       "0.0836090141405599"
      ]
     },
     "execution_count": 26,
     "metadata": {},
     "output_type": "execute_result"
    }
   ],
   "source": [
    "(df[df['Power']==0].shape[0])/(df.shape[0])"
   ]
  },
  {
   "cell_type": "markdown",
   "metadata": {},
   "source": [
    "Данные которые не удалось восстановить по имеющимся, убираем."
   ]
  },
  {
   "cell_type": "code",
   "execution_count": 27,
   "metadata": {},
   "outputs": [],
   "source": [
    "df = df[df['Power']!=0]"
   ]
  },
  {
   "cell_type": "code",
   "execution_count": 28,
   "metadata": {},
   "outputs": [],
   "source": [
    "df.reset_index(drop= True , inplace= True )"
   ]
  },
  {
   "cell_type": "code",
   "execution_count": 29,
   "metadata": {
    "scrolled": true
   },
   "outputs": [
    {
     "name": "stdout",
     "output_type": "stream",
     "text": [
      "<class 'pandas.core.frame.DataFrame'>\n",
      "RangeIndex: 294737 entries, 0 to 294736\n",
      "Data columns (total 10 columns):\n",
      " #   Column            Non-Null Count   Dtype \n",
      "---  ------            --------------   ----- \n",
      " 0   Price             294737 non-null  int64 \n",
      " 1   VehicleType       275585 non-null  object\n",
      " 2   RegistrationYear  294737 non-null  int64 \n",
      " 3   Gearbox           288881 non-null  object\n",
      " 4   Power             294737 non-null  int64 \n",
      " 5   Model             294737 non-null  object\n",
      " 6   Kilometer         294737 non-null  int64 \n",
      " 7   FuelType          278003 non-null  object\n",
      " 8   Brand             294737 non-null  object\n",
      " 9   Repaired          251176 non-null  object\n",
      "dtypes: int64(4), object(6)\n",
      "memory usage: 22.5+ MB\n"
     ]
    }
   ],
   "source": [
    "df.info()"
   ]
  },
  {
   "cell_type": "code",
   "execution_count": 30,
   "metadata": {},
   "outputs": [
    {
     "data": {
      "text/plain": [
       "Price               0.000000\n",
       "VehicleType         0.064980\n",
       "RegistrationYear    0.000000\n",
       "Gearbox             0.019869\n",
       "Power               0.000000\n",
       "Model               0.000000\n",
       "Kilometer           0.000000\n",
       "FuelType            0.056776\n",
       "Brand               0.000000\n",
       "Repaired            0.147796\n",
       "dtype: float64"
      ]
     },
     "execution_count": 30,
     "metadata": {},
     "output_type": "execute_result"
    }
   ],
   "source": [
    "df.isna().sum()/df.isna().count()"
   ]
  },
  {
   "cell_type": "code",
   "execution_count": 31,
   "metadata": {
    "scrolled": true
   },
   "outputs": [],
   "source": [
    "models = df.Model.unique()"
   ]
  },
  {
   "cell_type": "code",
   "execution_count": 32,
   "metadata": {},
   "outputs": [],
   "source": [
    "table={}\n",
    "most_common={}\n",
    "for model in models:\n",
    "    for gearbox in ['auto','manual']:\n",
    "        table[model,gearbox] = (df[df['Model']==model]['Gearbox']==gearbox).sum()\n",
    "    if table[model,'auto'] > table[model,'manual']:\n",
    "        most_common[model]='auto'\n",
    "    else:\n",
    "        most_common[model]='manual'\n",
    "        "
   ]
  },
  {
   "cell_type": "code",
   "execution_count": 33,
   "metadata": {},
   "outputs": [
    {
     "data": {
      "text/plain": [
       "{('golf', 'auto'): 2795,\n",
       " ('golf', 'manual'): 22763,\n",
       " ('grand', 'auto'): 322,\n",
       " ('grand', 'manual'): 201,\n",
       " ('fabia', 'auto'): 97,\n",
       " ('fabia', 'manual'): 1826,\n",
       " ('3er', 'auto'): 3528,\n",
       " ('3er', 'manual'): 14098,\n",
       " ('2_reihe', 'auto'): 144,\n",
       " ('2_reihe', 'manual'): 4264,\n",
       " ('c_max', 'auto'): 48,\n",
       " ('c_max', 'manual'): 591,\n",
       " ('3_reihe', 'auto'): 198,\n",
       " ('3_reihe', 'manual'): 2885,\n",
       " ('passat', 'auto'): 2086,\n",
       " ('passat', 'manual'): 6835,\n",
       " ('navara', 'auto'): 16,\n",
       " ('navara', 'manual'): 66,\n",
       " ('polo', 'auto'): 437,\n",
       " ('polo', 'manual'): 10532,\n",
       " ('twingo', 'auto'): 165,\n",
       " ('twingo', 'manual'): 3670,\n",
       " ('a_klasse', 'auto'): 865,\n",
       " ('a_klasse', 'manual'): 2639,\n",
       " ('scirocco', 'auto'): 102,\n",
       " ('scirocco', 'manual'): 444,\n",
       " ('5er', 'auto'): 4001,\n",
       " ('5er', 'manual'): 3152,\n",
       " ('meriva', 'auto'): 87,\n",
       " ('meriva', 'manual'): 859,\n",
       " ('arosa', 'auto'): 19,\n",
       " ('arosa', 'manual'): 725,\n",
       " ('other', 'auto'): 4381,\n",
       " ('other', 'manual'): 15231,\n",
       " ('c4', 'auto'): 104,\n",
       " ('c4', 'manual'): 304,\n",
       " ('civic', 'auto'): 68,\n",
       " ('civic', 'manual'): 1091,\n",
       " ('transporter', 'auto'): 388,\n",
       " ('transporter', 'manual'): 3733,\n",
       " ('punto', 'auto'): 48,\n",
       " ('punto', 'manual'): 2653,\n",
       " ('e_klasse', 'auto'): 4495,\n",
       " ('e_klasse', 'manual'): 1525,\n",
       " ('clio', 'auto'): 138,\n",
       " ('clio', 'manual'): 2808,\n",
       " ('kadett', 'auto'): 29,\n",
       " ('kadett', 'manual'): 150,\n",
       " ('kangoo', 'auto'): 18,\n",
       " ('kangoo', 'manual'): 748,\n",
       " ('one', 'auto'): 18,\n",
       " ('one', 'manual'): 832,\n",
       " ('fortwo', 'auto'): 2910,\n",
       " ('fortwo', 'manual'): 358,\n",
       " ('1er', 'auto'): 412,\n",
       " ('1er', 'manual'): 2939,\n",
       " ('b_klasse', 'auto'): 316,\n",
       " ('b_klasse', 'manual'): 500,\n",
       " ('signum', 'auto'): 163,\n",
       " ('signum', 'manual'): 294,\n",
       " ('astra', 'auto'): 703,\n",
       " ('astra', 'manual'): 8611,\n",
       " ('a8', 'auto'): 448,\n",
       " ('a8', 'manual'): 24,\n",
       " ('jetta', 'auto'): 74,\n",
       " ('jetta', 'manual'): 232,\n",
       " ('fiesta', 'auto'): 127,\n",
       " ('fiesta', 'manual'): 4750,\n",
       " ('c_klasse', 'auto'): 3364,\n",
       " ('c_klasse', 'manual'): 4062,\n",
       " ('micra', 'auto'): 151,\n",
       " ('micra', 'manual'): 1266,\n",
       " ('vito', 'auto'): 175,\n",
       " ('vito', 'manual'): 574,\n",
       " ('sprinter', 'auto'): 59,\n",
       " ('sprinter', 'manual'): 558,\n",
       " ('156', 'auto'): 41,\n",
       " ('156', 'manual'): 498,\n",
       " ('escort', 'auto'): 16,\n",
       " ('escort', 'manual'): 672,\n",
       " ('forester', 'auto'): 27,\n",
       " ('forester', 'manual'): 89,\n",
       " ('xc_reihe', 'auto'): 191,\n",
       " ('xc_reihe', 'manual'): 66,\n",
       " ('scenic', 'auto'): 118,\n",
       " ('scenic', 'manual'): 1082,\n",
       " ('a4', 'auto'): 2200,\n",
       " ('a4', 'manual'): 6703,\n",
       " ('ka', 'auto'): 1,\n",
       " ('ka', 'manual'): 2070,\n",
       " ('a1', 'auto'): 98,\n",
       " ('a1', 'manual'): 480,\n",
       " ('insignia', 'auto'): 206,\n",
       " ('insignia', 'manual'): 404,\n",
       " ('combo', 'auto'): 2,\n",
       " ('combo', 'manual'): 348,\n",
       " ('focus', 'auto'): 182,\n",
       " ('focus', 'manual'): 5007,\n",
       " ('tt', 'auto'): 149,\n",
       " ('tt', 'manual'): 875,\n",
       " ('corsa', 'auto'): 508,\n",
       " ('corsa', 'manual'): 9790,\n",
       " ('a6', 'auto'): 2996,\n",
       " ('a6', 'manual'): 2008,\n",
       " ('jazz', 'auto'): 49,\n",
       " ('jazz', 'manual'): 229,\n",
       " ('omega', 'auto'): 413,\n",
       " ('omega', 'manual'): 765,\n",
       " ('slk', 'auto'): 577,\n",
       " ('slk', 'manual'): 558,\n",
       " ('7er', 'auto'): 833,\n",
       " ('7er', 'manual'): 64,\n",
       " ('80', 'auto'): 119,\n",
       " ('80', 'manual'): 1161,\n",
       " ('147', 'auto'): 23,\n",
       " ('147', 'manual'): 495,\n",
       " ('100', 'auto'): 54,\n",
       " ('100', 'manual'): 293,\n",
       " ('z_reihe', 'auto'): 74,\n",
       " ('z_reihe', 'manual'): 605,\n",
       " ('sportage', 'auto'): 42,\n",
       " ('sportage', 'manual'): 183,\n",
       " ('sorento', 'auto'): 182,\n",
       " ('sorento', 'manual'): 124,\n",
       " ('v40', 'auto'): 66,\n",
       " ('v40', 'manual'): 592,\n",
       " ('ibiza', 'auto'): 67,\n",
       " ('ibiza', 'manual'): 2365,\n",
       " ('mustang', 'auto'): 75,\n",
       " ('mustang', 'manual'): 35,\n",
       " ('eos', 'auto'): 69,\n",
       " ('eos', 'manual'): 428,\n",
       " ('touran', 'auto'): 757,\n",
       " ('touran', 'manual'): 2305,\n",
       " ('getz', 'auto'): 1,\n",
       " ('getz', 'manual'): 353,\n",
       " ('a3', 'auto'): 804,\n",
       " ('a3', 'manual'): 4690,\n",
       " ('almera', 'auto'): 19,\n",
       " ('almera', 'manual'): 472,\n",
       " ('megane', 'auto'): 142,\n",
       " ('megane', 'manual'): 2272,\n",
       " ('lupo', 'auto'): 127,\n",
       " ('lupo', 'manual'): 2055,\n",
       " ('r19', 'auto'): 13,\n",
       " ('r19', 'manual'): 83,\n",
       " ('zafira', 'auto'): 285,\n",
       " ('zafira', 'manual'): 2325,\n",
       " ('caddy', 'auto'): 93,\n",
       " ('caddy', 'manual'): 1281,\n",
       " ('mondeo', 'auto'): 363,\n",
       " ('mondeo', 'manual'): 2698,\n",
       " ('cordoba', 'auto'): 1,\n",
       " ('cordoba', 'manual'): 322,\n",
       " ('colt', 'auto'): 37,\n",
       " ('colt', 'manual'): 722,\n",
       " ('impreza', 'auto'): 13,\n",
       " ('impreza', 'manual'): 181,\n",
       " ('vectra', 'auto'): 662,\n",
       " ('vectra', 'manual'): 2897,\n",
       " ('berlingo', 'auto'): 13,\n",
       " ('berlingo', 'manual'): 705,\n",
       " ('tiguan', 'auto'): 160,\n",
       " ('tiguan', 'manual'): 470,\n",
       " ('i_reihe', 'auto'): 74,\n",
       " ('i_reihe', 'manual'): 1092,\n",
       " ('espace', 'auto'): 121,\n",
       " ('espace', 'manual'): 370,\n",
       " ('sharan', 'auto'): 202,\n",
       " ('sharan', 'manual'): 1017,\n",
       " ('6_reihe', 'auto'): 63,\n",
       " ('6_reihe', 'manual'): 1082,\n",
       " ('panda', 'auto'): 20,\n",
       " ('panda', 'manual'): 561,\n",
       " ('up', 'auto'): 14,\n",
       " ('up', 'manual'): 326,\n",
       " ('seicento', 'auto'): 3,\n",
       " ('seicento', 'manual'): 501,\n",
       " ('ceed', 'auto'): 7,\n",
       " ('ceed', 'manual'): 234,\n",
       " ('5_reihe', 'auto'): 42,\n",
       " ('5_reihe', 'manual'): 359,\n",
       " ('yeti', 'auto'): 31,\n",
       " ('yeti', 'manual'): 142,\n",
       " ('octavia', 'auto'): 259,\n",
       " ('octavia', 'manual'): 1688,\n",
       " ('mii', 'auto'): 2,\n",
       " ('mii', 'manual'): 78,\n",
       " ('rx_reihe', 'auto'): 1,\n",
       " ('rx_reihe', 'manual'): 125,\n",
       " ('6er', 'auto'): 91,\n",
       " ('6er', 'manual'): 34,\n",
       " ('modus', 'auto'): 22,\n",
       " ('modus', 'manual'): 255,\n",
       " ('fox', 'auto'): 0,\n",
       " ('fox', 'manual'): 655,\n",
       " ('matiz', 'auto'): 12,\n",
       " ('matiz', 'manual'): 354,\n",
       " ('beetle', 'auto'): 40,\n",
       " ('beetle', 'manual'): 720,\n",
       " ('c1', 'auto'): 25,\n",
       " ('c1', 'manual'): 326,\n",
       " ('rio', 'auto'): 13,\n",
       " ('rio', 'manual'): 307,\n",
       " ('touareg', 'auto'): 433,\n",
       " ('touareg', 'manual'): 86,\n",
       " ('logan', 'auto'): 0,\n",
       " ('logan', 'manual'): 286,\n",
       " ('spider', 'auto'): 2,\n",
       " ('spider', 'manual'): 154,\n",
       " ('cuore', 'auto'): 25,\n",
       " ('cuore', 'manual'): 263,\n",
       " ('s_max', 'auto'): 89,\n",
       " ('s_max', 'manual'): 333,\n",
       " ('a2', 'auto'): 17,\n",
       " ('a2', 'manual'): 313,\n",
       " ('galaxy', 'auto'): 155,\n",
       " ('galaxy', 'manual'): 825,\n",
       " ('c3', 'auto'): 53,\n",
       " ('c3', 'manual'): 398,\n",
       " ('viano', 'auto'): 156,\n",
       " ('viano', 'manual'): 70,\n",
       " ('s_klasse', 'auto'): 699,\n",
       " ('s_klasse', 'manual'): 5,\n",
       " ('1_reihe', 'auto'): 65,\n",
       " ('1_reihe', 'manual'): 1045,\n",
       " ('avensis', 'auto'): 48,\n",
       " ('avensis', 'manual'): 474,\n",
       " ('roomster', 'auto'): 9,\n",
       " ('roomster', 'manual'): 256,\n",
       " ('sl', 'auto'): 301,\n",
       " ('sl', 'manual'): 13,\n",
       " ('santa', 'auto'): 84,\n",
       " ('santa', 'manual'): 205,\n",
       " ('cooper', 'auto'): 143,\n",
       " ('cooper', 'manual'): 1718,\n",
       " ('leon', 'auto'): 51,\n",
       " ('leon', 'manual'): 1194,\n",
       " ('4_reihe', 'auto'): 99,\n",
       " ('4_reihe', 'manual'): 462,\n",
       " ('a5', 'auto'): 228,\n",
       " ('a5', 'manual'): 291,\n",
       " ('500', 'auto'): 42,\n",
       " ('500', 'manual'): 738,\n",
       " ('laguna', 'auto'): 164,\n",
       " ('laguna', 'manual'): 979,\n",
       " ('ptcruiser', 'auto'): 38,\n",
       " ('ptcruiser', 'manual'): 222,\n",
       " ('clk', 'auto'): 1171,\n",
       " ('clk', 'manual'): 471,\n",
       " ('primera', 'auto'): 39,\n",
       " ('primera', 'manual'): 473,\n",
       " ('x_reihe', 'auto'): 892,\n",
       " ('x_reihe', 'manual'): 557,\n",
       " ('exeo', 'auto'): 17,\n",
       " ('exeo', 'manual'): 83,\n",
       " ('159', 'auto'): 26,\n",
       " ('159', 'manual'): 175,\n",
       " ('transit', 'auto'): 9,\n",
       " ('transit', 'manual'): 618,\n",
       " ('juke', 'auto'): 15,\n",
       " ('juke', 'manual'): 81,\n",
       " ('qashqai', 'auto'): 96,\n",
       " ('qashqai', 'manual'): 404,\n",
       " ('carisma', 'auto'): 46,\n",
       " ('carisma', 'manual'): 292,\n",
       " ('accord', 'auto'): 74,\n",
       " ('accord', 'manual'): 237,\n",
       " ('corolla', 'auto'): 38,\n",
       " ('corolla', 'manual'): 554,\n",
       " ('lanos', 'auto'): 2,\n",
       " ('lanos', 'manual'): 69,\n",
       " ('phaeton', 'auto'): 189,\n",
       " ('phaeton', 'manual'): 3,\n",
       " ('verso', 'auto'): 40,\n",
       " ('verso', 'manual'): 252,\n",
       " ('swift', 'auto'): 46,\n",
       " ('swift', 'manual'): 570,\n",
       " ('rav', 'auto'): 46,\n",
       " ('rav', 'manual'): 273,\n",
       " ('picanto', 'auto'): 14,\n",
       " ('picanto', 'manual'): 319,\n",
       " ('boxster', 'auto'): 27,\n",
       " ('boxster', 'manual'): 174,\n",
       " ('kalos', 'auto'): 5,\n",
       " ('kalos', 'manual'): 74,\n",
       " ('superb', 'auto'): 147,\n",
       " ('superb', 'manual'): 205,\n",
       " ('stilo', 'auto'): 33,\n",
       " ('stilo', 'manual'): 481,\n",
       " ('alhambra', 'auto'): 15,\n",
       " ('alhambra', 'manual'): 307,\n",
       " ('roadster', 'auto'): 146,\n",
       " ('roadster', 'manual'): 7,\n",
       " ('ypsilon', 'auto'): 11,\n",
       " ('ypsilon', 'manual'): 167,\n",
       " ('galant', 'auto'): 71,\n",
       " ('galant', 'manual'): 142,\n",
       " ('justy', 'auto'): 6,\n",
       " ('justy', 'manual'): 109,\n",
       " ('90', 'auto'): 5,\n",
       " ('90', 'manual'): 76,\n",
       " ('sirion', 'auto'): 21,\n",
       " ('sirion', 'manual'): 101,\n",
       " ('crossfire', 'auto'): 40,\n",
       " ('crossfire', 'manual'): 18,\n",
       " ('agila', 'auto'): 5,\n",
       " ('agila', 'manual'): 352,\n",
       " ('duster', 'auto'): 0,\n",
       " ('duster', 'manual'): 192,\n",
       " ('cr_reihe', 'auto'): 39,\n",
       " ('cr_reihe', 'manual'): 277,\n",
       " ('v50', 'auto'): 41,\n",
       " ('v50', 'manual'): 202,\n",
       " ('mx_reihe', 'auto'): 10,\n",
       " ('mx_reihe', 'manual'): 915,\n",
       " ('c_reihe', 'auto'): 53,\n",
       " ('c_reihe', 'manual'): 133,\n",
       " ('v_klasse', 'auto'): 64,\n",
       " ('v_klasse', 'manual'): 62,\n",
       " ('m_klasse', 'auto'): 814,\n",
       " ('m_klasse', 'manual'): 53,\n",
       " ('yaris', 'auto'): 84,\n",
       " ('yaris', 'manual'): 849,\n",
       " ('c5', 'auto'): 167,\n",
       " ('c5', 'manual'): 270,\n",
       " ('aygo', 'auto'): 27,\n",
       " ('aygo', 'manual'): 357,\n",
       " ('cc', 'auto'): 56,\n",
       " ('cc', 'manual'): 71,\n",
       " ('carnival', 'auto'): 89,\n",
       " ('carnival', 'manual'): 129,\n",
       " ('fusion', 'auto'): 26,\n",
       " ('fusion', 'manual'): 247,\n",
       " ('911', 'auto'): 18,\n",
       " ('911', 'manual'): 25,\n",
       " ('bora', 'auto'): 84,\n",
       " ('bora', 'manual'): 700,\n",
       " ('forfour', 'auto'): 68,\n",
       " ('forfour', 'manual'): 263,\n",
       " ('cl', 'auto'): 157,\n",
       " ('cl', 'manual'): 41,\n",
       " ('tigra', 'auto'): 36,\n",
       " ('tigra', 'manual'): 637,\n",
       " ('300c', 'auto'): 123,\n",
       " ('300c', 'manual'): 1,\n",
       " ('spark', 'auto'): 0,\n",
       " ('spark', 'manual'): 118,\n",
       " ('v70', 'auto'): 213,\n",
       " ('v70', 'manual'): 362,\n",
       " ('kuga', 'auto'): 49,\n",
       " ('kuga', 'manual'): 257,\n",
       " ('x_type', 'auto'): 71,\n",
       " ('x_type', 'manual'): 73,\n",
       " ('ducato', 'auto'): 3,\n",
       " ('ducato', 'manual'): 328,\n",
       " ('s_type', 'auto'): 101,\n",
       " ('s_type', 'manual'): 14,\n",
       " ('x_trail', 'auto'): 18,\n",
       " ('x_trail', 'manual'): 168,\n",
       " ('toledo', 'auto'): 14,\n",
       " ('toledo', 'manual'): 267,\n",
       " ('altea', 'auto'): 43,\n",
       " ('altea', 'manual'): 300,\n",
       " ('voyager', 'auto'): 118,\n",
       " ('voyager', 'manual'): 138,\n",
       " ('calibra', 'auto'): 10,\n",
       " ('calibra', 'manual'): 155,\n",
       " ('bravo', 'auto'): 2,\n",
       " ('bravo', 'manual'): 263,\n",
       " ('antara', 'auto'): 34,\n",
       " ('antara', 'manual'): 60,\n",
       " ('tucson', 'auto'): 28,\n",
       " ('tucson', 'manual'): 186,\n",
       " ('citigo', 'auto'): 6,\n",
       " ('citigo', 'manual'): 83,\n",
       " ('jimny', 'auto'): 11,\n",
       " ('jimny', 'manual'): 179,\n",
       " ('cayenne', 'auto'): 198,\n",
       " ('cayenne', 'manual'): 23,\n",
       " ('wrangler', 'auto'): 6,\n",
       " ('wrangler', 'manual'): 81,\n",
       " ('lybra', 'auto'): 2,\n",
       " ('lybra', 'manual'): 36,\n",
       " ('q7', 'auto'): 187,\n",
       " ('q7', 'manual'): 3,\n",
       " ('lancer', 'auto'): 20,\n",
       " ('lancer', 'manual'): 162,\n",
       " ('captiva', 'auto'): 50,\n",
       " ('captiva', 'manual'): 109,\n",
       " ('c2', 'auto'): 39,\n",
       " ('c2', 'manual'): 313,\n",
       " ('discovery', 'auto'): 41,\n",
       " ('discovery', 'manual'): 29,\n",
       " ('freelander', 'auto'): 42,\n",
       " ('freelander', 'manual'): 143,\n",
       " ('sandero', 'auto'): 1,\n",
       " ('sandero', 'manual'): 279,\n",
       " ('note', 'auto'): 6,\n",
       " ('note', 'manual'): 114,\n",
       " ('900', 'auto'): 14,\n",
       " ('900', 'manual'): 84,\n",
       " ('cherokee', 'auto'): 105,\n",
       " ('cherokee', 'manual'): 35,\n",
       " ('kaefer', 'auto'): 0,\n",
       " ('kaefer', 'manual'): 109,\n",
       " ('clubman', 'auto'): 19,\n",
       " ('clubman', 'manual'): 172,\n",
       " ('defender', 'auto'): 1,\n",
       " ('defender', 'manual'): 62,\n",
       " ('601', 'auto'): 0,\n",
       " ('601', 'manual'): 170,\n",
       " ('cx_reihe', 'auto'): 5,\n",
       " ('cx_reihe', 'manual'): 53,\n",
       " ('legacy', 'auto'): 39,\n",
       " ('legacy', 'manual'): 99,\n",
       " ('pajero', 'auto'): 74,\n",
       " ('pajero', 'manual'): 112,\n",
       " ('auris', 'auto'): 53,\n",
       " ('auris', 'manual'): 165,\n",
       " ('niva', 'auto'): 0,\n",
       " ('niva', 'manual'): 105,\n",
       " ('s60', 'auto'): 52,\n",
       " ('s60', 'manual'): 90,\n",
       " ('m_reihe', 'auto'): 33,\n",
       " ('m_reihe', 'manual'): 73,\n",
       " ('nubira', 'auto'): 7,\n",
       " ('nubira', 'manual'): 46,\n",
       " ('vivaro', 'auto'): 18,\n",
       " ('vivaro', 'manual'): 255,\n",
       " ('g_klasse', 'auto'): 26,\n",
       " ('g_klasse', 'manual'): 51,\n",
       " ('lodgy', 'auto'): 0,\n",
       " ('lodgy', 'manual'): 30,\n",
       " ('range_rover', 'auto'): 60,\n",
       " ('range_rover', 'manual'): 8,\n",
       " ('850', 'auto'): 33,\n",
       " ('850', 'manual'): 144,\n",
       " ('q3', 'auto'): 1,\n",
       " ('q3', 'manual'): 12,\n",
       " ('serie_2', 'auto'): 0,\n",
       " ('serie_2', 'manual'): 3,\n",
       " ('glk', 'auto'): 57,\n",
       " ('glk', 'manual'): 3,\n",
       " ('charade', 'auto'): 3,\n",
       " ('charade', 'manual'): 18,\n",
       " ('croma', 'auto'): 15,\n",
       " ('croma', 'manual'): 25,\n",
       " ('outlander', 'auto'): 38,\n",
       " ('outlander', 'manual'): 73,\n",
       " ('doblo', 'auto'): 0,\n",
       " ('doblo', 'manual'): 286,\n",
       " ('musa', 'auto'): 7,\n",
       " ('musa', 'manual'): 14,\n",
       " ('move', 'auto'): 4,\n",
       " ('move', 'manual'): 34,\n",
       " ('9000', 'auto'): 13,\n",
       " ('9000', 'manual'): 13,\n",
       " ('v60', 'auto'): 14,\n",
       " ('v60', 'manual'): 26,\n",
       " ('aveo', 'auto'): 7,\n",
       " ('aveo', 'manual'): 97,\n",
       " ('200', 'auto'): 3,\n",
       " ('200', 'manual'): 12,\n",
       " ('145', 'auto'): 0,\n",
       " ('145', 'manual'): 36,\n",
       " ('b_max', 'auto'): 2,\n",
       " ('b_max', 'manual'): 23,\n",
       " ('range_rover_sport', 'auto'): 51,\n",
       " ('range_rover_sport', 'manual'): 1,\n",
       " ('terios', 'auto'): 5,\n",
       " ('terios', 'manual'): 26,\n",
       " ('rangerover', 'auto'): 1,\n",
       " ('rangerover', 'manual'): 2,\n",
       " ('q5', 'auto'): 64,\n",
       " ('q5', 'manual'): 30,\n",
       " ('range_rover_evoque', 'auto'): 2,\n",
       " ('range_rover_evoque', 'manual'): 0,\n",
       " ('materia', 'auto'): 1,\n",
       " ('materia', 'manual'): 16,\n",
       " ('delta', 'auto'): 2,\n",
       " ('delta', 'manual'): 27,\n",
       " ('gl', 'auto'): 12,\n",
       " ('gl', 'manual'): 0,\n",
       " ('kalina', 'auto'): 0,\n",
       " ('kalina', 'manual'): 5,\n",
       " ('elefantino', 'auto'): 0,\n",
       " ('elefantino', 'manual'): 9,\n",
       " ('i3', 'auto'): 2,\n",
       " ('i3', 'manual'): 3,\n",
       " ('samara', 'auto'): 0,\n",
       " ('samara', 'manual'): 5,\n",
       " ('amarok', 'auto'): 1,\n",
       " ('amarok', 'manual'): 11,\n",
       " ('kappa', 'auto'): 2,\n",
       " ('kappa', 'manual'): 11}"
      ]
     },
     "execution_count": 33,
     "metadata": {},
     "output_type": "execute_result"
    }
   ],
   "source": [
    "table"
   ]
  },
  {
   "cell_type": "code",
   "execution_count": 34,
   "metadata": {},
   "outputs": [
    {
     "data": {
      "text/plain": [
       "{'golf': 'manual',\n",
       " 'grand': 'auto',\n",
       " 'fabia': 'manual',\n",
       " '3er': 'manual',\n",
       " '2_reihe': 'manual',\n",
       " 'c_max': 'manual',\n",
       " '3_reihe': 'manual',\n",
       " 'passat': 'manual',\n",
       " 'navara': 'manual',\n",
       " 'polo': 'manual',\n",
       " 'twingo': 'manual',\n",
       " 'a_klasse': 'manual',\n",
       " 'scirocco': 'manual',\n",
       " '5er': 'auto',\n",
       " 'meriva': 'manual',\n",
       " 'arosa': 'manual',\n",
       " 'other': 'manual',\n",
       " 'c4': 'manual',\n",
       " 'civic': 'manual',\n",
       " 'transporter': 'manual',\n",
       " 'punto': 'manual',\n",
       " 'e_klasse': 'auto',\n",
       " 'clio': 'manual',\n",
       " 'kadett': 'manual',\n",
       " 'kangoo': 'manual',\n",
       " 'one': 'manual',\n",
       " 'fortwo': 'auto',\n",
       " '1er': 'manual',\n",
       " 'b_klasse': 'manual',\n",
       " 'signum': 'manual',\n",
       " 'astra': 'manual',\n",
       " 'a8': 'auto',\n",
       " 'jetta': 'manual',\n",
       " 'fiesta': 'manual',\n",
       " 'c_klasse': 'manual',\n",
       " 'micra': 'manual',\n",
       " 'vito': 'manual',\n",
       " 'sprinter': 'manual',\n",
       " '156': 'manual',\n",
       " 'escort': 'manual',\n",
       " 'forester': 'manual',\n",
       " 'xc_reihe': 'auto',\n",
       " 'scenic': 'manual',\n",
       " 'a4': 'manual',\n",
       " 'ka': 'manual',\n",
       " 'a1': 'manual',\n",
       " 'insignia': 'manual',\n",
       " 'combo': 'manual',\n",
       " 'focus': 'manual',\n",
       " 'tt': 'manual',\n",
       " 'corsa': 'manual',\n",
       " 'a6': 'auto',\n",
       " 'jazz': 'manual',\n",
       " 'omega': 'manual',\n",
       " 'slk': 'auto',\n",
       " '7er': 'auto',\n",
       " '80': 'manual',\n",
       " '147': 'manual',\n",
       " '100': 'manual',\n",
       " 'z_reihe': 'manual',\n",
       " 'sportage': 'manual',\n",
       " 'sorento': 'auto',\n",
       " 'v40': 'manual',\n",
       " 'ibiza': 'manual',\n",
       " 'mustang': 'auto',\n",
       " 'eos': 'manual',\n",
       " 'touran': 'manual',\n",
       " 'getz': 'manual',\n",
       " 'a3': 'manual',\n",
       " 'almera': 'manual',\n",
       " 'megane': 'manual',\n",
       " 'lupo': 'manual',\n",
       " 'r19': 'manual',\n",
       " 'zafira': 'manual',\n",
       " 'caddy': 'manual',\n",
       " 'mondeo': 'manual',\n",
       " 'cordoba': 'manual',\n",
       " 'colt': 'manual',\n",
       " 'impreza': 'manual',\n",
       " 'vectra': 'manual',\n",
       " 'berlingo': 'manual',\n",
       " 'tiguan': 'manual',\n",
       " 'i_reihe': 'manual',\n",
       " 'espace': 'manual',\n",
       " 'sharan': 'manual',\n",
       " '6_reihe': 'manual',\n",
       " 'panda': 'manual',\n",
       " 'up': 'manual',\n",
       " 'seicento': 'manual',\n",
       " 'ceed': 'manual',\n",
       " '5_reihe': 'manual',\n",
       " 'yeti': 'manual',\n",
       " 'octavia': 'manual',\n",
       " 'mii': 'manual',\n",
       " 'rx_reihe': 'manual',\n",
       " '6er': 'auto',\n",
       " 'modus': 'manual',\n",
       " 'fox': 'manual',\n",
       " 'matiz': 'manual',\n",
       " 'beetle': 'manual',\n",
       " 'c1': 'manual',\n",
       " 'rio': 'manual',\n",
       " 'touareg': 'auto',\n",
       " 'logan': 'manual',\n",
       " 'spider': 'manual',\n",
       " 'cuore': 'manual',\n",
       " 's_max': 'manual',\n",
       " 'a2': 'manual',\n",
       " 'galaxy': 'manual',\n",
       " 'c3': 'manual',\n",
       " 'viano': 'auto',\n",
       " 's_klasse': 'auto',\n",
       " '1_reihe': 'manual',\n",
       " 'avensis': 'manual',\n",
       " 'roomster': 'manual',\n",
       " 'sl': 'auto',\n",
       " 'santa': 'manual',\n",
       " 'cooper': 'manual',\n",
       " 'leon': 'manual',\n",
       " '4_reihe': 'manual',\n",
       " 'a5': 'manual',\n",
       " '500': 'manual',\n",
       " 'laguna': 'manual',\n",
       " 'ptcruiser': 'manual',\n",
       " 'clk': 'auto',\n",
       " 'primera': 'manual',\n",
       " 'x_reihe': 'auto',\n",
       " 'exeo': 'manual',\n",
       " '159': 'manual',\n",
       " 'transit': 'manual',\n",
       " 'juke': 'manual',\n",
       " 'qashqai': 'manual',\n",
       " 'carisma': 'manual',\n",
       " 'accord': 'manual',\n",
       " 'corolla': 'manual',\n",
       " 'lanos': 'manual',\n",
       " 'phaeton': 'auto',\n",
       " 'verso': 'manual',\n",
       " 'swift': 'manual',\n",
       " 'rav': 'manual',\n",
       " 'picanto': 'manual',\n",
       " 'boxster': 'manual',\n",
       " 'kalos': 'manual',\n",
       " 'superb': 'manual',\n",
       " 'stilo': 'manual',\n",
       " 'alhambra': 'manual',\n",
       " 'roadster': 'auto',\n",
       " 'ypsilon': 'manual',\n",
       " 'galant': 'manual',\n",
       " 'justy': 'manual',\n",
       " '90': 'manual',\n",
       " 'sirion': 'manual',\n",
       " 'crossfire': 'auto',\n",
       " 'agila': 'manual',\n",
       " 'duster': 'manual',\n",
       " 'cr_reihe': 'manual',\n",
       " 'v50': 'manual',\n",
       " 'mx_reihe': 'manual',\n",
       " 'c_reihe': 'manual',\n",
       " 'v_klasse': 'auto',\n",
       " 'm_klasse': 'auto',\n",
       " 'yaris': 'manual',\n",
       " 'c5': 'manual',\n",
       " 'aygo': 'manual',\n",
       " 'cc': 'manual',\n",
       " 'carnival': 'manual',\n",
       " 'fusion': 'manual',\n",
       " '911': 'manual',\n",
       " 'bora': 'manual',\n",
       " 'forfour': 'manual',\n",
       " 'cl': 'auto',\n",
       " 'tigra': 'manual',\n",
       " '300c': 'auto',\n",
       " 'spark': 'manual',\n",
       " 'v70': 'manual',\n",
       " 'kuga': 'manual',\n",
       " 'x_type': 'manual',\n",
       " 'ducato': 'manual',\n",
       " 's_type': 'auto',\n",
       " 'x_trail': 'manual',\n",
       " 'toledo': 'manual',\n",
       " 'altea': 'manual',\n",
       " 'voyager': 'manual',\n",
       " 'calibra': 'manual',\n",
       " 'bravo': 'manual',\n",
       " 'antara': 'manual',\n",
       " 'tucson': 'manual',\n",
       " 'citigo': 'manual',\n",
       " 'jimny': 'manual',\n",
       " 'cayenne': 'auto',\n",
       " 'wrangler': 'manual',\n",
       " 'lybra': 'manual',\n",
       " 'q7': 'auto',\n",
       " 'lancer': 'manual',\n",
       " 'captiva': 'manual',\n",
       " 'c2': 'manual',\n",
       " 'discovery': 'auto',\n",
       " 'freelander': 'manual',\n",
       " 'sandero': 'manual',\n",
       " 'note': 'manual',\n",
       " '900': 'manual',\n",
       " 'cherokee': 'auto',\n",
       " 'kaefer': 'manual',\n",
       " 'clubman': 'manual',\n",
       " 'defender': 'manual',\n",
       " '601': 'manual',\n",
       " 'cx_reihe': 'manual',\n",
       " 'legacy': 'manual',\n",
       " 'pajero': 'manual',\n",
       " 'auris': 'manual',\n",
       " 'niva': 'manual',\n",
       " 's60': 'manual',\n",
       " 'm_reihe': 'manual',\n",
       " 'nubira': 'manual',\n",
       " 'vivaro': 'manual',\n",
       " 'g_klasse': 'manual',\n",
       " 'lodgy': 'manual',\n",
       " 'range_rover': 'auto',\n",
       " '850': 'manual',\n",
       " 'q3': 'manual',\n",
       " 'serie_2': 'manual',\n",
       " 'glk': 'auto',\n",
       " 'charade': 'manual',\n",
       " 'croma': 'manual',\n",
       " 'outlander': 'manual',\n",
       " 'doblo': 'manual',\n",
       " 'musa': 'manual',\n",
       " 'move': 'manual',\n",
       " '9000': 'manual',\n",
       " 'v60': 'manual',\n",
       " 'aveo': 'manual',\n",
       " '200': 'manual',\n",
       " '145': 'manual',\n",
       " 'b_max': 'manual',\n",
       " 'range_rover_sport': 'auto',\n",
       " 'terios': 'manual',\n",
       " 'rangerover': 'manual',\n",
       " 'q5': 'auto',\n",
       " 'range_rover_evoque': 'auto',\n",
       " 'materia': 'manual',\n",
       " 'delta': 'manual',\n",
       " 'gl': 'auto',\n",
       " 'kalina': 'manual',\n",
       " 'elefantino': 'manual',\n",
       " 'i3': 'manual',\n",
       " 'samara': 'manual',\n",
       " 'amarok': 'manual',\n",
       " 'kappa': 'manual'}"
      ]
     },
     "execution_count": 34,
     "metadata": {},
     "output_type": "execute_result"
    }
   ],
   "source": [
    "most_common"
   ]
  },
  {
   "cell_type": "code",
   "execution_count": 35,
   "metadata": {},
   "outputs": [],
   "source": [
    "def gearbox_filler(data):\n",
    "    for model in data['Model'].unique():\n",
    "        df.loc[df['Model']==model,'Gearbox'] = df.loc[df['Model']==model,'Gearbox'].fillna(value=most_common[model])"
   ]
  },
  {
   "cell_type": "code",
   "execution_count": 36,
   "metadata": {},
   "outputs": [],
   "source": [
    "gearbox_filler(df)"
   ]
  },
  {
   "cell_type": "code",
   "execution_count": 37,
   "metadata": {},
   "outputs": [
    {
     "data": {
      "text/plain": [
       "Price               0.000000\n",
       "VehicleType         0.064980\n",
       "RegistrationYear    0.000000\n",
       "Gearbox             0.000000\n",
       "Power               0.000000\n",
       "Model               0.000000\n",
       "Kilometer           0.000000\n",
       "FuelType            0.056776\n",
       "Brand               0.000000\n",
       "Repaired            0.147796\n",
       "dtype: float64"
      ]
     },
     "execution_count": 37,
     "metadata": {},
     "output_type": "execute_result"
    }
   ],
   "source": [
    "df.isna().sum()/df.isna().count()"
   ]
  },
  {
   "cell_type": "markdown",
   "metadata": {},
   "source": [
    "Пропуски в колонке Repaired будем считать за отсутствие ремонта."
   ]
  },
  {
   "cell_type": "code",
   "execution_count": 38,
   "metadata": {},
   "outputs": [],
   "source": [
    "df['Repaired'] = df['Repaired'].fillna(value='no')"
   ]
  },
  {
   "cell_type": "code",
   "execution_count": 39,
   "metadata": {},
   "outputs": [],
   "source": [
    "df.loc[df['Repaired']=='yes','Repaired'] = 1\n",
    "df.loc[df['Repaired']=='no','Repaired'] = 0"
   ]
  },
  {
   "cell_type": "code",
   "execution_count": 40,
   "metadata": {},
   "outputs": [
    {
     "data": {
      "text/plain": [
       "array([0, 1], dtype=object)"
      ]
     },
     "execution_count": 40,
     "metadata": {},
     "output_type": "execute_result"
    }
   ],
   "source": [
    "df['Repaired'].unique()"
   ]
  },
  {
   "cell_type": "code",
   "execution_count": 41,
   "metadata": {},
   "outputs": [
    {
     "data": {
      "text/plain": [
       "Price               0.000000\n",
       "VehicleType         0.064980\n",
       "RegistrationYear    0.000000\n",
       "Gearbox             0.000000\n",
       "Power               0.000000\n",
       "Model               0.000000\n",
       "Kilometer           0.000000\n",
       "FuelType            0.056776\n",
       "Brand               0.000000\n",
       "Repaired            0.000000\n",
       "dtype: float64"
      ]
     },
     "execution_count": 41,
     "metadata": {},
     "output_type": "execute_result"
    }
   ],
   "source": [
    "df.isna().sum()/df.isna().count()"
   ]
  },
  {
   "cell_type": "code",
   "execution_count": 42,
   "metadata": {
    "scrolled": true
   },
   "outputs": [
    {
     "data": {
      "text/plain": [
       "array([    1,     2,     3,     4,     5,     6,     7,     8,     9,\n",
       "          10,    11,    12,    13,    14,    15,    16,    17,    18,\n",
       "          19,    20,    21,    22,    23,    24,    25,    26,    27,\n",
       "          28,    29,    30,    31,    32,    33,    34,    35,    36,\n",
       "          37,    38,    39,    40,    41,    42,    43,    44,    45,\n",
       "          46,    47,    48,    49,    50,    51,    52,    53,    54,\n",
       "          55,    56,    57,    58,    59,    60,    61,    62,    63,\n",
       "          64,    65,    66,    67,    68,    69,    70,    71,    72,\n",
       "          73,    74,    75,    76,    77,    78,    79,    80,    81,\n",
       "          82,    83,    84,    85,    86,    87,    88,    89,    90,\n",
       "          91,    92,    93,    94,    95,    96,    97,    98,    99,\n",
       "         100,   101,   102,   103,   104,   105,   106,   107,   108,\n",
       "         109,   110,   111,   112,   113,   114,   115,   116,   117,\n",
       "         118,   119,   120,   121,   122,   123,   124,   125,   126,\n",
       "         127,   128,   129,   130,   131,   132,   133,   134,   135,\n",
       "         136,   137,   138,   139,   140,   141,   142,   143,   144,\n",
       "         145,   146,   147,   148,   149,   150,   151,   152,   153,\n",
       "         154,   155,   156,   157,   158,   159,   160,   161,   162,\n",
       "         163,   164,   165,   166,   167,   168,   169,   170,   171,\n",
       "         172,   173,   174,   175,   176,   177,   178,   179,   180,\n",
       "         181,   182,   183,   184,   185,   186,   187,   188,   189,\n",
       "         190,   191,   192,   193,   194,   195,   196,   197,   198,\n",
       "         199,   200,   201,   202,   203,   204,   205,   206,   207,\n",
       "         208,   209,   210,   211,   212,   213,   214,   215,   216,\n",
       "         217,   218,   219,   220,   221,   222,   223,   224,   225,\n",
       "         226,   227,   228,   229,   230,   231,   232,   233,   234,\n",
       "         235,   236,   237,   238,   239,   240,   241,   242,   243,\n",
       "         244,   245,   246,   247,   248,   249,   250,   251,   252,\n",
       "         253,   254,   255,   256,   257,   258,   259,   260,   261,\n",
       "         262,   264,   265,   266,   267,   268,   269,   270,   271,\n",
       "         272,   273,   274,   275,   276,   277,   278,   279,   280,\n",
       "         281,   282,   283,   284,   285,   286,   287,   288,   289,\n",
       "         290,   292,   293,   294,   295,   296,   298,   299,   300,\n",
       "         301,   303,   304,   305,   306,   307,   308,   309,   310,\n",
       "         311,   313,   314,   315,   316,   317,   318,   320,   321,\n",
       "         322,   323,   324,   325,   326,   327,   328,   329,   330,\n",
       "         332,   333,   334,   335,   336,   337,   338,   339,   340,\n",
       "         341,   343,   344,   345,   346,   347,   348,   349,   350,\n",
       "         352,   353,   354,   355,   356,   357,   358,   360,   361,\n",
       "         362,   363,   364,   365,   367,   368,   370,   371,   374,\n",
       "         376,   377,   379,   380,   381,   382,   385,   386,   387,\n",
       "         388,   390,   392,   394,   396,   398,   399,   400,   401,\n",
       "         405,   408,   409,   411,   416,   420,   421,   426,   428,\n",
       "         430,   431,   435,   440,   445,   449,   450,   454,   457,\n",
       "         459,   460,   475,   476,   487,   489,   490,   500,   504,\n",
       "         505,   507,   508,   510,   514,   515,   517,   519,   520,\n",
       "         521,   525,   540,   541,   544,   550,   551,   560,   572,\n",
       "         579,   580,   584,   585,   600,   601,   603,   604,   606,\n",
       "         607,   612,   620,   640,   645,   650,   651,   671,   685,\n",
       "         700,   702,   703,   743,   750,   754,   776,   800,   805,\n",
       "         850,   871,   900,   901,   902,   903,   907,   909,   923,\n",
       "         950,   998,   999,  1000,  1001,  1003,  1004,  1005,  1011,\n",
       "        1012,  1016,  1017,  1021,  1024,  1054,  1055,  1062,  1079,\n",
       "        1082,  1090,  1100,  1103,  1105,  1115,  1149,  1151,  1158,\n",
       "        1160,  1162,  1164,  1199,  1202,  1221,  1223,  1230,  1239,\n",
       "        1241,  1250,  1252,  1275,  1288,  1299,  1300,  1312,  1339,\n",
       "        1360,  1362,  1363,  1367,  1390,  1394,  1398,  1399,  1400,\n",
       "        1403,  1405,  1416,  1432,  1433,  1436,  1500,  1501,  1502,\n",
       "        1503,  1506,  1521,  1548,  1595,  1597,  1598,  1600,  1625,\n",
       "        1631,  1653,  1689,  1700,  1701,  1703,  1707,  1753,  1771,\n",
       "        1779,  1780,  1781,  1783,  1793,  1796,  1799,  1800,  1870,\n",
       "        1895,  1896,  1900,  1920,  1933,  1937,  1968,  1986,  1988,\n",
       "        1992,  1995,  1998,  2000,  2005,  2007,  2009,  2016,  2017,\n",
       "        2018,  2172,  2331,  2402,  2461,  2598,  2789,  2792,  2799,\n",
       "        3199,  3454,  3500,  3750,  4400,  4507,  4700,  5411,  5420,\n",
       "        5575,  5809,  5815,  5867,  6006,  6010,  6011,  6012,  6018,\n",
       "        6045,  6062,  6226,  6512,  6920,  7508,  7511,  7512,  7518,\n",
       "        7529,  7544,  8259,  8404,  8500,  9000,  9007,  9011,  9012,\n",
       "        9013, 10110, 10218, 10311, 10522, 10710, 11011, 11025, 11111,\n",
       "       11509, 11530, 11635, 12012, 12510, 12512, 13616, 13636, 15001,\n",
       "       15017, 15020, 15033, 16011, 16311, 16312, 17011, 17019, 17410,\n",
       "       17700, 17932, 19208, 19211, 19312, 20000], dtype=int64)"
      ]
     },
     "execution_count": 42,
     "metadata": {},
     "output_type": "execute_result"
    }
   ],
   "source": [
    "df['Power'].sort_values().unique()"
   ]
  },
  {
   "cell_type": "code",
   "execution_count": 43,
   "metadata": {},
   "outputs": [
    {
     "name": "stdout",
     "output_type": "stream",
     "text": [
      "Доля автомобилей с мощностью менее 20 л.с.: 0.0003698212304529123\n",
      "Доля автомобилей с мощностью более 1000 л.с: 0.0008074995674109461\n"
     ]
    }
   ],
   "source": [
    "print('Доля автомобилей с мощностью менее 20 л.с.:',df[df['Power']<20].shape[0]/df.shape[0])\n",
    "print('Доля автомобилей с мощностью более 1000 л.с:',df[df['Power']>1000].shape[0]/df.shape[0])"
   ]
  },
  {
   "cell_type": "code",
   "execution_count": 44,
   "metadata": {},
   "outputs": [],
   "source": [
    "df = df[(df['Power']>20)&(df['Power']<1000)]"
   ]
  },
  {
   "cell_type": "code",
   "execution_count": 45,
   "metadata": {},
   "outputs": [],
   "source": [
    "df.reset_index(inplace=True,drop=True)"
   ]
  },
  {
   "cell_type": "code",
   "execution_count": 46,
   "metadata": {},
   "outputs": [
    {
     "data": {
      "text/html": [
       "<div>\n",
       "<style scoped>\n",
       "    .dataframe tbody tr th:only-of-type {\n",
       "        vertical-align: middle;\n",
       "    }\n",
       "\n",
       "    .dataframe tbody tr th {\n",
       "        vertical-align: top;\n",
       "    }\n",
       "\n",
       "    .dataframe thead th {\n",
       "        text-align: right;\n",
       "    }\n",
       "</style>\n",
       "<table border=\"1\" class=\"dataframe\">\n",
       "  <thead>\n",
       "    <tr style=\"text-align: right;\">\n",
       "      <th></th>\n",
       "      <th>Price</th>\n",
       "      <th>VehicleType</th>\n",
       "      <th>RegistrationYear</th>\n",
       "      <th>Gearbox</th>\n",
       "      <th>Power</th>\n",
       "      <th>Model</th>\n",
       "      <th>Kilometer</th>\n",
       "      <th>FuelType</th>\n",
       "      <th>Brand</th>\n",
       "      <th>Repaired</th>\n",
       "    </tr>\n",
       "  </thead>\n",
       "  <tbody>\n",
       "    <tr>\n",
       "      <th>0</th>\n",
       "      <td>480</td>\n",
       "      <td>NaN</td>\n",
       "      <td>1993</td>\n",
       "      <td>manual</td>\n",
       "      <td>90</td>\n",
       "      <td>golf</td>\n",
       "      <td>150000</td>\n",
       "      <td>petrol</td>\n",
       "      <td>volkswagen</td>\n",
       "      <td>0</td>\n",
       "    </tr>\n",
       "    <tr>\n",
       "      <th>1</th>\n",
       "      <td>9800</td>\n",
       "      <td>suv</td>\n",
       "      <td>2004</td>\n",
       "      <td>auto</td>\n",
       "      <td>163</td>\n",
       "      <td>grand</td>\n",
       "      <td>125000</td>\n",
       "      <td>gasoline</td>\n",
       "      <td>jeep</td>\n",
       "      <td>0</td>\n",
       "    </tr>\n",
       "    <tr>\n",
       "      <th>2</th>\n",
       "      <td>1500</td>\n",
       "      <td>small</td>\n",
       "      <td>2001</td>\n",
       "      <td>manual</td>\n",
       "      <td>75</td>\n",
       "      <td>golf</td>\n",
       "      <td>150000</td>\n",
       "      <td>petrol</td>\n",
       "      <td>volkswagen</td>\n",
       "      <td>0</td>\n",
       "    </tr>\n",
       "    <tr>\n",
       "      <th>3</th>\n",
       "      <td>3600</td>\n",
       "      <td>small</td>\n",
       "      <td>2008</td>\n",
       "      <td>manual</td>\n",
       "      <td>69</td>\n",
       "      <td>fabia</td>\n",
       "      <td>90000</td>\n",
       "      <td>gasoline</td>\n",
       "      <td>skoda</td>\n",
       "      <td>0</td>\n",
       "    </tr>\n",
       "    <tr>\n",
       "      <th>4</th>\n",
       "      <td>650</td>\n",
       "      <td>sedan</td>\n",
       "      <td>1995</td>\n",
       "      <td>manual</td>\n",
       "      <td>102</td>\n",
       "      <td>3er</td>\n",
       "      <td>150000</td>\n",
       "      <td>petrol</td>\n",
       "      <td>bmw</td>\n",
       "      <td>1</td>\n",
       "    </tr>\n",
       "    <tr>\n",
       "      <th>...</th>\n",
       "      <td>...</td>\n",
       "      <td>...</td>\n",
       "      <td>...</td>\n",
       "      <td>...</td>\n",
       "      <td>...</td>\n",
       "      <td>...</td>\n",
       "      <td>...</td>\n",
       "      <td>...</td>\n",
       "      <td>...</td>\n",
       "      <td>...</td>\n",
       "    </tr>\n",
       "    <tr>\n",
       "      <th>294378</th>\n",
       "      <td>5250</td>\n",
       "      <td>NaN</td>\n",
       "      <td>2016</td>\n",
       "      <td>auto</td>\n",
       "      <td>150</td>\n",
       "      <td>159</td>\n",
       "      <td>150000</td>\n",
       "      <td>NaN</td>\n",
       "      <td>alfa_romeo</td>\n",
       "      <td>0</td>\n",
       "    </tr>\n",
       "    <tr>\n",
       "      <th>294379</th>\n",
       "      <td>3200</td>\n",
       "      <td>sedan</td>\n",
       "      <td>2004</td>\n",
       "      <td>manual</td>\n",
       "      <td>225</td>\n",
       "      <td>leon</td>\n",
       "      <td>150000</td>\n",
       "      <td>petrol</td>\n",
       "      <td>seat</td>\n",
       "      <td>1</td>\n",
       "    </tr>\n",
       "    <tr>\n",
       "      <th>294380</th>\n",
       "      <td>1199</td>\n",
       "      <td>convertible</td>\n",
       "      <td>2000</td>\n",
       "      <td>auto</td>\n",
       "      <td>101</td>\n",
       "      <td>fortwo</td>\n",
       "      <td>125000</td>\n",
       "      <td>petrol</td>\n",
       "      <td>smart</td>\n",
       "      <td>0</td>\n",
       "    </tr>\n",
       "    <tr>\n",
       "      <th>294381</th>\n",
       "      <td>9200</td>\n",
       "      <td>bus</td>\n",
       "      <td>1996</td>\n",
       "      <td>manual</td>\n",
       "      <td>102</td>\n",
       "      <td>transporter</td>\n",
       "      <td>150000</td>\n",
       "      <td>gasoline</td>\n",
       "      <td>volkswagen</td>\n",
       "      <td>0</td>\n",
       "    </tr>\n",
       "    <tr>\n",
       "      <th>294382</th>\n",
       "      <td>3400</td>\n",
       "      <td>wagon</td>\n",
       "      <td>2002</td>\n",
       "      <td>manual</td>\n",
       "      <td>100</td>\n",
       "      <td>golf</td>\n",
       "      <td>150000</td>\n",
       "      <td>gasoline</td>\n",
       "      <td>volkswagen</td>\n",
       "      <td>0</td>\n",
       "    </tr>\n",
       "  </tbody>\n",
       "</table>\n",
       "<p>294383 rows × 10 columns</p>\n",
       "</div>"
      ],
      "text/plain": [
       "        Price  VehicleType  RegistrationYear Gearbox  Power        Model  \\\n",
       "0         480          NaN              1993  manual     90         golf   \n",
       "1        9800          suv              2004    auto    163        grand   \n",
       "2        1500        small              2001  manual     75         golf   \n",
       "3        3600        small              2008  manual     69        fabia   \n",
       "4         650        sedan              1995  manual    102          3er   \n",
       "...       ...          ...               ...     ...    ...          ...   \n",
       "294378   5250          NaN              2016    auto    150          159   \n",
       "294379   3200        sedan              2004  manual    225         leon   \n",
       "294380   1199  convertible              2000    auto    101       fortwo   \n",
       "294381   9200          bus              1996  manual    102  transporter   \n",
       "294382   3400        wagon              2002  manual    100         golf   \n",
       "\n",
       "        Kilometer  FuelType       Brand Repaired  \n",
       "0          150000    petrol  volkswagen        0  \n",
       "1          125000  gasoline        jeep        0  \n",
       "2          150000    petrol  volkswagen        0  \n",
       "3           90000  gasoline       skoda        0  \n",
       "4          150000    petrol         bmw        1  \n",
       "...           ...       ...         ...      ...  \n",
       "294378     150000       NaN  alfa_romeo        0  \n",
       "294379     150000    petrol        seat        1  \n",
       "294380     125000    petrol       smart        0  \n",
       "294381     150000  gasoline  volkswagen        0  \n",
       "294382     150000  gasoline  volkswagen        0  \n",
       "\n",
       "[294383 rows x 10 columns]"
      ]
     },
     "execution_count": 46,
     "metadata": {},
     "output_type": "execute_result"
    }
   ],
   "source": [
    "df"
   ]
  },
  {
   "cell_type": "code",
   "execution_count": 47,
   "metadata": {},
   "outputs": [
    {
     "data": {
      "text/plain": [
       "Price               0.000000\n",
       "VehicleType         0.064905\n",
       "RegistrationYear    0.000000\n",
       "Gearbox             0.000000\n",
       "Power               0.000000\n",
       "Model               0.000000\n",
       "Kilometer           0.000000\n",
       "FuelType            0.056644\n",
       "Brand               0.000000\n",
       "Repaired            0.000000\n",
       "dtype: float64"
      ]
     },
     "execution_count": 47,
     "metadata": {},
     "output_type": "execute_result"
    }
   ],
   "source": [
    "df.isna().sum()/df.isna().count()"
   ]
  },
  {
   "cell_type": "code",
   "execution_count": 48,
   "metadata": {},
   "outputs": [],
   "source": [
    "fuel={}\n",
    "for model in models:\n",
    "    for power in df.loc[df['Model']==model,'Power'].unique():\n",
    "        data = df.loc[(df['Power']==power)&(df['Model']==model)]\n",
    "        fuel_n=[]\n",
    "        fuel_t=[]\n",
    "        best_score=0\n",
    "        for f_type in data['FuelType'].unique():\n",
    "            fuel_n = data[data['FuelType']==f_type].shape[0]\n",
    "            fuel_t = f_type\n",
    "            if best_score < fuel_n:\n",
    "                best_score = fuel_n\n",
    "                best_fuel = fuel_t            \n",
    "        fuel[model,power] = best_fuel"
   ]
  },
  {
   "cell_type": "code",
   "execution_count": 49,
   "metadata": {},
   "outputs": [
    {
     "data": {
      "text/plain": [
       "{('golf', 90): 'petrol',\n",
       " ('golf', 75): 'petrol',\n",
       " ('golf', 101): 'petrol',\n",
       " ('golf', 80): 'petrol',\n",
       " ('golf', 105): 'gasoline',\n",
       " ('golf', 265): 'petrol',\n",
       " ('golf', 54): 'petrol',\n",
       " ('golf', 69): 'petrol',\n",
       " ('golf', 98): 'petrol',\n",
       " ('golf', 170): 'gasoline',\n",
       " ('golf', 211): 'petrol',\n",
       " ('golf', 66): 'petrol',\n",
       " ('golf', 140): 'gasoline',\n",
       " ('golf', 86): 'petrol',\n",
       " ('golf', 55): 'petrol',\n",
       " ('golf', 150): 'petrol',\n",
       " ('golf', 111): 'petrol',\n",
       " ('golf', 60): 'petrol',\n",
       " ('golf', 179): 'petrol',\n",
       " ('golf', 116): 'petrol',\n",
       " ('golf', 139): 'petrol',\n",
       " ('golf', 125): 'petrol',\n",
       " ('golf', 104): 'petrol',\n",
       " ('golf', 110): 'gasoline',\n",
       " ('golf', 102): 'petrol',\n",
       " ('golf', 100): 'petrol',\n",
       " ('golf', 115): 'petrol',\n",
       " ('golf', 70): 'petrol',\n",
       " ('golf', 200): 'petrol',\n",
       " ('golf', 230): 'petrol',\n",
       " ('golf', 246): 'petrol',\n",
       " ('golf', 96): 'petrol',\n",
       " ('golf', 174): 'petrol',\n",
       " ('golf', 122): 'petrol',\n",
       " ('golf', 176): 'petrol',\n",
       " ('golf', 72): 'petrol',\n",
       " ('golf', 120): 'petrol',\n",
       " ('golf', 205): 'petrol',\n",
       " ('golf', 131): 'gasoline',\n",
       " ('golf', 160): 'petrol',\n",
       " ('golf', 74): 'petrol',\n",
       " ('golf', 606): 'petrol',\n",
       " ('golf', 266): 'petrol',\n",
       " ('golf', 250): 'petrol',\n",
       " ('golf', 64): 'gasoline',\n",
       " ('golf', 272): 'petrol',\n",
       " ('golf', 252): 'petrol',\n",
       " ('golf', 190): 'petrol',\n",
       " ('golf', 204): 'petrol',\n",
       " ('golf', 107): 'petrol',\n",
       " ('golf', 224): 'petrol',\n",
       " ('golf', 65): 'petrol',\n",
       " ('golf', 185): 'gasoline',\n",
       " ('golf', 143): 'gasoline',\n",
       " ('golf', 141): 'gasoline',\n",
       " ('golf', 411): 'petrol',\n",
       " ('golf', 270): 'petrol',\n",
       " ('golf', 68): 'gasoline',\n",
       " ('golf', 260): 'petrol',\n",
       " ('golf', 210): 'petrol',\n",
       " ('golf', 280): 'petrol',\n",
       " ('golf', 95): 'petrol',\n",
       " ('golf', 50): 'petrol',\n",
       " ('golf', 112): 'petrol',\n",
       " ('golf', 83): 'petrol',\n",
       " ('golf', 79): 'petrol',\n",
       " ('golf', 180): 'petrol',\n",
       " ('golf', 178): 'petrol',\n",
       " ('golf', 300): 'petrol',\n",
       " ('golf', 147): 'gasoline',\n",
       " ('golf', 82): 'petrol',\n",
       " ('golf', 271): 'petrol',\n",
       " ('golf', 152): 'petrol',\n",
       " ('golf', 85): 'petrol',\n",
       " ('golf', 241): 'petrol',\n",
       " ('golf', 77): 'gasoline',\n",
       " ('golf', 206): 'petrol',\n",
       " ('golf', 71): 'petrol',\n",
       " ('golf', 400): 'petrol',\n",
       " ('golf', 500): 'petrol',\n",
       " ('golf', 129): 'petrol',\n",
       " ('golf', 53): 'petrol',\n",
       " ('golf', 135): 'gasoline',\n",
       " ('golf', 235): 'petrol',\n",
       " ('golf', 130): 'gasoline',\n",
       " ('golf', 67): 'gasoline',\n",
       " ('golf', 76): 'petrol',\n",
       " ('golf', 73): 'petrol',\n",
       " ('golf', 340): 'petrol',\n",
       " ('golf', 184): 'gasoline',\n",
       " ('golf', 256): 'petrol',\n",
       " ('golf', 245): 'petrol',\n",
       " ('golf', 117): 'petrol',\n",
       " ('golf', 88): 'petrol',\n",
       " ('golf', 257): 'petrol',\n",
       " ('golf', 108): 'petrol',\n",
       " ('golf', 103): 'petrol',\n",
       " ('golf', 106): 'petrol',\n",
       " ('golf', 166): 'petrol',\n",
       " ('golf', 99): 'petrol',\n",
       " ('golf', 97): 'petrol',\n",
       " ('golf', 281): 'petrol',\n",
       " ('golf', 330): 'petrol',\n",
       " ('golf', 320): 'petrol',\n",
       " ('golf', 169): 'petrol',\n",
       " ('golf', 310): 'petrol',\n",
       " ('golf', 226): 'petrol',\n",
       " ('golf', 118): 'petrol',\n",
       " ('golf', 137): 'petrol',\n",
       " ('golf', 341): 'petrol',\n",
       " ('golf', 173): 'petrol',\n",
       " ('golf', 315): 'petrol',\n",
       " ('golf', 161): 'petrol',\n",
       " ('golf', 258): 'petrol',\n",
       " ('golf', 215): 'petrol',\n",
       " ('golf', 450): 'petrol',\n",
       " ('golf', 45): 'petrol',\n",
       " ('golf', 52): 'petrol',\n",
       " ('golf', 489): 'petrol',\n",
       " ('golf', 109): 'gasoline',\n",
       " ('golf', 237): 'petrol',\n",
       " ('golf', 490): 'petrol',\n",
       " ('golf', 220): 'petrol',\n",
       " ('golf', 44): 'petrol',\n",
       " ('golf', 390): 'petrol',\n",
       " ('golf', 550): 'petrol',\n",
       " ('golf', 132): 'gasoline',\n",
       " ('golf', 156): 'gasoline',\n",
       " ('golf', 379): 'petrol',\n",
       " ('golf', 158): 'petrol',\n",
       " ('golf', 337): 'petrol',\n",
       " ('golf', 81): 'gasoline',\n",
       " ('golf', 149): 'gasoline',\n",
       " ('golf', 58): 'petrol',\n",
       " ('golf', 381): 'petrol',\n",
       " ('golf', 78): 'petrol',\n",
       " ('golf', 222): 'petrol',\n",
       " ('golf', 59): 'petrol',\n",
       " ('golf', 305): 'petrol',\n",
       " ('golf', 144): 'gasoline',\n",
       " ('golf', 313): 'petrol',\n",
       " ('golf', 240): 'petrol',\n",
       " ('golf', 171): 'gasoline',\n",
       " ('golf', 136): 'petrol',\n",
       " ('golf', 123): 'petrol',\n",
       " ('golf', 92): 'petrol',\n",
       " ('golf', 249): 'petrol',\n",
       " ('golf', 640): 'petrol',\n",
       " ('golf', 145): 'gasoline',\n",
       " ('golf', 63): 'petrol',\n",
       " ('golf', 175): 'petrol',\n",
       " ('golf', 89): 'petrol',\n",
       " ('golf', 124): 'petrol',\n",
       " ('golf', 328): 'petrol',\n",
       " ('golf', 277): 'petrol',\n",
       " ('golf', 91): 'gasoline',\n",
       " ('golf', 163): 'petrol',\n",
       " ('golf', 354): 'petrol',\n",
       " ('golf', 324): 'petrol',\n",
       " ('golf', 61): 'petrol',\n",
       " ('golf', 213): 'petrol',\n",
       " ('golf', 51): 'petrol',\n",
       " ('golf', 349): 'petrol',\n",
       " ('golf', 84): 'petrol',\n",
       " ('golf', 133): 'gasoline',\n",
       " ('golf', 317): 'gasoline',\n",
       " ('golf', 194): 'petrol',\n",
       " ('golf', 57): 'petrol',\n",
       " ('golf', 311): 'petrol',\n",
       " ('golf', 603): 'gasoline',\n",
       " ('golf', 286): 'petrol',\n",
       " ('golf', 544): 'petrol',\n",
       " ('golf', 290): 'petrol',\n",
       " ('golf', 242): 'petrol',\n",
       " ('golf', 259): 'petrol',\n",
       " ('golf', 360): 'petrol',\n",
       " ('golf', 196): 'petrol',\n",
       " ('golf', 177): 'petrol',\n",
       " ('golf', 303): 'petrol',\n",
       " ('golf', 193): 'petrol',\n",
       " ('golf', 87): 'petrol',\n",
       " ('golf', 40): 'petrol',\n",
       " ('golf', 365): 'petrol',\n",
       " ('golf', 385): 'petrol',\n",
       " ('golf', 209): 'petrol',\n",
       " ('golf', 307): 'petrol',\n",
       " ('golf', 285): 'petrol',\n",
       " ('golf', 322): 'petrol',\n",
       " ('golf', 134): 'gasoline',\n",
       " ('golf', 192): 'petrol',\n",
       " ('grand', 163): 'gasoline',\n",
       " ('grand', 129): 'gasoline',\n",
       " ('grand', 211): 'petrol',\n",
       " ('grand', 174): 'petrol',\n",
       " ('grand', 109): 'gasoline',\n",
       " ('grand', 223): 'petrol',\n",
       " ('grand', 250): 'gasoline',\n",
       " ('grand', 173): 'petrol',\n",
       " ('grand', 218): 'gasoline',\n",
       " ('grand', 220): 'lpg',\n",
       " ('grand', 212): 'petrol',\n",
       " ('grand', 80): 'petrol',\n",
       " ('grand', 426): 'petrol',\n",
       " ('grand', 177): 'petrol',\n",
       " ('grand', 106): 'petrol',\n",
       " ('grand', 166): 'petrol',\n",
       " ('grand', 143): 'gasoline',\n",
       " ('grand', 94): 'petrol',\n",
       " ('grand', 158): 'petrol',\n",
       " ('grand', 140): 'petrol',\n",
       " ('grand', 95): 'gasoline',\n",
       " ('grand', 128): 'petrol',\n",
       " ('grand', 190): 'petrol',\n",
       " ('grand', 150): 'gasoline',\n",
       " ('grand', 184): 'petrol',\n",
       " ('grand', 169): 'petrol',\n",
       " ('grand', 231): 'petrol',\n",
       " ('grand', 144): 'petrol',\n",
       " ('grand', 241): 'petrol',\n",
       " ('grand', 178): 'lpg',\n",
       " ('grand', 326): 'petrol',\n",
       " ('grand', 215): 'lpg',\n",
       " ('grand', 130): 'gasoline',\n",
       " ('grand', 116): 'gasoline',\n",
       " ('grand', 160): 'gasoline',\n",
       " ('grand', 235): 'lpg',\n",
       " ('grand', 87): 'gasoline',\n",
       " ('grand', 108): 'gasoline',\n",
       " ('grand', 287): 'petrol',\n",
       " ('grand', 96): 'petrol',\n",
       " ('grand', 127): 'petrol',\n",
       " ('grand', 213): 'lpg',\n",
       " ('grand', 141): 'gasoline',\n",
       " ('grand', 157): 'petrol',\n",
       " ('grand', 256): 'lpg',\n",
       " ('grand', 170): 'gasoline',\n",
       " ('grand', 164): 'gasoline',\n",
       " ('grand', 70): 'petrol',\n",
       " ('grand', 156): 'lpg',\n",
       " ('grand', 258): 'petrol',\n",
       " ('grand', 133): 'petrol',\n",
       " ('grand', 100): 'petrol',\n",
       " ('grand', 182): 'petrol',\n",
       " ('grand', 232): 'petrol',\n",
       " ('grand', 227): 'petrol',\n",
       " ('grand', 200): 'lpg',\n",
       " ('grand', 105): 'petrol',\n",
       " ('grand', 126): 'petrol',\n",
       " ('grand', 264): 'petrol',\n",
       " ('fabia', 69): 'petrol',\n",
       " ('fabia', 60): 'petrol',\n",
       " ('fabia', 75): 'petrol',\n",
       " ('fabia', 110): 'petrol',\n",
       " ('fabia', 101): 'gasoline',\n",
       " ('fabia', 54): 'petrol',\n",
       " ('fabia', 105): 'petrol',\n",
       " ('fabia', 116): 'petrol',\n",
       " ('fabia', 86): 'petrol',\n",
       " ('fabia', 68): 'petrol',\n",
       " ('fabia', 50): 'petrol',\n",
       " ('fabia', 64): 'petrol',\n",
       " ('fabia', 70): 'petrol',\n",
       " ('fabia', 100): 'petrol',\n",
       " ('fabia', 120): 'gasoline',\n",
       " ('fabia', 65): 'petrol',\n",
       " ('fabia', 80): 'gasoline',\n",
       " ('fabia', 74): 'gasoline',\n",
       " ('fabia', 118): 'lpg',\n",
       " ('fabia', 179): 'petrol',\n",
       " ('fabia', 55): 'petrol',\n",
       " ('fabia', 102): 'gasoline',\n",
       " ('fabia', 90): 'gasoline',\n",
       " ('fabia', 131): 'gasoline',\n",
       " ('fabia', 85): 'petrol',\n",
       " ('fabia', 104): 'gasoline',\n",
       " ('fabia', 58): 'petrol',\n",
       " ('fabia', 107): 'petrol',\n",
       " ('fabia', 44): 'petrol',\n",
       " ('fabia', 88): 'gasoline',\n",
       " ('fabia', 59): 'petrol',\n",
       " ('fabia', 82): 'petrol',\n",
       " ('fabia', 180): 'petrol',\n",
       " ('fabia', 115): 'petrol',\n",
       " ('fabia', 63): 'petrol',\n",
       " ('fabia', 114): 'petrol',\n",
       " ('fabia', 130): 'gasoline',\n",
       " ('fabia', 47): 'gasoline',\n",
       " ('fabia', 51): 'petrol',\n",
       " ('fabia', 83): 'gasoline',\n",
       " ('3er', 102): 'petrol',\n",
       " ('3er', 218): 'petrol',\n",
       " ('3er', 143): 'petrol',\n",
       " ('3er', 163): 'gasoline',\n",
       " ('3er', 170): 'petrol',\n",
       " ('3er', 204): 'gasoline',\n",
       " ('3er', 231): 'petrol',\n",
       " ('3er', 184): 'gasoline',\n",
       " ('3er', 109): 'petrol',\n",
       " ('3er', 177): 'gasoline',\n",
       " ('3er', 200): 'petrol',\n",
       " ('3er', 193): 'petrol',\n",
       " ('3er', 150): 'petrol',\n",
       " ('3er', 113): 'petrol',\n",
       " ('3er', 140): 'petrol',\n",
       " ('3er', 99): 'petrol',\n",
       " ('3er', 171): 'petrol',\n",
       " ('3er', 98): 'petrol',\n",
       " ('3er', 129): 'petrol',\n",
       " ('3er', 105): 'petrol',\n",
       " ('3er', 116): 'petrol',\n",
       " ('3er', 136): 'gasoline',\n",
       " ('3er', 118): 'petrol',\n",
       " ('3er', 192): 'petrol',\n",
       " ('3er', 141): 'petrol',\n",
       " ('3er', 194): 'petrol',\n",
       " ('3er', 197): 'gasoline',\n",
       " ('3er', 115): 'petrol',\n",
       " ('3er', 122): 'gasoline',\n",
       " ('3er', 221): 'gasoline',\n",
       " ('3er', 101): 'petrol',\n",
       " ('3er', 160): 'gasoline',\n",
       " ('3er', 238): 'gasoline',\n",
       " ('3er', 100): 'petrol',\n",
       " ('3er', 104): 'petrol',\n",
       " ('3er', 306): 'petrol',\n",
       " ('3er', 148): 'petrol',\n",
       " ('3er', 180): 'petrol',\n",
       " ('3er', 245): 'gasoline',\n",
       " ('3er', 156): 'petrol',\n",
       " ('3er', 196): 'petrol',\n",
       " ('3er', 405): 'petrol',\n",
       " ('3er', 219): 'petrol',\n",
       " ('3er', 73): 'petrol',\n",
       " ('3er', 87): 'petrol',\n",
       " ('3er', 146): 'petrol',\n",
       " ('3er', 130): 'petrol',\n",
       " ('3er', 240): 'gasoline',\n",
       " ('3er', 343): 'petrol',\n",
       " ('3er', 85): 'petrol',\n",
       " ('3er', 232): 'petrol',\n",
       " ('3er', 176): 'gasoline',\n",
       " ('3er', 173): 'petrol',\n",
       " ('3er', 258): 'petrol',\n",
       " ('3er', 124): 'petrol',\n",
       " ('3er', 209): 'petrol',\n",
       " ('3er', 284): 'gasoline',\n",
       " ('3er', 175): 'petrol',\n",
       " ('3er', 112): 'petrol',\n",
       " ('3er', 272): 'petrol',\n",
       " ('3er', 286): 'gasoline',\n",
       " ('3er', 186): 'gasoline',\n",
       " ('3er', 216): 'gasoline',\n",
       " ('3er', 230): 'petrol',\n",
       " ('3er', 303): 'gasoline',\n",
       " ('3er', 158): 'petrol',\n",
       " ('3er', 142): 'petrol',\n",
       " ('3er', 135): 'gasoline',\n",
       " ('3er', 144): 'gasoline',\n",
       " ('3er', 206): 'petrol',\n",
       " ('3er', 77): 'petrol',\n",
       " ('3er', 120): 'petrol',\n",
       " ('3er', 172): 'petrol',\n",
       " ('3er', 125): 'petrol',\n",
       " ('3er', 90): 'gasoline',\n",
       " ('3er', 110): 'petrol',\n",
       " ('3er', 227): 'gasoline',\n",
       " ('3er', 214): 'gasoline',\n",
       " ('3er', 147): 'petrol',\n",
       " ('3er', 190): 'petrol',\n",
       " ('3er', 212): 'petrol',\n",
       " ('3er', 162): 'gasoline',\n",
       " ('3er', 75): 'petrol',\n",
       " ('3er', 167): 'gasoline',\n",
       " ('3er', 185): 'gasoline',\n",
       " ('3er', 119): 'petrol',\n",
       " ('3er', 83): 'petrol',\n",
       " ('3er', 103): 'petrol',\n",
       " ('3er', 220): 'petrol',\n",
       " ('3er', 350): 'gasoline',\n",
       " ('3er', 114): 'petrol',\n",
       " ('3er', 153): 'gasoline',\n",
       " ('3er', 191): 'petrol',\n",
       " ('3er', 215): 'petrol',\n",
       " ('3er', 208): 'gasoline',\n",
       " ('3er', 132): 'petrol',\n",
       " ('3er', 210): 'petrol',\n",
       " ('3er', 155): 'petrol',\n",
       " ('3er', 106): 'petrol',\n",
       " ('3er', 270): 'petrol',\n",
       " ('3er', 145): 'petrol',\n",
       " ('3er', 338): 'petrol',\n",
       " ('3er', 250): 'petrol',\n",
       " ('3er', 199): 'petrol',\n",
       " ('3er', 217): 'petrol',\n",
       " ('3er', 178): 'petrol',\n",
       " ('3er', 117): 'petrol',\n",
       " ('3er', 234): 'petrol',\n",
       " ('3er', 315): 'petrol',\n",
       " ('3er', 107): 'petrol',\n",
       " ('3er', 237): 'petrol',\n",
       " ('3er', 211): 'petrol',\n",
       " ('3er', 390): 'petrol',\n",
       " ('3er', 174): 'petrol',\n",
       " ('3er', 126): 'petrol',\n",
       " ('3er', 198): 'petrol',\n",
       " ('3er', 379): 'gasoline',\n",
       " ('3er', 95): 'petrol',\n",
       " ('3er', 235): 'petrol',\n",
       " ('3er', 165): 'gasoline',\n",
       " ('3er', 320): 'gasoline',\n",
       " ('3er', 111): 'petrol',\n",
       " ('3er', 138): 'petrol',\n",
       " ('3er', 450): 'petrol',\n",
       " ('3er', 280): 'petrol',\n",
       " ('3er', 139): 'lpg',\n",
       " ('3er', 386): 'petrol',\n",
       " ('3er', 300): 'petrol',\n",
       " ('3er', 195): 'gasoline',\n",
       " ('3er', 123): 'petrol',\n",
       " ('3er', 84): 'lpg',\n",
       " ('3er', 76): 'petrol',\n",
       " ('3er', 222): 'gasoline',\n",
       " ('3er', 277): 'gasoline',\n",
       " ('3er', 259): 'petrol',\n",
       " ('3er', 149): 'petrol',\n",
       " ('3er', 260): 'petrol',\n",
       " ('3er', 86): 'gasoline',\n",
       " ('3er', 108): 'petrol',\n",
       " ('3er', 326): 'petrol',\n",
       " ('3er', 266): 'gasoline',\n",
       " ('3er', 154): 'petrol',\n",
       " ('3er', 134): 'gasoline',\n",
       " ('3er', 179): 'petrol',\n",
       " ('3er', 166): 'gasoline',\n",
       " ('3er', 340): 'petrol',\n",
       " ('3er', 305): 'petrol',\n",
       " ('3er', 400): 'petrol',\n",
       " ('3er', 92): 'petrol',\n",
       " ('3er', 348): 'petrol',\n",
       " ('3er', 271): 'petrol',\n",
       " ('3er', 281): 'gasoline',\n",
       " ('3er', 188): 'petrol',\n",
       " ('3er', 285): 'gasoline',\n",
       " ('3er', 157): 'lpg',\n",
       " ('3er', 205): 'petrol',\n",
       " ('3er', 96): 'petrol',\n",
       " ('3er', 213): 'petrol',\n",
       " ('3er', 321): 'petrol',\n",
       " ('3er', 254): 'gasoline',\n",
       " ('3er', 131): 'petrol',\n",
       " ('3er', 241): 'gasoline',\n",
       " ('3er', 127): 'gasoline',\n",
       " ('3er', 360): 'gasoline',\n",
       " ('3er', 133): 'petrol',\n",
       " ('3er', 243): 'petrol',\n",
       " ('3er', 187): 'gasoline',\n",
       " ('3er', 246): 'gasoline',\n",
       " ('3er', 152): 'petrol',\n",
       " ('2_reihe', 109): 'petrol',\n",
       " ('2_reihe', 75): 'petrol',\n",
       " ('2_reihe', 73): 'petrol',\n",
       " ('2_reihe', 90): 'gasoline',\n",
       " ('2_reihe', 148): 'petrol',\n",
       " ('2_reihe', 135): 'petrol',\n",
       " ('2_reihe', 60): 'petrol',\n",
       " ('2_reihe', 120): 'petrol',\n",
       " ('2_reihe', 92): 'gasoline',\n",
       " ('2_reihe', 88): 'petrol',\n",
       " ('2_reihe', 95): 'petrol',\n",
       " ('2_reihe', 102): 'petrol',\n",
       " ('2_reihe', 114): 'gasoline',\n",
       " ('2_reihe', 65): 'petrol',\n",
       " ('2_reihe', 136): 'petrol',\n",
       " ('2_reihe', 108): 'petrol',\n",
       " ('2_reihe', 55): 'petrol',\n",
       " ('2_reihe', 130): 'petrol',\n",
       " ('2_reihe', 174): 'petrol',\n",
       " ('2_reihe', 150): 'petrol',\n",
       " ('2_reihe', 116): 'petrol',\n",
       " ('2_reihe', 82): 'petrol',\n",
       " ('2_reihe', 110): 'petrol',\n",
       " ('2_reihe', 68): 'gasoline',\n",
       " ('2_reihe', 74): 'petrol',\n",
       " ('2_reihe', 139): 'petrol',\n",
       " ('2_reihe', 177): 'petrol',\n",
       " ('2_reihe', 69): 'gasoline',\n",
       " ('2_reihe', 111): 'gasoline',\n",
       " ('2_reihe', 140): 'petrol',\n",
       " ('2_reihe', 63): 'petrol',\n",
       " ('2_reihe', 85): 'petrol',\n",
       " ('2_reihe', 156): 'petrol',\n",
       " ('2_reihe', 72): 'petrol',\n",
       " ('2_reihe', 105): 'petrol',\n",
       " ('2_reihe', 59): 'petrol',\n",
       " ('2_reihe', 67): 'petrol',\n",
       " ('2_reihe', 208): 'petrol',\n",
       " ('2_reihe', 115): 'gasoline',\n",
       " ('2_reihe', 94): 'gasoline',\n",
       " ('2_reihe', 106): 'petrol',\n",
       " ('2_reihe', 70): 'petrol',\n",
       " ('2_reihe', 155): 'petrol',\n",
       " ('2_reihe', 203): 'petrol',\n",
       " ('2_reihe', 83): 'petrol',\n",
       " ('2_reihe', 122): 'lpg',\n",
       " ('2_reihe', 144): 'gasoline',\n",
       " ('2_reihe', 100): 'petrol',\n",
       " ('2_reihe', 61): 'petrol',\n",
       " ('2_reihe', 101): 'petrol',\n",
       " ('2_reihe', 58): 'petrol',\n",
       " ('2_reihe', 45): 'petrol',\n",
       " ('2_reihe', 56): 'petrol',\n",
       " ('2_reihe', 62): 'petrol',\n",
       " ('2_reihe', 80): 'petrol',\n",
       " ('2_reihe', 112): 'gasoline',\n",
       " ('2_reihe', 98): 'gasoline',\n",
       " ('2_reihe', 96): 'gasoline',\n",
       " ('2_reihe', 50): 'gasoline',\n",
       " ('2_reihe', 54): 'petrol',\n",
       " ('2_reihe', 66): 'petrol',\n",
       " ('2_reihe', 81): 'petrol',\n",
       " ('2_reihe', 89): 'petrol',\n",
       " ('2_reihe', 44): 'petrol',\n",
       " ('2_reihe', 107): 'petrol',\n",
       " ('2_reihe', 175): 'petrol',\n",
       " ('2_reihe', 104): 'petrol',\n",
       " ('2_reihe', 215): 'petrol',\n",
       " ('2_reihe', 200): 'petrol',\n",
       " ('2_reihe', 160): 'petrol',\n",
       " ('2_reihe', 125): 'petrol',\n",
       " ('2_reihe', 163): 'petrol',\n",
       " ('2_reihe', 84): 'petrol',\n",
       " ('2_reihe', 149): 'petrol',\n",
       " ('2_reihe', 49): 'petrol',\n",
       " ('2_reihe', 138): 'petrol',\n",
       " ('c_max', 125): 'petrol',\n",
       " ('c_max', 136): 'gasoline',\n",
       " ('c_max', 109): 'gasoline',\n",
       " ('c_max', 116): 'gasoline',\n",
       " ('c_max', 115): 'petrol',\n",
       " ('c_max', 101): 'petrol',\n",
       " ('c_max', 110): 'gasoline',\n",
       " ('c_max', 108): 'gasoline',\n",
       " ('c_max', 182): 'petrol',\n",
       " ('c_max', 95): 'gasoline',\n",
       " ('c_max', 140): 'gasoline',\n",
       " ('c_max', 145): 'petrol',\n",
       " ('c_max', 90): 'gasoline',\n",
       " ('c_max', 120): 'petrol',\n",
       " ('c_max', 100): 'petrol',\n",
       " ('c_max', 92): 'petrol',\n",
       " ('c_max', 131): 'gasoline',\n",
       " ('c_max', 150): 'petrol',\n",
       " ('c_max', 105): 'petrol',\n",
       " ('c_max', 80): 'gasoline',\n",
       " ('c_max', 121): 'gasoline',\n",
       " ('c_max', 106): 'gasoline',\n",
       " ('c_max', 135): 'gasoline',\n",
       " ('c_max', 130): 'gasoline',\n",
       " ('c_max', 122): 'gasoline',\n",
       " ('c_max', 163): 'gasoline',\n",
       " ('c_max', 118): 'gasoline',\n",
       " ('c_max', 148): 'gasoline',\n",
       " ('c_max', 139): 'gasoline',\n",
       " ('c_max', 91): 'gasoline',\n",
       " ('c_max', 156): 'petrol',\n",
       " ('3_reihe', 105): 'petrol',\n",
       " ('3_reihe', 174): 'petrol',\n",
       " ('3_reihe', 185): 'gasoline',\n",
       " ('3_reihe', 88): 'petrol',\n",
       " ('3_reihe', 90): 'gasoline',\n",
       " ('3_reihe', 101): 'petrol',\n",
       " ('3_reihe', 81): 'petrol',\n",
       " ('3_reihe', 109): 'petrol',\n",
       " ('3_reihe', 140): 'petrol',\n",
       " ('3_reihe', 60): 'petrol',\n",
       " ('3_reihe', 98): 'petrol',\n",
       " ('3_reihe', 64): 'gasoline',\n",
       " ('3_reihe', 110): 'petrol',\n",
       " ('3_reihe', 84): 'petrol',\n",
       " ('3_reihe', 163): 'gasoline',\n",
       " ('3_reihe', 260): 'petrol',\n",
       " ('3_reihe', 150): 'petrol',\n",
       " ('3_reihe', 107): 'gasoline',\n",
       " ('3_reihe', 111): 'gasoline',\n",
       " ('3_reihe', 121): 'petrol',\n",
       " ('3_reihe', 75): 'petrol',\n",
       " ('3_reihe', 103): 'petrol',\n",
       " ('3_reihe', 44): 'petrol',\n",
       " ('3_reihe', 120): 'petrol',\n",
       " ('3_reihe', 100): 'petrol',\n",
       " ('3_reihe', 136): 'petrol',\n",
       " ('3_reihe', 114): 'petrol',\n",
       " ('3_reihe', 74): 'petrol',\n",
       " ('3_reihe', 73): 'petrol',\n",
       " ('3_reihe', 115): 'petrol',\n",
       " ('3_reihe', 89): 'petrol',\n",
       " ('3_reihe', 97): 'petrol',\n",
       " ('3_reihe', 143): 'gasoline',\n",
       " ('3_reihe', 156): 'petrol',\n",
       " ('3_reihe', 165): 'petrol',\n",
       " ('3_reihe', 200): 'petrol',\n",
       " ('3_reihe', 80): 'petrol',\n",
       " ('3_reihe', 131): 'petrol',\n",
       " ('3_reihe', 72): 'petrol',\n",
       " ('3_reihe', 54): 'petrol',\n",
       " ('3_reihe', 144): 'petrol',\n",
       " ('3_reihe', 95): 'petrol',\n",
       " ('3_reihe', 92): 'gasoline',\n",
       " ('3_reihe', 138): 'gasoline',\n",
       " ('3_reihe', 128): 'petrol',\n",
       " ('3_reihe', 130): 'petrol',\n",
       " ('3_reihe', 65): 'petrol',\n",
       " ('3_reihe', 177): 'petrol',\n",
       " ('3_reihe', 132): 'petrol',\n",
       " ('3_reihe', 135): 'petrol',\n",
       " ('3_reihe', 71): 'petrol',\n",
       " ('3_reihe', 68): 'gasoline',\n",
       " ('3_reihe', 116): 'gasoline',\n",
       " ('3_reihe', 151): 'petrol',\n",
       " ('3_reihe', 94): 'petrol',\n",
       " ('3_reihe', 137): 'petrol',\n",
       " ('3_reihe', 106): 'petrol',\n",
       " ('3_reihe', 69): 'gasoline',\n",
       " ('3_reihe', 112): 'gasoline',\n",
       " ('3_reihe', 300): 'petrol',\n",
       " ('3_reihe', 277): 'petrol',\n",
       " ('3_reihe', 85): 'petrol',\n",
       " ('3_reihe', 67): 'petrol',\n",
       " ('3_reihe', 428): 'petrol',\n",
       " ('3_reihe', 328): 'petrol',\n",
       " ('3_reihe', 70): 'petrol',\n",
       " ('3_reihe', 79): 'petrol',\n",
       " ('3_reihe', 99): 'petrol',\n",
       " ('3_reihe', 145): 'petrol',\n",
       " ('3_reihe', 850): 'petrol',\n",
       " ('3_reihe', 83): 'petrol',\n",
       " ('3_reihe', 55): 'petrol',\n",
       " ('3_reihe', 139): 'gasoline',\n",
       " ('3_reihe', 82): 'petrol',\n",
       " ('3_reihe', 113): 'petrol',\n",
       " ('3_reihe', 102): 'petrol',\n",
       " ('3_reihe', 86): 'petrol',\n",
       " ('3_reihe', 108): 'petrol',\n",
       " ('3_reihe', 125): 'petrol',\n",
       " ('3_reihe', 235): 'petrol',\n",
       " ('3_reihe', 104): 'petrol',\n",
       " ('3_reihe', 147): 'petrol',\n",
       " ('3_reihe', 119): 'gasoline',\n",
       " ('3_reihe', 126): 'petrol',\n",
       " ('3_reihe', 155): 'petrol',\n",
       " ('3_reihe', 149): 'petrol',\n",
       " ('3_reihe', 87): 'petrol',\n",
       " ('3_reihe', 77): 'petrol',\n",
       " ('3_reihe', 198): 'petrol',\n",
       " ('3_reihe', 118): 'petrol',\n",
       " ('3_reihe', 76): 'petrol',\n",
       " ('3_reihe', 170): 'gasoline',\n",
       " ('3_reihe', 63): 'petrol',\n",
       " ('passat', 140): 'gasoline',\n",
       " ('passat', 115): 'petrol',\n",
       " ('passat', 131): 'gasoline',\n",
       " ('passat', 101): 'petrol',\n",
       " ('passat', 90): 'petrol',\n",
       " ('passat', 150): 'petrol',\n",
       " ('passat', 116): 'petrol',\n",
       " ('passat', 299): 'gasoline',\n",
       " ('passat', 193): 'petrol',\n",
       " ('passat', 170): 'gasoline',\n",
       " ('passat', 122): 'petrol',\n",
       " ('passat', 136): 'gasoline',\n",
       " ('passat', 110): 'gasoline',\n",
       " ('passat', 125): 'petrol',\n",
       " ('passat', 180): 'gasoline',\n",
       " ('passat', 163): 'gasoline',\n",
       " ('passat', 177): 'gasoline',\n",
       " ('passat', 130): 'gasoline',\n",
       " ('passat', 143): 'gasoline',\n",
       " ('passat', 80): 'petrol',\n",
       " ('passat', 184): 'petrol',\n",
       " ('passat', 105): 'gasoline',\n",
       " ('passat', 77): 'gasoline',\n",
       " ('passat', 74): 'petrol',\n",
       " ('passat', 85): 'petrol',\n",
       " ('passat', 275): 'petrol',\n",
       " ('passat', 179): 'gasoline',\n",
       " ('passat', 200): 'petrol',\n",
       " ('passat', 102): 'petrol',\n",
       " ('passat', 126): 'petrol',\n",
       " ('passat', 160): 'petrol',\n",
       " ('passat', 174): 'petrol',\n",
       " ('passat', 173): 'petrol',\n",
       " ('passat', 192): 'lpg',\n",
       " ('passat', 100): 'petrol',\n",
       " ('passat', 89): 'petrol',\n",
       " ('passat', 72): 'petrol',\n",
       " ('passat', 112): 'petrol',\n",
       " ('passat', 75): 'petrol',\n",
       " ('passat', 148): 'petrol',\n",
       " ('passat', 92): 'petrol',\n",
       " ('passat', 401): 'petrol',\n",
       " ('passat', 54): 'gasoline',\n",
       " ('passat', 68): 'gasoline',\n",
       " ('passat', 109): 'gasoline',\n",
       " ('passat', 194): 'petrol',\n",
       " ('passat', 103): 'gasoline',\n",
       " ('passat', 190): 'petrol',\n",
       " ('passat', 250): 'petrol',\n",
       " ('passat', 211): 'petrol',\n",
       " ('passat', 120): 'petrol',\n",
       " ('passat', 106): 'petrol',\n",
       " ('passat', 300): 'petrol',\n",
       " ('passat', 96): 'gasoline',\n",
       " ('passat', 196): 'petrol',\n",
       " ('passat', 114): 'gasoline',\n",
       " ('passat', 69): 'gasoline',\n",
       " ('passat', 260): 'petrol',\n",
       " ('passat', 178): 'petrol',\n",
       " ('passat', 121): 'petrol',\n",
       " ('passat', 118): 'petrol',\n",
       " ('passat', 129): 'petrol',\n",
       " ('passat', 79): 'petrol',\n",
       " ('passat', 219): 'petrol',\n",
       " ('passat', 142): 'gasoline',\n",
       " ('passat', 107): 'petrol',\n",
       " ('passat', 215): 'petrol',\n",
       " ('passat', 134): 'gasoline',\n",
       " ('passat', 146): 'gasoline',\n",
       " ('passat', 241): 'petrol',\n",
       " ('passat', 124): 'petrol',\n",
       " ('passat', 197): 'petrol',\n",
       " ('passat', 279): 'petrol',\n",
       " ('passat', 220): 'petrol',\n",
       " ('passat', 86): 'petrol',\n",
       " ('passat', 280): 'petrol',\n",
       " ('passat', 137): 'gasoline',\n",
       " ('passat', 104): 'gasoline',\n",
       " ('passat', 240): 'gasoline',\n",
       " ('passat', 135): 'gasoline',\n",
       " ('passat', 169): 'gasoline',\n",
       " ('passat', 168): 'gasoline',\n",
       " ('passat', 70): 'petrol',\n",
       " ('passat', 153): 'petrol',\n",
       " ('passat', 183): 'gasoline',\n",
       " ('passat', 199): 'petrol',\n",
       " ('passat', 95): 'gasoline',\n",
       " ('passat', 145): 'gasoline',\n",
       " ('passat', 271): 'petrol',\n",
       " ('passat', 117): 'lpg',\n",
       " ('passat', 66): 'petrol',\n",
       " ('passat', 99): 'gasoline',\n",
       " ('passat', 161): 'gasoline',\n",
       " ('passat', 162): 'gasoline',\n",
       " ('passat', 55): 'petrol',\n",
       " ('passat', 239): 'petrol',\n",
       " ('passat', 204): 'gasoline',\n",
       " ('passat', 210): 'gasoline',\n",
       " ('passat', 175): 'gasoline',\n",
       " ('passat', 164): 'gasoline',\n",
       " ('passat', 195): 'petrol',\n",
       " ('passat', 98): 'petrol',\n",
       " ('passat', 141): 'gasoline',\n",
       " ('passat', 149): 'petrol',\n",
       " ('navara', 190): 'gasoline',\n",
       " ('navara', 174): 'gasoline',\n",
       " ('navara', 173): 'gasoline',\n",
       " ('navara', 171): 'gasoline',\n",
       " ('navara', 176): 'gasoline',\n",
       " ('navara', 133): 'gasoline',\n",
       " ('navara', 103): 'gasoline',\n",
       " ('navara', 104): 'gasoline',\n",
       " ('navara', 100): 'gasoline',\n",
       " ('navara', 179): 'gasoline',\n",
       " ('navara', 170): 'gasoline',\n",
       " ('navara', 126): 'gasoline',\n",
       " ('navara', 198): 'petrol',\n",
       " ('polo', 60): 'petrol',\n",
       " ('polo', 45): 'petrol',\n",
       " ('polo', 86): 'petrol',\n",
       " ('polo', 80): 'petrol',\n",
       " ('polo', 54): 'petrol',\n",
       " ('polo', 90): 'gasoline',\n",
       " ('polo', 64): 'petrol',\n",
       " ('polo', 75): 'petrol',\n",
       " ('polo', 120): 'petrol',\n",
       " ('polo', 39): 'petrol',\n",
       " ('polo', 110): 'petrol',\n",
       " ('polo', 69): 'petrol',\n",
       " ('polo', 50): 'petrol',\n",
       " ('polo', 29): 'petrol',\n",
       " ('polo', 55): 'petrol',\n",
       " ('polo', 105): 'petrol',\n",
       " ('polo', 61): 'petrol',\n",
       " ('polo', 102): 'petrol',\n",
       " ('polo', 47): 'petrol',\n",
       " ('polo', 179): 'petrol',\n",
       " ('polo', 40): 'petrol',\n",
       " ('polo', 95): 'gasoline',\n",
       " ('polo', 70): 'petrol',\n",
       " ('polo', 125): 'petrol',\n",
       " ('polo', 101): 'gasoline',\n",
       " ('polo', 44): 'petrol',\n",
       " ('polo', 49): 'petrol',\n",
       " ('polo', 131): 'gasoline',\n",
       " ('polo', 41): 'petrol',\n",
       " ('polo', 52): 'petrol',\n",
       " ('polo', 150): 'petrol',\n",
       " ('polo', 124): 'petrol',\n",
       " ('polo', 113): 'petrol',\n",
       " ('polo', 192): 'petrol',\n",
       " ('polo', 65): 'petrol',\n",
       " ('polo', 160): 'petrol',\n",
       " ('polo', 165): 'petrol',\n",
       " ('polo', 72): 'petrol',\n",
       " ('polo', 48): 'gasoline',\n",
       " ('polo', 100): 'petrol',\n",
       " ('polo', 180): 'petrol',\n",
       " ('polo', 243): 'petrol',\n",
       " ('polo', 58): 'petrol',\n",
       " ('polo', 46): 'petrol',\n",
       " ('polo', 33): 'petrol',\n",
       " ('polo', 449): 'petrol',\n",
       " ('polo', 62): 'petrol',\n",
       " ('polo', 66): 'petrol',\n",
       " ('polo', 88): 'petrol',\n",
       " ('polo', 63): 'petrol',\n",
       " ('polo', 170): 'petrol',\n",
       " ('polo', 200): 'petrol',\n",
       " ('polo', 56): 'petrol',\n",
       " ('polo', 51): 'petrol',\n",
       " ('polo', 148): 'petrol',\n",
       " ('polo', 145): 'petrol',\n",
       " ('polo', 68): 'petrol',\n",
       " ('polo', 81): 'petrol',\n",
       " ('polo', 74): 'petrol',\n",
       " ('polo', 85): 'petrol',\n",
       " ('polo', 77): 'petrol',\n",
       " ('polo', 115): 'petrol',\n",
       " ('polo', 606): 'petrol',\n",
       " ('polo', 130): 'gasoline',\n",
       " ('polo', 53): 'petrol',\n",
       " ('polo', 140): 'petrol',\n",
       " ('polo', 57): 'petrol',\n",
       " ('polo', 89): 'petrol',\n",
       " ('polo', 37): 'petrol',\n",
       " ('polo', 82): 'petrol',\n",
       " ('polo', 79): 'gasoline',\n",
       " ('polo', 59): 'petrol',\n",
       " ('polo', 601): 'petrol',\n",
       " ('polo', 272): 'petrol',\n",
       " ('polo', 78): 'petrol',\n",
       " ('polo', 215): 'petrol',\n",
       " ('polo', 107): 'petrol',\n",
       " ('polo', 220): 'petrol',\n",
       " ('polo', 136): 'petrol',\n",
       " ('polo', 43): 'petrol',\n",
       " ('polo', 106): 'gasoline',\n",
       " ('polo', 175): 'petrol',\n",
       " ('polo', 67): 'petrol',\n",
       " ('polo', 42): 'petrol',\n",
       " ('polo', 116): 'petrol',\n",
       " ('twingo', 75): 'petrol',\n",
       " ('twingo', 60): 'petrol',\n",
       " ('twingo', 58): 'petrol',\n",
       " ('twingo', 54): 'petrol',\n",
       " ('twingo', 55): 'petrol',\n",
       " ('twingo', 101): 'petrol',\n",
       " ('twingo', 46): 'petrol',\n",
       " ('twingo', 133): 'petrol',\n",
       " ('twingo', 71): 'petrol',\n",
       " ('twingo', 45): 'petrol',\n",
       " ('twingo', 43): 'petrol',\n",
       " ('twingo', 64): 'gasoline',\n",
       " ('twingo', 76): 'petrol',\n",
       " ('twingo', 52): 'petrol',\n",
       " ('twingo', 59): 'petrol',\n",
       " ('twingo', 50): 'petrol',\n",
       " ('twingo', 56): 'petrol',\n",
       " ('twingo', 40): 'petrol',\n",
       " ('twingo', 53): 'petrol',\n",
       " ('twingo', 541): 'petrol',\n",
       " ('twingo', 61): 'petrol',\n",
       " ('twingo', 102): 'petrol',\n",
       " ('twingo', 80): 'petrol',\n",
       " ('twingo', 150): 'petrol',\n",
       " ('twingo', 86): 'petrol',\n",
       " ('twingo', 69): 'petrol',\n",
       " ('twingo', 47): 'gasoline',\n",
       " ('twingo', 90): 'petrol',\n",
       " ('twingo', 44): 'petrol',\n",
       " ('twingo', 68): 'petrol',\n",
       " ('twingo', 74): 'petrol',\n",
       " ('twingo', 57): 'petrol',\n",
       " ('twingo', 580): 'petrol',\n",
       " ('twingo', 73): 'petrol',\n",
       " ('twingo', 34): 'petrol',\n",
       " ('twingo', 65): 'petrol',\n",
       " ('twingo', 700): 'petrol',\n",
       " ('twingo', 48): 'petrol',\n",
       " ('twingo', 62): 'petrol',\n",
       " ('twingo', 70): 'petrol',\n",
       " ('twingo', 78): 'petrol',\n",
       " ('twingo', 67): 'petrol',\n",
       " ('twingo', 51): 'petrol',\n",
       " ('twingo', 79): 'petrol',\n",
       " ('twingo', 77): 'petrol',\n",
       " ('twingo', 72): 'petrol',\n",
       " ('twingo', 63): 'petrol',\n",
       " ('twingo', 100): 'petrol',\n",
       " ('twingo', 84): 'gasoline',\n",
       " ('a_klasse', 102): 'petrol',\n",
       " ('a_klasse', 140): 'gasoline',\n",
       " ('a_klasse', 95): 'petrol',\n",
       " ('a_klasse', 122): 'petrol',\n",
       " ('a_klasse', 82): 'petrol',\n",
       " ('a_klasse', 90): 'gasoline',\n",
       " ('a_klasse', 111): 'petrol',\n",
       " ('a_klasse', 125): 'petrol',\n",
       " ('a_klasse', 84): 'petrol',\n",
       " ('a_klasse', 156): 'petrol',\n",
       " ('a_klasse', 80): 'petrol',\n",
       " ('a_klasse', 116): 'petrol',\n",
       " ('a_klasse', 109): 'gasoline',\n",
       " ('a_klasse', 100): 'petrol',\n",
       " ('a_klasse', 136): 'petrol',\n",
       " ('a_klasse', 60): 'gasoline',\n",
       " ('a_klasse', 75): 'petrol',\n",
       " ('a_klasse', 72): 'petrol',\n",
       " ('a_klasse', 132): 'petrol',\n",
       " ('a_klasse', 115): 'petrol',\n",
       " ('a_klasse', 106): 'petrol',\n",
       " ('a_klasse', 92): 'petrol',\n",
       " ('a_klasse', 86): 'petrol',\n",
       " ('a_klasse', 101): 'petrol',\n",
       " ('a_klasse', 65): 'gasoline',\n",
       " ('a_klasse', 85): 'petrol',\n",
       " ('a_klasse', 120): 'gasoline',\n",
       " ('a_klasse', 66): 'gasoline',\n",
       " ('a_klasse', 105): 'petrol',\n",
       " ('a_klasse', 112): 'petrol',\n",
       " ('a_klasse', 108): 'gasoline',\n",
       " ('a_klasse', 55): 'gasoline',\n",
       " ('a_klasse', 114): 'petrol',\n",
       " ('a_klasse', 83): 'petrol',\n",
       " ('a_klasse', 193): 'petrol',\n",
       " ('a_klasse', 81): 'petrol',\n",
       " ('a_klasse', 119): 'petrol',\n",
       " ('a_klasse', 70): 'gasoline',\n",
       " ('a_klasse', 98): 'petrol',\n",
       " ('a_klasse', 88): 'petrol',\n",
       " ('a_klasse', 68): 'gasoline',\n",
       " ('a_klasse', 110): 'gasoline',\n",
       " ('a_klasse', 96): 'gasoline',\n",
       " ('a_klasse', 190): 'petrol',\n",
       " ('a_klasse', 128): 'petrol',\n",
       " ('a_klasse', 97): 'gasoline',\n",
       " ('a_klasse', 103): 'petrol',\n",
       " ('a_klasse', 148): 'gasoline',\n",
       " ('a_klasse', 129): 'petrol',\n",
       " ('a_klasse', 123): 'petrol',\n",
       " ('a_klasse', 104): 'petrol',\n",
       " ('a_klasse', 160): 'gasoline',\n",
       " ('a_klasse', 124): 'petrol',\n",
       " ('a_klasse', 91): 'gasoline',\n",
       " ('a_klasse', 117): 'gasoline',\n",
       " ('a_klasse', 50): 'gasoline',\n",
       " ('a_klasse', 78): 'petrol',\n",
       " ('a_klasse', 126): 'petrol',\n",
       " ('a_klasse', 99): 'petrol',\n",
       " ('scirocco', 160): 'petrol',\n",
       " ('scirocco', 122): 'petrol',\n",
       " ('scirocco', 260): 'petrol',\n",
       " ('scirocco', 95): 'petrol',\n",
       " ('scirocco', 90): 'petrol',\n",
       " ('scirocco', 111): 'petrol',\n",
       " ('scirocco', 200): 'petrol',\n",
       " ('scirocco', 265): 'petrol',\n",
       " ('scirocco', 170): 'gasoline',\n",
       " ('scirocco', 211): 'petrol',\n",
       " ('scirocco', 140): 'gasoline',\n",
       " ('scirocco', 82): 'petrol',\n",
       " ('scirocco', 125): 'petrol',\n",
       " ('scirocco', 161): 'petrol',\n",
       " ('scirocco', 75): 'petrol',\n",
       " ('scirocco', 241): 'petrol',\n",
       " ('scirocco', 310): 'petrol',\n",
       " ('scirocco', 120): 'petrol',\n",
       " ('scirocco', 129): 'petrol',\n",
       " ('scirocco', 190): 'gasoline',\n",
       " ('scirocco', 210): 'petrol',\n",
       " ('scirocco', 85): 'petrol',\n",
       " ('scirocco', 96): 'petrol',\n",
       " ('scirocco', 92): 'petrol',\n",
       " ('scirocco', 110): 'petrol',\n",
       " ('scirocco', 139): 'petrol',\n",
       " ('scirocco', 330): 'petrol',\n",
       " ('scirocco', 305): 'petrol',\n",
       " ('scirocco', 299): 'petrol',\n",
       " ('scirocco', 72): 'petrol',\n",
       " ('scirocco', 286): 'petrol',\n",
       " ('scirocco', 168): 'petrol',\n",
       " ...}"
      ]
     },
     "execution_count": 49,
     "metadata": {},
     "output_type": "execute_result"
    }
   ],
   "source": [
    "fuel"
   ]
  },
  {
   "cell_type": "code",
   "execution_count": 50,
   "metadata": {},
   "outputs": [],
   "source": [
    "def fuel_filler(data):\n",
    "    for model in data['Model'].unique():\n",
    "        df_model = data[data['Model']==model]\n",
    "        for power in df_model['Power'].unique():\n",
    "            df.loc[df['Model']==model,'FuelType'] = df.loc[df['Model']==model,'FuelType'].fillna(value=fuel[model,power])"
   ]
  },
  {
   "cell_type": "code",
   "execution_count": 51,
   "metadata": {},
   "outputs": [],
   "source": [
    "fuel_filler(df)"
   ]
  },
  {
   "cell_type": "code",
   "execution_count": 52,
   "metadata": {},
   "outputs": [
    {
     "data": {
      "text/plain": [
       "Price               0.000000\n",
       "VehicleType         0.064905\n",
       "RegistrationYear    0.000000\n",
       "Gearbox             0.000000\n",
       "Power               0.000000\n",
       "Model               0.000000\n",
       "Kilometer           0.000000\n",
       "FuelType            0.000000\n",
       "Brand               0.000000\n",
       "Repaired            0.000000\n",
       "dtype: float64"
      ]
     },
     "execution_count": 52,
     "metadata": {},
     "output_type": "execute_result"
    }
   ],
   "source": [
    "df.isna().sum()/df.isna().count()"
   ]
  },
  {
   "cell_type": "code",
   "execution_count": 53,
   "metadata": {},
   "outputs": [],
   "source": [
    "vehicle={}\n",
    "for model in models:\n",
    "    for power in df.loc[df['Model']==model,'Power'].unique():\n",
    "        data = df.loc[(df['Power']==power)&(df['Model']==model)]\n",
    "        vehicle_n=[]\n",
    "        vehicle_t=[]\n",
    "        best_score=0\n",
    "        for v_type in data['VehicleType'].unique():\n",
    "            vehicle_n = data[data['VehicleType']==v_type].shape[0]\n",
    "            vehicle_t = v_type\n",
    "            if best_score < vehicle_n:\n",
    "                best_score = vehicle_n\n",
    "                best_vehicle = vehicle_t            \n",
    "        vehicle[model,power] = best_vehicle\n"
   ]
  },
  {
   "cell_type": "code",
   "execution_count": 54,
   "metadata": {},
   "outputs": [
    {
     "data": {
      "text/plain": [
       "{('golf', 90): 'sedan',\n",
       " ('golf', 75): 'sedan',\n",
       " ('golf', 101): 'sedan',\n",
       " ('golf', 80): 'sedan',\n",
       " ('golf', 105): 'sedan',\n",
       " ('golf', 265): 'sedan',\n",
       " ('golf', 54): 'sedan',\n",
       " ('golf', 69): 'sedan',\n",
       " ('golf', 98): 'convertible',\n",
       " ('golf', 170): 'sedan',\n",
       " ('golf', 211): 'sedan',\n",
       " ('golf', 66): 'small',\n",
       " ('golf', 140): 'sedan',\n",
       " ('golf', 86): 'sedan',\n",
       " ('golf', 55): 'small',\n",
       " ('golf', 150): 'sedan',\n",
       " ('golf', 111): 'sedan',\n",
       " ('golf', 60): 'sedan',\n",
       " ('golf', 179): 'sedan',\n",
       " ('golf', 116): 'sedan',\n",
       " ('golf', 139): 'sedan',\n",
       " ('golf', 125): 'sedan',\n",
       " ('golf', 104): 'sedan',\n",
       " ('golf', 110): 'sedan',\n",
       " ('golf', 102): 'sedan',\n",
       " ('golf', 100): 'sedan',\n",
       " ('golf', 115): 'sedan',\n",
       " ('golf', 70): 'small',\n",
       " ('golf', 200): 'sedan',\n",
       " ('golf', 230): 'sedan',\n",
       " ('golf', 246): 'sedan',\n",
       " ('golf', 96): 'convertible',\n",
       " ('golf', 174): 'sedan',\n",
       " ('golf', 122): 'sedan',\n",
       " ('golf', 176): 'small',\n",
       " ('golf', 72): 'sedan',\n",
       " ('golf', 120): 'sedan',\n",
       " ('golf', 205): 'sedan',\n",
       " ('golf', 131): 'sedan',\n",
       " ('golf', 160): 'sedan',\n",
       " ('golf', 74): 'sedan',\n",
       " ('golf', 606): 'sedan',\n",
       " ('golf', 266): 'sedan',\n",
       " ('golf', 250): 'sedan',\n",
       " ('golf', 64): 'sedan',\n",
       " ('golf', 272): 'sedan',\n",
       " ('golf', 252): 'coupe',\n",
       " ('golf', 190): 'sedan',\n",
       " ('golf', 204): 'sedan',\n",
       " ('golf', 107): 'sedan',\n",
       " ('golf', 224): 'sedan',\n",
       " ('golf', 65): 'small',\n",
       " ('golf', 185): 'sedan',\n",
       " ('golf', 143): 'sedan',\n",
       " ('golf', 141): 'wagon',\n",
       " ('golf', 411): 'sedan',\n",
       " ('golf', 270): 'sedan',\n",
       " ('golf', 68): 'sedan',\n",
       " ('golf', 260): 'sedan',\n",
       " ('golf', 210): 'sedan',\n",
       " ('golf', 280): 'coupe',\n",
       " ('golf', 95): 'convertible',\n",
       " ('golf', 50): 'small',\n",
       " ('golf', 112): 'convertible',\n",
       " ('golf', 83): 'sedan',\n",
       " ('golf', 79): 'sedan',\n",
       " ('golf', 180): 'sedan',\n",
       " ('golf', 178): 'sedan',\n",
       " ('golf', 300): 'sedan',\n",
       " ('golf', 147): 'sedan',\n",
       " ('golf', 82): 'small',\n",
       " ('golf', 271): 'sedan',\n",
       " ('golf', 152): 'small',\n",
       " ('golf', 85): 'sedan',\n",
       " ('golf', 241): 'sedan',\n",
       " ('golf', 77): 'wagon',\n",
       " ('golf', 206): 'small',\n",
       " ('golf', 71): 'sedan',\n",
       " ('golf', 400): 'coupe',\n",
       " ('golf', 500): 'sedan',\n",
       " ('golf', 129): 'sedan',\n",
       " ('golf', 53): 'small',\n",
       " ('golf', 135): 'sedan',\n",
       " ('golf', 235): 'sedan',\n",
       " ('golf', 130): 'sedan',\n",
       " ('golf', 67): 'small',\n",
       " ('golf', 76): 'small',\n",
       " ('golf', 73): 'small',\n",
       " ('golf', 340): 'sedan',\n",
       " ('golf', 184): 'wagon',\n",
       " ('golf', 256): 'sedan',\n",
       " ('golf', 245): 'sedan',\n",
       " ('golf', 117): 'small',\n",
       " ('golf', 88): 'sedan',\n",
       " ('golf', 257): 'sedan',\n",
       " ('golf', 108): 'wagon',\n",
       " ('golf', 103): 'sedan',\n",
       " ('golf', 106): 'sedan',\n",
       " ('golf', 166): 'sedan',\n",
       " ('golf', 99): 'convertible',\n",
       " ('golf', 97): 'convertible',\n",
       " ('golf', 281): 'sedan',\n",
       " ('golf', 330): 'sedan',\n",
       " ('golf', 320): 'sedan',\n",
       " ('golf', 169): 'coupe',\n",
       " ('golf', 310): 'sedan',\n",
       " ('golf', 226): 'sedan',\n",
       " ('golf', 118): 'small',\n",
       " ('golf', 137): 'sedan',\n",
       " ('golf', 341): 'coupe',\n",
       " ('golf', 173): 'sedan',\n",
       " ('golf', 315): 'sedan',\n",
       " ('golf', 161): 'sedan',\n",
       " ('golf', 258): 'sedan',\n",
       " ('golf', 215): 'sedan',\n",
       " ('golf', 450): 'sedan',\n",
       " ('golf', 45): 'small',\n",
       " ('golf', 52): 'small',\n",
       " ('golf', 489): 'sedan',\n",
       " ('golf', 109): 'sedan',\n",
       " ('golf', 237): 'sedan',\n",
       " ('golf', 490): 'sedan',\n",
       " ('golf', 220): 'sedan',\n",
       " ('golf', 44): 'small',\n",
       " ('golf', 390): 'sedan',\n",
       " ('golf', 550): 'coupe',\n",
       " ('golf', 132): 'sedan',\n",
       " ('golf', 156): 'coupe',\n",
       " ('golf', 379): 'sedan',\n",
       " ('golf', 158): 'convertible',\n",
       " ('golf', 337): 'convertible',\n",
       " ('golf', 81): 'small',\n",
       " ('golf', 149): 'wagon',\n",
       " ('golf', 58): 'sedan',\n",
       " ('golf', 381): 'small',\n",
       " ('golf', 78): 'convertible',\n",
       " ('golf', 222): 'sedan',\n",
       " ('golf', 59): 'sedan',\n",
       " ('golf', 305): 'sedan',\n",
       " ('golf', 144): 'sedan',\n",
       " ('golf', 313): 'sedan',\n",
       " ('golf', 240): 'sedan',\n",
       " ('golf', 171): 'sedan',\n",
       " ('golf', 136): 'convertible',\n",
       " ('golf', 123): 'bus',\n",
       " ('golf', 92): 'small',\n",
       " ('golf', 249): 'small',\n",
       " ('golf', 640): 'coupe',\n",
       " ('golf', 145): 'sedan',\n",
       " ('golf', 63): 'small',\n",
       " ('golf', 175): 'sedan',\n",
       " ('golf', 89): 'sedan',\n",
       " ('golf', 124): 'wagon',\n",
       " ('golf', 328): 'sedan',\n",
       " ('golf', 277): 'sedan',\n",
       " ('golf', 91): 'wagon',\n",
       " ('golf', 163): 'wagon',\n",
       " ('golf', 354): 'coupe',\n",
       " ('golf', 324): 'sedan',\n",
       " ('golf', 61): 'small',\n",
       " ('golf', 213): 'coupe',\n",
       " ('golf', 51): 'small',\n",
       " ('golf', 349): 'sedan',\n",
       " ('golf', 84): 'small',\n",
       " ('golf', 133): 'wagon',\n",
       " ('golf', 317): 'wagon',\n",
       " ('golf', 194): 'sedan',\n",
       " ('golf', 57): 'small',\n",
       " ('golf', 311): 'sedan',\n",
       " ('golf', 603): 'sedan',\n",
       " ('golf', 286): 'sedan',\n",
       " ('golf', 544): 'sedan',\n",
       " ('golf', 290): 'sedan',\n",
       " ('golf', 242): 'sedan',\n",
       " ('golf', 259): 'sedan',\n",
       " ('golf', 360): 'sedan',\n",
       " ('golf', 196): 'sedan',\n",
       " ('golf', 177): 'wagon',\n",
       " ('golf', 303): 'sedan',\n",
       " ('golf', 193): 'sedan',\n",
       " ('golf', 87): 'sedan',\n",
       " ('golf', 40): 'small',\n",
       " ('golf', 365): 'sedan',\n",
       " ('golf', 385): 'coupe',\n",
       " ('golf', 209): 'sedan',\n",
       " ('golf', 307): 'sedan',\n",
       " ('golf', 285): 'sedan',\n",
       " ('golf', 322): 'sedan',\n",
       " ('golf', 134): 'small',\n",
       " ('golf', 192): 'small',\n",
       " ('grand', 163): 'suv',\n",
       " ('grand', 129): 'suv',\n",
       " ('grand', 211): 'suv',\n",
       " ('grand', 174): 'bus',\n",
       " ('grand', 109): 'suv',\n",
       " ('grand', 223): 'suv',\n",
       " ('grand', 250): 'suv',\n",
       " ('grand', 173): 'suv',\n",
       " ('grand', 218): 'suv',\n",
       " ('grand', 220): 'suv',\n",
       " ('grand', 212): 'suv',\n",
       " ('grand', 80): 'suv',\n",
       " ('grand', 426): 'suv',\n",
       " ('grand', 177): 'suv',\n",
       " ('grand', 106): 'suv',\n",
       " ('grand', 166): 'suv',\n",
       " ('grand', 143): 'bus',\n",
       " ('grand', 94): 'suv',\n",
       " ('grand', 158): 'bus',\n",
       " ('grand', 140): 'suv',\n",
       " ('grand', 95): 'suv',\n",
       " ('grand', 128): 'suv',\n",
       " ('grand', 190): 'suv',\n",
       " ('grand', 150): 'bus',\n",
       " ('grand', 184): 'suv',\n",
       " ('grand', 169): 'suv',\n",
       " ('grand', 231): 'bus',\n",
       " ('grand', 144): 'suv',\n",
       " ('grand', 241): 'suv',\n",
       " ('grand', 178): 'bus',\n",
       " ('grand', 326): 'suv',\n",
       " ('grand', 215): 'suv',\n",
       " ('grand', 130): 'suv',\n",
       " ('grand', 116): 'bus',\n",
       " ('grand', 160): 'bus',\n",
       " ('grand', 235): 'suv',\n",
       " ('grand', 87): 'suv',\n",
       " ('grand', 108): 'suv',\n",
       " ('grand', 287): 'bus',\n",
       " ('grand', 96): 'suv',\n",
       " ('grand', 127): 'suv',\n",
       " ('grand', 213): 'suv',\n",
       " ('grand', 141): 'bus',\n",
       " ('grand', 157): 'bus',\n",
       " ('grand', 256): 'bus',\n",
       " ('grand', 170): 'suv',\n",
       " ('grand', 164): 'suv',\n",
       " ('grand', 70): 'small',\n",
       " ('grand', 156): 'bus',\n",
       " ('grand', 258): 'suv',\n",
       " ('grand', 133): 'bus',\n",
       " ('grand', 100): 'suv',\n",
       " ('grand', 182): 'bus',\n",
       " ('grand', 232): 'suv',\n",
       " ('grand', 227): 'suv',\n",
       " ('grand', 200): 'suv',\n",
       " ('grand', 105): 'suv',\n",
       " ('grand', 126): 'suv',\n",
       " ('grand', 264): 'suv',\n",
       " ('fabia', 69): 'wagon',\n",
       " ('fabia', 60): 'small',\n",
       " ('fabia', 75): 'wagon',\n",
       " ('fabia', 110): 'small',\n",
       " ('fabia', 101): 'wagon',\n",
       " ('fabia', 54): 'small',\n",
       " ('fabia', 105): 'wagon',\n",
       " ('fabia', 116): 'wagon',\n",
       " ('fabia', 86): 'wagon',\n",
       " ('fabia', 68): 'small',\n",
       " ('fabia', 50): 'sedan',\n",
       " ('fabia', 64): 'wagon',\n",
       " ('fabia', 70): 'wagon',\n",
       " ('fabia', 100): 'wagon',\n",
       " ('fabia', 120): 'small',\n",
       " ('fabia', 65): 'wagon',\n",
       " ('fabia', 80): 'wagon',\n",
       " ('fabia', 74): 'wagon',\n",
       " ('fabia', 118): 'wagon',\n",
       " ('fabia', 179): 'small',\n",
       " ('fabia', 55): 'small',\n",
       " ('fabia', 102): 'wagon',\n",
       " ('fabia', 90): 'wagon',\n",
       " ('fabia', 131): 'small',\n",
       " ('fabia', 85): 'wagon',\n",
       " ('fabia', 104): 'wagon',\n",
       " ('fabia', 58): 'sedan',\n",
       " ('fabia', 107): 'wagon',\n",
       " ('fabia', 44): 'sedan',\n",
       " ('fabia', 88): 'wagon',\n",
       " ('fabia', 59): 'sedan',\n",
       " ('fabia', 82): 'small',\n",
       " ('fabia', 180): 'sedan',\n",
       " ('fabia', 115): 'wagon',\n",
       " ('fabia', 63): 'wagon',\n",
       " ('fabia', 114): 'small',\n",
       " ('fabia', 130): 'wagon',\n",
       " ('fabia', 47): 'wagon',\n",
       " ('fabia', 51): 'wagon',\n",
       " ('fabia', 83): 'small',\n",
       " ('3er', 102): 'sedan',\n",
       " ('3er', 218): 'sedan',\n",
       " ('3er', 143): 'sedan',\n",
       " ('3er', 163): 'wagon',\n",
       " ('3er', 170): 'sedan',\n",
       " ('3er', 204): 'wagon',\n",
       " ('3er', 231): 'convertible',\n",
       " ('3er', 184): 'wagon',\n",
       " ('3er', 109): 'sedan',\n",
       " ('3er', 177): 'wagon',\n",
       " ('3er', 200): 'sedan',\n",
       " ('3er', 193): 'sedan',\n",
       " ('3er', 150): 'sedan',\n",
       " ('3er', 113): 'sedan',\n",
       " ('3er', 140): 'coupe',\n",
       " ('3er', 99): 'sedan',\n",
       " ('3er', 171): 'sedan',\n",
       " ('3er', 98): 'sedan',\n",
       " ('3er', 129): 'sedan',\n",
       " ('3er', 105): 'sedan',\n",
       " ('3er', 116): 'sedan',\n",
       " ('3er', 136): 'sedan',\n",
       " ('3er', 118): 'sedan',\n",
       " ('3er', 192): 'convertible',\n",
       " ('3er', 141): 'coupe',\n",
       " ('3er', 194): 'wagon',\n",
       " ('3er', 197): 'wagon',\n",
       " ('3er', 115): 'sedan',\n",
       " ('3er', 122): 'sedan',\n",
       " ('3er', 221): 'wagon',\n",
       " ('3er', 101): 'sedan',\n",
       " ('3er', 160): 'coupe',\n",
       " ('3er', 238): 'coupe',\n",
       " ('3er', 100): 'sedan',\n",
       " ('3er', 104): 'sedan',\n",
       " ('3er', 306): 'coupe',\n",
       " ('3er', 148): 'wagon',\n",
       " ('3er', 180): 'sedan',\n",
       " ('3er', 245): 'wagon',\n",
       " ('3er', 156): 'coupe',\n",
       " ('3er', 196): 'convertible',\n",
       " ('3er', 405): 'coupe',\n",
       " ('3er', 219): 'suv',\n",
       " ('3er', 73): 'wagon',\n",
       " ('3er', 87): 'sedan',\n",
       " ('3er', 146): 'convertible',\n",
       " ('3er', 130): 'sedan',\n",
       " ('3er', 240): 'sedan',\n",
       " ('3er', 343): 'convertible',\n",
       " ('3er', 85): 'wagon',\n",
       " ('3er', 232): 'coupe',\n",
       " ('3er', 176): 'sedan',\n",
       " ('3er', 173): 'sedan',\n",
       " ('3er', 258): 'sedan',\n",
       " ('3er', 124): 'sedan',\n",
       " ('3er', 209): 'sedan',\n",
       " ('3er', 284): 'coupe',\n",
       " ('3er', 175): 'convertible',\n",
       " ('3er', 112): 'sedan',\n",
       " ('3er', 272): 'coupe',\n",
       " ('3er', 286): 'coupe',\n",
       " ('3er', 186): 'sedan',\n",
       " ('3er', 216): 'sedan',\n",
       " ('3er', 230): 'convertible',\n",
       " ('3er', 303): 'sedan',\n",
       " ('3er', 158): 'convertible',\n",
       " ('3er', 142): 'sedan',\n",
       " ('3er', 135): 'wagon',\n",
       " ('3er', 144): 'small',\n",
       " ('3er', 206): 'coupe',\n",
       " ('3er', 77): 'sedan',\n",
       " ('3er', 120): 'sedan',\n",
       " ('3er', 172): 'sedan',\n",
       " ('3er', 125): 'sedan',\n",
       " ('3er', 90): 'sedan',\n",
       " ('3er', 110): 'sedan',\n",
       " ('3er', 227): 'wagon',\n",
       " ('3er', 214): 'sedan',\n",
       " ('3er', 147): 'sedan',\n",
       " ('3er', 190): 'sedan',\n",
       " ('3er', 212): 'sedan',\n",
       " ('3er', 162): 'wagon',\n",
       " ('3er', 75): 'sedan',\n",
       " ('3er', 167): 'wagon',\n",
       " ('3er', 185): 'sedan',\n",
       " ('3er', 119): 'sedan',\n",
       " ('3er', 83): 'convertible',\n",
       " ('3er', 103): 'sedan',\n",
       " ('3er', 220): 'wagon',\n",
       " ('3er', 350): 'wagon',\n",
       " ('3er', 114): 'sedan',\n",
       " ('3er', 153): 'coupe',\n",
       " ('3er', 191): 'convertible',\n",
       " ('3er', 215): 'sedan',\n",
       " ('3er', 208): 'sedan',\n",
       " ('3er', 132): 'sedan',\n",
       " ('3er', 210): 'coupe',\n",
       " ('3er', 155): 'convertible',\n",
       " ('3er', 106): 'sedan',\n",
       " ('3er', 270): 'coupe',\n",
       " ('3er', 145): 'sedan',\n",
       " ('3er', 338): 'coupe',\n",
       " ('3er', 250): 'sedan',\n",
       " ('3er', 199): 'coupe',\n",
       " ('3er', 217): 'wagon',\n",
       " ('3er', 178): 'wagon',\n",
       " ('3er', 117): 'sedan',\n",
       " ('3er', 234): 'convertible',\n",
       " ('3er', 315): 'coupe',\n",
       " ('3er', 107): 'sedan',\n",
       " ('3er', 237): 'convertible',\n",
       " ('3er', 211): 'sedan',\n",
       " ('3er', 390): 'coupe',\n",
       " ('3er', 174): 'sedan',\n",
       " ('3er', 126): 'sedan',\n",
       " ('3er', 198): 'coupe',\n",
       " ('3er', 379): 'coupe',\n",
       " ('3er', 95): 'convertible',\n",
       " ('3er', 235): 'sedan',\n",
       " ('3er', 165): 'wagon',\n",
       " ('3er', 320): 'coupe',\n",
       " ('3er', 111): 'small',\n",
       " ('3er', 138): 'sedan',\n",
       " ('3er', 450): 'sedan',\n",
       " ('3er', 280): 'convertible',\n",
       " ('3er', 139): 'convertible',\n",
       " ('3er', 386): 'convertible',\n",
       " ('3er', 300): 'sedan',\n",
       " ('3er', 195): 'wagon',\n",
       " ('3er', 123): 'sedan',\n",
       " ('3er', 84): 'sedan',\n",
       " ('3er', 76): 'sedan',\n",
       " ('3er', 222): 'sedan',\n",
       " ('3er', 277): 'wagon',\n",
       " ('3er', 259): 'coupe',\n",
       " ('3er', 149): 'wagon',\n",
       " ('3er', 260): 'sedan',\n",
       " ('3er', 86): 'sedan',\n",
       " ('3er', 108): 'wagon',\n",
       " ('3er', 326): 'coupe',\n",
       " ('3er', 266): 'coupe',\n",
       " ('3er', 154): 'wagon',\n",
       " ('3er', 134): 'wagon',\n",
       " ('3er', 179): 'wagon',\n",
       " ('3er', 166): 'sedan',\n",
       " ('3er', 340): 'sedan',\n",
       " ('3er', 305): 'convertible',\n",
       " ('3er', 400): 'coupe',\n",
       " ('3er', 92): 'coupe',\n",
       " ('3er', 348): 'sedan',\n",
       " ('3er', 271): 'coupe',\n",
       " ('3er', 281): 'coupe',\n",
       " ('3er', 188): 'sedan',\n",
       " ('3er', 285): 'sedan',\n",
       " ('3er', 157): 'wagon',\n",
       " ('3er', 205): 'sedan',\n",
       " ('3er', 96): 'small',\n",
       " ('3er', 213): 'wagon',\n",
       " ('3er', 321): 'convertible',\n",
       " ('3er', 254): 'wagon',\n",
       " ('3er', 131): 'sedan',\n",
       " ('3er', 241): 'sedan',\n",
       " ('3er', 127): 'wagon',\n",
       " ('3er', 360): 'coupe',\n",
       " ('3er', 133): 'convertible',\n",
       " ('3er', 243): 'other',\n",
       " ('3er', 187): 'sedan',\n",
       " ('3er', 246): 'coupe',\n",
       " ('3er', 152): 'coupe',\n",
       " ('2_reihe', 109): 'convertible',\n",
       " ('2_reihe', 75): 'small',\n",
       " ('2_reihe', 73): 'small',\n",
       " ('2_reihe', 90): 'small',\n",
       " ('2_reihe', 148): 'small',\n",
       " ('2_reihe', 135): 'small',\n",
       " ('2_reihe', 60): 'small',\n",
       " ('2_reihe', 120): 'convertible',\n",
       " ('2_reihe', 92): 'small',\n",
       " ('2_reihe', 88): 'small',\n",
       " ('2_reihe', 95): 'small',\n",
       " ('2_reihe', 102): 'convertible',\n",
       " ('2_reihe', 114): 'small',\n",
       " ('2_reihe', 65): 'small',\n",
       " ('2_reihe', 136): 'convertible',\n",
       " ('2_reihe', 108): 'convertible',\n",
       " ('2_reihe', 55): 'small',\n",
       " ('2_reihe', 130): 'convertible',\n",
       " ('2_reihe', 174): 'small',\n",
       " ('2_reihe', 150): 'convertible',\n",
       " ('2_reihe', 116): 'convertible',\n",
       " ('2_reihe', 82): 'small',\n",
       " ('2_reihe', 110): 'convertible',\n",
       " ('2_reihe', 68): 'small',\n",
       " ('2_reihe', 74): 'small',\n",
       " ('2_reihe', 139): 'convertible',\n",
       " ('2_reihe', 177): 'small',\n",
       " ('2_reihe', 69): 'small',\n",
       " ('2_reihe', 111): 'convertible',\n",
       " ('2_reihe', 140): 'convertible',\n",
       " ('2_reihe', 63): 'small',\n",
       " ('2_reihe', 85): 'sedan',\n",
       " ('2_reihe', 156): 'convertible',\n",
       " ('2_reihe', 72): 'convertible',\n",
       " ('2_reihe', 105): 'convertible',\n",
       " ('2_reihe', 59): 'small',\n",
       " ('2_reihe', 67): 'small',\n",
       " ('2_reihe', 208): 'sedan',\n",
       " ('2_reihe', 115): 'small',\n",
       " ('2_reihe', 94): 'bus',\n",
       " ('2_reihe', 106): 'convertible',\n",
       " ('2_reihe', 70): 'small',\n",
       " ('2_reihe', 155): 'convertible',\n",
       " ('2_reihe', 203): 'small',\n",
       " ('2_reihe', 83): 'small',\n",
       " ('2_reihe', 122): 'wagon',\n",
       " ('2_reihe', 144): 'convertible',\n",
       " ('2_reihe', 100): 'convertible',\n",
       " ('2_reihe', 61): 'small',\n",
       " ('2_reihe', 101): 'convertible',\n",
       " ('2_reihe', 58): 'small',\n",
       " ('2_reihe', 45): 'small',\n",
       " ('2_reihe', 56): 'small',\n",
       " ('2_reihe', 62): 'small',\n",
       " ('2_reihe', 80): 'small',\n",
       " ('2_reihe', 112): 'small',\n",
       " ('2_reihe', 98): 'small',\n",
       " ('2_reihe', 96): 'sedan',\n",
       " ('2_reihe', 50): 'small',\n",
       " ('2_reihe', 54): 'sedan',\n",
       " ('2_reihe', 66): 'small',\n",
       " ('2_reihe', 81): 'small',\n",
       " ('2_reihe', 89): 'small',\n",
       " ('2_reihe', 44): 'small',\n",
       " ('2_reihe', 107): 'convertible',\n",
       " ('2_reihe', 175): 'wagon',\n",
       " ('2_reihe', 104): 'convertible',\n",
       " ('2_reihe', 215): 'convertible',\n",
       " ('2_reihe', 200): 'small',\n",
       " ('2_reihe', 160): 'small',\n",
       " ('2_reihe', 125): 'small',\n",
       " ('2_reihe', 163): 'convertible',\n",
       " ('2_reihe', 84): 'small',\n",
       " ('2_reihe', 149): 'small',\n",
       " ('2_reihe', 49): 'small',\n",
       " ('2_reihe', 138): 'small',\n",
       " ('c_max', 125): 'bus',\n",
       " ('c_max', 136): 'bus',\n",
       " ('c_max', 109): 'bus',\n",
       " ('c_max', 116): 'bus',\n",
       " ('c_max', 115): 'bus',\n",
       " ('c_max', 101): 'bus',\n",
       " ('c_max', 110): 'bus',\n",
       " ('c_max', 108): 'wagon',\n",
       " ('c_max', 182): 'bus',\n",
       " ('c_max', 95): 'bus',\n",
       " ('c_max', 140): 'bus',\n",
       " ('c_max', 145): 'bus',\n",
       " ('c_max', 90): 'bus',\n",
       " ('c_max', 120): 'bus',\n",
       " ('c_max', 100): 'bus',\n",
       " ('c_max', 92): 'bus',\n",
       " ('c_max', 131): 'wagon',\n",
       " ('c_max', 150): 'bus',\n",
       " ('c_max', 105): 'bus',\n",
       " ('c_max', 80): 'bus',\n",
       " ('c_max', 121): 'bus',\n",
       " ('c_max', 106): 'bus',\n",
       " ('c_max', 135): 'bus',\n",
       " ('c_max', 130): 'bus',\n",
       " ('c_max', 122): 'bus',\n",
       " ('c_max', 163): 'bus',\n",
       " ('c_max', 118): 'bus',\n",
       " ('c_max', 148): 'bus',\n",
       " ('c_max', 139): 'bus',\n",
       " ('c_max', 91): 'sedan',\n",
       " ('c_max', 156): 'wagon',\n",
       " ('3_reihe', 105): 'sedan',\n",
       " ('3_reihe', 174): 'sedan',\n",
       " ('3_reihe', 185): 'sedan',\n",
       " ('3_reihe', 88): 'sedan',\n",
       " ('3_reihe', 90): 'wagon',\n",
       " ('3_reihe', 101): 'sedan',\n",
       " ('3_reihe', 81): 'sedan',\n",
       " ('3_reihe', 109): 'sedan',\n",
       " ('3_reihe', 140): 'convertible',\n",
       " ('3_reihe', 60): 'small',\n",
       " ('3_reihe', 98): 'sedan',\n",
       " ('3_reihe', 64): 'wagon',\n",
       " ('3_reihe', 110): 'convertible',\n",
       " ('3_reihe', 84): 'sedan',\n",
       " ('3_reihe', 163): 'convertible',\n",
       " ('3_reihe', 260): 'sedan',\n",
       " ('3_reihe', 150): 'sedan',\n",
       " ('3_reihe', 107): 'wagon',\n",
       " ('3_reihe', 111): 'wagon',\n",
       " ('3_reihe', 121): 'convertible',\n",
       " ('3_reihe', 75): 'sedan',\n",
       " ('3_reihe', 103): 'sedan',\n",
       " ('3_reihe', 44): 'small',\n",
       " ('3_reihe', 120): 'sedan',\n",
       " ('3_reihe', 100): 'wagon',\n",
       " ('3_reihe', 136): 'wagon',\n",
       " ('3_reihe', 114): 'sedan',\n",
       " ('3_reihe', 74): 'small',\n",
       " ('3_reihe', 73): 'sedan',\n",
       " ('3_reihe', 115): 'small',\n",
       " ('3_reihe', 89): 'small',\n",
       " ('3_reihe', 97): 'wagon',\n",
       " ('3_reihe', 143): 'sedan',\n",
       " ('3_reihe', 156): 'convertible',\n",
       " ('3_reihe', 165): 'sedan',\n",
       " ('3_reihe', 200): 'convertible',\n",
       " ('3_reihe', 80): 'wagon',\n",
       " ('3_reihe', 131): 'sedan',\n",
       " ('3_reihe', 72): 'sedan',\n",
       " ('3_reihe', 54): 'small',\n",
       " ('3_reihe', 144): 'coupe',\n",
       " ('3_reihe', 95): 'sedan',\n",
       " ('3_reihe', 92): 'sedan',\n",
       " ('3_reihe', 138): 'wagon',\n",
       " ('3_reihe', 128): 'sedan',\n",
       " ('3_reihe', 130): 'convertible',\n",
       " ('3_reihe', 65): 'coupe',\n",
       " ('3_reihe', 177): 'convertible',\n",
       " ('3_reihe', 132): 'convertible',\n",
       " ('3_reihe', 135): 'convertible',\n",
       " ('3_reihe', 71): 'sedan',\n",
       " ('3_reihe', 68): 'sedan',\n",
       " ('3_reihe', 116): 'sedan',\n",
       " ('3_reihe', 151): 'sedan',\n",
       " ('3_reihe', 94): 'sedan',\n",
       " ('3_reihe', 137): 'sedan',\n",
       " ('3_reihe', 106): 'sedan',\n",
       " ('3_reihe', 69): 'wagon',\n",
       " ('3_reihe', 112): 'wagon',\n",
       " ('3_reihe', 300): 'sedan',\n",
       " ('3_reihe', 277): 'convertible',\n",
       " ('3_reihe', 85): 'sedan',\n",
       " ('3_reihe', 67): 'sedan',\n",
       " ('3_reihe', 428): 'sedan',\n",
       " ('3_reihe', 328): 'sedan',\n",
       " ('3_reihe', 70): 'small',\n",
       " ('3_reihe', 79): 'sedan',\n",
       " ('3_reihe', 99): 'wagon',\n",
       " ('3_reihe', 145): 'sedan',\n",
       " ('3_reihe', 850): 'wagon',\n",
       " ('3_reihe', 83): 'wagon',\n",
       " ('3_reihe', 55): 'sedan',\n",
       " ('3_reihe', 139): 'wagon',\n",
       " ('3_reihe', 82): 'sedan',\n",
       " ('3_reihe', 113): 'wagon',\n",
       " ('3_reihe', 102): 'sedan',\n",
       " ('3_reihe', 86): 'sedan',\n",
       " ('3_reihe', 108): 'sedan',\n",
       " ('3_reihe', 125): 'sedan',\n",
       " ('3_reihe', 235): 'sedan',\n",
       " ('3_reihe', 104): 'sedan',\n",
       " ('3_reihe', 147): 'sedan',\n",
       " ('3_reihe', 119): 'wagon',\n",
       " ('3_reihe', 126): 'convertible',\n",
       " ('3_reihe', 155): 'convertible',\n",
       " ('3_reihe', 149): 'sedan',\n",
       " ('3_reihe', 87): 'coupe',\n",
       " ('3_reihe', 77): 'sedan',\n",
       " ('3_reihe', 198): 'convertible',\n",
       " ('3_reihe', 118): 'wagon',\n",
       " ('3_reihe', 76): 'sedan',\n",
       " ('3_reihe', 170): 'sedan',\n",
       " ('3_reihe', 63): 'small',\n",
       " ('passat', 140): 'wagon',\n",
       " ('passat', 115): 'wagon',\n",
       " ('passat', 131): 'wagon',\n",
       " ('passat', 101): 'wagon',\n",
       " ('passat', 90): 'wagon',\n",
       " ('passat', 150): 'wagon',\n",
       " ('passat', 116): 'wagon',\n",
       " ('passat', 299): 'wagon',\n",
       " ('passat', 193): 'wagon',\n",
       " ('passat', 170): 'wagon',\n",
       " ('passat', 122): 'wagon',\n",
       " ('passat', 136): 'wagon',\n",
       " ('passat', 110): 'wagon',\n",
       " ('passat', 125): 'wagon',\n",
       " ('passat', 180): 'wagon',\n",
       " ('passat', 163): 'wagon',\n",
       " ('passat', 177): 'wagon',\n",
       " ('passat', 130): 'wagon',\n",
       " ('passat', 143): 'wagon',\n",
       " ('passat', 80): 'wagon',\n",
       " ('passat', 184): 'wagon',\n",
       " ('passat', 105): 'wagon',\n",
       " ('passat', 77): 'wagon',\n",
       " ('passat', 74): 'wagon',\n",
       " ('passat', 85): 'wagon',\n",
       " ('passat', 275): 'wagon',\n",
       " ('passat', 179): 'wagon',\n",
       " ('passat', 200): 'wagon',\n",
       " ('passat', 102): 'wagon',\n",
       " ('passat', 126): 'sedan',\n",
       " ('passat', 160): 'wagon',\n",
       " ('passat', 174): 'wagon',\n",
       " ('passat', 173): 'wagon',\n",
       " ('passat', 192): 'sedan',\n",
       " ('passat', 100): 'wagon',\n",
       " ('passat', 89): 'wagon',\n",
       " ('passat', 72): 'sedan',\n",
       " ('passat', 112): 'sedan',\n",
       " ('passat', 75): 'wagon',\n",
       " ('passat', 148): 'sedan',\n",
       " ('passat', 92): 'wagon',\n",
       " ('passat', 401): 'sedan',\n",
       " ('passat', 54): 'wagon',\n",
       " ('passat', 68): 'wagon',\n",
       " ('passat', 109): 'wagon',\n",
       " ('passat', 194): 'wagon',\n",
       " ('passat', 103): 'sedan',\n",
       " ('passat', 190): 'wagon',\n",
       " ('passat', 250): 'sedan',\n",
       " ('passat', 211): 'wagon',\n",
       " ('passat', 120): 'wagon',\n",
       " ('passat', 106): 'sedan',\n",
       " ('passat', 300): 'coupe',\n",
       " ('passat', 96): 'wagon',\n",
       " ('passat', 196): 'wagon',\n",
       " ('passat', 114): 'wagon',\n",
       " ('passat', 69): 'sedan',\n",
       " ('passat', 260): 'wagon',\n",
       " ('passat', 178): 'sedan',\n",
       " ('passat', 121): 'wagon',\n",
       " ('passat', 118): 'sedan',\n",
       " ('passat', 129): 'wagon',\n",
       " ('passat', 79): 'wagon',\n",
       " ('passat', 219): 'coupe',\n",
       " ('passat', 142): 'wagon',\n",
       " ('passat', 107): 'wagon',\n",
       " ('passat', 215): 'sedan',\n",
       " ('passat', 134): 'wagon',\n",
       " ('passat', 146): 'wagon',\n",
       " ('passat', 241): 'wagon',\n",
       " ('passat', 124): 'wagon',\n",
       " ('passat', 197): 'sedan',\n",
       " ('passat', 279): 'sedan',\n",
       " ('passat', 220): 'wagon',\n",
       " ('passat', 86): 'wagon',\n",
       " ('passat', 280): 'sedan',\n",
       " ('passat', 137): 'wagon',\n",
       " ('passat', 104): 'wagon',\n",
       " ('passat', 240): 'wagon',\n",
       " ('passat', 135): 'sedan',\n",
       " ('passat', 169): 'wagon',\n",
       " ('passat', 168): 'sedan',\n",
       " ('passat', 70): 'wagon',\n",
       " ('passat', 153): 'wagon',\n",
       " ('passat', 183): 'wagon',\n",
       " ('passat', 199): 'wagon',\n",
       " ('passat', 95): 'wagon',\n",
       " ('passat', 145): 'wagon',\n",
       " ('passat', 271): 'sedan',\n",
       " ('passat', 117): 'sedan',\n",
       " ('passat', 66): 'wagon',\n",
       " ('passat', 99): 'wagon',\n",
       " ('passat', 161): 'wagon',\n",
       " ('passat', 162): 'wagon',\n",
       " ('passat', 55): 'wagon',\n",
       " ('passat', 239): 'wagon',\n",
       " ('passat', 204): 'wagon',\n",
       " ('passat', 210): 'wagon',\n",
       " ('passat', 175): 'wagon',\n",
       " ('passat', 164): 'wagon',\n",
       " ('passat', 195): 'wagon',\n",
       " ('passat', 98): 'wagon',\n",
       " ('passat', 141): 'wagon',\n",
       " ('passat', 149): 'wagon',\n",
       " ('navara', 190): 'suv',\n",
       " ('navara', 174): 'suv',\n",
       " ('navara', 173): 'suv',\n",
       " ('navara', 171): 'suv',\n",
       " ('navara', 176): 'suv',\n",
       " ('navara', 133): 'suv',\n",
       " ('navara', 103): 'suv',\n",
       " ('navara', 104): 'suv',\n",
       " ('navara', 100): 'suv',\n",
       " ('navara', 179): 'suv',\n",
       " ('navara', 170): 'suv',\n",
       " ('navara', 126): 'suv',\n",
       " ('navara', 198): 'suv',\n",
       " ('polo', 60): 'small',\n",
       " ('polo', 45): 'small',\n",
       " ('polo', 86): 'small',\n",
       " ('polo', 80): 'small',\n",
       " ('polo', 54): 'small',\n",
       " ('polo', 90): 'small',\n",
       " ('polo', 64): 'small',\n",
       " ('polo', 75): 'small',\n",
       " ('polo', 120): 'small',\n",
       " ('polo', 39): 'small',\n",
       " ('polo', 110): 'small',\n",
       " ('polo', 69): 'small',\n",
       " ('polo', 50): 'small',\n",
       " ('polo', 29): 'small',\n",
       " ('polo', 55): 'small',\n",
       " ('polo', 105): 'small',\n",
       " ('polo', 61): 'small',\n",
       " ('polo', 102): 'small',\n",
       " ('polo', 47): 'small',\n",
       " ('polo', 179): 'small',\n",
       " ('polo', 40): 'small',\n",
       " ('polo', 95): 'small',\n",
       " ('polo', 70): 'small',\n",
       " ('polo', 125): 'small',\n",
       " ('polo', 101): 'small',\n",
       " ('polo', 44): 'small',\n",
       " ('polo', 49): 'small',\n",
       " ('polo', 131): 'small',\n",
       " ('polo', 41): 'sedan',\n",
       " ('polo', 52): 'small',\n",
       " ('polo', 150): 'small',\n",
       " ('polo', 124): 'small',\n",
       " ('polo', 113): 'small',\n",
       " ('polo', 192): 'small',\n",
       " ('polo', 65): 'small',\n",
       " ('polo', 160): 'small',\n",
       " ('polo', 165): 'coupe',\n",
       " ('polo', 72): 'sedan',\n",
       " ('polo', 48): 'small',\n",
       " ('polo', 100): 'small',\n",
       " ('polo', 180): 'small',\n",
       " ('polo', 243): 'small',\n",
       " ('polo', 58): 'small',\n",
       " ('polo', 46): 'small',\n",
       " ('polo', 33): 'small',\n",
       " ('polo', 449): 'coupe',\n",
       " ('polo', 62): 'small',\n",
       " ('polo', 66): 'small',\n",
       " ('polo', 88): 'small',\n",
       " ('polo', 63): 'small',\n",
       " ('polo', 170): 'small',\n",
       " ('polo', 200): 'small',\n",
       " ('polo', 56): 'small',\n",
       " ('polo', 51): 'small',\n",
       " ('polo', 148): 'small',\n",
       " ('polo', 145): 'small',\n",
       " ('polo', 68): 'small',\n",
       " ('polo', 81): 'small',\n",
       " ('polo', 74): 'small',\n",
       " ('polo', 85): 'small',\n",
       " ('polo', 77): 'small',\n",
       " ('polo', 115): 'coupe',\n",
       " ('polo', 606): 'coupe',\n",
       " ('polo', 130): 'small',\n",
       " ('polo', 53): 'small',\n",
       " ('polo', 140): 'small',\n",
       " ('polo', 57): 'small',\n",
       " ('polo', 89): 'small',\n",
       " ('polo', 37): 'small',\n",
       " ('polo', 82): 'small',\n",
       " ('polo', 79): 'sedan',\n",
       " ('polo', 59): 'small',\n",
       " ('polo', 601): 'small',\n",
       " ('polo', 272): 'small',\n",
       " ('polo', 78): 'sedan',\n",
       " ('polo', 215): 'small',\n",
       " ('polo', 107): 'small',\n",
       " ('polo', 220): 'small',\n",
       " ('polo', 136): 'small',\n",
       " ('polo', 43): 'small',\n",
       " ('polo', 106): 'small',\n",
       " ('polo', 175): 'small',\n",
       " ('polo', 67): 'small',\n",
       " ('polo', 42): 'small',\n",
       " ('polo', 116): 'small',\n",
       " ('twingo', 75): 'small',\n",
       " ('twingo', 60): 'small',\n",
       " ('twingo', 58): 'small',\n",
       " ('twingo', 54): 'small',\n",
       " ('twingo', 55): 'small',\n",
       " ('twingo', 101): 'small',\n",
       " ('twingo', 46): 'small',\n",
       " ('twingo', 133): 'small',\n",
       " ('twingo', 71): 'small',\n",
       " ('twingo', 45): 'small',\n",
       " ('twingo', 43): 'small',\n",
       " ('twingo', 64): 'small',\n",
       " ('twingo', 76): 'small',\n",
       " ('twingo', 52): 'small',\n",
       " ('twingo', 59): 'small',\n",
       " ('twingo', 50): 'small',\n",
       " ('twingo', 56): 'small',\n",
       " ('twingo', 40): 'small',\n",
       " ('twingo', 53): 'small',\n",
       " ('twingo', 541): 'small',\n",
       " ('twingo', 61): 'small',\n",
       " ('twingo', 102): 'small',\n",
       " ('twingo', 80): 'small',\n",
       " ('twingo', 150): 'small',\n",
       " ('twingo', 86): 'small',\n",
       " ('twingo', 69): 'small',\n",
       " ('twingo', 47): 'small',\n",
       " ('twingo', 90): 'small',\n",
       " ('twingo', 44): 'sedan',\n",
       " ('twingo', 68): 'small',\n",
       " ('twingo', 74): 'small',\n",
       " ('twingo', 57): 'small',\n",
       " ('twingo', 580): 'small',\n",
       " ('twingo', 73): 'small',\n",
       " ('twingo', 34): 'convertible',\n",
       " ('twingo', 65): 'small',\n",
       " ('twingo', 700): 'sedan',\n",
       " ('twingo', 48): 'small',\n",
       " ('twingo', 62): 'small',\n",
       " ('twingo', 70): 'small',\n",
       " ('twingo', 78): 'small',\n",
       " ('twingo', 67): 'small',\n",
       " ('twingo', 51): 'small',\n",
       " ('twingo', 79): 'small',\n",
       " ('twingo', 77): 'small',\n",
       " ('twingo', 72): 'small',\n",
       " ('twingo', 63): 'small',\n",
       " ('twingo', 100): 'small',\n",
       " ('twingo', 84): 'small',\n",
       " ('a_klasse', 102): 'sedan',\n",
       " ('a_klasse', 140): 'sedan',\n",
       " ('a_klasse', 95): 'sedan',\n",
       " ('a_klasse', 122): 'sedan',\n",
       " ('a_klasse', 82): 'sedan',\n",
       " ('a_klasse', 90): 'sedan',\n",
       " ('a_klasse', 111): 'sedan',\n",
       " ('a_klasse', 125): 'sedan',\n",
       " ('a_klasse', 84): 'small',\n",
       " ('a_klasse', 156): 'sedan',\n",
       " ('a_klasse', 80): 'small',\n",
       " ('a_klasse', 116): 'sedan',\n",
       " ('a_klasse', 109): 'sedan',\n",
       " ('a_klasse', 100): 'small',\n",
       " ('a_klasse', 136): 'sedan',\n",
       " ('a_klasse', 60): 'sedan',\n",
       " ('a_klasse', 75): 'sedan',\n",
       " ('a_klasse', 72): 'small',\n",
       " ('a_klasse', 132): 'small',\n",
       " ('a_klasse', 115): 'sedan',\n",
       " ('a_klasse', 106): 'sedan',\n",
       " ('a_klasse', 92): 'small',\n",
       " ('a_klasse', 86): 'small',\n",
       " ('a_klasse', 101): 'small',\n",
       " ('a_klasse', 65): 'small',\n",
       " ('a_klasse', 85): 'small',\n",
       " ('a_klasse', 120): 'small',\n",
       " ('a_klasse', 66): 'small',\n",
       " ('a_klasse', 105): 'small',\n",
       " ('a_klasse', 112): 'sedan',\n",
       " ('a_klasse', 108): 'sedan',\n",
       " ('a_klasse', 55): 'sedan',\n",
       " ('a_klasse', 114): 'sedan',\n",
       " ('a_klasse', 83): 'small',\n",
       " ('a_klasse', 193): 'sedan',\n",
       " ('a_klasse', 81): 'small',\n",
       " ('a_klasse', 119): 'sedan',\n",
       " ('a_klasse', 70): 'small',\n",
       " ('a_klasse', 98): 'sedan',\n",
       " ('a_klasse', 88): 'small',\n",
       " ('a_klasse', 68): 'sedan',\n",
       " ('a_klasse', 110): 'sedan',\n",
       " ('a_klasse', 96): 'sedan',\n",
       " ('a_klasse', 190): 'other',\n",
       " ('a_klasse', 128): 'small',\n",
       " ('a_klasse', 97): 'sedan',\n",
       " ('a_klasse', 103): 'bus',\n",
       " ('a_klasse', 148): 'sedan',\n",
       " ('a_klasse', 129): 'sedan',\n",
       " ('a_klasse', 123): 'sedan',\n",
       " ('a_klasse', 104): 'small',\n",
       " ('a_klasse', 160): 'small',\n",
       " ('a_klasse', 124): 'small',\n",
       " ('a_klasse', 91): 'sedan',\n",
       " ('a_klasse', 117): 'small',\n",
       " ('a_klasse', 50): 'sedan',\n",
       " ('a_klasse', 78): 'small',\n",
       " ('a_klasse', 126): 'sedan',\n",
       " ('a_klasse', 99): 'sedan',\n",
       " ('scirocco', 160): 'coupe',\n",
       " ('scirocco', 122): 'coupe',\n",
       " ('scirocco', 260): 'coupe',\n",
       " ('scirocco', 95): 'coupe',\n",
       " ('scirocco', 90): 'coupe',\n",
       " ('scirocco', 111): 'coupe',\n",
       " ('scirocco', 200): 'coupe',\n",
       " ('scirocco', 265): 'coupe',\n",
       " ('scirocco', 170): 'coupe',\n",
       " ('scirocco', 211): 'coupe',\n",
       " ('scirocco', 140): 'coupe',\n",
       " ('scirocco', 82): 'coupe',\n",
       " ('scirocco', 125): 'coupe',\n",
       " ('scirocco', 161): 'coupe',\n",
       " ('scirocco', 75): 'coupe',\n",
       " ('scirocco', 241): 'coupe',\n",
       " ('scirocco', 310): 'coupe',\n",
       " ('scirocco', 120): 'coupe',\n",
       " ('scirocco', 129): 'coupe',\n",
       " ('scirocco', 190): 'coupe',\n",
       " ('scirocco', 210): 'coupe',\n",
       " ('scirocco', 85): 'coupe',\n",
       " ('scirocco', 96): 'coupe',\n",
       " ('scirocco', 92): 'coupe',\n",
       " ('scirocco', 110): 'convertible',\n",
       " ('scirocco', 139): 'convertible',\n",
       " ('scirocco', 330): 'coupe',\n",
       " ('scirocco', 305): 'coupe',\n",
       " ('scirocco', 299): 'coupe',\n",
       " ('scirocco', 72): 'coupe',\n",
       " ('scirocco', 286): 'coupe',\n",
       " ('scirocco', 168): 'coupe',\n",
       " ...}"
      ]
     },
     "execution_count": 54,
     "metadata": {},
     "output_type": "execute_result"
    }
   ],
   "source": [
    "vehicle"
   ]
  },
  {
   "cell_type": "code",
   "execution_count": 55,
   "metadata": {},
   "outputs": [],
   "source": [
    "def vehicle_filler(data):\n",
    "    for model in data['Model'].unique():\n",
    "        df_model = data[data['Model']==model]\n",
    "        for power in df_model['Power'].unique():\n",
    "            df.loc[df['Model']==model,'VehicleType'] = df.loc[df['Model']==model,'VehicleType'].fillna(value=vehicle[model,power])"
   ]
  },
  {
   "cell_type": "code",
   "execution_count": 56,
   "metadata": {},
   "outputs": [],
   "source": [
    "vehicle_filler(df)"
   ]
  },
  {
   "cell_type": "code",
   "execution_count": 57,
   "metadata": {},
   "outputs": [
    {
     "data": {
      "text/html": [
       "<div>\n",
       "<style scoped>\n",
       "    .dataframe tbody tr th:only-of-type {\n",
       "        vertical-align: middle;\n",
       "    }\n",
       "\n",
       "    .dataframe tbody tr th {\n",
       "        vertical-align: top;\n",
       "    }\n",
       "\n",
       "    .dataframe thead th {\n",
       "        text-align: right;\n",
       "    }\n",
       "</style>\n",
       "<table border=\"1\" class=\"dataframe\">\n",
       "  <thead>\n",
       "    <tr style=\"text-align: right;\">\n",
       "      <th></th>\n",
       "      <th>Price</th>\n",
       "      <th>VehicleType</th>\n",
       "      <th>RegistrationYear</th>\n",
       "      <th>Gearbox</th>\n",
       "      <th>Power</th>\n",
       "      <th>Model</th>\n",
       "      <th>Kilometer</th>\n",
       "      <th>FuelType</th>\n",
       "      <th>Brand</th>\n",
       "      <th>Repaired</th>\n",
       "    </tr>\n",
       "  </thead>\n",
       "  <tbody>\n",
       "    <tr>\n",
       "      <th>0</th>\n",
       "      <td>480</td>\n",
       "      <td>sedan</td>\n",
       "      <td>1993</td>\n",
       "      <td>manual</td>\n",
       "      <td>90</td>\n",
       "      <td>golf</td>\n",
       "      <td>150000</td>\n",
       "      <td>petrol</td>\n",
       "      <td>volkswagen</td>\n",
       "      <td>0</td>\n",
       "    </tr>\n",
       "    <tr>\n",
       "      <th>1</th>\n",
       "      <td>9800</td>\n",
       "      <td>suv</td>\n",
       "      <td>2004</td>\n",
       "      <td>auto</td>\n",
       "      <td>163</td>\n",
       "      <td>grand</td>\n",
       "      <td>125000</td>\n",
       "      <td>gasoline</td>\n",
       "      <td>jeep</td>\n",
       "      <td>0</td>\n",
       "    </tr>\n",
       "    <tr>\n",
       "      <th>2</th>\n",
       "      <td>1500</td>\n",
       "      <td>small</td>\n",
       "      <td>2001</td>\n",
       "      <td>manual</td>\n",
       "      <td>75</td>\n",
       "      <td>golf</td>\n",
       "      <td>150000</td>\n",
       "      <td>petrol</td>\n",
       "      <td>volkswagen</td>\n",
       "      <td>0</td>\n",
       "    </tr>\n",
       "    <tr>\n",
       "      <th>3</th>\n",
       "      <td>3600</td>\n",
       "      <td>small</td>\n",
       "      <td>2008</td>\n",
       "      <td>manual</td>\n",
       "      <td>69</td>\n",
       "      <td>fabia</td>\n",
       "      <td>90000</td>\n",
       "      <td>gasoline</td>\n",
       "      <td>skoda</td>\n",
       "      <td>0</td>\n",
       "    </tr>\n",
       "    <tr>\n",
       "      <th>4</th>\n",
       "      <td>650</td>\n",
       "      <td>sedan</td>\n",
       "      <td>1995</td>\n",
       "      <td>manual</td>\n",
       "      <td>102</td>\n",
       "      <td>3er</td>\n",
       "      <td>150000</td>\n",
       "      <td>petrol</td>\n",
       "      <td>bmw</td>\n",
       "      <td>1</td>\n",
       "    </tr>\n",
       "    <tr>\n",
       "      <th>...</th>\n",
       "      <td>...</td>\n",
       "      <td>...</td>\n",
       "      <td>...</td>\n",
       "      <td>...</td>\n",
       "      <td>...</td>\n",
       "      <td>...</td>\n",
       "      <td>...</td>\n",
       "      <td>...</td>\n",
       "      <td>...</td>\n",
       "      <td>...</td>\n",
       "    </tr>\n",
       "    <tr>\n",
       "      <th>294378</th>\n",
       "      <td>5250</td>\n",
       "      <td>wagon</td>\n",
       "      <td>2016</td>\n",
       "      <td>auto</td>\n",
       "      <td>150</td>\n",
       "      <td>159</td>\n",
       "      <td>150000</td>\n",
       "      <td>petrol</td>\n",
       "      <td>alfa_romeo</td>\n",
       "      <td>0</td>\n",
       "    </tr>\n",
       "    <tr>\n",
       "      <th>294379</th>\n",
       "      <td>3200</td>\n",
       "      <td>sedan</td>\n",
       "      <td>2004</td>\n",
       "      <td>manual</td>\n",
       "      <td>225</td>\n",
       "      <td>leon</td>\n",
       "      <td>150000</td>\n",
       "      <td>petrol</td>\n",
       "      <td>seat</td>\n",
       "      <td>1</td>\n",
       "    </tr>\n",
       "    <tr>\n",
       "      <th>294380</th>\n",
       "      <td>1199</td>\n",
       "      <td>convertible</td>\n",
       "      <td>2000</td>\n",
       "      <td>auto</td>\n",
       "      <td>101</td>\n",
       "      <td>fortwo</td>\n",
       "      <td>125000</td>\n",
       "      <td>petrol</td>\n",
       "      <td>smart</td>\n",
       "      <td>0</td>\n",
       "    </tr>\n",
       "    <tr>\n",
       "      <th>294381</th>\n",
       "      <td>9200</td>\n",
       "      <td>bus</td>\n",
       "      <td>1996</td>\n",
       "      <td>manual</td>\n",
       "      <td>102</td>\n",
       "      <td>transporter</td>\n",
       "      <td>150000</td>\n",
       "      <td>gasoline</td>\n",
       "      <td>volkswagen</td>\n",
       "      <td>0</td>\n",
       "    </tr>\n",
       "    <tr>\n",
       "      <th>294382</th>\n",
       "      <td>3400</td>\n",
       "      <td>wagon</td>\n",
       "      <td>2002</td>\n",
       "      <td>manual</td>\n",
       "      <td>100</td>\n",
       "      <td>golf</td>\n",
       "      <td>150000</td>\n",
       "      <td>gasoline</td>\n",
       "      <td>volkswagen</td>\n",
       "      <td>0</td>\n",
       "    </tr>\n",
       "  </tbody>\n",
       "</table>\n",
       "<p>294383 rows × 10 columns</p>\n",
       "</div>"
      ],
      "text/plain": [
       "        Price  VehicleType  RegistrationYear Gearbox  Power        Model  \\\n",
       "0         480        sedan              1993  manual     90         golf   \n",
       "1        9800          suv              2004    auto    163        grand   \n",
       "2        1500        small              2001  manual     75         golf   \n",
       "3        3600        small              2008  manual     69        fabia   \n",
       "4         650        sedan              1995  manual    102          3er   \n",
       "...       ...          ...               ...     ...    ...          ...   \n",
       "294378   5250        wagon              2016    auto    150          159   \n",
       "294379   3200        sedan              2004  manual    225         leon   \n",
       "294380   1199  convertible              2000    auto    101       fortwo   \n",
       "294381   9200          bus              1996  manual    102  transporter   \n",
       "294382   3400        wagon              2002  manual    100         golf   \n",
       "\n",
       "        Kilometer  FuelType       Brand Repaired  \n",
       "0          150000    petrol  volkswagen        0  \n",
       "1          125000  gasoline        jeep        0  \n",
       "2          150000    petrol  volkswagen        0  \n",
       "3           90000  gasoline       skoda        0  \n",
       "4          150000    petrol         bmw        1  \n",
       "...           ...       ...         ...      ...  \n",
       "294378     150000    petrol  alfa_romeo        0  \n",
       "294379     150000    petrol        seat        1  \n",
       "294380     125000    petrol       smart        0  \n",
       "294381     150000  gasoline  volkswagen        0  \n",
       "294382     150000  gasoline  volkswagen        0  \n",
       "\n",
       "[294383 rows x 10 columns]"
      ]
     },
     "execution_count": 57,
     "metadata": {},
     "output_type": "execute_result"
    }
   ],
   "source": [
    "df"
   ]
  },
  {
   "cell_type": "code",
   "execution_count": 58,
   "metadata": {},
   "outputs": [
    {
     "data": {
      "text/plain": [
       "Price               0.0\n",
       "VehicleType         0.0\n",
       "RegistrationYear    0.0\n",
       "Gearbox             0.0\n",
       "Power               0.0\n",
       "Model               0.0\n",
       "Kilometer           0.0\n",
       "FuelType            0.0\n",
       "Brand               0.0\n",
       "Repaired            0.0\n",
       "dtype: float64"
      ]
     },
     "execution_count": 58,
     "metadata": {},
     "output_type": "execute_result"
    }
   ],
   "source": [
    "df.isna().sum()/df.isna().count()"
   ]
  },
  {
   "cell_type": "markdown",
   "metadata": {},
   "source": [
    "Общий вывод: \n",
    "1. Пропуски в колонке модель были удалены, т.к. по имеющимся данным их сложно восстановить\n",
    "2. Аномальные значения в колонках были удалены\n",
    "3. Пропуски в остальных колонках были восстановлены по имеющимся данным\n",
    "4. Колонки ['DateCrawled','RegistrationMonth','DateCreated','NumberOfPictures','PostalCode','LastSeen'] посчитал не информативными к формированию цены автомобиля, убрал их"
   ]
  },
  {
   "cell_type": "markdown",
   "metadata": {},
   "source": [
    "## Обучение моделей"
   ]
  },
  {
   "cell_type": "markdown",
   "metadata": {},
   "source": [
    "Разделим датасет на признаки и цель, закодируем и отмасшатибируем данные."
   ]
  },
  {
   "cell_type": "code",
   "execution_count": 59,
   "metadata": {
    "scrolled": true
   },
   "outputs": [],
   "source": [
    "df['Repaired'] = df['Repaired'].astype(int)"
   ]
  },
  {
   "cell_type": "code",
   "execution_count": 60,
   "metadata": {},
   "outputs": [],
   "source": [
    "features = df.drop(columns=['Price','Brand'])\n",
    "target = df['Price']"
   ]
  },
  {
   "cell_type": "code",
   "execution_count": 61,
   "metadata": {},
   "outputs": [],
   "source": [
    "X_train, X_other, y_train, y_other = train_test_split(features, target, test_size=0.3, random_state=12345)"
   ]
  },
  {
   "cell_type": "code",
   "execution_count": 62,
   "metadata": {},
   "outputs": [],
   "source": [
    "X_valid, X_test, y_valid, y_test = train_test_split(X_other, y_other, test_size=0.5, random_state=12345)"
   ]
  },
  {
   "cell_type": "code",
   "execution_count": 63,
   "metadata": {},
   "outputs": [],
   "source": [
    "encoder = OrdinalEncoder()\n",
    "cat_columns = ['Model','VehicleType','FuelType','Gearbox']\n",
    "encoder.fit(X_train[cat_columns])\n",
    "\n",
    "features_train_ord = X_train.copy()\n",
    "features_valid_ord = X_valid.copy()\n",
    "features_test_ord = X_test.copy()\n",
    "\n",
    "X_train[cat_columns] = encoder.transform(features_train_ord[cat_columns])\n",
    "X_valid[cat_columns] = encoder.transform(features_valid_ord[cat_columns])\n",
    "X_test[cat_columns] = encoder.transform(features_test_ord[cat_columns])"
   ]
  },
  {
   "cell_type": "markdown",
   "metadata": {},
   "source": [
    "```python\n",
    "# порядковое кодирование\n",
    "encoder = OrdinalEncoder()\n",
    "cat_columns = [список всех категориальных признаков]\n",
    "encoder.fit(features_train[cat_columns])\n",
    "\n",
    "features_train_ord = features_train.copy()\n",
    "features_valid_ord = features_valid.copy()\n",
    "features_test_ord = features_test.copy()\n",
    "\n",
    "features_train_ord[cat_columns] = encoder.transform(features_train_ord[cat_columns])\n",
    "features_valid_ord[cat_columns] = encoder.transform(features_valid_ord[cat_columns])\n",
    "features_test_ord[cat_columns] = encoder.transform(features_test_ord[cat_columns])\n",
    "```"
   ]
  },
  {
   "cell_type": "markdown",
   "metadata": {},
   "source": [
    "LGBMRegressor()"
   ]
  },
  {
   "cell_type": "code",
   "execution_count": 64,
   "metadata": {},
   "outputs": [],
   "source": [
    "train_data = lgb.Dataset(X_train,label=y_train)\n",
    "valid_data = lgb.Dataset(X_valid,label=y_valid)\n",
    "test_data = lgb.Dataset(X_test,label=y_test)"
   ]
  },
  {
   "cell_type": "code",
   "execution_count": 65,
   "metadata": {},
   "outputs": [
    {
     "data": {
      "text/plain": [
       "GridSearchCV(cv=3, estimator=LGBMRegressor(), n_jobs=-1,\n",
       "             param_grid={'learning_rate': [0.1, 0.3, 0.5, 0.7],\n",
       "                         'max_depth': [5, 15]},\n",
       "             scoring='neg_mean_squared_error')"
      ]
     },
     "execution_count": 65,
     "metadata": {},
     "output_type": "execute_result"
    }
   ],
   "source": [
    "param_grid = {'learning_rate': [0.1, 0.3, 0.5, 0.7],\n",
    "              'max_depth': [5,15],\n",
    "             }\n",
    "\n",
    "lgbm = lgb.LGBMRegressor()\n",
    "\n",
    "# инициализируем GridSearchCV\n",
    "grid_search = GridSearchCV(estimator = lgbm, \n",
    "                           param_grid = param_grid, \n",
    "                           cv = 3,\n",
    "                           n_jobs = -1, \n",
    "                           verbose = 0, \n",
    "                           scoring = 'neg_mean_squared_error',\n",
    "                          )\n",
    "grid_search.fit(X_train, y_train)\n"
   ]
  },
  {
   "cell_type": "code",
   "execution_count": 66,
   "metadata": {},
   "outputs": [
    {
     "name": "stdout",
     "output_type": "stream",
     "text": [
      "{'learning_rate': 0.5, 'max_depth': 15}\n"
     ]
    }
   ],
   "source": [
    "print(grid_search.best_params_)"
   ]
  },
  {
   "cell_type": "code",
   "execution_count": 67,
   "metadata": {},
   "outputs": [
    {
     "name": "stdout",
     "output_type": "stream",
     "text": [
      "RMSE: 1676.9970638602153\n"
     ]
    }
   ],
   "source": [
    "print('RMSE:',(abs(grid_search.best_score_))**0.5)"
   ]
  },
  {
   "cell_type": "code",
   "execution_count": 68,
   "metadata": {},
   "outputs": [],
   "source": [
    "model = lgb.LGBMRegressor(learning_rate=0.5,max_depth=15)"
   ]
  },
  {
   "cell_type": "code",
   "execution_count": 69,
   "metadata": {},
   "outputs": [
    {
     "name": "stdout",
     "output_type": "stream",
     "text": [
      "CPU times: total: 3.64 s\n",
      "Wall time: 314 ms\n"
     ]
    },
    {
     "data": {
      "text/plain": [
       "LGBMRegressor(learning_rate=0.5, max_depth=15)"
      ]
     },
     "execution_count": 69,
     "metadata": {},
     "output_type": "execute_result"
    }
   ],
   "source": [
    "%%time\n",
    "model.fit(X_train,y_train)"
   ]
  },
  {
   "cell_type": "code",
   "execution_count": 70,
   "metadata": {},
   "outputs": [],
   "source": [
    "predict = model.predict(X_valid)"
   ]
  },
  {
   "cell_type": "code",
   "execution_count": 71,
   "metadata": {},
   "outputs": [
    {
     "data": {
      "text/plain": [
       "1651.9294599323332"
      ]
     },
     "execution_count": 71,
     "metadata": {},
     "output_type": "execute_result"
    }
   ],
   "source": [
    "mean_squared_error(predict,y_valid)**0.5"
   ]
  },
  {
   "cell_type": "markdown",
   "metadata": {},
   "source": [
    "CatBoostRegressor()"
   ]
  },
  {
   "cell_type": "code",
   "execution_count": 72,
   "metadata": {
    "scrolled": true
   },
   "outputs": [
    {
     "data": {
      "text/plain": [
       "GridSearchCV(cv=3,\n",
       "             estimator=<catboost.core.CatBoostRegressor object at 0x000002026A29CAC0>,\n",
       "             n_jobs=-1,\n",
       "             param_grid={'learning_rate': [0.01, 0.05, 0.1],\n",
       "                         'max_depth': [5, 15]},\n",
       "             scoring='neg_mean_squared_error')"
      ]
     },
     "execution_count": 72,
     "metadata": {},
     "output_type": "execute_result"
    }
   ],
   "source": [
    "param_grid = {'learning_rate': [0.01, 0.05, 0.1],\n",
    "              'max_depth': [5,15],\n",
    "             }\n",
    "\n",
    "cat = catboost.CatBoostRegressor(verbose=False,iterations=100)\n",
    "\n",
    "# инициализируем GridSearchCV\n",
    "grid_search = GridSearchCV(estimator = cat, \n",
    "                           param_grid = param_grid, \n",
    "                           cv = 3,\n",
    "                           n_jobs = -1, \n",
    "                           verbose = 0, \n",
    "                           scoring = 'neg_mean_squared_error',\n",
    "                          )\n",
    "grid_search.fit(X_train, y_train)"
   ]
  },
  {
   "cell_type": "code",
   "execution_count": 73,
   "metadata": {},
   "outputs": [
    {
     "name": "stdout",
     "output_type": "stream",
     "text": [
      "{'learning_rate': 0.1, 'max_depth': 15}\n"
     ]
    }
   ],
   "source": [
    "print(grid_search.best_params_)"
   ]
  },
  {
   "cell_type": "code",
   "execution_count": 74,
   "metadata": {},
   "outputs": [
    {
     "name": "stdout",
     "output_type": "stream",
     "text": [
      "RMSE: 1719.9899107885435\n"
     ]
    }
   ],
   "source": [
    "print('RMSE:',(abs(grid_search.best_score_))**0.5)"
   ]
  },
  {
   "cell_type": "code",
   "execution_count": 75,
   "metadata": {},
   "outputs": [],
   "source": [
    "cat = catboost.CatBoostRegressor(learning_rate = 0.1, max_depth = 15,verbose=False, iterations = 100)"
   ]
  },
  {
   "cell_type": "code",
   "execution_count": 76,
   "metadata": {
    "scrolled": true
   },
   "outputs": [
    {
     "name": "stdout",
     "output_type": "stream",
     "text": [
      "CPU times: total: 37.1 s\n",
      "Wall time: 31.9 s\n"
     ]
    },
    {
     "data": {
      "text/plain": [
       "<catboost.core.CatBoostRegressor at 0x2026a2a2400>"
      ]
     },
     "execution_count": 76,
     "metadata": {},
     "output_type": "execute_result"
    }
   ],
   "source": [
    "%%time\n",
    "cat.fit(X_train,y_train);"
   ]
  },
  {
   "cell_type": "code",
   "execution_count": 77,
   "metadata": {},
   "outputs": [],
   "source": [
    "predict = cat.predict(X_valid)"
   ]
  },
  {
   "cell_type": "code",
   "execution_count": 78,
   "metadata": {},
   "outputs": [
    {
     "data": {
      "text/plain": [
       "1697.444724525254"
      ]
     },
     "execution_count": 78,
     "metadata": {},
     "output_type": "execute_result"
    }
   ],
   "source": [
    "mean_squared_error(predict,y_valid)**0.5"
   ]
  },
  {
   "cell_type": "markdown",
   "metadata": {},
   "source": [
    "LinearRegression()"
   ]
  },
  {
   "cell_type": "code",
   "execution_count": 79,
   "metadata": {},
   "outputs": [],
   "source": [
    "lin = LinearRegression()"
   ]
  },
  {
   "cell_type": "code",
   "execution_count": 80,
   "metadata": {},
   "outputs": [
    {
     "name": "stdout",
     "output_type": "stream",
     "text": [
      "CPU times: total: 15.6 ms\n",
      "Wall time: 29.1 ms\n"
     ]
    },
    {
     "data": {
      "text/plain": [
       "LinearRegression()"
      ]
     },
     "execution_count": 80,
     "metadata": {},
     "output_type": "execute_result"
    }
   ],
   "source": [
    "%%time\n",
    "lin.fit(X_train,y_train)"
   ]
  },
  {
   "cell_type": "code",
   "execution_count": 81,
   "metadata": {},
   "outputs": [],
   "source": [
    "predict = lin.predict(X_valid)"
   ]
  },
  {
   "cell_type": "code",
   "execution_count": 82,
   "metadata": {},
   "outputs": [
    {
     "data": {
      "text/plain": [
       "2923.036004823045"
      ]
     },
     "execution_count": 82,
     "metadata": {},
     "output_type": "execute_result"
    }
   ],
   "source": [
    "mean_squared_error(predict,y_valid)**0.5"
   ]
  },
  {
   "cell_type": "markdown",
   "metadata": {},
   "source": [
    "Вывод: \n",
    "1. Данные были подготовлены для использования (закодированы и масштабированы) \n",
    "2. Было обучено 3 модели (LGBMRegressor,CatBoostRegressor,LinearRegression)\n",
    "3. Были получены удовлетровительные метрики rmse (<2500)"
   ]
  },
  {
   "cell_type": "markdown",
   "metadata": {},
   "source": [
    "## Анализ моделей"
   ]
  },
  {
   "cell_type": "markdown",
   "metadata": {},
   "source": [
    "CatBoostRegressor с подобранным параметром iterations."
   ]
  },
  {
   "cell_type": "code",
   "execution_count": 83,
   "metadata": {},
   "outputs": [],
   "source": [
    "cat_it = catboost.CatBoostRegressor(learning_rate = 0.1, max_depth = 15,verbose=False,iterations = 150)"
   ]
  },
  {
   "cell_type": "markdown",
   "metadata": {},
   "source": [
    "Сравнение времени обучения"
   ]
  },
  {
   "cell_type": "code",
   "execution_count": 84,
   "metadata": {},
   "outputs": [
    {
     "name": "stdout",
     "output_type": "stream",
     "text": [
      "CPU times: total: 31.2 ms\n",
      "Wall time: 21.4 ms\n"
     ]
    },
    {
     "data": {
      "text/plain": [
       "LinearRegression()"
      ]
     },
     "execution_count": 84,
     "metadata": {},
     "output_type": "execute_result"
    }
   ],
   "source": [
    "%%time\n",
    "lin.fit(X_train,y_train)"
   ]
  },
  {
   "cell_type": "code",
   "execution_count": 85,
   "metadata": {},
   "outputs": [
    {
     "name": "stdout",
     "output_type": "stream",
     "text": [
      "CPU times: total: 3.55 s\n",
      "Wall time: 424 ms\n"
     ]
    },
    {
     "data": {
      "text/plain": [
       "LGBMRegressor(learning_rate=0.5, max_depth=15)"
      ]
     },
     "execution_count": 85,
     "metadata": {},
     "output_type": "execute_result"
    }
   ],
   "source": [
    "%%time\n",
    "model.fit(X_train,y_train)"
   ]
  },
  {
   "cell_type": "code",
   "execution_count": 86,
   "metadata": {},
   "outputs": [
    {
     "name": "stdout",
     "output_type": "stream",
     "text": [
      "CPU times: total: 53.8 s\n",
      "Wall time: 48.1 s\n"
     ]
    },
    {
     "data": {
      "text/plain": [
       "<catboost.core.CatBoostRegressor at 0x2026a2b9640>"
      ]
     },
     "execution_count": 86,
     "metadata": {},
     "output_type": "execute_result"
    }
   ],
   "source": [
    "%%time\n",
    "cat_it.fit(X_train,y_train)"
   ]
  },
  {
   "cell_type": "markdown",
   "metadata": {},
   "source": [
    "Сравнение времени предсказания"
   ]
  },
  {
   "cell_type": "code",
   "execution_count": 87,
   "metadata": {},
   "outputs": [
    {
     "name": "stdout",
     "output_type": "stream",
     "text": [
      "CPU times: total: 0 ns\n",
      "Wall time: 0 ns\n"
     ]
    }
   ],
   "source": [
    "%%time\n",
    "l_predict = lin.predict(X_valid)"
   ]
  },
  {
   "cell_type": "code",
   "execution_count": 88,
   "metadata": {},
   "outputs": [
    {
     "name": "stdout",
     "output_type": "stream",
     "text": [
      "CPU times: total: 156 ms\n",
      "Wall time: 26.7 ms\n"
     ]
    }
   ],
   "source": [
    "%%time\n",
    "m_predict = model.predict(X_valid)"
   ]
  },
  {
   "cell_type": "code",
   "execution_count": 89,
   "metadata": {},
   "outputs": [
    {
     "name": "stdout",
     "output_type": "stream",
     "text": [
      "CPU times: total: 172 ms\n",
      "Wall time: 27 ms\n"
     ]
    }
   ],
   "source": [
    "%%time\n",
    "cat_pred = cat_it.predict(X_valid)"
   ]
  },
  {
   "cell_type": "markdown",
   "metadata": {},
   "source": [
    "Сравнение качества моделей"
   ]
  },
  {
   "cell_type": "code",
   "execution_count": 90,
   "metadata": {},
   "outputs": [
    {
     "name": "stdout",
     "output_type": "stream",
     "text": [
      "RMSE LinearRegression: 2923.036004823045\n"
     ]
    }
   ],
   "source": [
    "print('RMSE LinearRegression:',mean_squared_error(l_predict,y_valid)**0.5)"
   ]
  },
  {
   "cell_type": "code",
   "execution_count": 91,
   "metadata": {},
   "outputs": [
    {
     "name": "stdout",
     "output_type": "stream",
     "text": [
      "RMSE LGBMRegressor: 1651.9294599323332\n"
     ]
    }
   ],
   "source": [
    "print('RMSE LGBMRegressor:',mean_squared_error(m_predict,y_valid)**0.5)"
   ]
  },
  {
   "cell_type": "code",
   "execution_count": 92,
   "metadata": {},
   "outputs": [
    {
     "name": "stdout",
     "output_type": "stream",
     "text": [
      "RMSE CatBoostRegressor iterations=150: 1652.3117051447605\n"
     ]
    }
   ],
   "source": [
    "print('RMSE CatBoostRegressor iterations=150:',mean_squared_error(cat_pred,y_valid)**0.5)"
   ]
  },
  {
   "cell_type": "code",
   "execution_count": 93,
   "metadata": {},
   "outputs": [
    {
     "data": {
      "text/html": [
       "<div>\n",
       "<style scoped>\n",
       "    .dataframe tbody tr th:only-of-type {\n",
       "        vertical-align: middle;\n",
       "    }\n",
       "\n",
       "    .dataframe tbody tr th {\n",
       "        vertical-align: top;\n",
       "    }\n",
       "\n",
       "    .dataframe thead th {\n",
       "        text-align: right;\n",
       "    }\n",
       "</style>\n",
       "<table border=\"1\" class=\"dataframe\">\n",
       "  <thead>\n",
       "    <tr style=\"text-align: right;\">\n",
       "      <th></th>\n",
       "      <th>Model</th>\n",
       "      <th>fit time</th>\n",
       "      <th>predict time</th>\n",
       "      <th>RMSE</th>\n",
       "    </tr>\n",
       "  </thead>\n",
       "  <tbody>\n",
       "    <tr>\n",
       "      <th>0</th>\n",
       "      <td>LinearRegression</td>\n",
       "      <td>52.8 ms</td>\n",
       "      <td>3.27 ms</td>\n",
       "      <td>2923</td>\n",
       "    </tr>\n",
       "    <tr>\n",
       "      <th>1</th>\n",
       "      <td>LGBMRegressor</td>\n",
       "      <td>25.5 s</td>\n",
       "      <td>203 ms</td>\n",
       "      <td>1651</td>\n",
       "    </tr>\n",
       "    <tr>\n",
       "      <th>2</th>\n",
       "      <td>CatBoostRegressor</td>\n",
       "      <td>1min 23s</td>\n",
       "      <td>62.7 ms</td>\n",
       "      <td>1652</td>\n",
       "    </tr>\n",
       "  </tbody>\n",
       "</table>\n",
       "</div>"
      ],
      "text/plain": [
       "               Model  fit time predict time  RMSE\n",
       "0   LinearRegression   52.8 ms      3.27 ms  2923\n",
       "1      LGBMRegressor    25.5 s       203 ms  1651\n",
       "2  CatBoostRegressor  1min 23s      62.7 ms  1652"
      ]
     },
     "execution_count": 93,
     "metadata": {},
     "output_type": "execute_result"
    }
   ],
   "source": [
    "pd.DataFrame({'Model' : ['LinearRegression','LGBMRegressor','CatBoostRegressor'],'fit time':\n",
    "             ['52.8 ms','25.5 s','1min 23s'],'predict time':['3.27 ms','203 ms','62.7 ms'],'RMSE':['2923','1651','1652']})"
   ]
  },
  {
   "cell_type": "markdown",
   "metadata": {},
   "source": [
    "## Тестирование лучшей модели"
   ]
  },
  {
   "cell_type": "code",
   "execution_count": 94,
   "metadata": {},
   "outputs": [
    {
     "name": "stdout",
     "output_type": "stream",
     "text": [
      "RMSE LGBMRegressor: 1635.8501503275236\n"
     ]
    }
   ],
   "source": [
    "lgmb_prediction = model.predict(X_test)\n",
    "print('RMSE LGBMRegressor:',mean_squared_error(lgmb_prediction,y_test)**0.5)"
   ]
  },
  {
   "cell_type": "markdown",
   "metadata": {},
   "source": [
    "Вывод: Была выбрана модель LGBMRegressor, т.к. она имела преимущество в скорости обучения и хорошем качестве предсказаний. На тестовых данных модель также показала удовлетворительные результаты."
   ]
  },
  {
   "cell_type": "markdown",
   "metadata": {},
   "source": [
    "Вывод: \n",
    "\n",
    "Лучшие показатели:\n",
    "1. Время обучения - LinearRegression\n",
    "2. Время предсказания - LinearRegression\n",
    "3. Качество предсказания - CatBoostRegressor\n",
    "\n",
    "У модели LinearRegression быстрое обучение и предсказание, но плохое качество, а у CatBoostRegressor наоборот, медленное обучение и предсказание, зато лучшее качество(это во многом определяется параметром iterations).Модель LGBMRegressor имеет качество как у CatBoostRegressor, а также время обучение заметно ниже чем у catboost. Однако же, если подобрать параметр iterations, то можно убедиться в том, что catboost имеет хорошую скорость и качество. Модель LGBMRegressor можно считать лучшей."
   ]
  }
 ],
 "metadata": {
  "ExecuteTimeLog": [
   {
    "duration": 419,
    "start_time": "2023-03-01T10:07:40.129Z"
   },
   {
    "duration": 3056,
    "start_time": "2023-03-01T10:07:57.169Z"
   },
   {
    "duration": 27,
    "start_time": "2023-03-01T10:08:01.209Z"
   },
   {
    "duration": 18,
    "start_time": "2023-03-01T10:08:20.498Z"
   },
   {
    "duration": 146,
    "start_time": "2023-03-01T10:08:27.442Z"
   },
   {
    "duration": 143,
    "start_time": "2023-03-01T10:08:40.674Z"
   },
   {
    "duration": 144,
    "start_time": "2023-03-01T10:09:29.810Z"
   },
   {
    "duration": 295,
    "start_time": "2023-03-01T10:09:43.130Z"
   },
   {
    "duration": 3,
    "start_time": "2023-03-01T10:10:09.202Z"
   },
   {
    "duration": 384,
    "start_time": "2023-03-03T15:25:51.891Z"
   },
   {
    "duration": 3001,
    "start_time": "2023-03-03T15:25:52.303Z"
   },
   {
    "duration": 147,
    "start_time": "2023-03-03T15:25:55.306Z"
   },
   {
    "duration": 275,
    "start_time": "2023-03-03T15:26:08.224Z"
   },
   {
    "duration": 1032,
    "start_time": "2023-03-03T15:26:23.601Z"
   },
   {
    "duration": 763,
    "start_time": "2023-03-03T15:26:27.268Z"
   },
   {
    "duration": 837,
    "start_time": "2023-03-03T15:26:41.636Z"
   },
   {
    "duration": 1545,
    "start_time": "2023-03-03T15:26:53.776Z"
   },
   {
    "duration": 17,
    "start_time": "2023-03-03T15:27:10.072Z"
   },
   {
    "duration": 1044,
    "start_time": "2023-03-03T15:28:18.099Z"
   },
   {
    "duration": 32,
    "start_time": "2023-03-03T15:29:10.020Z"
   },
   {
    "duration": 448,
    "start_time": "2023-03-03T15:29:40.002Z"
   },
   {
    "duration": 442,
    "start_time": "2023-03-03T15:29:46.090Z"
   },
   {
    "duration": 3,
    "start_time": "2023-03-03T15:32:53.987Z"
   },
   {
    "duration": 775,
    "start_time": "2023-03-03T15:32:54.330Z"
   },
   {
    "duration": 21,
    "start_time": "2023-03-03T15:32:55.108Z"
   },
   {
    "duration": 935,
    "start_time": "2023-03-03T15:32:55.141Z"
   },
   {
    "duration": 133,
    "start_time": "2023-03-03T15:32:56.078Z"
   },
   {
    "duration": 275,
    "start_time": "2023-03-03T15:32:56.213Z"
   },
   {
    "duration": 449,
    "start_time": "2023-03-03T15:32:56.490Z"
   },
   {
    "duration": 88,
    "start_time": "2023-03-03T15:34:43.527Z"
   },
   {
    "duration": 28,
    "start_time": "2023-03-03T15:34:51.315Z"
   },
   {
    "duration": 8,
    "start_time": "2023-03-03T15:35:05.322Z"
   },
   {
    "duration": 8,
    "start_time": "2023-03-03T15:35:12.124Z"
   },
   {
    "duration": 3,
    "start_time": "2023-03-03T15:35:31.423Z"
   },
   {
    "duration": 844,
    "start_time": "2023-03-03T15:35:31.614Z"
   },
   {
    "duration": 29,
    "start_time": "2023-03-03T15:35:32.461Z"
   },
   {
    "duration": 1031,
    "start_time": "2023-03-03T15:35:32.492Z"
   },
   {
    "duration": 132,
    "start_time": "2023-03-03T15:35:33.525Z"
   },
   {
    "duration": 268,
    "start_time": "2023-03-03T15:35:33.658Z"
   },
   {
    "duration": 466,
    "start_time": "2023-03-03T15:35:33.928Z"
   },
   {
    "duration": 78,
    "start_time": "2023-03-03T15:35:34.396Z"
   },
   {
    "duration": 0,
    "start_time": "2023-03-03T15:35:34.476Z"
   },
   {
    "duration": 0,
    "start_time": "2023-03-03T15:35:34.477Z"
   },
   {
    "duration": 42,
    "start_time": "2023-03-03T15:35:54.673Z"
   },
   {
    "duration": 8,
    "start_time": "2023-03-03T15:35:55.174Z"
   },
   {
    "duration": 7,
    "start_time": "2023-03-03T15:35:55.839Z"
   },
   {
    "duration": 743,
    "start_time": "2023-03-03T15:35:59.867Z"
   },
   {
    "duration": 95,
    "start_time": "2023-03-03T15:36:11.732Z"
   },
   {
    "duration": 278,
    "start_time": "2023-03-03T15:36:12.020Z"
   },
   {
    "duration": 23,
    "start_time": "2023-03-03T15:36:13.292Z"
   },
   {
    "duration": 82,
    "start_time": "2023-03-03T15:36:41.775Z"
   },
   {
    "duration": 42,
    "start_time": "2023-03-03T15:36:51.381Z"
   },
   {
    "duration": 41,
    "start_time": "2023-03-03T15:37:49.780Z"
   },
   {
    "duration": 69,
    "start_time": "2023-03-03T15:38:07.671Z"
   },
   {
    "duration": 2,
    "start_time": "2023-03-03T15:38:25.128Z"
   },
   {
    "duration": 792,
    "start_time": "2023-03-03T15:38:25.312Z"
   },
   {
    "duration": 35,
    "start_time": "2023-03-03T15:38:26.106Z"
   },
   {
    "duration": 949,
    "start_time": "2023-03-03T15:38:26.143Z"
   },
   {
    "duration": 150,
    "start_time": "2023-03-03T15:38:27.094Z"
   },
   {
    "duration": 430,
    "start_time": "2023-03-03T15:38:27.246Z"
   },
   {
    "duration": 450,
    "start_time": "2023-03-03T15:38:27.678Z"
   },
   {
    "duration": 33,
    "start_time": "2023-03-03T15:38:28.130Z"
   },
   {
    "duration": 48,
    "start_time": "2023-03-03T15:38:28.165Z"
   },
   {
    "duration": 0,
    "start_time": "2023-03-03T15:38:28.215Z"
   },
   {
    "duration": 0,
    "start_time": "2023-03-03T15:38:28.216Z"
   },
   {
    "duration": 110,
    "start_time": "2023-03-03T15:38:59.593Z"
   },
   {
    "duration": 30,
    "start_time": "2023-03-03T15:39:09.569Z"
   },
   {
    "duration": 27,
    "start_time": "2023-03-03T15:39:35.198Z"
   },
   {
    "duration": 371,
    "start_time": "2023-03-03T15:39:50.983Z"
   },
   {
    "duration": 708,
    "start_time": "2023-03-03T15:39:58.832Z"
   },
   {
    "duration": 3,
    "start_time": "2023-03-03T15:40:06.816Z"
   },
   {
    "duration": 871,
    "start_time": "2023-03-03T15:40:07.029Z"
   },
   {
    "duration": 27,
    "start_time": "2023-03-03T15:40:07.902Z"
   },
   {
    "duration": 994,
    "start_time": "2023-03-03T15:40:07.932Z"
   },
   {
    "duration": 139,
    "start_time": "2023-03-03T15:40:08.928Z"
   },
   {
    "duration": 265,
    "start_time": "2023-03-03T15:40:09.069Z"
   },
   {
    "duration": 402,
    "start_time": "2023-03-03T15:40:09.340Z"
   },
   {
    "duration": 4607,
    "start_time": "2023-03-03T15:40:09.744Z"
   },
   {
    "duration": 0,
    "start_time": "2023-03-03T15:40:14.353Z"
   },
   {
    "duration": 6,
    "start_time": "2023-03-03T15:40:20.313Z"
   },
   {
    "duration": 7,
    "start_time": "2023-03-03T15:40:23.672Z"
   },
   {
    "duration": 60,
    "start_time": "2023-03-03T15:40:49.288Z"
   },
   {
    "duration": 30,
    "start_time": "2023-03-03T15:42:43.973Z"
   },
   {
    "duration": 32,
    "start_time": "2023-03-03T15:43:07.033Z"
   },
   {
    "duration": 46,
    "start_time": "2023-03-03T15:43:14.398Z"
   },
   {
    "duration": 43,
    "start_time": "2023-03-03T15:43:31.480Z"
   },
   {
    "duration": 72,
    "start_time": "2023-03-03T15:43:49.293Z"
   },
   {
    "duration": 282,
    "start_time": "2023-03-03T15:43:51.224Z"
   },
   {
    "duration": 250,
    "start_time": "2023-03-03T15:45:28.024Z"
   },
   {
    "duration": 22,
    "start_time": "2023-03-03T15:45:37.302Z"
   },
   {
    "duration": 10,
    "start_time": "2023-03-03T15:46:37.996Z"
   },
   {
    "duration": 50,
    "start_time": "2023-03-03T15:46:45.510Z"
   },
   {
    "duration": 87,
    "start_time": "2023-03-03T15:49:45.983Z"
   },
   {
    "duration": 217,
    "start_time": "2023-03-03T15:49:48.479Z"
   },
   {
    "duration": 224,
    "start_time": "2023-03-03T15:49:51.575Z"
   },
   {
    "duration": 9,
    "start_time": "2023-03-03T15:51:29.225Z"
   },
   {
    "duration": 15,
    "start_time": "2023-03-03T15:51:36.012Z"
   },
   {
    "duration": 24,
    "start_time": "2023-03-03T15:52:19.807Z"
   },
   {
    "duration": 8,
    "start_time": "2023-03-03T15:52:30.267Z"
   },
   {
    "duration": 131,
    "start_time": "2023-03-03T15:52:36.011Z"
   },
   {
    "duration": 150,
    "start_time": "2023-03-03T15:52:52.105Z"
   },
   {
    "duration": 115,
    "start_time": "2023-03-03T15:53:54.783Z"
   },
   {
    "duration": 156,
    "start_time": "2023-03-03T15:54:04.387Z"
   },
   {
    "duration": 150,
    "start_time": "2023-03-03T15:54:51.435Z"
   },
   {
    "duration": 27,
    "start_time": "2023-03-03T15:55:16.220Z"
   },
   {
    "duration": 438,
    "start_time": "2023-03-03T15:55:28.192Z"
   },
   {
    "duration": 135,
    "start_time": "2023-03-03T15:55:36.434Z"
   },
   {
    "duration": 55,
    "start_time": "2023-03-03T15:55:55.993Z"
   },
   {
    "duration": 77,
    "start_time": "2023-03-03T15:56:10.229Z"
   },
   {
    "duration": 25,
    "start_time": "2023-03-03T15:56:28.879Z"
   },
   {
    "duration": 81,
    "start_time": "2023-03-03T15:56:34.233Z"
   },
   {
    "duration": 33,
    "start_time": "2023-03-03T15:57:10.738Z"
   },
   {
    "duration": 142,
    "start_time": "2023-03-03T15:57:52.835Z"
   },
   {
    "duration": 204,
    "start_time": "2023-03-03T15:58:03.529Z"
   },
   {
    "duration": 195,
    "start_time": "2023-03-03T15:58:09.117Z"
   },
   {
    "duration": 30,
    "start_time": "2023-03-03T15:58:22.975Z"
   },
   {
    "duration": 195,
    "start_time": "2023-03-03T15:58:38.801Z"
   },
   {
    "duration": 138,
    "start_time": "2023-03-03T15:59:01.093Z"
   },
   {
    "duration": 154,
    "start_time": "2023-03-03T15:59:09.012Z"
   },
   {
    "duration": 170,
    "start_time": "2023-03-03T15:59:45.088Z"
   },
   {
    "duration": 245,
    "start_time": "2023-03-03T15:59:55.879Z"
   },
   {
    "duration": 197,
    "start_time": "2023-03-03T16:00:25.126Z"
   },
   {
    "duration": 9,
    "start_time": "2023-03-03T16:02:18.378Z"
   },
   {
    "duration": 265,
    "start_time": "2023-03-03T16:02:23.667Z"
   },
   {
    "duration": 36,
    "start_time": "2023-03-03T16:03:22.803Z"
   },
   {
    "duration": 301,
    "start_time": "2023-03-03T16:03:35.218Z"
   },
   {
    "duration": 52,
    "start_time": "2023-03-03T16:04:13.290Z"
   },
   {
    "duration": 41,
    "start_time": "2023-03-03T16:04:28.640Z"
   },
   {
    "duration": 122,
    "start_time": "2023-03-03T16:04:37.680Z"
   },
   {
    "duration": 25,
    "start_time": "2023-03-03T16:05:02.739Z"
   },
   {
    "duration": 26,
    "start_time": "2023-03-03T16:05:18.195Z"
   },
   {
    "duration": 36,
    "start_time": "2023-03-03T16:05:25.291Z"
   },
   {
    "duration": 120,
    "start_time": "2023-03-03T16:05:33.928Z"
   },
   {
    "duration": 33,
    "start_time": "2023-03-03T16:05:52.175Z"
   },
   {
    "duration": 76,
    "start_time": "2023-03-03T16:06:02.206Z"
   },
   {
    "duration": 185,
    "start_time": "2023-03-03T16:06:28.813Z"
   },
   {
    "duration": 12,
    "start_time": "2023-03-03T16:06:58.683Z"
   },
   {
    "duration": 154,
    "start_time": "2023-03-03T16:07:06.691Z"
   },
   {
    "duration": 189,
    "start_time": "2023-03-03T16:07:18.080Z"
   },
   {
    "duration": 467,
    "start_time": "2023-03-03T16:07:47.680Z"
   },
   {
    "duration": 285,
    "start_time": "2023-03-03T16:07:52.534Z"
   },
   {
    "duration": 53,
    "start_time": "2023-03-03T18:10:08.480Z"
   },
   {
    "duration": 451,
    "start_time": "2023-03-03T18:10:13.512Z"
   },
   {
    "duration": 1298,
    "start_time": "2023-03-03T18:10:13.965Z"
   },
   {
    "duration": 29,
    "start_time": "2023-03-03T18:10:15.269Z"
   },
   {
    "duration": 1564,
    "start_time": "2023-03-03T18:10:15.300Z"
   },
   {
    "duration": 174,
    "start_time": "2023-03-03T18:10:16.866Z"
   },
   {
    "duration": 310,
    "start_time": "2023-03-03T18:10:17.045Z"
   },
   {
    "duration": 524,
    "start_time": "2023-03-03T18:10:17.358Z"
   },
   {
    "duration": 103,
    "start_time": "2023-03-03T18:10:17.883Z"
   },
   {
    "duration": 298,
    "start_time": "2023-03-03T18:10:17.990Z"
   },
   {
    "duration": 123,
    "start_time": "2023-03-03T18:10:18.291Z"
   },
   {
    "duration": 496,
    "start_time": "2023-03-03T18:10:34.792Z"
   },
   {
    "duration": 102,
    "start_time": "2023-03-03T18:10:39.351Z"
   },
   {
    "duration": 12,
    "start_time": "2023-03-03T18:11:06.980Z"
   },
   {
    "duration": 102,
    "start_time": "2023-03-03T18:11:11.228Z"
   },
   {
    "duration": 87,
    "start_time": "2023-03-03T18:11:18.920Z"
   },
   {
    "duration": 41,
    "start_time": "2023-03-03T18:11:58.132Z"
   },
   {
    "duration": 113,
    "start_time": "2023-03-03T18:12:06.496Z"
   },
   {
    "duration": 282,
    "start_time": "2023-03-03T18:12:39.492Z"
   },
   {
    "duration": 318,
    "start_time": "2023-03-03T18:12:47.024Z"
   },
   {
    "duration": 276,
    "start_time": "2023-03-03T18:13:30.183Z"
   },
   {
    "duration": 128,
    "start_time": "2023-03-03T18:13:42.479Z"
   },
   {
    "duration": 266,
    "start_time": "2023-03-03T18:14:11.136Z"
   },
   {
    "duration": 106,
    "start_time": "2023-03-03T18:14:33.394Z"
   },
   {
    "duration": 43,
    "start_time": "2023-03-03T18:14:42.654Z"
   },
   {
    "duration": 107,
    "start_time": "2023-03-03T18:14:46.401Z"
   },
   {
    "duration": 223,
    "start_time": "2023-03-03T18:14:55.407Z"
   },
   {
    "duration": 357,
    "start_time": "2023-03-03T18:15:00.381Z"
   },
   {
    "duration": 27,
    "start_time": "2023-03-03T18:15:57.695Z"
   },
   {
    "duration": 141,
    "start_time": "2023-03-03T18:16:05.507Z"
   },
   {
    "duration": 33,
    "start_time": "2023-03-03T18:16:17.884Z"
   },
   {
    "duration": 101,
    "start_time": "2023-03-03T18:16:20.890Z"
   },
   {
    "duration": 97,
    "start_time": "2023-03-03T18:17:07.695Z"
   },
   {
    "duration": 3,
    "start_time": "2023-03-03T18:17:52.931Z"
   },
   {
    "duration": 27,
    "start_time": "2023-03-03T18:18:14.299Z"
   },
   {
    "duration": 356,
    "start_time": "2023-03-03T18:18:20.323Z"
   },
   {
    "duration": 26,
    "start_time": "2023-03-03T18:19:08.723Z"
   },
   {
    "duration": 23,
    "start_time": "2023-03-03T18:19:23.090Z"
   },
   {
    "duration": 73,
    "start_time": "2023-03-03T18:20:06.700Z"
   },
   {
    "duration": 65,
    "start_time": "2023-03-03T18:20:15.920Z"
   },
   {
    "duration": 49,
    "start_time": "2023-03-03T18:20:33.827Z"
   },
   {
    "duration": 35,
    "start_time": "2023-03-03T18:23:21.892Z"
   },
   {
    "duration": 48,
    "start_time": "2023-03-03T18:23:26.123Z"
   },
   {
    "duration": 35,
    "start_time": "2023-03-03T18:23:41.077Z"
   },
   {
    "duration": 41,
    "start_time": "2023-03-03T18:23:44.320Z"
   },
   {
    "duration": 62,
    "start_time": "2023-03-03T18:23:52.616Z"
   },
   {
    "duration": 51,
    "start_time": "2023-03-03T18:23:56.236Z"
   },
   {
    "duration": 45,
    "start_time": "2023-03-03T18:24:01.710Z"
   },
   {
    "duration": 48,
    "start_time": "2023-03-03T18:24:10.424Z"
   },
   {
    "duration": 57,
    "start_time": "2023-03-03T18:24:14.204Z"
   },
   {
    "duration": 6,
    "start_time": "2023-03-03T18:25:03.936Z"
   },
   {
    "duration": 108,
    "start_time": "2023-03-03T18:25:10.892Z"
   },
   {
    "duration": 3,
    "start_time": "2023-03-03T18:25:20.075Z"
   },
   {
    "duration": 8,
    "start_time": "2023-03-03T18:25:22.389Z"
   },
   {
    "duration": 5,
    "start_time": "2023-03-03T18:25:37.387Z"
   },
   {
    "duration": 5,
    "start_time": "2023-03-03T18:25:38.431Z"
   },
   {
    "duration": 8,
    "start_time": "2023-03-03T18:25:47.965Z"
   },
   {
    "duration": 6,
    "start_time": "2023-03-03T18:25:55.448Z"
   },
   {
    "duration": 3,
    "start_time": "2023-03-03T18:26:05.790Z"
   },
   {
    "duration": 6,
    "start_time": "2023-03-03T18:26:06.113Z"
   },
   {
    "duration": 4,
    "start_time": "2023-03-03T18:26:08.090Z"
   },
   {
    "duration": 5,
    "start_time": "2023-03-03T18:26:08.312Z"
   },
   {
    "duration": 3,
    "start_time": "2023-03-03T18:26:10.816Z"
   },
   {
    "duration": 2,
    "start_time": "2023-03-03T18:26:11.200Z"
   },
   {
    "duration": 4,
    "start_time": "2023-03-03T18:26:11.587Z"
   },
   {
    "duration": 1537,
    "start_time": "2023-03-03T18:27:06.133Z"
   },
   {
    "duration": 11415,
    "start_time": "2023-03-03T18:27:29.996Z"
   },
   {
    "duration": 29,
    "start_time": "2023-03-03T18:27:44.088Z"
   },
   {
    "duration": 24,
    "start_time": "2023-03-03T18:28:02.705Z"
   },
   {
    "duration": 13,
    "start_time": "2023-03-03T18:28:32.021Z"
   },
   {
    "duration": 15,
    "start_time": "2023-03-03T18:29:10.608Z"
   },
   {
    "duration": 8,
    "start_time": "2023-03-03T18:29:25.120Z"
   },
   {
    "duration": 7,
    "start_time": "2023-03-03T18:29:31.859Z"
   },
   {
    "duration": 68,
    "start_time": "2023-03-03T18:29:47.999Z"
   },
   {
    "duration": 71,
    "start_time": "2023-03-03T18:30:01.222Z"
   },
   {
    "duration": 72,
    "start_time": "2023-03-03T18:30:13.106Z"
   },
   {
    "duration": 69,
    "start_time": "2023-03-03T18:30:33.179Z"
   },
   {
    "duration": 82,
    "start_time": "2023-03-03T18:30:42.533Z"
   },
   {
    "duration": 5,
    "start_time": "2023-03-03T18:31:03.988Z"
   },
   {
    "duration": 14,
    "start_time": "2023-03-03T18:31:05.816Z"
   },
   {
    "duration": 51,
    "start_time": "2023-03-03T18:31:10.761Z"
   },
   {
    "duration": 9,
    "start_time": "2023-03-03T18:31:51.896Z"
   },
   {
    "duration": 8,
    "start_time": "2023-03-03T18:31:56.879Z"
   },
   {
    "duration": 52,
    "start_time": "2023-03-03T18:32:02.017Z"
   },
   {
    "duration": 407,
    "start_time": "2023-03-04T10:16:23.362Z"
   },
   {
    "duration": 1210,
    "start_time": "2023-03-04T10:16:23.772Z"
   },
   {
    "duration": 27,
    "start_time": "2023-03-04T10:16:24.984Z"
   },
   {
    "duration": 1543,
    "start_time": "2023-03-04T10:16:25.012Z"
   },
   {
    "duration": 158,
    "start_time": "2023-03-04T10:16:26.558Z"
   },
   {
    "duration": 262,
    "start_time": "2023-03-04T10:16:26.718Z"
   },
   {
    "duration": 477,
    "start_time": "2023-03-04T10:16:26.982Z"
   },
   {
    "duration": 99,
    "start_time": "2023-03-04T10:16:27.461Z"
   },
   {
    "duration": 244,
    "start_time": "2023-03-04T10:16:27.562Z"
   },
   {
    "duration": 23,
    "start_time": "2023-03-04T10:16:27.808Z"
   },
   {
    "duration": 84,
    "start_time": "2023-03-04T10:16:27.833Z"
   },
   {
    "duration": 0,
    "start_time": "2023-03-04T10:16:27.919Z"
   },
   {
    "duration": 0,
    "start_time": "2023-03-04T10:16:27.921Z"
   },
   {
    "duration": 0,
    "start_time": "2023-03-04T10:16:27.921Z"
   },
   {
    "duration": 0,
    "start_time": "2023-03-04T10:16:27.923Z"
   },
   {
    "duration": 0,
    "start_time": "2023-03-04T10:16:27.924Z"
   },
   {
    "duration": 9699,
    "start_time": "2023-03-04T10:16:42.753Z"
   },
   {
    "duration": 27,
    "start_time": "2023-03-04T10:16:52.454Z"
   },
   {
    "duration": 70,
    "start_time": "2023-03-04T10:18:07.238Z"
   },
   {
    "duration": 4,
    "start_time": "2023-03-04T10:18:14.906Z"
   },
   {
    "duration": 9107,
    "start_time": "2023-03-04T10:21:44.068Z"
   },
   {
    "duration": 7,
    "start_time": "2023-03-04T10:22:09.489Z"
   },
   {
    "duration": 25,
    "start_time": "2023-03-04T10:22:39.843Z"
   },
   {
    "duration": 3,
    "start_time": "2023-03-04T10:29:38.362Z"
   },
   {
    "duration": 1298,
    "start_time": "2023-03-04T10:29:51.949Z"
   },
   {
    "duration": 4,
    "start_time": "2023-03-04T10:30:31.474Z"
   },
   {
    "duration": 5052,
    "start_time": "2023-03-04T10:30:31.678Z"
   },
   {
    "duration": 121,
    "start_time": "2023-03-04T10:30:48.840Z"
   },
   {
    "duration": 367,
    "start_time": "2023-03-04T10:31:10.081Z"
   },
   {
    "duration": 844,
    "start_time": "2023-03-04T10:31:10.450Z"
   },
   {
    "duration": 27,
    "start_time": "2023-03-04T10:31:11.296Z"
   },
   {
    "duration": 1271,
    "start_time": "2023-03-04T10:31:11.325Z"
   },
   {
    "duration": 143,
    "start_time": "2023-03-04T10:31:12.598Z"
   },
   {
    "duration": 274,
    "start_time": "2023-03-04T10:31:12.748Z"
   },
   {
    "duration": 484,
    "start_time": "2023-03-04T10:31:13.024Z"
   },
   {
    "duration": 99,
    "start_time": "2023-03-04T10:31:13.510Z"
   },
   {
    "duration": 255,
    "start_time": "2023-03-04T10:31:13.610Z"
   },
   {
    "duration": 23,
    "start_time": "2023-03-04T10:31:13.868Z"
   },
   {
    "duration": 9226,
    "start_time": "2023-03-04T10:31:13.893Z"
   },
   {
    "duration": 30,
    "start_time": "2023-03-04T10:31:23.121Z"
   },
   {
    "duration": 11,
    "start_time": "2023-03-04T10:31:23.153Z"
   },
   {
    "duration": 5,
    "start_time": "2023-03-04T10:31:23.166Z"
   },
   {
    "duration": 4983,
    "start_time": "2023-03-04T10:31:23.173Z"
   },
   {
    "duration": 125,
    "start_time": "2023-03-04T10:31:28.158Z"
   },
   {
    "duration": 228,
    "start_time": "2023-03-04T10:31:30.278Z"
   },
   {
    "duration": 18,
    "start_time": "2023-03-04T10:32:22.842Z"
   },
   {
    "duration": 21,
    "start_time": "2023-03-04T10:32:33.561Z"
   },
   {
    "duration": 130,
    "start_time": "2023-03-04T10:33:25.656Z"
   },
   {
    "duration": 3,
    "start_time": "2023-03-04T10:34:34.286Z"
   },
   {
    "duration": 422,
    "start_time": "2023-03-04T10:34:34.772Z"
   },
   {
    "duration": 116,
    "start_time": "2023-03-04T10:34:36.094Z"
   },
   {
    "duration": 3,
    "start_time": "2023-03-04T10:34:41.342Z"
   },
   {
    "duration": 4899,
    "start_time": "2023-03-04T10:34:42.076Z"
   },
   {
    "duration": 116,
    "start_time": "2023-03-04T10:34:46.976Z"
   },
   {
    "duration": 72,
    "start_time": "2023-03-04T10:35:17.451Z"
   },
   {
    "duration": 45,
    "start_time": "2023-03-04T10:35:25.588Z"
   },
   {
    "duration": 37,
    "start_time": "2023-03-04T10:35:41.834Z"
   },
   {
    "duration": 66,
    "start_time": "2023-03-04T10:35:45.483Z"
   },
   {
    "duration": 46,
    "start_time": "2023-03-04T10:36:07.559Z"
   },
   {
    "duration": 68,
    "start_time": "2023-03-04T10:36:19.113Z"
   },
   {
    "duration": 45,
    "start_time": "2023-03-04T10:36:19.826Z"
   },
   {
    "duration": 4,
    "start_time": "2023-03-04T10:36:33.161Z"
   },
   {
    "duration": 441,
    "start_time": "2023-03-04T10:36:34.924Z"
   },
   {
    "duration": 45,
    "start_time": "2023-03-04T10:36:37.579Z"
   },
   {
    "duration": 46,
    "start_time": "2023-03-04T10:36:39.445Z"
   },
   {
    "duration": 88,
    "start_time": "2023-03-04T10:37:15.723Z"
   },
   {
    "duration": 57,
    "start_time": "2023-03-04T10:37:28.251Z"
   },
   {
    "duration": 33,
    "start_time": "2023-03-04T10:37:37.630Z"
   },
   {
    "duration": 3,
    "start_time": "2023-03-04T10:38:22.401Z"
   },
   {
    "duration": 41,
    "start_time": "2023-03-04T10:38:24.192Z"
   },
   {
    "duration": 31,
    "start_time": "2023-03-04T10:38:28.012Z"
   },
   {
    "duration": 22,
    "start_time": "2023-03-04T10:38:29.343Z"
   },
   {
    "duration": 27,
    "start_time": "2023-03-04T10:38:41.031Z"
   },
   {
    "duration": 4,
    "start_time": "2023-03-04T10:39:13.038Z"
   },
   {
    "duration": 1199,
    "start_time": "2023-03-04T10:39:14.666Z"
   },
   {
    "duration": 381,
    "start_time": "2023-03-04T10:39:23.603Z"
   },
   {
    "duration": 865,
    "start_time": "2023-03-04T10:39:23.986Z"
   },
   {
    "duration": 29,
    "start_time": "2023-03-04T10:39:24.853Z"
   },
   {
    "duration": 1321,
    "start_time": "2023-03-04T10:39:24.884Z"
   },
   {
    "duration": 143,
    "start_time": "2023-03-04T10:39:26.206Z"
   },
   {
    "duration": 260,
    "start_time": "2023-03-04T10:39:26.350Z"
   },
   {
    "duration": 474,
    "start_time": "2023-03-04T10:39:26.612Z"
   },
   {
    "duration": 100,
    "start_time": "2023-03-04T10:39:27.087Z"
   },
   {
    "duration": 257,
    "start_time": "2023-03-04T10:39:27.189Z"
   },
   {
    "duration": 22,
    "start_time": "2023-03-04T10:39:27.449Z"
   },
   {
    "duration": 9581,
    "start_time": "2023-03-04T10:39:27.473Z"
   },
   {
    "duration": 26,
    "start_time": "2023-03-04T10:39:37.056Z"
   },
   {
    "duration": 13,
    "start_time": "2023-03-04T10:39:37.084Z"
   },
   {
    "duration": 12,
    "start_time": "2023-03-04T10:39:37.098Z"
   },
   {
    "duration": 1435,
    "start_time": "2023-03-04T10:39:37.112Z"
   },
   {
    "duration": 0,
    "start_time": "2023-03-04T10:39:38.549Z"
   },
   {
    "duration": 0,
    "start_time": "2023-03-04T10:39:38.550Z"
   },
   {
    "duration": 0,
    "start_time": "2023-03-04T10:39:38.551Z"
   },
   {
    "duration": 0,
    "start_time": "2023-03-04T10:39:38.552Z"
   },
   {
    "duration": 3,
    "start_time": "2023-03-04T10:39:58.386Z"
   },
   {
    "duration": 1258,
    "start_time": "2023-03-04T10:39:58.602Z"
   },
   {
    "duration": 1457,
    "start_time": "2023-03-04T10:40:10.662Z"
   },
   {
    "duration": 1282,
    "start_time": "2023-03-04T10:41:28.072Z"
   },
   {
    "duration": 61,
    "start_time": "2023-03-04T10:41:46.323Z"
   },
   {
    "duration": 48,
    "start_time": "2023-03-04T10:41:49.423Z"
   },
   {
    "duration": 441,
    "start_time": "2023-03-04T10:41:58.618Z"
   },
   {
    "duration": 863,
    "start_time": "2023-03-04T10:41:59.061Z"
   },
   {
    "duration": 41,
    "start_time": "2023-03-04T10:41:59.927Z"
   },
   {
    "duration": 1262,
    "start_time": "2023-03-04T10:41:59.971Z"
   },
   {
    "duration": 149,
    "start_time": "2023-03-04T10:42:01.235Z"
   },
   {
    "duration": 274,
    "start_time": "2023-03-04T10:42:01.386Z"
   },
   {
    "duration": 524,
    "start_time": "2023-03-04T10:42:01.662Z"
   },
   {
    "duration": 108,
    "start_time": "2023-03-04T10:42:02.187Z"
   },
   {
    "duration": 256,
    "start_time": "2023-03-04T10:42:02.297Z"
   },
   {
    "duration": 22,
    "start_time": "2023-03-04T10:42:02.555Z"
   },
   {
    "duration": 9862,
    "start_time": "2023-03-04T10:42:02.579Z"
   },
   {
    "duration": 25,
    "start_time": "2023-03-04T10:42:12.443Z"
   },
   {
    "duration": 10,
    "start_time": "2023-03-04T10:42:12.470Z"
   },
   {
    "duration": 5,
    "start_time": "2023-03-04T10:42:12.482Z"
   },
   {
    "duration": 1692,
    "start_time": "2023-03-04T10:42:12.489Z"
   },
   {
    "duration": 0,
    "start_time": "2023-03-04T10:42:14.183Z"
   },
   {
    "duration": 1,
    "start_time": "2023-03-04T10:42:14.184Z"
   },
   {
    "duration": 0,
    "start_time": "2023-03-04T10:42:14.186Z"
   },
   {
    "duration": 0,
    "start_time": "2023-03-04T10:42:14.188Z"
   },
   {
    "duration": 47,
    "start_time": "2023-03-04T10:52:56.301Z"
   },
   {
    "duration": 3,
    "start_time": "2023-03-04T10:53:20.382Z"
   },
   {
    "duration": 9273,
    "start_time": "2023-03-04T10:53:20.670Z"
   },
   {
    "duration": 121,
    "start_time": "2023-03-04T10:53:29.945Z"
   },
   {
    "duration": 47,
    "start_time": "2023-03-04T10:53:58.303Z"
   },
   {
    "duration": 61,
    "start_time": "2023-03-04T10:54:32.380Z"
   },
   {
    "duration": 47,
    "start_time": "2023-03-04T10:54:33.578Z"
   },
   {
    "duration": 399,
    "start_time": "2023-03-04T17:18:41.355Z"
   },
   {
    "duration": 2827,
    "start_time": "2023-03-04T17:18:41.756Z"
   },
   {
    "duration": 27,
    "start_time": "2023-03-04T17:18:44.585Z"
   },
   {
    "duration": 1415,
    "start_time": "2023-03-04T17:18:44.613Z"
   },
   {
    "duration": 128,
    "start_time": "2023-03-04T17:18:46.031Z"
   },
   {
    "duration": 214,
    "start_time": "2023-03-04T17:18:46.160Z"
   },
   {
    "duration": 467,
    "start_time": "2023-03-04T17:18:46.376Z"
   },
   {
    "duration": 98,
    "start_time": "2023-03-04T17:18:46.845Z"
   },
   {
    "duration": 218,
    "start_time": "2023-03-04T17:18:46.945Z"
   },
   {
    "duration": 22,
    "start_time": "2023-03-04T17:18:47.165Z"
   },
   {
    "duration": 8957,
    "start_time": "2023-03-04T17:18:47.190Z"
   },
   {
    "duration": 23,
    "start_time": "2023-03-04T17:18:56.149Z"
   },
   {
    "duration": 47,
    "start_time": "2023-03-04T17:18:56.173Z"
   },
   {
    "duration": 3,
    "start_time": "2023-03-04T17:18:56.222Z"
   },
   {
    "duration": 8603,
    "start_time": "2023-03-04T17:18:56.227Z"
   },
   {
    "duration": 100,
    "start_time": "2023-03-04T17:19:04.832Z"
   },
   {
    "duration": 72,
    "start_time": "2023-03-04T17:19:04.934Z"
   },
   {
    "duration": 66,
    "start_time": "2023-03-04T17:19:05.008Z"
   },
   {
    "duration": 146,
    "start_time": "2023-03-04T17:19:05.076Z"
   },
   {
    "duration": 26,
    "start_time": "2023-03-04T17:19:18.018Z"
   },
   {
    "duration": 365,
    "start_time": "2023-03-04T17:20:08.306Z"
   },
   {
    "duration": 786,
    "start_time": "2023-03-04T17:20:08.673Z"
   },
   {
    "duration": 27,
    "start_time": "2023-03-04T17:20:09.461Z"
   },
   {
    "duration": 1345,
    "start_time": "2023-03-04T17:20:09.489Z"
   },
   {
    "duration": 153,
    "start_time": "2023-03-04T17:20:10.836Z"
   },
   {
    "duration": 238,
    "start_time": "2023-03-04T17:20:10.991Z"
   },
   {
    "duration": 514,
    "start_time": "2023-03-04T17:20:11.231Z"
   },
   {
    "duration": 87,
    "start_time": "2023-03-04T17:20:11.747Z"
   },
   {
    "duration": 209,
    "start_time": "2023-03-04T17:20:11.836Z"
   },
   {
    "duration": 25,
    "start_time": "2023-03-04T17:20:12.047Z"
   },
   {
    "duration": 8989,
    "start_time": "2023-03-04T17:20:12.074Z"
   },
   {
    "duration": 23,
    "start_time": "2023-03-04T17:20:21.065Z"
   },
   {
    "duration": 10,
    "start_time": "2023-03-04T17:20:21.090Z"
   },
   {
    "duration": 7,
    "start_time": "2023-03-04T17:20:21.102Z"
   },
   {
    "duration": 8443,
    "start_time": "2023-03-04T17:20:21.110Z"
   },
   {
    "duration": 89,
    "start_time": "2023-03-04T17:20:29.554Z"
   },
   {
    "duration": 69,
    "start_time": "2023-03-04T17:20:29.645Z"
   },
   {
    "duration": 72,
    "start_time": "2023-03-04T17:20:29.716Z"
   },
   {
    "duration": 16,
    "start_time": "2023-03-04T17:20:29.789Z"
   },
   {
    "duration": 21,
    "start_time": "2023-03-04T17:20:29.806Z"
   },
   {
    "duration": 18,
    "start_time": "2023-03-04T17:21:10.750Z"
   },
   {
    "duration": 37,
    "start_time": "2023-03-04T17:21:11.933Z"
   },
   {
    "duration": 21,
    "start_time": "2023-03-04T17:21:35.329Z"
   },
   {
    "duration": 44,
    "start_time": "2023-03-04T17:21:42.319Z"
   },
   {
    "duration": 54,
    "start_time": "2023-03-04T17:22:55.965Z"
   },
   {
    "duration": 44,
    "start_time": "2023-03-04T17:23:05.516Z"
   },
   {
    "duration": 23,
    "start_time": "2023-03-04T17:24:00.906Z"
   },
   {
    "duration": 24,
    "start_time": "2023-03-04T17:24:25.090Z"
   },
   {
    "duration": 4,
    "start_time": "2023-03-04T17:25:52.020Z"
   },
   {
    "duration": 8585,
    "start_time": "2023-03-04T17:25:52.904Z"
   },
   {
    "duration": 96,
    "start_time": "2023-03-04T17:26:01.491Z"
   },
   {
    "duration": 381,
    "start_time": "2023-03-04T17:26:19.477Z"
   },
   {
    "duration": 846,
    "start_time": "2023-03-04T17:26:19.860Z"
   },
   {
    "duration": 28,
    "start_time": "2023-03-04T17:26:20.707Z"
   },
   {
    "duration": 1242,
    "start_time": "2023-03-04T17:26:20.736Z"
   },
   {
    "duration": 126,
    "start_time": "2023-03-04T17:26:21.980Z"
   },
   {
    "duration": 212,
    "start_time": "2023-03-04T17:26:22.107Z"
   },
   {
    "duration": 439,
    "start_time": "2023-03-04T17:26:22.320Z"
   },
   {
    "duration": 84,
    "start_time": "2023-03-04T17:26:22.760Z"
   },
   {
    "duration": 211,
    "start_time": "2023-03-04T17:26:22.846Z"
   },
   {
    "duration": 28,
    "start_time": "2023-03-04T17:26:23.059Z"
   },
   {
    "duration": 8308,
    "start_time": "2023-03-04T17:26:23.089Z"
   },
   {
    "duration": 29,
    "start_time": "2023-03-04T17:26:31.399Z"
   },
   {
    "duration": 53,
    "start_time": "2023-03-04T17:26:31.430Z"
   },
   {
    "duration": 36,
    "start_time": "2023-03-04T17:26:31.486Z"
   },
   {
    "duration": 8600,
    "start_time": "2023-03-04T17:26:31.524Z"
   },
   {
    "duration": 128,
    "start_time": "2023-03-04T17:26:40.126Z"
   },
   {
    "duration": 76,
    "start_time": "2023-03-05T10:52:54.565Z"
   },
   {
    "duration": 397,
    "start_time": "2023-03-05T10:53:01.385Z"
   },
   {
    "duration": 3011,
    "start_time": "2023-03-05T10:53:01.784Z"
   },
   {
    "duration": 38,
    "start_time": "2023-03-05T10:53:04.798Z"
   },
   {
    "duration": 32,
    "start_time": "2023-03-05T10:53:05.991Z"
   },
   {
    "duration": 28,
    "start_time": "2023-03-05T10:53:19.129Z"
   },
   {
    "duration": 998,
    "start_time": "2023-03-05T10:54:24.680Z"
   },
   {
    "duration": 999,
    "start_time": "2023-03-05T10:54:44.616Z"
   },
   {
    "duration": 4,
    "start_time": "2023-03-05T10:55:08.834Z"
   },
   {
    "duration": 36,
    "start_time": "2023-03-05T10:57:02.628Z"
   },
   {
    "duration": 1063,
    "start_time": "2023-03-05T10:57:23.592Z"
   },
   {
    "duration": 318,
    "start_time": "2023-03-05T10:57:33.419Z"
   },
   {
    "duration": 3,
    "start_time": "2023-03-05T10:58:16.791Z"
   },
   {
    "duration": 766,
    "start_time": "2023-03-05T10:58:17.278Z"
   },
   {
    "duration": 22,
    "start_time": "2023-03-05T10:58:18.046Z"
   },
   {
    "duration": 22,
    "start_time": "2023-03-05T10:58:18.069Z"
   },
   {
    "duration": 16,
    "start_time": "2023-03-05T10:58:18.718Z"
   },
   {
    "duration": 320,
    "start_time": "2023-03-05T10:58:20.018Z"
   },
   {
    "duration": 7,
    "start_time": "2023-03-05T10:58:27.205Z"
   },
   {
    "duration": 747,
    "start_time": "2023-03-05T10:59:11.488Z"
   },
   {
    "duration": 1080,
    "start_time": "2023-03-05T10:59:23.768Z"
   },
   {
    "duration": 1145,
    "start_time": "2023-03-05T10:59:43.505Z"
   },
   {
    "duration": 1192,
    "start_time": "2023-03-05T11:00:03.207Z"
   },
   {
    "duration": 1205,
    "start_time": "2023-03-05T11:00:07.734Z"
   },
   {
    "duration": 6471,
    "start_time": "2023-03-05T11:00:22.905Z"
   },
   {
    "duration": 184,
    "start_time": "2023-03-05T11:00:53.359Z"
   },
   {
    "duration": 161,
    "start_time": "2023-03-05T11:01:03.334Z"
   },
   {
    "duration": 311,
    "start_time": "2023-03-05T11:01:15.380Z"
   },
   {
    "duration": 282,
    "start_time": "2023-03-05T11:01:56.095Z"
   },
   {
    "duration": 250,
    "start_time": "2023-03-05T11:02:36.295Z"
   },
   {
    "duration": 261,
    "start_time": "2023-03-05T11:19:08.233Z"
   },
   {
    "duration": 302,
    "start_time": "2023-03-05T11:19:17.706Z"
   },
   {
    "duration": 33,
    "start_time": "2023-03-05T11:20:02.668Z"
   },
   {
    "duration": 14,
    "start_time": "2023-03-05T11:20:08.494Z"
   },
   {
    "duration": 15,
    "start_time": "2023-03-05T11:20:19.838Z"
   },
   {
    "duration": 13,
    "start_time": "2023-03-05T11:20:27.545Z"
   },
   {
    "duration": 16,
    "start_time": "2023-03-05T11:20:50.241Z"
   },
   {
    "duration": 38,
    "start_time": "2023-03-05T11:21:13.934Z"
   },
   {
    "duration": 38,
    "start_time": "2023-03-05T11:21:19.604Z"
   },
   {
    "duration": 10,
    "start_time": "2023-03-05T11:21:23.799Z"
   },
   {
    "duration": 9,
    "start_time": "2023-03-05T11:21:39.910Z"
   },
   {
    "duration": 11,
    "start_time": "2023-03-05T11:21:53.086Z"
   },
   {
    "duration": 9,
    "start_time": "2023-03-05T11:21:57.871Z"
   },
   {
    "duration": 14,
    "start_time": "2023-03-05T11:22:25.716Z"
   },
   {
    "duration": 9,
    "start_time": "2023-03-05T11:22:48.578Z"
   },
   {
    "duration": 24,
    "start_time": "2023-03-05T11:22:59.795Z"
   },
   {
    "duration": 76,
    "start_time": "2023-03-05T11:23:04.592Z"
   },
   {
    "duration": 161,
    "start_time": "2023-03-05T11:23:49.534Z"
   },
   {
    "duration": 261,
    "start_time": "2023-03-05T11:24:00.591Z"
   },
   {
    "duration": 1587,
    "start_time": "2023-03-05T11:24:11.258Z"
   },
   {
    "duration": 260,
    "start_time": "2023-03-05T11:24:15.786Z"
   },
   {
    "duration": 296,
    "start_time": "2023-03-05T11:24:37.722Z"
   },
   {
    "duration": 46,
    "start_time": "2023-03-05T11:25:29.833Z"
   },
   {
    "duration": 587,
    "start_time": "2023-03-05T11:25:39.782Z"
   },
   {
    "duration": 7,
    "start_time": "2023-03-05T11:26:00.598Z"
   },
   {
    "duration": 4,
    "start_time": "2023-03-05T11:26:09.307Z"
   },
   {
    "duration": 5,
    "start_time": "2023-03-05T11:26:18.112Z"
   },
   {
    "duration": 9,
    "start_time": "2023-03-05T11:26:22.585Z"
   },
   {
    "duration": 5,
    "start_time": "2023-03-05T11:26:30.399Z"
   },
   {
    "duration": 6,
    "start_time": "2023-03-05T11:26:35.093Z"
   },
   {
    "duration": 6,
    "start_time": "2023-03-05T11:26:40.316Z"
   },
   {
    "duration": 6,
    "start_time": "2023-03-05T11:27:06.781Z"
   },
   {
    "duration": 8,
    "start_time": "2023-03-05T11:27:14.981Z"
   },
   {
    "duration": 8,
    "start_time": "2023-03-05T11:27:20.759Z"
   },
   {
    "duration": 9,
    "start_time": "2023-03-05T11:27:30.126Z"
   },
   {
    "duration": 8,
    "start_time": "2023-03-05T11:27:32.634Z"
   },
   {
    "duration": 9,
    "start_time": "2023-03-05T11:27:35.499Z"
   },
   {
    "duration": 6,
    "start_time": "2023-03-05T11:27:48.605Z"
   },
   {
    "duration": 5,
    "start_time": "2023-03-05T11:28:49.788Z"
   },
   {
    "duration": 5,
    "start_time": "2023-03-05T11:28:52.436Z"
   },
   {
    "duration": 10,
    "start_time": "2023-03-05T11:28:58.798Z"
   },
   {
    "duration": 30,
    "start_time": "2023-03-05T11:29:16.501Z"
   },
   {
    "duration": 18,
    "start_time": "2023-03-05T11:32:40.597Z"
   },
   {
    "duration": 6,
    "start_time": "2023-03-05T11:32:47.796Z"
   },
   {
    "duration": 6,
    "start_time": "2023-03-05T11:33:03.292Z"
   },
   {
    "duration": 8,
    "start_time": "2023-03-05T11:33:13.534Z"
   },
   {
    "duration": 8,
    "start_time": "2023-03-05T11:33:27.318Z"
   },
   {
    "duration": 9,
    "start_time": "2023-03-05T11:33:32.398Z"
   },
   {
    "duration": 8,
    "start_time": "2023-03-05T11:33:36.487Z"
   },
   {
    "duration": 8,
    "start_time": "2023-03-05T11:34:26.701Z"
   },
   {
    "duration": 31,
    "start_time": "2023-03-05T11:35:18.899Z"
   },
   {
    "duration": 49,
    "start_time": "2023-03-05T11:35:41.083Z"
   },
   {
    "duration": 28,
    "start_time": "2023-03-05T11:35:46.983Z"
   },
   {
    "duration": 70,
    "start_time": "2023-03-05T11:35:52.183Z"
   },
   {
    "duration": 167,
    "start_time": "2023-03-05T11:36:27.095Z"
   },
   {
    "duration": 146,
    "start_time": "2023-03-05T11:36:30.846Z"
   },
   {
    "duration": 269,
    "start_time": "2023-03-05T11:36:39.499Z"
   },
   {
    "duration": 238,
    "start_time": "2023-03-05T11:37:15.625Z"
   },
   {
    "duration": 253,
    "start_time": "2023-03-05T11:37:19.490Z"
   },
   {
    "duration": 256,
    "start_time": "2023-03-05T11:37:25.902Z"
   },
   {
    "duration": 231,
    "start_time": "2023-03-05T11:37:32.211Z"
   },
   {
    "duration": 239,
    "start_time": "2023-03-05T11:37:37.572Z"
   },
   {
    "duration": 21,
    "start_time": "2023-03-05T11:38:38.840Z"
   },
   {
    "duration": 10,
    "start_time": "2023-03-05T11:38:44.903Z"
   },
   {
    "duration": 11,
    "start_time": "2023-03-05T11:38:56.906Z"
   },
   {
    "duration": 10,
    "start_time": "2023-03-05T11:39:02.645Z"
   },
   {
    "duration": 10,
    "start_time": "2023-03-05T11:39:28.435Z"
   },
   {
    "duration": 11,
    "start_time": "2023-03-05T11:39:35.694Z"
   },
   {
    "duration": 10,
    "start_time": "2023-03-05T11:39:41.841Z"
   },
   {
    "duration": 21,
    "start_time": "2023-03-05T11:39:55.282Z"
   },
   {
    "duration": 41,
    "start_time": "2023-03-05T11:40:42.901Z"
   },
   {
    "duration": 42,
    "start_time": "2023-03-05T11:41:12.800Z"
   },
   {
    "duration": 6,
    "start_time": "2023-03-05T12:27:15.666Z"
   },
   {
    "duration": 8,
    "start_time": "2023-03-05T12:27:20.722Z"
   },
   {
    "duration": 33,
    "start_time": "2023-03-05T12:27:27.884Z"
   },
   {
    "duration": 37,
    "start_time": "2023-03-05T12:28:08.718Z"
   },
   {
    "duration": 27,
    "start_time": "2023-03-05T12:28:28.158Z"
   },
   {
    "duration": 320,
    "start_time": "2023-03-05T12:28:34.146Z"
   },
   {
    "duration": 79,
    "start_time": "2023-03-05T12:29:23.250Z"
   },
   {
    "duration": 2,
    "start_time": "2023-03-05T12:29:32.768Z"
   },
   {
    "duration": 760,
    "start_time": "2023-03-05T12:29:32.966Z"
   },
   {
    "duration": 21,
    "start_time": "2023-03-05T12:29:33.728Z"
   },
   {
    "duration": 24,
    "start_time": "2023-03-05T12:29:33.751Z"
   },
   {
    "duration": 67,
    "start_time": "2023-03-05T12:29:33.778Z"
   },
   {
    "duration": 21,
    "start_time": "2023-03-05T12:29:33.847Z"
   },
   {
    "duration": 371,
    "start_time": "2023-03-05T12:29:33.966Z"
   },
   {
    "duration": 270,
    "start_time": "2023-03-05T12:29:34.339Z"
   },
   {
    "duration": 14,
    "start_time": "2023-03-05T12:29:34.611Z"
   },
   {
    "duration": 20,
    "start_time": "2023-03-05T12:29:34.668Z"
   },
   {
    "duration": 241,
    "start_time": "2023-03-05T12:29:34.872Z"
   },
   {
    "duration": 34,
    "start_time": "2023-03-05T12:29:35.115Z"
   },
   {
    "duration": 7,
    "start_time": "2023-03-05T12:29:35.292Z"
   },
   {
    "duration": 45,
    "start_time": "2023-03-05T12:29:36.108Z"
   },
   {
    "duration": 29,
    "start_time": "2023-03-05T12:29:36.333Z"
   },
   {
    "duration": 265,
    "start_time": "2023-03-05T12:29:36.605Z"
   },
   {
    "duration": 255,
    "start_time": "2023-03-05T12:29:37.011Z"
   },
   {
    "duration": 11,
    "start_time": "2023-03-05T12:29:37.868Z"
   },
   {
    "duration": 29,
    "start_time": "2023-03-05T12:29:39.368Z"
   },
   {
    "duration": 47,
    "start_time": "2023-03-05T12:29:39.727Z"
   },
   {
    "duration": 40,
    "start_time": "2023-03-05T12:29:40.481Z"
   },
   {
    "duration": 3,
    "start_time": "2023-03-05T12:29:40.900Z"
   },
   {
    "duration": 75,
    "start_time": "2023-03-05T12:29:43.017Z"
   },
   {
    "duration": 39,
    "start_time": "2023-03-05T12:30:34.340Z"
   },
   {
    "duration": 28,
    "start_time": "2023-03-05T12:33:22.266Z"
   },
   {
    "duration": 23,
    "start_time": "2023-03-05T12:33:57.506Z"
   },
   {
    "duration": 31,
    "start_time": "2023-03-05T12:34:03.492Z"
   },
   {
    "duration": 9,
    "start_time": "2023-03-05T12:51:44.434Z"
   },
   {
    "duration": 36,
    "start_time": "2023-03-05T12:51:51.098Z"
   },
   {
    "duration": 27,
    "start_time": "2023-03-05T12:51:57.275Z"
   },
   {
    "duration": 35,
    "start_time": "2023-03-05T12:52:09.927Z"
   },
   {
    "duration": 35,
    "start_time": "2023-03-05T12:52:41.075Z"
   },
   {
    "duration": 793,
    "start_time": "2023-03-05T12:52:53.380Z"
   },
   {
    "duration": 32,
    "start_time": "2023-03-05T12:53:03.595Z"
   },
   {
    "duration": 26,
    "start_time": "2023-03-05T12:53:09.047Z"
   },
   {
    "duration": 86,
    "start_time": "2023-03-05T12:53:58.218Z"
   },
   {
    "duration": 81,
    "start_time": "2023-03-05T12:54:19.935Z"
   },
   {
    "duration": 70,
    "start_time": "2023-03-05T12:54:56.478Z"
   },
   {
    "duration": 65,
    "start_time": "2023-03-05T12:55:11.039Z"
   },
   {
    "duration": 61,
    "start_time": "2023-03-05T12:55:29.234Z"
   },
   {
    "duration": 80,
    "start_time": "2023-03-05T12:55:57.753Z"
   },
   {
    "duration": 816,
    "start_time": "2023-03-05T12:56:01.954Z"
   },
   {
    "duration": 793,
    "start_time": "2023-03-05T12:56:25.781Z"
   },
   {
    "duration": 69,
    "start_time": "2023-03-05T12:57:43.304Z"
   },
   {
    "duration": 791,
    "start_time": "2023-03-05T12:58:02.714Z"
   },
   {
    "duration": 819,
    "start_time": "2023-03-05T12:58:45.239Z"
   },
   {
    "duration": 820,
    "start_time": "2023-03-05T12:59:06.546Z"
   },
   {
    "duration": 772,
    "start_time": "2023-03-05T12:59:12.570Z"
   },
   {
    "duration": 804,
    "start_time": "2023-03-05T12:59:56.380Z"
   },
   {
    "duration": 862,
    "start_time": "2023-03-05T13:00:12.415Z"
   },
   {
    "duration": 750,
    "start_time": "2023-03-05T13:00:24.584Z"
   },
   {
    "duration": 18,
    "start_time": "2023-03-05T13:00:32.566Z"
   },
   {
    "duration": 832,
    "start_time": "2023-03-05T13:00:44.273Z"
   },
   {
    "duration": 24,
    "start_time": "2023-03-05T13:00:52.500Z"
   },
   {
    "duration": 806,
    "start_time": "2023-03-05T13:01:22.867Z"
   },
   {
    "duration": 19,
    "start_time": "2023-03-05T13:01:32.066Z"
   },
   {
    "duration": 24,
    "start_time": "2023-03-05T13:01:47.769Z"
   },
   {
    "duration": 23,
    "start_time": "2023-03-05T13:01:53.908Z"
   },
   {
    "duration": 21,
    "start_time": "2023-03-05T13:02:19.537Z"
   },
   {
    "duration": 19,
    "start_time": "2023-03-05T13:02:35.361Z"
   },
   {
    "duration": 20,
    "start_time": "2023-03-05T13:02:41.985Z"
   },
   {
    "duration": 26,
    "start_time": "2023-03-05T13:06:43.898Z"
   },
   {
    "duration": 19,
    "start_time": "2023-03-05T13:06:49.961Z"
   },
   {
    "duration": 18,
    "start_time": "2023-03-05T13:06:55.587Z"
   },
   {
    "duration": 21,
    "start_time": "2023-03-05T13:07:00.284Z"
   },
   {
    "duration": 19,
    "start_time": "2023-03-05T13:07:04.630Z"
   },
   {
    "duration": 91,
    "start_time": "2023-03-05T13:07:20.272Z"
   },
   {
    "duration": 83,
    "start_time": "2023-03-05T13:07:51.687Z"
   },
   {
    "duration": 4,
    "start_time": "2023-03-05T13:08:04.721Z"
   },
   {
    "duration": 4,
    "start_time": "2023-03-05T13:08:17.666Z"
   },
   {
    "duration": 141,
    "start_time": "2023-03-05T13:08:33.971Z"
   },
   {
    "duration": 5,
    "start_time": "2023-03-05T13:08:41.496Z"
   },
   {
    "duration": 25,
    "start_time": "2023-03-05T13:09:02.984Z"
   },
   {
    "duration": 47,
    "start_time": "2023-03-05T13:09:15.491Z"
   },
   {
    "duration": 34,
    "start_time": "2023-03-05T13:09:22.843Z"
   },
   {
    "duration": 32,
    "start_time": "2023-03-05T13:09:41.229Z"
   },
   {
    "duration": 44,
    "start_time": "2023-03-05T13:10:10.847Z"
   },
   {
    "duration": 26,
    "start_time": "2023-03-05T13:10:36.169Z"
   },
   {
    "duration": 27,
    "start_time": "2023-03-05T13:10:52.766Z"
   },
   {
    "duration": 4,
    "start_time": "2023-03-05T13:11:20.665Z"
   },
   {
    "duration": 14,
    "start_time": "2023-03-05T13:11:27.034Z"
   },
   {
    "duration": 31,
    "start_time": "2023-03-05T13:11:39.215Z"
   },
   {
    "duration": 58,
    "start_time": "2023-03-05T13:11:46.610Z"
   },
   {
    "duration": 25,
    "start_time": "2023-03-05T13:11:57.950Z"
   },
   {
    "duration": 25,
    "start_time": "2023-03-05T13:12:13.113Z"
   },
   {
    "duration": 22,
    "start_time": "2023-03-05T13:12:40.637Z"
   },
   {
    "duration": 500,
    "start_time": "2023-03-05T13:13:10.065Z"
   },
   {
    "duration": 32,
    "start_time": "2023-03-05T13:13:15.766Z"
   },
   {
    "duration": 653,
    "start_time": "2023-03-05T13:13:29.836Z"
   },
   {
    "duration": 4,
    "start_time": "2023-03-05T13:13:38.900Z"
   },
   {
    "duration": 34,
    "start_time": "2023-03-05T13:14:13.204Z"
   },
   {
    "duration": 154126,
    "start_time": "2023-03-05T13:14:27.210Z"
   },
   {
    "duration": 44,
    "start_time": "2023-03-05T13:17:28.467Z"
   },
   {
    "duration": 4,
    "start_time": "2023-03-05T13:17:56.534Z"
   },
   {
    "duration": 7,
    "start_time": "2023-03-05T13:18:04.496Z"
   },
   {
    "duration": 7,
    "start_time": "2023-03-05T13:18:08.602Z"
   },
   {
    "duration": 4,
    "start_time": "2023-03-05T13:18:24.634Z"
   },
   {
    "duration": 40335,
    "start_time": "2023-03-05T13:18:39.689Z"
   },
   {
    "duration": 48,
    "start_time": "2023-03-05T13:19:20.026Z"
   },
   {
    "duration": 877,
    "start_time": "2023-03-05T15:30:51.157Z"
   },
   {
    "duration": 1149,
    "start_time": "2023-03-05T15:30:52.036Z"
   },
   {
    "duration": 25,
    "start_time": "2023-03-05T15:30:53.187Z"
   },
   {
    "duration": 21,
    "start_time": "2023-03-05T15:30:53.215Z"
   },
   {
    "duration": 75,
    "start_time": "2023-03-05T15:30:53.238Z"
   },
   {
    "duration": 17,
    "start_time": "2023-03-05T15:30:53.315Z"
   },
   {
    "duration": 317,
    "start_time": "2023-03-05T15:30:53.333Z"
   },
   {
    "duration": 290,
    "start_time": "2023-03-05T15:30:53.652Z"
   },
   {
    "duration": 15,
    "start_time": "2023-03-05T15:30:53.944Z"
   },
   {
    "duration": 26,
    "start_time": "2023-03-05T15:30:53.962Z"
   },
   {
    "duration": 353,
    "start_time": "2023-03-05T15:30:53.990Z"
   },
   {
    "duration": 43,
    "start_time": "2023-03-05T15:30:54.345Z"
   },
   {
    "duration": 7,
    "start_time": "2023-03-05T15:30:54.390Z"
   },
   {
    "duration": 61,
    "start_time": "2023-03-05T15:30:54.398Z"
   },
   {
    "duration": 31,
    "start_time": "2023-03-05T15:30:54.461Z"
   },
   {
    "duration": 263,
    "start_time": "2023-03-05T15:30:54.656Z"
   },
   {
    "duration": 319,
    "start_time": "2023-03-05T15:30:54.920Z"
   },
   {
    "duration": 27,
    "start_time": "2023-03-05T15:30:55.241Z"
   },
   {
    "duration": 22,
    "start_time": "2023-03-05T15:30:55.572Z"
   },
   {
    "duration": 41,
    "start_time": "2023-03-05T15:30:55.776Z"
   },
   {
    "duration": 31,
    "start_time": "2023-03-05T15:30:55.998Z"
   },
   {
    "duration": 44693,
    "start_time": "2023-03-05T15:30:56.232Z"
   },
   {
    "duration": 77,
    "start_time": "2023-03-05T15:31:40.926Z"
   },
   {
    "duration": 92,
    "start_time": "2023-03-05T15:31:41.005Z"
   },
   {
    "duration": 1,
    "start_time": "2023-03-05T15:31:41.099Z"
   },
   {
    "duration": 0,
    "start_time": "2023-03-05T15:31:41.101Z"
   },
   {
    "duration": 0,
    "start_time": "2023-03-05T15:31:41.103Z"
   },
   {
    "duration": 0,
    "start_time": "2023-03-05T15:31:41.105Z"
   },
   {
    "duration": 0,
    "start_time": "2023-03-05T15:31:41.107Z"
   },
   {
    "duration": 0,
    "start_time": "2023-03-05T15:31:41.109Z"
   },
   {
    "duration": 0,
    "start_time": "2023-03-05T15:31:41.110Z"
   },
   {
    "duration": 0,
    "start_time": "2023-03-05T15:31:41.112Z"
   },
   {
    "duration": 0,
    "start_time": "2023-03-05T15:31:41.113Z"
   },
   {
    "duration": 0,
    "start_time": "2023-03-05T15:31:41.115Z"
   },
   {
    "duration": 0,
    "start_time": "2023-03-05T15:31:41.116Z"
   },
   {
    "duration": 0,
    "start_time": "2023-03-05T15:31:41.118Z"
   },
   {
    "duration": 0,
    "start_time": "2023-03-05T15:31:41.120Z"
   },
   {
    "duration": 0,
    "start_time": "2023-03-05T15:31:41.121Z"
   },
   {
    "duration": 24,
    "start_time": "2023-03-05T15:31:53.553Z"
   },
   {
    "duration": 4,
    "start_time": "2023-03-05T15:31:53.771Z"
   },
   {
    "duration": 23,
    "start_time": "2023-03-05T15:31:54.014Z"
   },
   {
    "duration": 119,
    "start_time": "2023-03-05T15:31:54.268Z"
   },
   {
    "duration": 164,
    "start_time": "2023-03-05T15:31:54.476Z"
   },
   {
    "duration": 196,
    "start_time": "2023-03-05T15:31:54.712Z"
   },
   {
    "duration": 187,
    "start_time": "2023-03-05T15:31:54.921Z"
   },
   {
    "duration": 30,
    "start_time": "2023-03-05T15:31:55.127Z"
   },
   {
    "duration": 10232,
    "start_time": "2023-03-05T15:31:55.332Z"
   },
   {
    "duration": 35,
    "start_time": "2023-03-05T15:32:05.571Z"
   },
   {
    "duration": 14,
    "start_time": "2023-03-05T15:32:05.609Z"
   },
   {
    "duration": 9,
    "start_time": "2023-03-05T15:32:05.627Z"
   },
   {
    "duration": 10837,
    "start_time": "2023-03-05T15:32:05.638Z"
   },
   {
    "duration": 78,
    "start_time": "2023-03-05T15:32:16.477Z"
   },
   {
    "duration": 5,
    "start_time": "2023-03-05T15:32:32.829Z"
   },
   {
    "duration": 10812,
    "start_time": "2023-03-05T15:32:36.313Z"
   },
   {
    "duration": 96,
    "start_time": "2023-03-05T15:32:47.127Z"
   },
   {
    "duration": 23,
    "start_time": "2023-03-05T15:34:16.187Z"
   },
   {
    "duration": 6,
    "start_time": "2023-03-05T15:34:46.857Z"
   },
   {
    "duration": 10,
    "start_time": "2023-03-05T15:34:59.167Z"
   },
   {
    "duration": 11,
    "start_time": "2023-03-05T15:35:30.352Z"
   },
   {
    "duration": 1163,
    "start_time": "2023-03-05T15:36:21.484Z"
   },
   {
    "duration": 15,
    "start_time": "2023-03-05T15:36:30.543Z"
   },
   {
    "duration": 4,
    "start_time": "2023-03-05T15:36:39.936Z"
   },
   {
    "duration": 22,
    "start_time": "2023-03-05T15:38:26.845Z"
   },
   {
    "duration": 22,
    "start_time": "2023-03-05T15:39:36.905Z"
   },
   {
    "duration": 25,
    "start_time": "2023-03-05T15:39:42.190Z"
   },
   {
    "duration": 12,
    "start_time": "2023-03-05T15:39:52.064Z"
   },
   {
    "duration": 6,
    "start_time": "2023-03-05T15:42:15.195Z"
   },
   {
    "duration": 1212,
    "start_time": "2023-03-05T15:42:25.880Z"
   },
   {
    "duration": 3,
    "start_time": "2023-03-05T15:42:56.974Z"
   },
   {
    "duration": 1365,
    "start_time": "2023-03-05T15:42:59.024Z"
   },
   {
    "duration": 4,
    "start_time": "2023-03-05T15:43:22.894Z"
   },
   {
    "duration": 20,
    "start_time": "2023-03-05T15:43:24.198Z"
   },
   {
    "duration": 5,
    "start_time": "2023-03-05T15:43:35.422Z"
   },
   {
    "duration": 1268,
    "start_time": "2023-03-05T15:43:36.047Z"
   },
   {
    "duration": 4,
    "start_time": "2023-03-05T15:44:06.090Z"
   },
   {
    "duration": 1568,
    "start_time": "2023-03-05T15:54:37.164Z"
   },
   {
    "duration": 1619,
    "start_time": "2023-03-05T15:56:19.386Z"
   },
   {
    "duration": 1500,
    "start_time": "2023-03-05T15:56:26.990Z"
   },
   {
    "duration": 8,
    "start_time": "2023-03-05T15:56:42.257Z"
   },
   {
    "duration": 4,
    "start_time": "2023-03-05T15:56:51.120Z"
   },
   {
    "duration": 4,
    "start_time": "2023-03-05T15:56:55.120Z"
   },
   {
    "duration": 4,
    "start_time": "2023-03-05T15:57:11.288Z"
   },
   {
    "duration": 629,
    "start_time": "2023-03-05T15:57:26.607Z"
   },
   {
    "duration": 1388,
    "start_time": "2023-03-05T15:57:30.886Z"
   },
   {
    "duration": 19,
    "start_time": "2023-03-05T15:57:41.076Z"
   },
   {
    "duration": 1367,
    "start_time": "2023-03-05T15:57:48.365Z"
   },
   {
    "duration": 5,
    "start_time": "2023-03-05T15:57:52.797Z"
   },
   {
    "duration": 17,
    "start_time": "2023-03-05T15:58:00.667Z"
   },
   {
    "duration": 3,
    "start_time": "2023-03-05T15:59:23.679Z"
   },
   {
    "duration": 2,
    "start_time": "2023-03-05T15:59:29.325Z"
   },
   {
    "duration": 17,
    "start_time": "2023-03-05T15:59:31.800Z"
   },
   {
    "duration": 3,
    "start_time": "2023-03-05T16:00:22.314Z"
   },
   {
    "duration": 8,
    "start_time": "2023-03-05T16:01:04.949Z"
   },
   {
    "duration": 5,
    "start_time": "2023-03-05T16:01:18.204Z"
   },
   {
    "duration": 663,
    "start_time": "2023-03-05T16:01:40.900Z"
   },
   {
    "duration": 1464,
    "start_time": "2023-03-05T16:01:46.247Z"
   },
   {
    "duration": 17,
    "start_time": "2023-03-05T16:02:04.876Z"
   },
   {
    "duration": 7,
    "start_time": "2023-03-05T16:02:40.073Z"
   },
   {
    "duration": 4,
    "start_time": "2023-03-05T16:02:40.498Z"
   },
   {
    "duration": 710,
    "start_time": "2023-03-05T16:03:01.833Z"
   },
   {
    "duration": 964,
    "start_time": "2023-03-05T16:03:02.545Z"
   },
   {
    "duration": 23,
    "start_time": "2023-03-05T16:03:03.510Z"
   },
   {
    "duration": 57,
    "start_time": "2023-03-05T16:03:03.535Z"
   },
   {
    "duration": 78,
    "start_time": "2023-03-05T16:03:03.593Z"
   },
   {
    "duration": 19,
    "start_time": "2023-03-05T16:03:03.673Z"
   },
   {
    "duration": 363,
    "start_time": "2023-03-05T16:03:03.694Z"
   },
   {
    "duration": 346,
    "start_time": "2023-03-05T16:03:04.060Z"
   },
   {
    "duration": 11,
    "start_time": "2023-03-05T16:03:04.408Z"
   },
   {
    "duration": 45,
    "start_time": "2023-03-05T16:03:04.422Z"
   },
   {
    "duration": 332,
    "start_time": "2023-03-05T16:03:04.470Z"
   },
   {
    "duration": 30,
    "start_time": "2023-03-05T16:03:04.803Z"
   },
   {
    "duration": 21,
    "start_time": "2023-03-05T16:03:04.834Z"
   },
   {
    "duration": 68,
    "start_time": "2023-03-05T16:03:04.857Z"
   },
   {
    "duration": 41,
    "start_time": "2023-03-05T16:03:04.927Z"
   },
   {
    "duration": 290,
    "start_time": "2023-03-05T16:03:04.971Z"
   },
   {
    "duration": 321,
    "start_time": "2023-03-05T16:03:05.262Z"
   },
   {
    "duration": 14,
    "start_time": "2023-03-05T16:03:05.586Z"
   },
   {
    "duration": 7,
    "start_time": "2023-03-05T16:03:05.602Z"
   },
   {
    "duration": 73,
    "start_time": "2023-03-05T16:03:05.611Z"
   },
   {
    "duration": 32,
    "start_time": "2023-03-05T16:03:05.686Z"
   },
   {
    "duration": 47253,
    "start_time": "2023-03-05T16:03:05.720Z"
   },
   {
    "duration": 47,
    "start_time": "2023-03-05T16:03:52.975Z"
   },
   {
    "duration": 4,
    "start_time": "2023-03-05T16:03:53.023Z"
   },
   {
    "duration": 1420,
    "start_time": "2023-03-05T16:03:53.029Z"
   },
   {
    "duration": 0,
    "start_time": "2023-03-05T16:03:54.458Z"
   },
   {
    "duration": 0,
    "start_time": "2023-03-05T16:03:54.461Z"
   },
   {
    "duration": 0,
    "start_time": "2023-03-05T16:03:54.463Z"
   },
   {
    "duration": 0,
    "start_time": "2023-03-05T16:03:54.464Z"
   },
   {
    "duration": 0,
    "start_time": "2023-03-05T16:03:54.465Z"
   },
   {
    "duration": 0,
    "start_time": "2023-03-05T16:03:54.467Z"
   },
   {
    "duration": 0,
    "start_time": "2023-03-05T16:03:54.468Z"
   },
   {
    "duration": 0,
    "start_time": "2023-03-05T16:03:54.469Z"
   },
   {
    "duration": 0,
    "start_time": "2023-03-05T16:03:54.470Z"
   },
   {
    "duration": 0,
    "start_time": "2023-03-05T16:03:54.471Z"
   },
   {
    "duration": 0,
    "start_time": "2023-03-05T16:03:54.472Z"
   },
   {
    "duration": 0,
    "start_time": "2023-03-05T16:03:54.473Z"
   },
   {
    "duration": 0,
    "start_time": "2023-03-05T16:03:54.474Z"
   },
   {
    "duration": 8,
    "start_time": "2023-03-05T16:05:46.062Z"
   },
   {
    "duration": 32,
    "start_time": "2023-03-05T16:06:27.071Z"
   },
   {
    "duration": 34,
    "start_time": "2023-03-05T16:07:09.476Z"
   },
   {
    "duration": 4,
    "start_time": "2023-03-05T16:08:51.364Z"
   },
   {
    "duration": 4,
    "start_time": "2023-03-05T16:09:18.931Z"
   },
   {
    "duration": 4,
    "start_time": "2023-03-05T16:09:25.720Z"
   },
   {
    "duration": 3,
    "start_time": "2023-03-05T16:09:37.663Z"
   },
   {
    "duration": 3,
    "start_time": "2023-03-05T16:18:54.834Z"
   },
   {
    "duration": 872,
    "start_time": "2023-03-05T16:18:55.048Z"
   },
   {
    "duration": 28,
    "start_time": "2023-03-05T16:18:55.922Z"
   },
   {
    "duration": 45,
    "start_time": "2023-03-05T16:19:19.825Z"
   },
   {
    "duration": 39,
    "start_time": "2023-03-05T16:19:36.784Z"
   },
   {
    "duration": 731,
    "start_time": "2023-03-05T16:19:47.478Z"
   },
   {
    "duration": 824,
    "start_time": "2023-03-05T16:19:48.249Z"
   },
   {
    "duration": 23,
    "start_time": "2023-03-05T16:19:49.075Z"
   },
   {
    "duration": 21,
    "start_time": "2023-03-05T16:19:49.100Z"
   },
   {
    "duration": 82,
    "start_time": "2023-03-05T16:19:49.123Z"
   },
   {
    "duration": 16,
    "start_time": "2023-03-05T16:19:49.206Z"
   },
   {
    "duration": 308,
    "start_time": "2023-03-05T16:19:49.223Z"
   },
   {
    "duration": 267,
    "start_time": "2023-03-05T16:19:49.533Z"
   },
   {
    "duration": 9,
    "start_time": "2023-03-05T16:19:49.802Z"
   },
   {
    "duration": 43,
    "start_time": "2023-03-05T16:19:49.814Z"
   },
   {
    "duration": 313,
    "start_time": "2023-03-05T16:19:49.860Z"
   },
   {
    "duration": 31,
    "start_time": "2023-03-05T16:19:50.175Z"
   },
   {
    "duration": 7,
    "start_time": "2023-03-05T16:19:50.208Z"
   },
   {
    "duration": 71,
    "start_time": "2023-03-05T16:19:50.216Z"
   },
   {
    "duration": 25,
    "start_time": "2023-03-05T16:19:50.289Z"
   },
   {
    "duration": 274,
    "start_time": "2023-03-05T16:19:50.316Z"
   },
   {
    "duration": 250,
    "start_time": "2023-03-05T16:19:50.592Z"
   },
   {
    "duration": 19,
    "start_time": "2023-03-05T16:19:50.843Z"
   },
   {
    "duration": 15,
    "start_time": "2023-03-05T16:19:50.864Z"
   },
   {
    "duration": 50,
    "start_time": "2023-03-05T16:19:50.880Z"
   },
   {
    "duration": 40,
    "start_time": "2023-03-05T16:19:50.932Z"
   },
   {
    "duration": 42521,
    "start_time": "2023-03-05T16:19:50.974Z"
   },
   {
    "duration": 52,
    "start_time": "2023-03-05T16:20:33.497Z"
   },
   {
    "duration": 4,
    "start_time": "2023-03-05T16:20:33.551Z"
   },
   {
    "duration": 1408,
    "start_time": "2023-03-05T16:20:33.557Z"
   },
   {
    "duration": 1,
    "start_time": "2023-03-05T16:20:34.967Z"
   },
   {
    "duration": 0,
    "start_time": "2023-03-05T16:20:34.969Z"
   },
   {
    "duration": 0,
    "start_time": "2023-03-05T16:20:34.970Z"
   },
   {
    "duration": 0,
    "start_time": "2023-03-05T16:20:34.971Z"
   },
   {
    "duration": 0,
    "start_time": "2023-03-05T16:20:34.972Z"
   },
   {
    "duration": 0,
    "start_time": "2023-03-05T16:20:34.973Z"
   },
   {
    "duration": 0,
    "start_time": "2023-03-05T16:20:34.974Z"
   },
   {
    "duration": 0,
    "start_time": "2023-03-05T16:20:34.975Z"
   },
   {
    "duration": 0,
    "start_time": "2023-03-05T16:20:34.976Z"
   },
   {
    "duration": 0,
    "start_time": "2023-03-05T16:20:34.977Z"
   },
   {
    "duration": 0,
    "start_time": "2023-03-05T16:20:34.978Z"
   },
   {
    "duration": 0,
    "start_time": "2023-03-05T16:20:34.979Z"
   },
   {
    "duration": 0,
    "start_time": "2023-03-05T16:20:34.981Z"
   },
   {
    "duration": 0,
    "start_time": "2023-03-05T16:20:34.981Z"
   },
   {
    "duration": 67,
    "start_time": "2023-03-05T16:23:20.369Z"
   },
   {
    "duration": 85,
    "start_time": "2023-03-05T16:23:27.274Z"
   },
   {
    "duration": 89,
    "start_time": "2023-03-05T16:23:49.162Z"
   },
   {
    "duration": 81,
    "start_time": "2023-03-05T16:24:13.050Z"
   },
   {
    "duration": 71,
    "start_time": "2023-03-05T16:24:26.645Z"
   },
   {
    "duration": 83,
    "start_time": "2023-03-05T16:24:31.398Z"
   },
   {
    "duration": 70,
    "start_time": "2023-03-05T16:25:16.397Z"
   },
   {
    "duration": 4,
    "start_time": "2023-03-05T16:25:25.019Z"
   },
   {
    "duration": 153,
    "start_time": "2023-03-05T16:26:04.021Z"
   },
   {
    "duration": 3,
    "start_time": "2023-03-05T16:26:30.170Z"
   },
   {
    "duration": 1279,
    "start_time": "2023-03-05T16:26:30.622Z"
   },
   {
    "duration": 5,
    "start_time": "2023-03-05T16:26:50.997Z"
   },
   {
    "duration": 40216,
    "start_time": "2023-03-05T16:26:51.465Z"
   },
   {
    "duration": 78,
    "start_time": "2023-03-05T16:27:47.072Z"
   },
   {
    "duration": 29,
    "start_time": "2023-03-05T16:28:04.246Z"
   },
   {
    "duration": 20,
    "start_time": "2023-03-05T16:28:09.848Z"
   },
   {
    "duration": 13,
    "start_time": "2023-03-05T16:28:23.660Z"
   },
   {
    "duration": 698,
    "start_time": "2023-03-05T16:30:38.065Z"
   },
   {
    "duration": 1009,
    "start_time": "2023-03-05T16:30:38.766Z"
   },
   {
    "duration": 29,
    "start_time": "2023-03-05T16:30:39.777Z"
   },
   {
    "duration": 23,
    "start_time": "2023-03-05T16:30:39.808Z"
   },
   {
    "duration": 79,
    "start_time": "2023-03-05T16:30:39.848Z"
   },
   {
    "duration": 38,
    "start_time": "2023-03-05T16:30:39.928Z"
   },
   {
    "duration": 349,
    "start_time": "2023-03-05T16:30:39.968Z"
   },
   {
    "duration": 307,
    "start_time": "2023-03-05T16:30:40.318Z"
   },
   {
    "duration": 11,
    "start_time": "2023-03-05T16:30:40.627Z"
   },
   {
    "duration": 34,
    "start_time": "2023-03-05T16:30:40.647Z"
   },
   {
    "duration": 389,
    "start_time": "2023-03-05T16:30:40.682Z"
   },
   {
    "duration": 31,
    "start_time": "2023-03-05T16:30:41.072Z"
   },
   {
    "duration": 7,
    "start_time": "2023-03-05T16:30:41.105Z"
   },
   {
    "duration": 81,
    "start_time": "2023-03-05T16:30:41.115Z"
   },
   {
    "duration": 27,
    "start_time": "2023-03-05T16:30:41.198Z"
   },
   {
    "duration": 305,
    "start_time": "2023-03-05T16:30:41.227Z"
   },
   {
    "duration": 271,
    "start_time": "2023-03-05T16:30:41.534Z"
   },
   {
    "duration": 10,
    "start_time": "2023-03-05T16:30:41.807Z"
   },
   {
    "duration": 7,
    "start_time": "2023-03-05T16:30:41.819Z"
   },
   {
    "duration": 74,
    "start_time": "2023-03-05T16:30:41.827Z"
   },
   {
    "duration": 57,
    "start_time": "2023-03-05T16:30:41.903Z"
   },
   {
    "duration": 47049,
    "start_time": "2023-03-05T16:30:41.962Z"
   },
   {
    "duration": 70,
    "start_time": "2023-03-05T16:31:29.013Z"
   },
   {
    "duration": 11,
    "start_time": "2023-03-05T16:31:29.084Z"
   },
   {
    "duration": 4,
    "start_time": "2023-03-05T16:31:29.099Z"
   },
   {
    "duration": 43221,
    "start_time": "2023-03-05T16:31:29.104Z"
   },
   {
    "duration": 8,
    "start_time": "2023-03-05T16:32:12.327Z"
   },
   {
    "duration": 102,
    "start_time": "2023-03-05T16:32:12.337Z"
   },
   {
    "duration": 179,
    "start_time": "2023-03-05T16:32:12.441Z"
   },
   {
    "duration": 195,
    "start_time": "2023-03-05T16:32:12.621Z"
   },
   {
    "duration": 205,
    "start_time": "2023-03-05T16:32:12.818Z"
   },
   {
    "duration": 32,
    "start_time": "2023-03-05T16:32:13.025Z"
   },
   {
    "duration": 10039,
    "start_time": "2023-03-05T16:32:13.061Z"
   },
   {
    "duration": 23,
    "start_time": "2023-03-05T16:32:23.102Z"
   },
   {
    "duration": 13,
    "start_time": "2023-03-05T16:32:23.126Z"
   },
   {
    "duration": 37,
    "start_time": "2023-03-05T16:32:23.141Z"
   },
   {
    "duration": 10264,
    "start_time": "2023-03-05T16:32:23.180Z"
   },
   {
    "duration": 89,
    "start_time": "2023-03-05T16:32:33.446Z"
   },
   {
    "duration": 30,
    "start_time": "2023-03-05T16:33:04.468Z"
   },
   {
    "duration": 4,
    "start_time": "2023-03-05T16:33:13.687Z"
   },
   {
    "duration": 4,
    "start_time": "2023-03-05T16:33:54.093Z"
   },
   {
    "duration": 19,
    "start_time": "2023-03-05T16:34:01.185Z"
   },
   {
    "duration": 87,
    "start_time": "2023-03-05T16:34:06.706Z"
   },
   {
    "duration": 143,
    "start_time": "2023-03-05T16:34:06.929Z"
   },
   {
    "duration": 209,
    "start_time": "2023-03-05T16:34:07.900Z"
   },
   {
    "duration": 167,
    "start_time": "2023-03-05T16:34:23.105Z"
   },
   {
    "duration": 148,
    "start_time": "2023-03-05T16:34:27.901Z"
   },
   {
    "duration": 169,
    "start_time": "2023-03-05T16:34:39.011Z"
   },
   {
    "duration": 20,
    "start_time": "2023-03-05T16:34:39.376Z"
   },
   {
    "duration": 8231,
    "start_time": "2023-03-05T16:34:39.595Z"
   },
   {
    "duration": 37,
    "start_time": "2023-03-05T16:34:47.829Z"
   },
   {
    "duration": 7,
    "start_time": "2023-03-05T16:34:47.869Z"
   },
   {
    "duration": 4,
    "start_time": "2023-03-05T16:34:47.879Z"
   },
   {
    "duration": 9246,
    "start_time": "2023-03-05T16:34:47.885Z"
   },
   {
    "duration": 82,
    "start_time": "2023-03-05T16:34:57.133Z"
   },
   {
    "duration": 149,
    "start_time": "2023-03-05T16:37:21.564Z"
   },
   {
    "duration": 161,
    "start_time": "2023-03-05T16:48:54.968Z"
   },
   {
    "duration": 5,
    "start_time": "2023-03-05T16:49:47.689Z"
   },
   {
    "duration": 18,
    "start_time": "2023-03-05T16:50:10.577Z"
   },
   {
    "duration": 12,
    "start_time": "2023-03-05T16:50:24.351Z"
   },
   {
    "duration": 174,
    "start_time": "2023-03-05T16:50:54.941Z"
   },
   {
    "duration": 1258,
    "start_time": "2023-03-05T16:56:48.760Z"
   },
   {
    "duration": 31,
    "start_time": "2023-03-05T16:56:59.948Z"
   },
   {
    "duration": 24,
    "start_time": "2023-03-05T16:57:25.571Z"
   },
   {
    "duration": 23,
    "start_time": "2023-03-05T16:57:31.100Z"
   },
   {
    "duration": 14,
    "start_time": "2023-03-05T16:58:01.551Z"
   },
   {
    "duration": 8,
    "start_time": "2023-03-05T16:59:10.485Z"
   },
   {
    "duration": 26,
    "start_time": "2023-03-05T16:59:20.066Z"
   },
   {
    "duration": 7,
    "start_time": "2023-03-05T17:00:04.183Z"
   },
   {
    "duration": 6,
    "start_time": "2023-03-05T17:00:14.972Z"
   },
   {
    "duration": 7,
    "start_time": "2023-03-05T17:00:25.350Z"
   },
   {
    "duration": 7,
    "start_time": "2023-03-05T17:00:29.461Z"
   },
   {
    "duration": 6,
    "start_time": "2023-03-05T17:00:33.939Z"
   },
   {
    "duration": 7,
    "start_time": "2023-03-05T17:00:56.039Z"
   },
   {
    "duration": 6,
    "start_time": "2023-03-05T17:02:20.508Z"
   },
   {
    "duration": 7,
    "start_time": "2023-03-05T17:02:42.600Z"
   },
   {
    "duration": 20,
    "start_time": "2023-03-05T17:03:40.634Z"
   },
   {
    "duration": 6,
    "start_time": "2023-03-05T17:03:53.673Z"
   },
   {
    "duration": 8,
    "start_time": "2023-03-05T17:04:02.168Z"
   },
   {
    "duration": 10,
    "start_time": "2023-03-05T17:04:07.158Z"
   },
   {
    "duration": 34,
    "start_time": "2023-03-05T17:04:13.049Z"
   },
   {
    "duration": 8,
    "start_time": "2023-03-05T17:04:54.046Z"
   },
   {
    "duration": 21,
    "start_time": "2023-03-05T17:04:55.864Z"
   },
   {
    "duration": 168,
    "start_time": "2023-03-05T17:05:16.345Z"
   },
   {
    "duration": 80,
    "start_time": "2023-03-05T19:43:01.639Z"
   },
   {
    "duration": 821,
    "start_time": "2023-03-05T19:43:06.762Z"
   },
   {
    "duration": 2964,
    "start_time": "2023-03-05T19:43:07.586Z"
   },
   {
    "duration": 26,
    "start_time": "2023-03-05T19:43:10.551Z"
   },
   {
    "duration": 22,
    "start_time": "2023-03-05T19:43:10.579Z"
   },
   {
    "duration": 65,
    "start_time": "2023-03-05T19:43:10.603Z"
   },
   {
    "duration": 18,
    "start_time": "2023-03-05T19:43:10.670Z"
   },
   {
    "duration": 297,
    "start_time": "2023-03-05T19:43:10.690Z"
   },
   {
    "duration": 259,
    "start_time": "2023-03-05T19:43:10.989Z"
   },
   {
    "duration": 11,
    "start_time": "2023-03-05T19:43:11.250Z"
   },
   {
    "duration": 25,
    "start_time": "2023-03-05T19:43:11.264Z"
   },
   {
    "duration": 300,
    "start_time": "2023-03-05T19:43:11.291Z"
   },
   {
    "duration": 28,
    "start_time": "2023-03-05T19:43:11.593Z"
   },
   {
    "duration": 18,
    "start_time": "2023-03-05T19:43:11.623Z"
   },
   {
    "duration": 46,
    "start_time": "2023-03-05T19:43:11.643Z"
   },
   {
    "duration": 26,
    "start_time": "2023-03-05T19:43:11.691Z"
   },
   {
    "duration": 296,
    "start_time": "2023-03-05T19:43:11.718Z"
   },
   {
    "duration": 251,
    "start_time": "2023-03-05T19:43:12.016Z"
   },
   {
    "duration": 12,
    "start_time": "2023-03-05T19:43:12.269Z"
   },
   {
    "duration": 2,
    "start_time": "2023-03-05T19:43:12.283Z"
   },
   {
    "duration": 80,
    "start_time": "2023-03-05T19:43:12.287Z"
   },
   {
    "duration": 29,
    "start_time": "2023-03-05T19:43:12.369Z"
   },
   {
    "duration": 42949,
    "start_time": "2023-03-05T19:43:12.400Z"
   },
   {
    "duration": 60,
    "start_time": "2023-03-05T19:43:55.351Z"
   },
   {
    "duration": 11,
    "start_time": "2023-03-05T19:43:55.413Z"
   },
   {
    "duration": 22,
    "start_time": "2023-03-05T19:43:55.425Z"
   },
   {
    "duration": 40377,
    "start_time": "2023-03-05T19:43:55.449Z"
   },
   {
    "duration": 21,
    "start_time": "2023-03-05T19:44:35.828Z"
   },
   {
    "duration": 42,
    "start_time": "2023-03-05T19:44:35.856Z"
   },
   {
    "duration": 3,
    "start_time": "2023-03-05T19:44:35.900Z"
   },
   {
    "duration": 107,
    "start_time": "2023-03-05T19:44:35.904Z"
   },
   {
    "duration": 161,
    "start_time": "2023-03-05T19:44:36.013Z"
   },
   {
    "duration": 151,
    "start_time": "2023-03-05T19:44:36.176Z"
   },
   {
    "duration": 37,
    "start_time": "2023-03-05T19:44:36.342Z"
   },
   {
    "duration": 8863,
    "start_time": "2023-03-05T19:44:36.382Z"
   },
   {
    "duration": 26,
    "start_time": "2023-03-05T19:44:45.256Z"
   },
   {
    "duration": 8,
    "start_time": "2023-03-05T19:44:45.285Z"
   },
   {
    "duration": 5,
    "start_time": "2023-03-05T19:44:45.296Z"
   },
   {
    "duration": 9959,
    "start_time": "2023-03-05T19:44:45.303Z"
   },
   {
    "duration": 174,
    "start_time": "2023-03-05T19:44:55.264Z"
   },
   {
    "duration": 30,
    "start_time": "2023-03-05T19:44:55.441Z"
   },
   {
    "duration": 164,
    "start_time": "2023-03-05T19:44:55.472Z"
   },
   {
    "duration": 32,
    "start_time": "2023-03-05T19:44:55.643Z"
   },
   {
    "duration": 29,
    "start_time": "2023-03-05T19:44:55.677Z"
   },
   {
    "duration": 7,
    "start_time": "2023-03-05T19:44:55.708Z"
   },
   {
    "duration": 51,
    "start_time": "2023-03-05T19:44:55.717Z"
   },
   {
    "duration": 3,
    "start_time": "2023-03-05T19:44:55.770Z"
   },
   {
    "duration": 19,
    "start_time": "2023-03-05T19:44:55.774Z"
   },
   {
    "duration": 215,
    "start_time": "2023-03-05T19:44:55.796Z"
   },
   {
    "duration": 36,
    "start_time": "2023-03-05T19:47:36.024Z"
   },
   {
    "duration": 38,
    "start_time": "2023-03-05T19:48:27.223Z"
   },
   {
    "duration": 19,
    "start_time": "2023-03-05T19:48:27.566Z"
   },
   {
    "duration": 36,
    "start_time": "2023-03-05T19:48:38.702Z"
   },
   {
    "duration": 22,
    "start_time": "2023-03-05T19:48:39.232Z"
   },
   {
    "duration": 64,
    "start_time": "2023-03-05T19:48:48.036Z"
   },
   {
    "duration": 14,
    "start_time": "2023-03-05T19:48:49.328Z"
   },
   {
    "duration": 157,
    "start_time": "2023-03-05T19:48:55.765Z"
   },
   {
    "duration": 5,
    "start_time": "2023-03-05T19:50:19.015Z"
   },
   {
    "duration": 41,
    "start_time": "2023-03-05T19:53:50.941Z"
   },
   {
    "duration": 82,
    "start_time": "2023-03-05T19:58:57.723Z"
   },
   {
    "duration": 39,
    "start_time": "2023-03-05T19:59:16.159Z"
   },
   {
    "duration": 48,
    "start_time": "2023-03-05T19:59:28.095Z"
   },
   {
    "duration": 73,
    "start_time": "2023-03-05T19:59:34.725Z"
   },
   {
    "duration": 21,
    "start_time": "2023-03-05T20:00:35.607Z"
   },
   {
    "duration": 33,
    "start_time": "2023-03-05T20:03:49.740Z"
   },
   {
    "duration": 883,
    "start_time": "2023-03-05T20:10:09.910Z"
   },
   {
    "duration": 46,
    "start_time": "2023-03-05T20:10:22.529Z"
   },
   {
    "duration": 23,
    "start_time": "2023-03-05T20:11:22.811Z"
   },
   {
    "duration": 30,
    "start_time": "2023-03-05T20:12:14.419Z"
   },
   {
    "duration": 24,
    "start_time": "2023-03-05T20:12:22.508Z"
   },
   {
    "duration": 39,
    "start_time": "2023-03-05T20:13:30.657Z"
   },
   {
    "duration": 20,
    "start_time": "2023-03-05T20:13:39.205Z"
   },
   {
    "duration": 31,
    "start_time": "2023-03-05T20:13:43.859Z"
   },
   {
    "duration": 50,
    "start_time": "2023-03-05T20:16:18.960Z"
   },
   {
    "duration": 38,
    "start_time": "2023-03-05T20:16:46.515Z"
   },
   {
    "duration": 33,
    "start_time": "2023-03-05T20:21:08.998Z"
   },
   {
    "duration": 50,
    "start_time": "2023-03-05T20:21:28.640Z"
   },
   {
    "duration": 24,
    "start_time": "2023-03-05T20:21:36.291Z"
   },
   {
    "duration": 43,
    "start_time": "2023-03-05T20:22:04.769Z"
   },
   {
    "duration": 26,
    "start_time": "2023-03-05T20:22:18.567Z"
   },
   {
    "duration": 43,
    "start_time": "2023-03-05T20:22:54.358Z"
   },
   {
    "duration": 29,
    "start_time": "2023-03-05T20:23:06.410Z"
   },
   {
    "duration": 39,
    "start_time": "2023-03-05T20:23:18.430Z"
   },
   {
    "duration": 36,
    "start_time": "2023-03-05T20:23:24.875Z"
   },
   {
    "duration": 26,
    "start_time": "2023-03-05T20:23:31.302Z"
   },
   {
    "duration": 25,
    "start_time": "2023-03-05T20:23:37.291Z"
   },
   {
    "duration": 38,
    "start_time": "2023-03-05T20:23:52.812Z"
   },
   {
    "duration": 26,
    "start_time": "2023-03-05T20:23:58.196Z"
   },
   {
    "duration": 32,
    "start_time": "2023-03-05T20:24:32.843Z"
   },
   {
    "duration": 23,
    "start_time": "2023-03-05T20:24:40.356Z"
   },
   {
    "duration": 21,
    "start_time": "2023-03-05T20:24:45.077Z"
   },
   {
    "duration": 34,
    "start_time": "2023-03-05T20:24:47.960Z"
   },
   {
    "duration": 36,
    "start_time": "2023-03-05T20:24:55.438Z"
   },
   {
    "duration": 84,
    "start_time": "2023-03-05T20:31:14.313Z"
   },
   {
    "duration": 46,
    "start_time": "2023-03-05T20:31:26.195Z"
   },
   {
    "duration": 45,
    "start_time": "2023-03-05T20:32:02.274Z"
   },
   {
    "duration": 3,
    "start_time": "2023-03-05T20:33:26.814Z"
   },
   {
    "duration": 3,
    "start_time": "2023-03-05T20:33:38.984Z"
   },
   {
    "duration": 6,
    "start_time": "2023-03-05T20:33:44.950Z"
   },
   {
    "duration": 44,
    "start_time": "2023-03-05T20:33:57.269Z"
   },
   {
    "duration": 7,
    "start_time": "2023-03-05T20:34:08.392Z"
   },
   {
    "duration": 6,
    "start_time": "2023-03-05T20:34:08.641Z"
   },
   {
    "duration": 59,
    "start_time": "2023-03-05T20:34:20.108Z"
   },
   {
    "duration": 9,
    "start_time": "2023-03-05T20:34:30.753Z"
   },
   {
    "duration": 11,
    "start_time": "2023-03-05T20:35:01.582Z"
   },
   {
    "duration": 10,
    "start_time": "2023-03-05T20:35:11.979Z"
   },
   {
    "duration": 3,
    "start_time": "2023-03-05T20:35:16.732Z"
   },
   {
    "duration": 4,
    "start_time": "2023-03-05T20:35:16.975Z"
   },
   {
    "duration": 4,
    "start_time": "2023-03-05T20:35:18.025Z"
   },
   {
    "duration": 3,
    "start_time": "2023-03-05T20:35:22.220Z"
   },
   {
    "duration": 5,
    "start_time": "2023-03-05T20:35:32.652Z"
   },
   {
    "duration": 4,
    "start_time": "2023-03-05T20:35:33.034Z"
   },
   {
    "duration": 3,
    "start_time": "2023-03-05T20:35:45.058Z"
   },
   {
    "duration": 3,
    "start_time": "2023-03-05T20:35:45.211Z"
   },
   {
    "duration": 5,
    "start_time": "2023-03-05T20:35:45.467Z"
   },
   {
    "duration": 3,
    "start_time": "2023-03-05T20:35:56.525Z"
   },
   {
    "duration": 3,
    "start_time": "2023-03-05T20:35:56.775Z"
   },
   {
    "duration": 5,
    "start_time": "2023-03-05T20:35:57.169Z"
   },
   {
    "duration": 176345,
    "start_time": "2023-03-05T20:36:47.385Z"
   },
   {
    "duration": 165058,
    "start_time": "2023-03-05T20:39:53.269Z"
   },
   {
    "duration": 57,
    "start_time": "2023-03-05T20:43:48.550Z"
   },
   {
    "duration": 9,
    "start_time": "2023-03-05T20:45:25.997Z"
   },
   {
    "duration": 74,
    "start_time": "2023-03-05T20:45:33.635Z"
   },
   {
    "duration": 44,
    "start_time": "2023-03-05T20:49:04.581Z"
   },
   {
    "duration": 43,
    "start_time": "2023-03-05T20:50:01.697Z"
   },
   {
    "duration": 44,
    "start_time": "2023-03-05T20:50:36.130Z"
   },
   {
    "duration": 48,
    "start_time": "2023-03-05T20:50:47.422Z"
   },
   {
    "duration": 9,
    "start_time": "2023-03-05T20:52:30.973Z"
   },
   {
    "duration": 10,
    "start_time": "2023-03-05T20:52:39.954Z"
   },
   {
    "duration": 10,
    "start_time": "2023-03-05T20:52:56.992Z"
   },
   {
    "duration": 9,
    "start_time": "2023-03-05T20:53:04.969Z"
   },
   {
    "duration": 8,
    "start_time": "2023-03-05T20:53:24.476Z"
   },
   {
    "duration": 10,
    "start_time": "2023-03-05T20:53:30.314Z"
   },
   {
    "duration": 10,
    "start_time": "2023-03-05T20:53:36.323Z"
   },
   {
    "duration": 6,
    "start_time": "2023-03-05T20:54:25.057Z"
   },
   {
    "duration": 8,
    "start_time": "2023-03-05T20:54:34.461Z"
   },
   {
    "duration": 8,
    "start_time": "2023-03-05T20:54:45.820Z"
   },
   {
    "duration": 8,
    "start_time": "2023-03-05T20:54:54.124Z"
   },
   {
    "duration": 17,
    "start_time": "2023-03-05T20:55:01.845Z"
   },
   {
    "duration": 5,
    "start_time": "2023-03-05T20:55:15.359Z"
   },
   {
    "duration": 12,
    "start_time": "2023-03-05T20:57:36.285Z"
   },
   {
    "duration": 4,
    "start_time": "2023-03-05T20:59:51.187Z"
   },
   {
    "duration": 11,
    "start_time": "2023-03-05T20:59:59.392Z"
   },
   {
    "duration": 12,
    "start_time": "2023-03-05T21:00:06.267Z"
   },
   {
    "duration": 5,
    "start_time": "2023-03-05T21:00:11.821Z"
   },
   {
    "duration": 11,
    "start_time": "2023-03-05T21:00:22.103Z"
   },
   {
    "duration": 5,
    "start_time": "2023-03-05T21:00:31.262Z"
   },
   {
    "duration": 4,
    "start_time": "2023-03-05T21:00:46.681Z"
   },
   {
    "duration": 9,
    "start_time": "2023-03-05T21:00:52.565Z"
   },
   {
    "duration": 3,
    "start_time": "2023-03-05T21:06:02.901Z"
   },
   {
    "duration": 12,
    "start_time": "2023-03-05T21:06:03.749Z"
   },
   {
    "duration": 3,
    "start_time": "2023-03-05T21:06:13.815Z"
   },
   {
    "duration": 4,
    "start_time": "2023-03-05T21:06:14.419Z"
   },
   {
    "duration": 2,
    "start_time": "2023-03-05T21:06:48.864Z"
   },
   {
    "duration": 4,
    "start_time": "2023-03-05T21:06:49.214Z"
   },
   {
    "duration": 3,
    "start_time": "2023-03-05T21:06:57.300Z"
   },
   {
    "duration": 4,
    "start_time": "2023-03-05T21:07:00.395Z"
   },
   {
    "duration": 5,
    "start_time": "2023-03-05T21:07:06.957Z"
   },
   {
    "duration": 880,
    "start_time": "2023-03-07T17:29:36.764Z"
   },
   {
    "duration": 1351,
    "start_time": "2023-03-07T17:29:37.649Z"
   },
   {
    "duration": 30,
    "start_time": "2023-03-07T17:29:39.001Z"
   },
   {
    "duration": 29,
    "start_time": "2023-03-07T17:29:39.034Z"
   },
   {
    "duration": 93,
    "start_time": "2023-03-07T17:29:39.065Z"
   },
   {
    "duration": 26,
    "start_time": "2023-03-07T17:29:39.160Z"
   },
   {
    "duration": 332,
    "start_time": "2023-03-07T17:29:39.188Z"
   },
   {
    "duration": 337,
    "start_time": "2023-03-07T17:29:39.523Z"
   },
   {
    "duration": 22,
    "start_time": "2023-03-07T17:29:39.862Z"
   },
   {
    "duration": 38,
    "start_time": "2023-03-07T17:29:39.888Z"
   },
   {
    "duration": 483,
    "start_time": "2023-03-07T17:29:39.928Z"
   },
   {
    "duration": 36,
    "start_time": "2023-03-07T17:29:40.413Z"
   },
   {
    "duration": 26,
    "start_time": "2023-03-07T17:29:40.451Z"
   },
   {
    "duration": 64,
    "start_time": "2023-03-07T17:29:40.480Z"
   },
   {
    "duration": 55,
    "start_time": "2023-03-07T17:29:40.546Z"
   },
   {
    "duration": 393,
    "start_time": "2023-03-07T17:29:40.603Z"
   },
   {
    "duration": 326,
    "start_time": "2023-03-07T17:29:40.998Z"
   },
   {
    "duration": 11,
    "start_time": "2023-03-07T17:29:41.326Z"
   },
   {
    "duration": 6,
    "start_time": "2023-03-07T17:29:41.339Z"
   },
   {
    "duration": 55,
    "start_time": "2023-03-07T17:29:41.347Z"
   },
   {
    "duration": 47523,
    "start_time": "2023-03-07T17:29:41.404Z"
   },
   {
    "duration": 63,
    "start_time": "2023-03-07T17:30:28.929Z"
   },
   {
    "duration": 19,
    "start_time": "2023-03-07T17:30:28.994Z"
   },
   {
    "duration": 5,
    "start_time": "2023-03-07T17:30:29.015Z"
   },
   {
    "duration": 42651,
    "start_time": "2023-03-07T17:30:29.022Z"
   },
   {
    "duration": 10,
    "start_time": "2023-03-07T17:31:11.677Z"
   },
   {
    "duration": 34,
    "start_time": "2023-03-07T17:31:11.689Z"
   },
   {
    "duration": 3,
    "start_time": "2023-03-07T17:31:11.727Z"
   },
   {
    "duration": 107,
    "start_time": "2023-03-07T17:31:11.731Z"
   },
   {
    "duration": 162,
    "start_time": "2023-03-07T17:31:11.840Z"
   },
   {
    "duration": 22,
    "start_time": "2023-03-07T17:31:12.004Z"
   },
   {
    "duration": 8615,
    "start_time": "2023-03-07T17:31:12.028Z"
   },
   {
    "duration": 33,
    "start_time": "2023-03-07T17:31:20.645Z"
   },
   {
    "duration": 33,
    "start_time": "2023-03-07T17:31:20.680Z"
   },
   {
    "duration": 7,
    "start_time": "2023-03-07T17:31:20.716Z"
   },
   {
    "duration": 9038,
    "start_time": "2023-03-07T17:31:20.726Z"
   },
   {
    "duration": 155,
    "start_time": "2023-03-07T17:31:29.767Z"
   },
   {
    "duration": 20,
    "start_time": "2023-03-07T17:31:29.923Z"
   },
   {
    "duration": 62,
    "start_time": "2023-03-07T17:31:29.946Z"
   },
   {
    "duration": 23,
    "start_time": "2023-03-07T17:31:30.011Z"
   },
   {
    "duration": 185,
    "start_time": "2023-03-07T17:31:30.036Z"
   },
   {
    "duration": 28,
    "start_time": "2023-03-07T17:31:30.223Z"
   },
   {
    "duration": 8,
    "start_time": "2023-03-07T17:31:30.278Z"
   },
   {
    "duration": 61,
    "start_time": "2023-03-07T17:31:30.288Z"
   },
   {
    "duration": 25,
    "start_time": "2023-03-07T17:31:30.351Z"
   },
   {
    "duration": 69,
    "start_time": "2023-03-07T17:31:30.378Z"
   },
   {
    "duration": 176,
    "start_time": "2023-03-07T17:31:30.450Z"
   },
   {
    "duration": 160003,
    "start_time": "2023-03-07T17:31:30.628Z"
   },
   {
    "duration": 3,
    "start_time": "2023-03-07T17:34:10.634Z"
   },
   {
    "duration": 37,
    "start_time": "2023-03-07T17:34:10.639Z"
   },
   {
    "duration": 45,
    "start_time": "2023-03-07T17:34:10.679Z"
   },
   {
    "duration": 70,
    "start_time": "2023-03-07T17:34:10.726Z"
   },
   {
    "duration": 45,
    "start_time": "2023-03-07T17:34:10.798Z"
   },
   {
    "duration": 151698,
    "start_time": "2023-03-07T17:35:27.836Z"
   },
   {
    "duration": 81,
    "start_time": "2023-03-07T17:37:59.537Z"
   },
   {
    "duration": 5,
    "start_time": "2023-03-07T17:39:35.286Z"
   },
   {
    "duration": 112,
    "start_time": "2023-03-07T17:39:54.097Z"
   },
   {
    "duration": 56,
    "start_time": "2023-03-07T17:43:39.374Z"
   },
   {
    "duration": 40,
    "start_time": "2023-03-07T17:43:49.310Z"
   },
   {
    "duration": 27,
    "start_time": "2023-03-07T17:43:54.361Z"
   },
   {
    "duration": 120,
    "start_time": "2023-03-07T17:45:22.456Z"
   },
   {
    "duration": 61,
    "start_time": "2023-03-07T17:45:22.710Z"
   },
   {
    "duration": 4,
    "start_time": "2023-03-07T17:45:27.790Z"
   },
   {
    "duration": 316951,
    "start_time": "2023-03-07T17:45:28.055Z"
   },
   {
    "duration": 25,
    "start_time": "2023-03-07T17:51:29.409Z"
   },
   {
    "duration": 86,
    "start_time": "2023-03-07T17:51:39.672Z"
   },
   {
    "duration": 169,
    "start_time": "2023-03-07T17:58:59.457Z"
   },
   {
    "duration": 168853,
    "start_time": "2023-03-07T18:07:34.969Z"
   },
   {
    "duration": 67,
    "start_time": "2023-03-07T18:10:28.614Z"
   },
   {
    "duration": 163908,
    "start_time": "2023-03-07T18:10:41.365Z"
   },
   {
    "duration": 74,
    "start_time": "2023-03-07T18:13:25.278Z"
   },
   {
    "duration": 5,
    "start_time": "2023-03-07T18:14:44.008Z"
   },
   {
    "duration": 333785,
    "start_time": "2023-03-07T18:14:55.588Z"
   },
   {
    "duration": 18,
    "start_time": "2023-03-07T18:20:29.376Z"
   },
   {
    "duration": 157,
    "start_time": "2023-03-07T18:21:44.990Z"
   },
   {
    "duration": 1681,
    "start_time": "2023-03-07T18:22:33.058Z"
   },
   {
    "duration": 1000,
    "start_time": "2023-03-07T18:22:34.742Z"
   },
   {
    "duration": 38,
    "start_time": "2023-03-07T18:22:35.743Z"
   },
   {
    "duration": 34,
    "start_time": "2023-03-07T18:22:35.783Z"
   },
   {
    "duration": 106,
    "start_time": "2023-03-07T18:22:35.821Z"
   },
   {
    "duration": 20,
    "start_time": "2023-03-07T18:22:35.929Z"
   },
   {
    "duration": 390,
    "start_time": "2023-03-07T18:22:35.951Z"
   },
   {
    "duration": 297,
    "start_time": "2023-03-07T18:22:36.343Z"
   },
   {
    "duration": 14,
    "start_time": "2023-03-07T18:22:36.642Z"
   },
   {
    "duration": 56,
    "start_time": "2023-03-07T18:22:36.658Z"
   },
   {
    "duration": 294,
    "start_time": "2023-03-07T18:22:36.717Z"
   },
   {
    "duration": 37,
    "start_time": "2023-03-07T18:22:37.013Z"
   },
   {
    "duration": 28,
    "start_time": "2023-03-07T18:22:37.051Z"
   },
   {
    "duration": 65,
    "start_time": "2023-03-07T18:22:37.084Z"
   },
   {
    "duration": 50,
    "start_time": "2023-03-07T18:22:37.151Z"
   },
   {
    "duration": 391,
    "start_time": "2023-03-07T18:22:37.203Z"
   },
   {
    "duration": 307,
    "start_time": "2023-03-07T18:22:37.596Z"
   },
   {
    "duration": 14,
    "start_time": "2023-03-07T18:22:37.906Z"
   },
   {
    "duration": 4,
    "start_time": "2023-03-07T18:22:37.923Z"
   },
   {
    "duration": 65,
    "start_time": "2023-03-07T18:22:37.929Z"
   },
   {
    "duration": 49382,
    "start_time": "2023-03-07T18:22:37.996Z"
   },
   {
    "duration": 71,
    "start_time": "2023-03-07T18:23:27.381Z"
   },
   {
    "duration": 26,
    "start_time": "2023-03-07T18:23:27.454Z"
   },
   {
    "duration": 4,
    "start_time": "2023-03-07T18:23:27.482Z"
   },
   {
    "duration": 43522,
    "start_time": "2023-03-07T18:23:27.488Z"
   },
   {
    "duration": 12,
    "start_time": "2023-03-07T18:24:11.012Z"
   },
   {
    "duration": 56,
    "start_time": "2023-03-07T18:24:11.026Z"
   },
   {
    "duration": 6,
    "start_time": "2023-03-07T18:24:11.084Z"
   },
   {
    "duration": 101,
    "start_time": "2023-03-07T18:24:11.092Z"
   },
   {
    "duration": 192,
    "start_time": "2023-03-07T18:24:11.195Z"
   },
   {
    "duration": 30,
    "start_time": "2023-03-07T18:24:11.389Z"
   },
   {
    "duration": 9165,
    "start_time": "2023-03-07T18:24:11.422Z"
   },
   {
    "duration": 26,
    "start_time": "2023-03-07T18:24:20.589Z"
   },
   {
    "duration": 19,
    "start_time": "2023-03-07T18:24:20.618Z"
   },
   {
    "duration": 17,
    "start_time": "2023-03-07T18:24:20.639Z"
   },
   {
    "duration": 9352,
    "start_time": "2023-03-07T18:24:20.659Z"
   },
   {
    "duration": 153,
    "start_time": "2023-03-07T18:24:30.014Z"
   },
   {
    "duration": 24,
    "start_time": "2023-03-07T18:24:30.169Z"
   },
   {
    "duration": 80,
    "start_time": "2023-03-07T18:24:30.196Z"
   },
   {
    "duration": 26,
    "start_time": "2023-03-07T18:24:30.278Z"
   },
   {
    "duration": 170,
    "start_time": "2023-03-07T18:24:30.309Z"
   },
   {
    "duration": 44,
    "start_time": "2023-03-07T18:24:30.481Z"
   },
   {
    "duration": 9,
    "start_time": "2023-03-07T18:24:30.527Z"
   },
   {
    "duration": 55,
    "start_time": "2023-03-07T18:24:30.538Z"
   },
   {
    "duration": 18,
    "start_time": "2023-03-07T18:24:30.595Z"
   },
   {
    "duration": 60,
    "start_time": "2023-03-07T18:24:30.615Z"
   },
   {
    "duration": 203,
    "start_time": "2023-03-07T18:24:30.677Z"
   },
   {
    "duration": 158483,
    "start_time": "2023-03-07T18:24:30.882Z"
   },
   {
    "duration": 53,
    "start_time": "2023-03-07T18:27:09.367Z"
   },
   {
    "duration": 6,
    "start_time": "2023-03-07T18:27:09.422Z"
   },
   {
    "duration": 323389,
    "start_time": "2023-03-07T18:27:09.430Z"
   },
   {
    "duration": 203,
    "start_time": "2023-03-07T18:32:32.821Z"
   },
   {
    "duration": 160459,
    "start_time": "2023-03-07T18:32:33.026Z"
   },
   {
    "duration": 69,
    "start_time": "2023-03-07T18:35:13.487Z"
   },
   {
    "duration": 21,
    "start_time": "2023-03-07T18:35:13.559Z"
   },
   {
    "duration": 321752,
    "start_time": "2023-03-07T18:35:13.582Z"
   },
   {
    "duration": 20,
    "start_time": "2023-03-07T18:40:35.336Z"
   },
   {
    "duration": 166,
    "start_time": "2023-03-07T18:40:35.358Z"
   },
   {
    "duration": 64,
    "start_time": "2023-03-09T11:28:04.605Z"
   },
   {
    "duration": 1741,
    "start_time": "2023-03-09T11:28:10.907Z"
   },
   {
    "duration": 3271,
    "start_time": "2023-03-09T11:28:12.651Z"
   },
   {
    "duration": 34,
    "start_time": "2023-03-09T11:28:15.932Z"
   },
   {
    "duration": 27,
    "start_time": "2023-03-09T11:28:15.968Z"
   },
   {
    "duration": 94,
    "start_time": "2023-03-09T11:28:15.996Z"
   },
   {
    "duration": 19,
    "start_time": "2023-03-09T11:28:16.092Z"
   },
   {
    "duration": 372,
    "start_time": "2023-03-09T11:28:16.126Z"
   },
   {
    "duration": 330,
    "start_time": "2023-03-09T11:28:16.501Z"
   },
   {
    "duration": 13,
    "start_time": "2023-03-09T11:28:16.834Z"
   },
   {
    "duration": 47,
    "start_time": "2023-03-09T11:28:16.852Z"
   },
   {
    "duration": 290,
    "start_time": "2023-03-09T11:28:16.900Z"
   },
   {
    "duration": 56,
    "start_time": "2023-03-09T11:28:17.192Z"
   },
   {
    "duration": 9,
    "start_time": "2023-03-09T11:28:17.250Z"
   },
   {
    "duration": 56,
    "start_time": "2023-03-09T11:28:17.261Z"
   },
   {
    "duration": 36,
    "start_time": "2023-03-09T11:28:17.328Z"
   },
   {
    "duration": 404,
    "start_time": "2023-03-09T11:28:17.366Z"
   },
   {
    "duration": 319,
    "start_time": "2023-03-09T11:28:17.772Z"
   },
   {
    "duration": 11,
    "start_time": "2023-03-09T11:28:18.093Z"
   },
   {
    "duration": 25,
    "start_time": "2023-03-09T11:28:18.106Z"
   },
   {
    "duration": 47,
    "start_time": "2023-03-09T11:28:18.133Z"
   },
   {
    "duration": 52794,
    "start_time": "2023-03-09T11:28:18.183Z"
   },
   {
    "duration": 73,
    "start_time": "2023-03-09T11:29:10.979Z"
   },
   {
    "duration": 11,
    "start_time": "2023-03-09T11:29:11.054Z"
   },
   {
    "duration": 3,
    "start_time": "2023-03-09T11:29:11.068Z"
   },
   {
    "duration": 46986,
    "start_time": "2023-03-09T11:29:11.073Z"
   },
   {
    "duration": 10,
    "start_time": "2023-03-09T11:29:58.061Z"
   },
   {
    "duration": 28,
    "start_time": "2023-03-09T11:29:58.072Z"
   },
   {
    "duration": 4,
    "start_time": "2023-03-09T11:29:58.127Z"
   },
   {
    "duration": 136,
    "start_time": "2023-03-09T11:29:58.133Z"
   },
   {
    "duration": 180,
    "start_time": "2023-03-09T11:29:58.271Z"
   },
   {
    "duration": 22,
    "start_time": "2023-03-09T11:29:58.453Z"
   },
   {
    "duration": 9684,
    "start_time": "2023-03-09T11:29:58.477Z"
   },
   {
    "duration": 26,
    "start_time": "2023-03-09T11:30:08.163Z"
   },
   {
    "duration": 78,
    "start_time": "2023-03-09T11:30:08.191Z"
   },
   {
    "duration": 13,
    "start_time": "2023-03-09T11:30:08.271Z"
   },
   {
    "duration": 10463,
    "start_time": "2023-03-09T11:30:08.288Z"
   },
   {
    "duration": 173,
    "start_time": "2023-03-09T11:30:18.754Z"
   },
   {
    "duration": 42,
    "start_time": "2023-03-09T11:30:18.928Z"
   },
   {
    "duration": 66,
    "start_time": "2023-03-09T11:30:18.973Z"
   },
   {
    "duration": 29,
    "start_time": "2023-03-09T11:30:19.041Z"
   },
   {
    "duration": 216,
    "start_time": "2023-03-09T11:30:19.073Z"
   },
   {
    "duration": 55,
    "start_time": "2023-03-09T11:30:19.292Z"
   },
   {
    "duration": 12,
    "start_time": "2023-03-09T11:30:19.352Z"
   },
   {
    "duration": 33,
    "start_time": "2023-03-09T11:30:19.366Z"
   },
   {
    "duration": 3,
    "start_time": "2023-03-09T11:30:19.402Z"
   },
   {
    "duration": 55,
    "start_time": "2023-03-09T11:30:19.407Z"
   },
   {
    "duration": 206,
    "start_time": "2023-03-09T11:30:19.465Z"
   },
   {
    "duration": 186210,
    "start_time": "2023-03-09T11:30:19.673Z"
   },
   {
    "duration": 66,
    "start_time": "2023-03-09T11:33:25.885Z"
   },
   {
    "duration": 4,
    "start_time": "2023-03-09T11:33:25.954Z"
   },
   {
    "duration": 360345,
    "start_time": "2023-03-09T11:33:25.960Z"
   },
   {
    "duration": 191,
    "start_time": "2023-03-09T11:39:26.307Z"
   },
   {
    "duration": 180789,
    "start_time": "2023-03-09T11:39:26.499Z"
   },
   {
    "duration": 62,
    "start_time": "2023-03-09T11:42:27.290Z"
   },
   {
    "duration": 5,
    "start_time": "2023-03-09T11:42:27.353Z"
   },
   {
    "duration": 352753,
    "start_time": "2023-03-09T11:42:27.359Z"
   },
   {
    "duration": 40,
    "start_time": "2023-03-09T11:48:20.115Z"
   },
   {
    "duration": 208,
    "start_time": "2023-03-09T11:48:20.157Z"
   },
   {
    "duration": 23,
    "start_time": "2023-03-09T11:49:59.424Z"
   },
   {
    "duration": 22,
    "start_time": "2023-03-09T11:50:07.054Z"
   },
   {
    "duration": 85,
    "start_time": "2023-03-09T11:50:41.100Z"
   },
   {
    "duration": 33,
    "start_time": "2023-03-09T11:50:49.619Z"
   },
   {
    "duration": 3051,
    "start_time": "2023-03-09T11:51:13.069Z"
   },
   {
    "duration": 8,
    "start_time": "2023-03-09T11:51:41.712Z"
   },
   {
    "duration": 19,
    "start_time": "2023-03-09T11:51:46.496Z"
   },
   {
    "duration": 35,
    "start_time": "2023-03-09T11:53:10.115Z"
   },
   {
    "duration": 19,
    "start_time": "2023-03-09T11:53:16.171Z"
   },
   {
    "duration": 30,
    "start_time": "2023-03-09T11:53:46.169Z"
   },
   {
    "duration": 163,
    "start_time": "2023-03-09T11:54:59.234Z"
   },
   {
    "duration": 11,
    "start_time": "2023-03-09T11:55:10.778Z"
   },
   {
    "duration": 15,
    "start_time": "2023-03-09T11:55:22.428Z"
   },
   {
    "duration": 3,
    "start_time": "2023-03-09T11:55:31.876Z"
   },
   {
    "duration": 5,
    "start_time": "2023-03-09T11:55:43.245Z"
   },
   {
    "duration": 3,
    "start_time": "2023-03-09T12:17:27.221Z"
   },
   {
    "duration": 7,
    "start_time": "2023-03-09T12:17:35.325Z"
   },
   {
    "duration": 3,
    "start_time": "2023-03-09T12:18:20.695Z"
   },
   {
    "duration": 3,
    "start_time": "2023-03-09T12:19:08.314Z"
   },
   {
    "duration": 6,
    "start_time": "2023-03-09T12:20:32.826Z"
   },
   {
    "duration": 11,
    "start_time": "2023-03-09T12:20:48.610Z"
   },
   {
    "duration": 39,
    "start_time": "2023-03-09T12:21:07.749Z"
   },
   {
    "duration": 44,
    "start_time": "2023-03-09T12:22:02.109Z"
   },
   {
    "duration": 48,
    "start_time": "2023-03-09T12:24:50.369Z"
   },
   {
    "duration": 4,
    "start_time": "2023-03-09T12:25:25.872Z"
   },
   {
    "duration": 4,
    "start_time": "2023-03-09T12:25:37.210Z"
   },
   {
    "duration": 3,
    "start_time": "2023-03-09T12:25:37.484Z"
   },
   {
    "duration": 42,
    "start_time": "2023-03-09T12:25:38.169Z"
   },
   {
    "duration": 3,
    "start_time": "2023-03-09T12:27:22.105Z"
   },
   {
    "duration": 35,
    "start_time": "2023-03-09T12:27:22.547Z"
   },
   {
    "duration": 240,
    "start_time": "2023-03-09T12:29:24.401Z"
   },
   {
    "duration": 6,
    "start_time": "2023-03-09T12:29:25.922Z"
   },
   {
    "duration": 42,
    "start_time": "2023-03-09T12:29:26.202Z"
   },
   {
    "duration": 15,
    "start_time": "2023-03-09T12:29:26.464Z"
   },
   {
    "duration": 9,
    "start_time": "2023-03-09T12:29:27.136Z"
   },
   {
    "duration": 5,
    "start_time": "2023-03-09T12:29:27.630Z"
   },
   {
    "duration": 12993,
    "start_time": "2023-03-09T12:29:28.258Z"
   },
   {
    "duration": 3,
    "start_time": "2023-03-09T12:31:32.407Z"
   },
   {
    "duration": 12,
    "start_time": "2023-03-09T12:31:33.149Z"
   },
   {
    "duration": 3,
    "start_time": "2023-03-09T12:31:45.748Z"
   },
   {
    "duration": 11,
    "start_time": "2023-03-09T12:31:45.974Z"
   },
   {
    "duration": 5,
    "start_time": "2023-03-09T12:31:54.329Z"
   },
   {
    "duration": 14,
    "start_time": "2023-03-09T12:31:54.545Z"
   },
   {
    "duration": 11,
    "start_time": "2023-03-09T12:38:27.204Z"
   },
   {
    "duration": 246,
    "start_time": "2023-03-09T12:39:05.853Z"
   },
   {
    "duration": 3027430,
    "start_time": "2023-03-09T12:39:17.602Z"
   },
   {
    "duration": 3,
    "start_time": "2023-03-09T13:30:01.606Z"
   },
   {
    "duration": 3,
    "start_time": "2023-03-09T13:30:33.161Z"
   },
   {
    "duration": 7,
    "start_time": "2023-03-09T13:30:41.065Z"
   },
   {
    "duration": 20,
    "start_time": "2023-03-09T13:37:33.608Z"
   },
   {
    "duration": 17,
    "start_time": "2023-03-09T13:37:53.835Z"
   },
   {
    "duration": 12,
    "start_time": "2023-03-09T13:38:16.708Z"
   },
   {
    "duration": 4,
    "start_time": "2023-03-09T13:38:24.434Z"
   },
   {
    "duration": 3,
    "start_time": "2023-03-09T13:38:32.130Z"
   },
   {
    "duration": 19,
    "start_time": "2023-03-09T13:39:02.092Z"
   },
   {
    "duration": 1646,
    "start_time": "2023-03-11T08:23:13.702Z"
   },
   {
    "duration": 971,
    "start_time": "2023-03-11T08:23:15.350Z"
   },
   {
    "duration": 23,
    "start_time": "2023-03-11T08:23:16.323Z"
   },
   {
    "duration": 23,
    "start_time": "2023-03-11T08:23:16.348Z"
   },
   {
    "duration": 55,
    "start_time": "2023-03-11T08:23:16.373Z"
   },
   {
    "duration": 14,
    "start_time": "2023-03-11T08:23:16.430Z"
   },
   {
    "duration": 262,
    "start_time": "2023-03-11T08:23:16.446Z"
   },
   {
    "duration": 281,
    "start_time": "2023-03-11T08:23:16.710Z"
   },
   {
    "duration": 8,
    "start_time": "2023-03-11T08:23:16.993Z"
   },
   {
    "duration": 26,
    "start_time": "2023-03-11T08:23:17.002Z"
   },
   {
    "duration": 212,
    "start_time": "2023-03-11T08:23:17.029Z"
   },
   {
    "duration": 30,
    "start_time": "2023-03-11T08:23:17.242Z"
   },
   {
    "duration": 6,
    "start_time": "2023-03-11T08:23:17.279Z"
   },
   {
    "duration": 50,
    "start_time": "2023-03-11T08:23:17.287Z"
   },
   {
    "duration": 25,
    "start_time": "2023-03-11T08:23:17.338Z"
   },
   {
    "duration": 223,
    "start_time": "2023-03-11T08:23:17.364Z"
   },
   {
    "duration": 218,
    "start_time": "2023-03-11T08:23:17.589Z"
   },
   {
    "duration": 8,
    "start_time": "2023-03-11T08:23:17.808Z"
   },
   {
    "duration": 2,
    "start_time": "2023-03-11T08:23:17.818Z"
   },
   {
    "duration": 31,
    "start_time": "2023-03-11T08:23:17.822Z"
   },
   {
    "duration": 35627,
    "start_time": "2023-03-11T08:23:17.855Z"
   },
   {
    "duration": 54,
    "start_time": "2023-03-11T08:23:53.483Z"
   },
   {
    "duration": 10,
    "start_time": "2023-03-11T08:23:53.539Z"
   },
   {
    "duration": 4,
    "start_time": "2023-03-11T08:23:53.550Z"
   },
   {
    "duration": 33073,
    "start_time": "2023-03-11T08:23:53.556Z"
   },
   {
    "duration": 9,
    "start_time": "2023-03-11T08:24:26.630Z"
   },
   {
    "duration": 41,
    "start_time": "2023-03-11T08:24:26.641Z"
   },
   {
    "duration": 2,
    "start_time": "2023-03-11T08:24:26.684Z"
   },
   {
    "duration": 68,
    "start_time": "2023-03-11T08:24:26.688Z"
   },
   {
    "duration": 122,
    "start_time": "2023-03-11T08:24:26.779Z"
   },
   {
    "duration": 21,
    "start_time": "2023-03-11T08:24:26.903Z"
   },
   {
    "duration": 7022,
    "start_time": "2023-03-11T08:24:26.925Z"
   },
   {
    "duration": 22,
    "start_time": "2023-03-11T08:24:33.949Z"
   },
   {
    "duration": 14,
    "start_time": "2023-03-11T08:24:33.973Z"
   },
   {
    "duration": 5,
    "start_time": "2023-03-11T08:24:33.989Z"
   },
   {
    "duration": 7410,
    "start_time": "2023-03-11T08:24:33.995Z"
   },
   {
    "duration": 106,
    "start_time": "2023-03-11T08:24:41.406Z"
   },
   {
    "duration": 15,
    "start_time": "2023-03-11T08:24:41.514Z"
   },
   {
    "duration": 50,
    "start_time": "2023-03-11T08:24:41.531Z"
   },
   {
    "duration": 17,
    "start_time": "2023-03-11T08:24:41.583Z"
   },
   {
    "duration": 117,
    "start_time": "2023-03-11T08:24:41.604Z"
   },
   {
    "duration": 25,
    "start_time": "2023-03-11T08:24:41.722Z"
   },
   {
    "duration": 6,
    "start_time": "2023-03-11T08:24:41.748Z"
   },
   {
    "duration": 35,
    "start_time": "2023-03-11T08:24:41.756Z"
   },
   {
    "duration": 2,
    "start_time": "2023-03-11T08:24:41.793Z"
   },
   {
    "duration": 19,
    "start_time": "2023-03-11T08:24:41.797Z"
   },
   {
    "duration": 115,
    "start_time": "2023-03-11T08:24:41.818Z"
   },
   {
    "duration": 123023,
    "start_time": "2023-03-11T08:24:41.934Z"
   },
   {
    "duration": 43,
    "start_time": "2023-03-11T08:26:44.958Z"
   },
   {
    "duration": 24,
    "start_time": "2023-03-11T08:26:45.002Z"
   },
   {
    "duration": 277799,
    "start_time": "2023-03-11T08:26:45.028Z"
   },
   {
    "duration": 128,
    "start_time": "2023-03-11T08:31:22.829Z"
   },
   {
    "duration": 148107,
    "start_time": "2023-03-11T08:31:22.959Z"
   },
   {
    "duration": 58,
    "start_time": "2023-03-11T08:33:51.068Z"
   },
   {
    "duration": 6,
    "start_time": "2023-03-11T08:33:51.128Z"
   },
   {
    "duration": 295713,
    "start_time": "2023-03-11T08:33:51.135Z"
   },
   {
    "duration": 23,
    "start_time": "2023-03-11T08:38:46.850Z"
   },
   {
    "duration": 178,
    "start_time": "2023-03-11T08:38:46.885Z"
   },
   {
    "duration": 230,
    "start_time": "2023-03-11T08:38:47.065Z"
   },
   {
    "duration": 8,
    "start_time": "2023-03-11T08:38:47.300Z"
   },
   {
    "duration": 25,
    "start_time": "2023-03-11T08:38:47.313Z"
   },
   {
    "duration": 169,
    "start_time": "2023-03-11T08:38:47.340Z"
   },
   {
    "duration": 0,
    "start_time": "2023-03-11T08:38:47.512Z"
   },
   {
    "duration": 0,
    "start_time": "2023-03-11T08:38:47.513Z"
   },
   {
    "duration": 0,
    "start_time": "2023-03-11T08:38:47.513Z"
   },
   {
    "duration": 0,
    "start_time": "2023-03-11T08:38:47.515Z"
   },
   {
    "duration": 0,
    "start_time": "2023-03-11T08:38:47.516Z"
   },
   {
    "duration": 0,
    "start_time": "2023-03-11T08:38:47.517Z"
   },
   {
    "duration": 0,
    "start_time": "2023-03-11T08:38:47.518Z"
   },
   {
    "duration": 7,
    "start_time": "2023-03-11T09:28:40.314Z"
   },
   {
    "duration": 5,
    "start_time": "2023-03-11T09:28:40.506Z"
   },
   {
    "duration": 16,
    "start_time": "2023-03-11T09:28:40.696Z"
   },
   {
    "duration": 37,
    "start_time": "2023-03-11T09:28:40.905Z"
   },
   {
    "duration": 14,
    "start_time": "2023-03-11T09:28:41.099Z"
   },
   {
    "duration": 11,
    "start_time": "2023-03-11T09:28:41.281Z"
   },
   {
    "duration": 7,
    "start_time": "2023-03-11T09:29:15.913Z"
   },
   {
    "duration": 11,
    "start_time": "2023-03-11T09:29:20.096Z"
   },
   {
    "duration": 14,
    "start_time": "2023-03-11T09:29:28.796Z"
   },
   {
    "duration": 7,
    "start_time": "2023-03-11T09:29:49.869Z"
   },
   {
    "duration": 7,
    "start_time": "2023-03-11T09:29:51.310Z"
   },
   {
    "duration": 13,
    "start_time": "2023-03-11T09:29:51.895Z"
   },
   {
    "duration": 26,
    "start_time": "2023-03-11T09:29:52.429Z"
   },
   {
    "duration": 12,
    "start_time": "2023-03-11T09:29:52.953Z"
   },
   {
    "duration": 14,
    "start_time": "2023-03-11T09:29:53.503Z"
   },
   {
    "duration": 4,
    "start_time": "2023-03-11T09:30:00.429Z"
   },
   {
    "duration": 3,
    "start_time": "2023-03-11T09:30:04.014Z"
   },
   {
    "duration": 40,
    "start_time": "2023-03-11T09:30:28.566Z"
   },
   {
    "duration": 13,
    "start_time": "2023-03-11T09:30:28.804Z"
   },
   {
    "duration": 13,
    "start_time": "2023-03-11T09:30:29.321Z"
   },
   {
    "duration": 920,
    "start_time": "2023-03-11T09:32:34.804Z"
   },
   {
    "duration": 11327,
    "start_time": "2023-03-11T10:05:34.204Z"
   },
   {
    "duration": 28,
    "start_time": "2023-03-11T10:05:55.143Z"
   },
   {
    "duration": 16,
    "start_time": "2023-03-11T10:06:03.533Z"
   },
   {
    "duration": 1255,
    "start_time": "2023-03-11T10:18:02.948Z"
   },
   {
    "duration": 19,
    "start_time": "2023-03-11T10:18:51.740Z"
   },
   {
    "duration": 6,
    "start_time": "2023-03-11T10:19:01.020Z"
   },
   {
    "duration": 10,
    "start_time": "2023-03-11T10:19:34.560Z"
   },
   {
    "duration": 13,
    "start_time": "2023-03-11T10:19:34.916Z"
   },
   {
    "duration": 17,
    "start_time": "2023-03-11T10:19:35.331Z"
   },
   {
    "duration": 8,
    "start_time": "2023-03-11T10:19:35.868Z"
   },
   {
    "duration": 9,
    "start_time": "2023-03-11T10:20:01.423Z"
   },
   {
    "duration": 28,
    "start_time": "2023-03-11T10:20:11.717Z"
   },
   {
    "duration": 6,
    "start_time": "2023-03-11T10:20:27.556Z"
   },
   {
    "duration": 14,
    "start_time": "2023-03-11T10:20:30.325Z"
   },
   {
    "duration": 5,
    "start_time": "2023-03-11T10:20:30.540Z"
   },
   {
    "duration": 5,
    "start_time": "2023-03-11T10:20:34.835Z"
   },
   {
    "duration": 17,
    "start_time": "2023-03-11T10:20:39.243Z"
   },
   {
    "duration": 10,
    "start_time": "2023-03-11T10:20:40.920Z"
   },
   {
    "duration": 19,
    "start_time": "2023-03-11T10:20:41.203Z"
   },
   {
    "duration": 5,
    "start_time": "2023-03-11T10:20:41.452Z"
   },
   {
    "duration": 15,
    "start_time": "2023-03-11T10:20:51.320Z"
   },
   {
    "duration": 40,
    "start_time": "2023-03-11T10:20:51.532Z"
   },
   {
    "duration": 13,
    "start_time": "2023-03-11T10:20:51.952Z"
   },
   {
    "duration": 27,
    "start_time": "2023-03-11T10:20:52.520Z"
   },
   {
    "duration": 17,
    "start_time": "2023-03-11T10:23:08.517Z"
   },
   {
    "duration": 14,
    "start_time": "2023-03-11T10:55:55.302Z"
   },
   {
    "duration": 5,
    "start_time": "2023-03-11T10:55:59.166Z"
   },
   {
    "duration": 33,
    "start_time": "2023-03-11T10:56:01.119Z"
   },
   {
    "duration": 21,
    "start_time": "2023-03-11T10:56:01.374Z"
   },
   {
    "duration": 17,
    "start_time": "2023-03-11T10:56:02.438Z"
   },
   {
    "duration": 17,
    "start_time": "2023-03-11T11:03:19.953Z"
   },
   {
    "duration": 3,
    "start_time": "2023-03-11T11:06:36.599Z"
   },
   {
    "duration": 25,
    "start_time": "2023-03-11T11:06:37.497Z"
   },
   {
    "duration": 13,
    "start_time": "2023-03-11T11:06:37.737Z"
   },
   {
    "duration": 14,
    "start_time": "2023-03-11T11:06:38.226Z"
   },
   {
    "duration": 24,
    "start_time": "2023-03-11T11:07:41.146Z"
   },
   {
    "duration": 13,
    "start_time": "2023-03-11T11:08:17.803Z"
   },
   {
    "duration": 20,
    "start_time": "2023-03-11T11:08:27.579Z"
   },
   {
    "duration": 2358,
    "start_time": "2023-03-11T11:09:01.204Z"
   },
   {
    "duration": 7,
    "start_time": "2023-03-11T11:09:06.059Z"
   },
   {
    "duration": 20,
    "start_time": "2023-03-11T11:09:12.458Z"
   },
   {
    "duration": 2096,
    "start_time": "2023-03-11T11:10:31.807Z"
   },
   {
    "duration": 1286,
    "start_time": "2023-03-11T11:10:33.905Z"
   },
   {
    "duration": 822,
    "start_time": "2023-03-11T11:10:35.193Z"
   },
   {
    "duration": 33,
    "start_time": "2023-03-11T11:10:36.017Z"
   },
   {
    "duration": 46,
    "start_time": "2023-03-11T11:10:36.052Z"
   },
   {
    "duration": 93,
    "start_time": "2023-03-11T11:10:36.104Z"
   },
   {
    "duration": 56,
    "start_time": "2023-03-11T11:10:36.199Z"
   },
   {
    "duration": 345,
    "start_time": "2023-03-11T11:10:36.259Z"
   },
   {
    "duration": 286,
    "start_time": "2023-03-11T11:10:36.609Z"
   },
   {
    "duration": 17,
    "start_time": "2023-03-11T11:10:36.897Z"
   },
   {
    "duration": 33,
    "start_time": "2023-03-11T11:10:36.915Z"
   },
   {
    "duration": 346,
    "start_time": "2023-03-11T11:10:36.951Z"
   },
   {
    "duration": 39,
    "start_time": "2023-03-11T11:10:37.300Z"
   },
   {
    "duration": 7,
    "start_time": "2023-03-11T11:10:37.342Z"
   },
   {
    "duration": 82,
    "start_time": "2023-03-11T11:10:37.350Z"
   },
   {
    "duration": 29,
    "start_time": "2023-03-11T11:10:37.434Z"
   },
   {
    "duration": 255,
    "start_time": "2023-03-11T11:10:37.465Z"
   },
   {
    "duration": 243,
    "start_time": "2023-03-11T11:10:37.722Z"
   },
   {
    "duration": 29,
    "start_time": "2023-03-11T11:10:37.967Z"
   },
   {
    "duration": 25,
    "start_time": "2023-03-11T11:10:37.998Z"
   },
   {
    "duration": 32,
    "start_time": "2023-03-11T11:10:38.024Z"
   },
   {
    "duration": 40967,
    "start_time": "2023-03-11T11:10:38.058Z"
   },
   {
    "duration": 56,
    "start_time": "2023-03-11T11:11:19.026Z"
   },
   {
    "duration": 14,
    "start_time": "2023-03-11T11:11:19.084Z"
   },
   {
    "duration": 21,
    "start_time": "2023-03-11T11:11:19.099Z"
   },
   {
    "duration": 34283,
    "start_time": "2023-03-11T11:11:19.122Z"
   },
   {
    "duration": 10,
    "start_time": "2023-03-11T11:11:53.407Z"
   },
   {
    "duration": 28,
    "start_time": "2023-03-11T11:11:53.419Z"
   },
   {
    "duration": 2,
    "start_time": "2023-03-11T11:11:53.449Z"
   },
   {
    "duration": 99,
    "start_time": "2023-03-11T11:11:53.453Z"
   },
   {
    "duration": 152,
    "start_time": "2023-03-11T11:11:53.554Z"
   },
   {
    "duration": 29,
    "start_time": "2023-03-11T11:11:53.708Z"
   },
   {
    "duration": 8662,
    "start_time": "2023-03-11T11:11:53.739Z"
   },
   {
    "duration": 31,
    "start_time": "2023-03-11T11:12:02.403Z"
   },
   {
    "duration": 14,
    "start_time": "2023-03-11T11:12:02.435Z"
   },
   {
    "duration": 4,
    "start_time": "2023-03-11T11:12:02.451Z"
   },
   {
    "duration": 8896,
    "start_time": "2023-03-11T11:12:02.457Z"
   },
   {
    "duration": 145,
    "start_time": "2023-03-11T11:12:11.355Z"
   },
   {
    "duration": 27,
    "start_time": "2023-03-11T11:12:11.504Z"
   },
   {
    "duration": 76,
    "start_time": "2023-03-11T11:12:11.533Z"
   },
   {
    "duration": 14,
    "start_time": "2023-03-11T11:12:11.618Z"
   },
   {
    "duration": 133,
    "start_time": "2023-03-11T11:12:11.633Z"
   },
   {
    "duration": 30,
    "start_time": "2023-03-11T11:12:11.767Z"
   },
   {
    "duration": 27,
    "start_time": "2023-03-11T11:12:11.799Z"
   },
   {
    "duration": 24,
    "start_time": "2023-03-11T11:12:11.829Z"
   },
   {
    "duration": 3,
    "start_time": "2023-03-11T11:12:11.855Z"
   },
   {
    "duration": 30,
    "start_time": "2023-03-11T11:12:11.860Z"
   },
   {
    "duration": 169,
    "start_time": "2023-03-11T11:12:11.895Z"
   },
   {
    "duration": 146188,
    "start_time": "2023-03-11T11:12:12.066Z"
   },
   {
    "duration": 57,
    "start_time": "2023-03-11T11:14:38.256Z"
   },
   {
    "duration": 6,
    "start_time": "2023-03-11T11:14:38.315Z"
   },
   {
    "duration": 305362,
    "start_time": "2023-03-11T11:14:38.323Z"
   },
   {
    "duration": 161,
    "start_time": "2023-03-11T11:19:43.686Z"
   },
   {
    "duration": 160573,
    "start_time": "2023-03-11T11:19:43.849Z"
   },
   {
    "duration": 45,
    "start_time": "2023-03-11T11:22:24.424Z"
   },
   {
    "duration": 37,
    "start_time": "2023-03-11T11:22:24.482Z"
   },
   {
    "duration": 312126,
    "start_time": "2023-03-11T11:22:24.521Z"
   },
   {
    "duration": 14,
    "start_time": "2023-03-11T11:27:36.650Z"
   },
   {
    "duration": 120,
    "start_time": "2023-03-11T11:27:36.666Z"
   },
   {
    "duration": 134,
    "start_time": "2023-03-11T11:27:36.787Z"
   },
   {
    "duration": 9,
    "start_time": "2023-03-11T11:27:36.923Z"
   },
   {
    "duration": 45,
    "start_time": "2023-03-11T11:27:36.933Z"
   },
   {
    "duration": 19,
    "start_time": "2023-03-11T11:27:36.979Z"
   },
   {
    "duration": 37,
    "start_time": "2023-03-11T11:27:36.999Z"
   },
   {
    "duration": 16,
    "start_time": "2023-03-11T11:27:37.038Z"
   },
   {
    "duration": 16,
    "start_time": "2023-03-11T11:27:37.056Z"
   },
   {
    "duration": 832,
    "start_time": "2023-03-11T11:27:37.074Z"
   },
   {
    "duration": 229,
    "start_time": "2023-03-11T11:27:37.908Z"
   },
   {
    "duration": 0,
    "start_time": "2023-03-11T11:27:38.139Z"
   },
   {
    "duration": 0,
    "start_time": "2023-03-11T11:27:38.140Z"
   },
   {
    "duration": 0,
    "start_time": "2023-03-11T11:27:38.141Z"
   },
   {
    "duration": 0,
    "start_time": "2023-03-11T11:27:38.142Z"
   },
   {
    "duration": 8,
    "start_time": "2023-03-11T11:43:06.547Z"
   },
   {
    "duration": 8,
    "start_time": "2023-03-11T11:43:06.867Z"
   },
   {
    "duration": 14,
    "start_time": "2023-03-11T11:43:07.603Z"
   },
   {
    "duration": 43,
    "start_time": "2023-03-11T11:43:08.467Z"
   },
   {
    "duration": 13,
    "start_time": "2023-03-11T11:43:08.694Z"
   },
   {
    "duration": 19,
    "start_time": "2023-03-11T11:43:09.115Z"
   },
   {
    "duration": 26355,
    "start_time": "2023-03-11T11:43:13.659Z"
   },
   {
    "duration": 4,
    "start_time": "2023-03-11T12:15:28.596Z"
   },
   {
    "duration": 8,
    "start_time": "2023-03-11T12:15:57.318Z"
   },
   {
    "duration": 1520,
    "start_time": "2023-03-11T12:16:38.774Z"
   },
   {
    "duration": 86,
    "start_time": "2023-03-11T12:16:52.155Z"
   },
   {
    "duration": 8,
    "start_time": "2023-03-11T12:16:55.802Z"
   },
   {
    "duration": 11,
    "start_time": "2023-03-11T12:16:56.022Z"
   },
   {
    "duration": 16,
    "start_time": "2023-03-11T12:16:56.310Z"
   },
   {
    "duration": 30,
    "start_time": "2023-03-11T12:16:56.699Z"
   },
   {
    "duration": 12,
    "start_time": "2023-03-11T12:16:56.951Z"
   },
   {
    "duration": 30,
    "start_time": "2023-03-11T12:16:57.559Z"
   },
   {
    "duration": 15,
    "start_time": "2023-03-11T12:16:59.546Z"
   },
   {
    "duration": 7,
    "start_time": "2023-03-11T12:17:48.663Z"
   },
   {
    "duration": 7,
    "start_time": "2023-03-11T12:18:20.735Z"
   },
   {
    "duration": 24,
    "start_time": "2023-03-11T12:19:13.381Z"
   },
   {
    "duration": 1210,
    "start_time": "2023-03-11T12:20:45.427Z"
   },
   {
    "duration": 12,
    "start_time": "2023-03-11T12:20:54.931Z"
   },
   {
    "duration": 6,
    "start_time": "2023-03-11T12:21:04.754Z"
   },
   {
    "duration": 8,
    "start_time": "2023-03-11T12:21:05.008Z"
   },
   {
    "duration": 16,
    "start_time": "2023-03-11T12:21:05.395Z"
   },
   {
    "duration": 33,
    "start_time": "2023-03-11T12:21:05.647Z"
   },
   {
    "duration": 18,
    "start_time": "2023-03-11T12:21:05.872Z"
   },
   {
    "duration": 9,
    "start_time": "2023-03-11T12:21:06.195Z"
   },
   {
    "duration": 16,
    "start_time": "2023-03-11T12:21:07.895Z"
   },
   {
    "duration": 19,
    "start_time": "2023-03-11T12:22:11.804Z"
   },
   {
    "duration": 142,
    "start_time": "2023-03-11T12:22:15.480Z"
   },
   {
    "duration": 24,
    "start_time": "2023-03-11T12:22:21.497Z"
   },
   {
    "duration": 11,
    "start_time": "2023-03-11T12:22:44.344Z"
   },
   {
    "duration": 7,
    "start_time": "2023-03-11T12:22:51.512Z"
   },
   {
    "duration": 8,
    "start_time": "2023-03-11T12:23:19.800Z"
   },
   {
    "duration": 9,
    "start_time": "2023-03-11T12:23:20.025Z"
   },
   {
    "duration": 195,
    "start_time": "2023-03-11T12:23:20.344Z"
   },
   {
    "duration": 15,
    "start_time": "2023-03-11T12:23:22.040Z"
   },
   {
    "duration": 30,
    "start_time": "2023-03-11T12:23:22.296Z"
   },
   {
    "duration": 12,
    "start_time": "2023-03-11T12:23:22.528Z"
   },
   {
    "duration": 30,
    "start_time": "2023-03-11T12:23:28.664Z"
   },
   {
    "duration": 22,
    "start_time": "2023-03-11T12:23:34.456Z"
   },
   {
    "duration": 9,
    "start_time": "2023-03-11T12:24:01.444Z"
   },
   {
    "duration": 193,
    "start_time": "2023-03-11T12:24:01.765Z"
   },
   {
    "duration": 7,
    "start_time": "2023-03-11T12:24:02.144Z"
   },
   {
    "duration": 15,
    "start_time": "2023-03-11T12:24:02.656Z"
   },
   {
    "duration": 29,
    "start_time": "2023-03-11T12:24:03.008Z"
   },
   {
    "duration": 12,
    "start_time": "2023-03-11T12:24:03.329Z"
   },
   {
    "duration": 1458,
    "start_time": "2023-03-11T12:24:04.271Z"
   },
   {
    "duration": 493,
    "start_time": "2023-03-11T12:24:22.572Z"
   },
   {
    "duration": 26,
    "start_time": "2023-03-11T12:24:27.432Z"
   },
   {
    "duration": 24,
    "start_time": "2023-03-11T12:24:38.344Z"
   },
   {
    "duration": 5,
    "start_time": "2023-03-11T12:24:50.892Z"
   },
   {
    "duration": 12675939,
    "start_time": "2023-03-11T12:24:53.449Z"
   },
   {
    "duration": 91,
    "start_time": "2023-03-11T15:56:09.390Z"
   },
   {
    "duration": 24,
    "start_time": "2023-03-11T15:56:09.482Z"
   },
   {
    "duration": 9,
    "start_time": "2023-03-11T17:09:35.471Z"
   },
   {
    "duration": 224,
    "start_time": "2023-03-11T17:09:36.034Z"
   },
   {
    "duration": 6,
    "start_time": "2023-03-11T17:09:40.304Z"
   },
   {
    "duration": 13,
    "start_time": "2023-03-11T17:09:41.139Z"
   },
   {
    "duration": 27,
    "start_time": "2023-03-11T17:09:42.317Z"
   },
   {
    "duration": 12,
    "start_time": "2023-03-11T17:09:43.141Z"
   },
   {
    "duration": 1212,
    "start_time": "2023-03-11T17:09:44.038Z"
   },
   {
    "duration": 7,
    "start_time": "2023-03-11T17:10:19.570Z"
   },
   {
    "duration": 28,
    "start_time": "2023-03-11T17:10:21.182Z"
   },
   {
    "duration": 196,
    "start_time": "2023-03-11T17:11:02.267Z"
   },
   {
    "duration": 7,
    "start_time": "2023-03-11T17:11:35.006Z"
   },
   {
    "duration": 193,
    "start_time": "2023-03-11T17:11:35.229Z"
   },
   {
    "duration": 287,
    "start_time": "2023-03-11T17:12:33.265Z"
   },
   {
    "duration": 20,
    "start_time": "2023-03-11T17:13:05.640Z"
   },
   {
    "duration": 81,
    "start_time": "2023-03-11T17:15:27.237Z"
   },
   {
    "duration": 99,
    "start_time": "2023-03-11T17:15:37.024Z"
   },
   {
    "duration": 76,
    "start_time": "2023-03-11T17:15:47.809Z"
   },
   {
    "duration": 71,
    "start_time": "2023-03-11T17:15:53.395Z"
   },
   {
    "duration": 344,
    "start_time": "2023-03-11T17:15:59.356Z"
   },
   {
    "duration": 32,
    "start_time": "2023-03-11T17:16:36.822Z"
   },
   {
    "duration": 11,
    "start_time": "2023-03-11T17:16:37.036Z"
   },
   {
    "duration": 12,
    "start_time": "2023-03-11T17:16:50.009Z"
   },
   {
    "duration": 3,
    "start_time": "2023-03-11T17:17:01.741Z"
   },
   {
    "duration": 5,
    "start_time": "2023-03-11T17:17:10.577Z"
   },
   {
    "duration": 10,
    "start_time": "2023-03-11T17:17:32.149Z"
   },
   {
    "duration": 33,
    "start_time": "2023-03-11T17:17:32.352Z"
   },
   {
    "duration": 13,
    "start_time": "2023-03-11T17:17:32.698Z"
   },
   {
    "duration": 508,
    "start_time": "2023-03-11T17:17:33.520Z"
   },
   {
    "duration": 190,
    "start_time": "2023-03-11T17:17:52.766Z"
   },
   {
    "duration": 4,
    "start_time": "2023-03-11T17:18:11.837Z"
   },
   {
    "duration": 3,
    "start_time": "2023-03-11T17:18:42.940Z"
   },
   {
    "duration": 68,
    "start_time": "2023-03-11T17:19:55.477Z"
   },
   {
    "duration": 2,
    "start_time": "2023-03-11T17:20:24.733Z"
   },
   {
    "duration": 285228,
    "start_time": "2023-03-11T17:20:53.353Z"
   },
   {
    "duration": 276,
    "start_time": "2023-03-11T17:28:27.542Z"
   },
   {
    "duration": 248,
    "start_time": "2023-03-11T17:28:36.158Z"
   },
   {
    "duration": 5,
    "start_time": "2023-03-11T17:29:19.343Z"
   },
   {
    "duration": 12,
    "start_time": "2023-03-11T17:31:58.644Z"
   },
   {
    "duration": 12,
    "start_time": "2023-03-11T17:35:58.851Z"
   },
   {
    "duration": 5093,
    "start_time": "2023-03-11T17:36:12.092Z"
   },
   {
    "duration": 1388,
    "start_time": "2023-03-11T17:36:49.698Z"
   },
   {
    "duration": 34612,
    "start_time": "2023-03-11T17:39:00.268Z"
   },
   {
    "duration": 10,
    "start_time": "2023-03-11T17:41:53.162Z"
   },
   {
    "duration": 43,
    "start_time": "2023-03-11T17:42:14.546Z"
   },
   {
    "duration": 92,
    "start_time": "2023-03-11T17:42:24.594Z"
   },
   {
    "duration": 5,
    "start_time": "2023-03-11T17:42:25.341Z"
   },
   {
    "duration": 96,
    "start_time": "2023-03-11T17:44:11.291Z"
   },
   {
    "duration": 6,
    "start_time": "2023-03-11T17:44:11.481Z"
   },
   {
    "duration": 80892,
    "start_time": "2023-03-11T17:44:11.488Z"
   },
   {
    "duration": 9,
    "start_time": "2023-03-11T17:46:20.170Z"
   },
   {
    "duration": 2,
    "start_time": "2023-03-11T17:49:09.050Z"
   },
   {
    "duration": 10,
    "start_time": "2023-03-11T17:49:15.338Z"
   },
   {
    "duration": 5,
    "start_time": "2023-03-11T17:49:15.604Z"
   },
   {
    "duration": 114721,
    "start_time": "2023-03-11T17:49:43.668Z"
   },
   {
    "duration": 291,
    "start_time": "2023-03-11T17:51:38.391Z"
   },
   {
    "duration": 7,
    "start_time": "2023-03-11T17:51:38.683Z"
   },
   {
    "duration": 186,
    "start_time": "2023-03-11T17:51:45.609Z"
   },
   {
    "duration": 5,
    "start_time": "2023-03-11T17:51:46.891Z"
   },
   {
    "duration": 13,
    "start_time": "2023-03-11T17:52:10.951Z"
   },
   {
    "duration": 928,
    "start_time": "2023-03-11T17:52:13.654Z"
   },
   {
    "duration": 7,
    "start_time": "2023-03-11T17:52:14.584Z"
   },
   {
    "duration": 5418,
    "start_time": "2023-03-11T17:53:07.965Z"
   },
   {
    "duration": 1598,
    "start_time": "2023-03-11T17:53:13.384Z"
   },
   {
    "duration": 6,
    "start_time": "2023-03-11T17:53:14.984Z"
   },
   {
    "duration": 4888,
    "start_time": "2023-03-11T17:53:39.194Z"
   },
   {
    "duration": 1176,
    "start_time": "2023-03-11T17:53:50.004Z"
   },
   {
    "duration": 6,
    "start_time": "2023-03-11T17:53:51.182Z"
   },
   {
    "duration": 4430,
    "start_time": "2023-03-11T17:53:56.556Z"
   },
   {
    "duration": 1093,
    "start_time": "2023-03-11T17:54:00.988Z"
   },
   {
    "duration": 5,
    "start_time": "2023-03-11T17:54:02.082Z"
   },
   {
    "duration": 12,
    "start_time": "2023-03-11T17:55:20.979Z"
   },
   {
    "duration": 642,
    "start_time": "2023-03-11T17:55:32.050Z"
   },
   {
    "duration": 5664,
    "start_time": "2023-03-11T17:56:10.479Z"
   },
   {
    "duration": 560,
    "start_time": "2023-03-11T17:56:45.491Z"
   },
   {
    "duration": 2045,
    "start_time": "2023-03-11T17:56:59.251Z"
   },
   {
    "duration": 9,
    "start_time": "2023-03-11T17:57:49.251Z"
   },
   {
    "duration": 5,
    "start_time": "2023-03-11T17:57:55.198Z"
   },
   {
    "duration": 8055,
    "start_time": "2023-03-11T17:59:35.972Z"
   },
   {
    "duration": 4,
    "start_time": "2023-03-11T17:59:44.029Z"
   },
   {
    "duration": 12,
    "start_time": "2023-03-11T18:00:23.544Z"
   },
   {
    "duration": 185,
    "start_time": "2023-03-11T18:00:27.399Z"
   },
   {
    "duration": 6,
    "start_time": "2023-03-11T18:00:28.745Z"
   },
   {
    "duration": 7105,
    "start_time": "2023-03-11T18:00:32.543Z"
   },
   {
    "duration": 5,
    "start_time": "2023-03-11T18:00:39.650Z"
   },
   {
    "duration": 4,
    "start_time": "2023-03-11T18:02:17.744Z"
   },
   {
    "duration": 3,
    "start_time": "2023-03-11T18:02:44.365Z"
   },
   {
    "duration": 62,
    "start_time": "2023-03-11T18:03:02.042Z"
   },
   {
    "duration": 88,
    "start_time": "2023-03-11T18:03:43.493Z"
   },
   {
    "duration": 4,
    "start_time": "2023-03-11T18:03:43.970Z"
   },
   {
    "duration": 204993,
    "start_time": "2023-03-11T18:07:14.573Z"
   },
   {
    "duration": 0,
    "start_time": "2023-03-11T18:10:39.568Z"
   },
   {
    "duration": 0,
    "start_time": "2023-03-11T18:10:39.569Z"
   },
   {
    "duration": 138012,
    "start_time": "2023-03-11T18:11:20.484Z"
   },
   {
    "duration": 3,
    "start_time": "2023-03-11T18:13:38.497Z"
   },
   {
    "duration": 7,
    "start_time": "2023-03-11T18:13:38.501Z"
   },
   {
    "duration": 90,
    "start_time": "2023-03-11T18:14:34.692Z"
   },
   {
    "duration": 3,
    "start_time": "2023-03-11T18:14:34.983Z"
   },
   {
    "duration": 651021,
    "start_time": "2023-03-11T18:14:45.297Z"
   },
   {
    "duration": 4,
    "start_time": "2023-03-11T18:25:36.320Z"
   },
   {
    "duration": 12,
    "start_time": "2023-03-11T18:25:36.326Z"
   },
   {
    "duration": 120,
    "start_time": "2023-03-11T18:30:18.796Z"
   },
   {
    "duration": 6,
    "start_time": "2023-03-11T18:30:29.561Z"
   },
   {
    "duration": 5,
    "start_time": "2023-03-11T18:30:43.071Z"
   },
   {
    "duration": 5,
    "start_time": "2023-03-11T18:31:48.880Z"
   },
   {
    "duration": 45838,
    "start_time": "2023-03-11T18:32:24.405Z"
   },
   {
    "duration": 45200,
    "start_time": "2023-03-11T18:33:16.146Z"
   },
   {
    "duration": 2,
    "start_time": "2023-03-11T18:34:45.238Z"
   },
   {
    "duration": 4794,
    "start_time": "2023-03-11T18:34:45.689Z"
   },
   {
    "duration": 2,
    "start_time": "2023-03-11T18:35:14.861Z"
   },
   {
    "duration": 463278,
    "start_time": "2023-03-11T18:35:15.338Z"
   },
   {
    "duration": 417,
    "start_time": "2023-03-11T18:43:44.742Z"
   },
   {
    "duration": 4,
    "start_time": "2023-03-11T18:43:55.670Z"
   },
   {
    "duration": 2,
    "start_time": "2023-03-11T18:44:17.573Z"
   },
   {
    "duration": 141,
    "start_time": "2023-03-11T18:52:27.628Z"
   },
   {
    "duration": 7,
    "start_time": "2023-03-11T18:52:53.843Z"
   },
   {
    "duration": 1932,
    "start_time": "2023-03-11T18:53:06.399Z"
   },
   {
    "duration": 1691,
    "start_time": "2023-03-11T18:53:08.334Z"
   },
   {
    "duration": 988,
    "start_time": "2023-03-11T18:53:10.027Z"
   },
   {
    "duration": 24,
    "start_time": "2023-03-11T18:53:11.017Z"
   },
   {
    "duration": 25,
    "start_time": "2023-03-11T18:53:11.043Z"
   },
   {
    "duration": 71,
    "start_time": "2023-03-11T18:53:11.070Z"
   },
   {
    "duration": 15,
    "start_time": "2023-03-11T18:53:11.143Z"
   },
   {
    "duration": 263,
    "start_time": "2023-03-11T18:53:11.160Z"
   },
   {
    "duration": 239,
    "start_time": "2023-03-11T18:53:11.425Z"
   },
   {
    "duration": 18,
    "start_time": "2023-03-11T18:53:11.666Z"
   },
   {
    "duration": 26,
    "start_time": "2023-03-11T18:53:11.685Z"
   },
   {
    "duration": 267,
    "start_time": "2023-03-11T18:53:11.713Z"
   },
   {
    "duration": 28,
    "start_time": "2023-03-11T18:53:11.981Z"
   },
   {
    "duration": 5,
    "start_time": "2023-03-11T18:53:12.010Z"
   },
   {
    "duration": 46,
    "start_time": "2023-03-11T18:53:12.016Z"
   },
   {
    "duration": 38,
    "start_time": "2023-03-11T18:53:12.064Z"
   },
   {
    "duration": 213,
    "start_time": "2023-03-11T18:53:12.103Z"
   },
   {
    "duration": 195,
    "start_time": "2023-03-11T18:53:12.317Z"
   },
   {
    "duration": 9,
    "start_time": "2023-03-11T18:53:12.513Z"
   },
   {
    "duration": 2,
    "start_time": "2023-03-11T18:53:12.523Z"
   },
   {
    "duration": 29,
    "start_time": "2023-03-11T18:53:12.527Z"
   },
   {
    "duration": 35149,
    "start_time": "2023-03-11T18:53:12.558Z"
   },
   {
    "duration": 47,
    "start_time": "2023-03-11T18:53:47.709Z"
   },
   {
    "duration": 24,
    "start_time": "2023-03-11T18:53:47.757Z"
   },
   {
    "duration": 3,
    "start_time": "2023-03-11T18:53:47.782Z"
   },
   {
    "duration": 32118,
    "start_time": "2023-03-11T18:53:47.787Z"
   },
   {
    "duration": 9,
    "start_time": "2023-03-11T18:54:19.907Z"
   },
   {
    "duration": 26,
    "start_time": "2023-03-11T18:54:19.920Z"
   },
   {
    "duration": 3,
    "start_time": "2023-03-11T18:54:19.948Z"
   },
   {
    "duration": 91,
    "start_time": "2023-03-11T18:54:19.953Z"
   },
   {
    "duration": 143,
    "start_time": "2023-03-11T18:54:20.046Z"
   },
   {
    "duration": 21,
    "start_time": "2023-03-11T18:54:20.190Z"
   },
   {
    "duration": 7390,
    "start_time": "2023-03-11T18:54:20.213Z"
   },
   {
    "duration": 22,
    "start_time": "2023-03-11T18:54:27.605Z"
   },
   {
    "duration": 17,
    "start_time": "2023-03-11T18:54:27.629Z"
   },
   {
    "duration": 4,
    "start_time": "2023-03-11T18:54:27.648Z"
   },
   {
    "duration": 8209,
    "start_time": "2023-03-11T18:54:27.654Z"
   },
   {
    "duration": 144,
    "start_time": "2023-03-11T18:54:35.864Z"
   },
   {
    "duration": 17,
    "start_time": "2023-03-11T18:54:36.010Z"
   },
   {
    "duration": 68,
    "start_time": "2023-03-11T18:54:36.029Z"
   },
   {
    "duration": 15,
    "start_time": "2023-03-11T18:54:36.099Z"
   },
   {
    "duration": 188,
    "start_time": "2023-03-11T18:54:36.116Z"
   },
   {
    "duration": 31,
    "start_time": "2023-03-11T18:54:36.306Z"
   },
   {
    "duration": 7,
    "start_time": "2023-03-11T18:54:36.339Z"
   },
   {
    "duration": 56,
    "start_time": "2023-03-11T18:54:36.348Z"
   },
   {
    "duration": 4,
    "start_time": "2023-03-11T18:54:36.406Z"
   },
   {
    "duration": 34,
    "start_time": "2023-03-11T18:54:36.413Z"
   },
   {
    "duration": 128,
    "start_time": "2023-03-11T18:54:36.449Z"
   },
   {
    "duration": 135518,
    "start_time": "2023-03-11T18:54:36.589Z"
   },
   {
    "duration": 47,
    "start_time": "2023-03-11T18:56:52.108Z"
   },
   {
    "duration": 32,
    "start_time": "2023-03-11T18:56:52.157Z"
   },
   {
    "duration": 276676,
    "start_time": "2023-03-11T18:56:52.198Z"
   },
   {
    "duration": 130,
    "start_time": "2023-03-11T19:01:28.876Z"
   },
   {
    "duration": 137695,
    "start_time": "2023-03-11T19:01:29.007Z"
   },
   {
    "duration": 46,
    "start_time": "2023-03-11T19:03:46.704Z"
   },
   {
    "duration": 7,
    "start_time": "2023-03-11T19:03:46.751Z"
   },
   {
    "duration": 277610,
    "start_time": "2023-03-11T19:03:46.759Z"
   },
   {
    "duration": 19,
    "start_time": "2023-03-11T19:08:24.370Z"
   },
   {
    "duration": 194,
    "start_time": "2023-03-11T19:08:24.391Z"
   },
   {
    "duration": 14,
    "start_time": "2023-03-11T19:08:24.586Z"
   },
   {
    "duration": 541,
    "start_time": "2023-03-11T19:08:24.602Z"
   },
   {
    "duration": 17,
    "start_time": "2023-03-11T19:08:25.145Z"
   },
   {
    "duration": 49,
    "start_time": "2023-03-11T19:08:25.163Z"
   },
   {
    "duration": 11,
    "start_time": "2023-03-11T19:08:25.214Z"
   },
   {
    "duration": 599,
    "start_time": "2023-03-11T19:08:25.227Z"
   },
   {
    "duration": 287,
    "start_time": "2023-03-11T19:08:25.828Z"
   },
   {
    "duration": 4,
    "start_time": "2023-03-11T19:08:26.117Z"
   },
   {
    "duration": 2056066,
    "start_time": "2023-03-11T19:08:26.123Z"
   },
   {
    "duration": 3,
    "start_time": "2023-03-11T19:42:42.190Z"
   },
   {
    "duration": 6,
    "start_time": "2023-03-11T19:42:42.194Z"
   },
   {
    "duration": 3,
    "start_time": "2023-03-11T19:42:42.279Z"
   },
   {
    "duration": 3096,
    "start_time": "2023-03-11T19:42:42.284Z"
   },
   {
    "duration": 208,
    "start_time": "2023-03-11T19:42:45.381Z"
   },
   {
    "duration": 5,
    "start_time": "2023-03-11T19:42:45.680Z"
   },
   {
    "duration": 547106,
    "start_time": "2023-03-11T19:42:45.686Z"
   },
   {
    "duration": 0,
    "start_time": "2023-03-11T19:51:52.793Z"
   },
   {
    "duration": 0,
    "start_time": "2023-03-11T19:51:52.794Z"
   },
   {
    "duration": 0,
    "start_time": "2023-03-11T19:51:52.796Z"
   },
   {
    "duration": 1,
    "start_time": "2023-03-11T19:51:52.796Z"
   },
   {
    "duration": 0,
    "start_time": "2023-03-11T19:51:52.797Z"
   },
   {
    "duration": 0,
    "start_time": "2023-03-11T19:51:52.798Z"
   },
   {
    "duration": 0,
    "start_time": "2023-03-11T19:51:52.799Z"
   },
   {
    "duration": 0,
    "start_time": "2023-03-11T19:51:52.800Z"
   },
   {
    "duration": 9,
    "start_time": "2023-03-11T21:29:19.342Z"
   },
   {
    "duration": 3,
    "start_time": "2023-03-11T21:37:00.310Z"
   },
   {
    "duration": 3,
    "start_time": "2023-03-11T21:37:00.790Z"
   },
   {
    "duration": 162,
    "start_time": "2023-03-12T02:42:42.009Z"
   },
   {
    "duration": 57,
    "start_time": "2023-03-12T11:20:48.174Z"
   },
   {
    "duration": 7146,
    "start_time": "2023-03-12T11:23:07.748Z"
   },
   {
    "duration": 1504,
    "start_time": "2023-03-12T11:23:14.897Z"
   },
   {
    "duration": 3298,
    "start_time": "2023-03-12T11:23:16.403Z"
   },
   {
    "duration": 28,
    "start_time": "2023-03-12T11:23:19.702Z"
   },
   {
    "duration": 65,
    "start_time": "2023-03-12T11:23:19.732Z"
   },
   {
    "duration": 140,
    "start_time": "2023-03-12T11:23:19.799Z"
   },
   {
    "duration": 35,
    "start_time": "2023-03-12T11:23:19.941Z"
   },
   {
    "duration": 367,
    "start_time": "2023-03-12T11:23:19.978Z"
   },
   {
    "duration": 280,
    "start_time": "2023-03-12T11:23:20.347Z"
   },
   {
    "duration": 14,
    "start_time": "2023-03-12T11:23:20.629Z"
   },
   {
    "duration": 65,
    "start_time": "2023-03-12T11:23:20.644Z"
   },
   {
    "duration": 395,
    "start_time": "2023-03-12T11:23:20.711Z"
   },
   {
    "duration": 38,
    "start_time": "2023-03-12T11:23:21.108Z"
   },
   {
    "duration": 42,
    "start_time": "2023-03-12T11:23:21.149Z"
   },
   {
    "duration": 77,
    "start_time": "2023-03-12T11:23:21.193Z"
   },
   {
    "duration": 28,
    "start_time": "2023-03-12T11:23:21.272Z"
   },
   {
    "duration": 283,
    "start_time": "2023-03-12T11:23:21.302Z"
   },
   {
    "duration": 290,
    "start_time": "2023-03-12T11:23:21.586Z"
   },
   {
    "duration": 12,
    "start_time": "2023-03-12T11:23:21.878Z"
   },
   {
    "duration": 57,
    "start_time": "2023-03-12T11:23:21.892Z"
   },
   {
    "duration": 45,
    "start_time": "2023-03-12T11:23:21.951Z"
   },
   {
    "duration": 41987,
    "start_time": "2023-03-12T11:23:21.998Z"
   },
   {
    "duration": 54,
    "start_time": "2023-03-12T11:24:03.987Z"
   },
   {
    "duration": 10,
    "start_time": "2023-03-12T11:24:04.043Z"
   },
   {
    "duration": 3,
    "start_time": "2023-03-12T11:24:04.055Z"
   },
   {
    "duration": 39774,
    "start_time": "2023-03-12T11:24:04.059Z"
   },
   {
    "duration": 13,
    "start_time": "2023-03-12T11:24:43.835Z"
   },
   {
    "duration": 29,
    "start_time": "2023-03-12T11:24:43.850Z"
   },
   {
    "duration": 3,
    "start_time": "2023-03-12T11:24:43.881Z"
   },
   {
    "duration": 102,
    "start_time": "2023-03-12T11:24:43.885Z"
   },
   {
    "duration": 136,
    "start_time": "2023-03-12T11:24:43.989Z"
   },
   {
    "duration": 26,
    "start_time": "2023-03-12T11:24:44.127Z"
   },
   {
    "duration": 8142,
    "start_time": "2023-03-12T11:24:44.154Z"
   },
   {
    "duration": 24,
    "start_time": "2023-03-12T11:24:52.297Z"
   },
   {
    "duration": 21,
    "start_time": "2023-03-12T11:24:52.323Z"
   },
   {
    "duration": 11,
    "start_time": "2023-03-12T11:24:52.346Z"
   },
   {
    "duration": 8760,
    "start_time": "2023-03-12T11:24:52.359Z"
   },
   {
    "duration": 160,
    "start_time": "2023-03-12T11:25:01.121Z"
   },
   {
    "duration": 20,
    "start_time": "2023-03-12T11:25:01.283Z"
   },
   {
    "duration": 74,
    "start_time": "2023-03-12T11:25:01.306Z"
   },
   {
    "duration": 18,
    "start_time": "2023-03-12T11:25:01.386Z"
   },
   {
    "duration": 171,
    "start_time": "2023-03-12T11:25:01.406Z"
   },
   {
    "duration": 28,
    "start_time": "2023-03-12T11:25:01.579Z"
   },
   {
    "duration": 8,
    "start_time": "2023-03-12T11:25:01.609Z"
   },
   {
    "duration": 24,
    "start_time": "2023-03-12T11:25:01.641Z"
   },
   {
    "duration": 21,
    "start_time": "2023-03-12T11:25:01.667Z"
   },
   {
    "duration": 56,
    "start_time": "2023-03-12T11:25:01.689Z"
   },
   {
    "duration": 209,
    "start_time": "2023-03-12T11:25:01.747Z"
   },
   {
    "duration": 147298,
    "start_time": "2023-03-12T11:25:01.957Z"
   },
   {
    "duration": 91,
    "start_time": "2023-03-12T11:27:29.258Z"
   },
   {
    "duration": 6,
    "start_time": "2023-03-12T11:27:29.351Z"
   },
   {
    "duration": 298534,
    "start_time": "2023-03-12T11:27:29.359Z"
   },
   {
    "duration": 152,
    "start_time": "2023-03-12T11:32:27.894Z"
   },
   {
    "duration": 146752,
    "start_time": "2023-03-12T11:32:28.048Z"
   },
   {
    "duration": 51,
    "start_time": "2023-03-12T11:34:54.802Z"
   },
   {
    "duration": 4,
    "start_time": "2023-03-12T11:34:54.855Z"
   },
   {
    "duration": 288126,
    "start_time": "2023-03-12T11:34:54.861Z"
   },
   {
    "duration": 18,
    "start_time": "2023-03-12T11:39:42.988Z"
   },
   {
    "duration": 169,
    "start_time": "2023-03-12T11:39:43.011Z"
   },
   {
    "duration": 11,
    "start_time": "2023-03-12T11:39:43.182Z"
   },
   {
    "duration": 559,
    "start_time": "2023-03-12T11:39:43.194Z"
   },
   {
    "duration": 18,
    "start_time": "2023-03-12T11:39:43.755Z"
   },
   {
    "duration": 78,
    "start_time": "2023-03-12T11:39:43.776Z"
   },
   {
    "duration": 18,
    "start_time": "2023-03-12T11:39:43.856Z"
   },
   {
    "duration": 603,
    "start_time": "2023-03-12T11:39:43.876Z"
   },
   {
    "duration": 243,
    "start_time": "2023-03-12T11:39:44.480Z"
   },
   {
    "duration": 3,
    "start_time": "2023-03-12T11:39:44.725Z"
   },
   {
    "duration": 1743502,
    "start_time": "2023-03-12T11:39:44.741Z"
   },
   {
    "duration": 4,
    "start_time": "2023-03-12T12:08:48.245Z"
   },
   {
    "duration": 28,
    "start_time": "2023-03-12T12:08:48.251Z"
   },
   {
    "duration": 22,
    "start_time": "2023-03-12T12:08:48.281Z"
   },
   {
    "duration": 3436,
    "start_time": "2023-03-12T12:08:48.305Z"
   },
   {
    "duration": 207,
    "start_time": "2023-03-12T12:08:51.743Z"
   },
   {
    "duration": 6,
    "start_time": "2023-03-12T12:08:51.952Z"
   },
   {
    "duration": 7485157,
    "start_time": "2023-03-12T12:08:51.959Z"
   },
   {
    "duration": 3,
    "start_time": "2023-03-12T14:13:37.118Z"
   },
   {
    "duration": 27,
    "start_time": "2023-03-12T14:13:37.123Z"
   },
   {
    "duration": 5,
    "start_time": "2023-03-12T14:13:37.154Z"
   },
   {
    "duration": 625807,
    "start_time": "2023-03-12T14:13:37.161Z"
   },
   {
    "duration": 680,
    "start_time": "2023-03-12T14:24:02.971Z"
   },
   {
    "duration": 16,
    "start_time": "2023-03-12T14:24:03.653Z"
   },
   {
    "duration": 79,
    "start_time": "2023-03-12T14:24:03.671Z"
   },
   {
    "duration": 303,
    "start_time": "2023-03-12T14:24:03.759Z"
   },
   {
    "duration": 16,
    "start_time": "2023-03-12T14:24:04.073Z"
   },
   {
    "duration": 99,
    "start_time": "2023-03-12T14:24:04.091Z"
   },
   {
    "duration": 68,
    "start_time": "2023-03-12T14:27:03.357Z"
   },
   {
    "duration": 3382,
    "start_time": "2023-03-12T14:27:03.673Z"
   },
   {
    "duration": 118,
    "start_time": "2023-03-12T14:39:35.780Z"
   },
   {
    "duration": 4491,
    "start_time": "2023-03-12T14:40:02.219Z"
   },
   {
    "duration": 2280,
    "start_time": "2023-03-12T14:40:06.712Z"
   },
   {
    "duration": 3483,
    "start_time": "2023-03-12T14:40:08.994Z"
   },
   {
    "duration": 23,
    "start_time": "2023-03-12T14:40:12.479Z"
   },
   {
    "duration": 24,
    "start_time": "2023-03-12T14:40:12.504Z"
   },
   {
    "duration": 91,
    "start_time": "2023-03-12T14:40:12.530Z"
   },
   {
    "duration": 16,
    "start_time": "2023-03-12T14:40:12.622Z"
   },
   {
    "duration": 330,
    "start_time": "2023-03-12T14:40:12.640Z"
   },
   {
    "duration": 322,
    "start_time": "2023-03-12T14:40:12.972Z"
   },
   {
    "duration": 10,
    "start_time": "2023-03-12T14:40:13.297Z"
   },
   {
    "duration": 46,
    "start_time": "2023-03-12T14:40:13.309Z"
   },
   {
    "duration": 380,
    "start_time": "2023-03-12T14:40:13.358Z"
   },
   {
    "duration": 43,
    "start_time": "2023-03-12T14:40:13.742Z"
   },
   {
    "duration": 8,
    "start_time": "2023-03-12T14:40:13.787Z"
   },
   {
    "duration": 85,
    "start_time": "2023-03-12T14:40:13.797Z"
   },
   {
    "duration": 38,
    "start_time": "2023-03-12T14:40:13.885Z"
   },
   {
    "duration": 359,
    "start_time": "2023-03-12T14:40:13.925Z"
   },
   {
    "duration": 277,
    "start_time": "2023-03-12T14:40:14.286Z"
   },
   {
    "duration": 11,
    "start_time": "2023-03-12T14:40:14.567Z"
   },
   {
    "duration": 4,
    "start_time": "2023-03-12T14:40:14.580Z"
   },
   {
    "duration": 32,
    "start_time": "2023-03-12T14:40:14.585Z"
   },
   {
    "duration": 45442,
    "start_time": "2023-03-12T14:40:14.640Z"
   },
   {
    "duration": 48,
    "start_time": "2023-03-12T14:41:00.084Z"
   },
   {
    "duration": 16,
    "start_time": "2023-03-12T14:41:00.142Z"
   },
   {
    "duration": 22,
    "start_time": "2023-03-12T14:41:00.160Z"
   },
   {
    "duration": 41816,
    "start_time": "2023-03-12T14:41:00.184Z"
   },
   {
    "duration": 10,
    "start_time": "2023-03-12T14:41:42.001Z"
   },
   {
    "duration": 52,
    "start_time": "2023-03-12T14:41:42.014Z"
   },
   {
    "duration": 3,
    "start_time": "2023-03-12T14:41:42.067Z"
   },
   {
    "duration": 113,
    "start_time": "2023-03-12T14:41:42.072Z"
   },
   {
    "duration": 190,
    "start_time": "2023-03-12T14:41:42.187Z"
   },
   {
    "duration": 21,
    "start_time": "2023-03-12T14:41:42.380Z"
   },
   {
    "duration": 8889,
    "start_time": "2023-03-12T14:41:42.403Z"
   },
   {
    "duration": 23,
    "start_time": "2023-03-12T14:41:51.294Z"
   },
   {
    "duration": 13,
    "start_time": "2023-03-12T14:41:51.319Z"
   },
   {
    "duration": 6,
    "start_time": "2023-03-12T14:41:51.348Z"
   },
   {
    "duration": 9268,
    "start_time": "2023-03-12T14:41:51.356Z"
   },
   {
    "duration": 143,
    "start_time": "2023-03-12T14:42:00.626Z"
   },
   {
    "duration": 18,
    "start_time": "2023-03-12T14:42:00.771Z"
   },
   {
    "duration": 133,
    "start_time": "2023-03-12T14:42:00.791Z"
   },
   {
    "duration": 44,
    "start_time": "2023-03-12T14:42:00.926Z"
   },
   {
    "duration": 214,
    "start_time": "2023-03-12T14:42:00.971Z"
   },
   {
    "duration": 30,
    "start_time": "2023-03-12T14:42:01.187Z"
   },
   {
    "duration": 23,
    "start_time": "2023-03-12T14:42:01.219Z"
   },
   {
    "duration": 27,
    "start_time": "2023-03-12T14:42:01.244Z"
   },
   {
    "duration": 20,
    "start_time": "2023-03-12T14:42:01.273Z"
   },
   {
    "duration": 75,
    "start_time": "2023-03-12T14:42:01.295Z"
   },
   {
    "duration": 190,
    "start_time": "2023-03-12T14:42:01.372Z"
   },
   {
    "duration": 154545,
    "start_time": "2023-03-12T14:42:01.566Z"
   },
   {
    "duration": 61,
    "start_time": "2023-03-12T14:44:36.113Z"
   },
   {
    "duration": 6,
    "start_time": "2023-03-12T14:44:36.177Z"
   },
   {
    "duration": 315676,
    "start_time": "2023-03-12T14:44:36.185Z"
   },
   {
    "duration": 149,
    "start_time": "2023-03-12T14:49:51.864Z"
   },
   {
    "duration": 154717,
    "start_time": "2023-03-12T14:49:52.015Z"
   },
   {
    "duration": 50,
    "start_time": "2023-03-12T14:52:26.734Z"
   },
   {
    "duration": 24,
    "start_time": "2023-03-12T14:52:26.786Z"
   },
   {
    "duration": 309834,
    "start_time": "2023-03-12T14:52:26.812Z"
   },
   {
    "duration": 20,
    "start_time": "2023-03-12T14:57:36.649Z"
   },
   {
    "duration": 149,
    "start_time": "2023-03-12T14:57:36.670Z"
   },
   {
    "duration": 20,
    "start_time": "2023-03-12T14:57:36.821Z"
   },
   {
    "duration": 611,
    "start_time": "2023-03-12T14:57:36.844Z"
   },
   {
    "duration": 20,
    "start_time": "2023-03-12T14:57:37.457Z"
   },
   {
    "duration": 86,
    "start_time": "2023-03-12T14:57:37.480Z"
   },
   {
    "duration": 20,
    "start_time": "2023-03-12T14:57:37.568Z"
   },
   {
    "duration": 772,
    "start_time": "2023-03-12T14:57:37.590Z"
   },
   {
    "duration": 255,
    "start_time": "2023-03-12T14:58:46.160Z"
   },
   {
    "duration": 2,
    "start_time": "2023-03-12T14:58:57.936Z"
   },
   {
    "duration": 9,
    "start_time": "2023-03-12T14:59:09.245Z"
   },
   {
    "duration": 3,
    "start_time": "2023-03-12T14:59:13.175Z"
   },
   {
    "duration": 93,
    "start_time": "2023-03-12T14:59:16.503Z"
   },
   {
    "duration": 231868,
    "start_time": "2023-03-12T14:59:18.807Z"
   },
   {
    "duration": 565930,
    "start_time": "2023-03-12T15:03:10.743Z"
   },
   {
    "duration": 117,
    "start_time": "2023-03-12T15:12:36.674Z"
   },
   {
    "duration": 65,
    "start_time": "2023-03-12T15:12:36.793Z"
   },
   {
    "duration": 62,
    "start_time": "2023-03-12T15:12:36.859Z"
   },
   {
    "duration": 12,
    "start_time": "2023-03-12T15:12:36.923Z"
   },
   {
    "duration": 0,
    "start_time": "2023-03-12T15:12:36.937Z"
   },
   {
    "duration": 0,
    "start_time": "2023-03-12T15:12:36.938Z"
   },
   {
    "duration": 12,
    "start_time": "2023-03-12T15:20:00.515Z"
   },
   {
    "duration": 258,
    "start_time": "2023-03-12T15:20:05.187Z"
   },
   {
    "duration": 610,
    "start_time": "2023-03-12T15:20:08.419Z"
   },
   {
    "duration": 6,
    "start_time": "2023-03-12T15:20:12.743Z"
   },
   {
    "duration": 6,
    "start_time": "2023-03-12T15:20:13.512Z"
   },
   {
    "duration": 6,
    "start_time": "2023-03-12T15:20:13.941Z"
   },
   {
    "duration": 3,
    "start_time": "2023-03-12T15:25:35.872Z"
   },
   {
    "duration": 11209,
    "start_time": "2023-03-12T15:25:57.381Z"
   },
   {
    "duration": 52,
    "start_time": "2023-03-12T15:26:34.289Z"
   },
   {
    "duration": 19,
    "start_time": "2023-03-12T15:26:39.090Z"
   },
   {
    "duration": 10,
    "start_time": "2023-03-12T15:26:51.990Z"
   },
   {
    "duration": 5,
    "start_time": "2023-03-12T15:26:55.512Z"
   },
   {
    "duration": 3,
    "start_time": "2023-03-12T15:27:02.804Z"
   },
   {
    "duration": 29208,
    "start_time": "2023-03-12T15:27:03.158Z"
   },
   {
    "duration": 38,
    "start_time": "2023-03-12T15:27:32.369Z"
   },
   {
    "duration": 6,
    "start_time": "2023-03-12T15:27:32.409Z"
   },
   {
    "duration": 4,
    "start_time": "2023-03-12T15:27:58.061Z"
   },
   {
    "duration": 58831,
    "start_time": "2023-03-12T15:27:58.308Z"
   },
   {
    "duration": 42,
    "start_time": "2023-03-12T15:28:57.141Z"
   },
   {
    "duration": 5,
    "start_time": "2023-03-12T15:28:57.185Z"
   },
   {
    "duration": 53,
    "start_time": "2023-03-12T15:33:00.513Z"
   },
   {
    "duration": 3,
    "start_time": "2023-03-12T15:33:03.777Z"
   },
   {
    "duration": 4,
    "start_time": "2023-03-12T15:33:28.482Z"
   },
   {
    "duration": 57484,
    "start_time": "2023-03-12T15:34:14.354Z"
   },
   {
    "duration": 6,
    "start_time": "2023-03-12T15:35:11.841Z"
   },
   {
    "duration": 49,
    "start_time": "2023-03-14T19:58:33.707Z"
   },
   {
    "duration": 7587,
    "start_time": "2023-03-14T19:58:52.210Z"
   },
   {
    "duration": 1557,
    "start_time": "2023-03-14T19:58:59.799Z"
   },
   {
    "duration": 3168,
    "start_time": "2023-03-14T19:59:01.358Z"
   },
   {
    "duration": 30,
    "start_time": "2023-03-14T19:59:04.529Z"
   },
   {
    "duration": 32,
    "start_time": "2023-03-14T19:59:04.563Z"
   },
   {
    "duration": 78,
    "start_time": "2023-03-14T19:59:04.598Z"
   },
   {
    "duration": 25,
    "start_time": "2023-03-14T19:59:04.685Z"
   },
   {
    "duration": 495,
    "start_time": "2023-03-14T19:59:04.712Z"
   },
   {
    "duration": 408,
    "start_time": "2023-03-14T19:59:05.209Z"
   },
   {
    "duration": 10,
    "start_time": "2023-03-14T19:59:05.619Z"
   },
   {
    "duration": 53,
    "start_time": "2023-03-14T19:59:05.631Z"
   },
   {
    "duration": 343,
    "start_time": "2023-03-14T19:59:05.689Z"
   },
   {
    "duration": 48,
    "start_time": "2023-03-14T19:59:06.034Z"
   },
   {
    "duration": 11,
    "start_time": "2023-03-14T19:59:06.086Z"
   },
   {
    "duration": 61,
    "start_time": "2023-03-14T19:59:06.100Z"
   },
   {
    "duration": 38,
    "start_time": "2023-03-14T19:59:06.164Z"
   },
   {
    "duration": 305,
    "start_time": "2023-03-14T19:59:06.204Z"
   },
   {
    "duration": 255,
    "start_time": "2023-03-14T19:59:06.511Z"
   },
   {
    "duration": 22,
    "start_time": "2023-03-14T19:59:06.768Z"
   },
   {
    "duration": 10,
    "start_time": "2023-03-14T19:59:06.792Z"
   },
   {
    "duration": 35,
    "start_time": "2023-03-14T19:59:06.805Z"
   },
   {
    "duration": 44849,
    "start_time": "2023-03-14T19:59:06.841Z"
   },
   {
    "duration": 42,
    "start_time": "2023-03-14T19:59:51.692Z"
   },
   {
    "duration": 17,
    "start_time": "2023-03-14T19:59:51.737Z"
   },
   {
    "duration": 21,
    "start_time": "2023-03-14T19:59:51.756Z"
   },
   {
    "duration": 41173,
    "start_time": "2023-03-14T19:59:51.778Z"
   },
   {
    "duration": 19,
    "start_time": "2023-03-14T20:00:32.953Z"
   },
   {
    "duration": 31,
    "start_time": "2023-03-14T20:00:32.974Z"
   },
   {
    "duration": 3,
    "start_time": "2023-03-14T20:00:33.006Z"
   },
   {
    "duration": 104,
    "start_time": "2023-03-14T20:00:33.012Z"
   },
   {
    "duration": 172,
    "start_time": "2023-03-14T20:00:33.118Z"
   },
   {
    "duration": 27,
    "start_time": "2023-03-14T20:00:33.292Z"
   },
   {
    "duration": 8997,
    "start_time": "2023-03-14T20:00:33.321Z"
   },
   {
    "duration": 22,
    "start_time": "2023-03-14T20:00:42.321Z"
   },
   {
    "duration": 28,
    "start_time": "2023-03-14T20:00:42.346Z"
   },
   {
    "duration": 15,
    "start_time": "2023-03-14T20:00:42.381Z"
   },
   {
    "duration": 9658,
    "start_time": "2023-03-14T20:00:42.398Z"
   },
   {
    "duration": 160,
    "start_time": "2023-03-14T20:00:52.058Z"
   },
   {
    "duration": 19,
    "start_time": "2023-03-14T20:00:52.220Z"
   },
   {
    "duration": 68,
    "start_time": "2023-03-14T20:00:52.241Z"
   },
   {
    "duration": 17,
    "start_time": "2023-03-14T20:00:52.314Z"
   },
   {
    "duration": 180,
    "start_time": "2023-03-14T20:00:52.333Z"
   },
   {
    "duration": 32,
    "start_time": "2023-03-14T20:00:52.514Z"
   },
   {
    "duration": 29,
    "start_time": "2023-03-14T20:00:52.548Z"
   },
   {
    "duration": 29,
    "start_time": "2023-03-14T20:00:52.584Z"
   },
   {
    "duration": 4,
    "start_time": "2023-03-14T20:00:52.615Z"
   },
   {
    "duration": 22,
    "start_time": "2023-03-14T20:00:52.621Z"
   },
   {
    "duration": 183,
    "start_time": "2023-03-14T20:00:52.646Z"
   },
   {
    "duration": 173987,
    "start_time": "2023-03-14T20:00:52.832Z"
   },
   {
    "duration": 51,
    "start_time": "2023-03-14T20:03:46.821Z"
   },
   {
    "duration": 8,
    "start_time": "2023-03-14T20:03:46.880Z"
   },
   {
    "duration": 385891,
    "start_time": "2023-03-14T20:03:46.889Z"
   },
   {
    "duration": 189,
    "start_time": "2023-03-14T20:10:12.792Z"
   },
   {
    "duration": 209791,
    "start_time": "2023-03-14T20:10:12.988Z"
   },
   {
    "duration": 61,
    "start_time": "2023-03-14T20:13:42.781Z"
   },
   {
    "duration": 3,
    "start_time": "2023-03-14T20:13:42.844Z"
   },
   {
    "duration": 349207,
    "start_time": "2023-03-14T20:13:42.849Z"
   },
   {
    "duration": 41,
    "start_time": "2023-03-14T20:19:32.057Z"
   },
   {
    "duration": 200,
    "start_time": "2023-03-14T20:19:32.100Z"
   },
   {
    "duration": 38,
    "start_time": "2023-03-14T20:20:00.366Z"
   },
   {
    "duration": 108,
    "start_time": "2023-03-14T20:20:00.845Z"
   },
   {
    "duration": 440,
    "start_time": "2023-03-14T20:20:49.566Z"
   },
   {
    "duration": 124,
    "start_time": "2023-03-14T20:21:58.637Z"
   },
   {
    "duration": 20,
    "start_time": "2023-03-14T20:21:59.086Z"
   },
   {
    "duration": 13,
    "start_time": "2023-03-14T20:22:26.327Z"
   },
   {
    "duration": 21,
    "start_time": "2023-03-14T20:22:30.957Z"
   },
   {
    "duration": 73,
    "start_time": "2023-03-14T20:22:31.208Z"
   },
   {
    "duration": 24,
    "start_time": "2023-03-14T20:22:31.534Z"
   },
   {
    "duration": 25,
    "start_time": "2023-03-14T20:22:31.977Z"
   },
   {
    "duration": 616,
    "start_time": "2023-03-14T20:22:37.467Z"
   },
   {
    "duration": 142,
    "start_time": "2023-03-14T20:22:40.498Z"
   },
   {
    "duration": 149,
    "start_time": "2023-03-14T20:22:42.944Z"
   },
   {
    "duration": 30,
    "start_time": "2023-03-14T20:26:13.946Z"
   },
   {
    "duration": 81,
    "start_time": "2023-03-14T20:26:14.334Z"
   },
   {
    "duration": 25,
    "start_time": "2023-03-14T20:26:15.420Z"
   },
   {
    "duration": 653,
    "start_time": "2023-03-14T20:26:26.781Z"
   },
   {
    "duration": 26,
    "start_time": "2023-03-14T20:26:52.349Z"
   },
   {
    "duration": 653,
    "start_time": "2023-03-14T20:27:54.046Z"
   },
   {
    "duration": 19,
    "start_time": "2023-03-14T20:28:01.851Z"
   },
   {
    "duration": 4,
    "start_time": "2023-03-14T20:28:23.410Z"
   },
   {
    "duration": 4,
    "start_time": "2023-03-14T20:31:50.733Z"
   },
   {
    "duration": 333,
    "start_time": "2023-03-14T20:31:51.154Z"
   },
   {
    "duration": 25,
    "start_time": "2023-03-14T20:32:27.667Z"
   },
   {
    "duration": 64,
    "start_time": "2023-03-14T20:32:28.351Z"
   },
   {
    "duration": 18,
    "start_time": "2023-03-14T20:32:28.699Z"
   },
   {
    "duration": 594,
    "start_time": "2023-03-14T20:32:29.916Z"
   },
   {
    "duration": 6,
    "start_time": "2023-03-14T20:32:38.276Z"
   },
   {
    "duration": 338,
    "start_time": "2023-03-14T20:32:38.802Z"
   },
   {
    "duration": 5,
    "start_time": "2023-03-14T20:32:58.693Z"
   },
   {
    "duration": 18,
    "start_time": "2023-03-14T20:33:30.584Z"
   },
   {
    "duration": 12,
    "start_time": "2023-03-14T20:33:54.698Z"
   },
   {
    "duration": 11,
    "start_time": "2023-03-14T20:34:00.007Z"
   },
   {
    "duration": 29,
    "start_time": "2023-03-14T20:35:16.268Z"
   },
   {
    "duration": 48,
    "start_time": "2023-03-14T20:35:55.771Z"
   },
   {
    "duration": 17,
    "start_time": "2023-03-14T20:36:01.422Z"
   },
   {
    "duration": 80,
    "start_time": "2023-03-14T20:36:09.924Z"
   },
   {
    "duration": 25,
    "start_time": "2023-03-14T20:36:24.484Z"
   },
   {
    "duration": 60,
    "start_time": "2023-03-14T20:36:30.789Z"
   },
   {
    "duration": 4,
    "start_time": "2023-03-14T20:36:34.826Z"
   },
   {
    "duration": 24,
    "start_time": "2023-03-14T20:36:35.110Z"
   },
   {
    "duration": 52,
    "start_time": "2023-03-14T20:36:35.390Z"
   },
   {
    "duration": 18,
    "start_time": "2023-03-14T20:36:35.680Z"
   },
   {
    "duration": 591,
    "start_time": "2023-03-14T20:36:36.018Z"
   },
   {
    "duration": 6,
    "start_time": "2023-03-14T20:36:39.374Z"
   },
   {
    "duration": 513696,
    "start_time": "2023-03-14T21:42:06.587Z"
   },
   {
    "duration": 3,
    "start_time": "2023-03-14T21:50:40.285Z"
   },
   {
    "duration": 6,
    "start_time": "2023-03-14T21:50:40.289Z"
   },
   {
    "duration": 5,
    "start_time": "2023-03-14T21:50:40.296Z"
   },
   {
    "duration": 16463,
    "start_time": "2023-03-14T21:50:40.302Z"
   },
   {
    "duration": 17,
    "start_time": "2023-03-14T21:50:56.766Z"
   },
   {
    "duration": 0,
    "start_time": "2023-03-14T21:50:56.785Z"
   },
   {
    "duration": 0,
    "start_time": "2023-03-14T21:50:56.787Z"
   },
   {
    "duration": 0,
    "start_time": "2023-03-14T21:50:56.789Z"
   },
   {
    "duration": 0,
    "start_time": "2023-03-14T21:50:56.791Z"
   },
   {
    "duration": 0,
    "start_time": "2023-03-14T21:50:56.792Z"
   },
   {
    "duration": 0,
    "start_time": "2023-03-14T21:50:56.793Z"
   },
   {
    "duration": 0,
    "start_time": "2023-03-14T21:50:56.794Z"
   },
   {
    "duration": 0,
    "start_time": "2023-03-14T21:50:56.794Z"
   },
   {
    "duration": 0,
    "start_time": "2023-03-14T21:50:56.796Z"
   },
   {
    "duration": 0,
    "start_time": "2023-03-14T21:50:56.796Z"
   },
   {
    "duration": 0,
    "start_time": "2023-03-14T21:50:56.797Z"
   },
   {
    "duration": 0,
    "start_time": "2023-03-14T21:50:56.798Z"
   },
   {
    "duration": 0,
    "start_time": "2023-03-14T21:50:56.799Z"
   },
   {
    "duration": 0,
    "start_time": "2023-03-14T21:50:56.800Z"
   },
   {
    "duration": 0,
    "start_time": "2023-03-14T21:50:56.801Z"
   },
   {
    "duration": 0,
    "start_time": "2023-03-14T21:50:56.802Z"
   },
   {
    "duration": 0,
    "start_time": "2023-03-14T21:50:56.803Z"
   },
   {
    "duration": 0,
    "start_time": "2023-03-14T21:50:56.804Z"
   },
   {
    "duration": 0,
    "start_time": "2023-03-14T21:50:56.805Z"
   },
   {
    "duration": 0,
    "start_time": "2023-03-14T21:50:56.806Z"
   },
   {
    "duration": 0,
    "start_time": "2023-03-14T21:50:56.807Z"
   },
   {
    "duration": 0,
    "start_time": "2023-03-14T21:50:56.808Z"
   },
   {
    "duration": 0,
    "start_time": "2023-03-14T21:50:56.810Z"
   },
   {
    "duration": 0,
    "start_time": "2023-03-14T21:50:56.811Z"
   },
   {
    "duration": 0,
    "start_time": "2023-03-14T21:50:56.812Z"
   },
   {
    "duration": 3,
    "start_time": "2023-03-14T21:50:59.127Z"
   },
   {
    "duration": 3,
    "start_time": "2023-03-14T21:50:59.799Z"
   },
   {
    "duration": 23768,
    "start_time": "2023-03-14T21:51:01.206Z"
   },
   {
    "duration": 214,
    "start_time": "2023-03-14T21:51:24.977Z"
   },
   {
    "duration": 90,
    "start_time": "2023-03-14T21:51:25.193Z"
   },
   {
    "duration": 578167,
    "start_time": "2023-03-14T21:51:25.285Z"
   },
   {
    "duration": 2,
    "start_time": "2023-03-14T22:01:03.454Z"
   },
   {
    "duration": 6,
    "start_time": "2023-03-14T22:01:03.458Z"
   },
   {
    "duration": 29,
    "start_time": "2023-03-14T22:01:03.466Z"
   },
   {
    "duration": 355225,
    "start_time": "2023-03-14T22:01:03.497Z"
   },
   {
    "duration": 12,
    "start_time": "2023-03-14T22:06:58.724Z"
   },
   {
    "duration": 0,
    "start_time": "2023-03-14T22:06:58.737Z"
   },
   {
    "duration": 0,
    "start_time": "2023-03-14T22:06:58.739Z"
   },
   {
    "duration": 0,
    "start_time": "2023-03-14T22:06:58.740Z"
   },
   {
    "duration": 0,
    "start_time": "2023-03-14T22:06:58.741Z"
   },
   {
    "duration": 0,
    "start_time": "2023-03-14T22:06:58.742Z"
   },
   {
    "duration": 0,
    "start_time": "2023-03-14T22:06:58.743Z"
   },
   {
    "duration": 0,
    "start_time": "2023-03-14T22:06:58.744Z"
   },
   {
    "duration": 0,
    "start_time": "2023-03-14T22:06:58.745Z"
   },
   {
    "duration": 0,
    "start_time": "2023-03-14T22:06:58.747Z"
   },
   {
    "duration": 0,
    "start_time": "2023-03-14T22:06:58.748Z"
   },
   {
    "duration": 3,
    "start_time": "2023-03-14T22:07:00.957Z"
   },
   {
    "duration": 56972,
    "start_time": "2023-03-14T22:07:01.448Z"
   },
   {
    "duration": 58,
    "start_time": "2023-03-14T22:07:58.422Z"
   },
   {
    "duration": 5,
    "start_time": "2023-03-14T22:07:58.482Z"
   },
   {
    "duration": 5,
    "start_time": "2023-03-14T22:07:58.490Z"
   },
   {
    "duration": 94,
    "start_time": "2023-03-14T22:07:58.496Z"
   },
   {
    "duration": 94,
    "start_time": "2023-03-14T22:07:58.593Z"
   },
   {
    "duration": 189,
    "start_time": "2023-03-14T22:07:58.690Z"
   },
   {
    "duration": 3,
    "start_time": "2023-03-14T22:07:58.881Z"
   },
   {
    "duration": 64,
    "start_time": "2023-03-14T22:07:58.885Z"
   },
   {
    "duration": 13925,
    "start_time": "2023-03-14T22:07:58.951Z"
   },
   {
    "duration": 57322,
    "start_time": "2023-03-14T22:08:12.881Z"
   },
   {
    "duration": 25488,
    "start_time": "2023-03-14T22:10:08.098Z"
   },
   {
    "duration": 57116,
    "start_time": "2023-03-14T22:10:33.587Z"
   },
   {
    "duration": 8,
    "start_time": "2023-03-14T22:11:30.705Z"
   },
   {
    "duration": 319,
    "start_time": "2023-03-14T22:11:30.771Z"
   },
   {
    "duration": 45,
    "start_time": "2023-03-14T22:11:31.179Z"
   },
   {
    "duration": 5,
    "start_time": "2023-03-14T22:11:31.226Z"
   },
   {
    "duration": 51,
    "start_time": "2023-03-14T22:11:31.232Z"
   },
   {
    "duration": 48,
    "start_time": "2023-03-14T22:11:31.285Z"
   },
   {
    "duration": 66,
    "start_time": "2023-03-14T22:12:45.300Z"
   },
   {
    "duration": 50,
    "start_time": "2023-03-14T22:13:19.800Z"
   },
   {
    "duration": 9,
    "start_time": "2023-03-14T22:13:35.727Z"
   },
   {
    "duration": 3,
    "start_time": "2023-03-14T22:14:04.961Z"
   },
   {
    "duration": 83499,
    "start_time": "2023-03-14T22:14:09.310Z"
   },
   {
    "duration": 67,
    "start_time": "2023-03-14T22:15:32.811Z"
   },
   {
    "duration": 5,
    "start_time": "2023-03-14T22:15:32.879Z"
   },
   {
    "duration": 5,
    "start_time": "2023-03-14T22:16:34.452Z"
   },
   {
    "duration": 9,
    "start_time": "2023-03-14T22:16:43.516Z"
   },
   {
    "duration": 150,
    "start_time": "2023-03-14T22:17:28.528Z"
   },
   {
    "duration": 144,
    "start_time": "2023-03-14T22:17:44.842Z"
   },
   {
    "duration": 163,
    "start_time": "2023-03-14T22:18:04.618Z"
   },
   {
    "duration": 196,
    "start_time": "2023-03-14T22:18:14.984Z"
   }
  ],
  "kernelspec": {
   "display_name": "Python 3 (ipykernel)",
   "language": "python",
   "name": "python3"
  },
  "language_info": {
   "codemirror_mode": {
    "name": "ipython",
    "version": 3
   },
   "file_extension": ".py",
   "mimetype": "text/x-python",
   "name": "python",
   "nbconvert_exporter": "python",
   "pygments_lexer": "ipython3",
   "version": "3.9.12"
  },
  "toc": {
   "base_numbering": 1,
   "nav_menu": {},
   "number_sections": true,
   "sideBar": true,
   "skip_h1_title": true,
   "title_cell": "Table of Contents",
   "title_sidebar": "Contents",
   "toc_cell": false,
   "toc_position": {},
   "toc_section_display": true,
   "toc_window_display": false
  }
 },
 "nbformat": 4,
 "nbformat_minor": 2
}
