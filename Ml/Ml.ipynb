{
 "cells": [
  {
   "cell_type": "code",
   "execution_count": 1,
   "metadata": {},
   "outputs": [
    {
     "name": "stdout",
     "output_type": "stream",
     "text": [
      "Requirement already satisfied: scikit-learn==1.1.3 in /opt/conda/lib/python3.9/site-packages (1.1.3)\n",
      "Requirement already satisfied: numpy>=1.17.3 in /opt/conda/lib/python3.9/site-packages (from scikit-learn==1.1.3) (1.21.1)\n",
      "Requirement already satisfied: joblib>=1.0.0 in /opt/conda/lib/python3.9/site-packages (from scikit-learn==1.1.3) (1.1.0)\n",
      "Requirement already satisfied: scipy>=1.3.2 in /opt/conda/lib/python3.9/site-packages (from scikit-learn==1.1.3) (1.9.1)\n",
      "Requirement already satisfied: threadpoolctl>=2.0.0 in /opt/conda/lib/python3.9/site-packages (from scikit-learn==1.1.3) (3.1.0)\n"
     ]
    }
   ],
   "source": [
    "!pip install scikit-learn==1.1.3"
   ]
  },
  {
   "cell_type": "markdown",
   "metadata": {
    "toc": true
   },
   "source": [
    "<h1>Содержание<span class=\"tocSkip\"></span></h1>\n",
    "<div class=\"toc\"><ul class=\"toc-item\"><li><span><a href=\"#Подготовка-данных\" data-toc-modified-id=\"Подготовка-данных-1\"><span class=\"toc-item-num\">1&nbsp;&nbsp;</span>Подготовка данных</a></span></li><li><span><a href=\"#Исследование-задачи\" data-toc-modified-id=\"Исследование-задачи-2\"><span class=\"toc-item-num\">2&nbsp;&nbsp;</span>Исследование задачи</a></span></li><li><span><a href=\"#Борьба-с-дисбалансом\" data-toc-modified-id=\"Борьба-с-дисбалансом-3\"><span class=\"toc-item-num\">3&nbsp;&nbsp;</span>Борьба с дисбалансом</a></span><ul class=\"toc-item\"><li><span><a href=\"#class_weight='balanced'\" data-toc-modified-id=\"class_weight='balanced'-3.1\"><span class=\"toc-item-num\">3.1&nbsp;&nbsp;</span>class_weight='balanced'</a></span></li><li><span><a href=\"#Upsampling\" data-toc-modified-id=\"Upsampling-3.2\"><span class=\"toc-item-num\">3.2&nbsp;&nbsp;</span>Upsampling</a></span></li><li><span><a href=\"#Downsampling\" data-toc-modified-id=\"Downsampling-3.3\"><span class=\"toc-item-num\">3.3&nbsp;&nbsp;</span>Downsampling</a></span></li></ul></li><li><span><a href=\"#Тестирование-модели\" data-toc-modified-id=\"Тестирование-модели-4\"><span class=\"toc-item-num\">4&nbsp;&nbsp;</span>Тестирование модели</a></span></li><li><span><a href=\"#Чек-лист-готовности-проекта\" data-toc-modified-id=\"Чек-лист-готовности-проекта-5\"><span class=\"toc-item-num\">5&nbsp;&nbsp;</span>Чек-лист готовности проекта</a></span></li></ul></div>"
   ]
  },
  {
   "cell_type": "markdown",
   "metadata": {},
   "source": [
    "# Отток клиентов"
   ]
  },
  {
   "cell_type": "markdown",
   "metadata": {},
   "source": [
    "Из «Бета-Банка» стали уходить клиенты. Каждый месяц. Немного, но заметно. Банковские маркетологи посчитали: сохранять текущих клиентов дешевле, чем привлекать новых.\n",
    "\n",
    "Нужно спрогнозировать, уйдёт клиент из банка в ближайшее время или нет. Вам предоставлены исторические данные о поведении клиентов и расторжении договоров с банком. \n",
    "\n",
    "Постройте модель с предельно большим значением *F1*-меры. Чтобы сдать проект успешно, нужно довести метрику до 0.59. Проверьте *F1*-меру на тестовой выборке самостоятельно.\n",
    "\n",
    "Дополнительно измеряйте *AUC-ROC*, сравнивайте её значение с *F1*-мерой.\n",
    "\n",
    "Источник данных: [https://www.kaggle.com/barelydedicated/bank-customer-churn-modeling](https://www.kaggle.com/barelydedicated/bank-customer-churn-modeling)"
   ]
  },
  {
   "cell_type": "markdown",
   "metadata": {},
   "source": [
    "## Подготовка данных"
   ]
  },
  {
   "cell_type": "code",
   "execution_count": 1,
   "metadata": {},
   "outputs": [],
   "source": [
    "import pandas as pd\n",
    "from sklearn.metrics import (\n",
    "    accuracy_score, \n",
    "    confusion_matrix, \n",
    "    f1_score, \n",
    "    roc_auc_score,\n",
    "    roc_curve,\n",
    "    recall_score\n",
    ") \n",
    "\n",
    "from sklearn.preprocessing import (\n",
    "    OneHotEncoder,\n",
    "    OrdinalEncoder,\n",
    "    StandardScaler\n",
    ")\n",
    "\n",
    "from sklearn.model_selection import train_test_split\n",
    "from sklearn.linear_model import LogisticRegression\n",
    "from sklearn.tree import DecisionTreeClassifier\n",
    "from sklearn.ensemble import RandomForestClassifier\n",
    "from sklearn.preprocessing import StandardScaler\n",
    "from sklearn.utils import shuffle\n",
    "import matplotlib.pyplot as plt"
   ]
  },
  {
   "cell_type": "code",
   "execution_count": 2,
   "metadata": {},
   "outputs": [],
   "source": [
    "data = pd.read_csv('Churn.csv')"
   ]
  },
  {
   "cell_type": "code",
   "execution_count": 3,
   "metadata": {},
   "outputs": [
    {
     "data": {
      "text/html": [
       "<div>\n",
       "<style scoped>\n",
       "    .dataframe tbody tr th:only-of-type {\n",
       "        vertical-align: middle;\n",
       "    }\n",
       "\n",
       "    .dataframe tbody tr th {\n",
       "        vertical-align: top;\n",
       "    }\n",
       "\n",
       "    .dataframe thead th {\n",
       "        text-align: right;\n",
       "    }\n",
       "</style>\n",
       "<table border=\"1\" class=\"dataframe\">\n",
       "  <thead>\n",
       "    <tr style=\"text-align: right;\">\n",
       "      <th></th>\n",
       "      <th>RowNumber</th>\n",
       "      <th>CustomerId</th>\n",
       "      <th>Surname</th>\n",
       "      <th>CreditScore</th>\n",
       "      <th>Geography</th>\n",
       "      <th>Gender</th>\n",
       "      <th>Age</th>\n",
       "      <th>Tenure</th>\n",
       "      <th>Balance</th>\n",
       "      <th>NumOfProducts</th>\n",
       "      <th>HasCrCard</th>\n",
       "      <th>IsActiveMember</th>\n",
       "      <th>EstimatedSalary</th>\n",
       "      <th>Exited</th>\n",
       "    </tr>\n",
       "  </thead>\n",
       "  <tbody>\n",
       "    <tr>\n",
       "      <th>0</th>\n",
       "      <td>1</td>\n",
       "      <td>15634602</td>\n",
       "      <td>Hargrave</td>\n",
       "      <td>619</td>\n",
       "      <td>France</td>\n",
       "      <td>Female</td>\n",
       "      <td>42</td>\n",
       "      <td>2.0</td>\n",
       "      <td>0.00</td>\n",
       "      <td>1</td>\n",
       "      <td>1</td>\n",
       "      <td>1</td>\n",
       "      <td>101348.88</td>\n",
       "      <td>1</td>\n",
       "    </tr>\n",
       "    <tr>\n",
       "      <th>1</th>\n",
       "      <td>2</td>\n",
       "      <td>15647311</td>\n",
       "      <td>Hill</td>\n",
       "      <td>608</td>\n",
       "      <td>Spain</td>\n",
       "      <td>Female</td>\n",
       "      <td>41</td>\n",
       "      <td>1.0</td>\n",
       "      <td>83807.86</td>\n",
       "      <td>1</td>\n",
       "      <td>0</td>\n",
       "      <td>1</td>\n",
       "      <td>112542.58</td>\n",
       "      <td>0</td>\n",
       "    </tr>\n",
       "    <tr>\n",
       "      <th>2</th>\n",
       "      <td>3</td>\n",
       "      <td>15619304</td>\n",
       "      <td>Onio</td>\n",
       "      <td>502</td>\n",
       "      <td>France</td>\n",
       "      <td>Female</td>\n",
       "      <td>42</td>\n",
       "      <td>8.0</td>\n",
       "      <td>159660.80</td>\n",
       "      <td>3</td>\n",
       "      <td>1</td>\n",
       "      <td>0</td>\n",
       "      <td>113931.57</td>\n",
       "      <td>1</td>\n",
       "    </tr>\n",
       "    <tr>\n",
       "      <th>3</th>\n",
       "      <td>4</td>\n",
       "      <td>15701354</td>\n",
       "      <td>Boni</td>\n",
       "      <td>699</td>\n",
       "      <td>France</td>\n",
       "      <td>Female</td>\n",
       "      <td>39</td>\n",
       "      <td>1.0</td>\n",
       "      <td>0.00</td>\n",
       "      <td>2</td>\n",
       "      <td>0</td>\n",
       "      <td>0</td>\n",
       "      <td>93826.63</td>\n",
       "      <td>0</td>\n",
       "    </tr>\n",
       "    <tr>\n",
       "      <th>4</th>\n",
       "      <td>5</td>\n",
       "      <td>15737888</td>\n",
       "      <td>Mitchell</td>\n",
       "      <td>850</td>\n",
       "      <td>Spain</td>\n",
       "      <td>Female</td>\n",
       "      <td>43</td>\n",
       "      <td>2.0</td>\n",
       "      <td>125510.82</td>\n",
       "      <td>1</td>\n",
       "      <td>1</td>\n",
       "      <td>1</td>\n",
       "      <td>79084.10</td>\n",
       "      <td>0</td>\n",
       "    </tr>\n",
       "    <tr>\n",
       "      <th>...</th>\n",
       "      <td>...</td>\n",
       "      <td>...</td>\n",
       "      <td>...</td>\n",
       "      <td>...</td>\n",
       "      <td>...</td>\n",
       "      <td>...</td>\n",
       "      <td>...</td>\n",
       "      <td>...</td>\n",
       "      <td>...</td>\n",
       "      <td>...</td>\n",
       "      <td>...</td>\n",
       "      <td>...</td>\n",
       "      <td>...</td>\n",
       "      <td>...</td>\n",
       "    </tr>\n",
       "    <tr>\n",
       "      <th>9995</th>\n",
       "      <td>9996</td>\n",
       "      <td>15606229</td>\n",
       "      <td>Obijiaku</td>\n",
       "      <td>771</td>\n",
       "      <td>France</td>\n",
       "      <td>Male</td>\n",
       "      <td>39</td>\n",
       "      <td>5.0</td>\n",
       "      <td>0.00</td>\n",
       "      <td>2</td>\n",
       "      <td>1</td>\n",
       "      <td>0</td>\n",
       "      <td>96270.64</td>\n",
       "      <td>0</td>\n",
       "    </tr>\n",
       "    <tr>\n",
       "      <th>9996</th>\n",
       "      <td>9997</td>\n",
       "      <td>15569892</td>\n",
       "      <td>Johnstone</td>\n",
       "      <td>516</td>\n",
       "      <td>France</td>\n",
       "      <td>Male</td>\n",
       "      <td>35</td>\n",
       "      <td>10.0</td>\n",
       "      <td>57369.61</td>\n",
       "      <td>1</td>\n",
       "      <td>1</td>\n",
       "      <td>1</td>\n",
       "      <td>101699.77</td>\n",
       "      <td>0</td>\n",
       "    </tr>\n",
       "    <tr>\n",
       "      <th>9997</th>\n",
       "      <td>9998</td>\n",
       "      <td>15584532</td>\n",
       "      <td>Liu</td>\n",
       "      <td>709</td>\n",
       "      <td>France</td>\n",
       "      <td>Female</td>\n",
       "      <td>36</td>\n",
       "      <td>7.0</td>\n",
       "      <td>0.00</td>\n",
       "      <td>1</td>\n",
       "      <td>0</td>\n",
       "      <td>1</td>\n",
       "      <td>42085.58</td>\n",
       "      <td>1</td>\n",
       "    </tr>\n",
       "    <tr>\n",
       "      <th>9998</th>\n",
       "      <td>9999</td>\n",
       "      <td>15682355</td>\n",
       "      <td>Sabbatini</td>\n",
       "      <td>772</td>\n",
       "      <td>Germany</td>\n",
       "      <td>Male</td>\n",
       "      <td>42</td>\n",
       "      <td>3.0</td>\n",
       "      <td>75075.31</td>\n",
       "      <td>2</td>\n",
       "      <td>1</td>\n",
       "      <td>0</td>\n",
       "      <td>92888.52</td>\n",
       "      <td>1</td>\n",
       "    </tr>\n",
       "    <tr>\n",
       "      <th>9999</th>\n",
       "      <td>10000</td>\n",
       "      <td>15628319</td>\n",
       "      <td>Walker</td>\n",
       "      <td>792</td>\n",
       "      <td>France</td>\n",
       "      <td>Female</td>\n",
       "      <td>28</td>\n",
       "      <td>NaN</td>\n",
       "      <td>130142.79</td>\n",
       "      <td>1</td>\n",
       "      <td>1</td>\n",
       "      <td>0</td>\n",
       "      <td>38190.78</td>\n",
       "      <td>0</td>\n",
       "    </tr>\n",
       "  </tbody>\n",
       "</table>\n",
       "<p>10000 rows × 14 columns</p>\n",
       "</div>"
      ],
      "text/plain": [
       "      RowNumber  CustomerId    Surname  CreditScore Geography  Gender  Age  \\\n",
       "0             1    15634602   Hargrave          619    France  Female   42   \n",
       "1             2    15647311       Hill          608     Spain  Female   41   \n",
       "2             3    15619304       Onio          502    France  Female   42   \n",
       "3             4    15701354       Boni          699    France  Female   39   \n",
       "4             5    15737888   Mitchell          850     Spain  Female   43   \n",
       "...         ...         ...        ...          ...       ...     ...  ...   \n",
       "9995       9996    15606229   Obijiaku          771    France    Male   39   \n",
       "9996       9997    15569892  Johnstone          516    France    Male   35   \n",
       "9997       9998    15584532        Liu          709    France  Female   36   \n",
       "9998       9999    15682355  Sabbatini          772   Germany    Male   42   \n",
       "9999      10000    15628319     Walker          792    France  Female   28   \n",
       "\n",
       "      Tenure    Balance  NumOfProducts  HasCrCard  IsActiveMember  \\\n",
       "0        2.0       0.00              1          1               1   \n",
       "1        1.0   83807.86              1          0               1   \n",
       "2        8.0  159660.80              3          1               0   \n",
       "3        1.0       0.00              2          0               0   \n",
       "4        2.0  125510.82              1          1               1   \n",
       "...      ...        ...            ...        ...             ...   \n",
       "9995     5.0       0.00              2          1               0   \n",
       "9996    10.0   57369.61              1          1               1   \n",
       "9997     7.0       0.00              1          0               1   \n",
       "9998     3.0   75075.31              2          1               0   \n",
       "9999     NaN  130142.79              1          1               0   \n",
       "\n",
       "      EstimatedSalary  Exited  \n",
       "0           101348.88       1  \n",
       "1           112542.58       0  \n",
       "2           113931.57       1  \n",
       "3            93826.63       0  \n",
       "4            79084.10       0  \n",
       "...               ...     ...  \n",
       "9995         96270.64       0  \n",
       "9996        101699.77       0  \n",
       "9997         42085.58       1  \n",
       "9998         92888.52       1  \n",
       "9999         38190.78       0  \n",
       "\n",
       "[10000 rows x 14 columns]"
      ]
     },
     "execution_count": 3,
     "metadata": {},
     "output_type": "execute_result"
    }
   ],
   "source": [
    "data"
   ]
  },
  {
   "cell_type": "code",
   "execution_count": 4,
   "metadata": {
    "scrolled": false
   },
   "outputs": [
    {
     "name": "stdout",
     "output_type": "stream",
     "text": [
      "<class 'pandas.core.frame.DataFrame'>\n",
      "RangeIndex: 10000 entries, 0 to 9999\n",
      "Data columns (total 14 columns):\n",
      " #   Column           Non-Null Count  Dtype  \n",
      "---  ------           --------------  -----  \n",
      " 0   RowNumber        10000 non-null  int64  \n",
      " 1   CustomerId       10000 non-null  int64  \n",
      " 2   Surname          10000 non-null  object \n",
      " 3   CreditScore      10000 non-null  int64  \n",
      " 4   Geography        10000 non-null  object \n",
      " 5   Gender           10000 non-null  object \n",
      " 6   Age              10000 non-null  int64  \n",
      " 7   Tenure           9091 non-null   float64\n",
      " 8   Balance          10000 non-null  float64\n",
      " 9   NumOfProducts    10000 non-null  int64  \n",
      " 10  HasCrCard        10000 non-null  int64  \n",
      " 11  IsActiveMember   10000 non-null  int64  \n",
      " 12  EstimatedSalary  10000 non-null  float64\n",
      " 13  Exited           10000 non-null  int64  \n",
      "dtypes: float64(3), int64(8), object(3)\n",
      "memory usage: 1.1+ MB\n"
     ]
    }
   ],
   "source": [
    "data.info()\n",
    "#Есть пропуски в колонке (сколько лет человек является клиентом банка)"
   ]
  },
  {
   "cell_type": "code",
   "execution_count": 5,
   "metadata": {},
   "outputs": [
    {
     "data": {
      "text/plain": [
       "0"
      ]
     },
     "execution_count": 5,
     "metadata": {},
     "output_type": "execute_result"
    }
   ],
   "source": [
    "data.duplicated().sum()\n",
    "#Дупликатов не выявлено"
   ]
  },
  {
   "cell_type": "code",
   "execution_count": 6,
   "metadata": {},
   "outputs": [],
   "source": [
    "# для отбора записей с пропусками в Tenure\n",
    "#mask = data[\"Tenure\"].isna()\n",
    "\n",
    "# сколько пропущенных значений всего нужно заполнить\n",
    "#n_samples = mask.sum()\n",
    "\n",
    "# сэмплируем случайные значения, используем values, чтобы корректно записать значения в пропущенные ячейки (игнорируя индекс)\n",
    "#random_samples = data.loc[~mask, \"Tenure\"].sample(n_samples, replace=True, random_state=12345).values\n",
    "\n",
    "# заполняем случайными значениями пропуски\n",
    "#data.loc[mask, \"Tenure\"] = random_samples\n",
    "#Пропуски в колонке Tenure были заполнены случайными значениями из выборки\n"
   ]
  },
  {
   "cell_type": "code",
   "execution_count": 7,
   "metadata": {},
   "outputs": [],
   "source": [
    "data.loc[data['Tenure'].isna(),'Tenure'] = data['Tenure'].median()"
   ]
  },
  {
   "cell_type": "code",
   "execution_count": 8,
   "metadata": {},
   "outputs": [
    {
     "name": "stdout",
     "output_type": "stream",
     "text": [
      "<class 'pandas.core.frame.DataFrame'>\n",
      "RangeIndex: 10000 entries, 0 to 9999\n",
      "Data columns (total 14 columns):\n",
      " #   Column           Non-Null Count  Dtype  \n",
      "---  ------           --------------  -----  \n",
      " 0   RowNumber        10000 non-null  int64  \n",
      " 1   CustomerId       10000 non-null  int64  \n",
      " 2   Surname          10000 non-null  object \n",
      " 3   CreditScore      10000 non-null  int64  \n",
      " 4   Geography        10000 non-null  object \n",
      " 5   Gender           10000 non-null  object \n",
      " 6   Age              10000 non-null  int64  \n",
      " 7   Tenure           10000 non-null  float64\n",
      " 8   Balance          10000 non-null  float64\n",
      " 9   NumOfProducts    10000 non-null  int64  \n",
      " 10  HasCrCard        10000 non-null  int64  \n",
      " 11  IsActiveMember   10000 non-null  int64  \n",
      " 12  EstimatedSalary  10000 non-null  float64\n",
      " 13  Exited           10000 non-null  int64  \n",
      "dtypes: float64(3), int64(8), object(3)\n",
      "memory usage: 1.1+ MB\n"
     ]
    }
   ],
   "source": [
    "data.info()"
   ]
  },
  {
   "cell_type": "code",
   "execution_count": 9,
   "metadata": {},
   "outputs": [],
   "source": [
    "#создадим новый датафрейм в которым не будет лишних колонок (RowNumber,CustomerID)\n",
    "df = data.drop(columns=['RowNumber','CustomerId','Surname'],axis=1)"
   ]
  },
  {
   "cell_type": "code",
   "execution_count": 10,
   "metadata": {
    "scrolled": true
   },
   "outputs": [
    {
     "data": {
      "text/html": [
       "<div>\n",
       "<style scoped>\n",
       "    .dataframe tbody tr th:only-of-type {\n",
       "        vertical-align: middle;\n",
       "    }\n",
       "\n",
       "    .dataframe tbody tr th {\n",
       "        vertical-align: top;\n",
       "    }\n",
       "\n",
       "    .dataframe thead th {\n",
       "        text-align: right;\n",
       "    }\n",
       "</style>\n",
       "<table border=\"1\" class=\"dataframe\">\n",
       "  <thead>\n",
       "    <tr style=\"text-align: right;\">\n",
       "      <th></th>\n",
       "      <th>CreditScore</th>\n",
       "      <th>Geography</th>\n",
       "      <th>Gender</th>\n",
       "      <th>Age</th>\n",
       "      <th>Tenure</th>\n",
       "      <th>Balance</th>\n",
       "      <th>NumOfProducts</th>\n",
       "      <th>HasCrCard</th>\n",
       "      <th>IsActiveMember</th>\n",
       "      <th>EstimatedSalary</th>\n",
       "      <th>Exited</th>\n",
       "    </tr>\n",
       "  </thead>\n",
       "  <tbody>\n",
       "    <tr>\n",
       "      <th>0</th>\n",
       "      <td>619</td>\n",
       "      <td>France</td>\n",
       "      <td>Female</td>\n",
       "      <td>42</td>\n",
       "      <td>2.0</td>\n",
       "      <td>0.00</td>\n",
       "      <td>1</td>\n",
       "      <td>1</td>\n",
       "      <td>1</td>\n",
       "      <td>101348.88</td>\n",
       "      <td>1</td>\n",
       "    </tr>\n",
       "    <tr>\n",
       "      <th>1</th>\n",
       "      <td>608</td>\n",
       "      <td>Spain</td>\n",
       "      <td>Female</td>\n",
       "      <td>41</td>\n",
       "      <td>1.0</td>\n",
       "      <td>83807.86</td>\n",
       "      <td>1</td>\n",
       "      <td>0</td>\n",
       "      <td>1</td>\n",
       "      <td>112542.58</td>\n",
       "      <td>0</td>\n",
       "    </tr>\n",
       "    <tr>\n",
       "      <th>2</th>\n",
       "      <td>502</td>\n",
       "      <td>France</td>\n",
       "      <td>Female</td>\n",
       "      <td>42</td>\n",
       "      <td>8.0</td>\n",
       "      <td>159660.80</td>\n",
       "      <td>3</td>\n",
       "      <td>1</td>\n",
       "      <td>0</td>\n",
       "      <td>113931.57</td>\n",
       "      <td>1</td>\n",
       "    </tr>\n",
       "    <tr>\n",
       "      <th>3</th>\n",
       "      <td>699</td>\n",
       "      <td>France</td>\n",
       "      <td>Female</td>\n",
       "      <td>39</td>\n",
       "      <td>1.0</td>\n",
       "      <td>0.00</td>\n",
       "      <td>2</td>\n",
       "      <td>0</td>\n",
       "      <td>0</td>\n",
       "      <td>93826.63</td>\n",
       "      <td>0</td>\n",
       "    </tr>\n",
       "    <tr>\n",
       "      <th>4</th>\n",
       "      <td>850</td>\n",
       "      <td>Spain</td>\n",
       "      <td>Female</td>\n",
       "      <td>43</td>\n",
       "      <td>2.0</td>\n",
       "      <td>125510.82</td>\n",
       "      <td>1</td>\n",
       "      <td>1</td>\n",
       "      <td>1</td>\n",
       "      <td>79084.10</td>\n",
       "      <td>0</td>\n",
       "    </tr>\n",
       "    <tr>\n",
       "      <th>...</th>\n",
       "      <td>...</td>\n",
       "      <td>...</td>\n",
       "      <td>...</td>\n",
       "      <td>...</td>\n",
       "      <td>...</td>\n",
       "      <td>...</td>\n",
       "      <td>...</td>\n",
       "      <td>...</td>\n",
       "      <td>...</td>\n",
       "      <td>...</td>\n",
       "      <td>...</td>\n",
       "    </tr>\n",
       "    <tr>\n",
       "      <th>9995</th>\n",
       "      <td>771</td>\n",
       "      <td>France</td>\n",
       "      <td>Male</td>\n",
       "      <td>39</td>\n",
       "      <td>5.0</td>\n",
       "      <td>0.00</td>\n",
       "      <td>2</td>\n",
       "      <td>1</td>\n",
       "      <td>0</td>\n",
       "      <td>96270.64</td>\n",
       "      <td>0</td>\n",
       "    </tr>\n",
       "    <tr>\n",
       "      <th>9996</th>\n",
       "      <td>516</td>\n",
       "      <td>France</td>\n",
       "      <td>Male</td>\n",
       "      <td>35</td>\n",
       "      <td>10.0</td>\n",
       "      <td>57369.61</td>\n",
       "      <td>1</td>\n",
       "      <td>1</td>\n",
       "      <td>1</td>\n",
       "      <td>101699.77</td>\n",
       "      <td>0</td>\n",
       "    </tr>\n",
       "    <tr>\n",
       "      <th>9997</th>\n",
       "      <td>709</td>\n",
       "      <td>France</td>\n",
       "      <td>Female</td>\n",
       "      <td>36</td>\n",
       "      <td>7.0</td>\n",
       "      <td>0.00</td>\n",
       "      <td>1</td>\n",
       "      <td>0</td>\n",
       "      <td>1</td>\n",
       "      <td>42085.58</td>\n",
       "      <td>1</td>\n",
       "    </tr>\n",
       "    <tr>\n",
       "      <th>9998</th>\n",
       "      <td>772</td>\n",
       "      <td>Germany</td>\n",
       "      <td>Male</td>\n",
       "      <td>42</td>\n",
       "      <td>3.0</td>\n",
       "      <td>75075.31</td>\n",
       "      <td>2</td>\n",
       "      <td>1</td>\n",
       "      <td>0</td>\n",
       "      <td>92888.52</td>\n",
       "      <td>1</td>\n",
       "    </tr>\n",
       "    <tr>\n",
       "      <th>9999</th>\n",
       "      <td>792</td>\n",
       "      <td>France</td>\n",
       "      <td>Female</td>\n",
       "      <td>28</td>\n",
       "      <td>5.0</td>\n",
       "      <td>130142.79</td>\n",
       "      <td>1</td>\n",
       "      <td>1</td>\n",
       "      <td>0</td>\n",
       "      <td>38190.78</td>\n",
       "      <td>0</td>\n",
       "    </tr>\n",
       "  </tbody>\n",
       "</table>\n",
       "<p>10000 rows × 11 columns</p>\n",
       "</div>"
      ],
      "text/plain": [
       "      CreditScore Geography  Gender  Age  Tenure    Balance  NumOfProducts  \\\n",
       "0             619    France  Female   42     2.0       0.00              1   \n",
       "1             608     Spain  Female   41     1.0   83807.86              1   \n",
       "2             502    France  Female   42     8.0  159660.80              3   \n",
       "3             699    France  Female   39     1.0       0.00              2   \n",
       "4             850     Spain  Female   43     2.0  125510.82              1   \n",
       "...           ...       ...     ...  ...     ...        ...            ...   \n",
       "9995          771    France    Male   39     5.0       0.00              2   \n",
       "9996          516    France    Male   35    10.0   57369.61              1   \n",
       "9997          709    France  Female   36     7.0       0.00              1   \n",
       "9998          772   Germany    Male   42     3.0   75075.31              2   \n",
       "9999          792    France  Female   28     5.0  130142.79              1   \n",
       "\n",
       "      HasCrCard  IsActiveMember  EstimatedSalary  Exited  \n",
       "0             1               1        101348.88       1  \n",
       "1             0               1        112542.58       0  \n",
       "2             1               0        113931.57       1  \n",
       "3             0               0         93826.63       0  \n",
       "4             1               1         79084.10       0  \n",
       "...         ...             ...              ...     ...  \n",
       "9995          1               0         96270.64       0  \n",
       "9996          1               1        101699.77       0  \n",
       "9997          0               1         42085.58       1  \n",
       "9998          1               0         92888.52       1  \n",
       "9999          1               0         38190.78       0  \n",
       "\n",
       "[10000 rows x 11 columns]"
      ]
     },
     "execution_count": 10,
     "metadata": {},
     "output_type": "execute_result"
    }
   ],
   "source": [
    "df"
   ]
  },
  {
   "cell_type": "code",
   "execution_count": 11,
   "metadata": {
    "scrolled": true
   },
   "outputs": [
    {
     "data": {
      "text/html": [
       "<div>\n",
       "<style scoped>\n",
       "    .dataframe tbody tr th:only-of-type {\n",
       "        vertical-align: middle;\n",
       "    }\n",
       "\n",
       "    .dataframe tbody tr th {\n",
       "        vertical-align: top;\n",
       "    }\n",
       "\n",
       "    .dataframe thead th {\n",
       "        text-align: right;\n",
       "    }\n",
       "</style>\n",
       "<table border=\"1\" class=\"dataframe\">\n",
       "  <thead>\n",
       "    <tr style=\"text-align: right;\">\n",
       "      <th></th>\n",
       "      <th>CreditScore</th>\n",
       "      <th>Geography</th>\n",
       "      <th>Gender</th>\n",
       "      <th>Age</th>\n",
       "      <th>Tenure</th>\n",
       "      <th>Balance</th>\n",
       "      <th>NumOfProducts</th>\n",
       "      <th>HasCrCard</th>\n",
       "      <th>IsActiveMember</th>\n",
       "      <th>EstimatedSalary</th>\n",
       "      <th>Exited</th>\n",
       "    </tr>\n",
       "  </thead>\n",
       "  <tbody>\n",
       "    <tr>\n",
       "      <th>0</th>\n",
       "      <td>619</td>\n",
       "      <td>France</td>\n",
       "      <td>Female</td>\n",
       "      <td>42</td>\n",
       "      <td>2.0</td>\n",
       "      <td>0.00</td>\n",
       "      <td>1</td>\n",
       "      <td>1</td>\n",
       "      <td>1</td>\n",
       "      <td>101348.88</td>\n",
       "      <td>1</td>\n",
       "    </tr>\n",
       "    <tr>\n",
       "      <th>1</th>\n",
       "      <td>608</td>\n",
       "      <td>Spain</td>\n",
       "      <td>Female</td>\n",
       "      <td>41</td>\n",
       "      <td>1.0</td>\n",
       "      <td>83807.86</td>\n",
       "      <td>1</td>\n",
       "      <td>0</td>\n",
       "      <td>1</td>\n",
       "      <td>112542.58</td>\n",
       "      <td>0</td>\n",
       "    </tr>\n",
       "    <tr>\n",
       "      <th>2</th>\n",
       "      <td>502</td>\n",
       "      <td>France</td>\n",
       "      <td>Female</td>\n",
       "      <td>42</td>\n",
       "      <td>8.0</td>\n",
       "      <td>159660.80</td>\n",
       "      <td>3</td>\n",
       "      <td>1</td>\n",
       "      <td>0</td>\n",
       "      <td>113931.57</td>\n",
       "      <td>1</td>\n",
       "    </tr>\n",
       "    <tr>\n",
       "      <th>3</th>\n",
       "      <td>699</td>\n",
       "      <td>France</td>\n",
       "      <td>Female</td>\n",
       "      <td>39</td>\n",
       "      <td>1.0</td>\n",
       "      <td>0.00</td>\n",
       "      <td>2</td>\n",
       "      <td>0</td>\n",
       "      <td>0</td>\n",
       "      <td>93826.63</td>\n",
       "      <td>0</td>\n",
       "    </tr>\n",
       "    <tr>\n",
       "      <th>4</th>\n",
       "      <td>850</td>\n",
       "      <td>Spain</td>\n",
       "      <td>Female</td>\n",
       "      <td>43</td>\n",
       "      <td>2.0</td>\n",
       "      <td>125510.82</td>\n",
       "      <td>1</td>\n",
       "      <td>1</td>\n",
       "      <td>1</td>\n",
       "      <td>79084.10</td>\n",
       "      <td>0</td>\n",
       "    </tr>\n",
       "    <tr>\n",
       "      <th>...</th>\n",
       "      <td>...</td>\n",
       "      <td>...</td>\n",
       "      <td>...</td>\n",
       "      <td>...</td>\n",
       "      <td>...</td>\n",
       "      <td>...</td>\n",
       "      <td>...</td>\n",
       "      <td>...</td>\n",
       "      <td>...</td>\n",
       "      <td>...</td>\n",
       "      <td>...</td>\n",
       "    </tr>\n",
       "    <tr>\n",
       "      <th>9995</th>\n",
       "      <td>771</td>\n",
       "      <td>France</td>\n",
       "      <td>Male</td>\n",
       "      <td>39</td>\n",
       "      <td>5.0</td>\n",
       "      <td>0.00</td>\n",
       "      <td>2</td>\n",
       "      <td>1</td>\n",
       "      <td>0</td>\n",
       "      <td>96270.64</td>\n",
       "      <td>0</td>\n",
       "    </tr>\n",
       "    <tr>\n",
       "      <th>9996</th>\n",
       "      <td>516</td>\n",
       "      <td>France</td>\n",
       "      <td>Male</td>\n",
       "      <td>35</td>\n",
       "      <td>10.0</td>\n",
       "      <td>57369.61</td>\n",
       "      <td>1</td>\n",
       "      <td>1</td>\n",
       "      <td>1</td>\n",
       "      <td>101699.77</td>\n",
       "      <td>0</td>\n",
       "    </tr>\n",
       "    <tr>\n",
       "      <th>9997</th>\n",
       "      <td>709</td>\n",
       "      <td>France</td>\n",
       "      <td>Female</td>\n",
       "      <td>36</td>\n",
       "      <td>7.0</td>\n",
       "      <td>0.00</td>\n",
       "      <td>1</td>\n",
       "      <td>0</td>\n",
       "      <td>1</td>\n",
       "      <td>42085.58</td>\n",
       "      <td>1</td>\n",
       "    </tr>\n",
       "    <tr>\n",
       "      <th>9998</th>\n",
       "      <td>772</td>\n",
       "      <td>Germany</td>\n",
       "      <td>Male</td>\n",
       "      <td>42</td>\n",
       "      <td>3.0</td>\n",
       "      <td>75075.31</td>\n",
       "      <td>2</td>\n",
       "      <td>1</td>\n",
       "      <td>0</td>\n",
       "      <td>92888.52</td>\n",
       "      <td>1</td>\n",
       "    </tr>\n",
       "    <tr>\n",
       "      <th>9999</th>\n",
       "      <td>792</td>\n",
       "      <td>France</td>\n",
       "      <td>Female</td>\n",
       "      <td>28</td>\n",
       "      <td>5.0</td>\n",
       "      <td>130142.79</td>\n",
       "      <td>1</td>\n",
       "      <td>1</td>\n",
       "      <td>0</td>\n",
       "      <td>38190.78</td>\n",
       "      <td>0</td>\n",
       "    </tr>\n",
       "  </tbody>\n",
       "</table>\n",
       "<p>10000 rows × 11 columns</p>\n",
       "</div>"
      ],
      "text/plain": [
       "      CreditScore Geography  Gender  Age  Tenure    Balance  NumOfProducts  \\\n",
       "0             619    France  Female   42     2.0       0.00              1   \n",
       "1             608     Spain  Female   41     1.0   83807.86              1   \n",
       "2             502    France  Female   42     8.0  159660.80              3   \n",
       "3             699    France  Female   39     1.0       0.00              2   \n",
       "4             850     Spain  Female   43     2.0  125510.82              1   \n",
       "...           ...       ...     ...  ...     ...        ...            ...   \n",
       "9995          771    France    Male   39     5.0       0.00              2   \n",
       "9996          516    France    Male   35    10.0   57369.61              1   \n",
       "9997          709    France  Female   36     7.0       0.00              1   \n",
       "9998          772   Germany    Male   42     3.0   75075.31              2   \n",
       "9999          792    France  Female   28     5.0  130142.79              1   \n",
       "\n",
       "      HasCrCard  IsActiveMember  EstimatedSalary  Exited  \n",
       "0             1               1        101348.88       1  \n",
       "1             0               1        112542.58       0  \n",
       "2             1               0        113931.57       1  \n",
       "3             0               0         93826.63       0  \n",
       "4             1               1         79084.10       0  \n",
       "...         ...             ...              ...     ...  \n",
       "9995          1               0         96270.64       0  \n",
       "9996          1               1        101699.77       0  \n",
       "9997          0               1         42085.58       1  \n",
       "9998          1               0         92888.52       1  \n",
       "9999          1               0         38190.78       0  \n",
       "\n",
       "[10000 rows x 11 columns]"
      ]
     },
     "execution_count": 11,
     "metadata": {},
     "output_type": "execute_result"
    }
   ],
   "source": [
    "df"
   ]
  },
  {
   "cell_type": "markdown",
   "metadata": {},
   "source": [
    "#Разбиваем выборки на тренировочные и другие\n",
    "target = df['Exited']\n",
    "features = df.drop(['Exited'] , axis=1)\n",
    "features_train, features_other, target_train, target_other = train_test_split(\n",
    "    features, target, test_size=0.25, random_state=12345, stratify=df[\"Exited\"])"
   ]
  },
  {
   "cell_type": "markdown",
   "metadata": {},
   "source": [
    "#Разбиваем выборки на валидационные и тестовые\n",
    "features_valid, features_test, target_valid, target_test = train_test_split(\n",
    "    features_other, target_other, test_size=0.5, random_state=12345)"
   ]
  },
  {
   "cell_type": "code",
   "execution_count": 12,
   "metadata": {},
   "outputs": [],
   "source": [
    "data_train,data_other = train_test_split(\n",
    "        df,test_size=0.25,random_state=12345,stratify=df['Exited']\n",
    ")"
   ]
  },
  {
   "cell_type": "code",
   "execution_count": 13,
   "metadata": {},
   "outputs": [],
   "source": [
    "data_valid,data_test = train_test_split(\n",
    "    data_other,test_size=0.5,random_state=12345\n",
    ")"
   ]
  },
  {
   "cell_type": "code",
   "execution_count": 14,
   "metadata": {},
   "outputs": [],
   "source": [
    "features_train = data_train.drop(['Exited'],axis=1)\n",
    "ohe_features = features_train.select_dtypes(include='object').columns.to_list() #категоральные признаки\n",
    "num_features = features_train.select_dtypes(exclude='object').columns.to_list() #численные признаки"
   ]
  },
  {
   "cell_type": "code",
   "execution_count": 15,
   "metadata": {
    "scrolled": true
   },
   "outputs": [
    {
     "data": {
      "text/html": [
       "<div>\n",
       "<style scoped>\n",
       "    .dataframe tbody tr th:only-of-type {\n",
       "        vertical-align: middle;\n",
       "    }\n",
       "\n",
       "    .dataframe tbody tr th {\n",
       "        vertical-align: top;\n",
       "    }\n",
       "\n",
       "    .dataframe thead th {\n",
       "        text-align: right;\n",
       "    }\n",
       "</style>\n",
       "<table border=\"1\" class=\"dataframe\">\n",
       "  <thead>\n",
       "    <tr style=\"text-align: right;\">\n",
       "      <th></th>\n",
       "      <th>CreditScore</th>\n",
       "      <th>Age</th>\n",
       "      <th>Tenure</th>\n",
       "      <th>Balance</th>\n",
       "      <th>NumOfProducts</th>\n",
       "      <th>HasCrCard</th>\n",
       "      <th>IsActiveMember</th>\n",
       "      <th>EstimatedSalary</th>\n",
       "      <th>Exited</th>\n",
       "      <th>Geography_Germany</th>\n",
       "      <th>Geography_Spain</th>\n",
       "      <th>Gender_Male</th>\n",
       "    </tr>\n",
       "  </thead>\n",
       "  <tbody>\n",
       "    <tr>\n",
       "      <th>3349</th>\n",
       "      <td>0.153616</td>\n",
       "      <td>0.583435</td>\n",
       "      <td>-0.004794</td>\n",
       "      <td>1.264113</td>\n",
       "      <td>0.807524</td>\n",
       "      <td>0.652368</td>\n",
       "      <td>-1.034460</td>\n",
       "      <td>-0.848725</td>\n",
       "      <td>1</td>\n",
       "      <td>1.0</td>\n",
       "      <td>0.0</td>\n",
       "      <td>0.0</td>\n",
       "    </tr>\n",
       "    <tr>\n",
       "      <th>7094</th>\n",
       "      <td>-0.104283</td>\n",
       "      <td>2.694224</td>\n",
       "      <td>-0.731152</td>\n",
       "      <td>-1.222762</td>\n",
       "      <td>-0.915010</td>\n",
       "      <td>-1.532876</td>\n",
       "      <td>0.966688</td>\n",
       "      <td>-1.003683</td>\n",
       "      <td>0</td>\n",
       "      <td>0.0</td>\n",
       "      <td>0.0</td>\n",
       "      <td>0.0</td>\n",
       "    </tr>\n",
       "    <tr>\n",
       "      <th>9204</th>\n",
       "      <td>-0.042388</td>\n",
       "      <td>-0.855740</td>\n",
       "      <td>-0.004794</td>\n",
       "      <td>-1.222762</td>\n",
       "      <td>0.807524</td>\n",
       "      <td>0.652368</td>\n",
       "      <td>-1.034460</td>\n",
       "      <td>-1.508697</td>\n",
       "      <td>0</td>\n",
       "      <td>0.0</td>\n",
       "      <td>0.0</td>\n",
       "      <td>0.0</td>\n",
       "    </tr>\n",
       "    <tr>\n",
       "      <th>6620</th>\n",
       "      <td>0.844786</td>\n",
       "      <td>-0.280070</td>\n",
       "      <td>-0.004794</td>\n",
       "      <td>-1.222762</td>\n",
       "      <td>0.807524</td>\n",
       "      <td>0.652368</td>\n",
       "      <td>-1.034460</td>\n",
       "      <td>1.057193</td>\n",
       "      <td>0</td>\n",
       "      <td>0.0</td>\n",
       "      <td>0.0</td>\n",
       "      <td>1.0</td>\n",
       "    </tr>\n",
       "    <tr>\n",
       "      <th>4737</th>\n",
       "      <td>1.453428</td>\n",
       "      <td>-0.280070</td>\n",
       "      <td>0.358385</td>\n",
       "      <td>0.555736</td>\n",
       "      <td>-0.915010</td>\n",
       "      <td>0.652368</td>\n",
       "      <td>0.966688</td>\n",
       "      <td>1.553724</td>\n",
       "      <td>0</td>\n",
       "      <td>0.0</td>\n",
       "      <td>0.0</td>\n",
       "      <td>1.0</td>\n",
       "    </tr>\n",
       "  </tbody>\n",
       "</table>\n",
       "</div>"
      ],
      "text/plain": [
       "      CreditScore       Age    Tenure   Balance  NumOfProducts  HasCrCard  \\\n",
       "3349     0.153616  0.583435 -0.004794  1.264113       0.807524   0.652368   \n",
       "7094    -0.104283  2.694224 -0.731152 -1.222762      -0.915010  -1.532876   \n",
       "9204    -0.042388 -0.855740 -0.004794 -1.222762       0.807524   0.652368   \n",
       "6620     0.844786 -0.280070 -0.004794 -1.222762       0.807524   0.652368   \n",
       "4737     1.453428 -0.280070  0.358385  0.555736      -0.915010   0.652368   \n",
       "\n",
       "      IsActiveMember  EstimatedSalary  Exited  Geography_Germany  \\\n",
       "3349       -1.034460        -0.848725       1                1.0   \n",
       "7094        0.966688        -1.003683       0                0.0   \n",
       "9204       -1.034460        -1.508697       0                0.0   \n",
       "6620       -1.034460         1.057193       0                0.0   \n",
       "4737        0.966688         1.553724       0                0.0   \n",
       "\n",
       "      Geography_Spain  Gender_Male  \n",
       "3349              0.0          0.0  \n",
       "7094              0.0          0.0  \n",
       "9204              0.0          0.0  \n",
       "6620              0.0          1.0  \n",
       "4737              0.0          1.0  "
      ]
     },
     "execution_count": 15,
     "metadata": {},
     "output_type": "execute_result"
    }
   ],
   "source": [
    "# drop='first' удаляет первый признак из закодированных:\n",
    "# таким образом обходим dummy-ловушку\n",
    "# задаём handle_unknown='ignore':\n",
    "# игнорируется ранее невстречающиеся значения признака (при transform)\n",
    "encoder_ohe = OneHotEncoder(drop='first', handle_unknown='ignore', sparse=False)\n",
    "\n",
    "# обучаем энкодер на заданных категориальных признаках тренировочной выборки\n",
    "encoder_ohe.fit(data_train[ohe_features])\n",
    "\n",
    "# добавляем закодированные признаки в X_train_ohe\n",
    "# encoder_ohe.get_feature_names_out() позволяет получить названия колонок\n",
    "data_train[\n",
    "    encoder_ohe.get_feature_names_out()\n",
    "] = encoder_ohe.transform(data_train[ohe_features])\n",
    "\n",
    "# удаляем незакодированные категориальные признаки (изначальные колонки)\n",
    "data_train = data_train.drop(ohe_features, axis=1)\n",
    "\n",
    "# создаём скелер\n",
    "scaler = StandardScaler()\n",
    "\n",
    "# обучаем его на численных признаках тренировочной выборки, трансформируем её же\n",
    "data_train[num_features] = scaler.fit_transform(data_train[num_features])\n",
    "\n",
    "# смотрим на результат\n",
    "data_train.head()"
   ]
  },
  {
   "cell_type": "code",
   "execution_count": 16,
   "metadata": {},
   "outputs": [],
   "source": [
    "data_valid[\n",
    "    encoder_ohe.get_feature_names_out()\n",
    "] = encoder_ohe.transform(data_valid[ohe_features])\n",
    "data_valid = data_valid.drop(ohe_features, axis=1)\n",
    "data_valid[num_features] = scaler.fit_transform(data_valid[num_features])\n",
    "\n",
    "data_test[\n",
    "    encoder_ohe.get_feature_names_out()\n",
    "] = encoder_ohe.transform(data_test[ohe_features])\n",
    "data_test = data_test.drop(ohe_features, axis=1)\n",
    "data_test[num_features] = scaler.fit_transform(data_test[num_features])\n"
   ]
  },
  {
   "cell_type": "code",
   "execution_count": 17,
   "metadata": {},
   "outputs": [
    {
     "data": {
      "text/html": [
       "<div>\n",
       "<style scoped>\n",
       "    .dataframe tbody tr th:only-of-type {\n",
       "        vertical-align: middle;\n",
       "    }\n",
       "\n",
       "    .dataframe tbody tr th {\n",
       "        vertical-align: top;\n",
       "    }\n",
       "\n",
       "    .dataframe thead th {\n",
       "        text-align: right;\n",
       "    }\n",
       "</style>\n",
       "<table border=\"1\" class=\"dataframe\">\n",
       "  <thead>\n",
       "    <tr style=\"text-align: right;\">\n",
       "      <th></th>\n",
       "      <th>CreditScore</th>\n",
       "      <th>Age</th>\n",
       "      <th>Tenure</th>\n",
       "      <th>Balance</th>\n",
       "      <th>NumOfProducts</th>\n",
       "      <th>HasCrCard</th>\n",
       "      <th>IsActiveMember</th>\n",
       "      <th>EstimatedSalary</th>\n",
       "      <th>Exited</th>\n",
       "      <th>Geography_Germany</th>\n",
       "      <th>Geography_Spain</th>\n",
       "      <th>Gender_Male</th>\n",
       "    </tr>\n",
       "  </thead>\n",
       "  <tbody>\n",
       "    <tr>\n",
       "      <th>3349</th>\n",
       "      <td>0.153616</td>\n",
       "      <td>0.583435</td>\n",
       "      <td>-0.004794</td>\n",
       "      <td>1.264113</td>\n",
       "      <td>0.807524</td>\n",
       "      <td>0.652368</td>\n",
       "      <td>-1.034460</td>\n",
       "      <td>-0.848725</td>\n",
       "      <td>1</td>\n",
       "      <td>1.0</td>\n",
       "      <td>0.0</td>\n",
       "      <td>0.0</td>\n",
       "    </tr>\n",
       "    <tr>\n",
       "      <th>7094</th>\n",
       "      <td>-0.104283</td>\n",
       "      <td>2.694224</td>\n",
       "      <td>-0.731152</td>\n",
       "      <td>-1.222762</td>\n",
       "      <td>-0.915010</td>\n",
       "      <td>-1.532876</td>\n",
       "      <td>0.966688</td>\n",
       "      <td>-1.003683</td>\n",
       "      <td>0</td>\n",
       "      <td>0.0</td>\n",
       "      <td>0.0</td>\n",
       "      <td>0.0</td>\n",
       "    </tr>\n",
       "    <tr>\n",
       "      <th>9204</th>\n",
       "      <td>-0.042388</td>\n",
       "      <td>-0.855740</td>\n",
       "      <td>-0.004794</td>\n",
       "      <td>-1.222762</td>\n",
       "      <td>0.807524</td>\n",
       "      <td>0.652368</td>\n",
       "      <td>-1.034460</td>\n",
       "      <td>-1.508697</td>\n",
       "      <td>0</td>\n",
       "      <td>0.0</td>\n",
       "      <td>0.0</td>\n",
       "      <td>0.0</td>\n",
       "    </tr>\n",
       "    <tr>\n",
       "      <th>6620</th>\n",
       "      <td>0.844786</td>\n",
       "      <td>-0.280070</td>\n",
       "      <td>-0.004794</td>\n",
       "      <td>-1.222762</td>\n",
       "      <td>0.807524</td>\n",
       "      <td>0.652368</td>\n",
       "      <td>-1.034460</td>\n",
       "      <td>1.057193</td>\n",
       "      <td>0</td>\n",
       "      <td>0.0</td>\n",
       "      <td>0.0</td>\n",
       "      <td>1.0</td>\n",
       "    </tr>\n",
       "    <tr>\n",
       "      <th>4737</th>\n",
       "      <td>1.453428</td>\n",
       "      <td>-0.280070</td>\n",
       "      <td>0.358385</td>\n",
       "      <td>0.555736</td>\n",
       "      <td>-0.915010</td>\n",
       "      <td>0.652368</td>\n",
       "      <td>0.966688</td>\n",
       "      <td>1.553724</td>\n",
       "      <td>0</td>\n",
       "      <td>0.0</td>\n",
       "      <td>0.0</td>\n",
       "      <td>1.0</td>\n",
       "    </tr>\n",
       "    <tr>\n",
       "      <th>...</th>\n",
       "      <td>...</td>\n",
       "      <td>...</td>\n",
       "      <td>...</td>\n",
       "      <td>...</td>\n",
       "      <td>...</td>\n",
       "      <td>...</td>\n",
       "      <td>...</td>\n",
       "      <td>...</td>\n",
       "      <td>...</td>\n",
       "      <td>...</td>\n",
       "      <td>...</td>\n",
       "      <td>...</td>\n",
       "    </tr>\n",
       "    <tr>\n",
       "      <th>2360</th>\n",
       "      <td>-1.362832</td>\n",
       "      <td>0.199655</td>\n",
       "      <td>-0.004794</td>\n",
       "      <td>0.547034</td>\n",
       "      <td>-0.915010</td>\n",
       "      <td>0.652368</td>\n",
       "      <td>-1.034460</td>\n",
       "      <td>-0.197119</td>\n",
       "      <td>0</td>\n",
       "      <td>1.0</td>\n",
       "      <td>0.0</td>\n",
       "      <td>0.0</td>\n",
       "    </tr>\n",
       "    <tr>\n",
       "      <th>4499</th>\n",
       "      <td>-1.177144</td>\n",
       "      <td>0.487490</td>\n",
       "      <td>-0.367973</td>\n",
       "      <td>0.727394</td>\n",
       "      <td>-0.915010</td>\n",
       "      <td>-1.532876</td>\n",
       "      <td>-1.034460</td>\n",
       "      <td>0.527967</td>\n",
       "      <td>0</td>\n",
       "      <td>1.0</td>\n",
       "      <td>0.0</td>\n",
       "      <td>0.0</td>\n",
       "    </tr>\n",
       "    <tr>\n",
       "      <th>1030</th>\n",
       "      <td>0.824154</td>\n",
       "      <td>0.007765</td>\n",
       "      <td>-1.457510</td>\n",
       "      <td>0.641624</td>\n",
       "      <td>-0.915010</td>\n",
       "      <td>-1.532876</td>\n",
       "      <td>-1.034460</td>\n",
       "      <td>0.783219</td>\n",
       "      <td>0</td>\n",
       "      <td>0.0</td>\n",
       "      <td>0.0</td>\n",
       "      <td>1.0</td>\n",
       "    </tr>\n",
       "    <tr>\n",
       "      <th>700</th>\n",
       "      <td>1.030473</td>\n",
       "      <td>-0.663850</td>\n",
       "      <td>-0.004794</td>\n",
       "      <td>-1.222762</td>\n",
       "      <td>0.807524</td>\n",
       "      <td>0.652368</td>\n",
       "      <td>-1.034460</td>\n",
       "      <td>-0.087802</td>\n",
       "      <td>0</td>\n",
       "      <td>0.0</td>\n",
       "      <td>0.0</td>\n",
       "      <td>0.0</td>\n",
       "    </tr>\n",
       "    <tr>\n",
       "      <th>9947</th>\n",
       "      <td>-0.362183</td>\n",
       "      <td>-0.471960</td>\n",
       "      <td>-1.457510</td>\n",
       "      <td>0.113134</td>\n",
       "      <td>0.807524</td>\n",
       "      <td>0.652368</td>\n",
       "      <td>0.966688</td>\n",
       "      <td>-0.479000</td>\n",
       "      <td>1</td>\n",
       "      <td>0.0</td>\n",
       "      <td>0.0</td>\n",
       "      <td>1.0</td>\n",
       "    </tr>\n",
       "  </tbody>\n",
       "</table>\n",
       "<p>7500 rows × 12 columns</p>\n",
       "</div>"
      ],
      "text/plain": [
       "      CreditScore       Age    Tenure   Balance  NumOfProducts  HasCrCard  \\\n",
       "3349     0.153616  0.583435 -0.004794  1.264113       0.807524   0.652368   \n",
       "7094    -0.104283  2.694224 -0.731152 -1.222762      -0.915010  -1.532876   \n",
       "9204    -0.042388 -0.855740 -0.004794 -1.222762       0.807524   0.652368   \n",
       "6620     0.844786 -0.280070 -0.004794 -1.222762       0.807524   0.652368   \n",
       "4737     1.453428 -0.280070  0.358385  0.555736      -0.915010   0.652368   \n",
       "...           ...       ...       ...       ...            ...        ...   \n",
       "2360    -1.362832  0.199655 -0.004794  0.547034      -0.915010   0.652368   \n",
       "4499    -1.177144  0.487490 -0.367973  0.727394      -0.915010  -1.532876   \n",
       "1030     0.824154  0.007765 -1.457510  0.641624      -0.915010  -1.532876   \n",
       "700      1.030473 -0.663850 -0.004794 -1.222762       0.807524   0.652368   \n",
       "9947    -0.362183 -0.471960 -1.457510  0.113134       0.807524   0.652368   \n",
       "\n",
       "      IsActiveMember  EstimatedSalary  Exited  Geography_Germany  \\\n",
       "3349       -1.034460        -0.848725       1                1.0   \n",
       "7094        0.966688        -1.003683       0                0.0   \n",
       "9204       -1.034460        -1.508697       0                0.0   \n",
       "6620       -1.034460         1.057193       0                0.0   \n",
       "4737        0.966688         1.553724       0                0.0   \n",
       "...              ...              ...     ...                ...   \n",
       "2360       -1.034460        -0.197119       0                1.0   \n",
       "4499       -1.034460         0.527967       0                1.0   \n",
       "1030       -1.034460         0.783219       0                0.0   \n",
       "700        -1.034460        -0.087802       0                0.0   \n",
       "9947        0.966688        -0.479000       1                0.0   \n",
       "\n",
       "      Geography_Spain  Gender_Male  \n",
       "3349              0.0          0.0  \n",
       "7094              0.0          0.0  \n",
       "9204              0.0          0.0  \n",
       "6620              0.0          1.0  \n",
       "4737              0.0          1.0  \n",
       "...               ...          ...  \n",
       "2360              0.0          0.0  \n",
       "4499              0.0          0.0  \n",
       "1030              0.0          1.0  \n",
       "700               0.0          0.0  \n",
       "9947              0.0          1.0  \n",
       "\n",
       "[7500 rows x 12 columns]"
      ]
     },
     "execution_count": 17,
     "metadata": {},
     "output_type": "execute_result"
    }
   ],
   "source": [
    "data_train"
   ]
  },
  {
   "cell_type": "code",
   "execution_count": 18,
   "metadata": {},
   "outputs": [],
   "source": [
    "features_valid = data_valid.drop(['Exited'],axis=1)\n",
    "target_valid = data_valid['Exited']\n",
    "features_test = data_test.drop(['Exited'],axis=1)\n",
    "target_test = data_test['Exited']\n",
    "features_train = data_train.drop(['Exited'],axis=1)\n",
    "target_train = data_train['Exited']"
   ]
  },
  {
   "cell_type": "code",
   "execution_count": 19,
   "metadata": {
    "scrolled": false
   },
   "outputs": [
    {
     "data": {
      "text/plain": [
       "2037.0"
      ]
     },
     "execution_count": 19,
     "metadata": {},
     "output_type": "execute_result"
    }
   ],
   "source": [
    "df[df['Exited'] == 1].count().mean()"
   ]
  },
  {
   "cell_type": "code",
   "execution_count": 20,
   "metadata": {
    "scrolled": true
   },
   "outputs": [
    {
     "data": {
      "text/plain": [
       "7963.0"
      ]
     },
     "execution_count": 20,
     "metadata": {},
     "output_type": "execute_result"
    }
   ],
   "source": [
    "df[df['Exited'] == 0].count().mean()"
   ]
  },
  {
   "cell_type": "markdown",
   "metadata": {},
   "source": [
    "## Исследование задачи"
   ]
  },
  {
   "cell_type": "markdown",
   "metadata": {},
   "source": [
    "**LogisticRegression**"
   ]
  },
  {
   "cell_type": "code",
   "execution_count": 21,
   "metadata": {},
   "outputs": [
    {
     "name": "stdout",
     "output_type": "stream",
     "text": [
      "f1_score: 0.3440233236151603\n"
     ]
    }
   ],
   "source": [
    "model = LogisticRegression(random_state=12345)\n",
    "model.fit(features_train,target_train)\n",
    "prediction = model.predict(features_valid)\n",
    "print('f1_score:',f1_score(target_valid,prediction))"
   ]
  },
  {
   "cell_type": "code",
   "execution_count": 22,
   "metadata": {
    "scrolled": true
   },
   "outputs": [
    {
     "name": "stdout",
     "output_type": "stream",
     "text": [
      "AUC-ROC: 0.7721634569775163\n"
     ]
    }
   ],
   "source": [
    "probabilities = model.predict_proba(features_valid)\n",
    "probabilities_one_valid = probabilities[:,1]\n",
    "print('AUC-ROC:',roc_auc_score(target_valid, probabilities_one_valid))"
   ]
  },
  {
   "cell_type": "markdown",
   "metadata": {},
   "source": [
    "**RandomForestClassifier**"
   ]
  },
  {
   "cell_type": "code",
   "execution_count": 23,
   "metadata": {},
   "outputs": [
    {
     "name": "stdout",
     "output_type": "stream",
     "text": [
      "Best f1 score: 0.6172248803827751\n",
      "Best n: 71\n",
      "Best depth: 15\n",
      "Best accuracy_score: 0.872\n"
     ]
    }
   ],
   "source": [
    "best_score = 0\n",
    "best_param = [0,0]\n",
    "best_accuracy = 0\n",
    "for est in range(1, 100, 5):\n",
    "    for depth in range(1, 16):\n",
    "        model = RandomForestClassifier(random_state=12345, n_estimators=est, max_depth=depth)\n",
    "        model.fit(features_train,target_train)\n",
    "        prediction = model.predict(features_valid)\n",
    "        score = f1_score(target_valid,prediction)\n",
    "        ac_score = accuracy_score(target_valid,prediction)\n",
    "        if score > best_score:\n",
    "            best_score = score\n",
    "            best_param[0] = est\n",
    "            best_param[1] = depth\n",
    "            best_accuracy = ac_score\n",
    "print('Best f1 score:',best_score)  \n",
    "print('Best n:', best_param[0]) \n",
    "print('Best depth:', best_param[1])\n",
    "print('Best accuracy_score:',best_accuracy)"
   ]
  },
  {
   "cell_type": "code",
   "execution_count": 24,
   "metadata": {},
   "outputs": [
    {
     "name": "stdout",
     "output_type": "stream",
     "text": [
      "AUC-ROC: 0.8815498213325744\n"
     ]
    }
   ],
   "source": [
    "probabilities = model.predict_proba(features_valid)\n",
    "probabilities_one_valid = probabilities[:,1]\n",
    "print('AUC-ROC:',roc_auc_score(target_valid, probabilities_one_valid))"
   ]
  },
  {
   "cell_type": "markdown",
   "metadata": {},
   "source": [
    "**DecisionTreeClassifier**"
   ]
  },
  {
   "cell_type": "code",
   "execution_count": 25,
   "metadata": {},
   "outputs": [
    {
     "name": "stdout",
     "output_type": "stream",
     "text": [
      "Best f1 score: 0.6091127098321344\n",
      "Best depth: 6\n"
     ]
    }
   ],
   "source": [
    "best_f1_score = 0\n",
    "for d in range(1,16,1):\n",
    "    model = DecisionTreeClassifier(max_depth=d,random_state=12345)\n",
    "    model.fit(features_train,target_train)\n",
    "    prediction = model.predict(features_valid)\n",
    "    score = f1_score(target_valid,prediction)\n",
    "    if score > best_f1_score:\n",
    "        best_f1_score = score\n",
    "        best_depth = d\n",
    "        \n",
    "print('Best f1 score:',best_f1_score)  \n",
    "print('Best depth:', best_depth)\n",
    "    "
   ]
  },
  {
   "cell_type": "code",
   "execution_count": 26,
   "metadata": {},
   "outputs": [
    {
     "name": "stdout",
     "output_type": "stream",
     "text": [
      "AUC-ROC: 0.7302260221990324\n"
     ]
    }
   ],
   "source": [
    "probabilities = model.predict_proba(features_valid)\n",
    "probabilities_one_valid = probabilities[:,1]\n",
    "print('AUC-ROC:',roc_auc_score(target_valid, probabilities_one_valid))"
   ]
  },
  {
   "cell_type": "markdown",
   "metadata": {},
   "source": [
    "**Вывод**:\n",
    "\n",
    "Лучшие результаты без учётом дисбаланса классов показала модель случайного леса\n",
    "\n",
    "Best f1 score: 0.6172248803827751\n",
    "\n",
    "Best accuracy_score: 0.872\n",
    "\n",
    "AUC-ROC: 0.8815498213325744\n",
    "\n"
   ]
  },
  {
   "cell_type": "markdown",
   "metadata": {},
   "source": [
    "## Борьба с дисбалансом"
   ]
  },
  {
   "cell_type": "markdown",
   "metadata": {},
   "source": [
    "### class_weight='balanced'"
   ]
  },
  {
   "cell_type": "markdown",
   "metadata": {},
   "source": [
    "**LogisticRegression**"
   ]
  },
  {
   "cell_type": "code",
   "execution_count": 27,
   "metadata": {},
   "outputs": [
    {
     "name": "stdout",
     "output_type": "stream",
     "text": [
      "f1_score: 0.4937586685159501\n"
     ]
    }
   ],
   "source": [
    "model = LogisticRegression(random_state=12345,class_weight='balanced')\n",
    "model.fit(features_train,target_train)\n",
    "prediction = model.predict(features_valid)\n",
    "print('f1_score:',f1_score(target_valid,prediction))"
   ]
  },
  {
   "cell_type": "code",
   "execution_count": 28,
   "metadata": {},
   "outputs": [
    {
     "name": "stdout",
     "output_type": "stream",
     "text": [
      "AUC-ROC: 0.7795552287891725\n"
     ]
    }
   ],
   "source": [
    "probabilities = model.predict_proba(features_valid)\n",
    "probabilities_one_valid = probabilities[:,1]\n",
    "print('AUC-ROC:',roc_auc_score(target_valid, probabilities_one_valid))"
   ]
  },
  {
   "cell_type": "markdown",
   "metadata": {},
   "source": [
    "**RandomForestClassifier**"
   ]
  },
  {
   "cell_type": "code",
   "execution_count": 29,
   "metadata": {
    "scrolled": true
   },
   "outputs": [
    {
     "name": "stdout",
     "output_type": "stream",
     "text": [
      "Best f1 score: 0.6679174484052532\n",
      "Best n: 21\n",
      "Best depth: 9\n",
      "Best accuracy_score: 0.8584\n"
     ]
    }
   ],
   "source": [
    "best_score = 0\n",
    "best_param = [0,0]\n",
    "best_accuracy = 0\n",
    "for est in range(1, 100, 5):\n",
    "    for depth in range(1, 16):\n",
    "        model = RandomForestClassifier(random_state=12345, n_estimators=est, max_depth=depth,class_weight='balanced')\n",
    "        model.fit(features_train,target_train)\n",
    "        prediction = model.predict(features_valid)\n",
    "        score = f1_score(target_valid,prediction)\n",
    "        ac_score = accuracy_score(target_valid,prediction)\n",
    "        if score > best_score:\n",
    "            best_score = score\n",
    "            best_param[0] = est\n",
    "            best_param[1] = depth\n",
    "            best_accuracy = ac_score\n",
    "print('Best f1 score:',best_score)  \n",
    "print('Best n:', best_param[0]) \n",
    "print('Best depth:', best_param[1])\n",
    "print('Best accuracy_score:',best_accuracy)"
   ]
  },
  {
   "cell_type": "code",
   "execution_count": 30,
   "metadata": {},
   "outputs": [
    {
     "name": "stdout",
     "output_type": "stream",
     "text": [
      "AUC-ROC: 0.8774072668627266\n"
     ]
    }
   ],
   "source": [
    "probabilities = model.predict_proba(features_valid)\n",
    "probabilities_one_valid = probabilities[:,1]\n",
    "print('AUC-ROC:',roc_auc_score(target_valid, probabilities_one_valid))"
   ]
  },
  {
   "cell_type": "markdown",
   "metadata": {},
   "source": [
    "**DecisionTreeClassifier**"
   ]
  },
  {
   "cell_type": "code",
   "execution_count": 31,
   "metadata": {},
   "outputs": [
    {
     "name": "stdout",
     "output_type": "stream",
     "text": [
      "Best f1 score: 0.5957446808510638\n",
      "Best depth: 6\n"
     ]
    }
   ],
   "source": [
    "best_f1_score = 0\n",
    "for d in range(1,16,1):\n",
    "    model = DecisionTreeClassifier(max_depth=d,random_state=12345,class_weight='balanced')\n",
    "    model.fit(features_train,target_train)\n",
    "    prediction = model.predict(features_valid)\n",
    "    score = f1_score(target_valid,prediction)\n",
    "    if score > best_f1_score:\n",
    "        best_f1_score = score\n",
    "        best_depth = d\n",
    "        \n",
    "print('Best f1 score:',best_f1_score)  \n",
    "print('Best depth:', best_depth)\n",
    "    "
   ]
  },
  {
   "cell_type": "code",
   "execution_count": 32,
   "metadata": {},
   "outputs": [
    {
     "name": "stdout",
     "output_type": "stream",
     "text": [
      "AUC-ROC: 0.7215179616102203\n"
     ]
    }
   ],
   "source": [
    "probabilities = model.predict_proba(features_valid)\n",
    "probabilities_one_valid = probabilities[:,1]\n",
    "print('AUC-ROC:',roc_auc_score(target_valid, probabilities_one_valid))"
   ]
  },
  {
   "cell_type": "markdown",
   "metadata": {},
   "source": [
    "**Вывод**:\n",
    "\n",
    "Лучшие результаты с учётом дисбаланса классов показала модель случайного леса\n",
    "\n",
    "Best f1 score: 0.6679174484052532\n",
    "\n",
    "Best accuracy_score: 0.8584\n",
    "\n",
    "AUC-ROC: 0.8774072668627266"
   ]
  },
  {
   "cell_type": "markdown",
   "metadata": {},
   "source": [
    "### Upsampling"
   ]
  },
  {
   "cell_type": "code",
   "execution_count": 33,
   "metadata": {},
   "outputs": [],
   "source": [
    "def upsample(features, target, repeat):\n",
    "    features_zeros = features[target == 0]\n",
    "    features_ones = features[target == 1]\n",
    "    target_zeros = target[target == 0]\n",
    "    target_ones = target[target == 1]\n",
    "\n",
    "    features_upsampled = pd.concat([features_zeros] + [features_ones] * repeat)\n",
    "    target_upsampled = pd.concat([target_zeros] + [target_ones] * repeat)\n",
    "    \n",
    "    features_upsampled, target_upsampled = shuffle(\n",
    "        features_upsampled, target_upsampled, random_state=12345)\n",
    "    \n",
    "    return features_upsampled, target_upsampled"
   ]
  },
  {
   "cell_type": "code",
   "execution_count": 34,
   "metadata": {},
   "outputs": [],
   "source": [
    "features_upsampled, target_upsampled = upsample(features_train,target_train,4)"
   ]
  },
  {
   "cell_type": "code",
   "execution_count": 35,
   "metadata": {},
   "outputs": [
    {
     "data": {
      "text/plain": [
       "6112"
      ]
     },
     "execution_count": 35,
     "metadata": {},
     "output_type": "execute_result"
    }
   ],
   "source": [
    "target_upsampled[target_upsampled == 1].count()"
   ]
  },
  {
   "cell_type": "code",
   "execution_count": 36,
   "metadata": {},
   "outputs": [
    {
     "data": {
      "text/plain": [
       "5972"
      ]
     },
     "execution_count": 36,
     "metadata": {},
     "output_type": "execute_result"
    }
   ],
   "source": [
    "target_upsampled[target_upsampled == 0].count()"
   ]
  },
  {
   "cell_type": "code",
   "execution_count": 37,
   "metadata": {},
   "outputs": [
    {
     "name": "stdout",
     "output_type": "stream",
     "text": [
      "Best f1 score: 0.6678200692041522\n",
      "Best n: 26\n",
      "Best depth: 9\n",
      "Best accuracy_score: 0.8464\n"
     ]
    }
   ],
   "source": [
    "best_score = 0\n",
    "best_param = [0,0]\n",
    "best_accuracy = 0\n",
    "for est in range(1, 100, 5):\n",
    "    for depth in range(1, 16):\n",
    "        model = RandomForestClassifier(random_state=12345, n_estimators=est, max_depth=depth)\n",
    "        model.fit(features_upsampled,target_upsampled)\n",
    "        prediction = model.predict(features_valid)\n",
    "        score = f1_score(target_valid,prediction)\n",
    "        ac_score = accuracy_score(target_valid,prediction)\n",
    "        if score > best_score:\n",
    "            best_score = score\n",
    "            best_param[0] = est\n",
    "            best_param[1] = depth\n",
    "            best_accuracy = ac_score\n",
    "print('Best f1 score:',best_score)  \n",
    "print('Best n:', best_param[0]) \n",
    "print('Best depth:', best_param[1])\n",
    "print('Best accuracy_score:',best_accuracy)"
   ]
  },
  {
   "cell_type": "code",
   "execution_count": 38,
   "metadata": {},
   "outputs": [
    {
     "name": "stdout",
     "output_type": "stream",
     "text": [
      "AUC-ROC: 0.879680137874332\n"
     ]
    }
   ],
   "source": [
    "probabilities = model.predict_proba(features_valid)\n",
    "probabilities_one_valid = probabilities[:,1]\n",
    "print('AUC-ROC:',roc_auc_score(target_valid, probabilities_one_valid))"
   ]
  },
  {
   "cell_type": "markdown",
   "metadata": {},
   "source": [
    "**Вывод**:\n",
    "\n",
    "Модель случайного леса с upsampling показала:\n",
    "\n",
    "Best f1 score: 0.6678200692041522\n",
    "\n",
    "Best accuracy_score: 0.8464\n",
    "\n",
    "AUC-ROC: 0.885478923568289"
   ]
  },
  {
   "cell_type": "markdown",
   "metadata": {},
   "source": [
    "### Downsampling"
   ]
  },
  {
   "cell_type": "code",
   "execution_count": 39,
   "metadata": {},
   "outputs": [],
   "source": [
    "def downsample(features, target, fraction):\n",
    "    features_zeros = features[target == 0]\n",
    "    features_ones = features[target == 1]\n",
    "    target_zeros = target[target == 0]\n",
    "    target_ones = target[target == 1]\n",
    "\n",
    "    features_downsampled = pd.concat(\n",
    "        [features_zeros.sample(frac=fraction, random_state=12345)] + [features_ones])\n",
    "    target_downsampled = pd.concat(\n",
    "        [target_zeros.sample(frac=fraction, random_state=12345)] + [target_ones])\n",
    "    \n",
    "    features_downsampled, target_downsampled = shuffle(\n",
    "        features_downsampled, target_downsampled, random_state=12345)\n",
    "    \n",
    "    return features_downsampled, target_downsampled"
   ]
  },
  {
   "cell_type": "code",
   "execution_count": 40,
   "metadata": {},
   "outputs": [],
   "source": [
    "features_downsampled, target_downsampled = downsample(features_train,target_train,0.25)"
   ]
  },
  {
   "cell_type": "code",
   "execution_count": 41,
   "metadata": {},
   "outputs": [
    {
     "data": {
      "text/plain": [
       "1528"
      ]
     },
     "execution_count": 41,
     "metadata": {},
     "output_type": "execute_result"
    }
   ],
   "source": [
    "target_downsampled[target_downsampled == 1].count()"
   ]
  },
  {
   "cell_type": "code",
   "execution_count": 42,
   "metadata": {
    "scrolled": false
   },
   "outputs": [
    {
     "data": {
      "text/plain": [
       "1493"
      ]
     },
     "execution_count": 42,
     "metadata": {},
     "output_type": "execute_result"
    }
   ],
   "source": [
    "target_downsampled[target_downsampled == 0].count()"
   ]
  },
  {
   "cell_type": "code",
   "execution_count": 43,
   "metadata": {
    "scrolled": true
   },
   "outputs": [
    {
     "name": "stdout",
     "output_type": "stream",
     "text": [
      "Best f1 score: 0.6345256609642302\n",
      "Best n: 26\n",
      "Best depth: 8\n",
      "Best accuracy_score: 0.812\n"
     ]
    }
   ],
   "source": [
    "best_score = 0\n",
    "best_param = [0,0]\n",
    "best_accuracy = 0\n",
    "for est in range(1, 100, 5):\n",
    "    for depth in range(1, 16):\n",
    "        model = RandomForestClassifier(random_state=12345, n_estimators=est, max_depth=depth)\n",
    "        model.fit(features_downsampled,target_downsampled)\n",
    "        prediction = model.predict(features_valid)\n",
    "        score = f1_score(target_valid,prediction)\n",
    "        ac_score = accuracy_score(target_valid,prediction)\n",
    "        if score > best_score:\n",
    "            best_score = score\n",
    "            best_param[0] = est\n",
    "            best_param[1] = depth\n",
    "            best_accuracy = ac_score\n",
    "print('Best f1 score:',best_score)  \n",
    "print('Best n:', best_param[0]) \n",
    "print('Best depth:', best_param[1])\n",
    "print('Best accuracy_score:',best_accuracy)"
   ]
  },
  {
   "cell_type": "code",
   "execution_count": 44,
   "metadata": {},
   "outputs": [
    {
     "name": "stdout",
     "output_type": "stream",
     "text": [
      "AUC-ROC: 0.873223207791797\n"
     ]
    }
   ],
   "source": [
    "probabilities = model.predict_proba(features_valid)\n",
    "probabilities_one_valid = probabilities[:,1]\n",
    "print('AUC-ROC:',roc_auc_score(target_valid, probabilities_one_valid))"
   ]
  },
  {
   "cell_type": "markdown",
   "metadata": {},
   "source": [
    "**Вывод**:\n",
    "\n",
    "Модель случайного леса с downsampling показала:\n",
    "\n",
    "Best f1 score: 0.6345256609642302\n",
    "\n",
    "Best accuracy_score: 0.812\n",
    "\n",
    "AUC-ROC: 0.873223207791797"
   ]
  },
  {
   "cell_type": "markdown",
   "metadata": {},
   "source": [
    "**Общий вывод**:\n",
    "\n",
    "Лучшие результаты с учётом дисбаланса классов показала модель случайного леса\n",
    "\n",
    "Best f1 score: 0.6679174484052532\n",
    "\n",
    "Best accuracy_score: 0.8584\n",
    "\n",
    "AUC-ROC: 0.8774072668627266"
   ]
  },
  {
   "cell_type": "markdown",
   "metadata": {},
   "source": [
    "## Тестирование модели"
   ]
  },
  {
   "cell_type": "code",
   "execution_count": 45,
   "metadata": {
    "scrolled": true
   },
   "outputs": [
    {
     "name": "stdout",
     "output_type": "stream",
     "text": [
      "f1 score: 0.6198198198198198\n",
      "AUC-ROC: 0.8489427529805892\n",
      "accuracy score: 0.8312\n",
      "Recall: 0.6745098039215687\n"
     ]
    }
   ],
   "source": [
    "model = RandomForestClassifier(n_estimators = 21,max_depth=9,random_state=12345,class_weight = 'balanced')\n",
    "model.fit(features_train,target_train)\n",
    "prediction = model.predict(features_test)\n",
    "print('f1 score:',f1_score(target_test,prediction))\n",
    "probabilities = model.predict_proba(features_test)\n",
    "probabilities_one_test = probabilities[:,1]\n",
    "print('AUC-ROC:',roc_auc_score(target_test, probabilities_one_test))\n",
    "print('accuracy score:',accuracy_score(target_test,prediction))\n",
    "print('Recall:',recall_score(target_test,prediction))"
   ]
  },
  {
   "cell_type": "code",
   "execution_count": 46,
   "metadata": {},
   "outputs": [],
   "source": [
    "fpr, tpr, thresholds = roc_curve(target_test, probabilities[:, 1]) "
   ]
  },
  {
   "cell_type": "code",
   "execution_count": 47,
   "metadata": {
    "scrolled": false
   },
   "outputs": [
    {
     "data": {
      "image/png": "[encoded data removed]",
      "text/plain": [
       "<Figure size 432x288 with 1 Axes>"
      ]
     },
     "metadata": {
      "needs_background": "light"
     },
     "output_type": "display_data"
    }
   ],
   "source": [
    "plt.figure()\n",
    "plt.plot([0, 1], [0, 1], linestyle='--')\n",
    "plt.plot(fpr, tpr)\n",
    "plt.xlim([0.0, 1.0])\n",
    "plt.ylim([0.0, 1.0])\n",
    "plt.xlabel('False Positive Rate')\n",
    "plt.ylabel('True Positive Rate')\n",
    "plt.title('ROC-кривая')\n",
    "plt.show() "
   ]
  },
  {
   "cell_type": "markdown",
   "metadata": {},
   "source": [
    "**Константная модель**"
   ]
  },
  {
   "cell_type": "code",
   "execution_count": 48,
   "metadata": {},
   "outputs": [],
   "source": [
    "const_model = pd.Series(0,index = features_test.index)"
   ]
  },
  {
   "cell_type": "code",
   "execution_count": 49,
   "metadata": {},
   "outputs": [
    {
     "name": "stdout",
     "output_type": "stream",
     "text": [
      "Accuracy score const model: 0.796\n"
     ]
    }
   ],
   "source": [
    "print('Accuracy score const model:',accuracy_score(const_model,target_test))"
   ]
  },
  {
   "cell_type": "markdown",
   "metadata": {},
   "source": [
    "**Вывод**:\n",
    "\n",
    "Тестирование модели случайного леса на тестовой выборке показало c upsampling:\n",
    "\n",
    "f1 score: 0.6198198198198198\n",
    "\n",
    "AUC-ROC: 0.8489427529805892\n",
    "\n",
    "accuracy score: 0.8312\n",
    "\n",
    "Recall: 0.6745098039215687 - способность модели находить положительные классы\n",
    "\n",
    "Accuracy score для константной модели показало  Accuracy score const model: 0.796\n"
   ]
  },
  {
   "cell_type": "markdown",
   "metadata": {},
   "source": [
    "## Чек-лист готовности проекта"
   ]
  },
  {
   "cell_type": "markdown",
   "metadata": {},
   "source": [
    "Поставьте 'x' в выполненных пунктах. Далее нажмите Shift+Enter."
   ]
  },
  {
   "cell_type": "markdown",
   "metadata": {},
   "source": [
    "- [x]  Jupyter Notebook открыт\n",
    "- [x]  Весь код выполняется без ошибок\n",
    "- [x]  Ячейки с кодом расположены в порядке исполнения\n",
    "- [x]  Выполнен шаг 1: данные подготовлены\n",
    "- [x]  Выполнен шаг 2: задача исследована\n",
    "    - [x]  Исследован баланс классов\n",
    "    - [x]  Изучены модели без учёта дисбаланса\n",
    "    - [x]  Написаны выводы по результатам исследования\n",
    "- [x]  Выполнен шаг 3: учтён дисбаланс\n",
    "    - [x]  Применено несколько способов борьбы с дисбалансом\n",
    "    - [x]  Написаны выводы по результатам исследования\n",
    "- [x]  Выполнен шаг 4: проведено тестирование\n",
    "- [x]  Удалось достичь *F1*-меры не менее 0.59\n",
    "- [x]  Исследована метрика *AUC-ROC*"
   ]
  }
 ],
 "metadata": {
  "ExecuteTimeLog": [
   {
    "duration": 406,
    "start_time": "2023-01-11T17:23:23.084Z"
   },
   {
    "duration": 111,
    "start_time": "2023-01-11T17:23:38.136Z"
   },
   {
    "duration": 26,
    "start_time": "2023-01-11T17:23:42.645Z"
   },
   {
    "duration": 12,
    "start_time": "2023-01-11T17:24:12.536Z"
   },
   {
    "duration": 62,
    "start_time": "2023-01-11T17:24:41.324Z"
   },
   {
    "duration": 7,
    "start_time": "2023-01-11T17:24:45.588Z"
   },
   {
    "duration": 8,
    "start_time": "2023-01-11T17:24:51.740Z"
   },
   {
    "duration": 6,
    "start_time": "2023-01-11T17:25:06.364Z"
   },
   {
    "duration": 11,
    "start_time": "2023-01-11T17:25:13.836Z"
   },
   {
    "duration": 11,
    "start_time": "2023-01-11T17:25:19.860Z"
   },
   {
    "duration": 11,
    "start_time": "2023-01-11T17:25:24.092Z"
   },
   {
    "duration": 7,
    "start_time": "2023-01-11T17:27:02.021Z"
   },
   {
    "duration": 13,
    "start_time": "2023-01-11T17:30:36.833Z"
   },
   {
    "duration": 5,
    "start_time": "2023-01-11T17:34:35.458Z"
   },
   {
    "duration": 5,
    "start_time": "2023-01-11T17:35:20.046Z"
   },
   {
    "duration": 18,
    "start_time": "2023-01-11T17:35:25.713Z"
   },
   {
    "duration": 72,
    "start_time": "2023-01-11T17:38:48.382Z"
   },
   {
    "duration": 74,
    "start_time": "2023-01-11T17:39:00.850Z"
   },
   {
    "duration": 5,
    "start_time": "2023-01-11T17:39:41.378Z"
   },
   {
    "duration": 17,
    "start_time": "2023-01-11T17:39:43.236Z"
   },
   {
    "duration": 12,
    "start_time": "2023-01-11T17:40:05.324Z"
   },
   {
    "duration": 16,
    "start_time": "2023-01-11T17:40:05.636Z"
   },
   {
    "duration": 8,
    "start_time": "2023-01-11T17:40:43.610Z"
   },
   {
    "duration": 5,
    "start_time": "2023-01-11T17:40:52.042Z"
   },
   {
    "duration": 23,
    "start_time": "2023-01-11T17:42:24.083Z"
   },
   {
    "duration": 17,
    "start_time": "2023-01-11T17:42:30.563Z"
   },
   {
    "duration": 9,
    "start_time": "2023-01-11T17:43:40.507Z"
   },
   {
    "duration": 17,
    "start_time": "2023-01-11T17:43:44.291Z"
   },
   {
    "duration": 762,
    "start_time": "2023-01-11T17:49:29.700Z"
   },
   {
    "duration": 8,
    "start_time": "2023-01-11T17:51:09.875Z"
   },
   {
    "duration": 231,
    "start_time": "2023-01-11T17:53:02.805Z"
   },
   {
    "duration": 156,
    "start_time": "2023-01-11T17:53:08.669Z"
   },
   {
    "duration": 172,
    "start_time": "2023-01-11T17:53:45.349Z"
   },
   {
    "duration": 112,
    "start_time": "2023-01-11T17:53:53.621Z"
   },
   {
    "duration": 62,
    "start_time": "2023-01-11T17:54:05.165Z"
   },
   {
    "duration": 3,
    "start_time": "2023-01-11T19:07:25.393Z"
   },
   {
    "duration": 669,
    "start_time": "2023-01-11T19:08:03.653Z"
   },
   {
    "duration": 585,
    "start_time": "2023-01-11T19:08:10.737Z"
   },
   {
    "duration": 111,
    "start_time": "2023-01-11T19:13:17.438Z"
   },
   {
    "duration": 96,
    "start_time": "2023-01-11T19:14:08.290Z"
   },
   {
    "duration": 3,
    "start_time": "2023-01-11T19:17:34.457Z"
   },
   {
    "duration": 88,
    "start_time": "2023-01-11T19:17:41.223Z"
   },
   {
    "duration": 83,
    "start_time": "2023-01-11T19:17:50.043Z"
   },
   {
    "duration": 2469,
    "start_time": "2023-01-11T19:17:57.675Z"
   },
   {
    "duration": 3453,
    "start_time": "2023-01-11T19:19:19.792Z"
   },
   {
    "duration": 2415,
    "start_time": "2023-01-11T19:19:28.099Z"
   },
   {
    "duration": 3403,
    "start_time": "2023-01-11T19:19:31.783Z"
   },
   {
    "duration": 12,
    "start_time": "2023-01-11T19:22:04.496Z"
   },
   {
    "duration": 337,
    "start_time": "2023-01-11T19:22:13.672Z"
   },
   {
    "duration": 3,
    "start_time": "2023-01-11T19:24:19.216Z"
   },
   {
    "duration": 422,
    "start_time": "2023-01-11T19:25:13.608Z"
   },
   {
    "duration": 7,
    "start_time": "2023-01-11T19:25:15.536Z"
   },
   {
    "duration": 12,
    "start_time": "2023-01-11T19:25:25.216Z"
   },
   {
    "duration": 5,
    "start_time": "2023-01-11T19:27:29.352Z"
   },
   {
    "duration": 8,
    "start_time": "2023-01-11T19:27:38.776Z"
   },
   {
    "duration": 55,
    "start_time": "2023-01-11T19:29:19.145Z"
   },
   {
    "duration": 317,
    "start_time": "2023-01-11T19:29:24.208Z"
   },
   {
    "duration": 47,
    "start_time": "2023-01-11T19:29:25.272Z"
   },
   {
    "duration": 13,
    "start_time": "2023-01-11T19:29:28.992Z"
   },
   {
    "duration": 3465,
    "start_time": "2023-01-11T19:29:54.320Z"
   },
   {
    "duration": 61,
    "start_time": "2023-01-11T19:29:59.455Z"
   },
   {
    "duration": 372,
    "start_time": "2023-01-11T19:30:04.616Z"
   },
   {
    "duration": 7,
    "start_time": "2023-01-11T19:30:05.836Z"
   },
   {
    "duration": 7585,
    "start_time": "2023-01-11T19:30:18.800Z"
   },
   {
    "duration": 57,
    "start_time": "2023-01-11T19:30:30.432Z"
   },
   {
    "duration": 391,
    "start_time": "2023-01-11T19:30:31.456Z"
   },
   {
    "duration": 9,
    "start_time": "2023-01-11T19:30:31.880Z"
   },
   {
    "duration": 8188,
    "start_time": "2023-01-11T19:30:42.880Z"
   },
   {
    "duration": 81,
    "start_time": "2023-01-11T19:31:20.880Z"
   },
   {
    "duration": 358,
    "start_time": "2023-01-11T19:31:22.960Z"
   },
   {
    "duration": 7,
    "start_time": "2023-01-11T19:31:23.440Z"
   },
   {
    "duration": 3,
    "start_time": "2023-01-11T19:33:31.364Z"
   },
   {
    "duration": 8,
    "start_time": "2023-01-11T19:34:45.264Z"
   },
   {
    "duration": 5,
    "start_time": "2023-01-11T19:34:50.900Z"
   },
   {
    "duration": 7,
    "start_time": "2023-01-11T19:35:07.936Z"
   },
   {
    "duration": 4,
    "start_time": "2023-01-11T19:35:11.812Z"
   },
   {
    "duration": 1152,
    "start_time": "2023-01-11T19:35:24.691Z"
   },
   {
    "duration": 39,
    "start_time": "2023-01-11T19:35:25.845Z"
   },
   {
    "duration": 27,
    "start_time": "2023-01-11T19:35:25.887Z"
   },
   {
    "duration": 13,
    "start_time": "2023-01-11T19:35:25.916Z"
   },
   {
    "duration": 14,
    "start_time": "2023-01-11T19:35:25.931Z"
   },
   {
    "duration": 5,
    "start_time": "2023-01-11T19:35:25.946Z"
   },
   {
    "duration": 23,
    "start_time": "2023-01-11T19:35:25.952Z"
   },
   {
    "duration": 4,
    "start_time": "2023-01-11T19:35:25.976Z"
   },
   {
    "duration": 21,
    "start_time": "2023-01-11T19:35:25.981Z"
   },
   {
    "duration": 18,
    "start_time": "2023-01-11T19:35:26.003Z"
   },
   {
    "duration": 16,
    "start_time": "2023-01-11T19:35:26.023Z"
   },
   {
    "duration": 8,
    "start_time": "2023-01-11T19:35:26.040Z"
   },
   {
    "duration": 671,
    "start_time": "2023-01-11T19:35:26.051Z"
   },
   {
    "duration": 99,
    "start_time": "2023-01-11T19:35:26.724Z"
   },
   {
    "duration": 2530,
    "start_time": "2023-01-11T19:35:26.830Z"
   },
   {
    "duration": 7842,
    "start_time": "2023-01-11T19:35:29.361Z"
   },
   {
    "duration": 82,
    "start_time": "2023-01-11T19:35:37.205Z"
   },
   {
    "duration": 361,
    "start_time": "2023-01-11T19:35:37.288Z"
   },
   {
    "duration": 8,
    "start_time": "2023-01-11T19:35:37.651Z"
   },
   {
    "duration": 16,
    "start_time": "2023-01-11T19:35:37.660Z"
   },
   {
    "duration": 5,
    "start_time": "2023-01-11T19:35:37.677Z"
   },
   {
    "duration": 542,
    "start_time": "2023-01-11T19:37:30.484Z"
   },
   {
    "duration": 11,
    "start_time": "2023-01-11T19:37:46.100Z"
   },
   {
    "duration": 2444,
    "start_time": "2023-01-11T19:39:10.424Z"
   },
   {
    "duration": 7964,
    "start_time": "2023-01-11T19:39:14.044Z"
   },
   {
    "duration": 397,
    "start_time": "2023-01-11T19:40:46.688Z"
   },
   {
    "duration": 7,
    "start_time": "2023-01-11T19:40:47.748Z"
   },
   {
    "duration": 6,
    "start_time": "2023-01-11T19:44:06.804Z"
   },
   {
    "duration": 11,
    "start_time": "2023-01-11T19:45:04.884Z"
   },
   {
    "duration": 1096,
    "start_time": "2023-01-11T19:47:08.291Z"
   },
   {
    "duration": 46,
    "start_time": "2023-01-11T19:47:09.389Z"
   },
   {
    "duration": 25,
    "start_time": "2023-01-11T19:47:09.436Z"
   },
   {
    "duration": 11,
    "start_time": "2023-01-11T19:47:09.463Z"
   },
   {
    "duration": 11,
    "start_time": "2023-01-11T19:47:09.476Z"
   },
   {
    "duration": 6,
    "start_time": "2023-01-11T19:47:09.489Z"
   },
   {
    "duration": 40,
    "start_time": "2023-01-11T19:47:09.496Z"
   },
   {
    "duration": 4,
    "start_time": "2023-01-11T19:47:09.537Z"
   },
   {
    "duration": 25,
    "start_time": "2023-01-11T19:47:09.542Z"
   },
   {
    "duration": 9,
    "start_time": "2023-01-11T19:47:09.570Z"
   },
   {
    "duration": 24,
    "start_time": "2023-01-11T19:47:09.581Z"
   },
   {
    "duration": 16,
    "start_time": "2023-01-11T19:47:09.606Z"
   },
   {
    "duration": 10,
    "start_time": "2023-01-11T19:47:09.623Z"
   },
   {
    "duration": 991,
    "start_time": "2023-01-11T19:47:09.634Z"
   },
   {
    "duration": 109,
    "start_time": "2023-01-11T19:47:10.627Z"
   },
   {
    "duration": 2362,
    "start_time": "2023-01-11T19:47:10.822Z"
   },
   {
    "duration": 7478,
    "start_time": "2023-01-11T19:47:13.186Z"
   },
   {
    "duration": 74,
    "start_time": "2023-01-11T19:47:20.666Z"
   },
   {
    "duration": 348,
    "start_time": "2023-01-11T19:47:20.742Z"
   },
   {
    "duration": 7,
    "start_time": "2023-01-11T19:47:21.092Z"
   },
   {
    "duration": 828,
    "start_time": "2023-01-11T19:47:21.101Z"
   },
   {
    "duration": 194,
    "start_time": "2023-01-11T19:47:21.931Z"
   },
   {
    "duration": 2456,
    "start_time": "2023-01-11T19:47:22.127Z"
   },
   {
    "duration": 7320,
    "start_time": "2023-01-11T19:47:24.585Z"
   },
   {
    "duration": 65,
    "start_time": "2023-01-11T19:47:31.906Z"
   },
   {
    "duration": 388,
    "start_time": "2023-01-11T19:47:31.973Z"
   },
   {
    "duration": 7,
    "start_time": "2023-01-11T19:47:32.363Z"
   },
   {
    "duration": 2335,
    "start_time": "2023-01-11T19:48:25.150Z"
   },
   {
    "duration": 5543,
    "start_time": "2023-01-11T19:48:33.038Z"
   },
   {
    "duration": 2355,
    "start_time": "2023-01-11T19:49:01.843Z"
   },
   {
    "duration": 11559,
    "start_time": "2023-01-11T19:49:09.218Z"
   },
   {
    "duration": 351,
    "start_time": "2023-01-11T19:49:31.954Z"
   },
   {
    "duration": 8,
    "start_time": "2023-01-11T19:49:32.848Z"
   },
   {
    "duration": 1058,
    "start_time": "2023-01-11T19:50:45.245Z"
   },
   {
    "duration": 51,
    "start_time": "2023-01-11T19:50:46.305Z"
   },
   {
    "duration": 26,
    "start_time": "2023-01-11T19:50:46.358Z"
   },
   {
    "duration": 11,
    "start_time": "2023-01-11T19:50:46.387Z"
   },
   {
    "duration": 14,
    "start_time": "2023-01-11T19:50:46.399Z"
   },
   {
    "duration": 5,
    "start_time": "2023-01-11T19:50:46.414Z"
   },
   {
    "duration": 12,
    "start_time": "2023-01-11T19:50:46.421Z"
   },
   {
    "duration": 3,
    "start_time": "2023-01-11T19:50:46.435Z"
   },
   {
    "duration": 29,
    "start_time": "2023-01-11T19:50:46.439Z"
   },
   {
    "duration": 10,
    "start_time": "2023-01-11T19:50:46.470Z"
   },
   {
    "duration": 21,
    "start_time": "2023-01-11T19:50:46.482Z"
   },
   {
    "duration": 16,
    "start_time": "2023-01-11T19:50:46.505Z"
   },
   {
    "duration": 5,
    "start_time": "2023-01-11T19:50:46.522Z"
   },
   {
    "duration": 600,
    "start_time": "2023-01-11T19:50:46.528Z"
   },
   {
    "duration": 190,
    "start_time": "2023-01-11T19:50:47.131Z"
   },
   {
    "duration": 2377,
    "start_time": "2023-01-11T19:50:47.327Z"
   },
   {
    "duration": 7274,
    "start_time": "2023-01-11T19:50:49.706Z"
   },
   {
    "duration": 59,
    "start_time": "2023-01-11T19:50:56.981Z"
   },
   {
    "duration": 340,
    "start_time": "2023-01-11T19:50:57.041Z"
   },
   {
    "duration": 6,
    "start_time": "2023-01-11T19:50:57.383Z"
   },
   {
    "duration": 929,
    "start_time": "2023-01-11T19:50:57.391Z"
   },
   {
    "duration": 103,
    "start_time": "2023-01-11T19:50:58.323Z"
   },
   {
    "duration": 2395,
    "start_time": "2023-01-11T19:50:58.428Z"
   },
   {
    "duration": 11334,
    "start_time": "2023-01-11T19:51:00.824Z"
   },
   {
    "duration": 45,
    "start_time": "2023-01-11T19:51:12.160Z"
   },
   {
    "duration": 348,
    "start_time": "2023-01-11T19:51:12.207Z"
   },
   {
    "duration": 7,
    "start_time": "2023-01-11T19:51:12.556Z"
   },
   {
    "duration": 1188,
    "start_time": "2023-01-11T19:52:14.614Z"
   },
   {
    "duration": 45,
    "start_time": "2023-01-11T19:52:15.804Z"
   },
   {
    "duration": 34,
    "start_time": "2023-01-11T19:52:15.851Z"
   },
   {
    "duration": 14,
    "start_time": "2023-01-11T19:52:15.887Z"
   },
   {
    "duration": 10,
    "start_time": "2023-01-11T19:52:15.902Z"
   },
   {
    "duration": 11,
    "start_time": "2023-01-11T19:52:15.913Z"
   },
   {
    "duration": 11,
    "start_time": "2023-01-11T19:52:15.925Z"
   },
   {
    "duration": 14,
    "start_time": "2023-01-11T19:52:15.937Z"
   },
   {
    "duration": 21,
    "start_time": "2023-01-11T19:52:15.952Z"
   },
   {
    "duration": 8,
    "start_time": "2023-01-11T19:52:15.976Z"
   },
   {
    "duration": 23,
    "start_time": "2023-01-11T19:52:15.986Z"
   },
   {
    "duration": 19,
    "start_time": "2023-01-11T19:52:16.011Z"
   },
   {
    "duration": 7,
    "start_time": "2023-01-11T19:52:16.032Z"
   },
   {
    "duration": 1192,
    "start_time": "2023-01-11T19:52:16.040Z"
   },
   {
    "duration": 98,
    "start_time": "2023-01-11T19:52:17.323Z"
   },
   {
    "duration": 2521,
    "start_time": "2023-01-11T19:52:17.425Z"
   },
   {
    "duration": 7818,
    "start_time": "2023-01-11T19:52:19.948Z"
   },
   {
    "duration": 55,
    "start_time": "2023-01-11T19:52:27.768Z"
   },
   {
    "duration": 356,
    "start_time": "2023-01-11T19:52:27.824Z"
   },
   {
    "duration": 7,
    "start_time": "2023-01-11T19:52:28.181Z"
   },
   {
    "duration": 2539,
    "start_time": "2023-01-11T19:52:28.189Z"
   },
   {
    "duration": 99,
    "start_time": "2023-01-11T19:52:30.730Z"
   },
   {
    "duration": 2622,
    "start_time": "2023-01-11T19:52:30.831Z"
   },
   {
    "duration": 12073,
    "start_time": "2023-01-11T19:52:33.454Z"
   },
   {
    "duration": 44,
    "start_time": "2023-01-11T19:52:45.529Z"
   },
   {
    "duration": 366,
    "start_time": "2023-01-11T19:52:45.575Z"
   },
   {
    "duration": 6,
    "start_time": "2023-01-11T19:52:45.943Z"
   },
   {
    "duration": 1047,
    "start_time": "2023-01-11T19:52:53.758Z"
   },
   {
    "duration": 39,
    "start_time": "2023-01-11T19:52:54.807Z"
   },
   {
    "duration": 27,
    "start_time": "2023-01-11T19:52:54.848Z"
   },
   {
    "duration": 12,
    "start_time": "2023-01-11T19:52:54.877Z"
   },
   {
    "duration": 10,
    "start_time": "2023-01-11T19:52:54.891Z"
   },
   {
    "duration": 18,
    "start_time": "2023-01-11T19:52:54.903Z"
   },
   {
    "duration": 12,
    "start_time": "2023-01-11T19:52:54.923Z"
   },
   {
    "duration": 4,
    "start_time": "2023-01-11T19:52:54.936Z"
   },
   {
    "duration": 23,
    "start_time": "2023-01-11T19:52:54.941Z"
   },
   {
    "duration": 10,
    "start_time": "2023-01-11T19:52:54.967Z"
   },
   {
    "duration": 16,
    "start_time": "2023-01-11T19:52:54.978Z"
   },
   {
    "duration": 29,
    "start_time": "2023-01-11T19:52:54.996Z"
   },
   {
    "duration": 116,
    "start_time": "2023-01-11T19:52:55.026Z"
   },
   {
    "duration": 0,
    "start_time": "2023-01-11T19:52:55.144Z"
   },
   {
    "duration": 0,
    "start_time": "2023-01-11T19:52:55.146Z"
   },
   {
    "duration": 0,
    "start_time": "2023-01-11T19:52:55.147Z"
   },
   {
    "duration": 0,
    "start_time": "2023-01-11T19:52:55.148Z"
   },
   {
    "duration": 0,
    "start_time": "2023-01-11T19:52:55.149Z"
   },
   {
    "duration": 0,
    "start_time": "2023-01-11T19:52:55.150Z"
   },
   {
    "duration": 0,
    "start_time": "2023-01-11T19:52:55.151Z"
   },
   {
    "duration": 0,
    "start_time": "2023-01-11T19:52:55.152Z"
   },
   {
    "duration": 0,
    "start_time": "2023-01-11T19:52:55.154Z"
   },
   {
    "duration": 0,
    "start_time": "2023-01-11T19:52:55.155Z"
   },
   {
    "duration": 0,
    "start_time": "2023-01-11T19:52:55.156Z"
   },
   {
    "duration": 0,
    "start_time": "2023-01-11T19:52:55.157Z"
   },
   {
    "duration": 0,
    "start_time": "2023-01-11T19:52:55.158Z"
   },
   {
    "duration": 0,
    "start_time": "2023-01-11T19:52:55.159Z"
   },
   {
    "duration": 1078,
    "start_time": "2023-01-11T19:54:10.809Z"
   },
   {
    "duration": 39,
    "start_time": "2023-01-11T19:54:11.890Z"
   },
   {
    "duration": 26,
    "start_time": "2023-01-11T19:54:11.931Z"
   },
   {
    "duration": 10,
    "start_time": "2023-01-11T19:54:11.960Z"
   },
   {
    "duration": 14,
    "start_time": "2023-01-11T19:54:11.972Z"
   },
   {
    "duration": 5,
    "start_time": "2023-01-11T19:54:11.988Z"
   },
   {
    "duration": 36,
    "start_time": "2023-01-11T19:54:11.995Z"
   },
   {
    "duration": 4,
    "start_time": "2023-01-11T19:54:12.033Z"
   },
   {
    "duration": 18,
    "start_time": "2023-01-11T19:54:12.038Z"
   },
   {
    "duration": 12,
    "start_time": "2023-01-11T19:54:12.058Z"
   },
   {
    "duration": 19,
    "start_time": "2023-01-11T19:54:12.072Z"
   },
   {
    "duration": 948,
    "start_time": "2023-01-11T19:54:12.093Z"
   },
   {
    "duration": 0,
    "start_time": "2023-01-11T19:54:13.043Z"
   },
   {
    "duration": 0,
    "start_time": "2023-01-11T19:54:13.044Z"
   },
   {
    "duration": 0,
    "start_time": "2023-01-11T19:54:13.045Z"
   },
   {
    "duration": 0,
    "start_time": "2023-01-11T19:54:13.046Z"
   },
   {
    "duration": 0,
    "start_time": "2023-01-11T19:54:13.047Z"
   },
   {
    "duration": 0,
    "start_time": "2023-01-11T19:54:13.048Z"
   },
   {
    "duration": 0,
    "start_time": "2023-01-11T19:54:13.049Z"
   },
   {
    "duration": 0,
    "start_time": "2023-01-11T19:54:13.050Z"
   },
   {
    "duration": 0,
    "start_time": "2023-01-11T19:54:13.051Z"
   },
   {
    "duration": 0,
    "start_time": "2023-01-11T19:54:13.052Z"
   },
   {
    "duration": 0,
    "start_time": "2023-01-11T19:54:13.053Z"
   },
   {
    "duration": 0,
    "start_time": "2023-01-11T19:54:13.054Z"
   },
   {
    "duration": 0,
    "start_time": "2023-01-11T19:54:13.055Z"
   },
   {
    "duration": 0,
    "start_time": "2023-01-11T19:54:13.056Z"
   },
   {
    "duration": 0,
    "start_time": "2023-01-11T19:54:13.056Z"
   },
   {
    "duration": 1068,
    "start_time": "2023-01-11T19:54:39.410Z"
   },
   {
    "duration": 40,
    "start_time": "2023-01-11T19:54:40.480Z"
   },
   {
    "duration": 24,
    "start_time": "2023-01-11T19:54:40.522Z"
   },
   {
    "duration": 11,
    "start_time": "2023-01-11T19:54:40.548Z"
   },
   {
    "duration": 10,
    "start_time": "2023-01-11T19:54:40.560Z"
   },
   {
    "duration": 5,
    "start_time": "2023-01-11T19:54:40.572Z"
   },
   {
    "duration": 13,
    "start_time": "2023-01-11T19:54:40.579Z"
   },
   {
    "duration": 30,
    "start_time": "2023-01-11T19:54:40.593Z"
   },
   {
    "duration": 26,
    "start_time": "2023-01-11T19:54:40.625Z"
   },
   {
    "duration": 15,
    "start_time": "2023-01-11T19:54:40.654Z"
   },
   {
    "duration": 24,
    "start_time": "2023-01-11T19:54:40.670Z"
   },
   {
    "duration": 29,
    "start_time": "2023-01-11T19:54:40.696Z"
   },
   {
    "duration": 5,
    "start_time": "2023-01-11T19:54:40.726Z"
   },
   {
    "duration": 697,
    "start_time": "2023-01-11T19:54:40.732Z"
   },
   {
    "duration": 98,
    "start_time": "2023-01-11T19:54:41.431Z"
   },
   {
    "duration": 2583,
    "start_time": "2023-01-11T19:54:41.531Z"
   },
   {
    "duration": 7608,
    "start_time": "2023-01-11T19:54:44.116Z"
   },
   {
    "duration": 51,
    "start_time": "2023-01-11T19:54:51.726Z"
   },
   {
    "duration": 361,
    "start_time": "2023-01-11T19:54:51.779Z"
   },
   {
    "duration": 8,
    "start_time": "2023-01-11T19:54:52.141Z"
   },
   {
    "duration": 972,
    "start_time": "2023-01-11T19:54:52.151Z"
   },
   {
    "duration": 98,
    "start_time": "2023-01-11T19:54:53.130Z"
   },
   {
    "duration": 2638,
    "start_time": "2023-01-11T19:54:53.232Z"
   },
   {
    "duration": 11960,
    "start_time": "2023-01-11T19:54:55.872Z"
   },
   {
    "duration": 41,
    "start_time": "2023-01-11T19:55:07.833Z"
   },
   {
    "duration": 368,
    "start_time": "2023-01-11T19:55:07.876Z"
   },
   {
    "duration": 7,
    "start_time": "2023-01-11T19:55:08.245Z"
   },
   {
    "duration": 2415,
    "start_time": "2023-01-11T19:55:27.243Z"
   },
   {
    "duration": 1079,
    "start_time": "2023-01-11T19:55:35.118Z"
   },
   {
    "duration": 39,
    "start_time": "2023-01-11T19:55:36.199Z"
   },
   {
    "duration": 24,
    "start_time": "2023-01-11T19:55:36.239Z"
   },
   {
    "duration": 11,
    "start_time": "2023-01-11T19:55:36.265Z"
   },
   {
    "duration": 19,
    "start_time": "2023-01-11T19:55:36.277Z"
   },
   {
    "duration": 23,
    "start_time": "2023-01-11T19:55:36.298Z"
   },
   {
    "duration": 32,
    "start_time": "2023-01-11T19:55:36.323Z"
   },
   {
    "duration": 14,
    "start_time": "2023-01-11T19:55:36.357Z"
   },
   {
    "duration": 34,
    "start_time": "2023-01-11T19:55:36.372Z"
   },
   {
    "duration": 30,
    "start_time": "2023-01-11T19:55:36.408Z"
   },
   {
    "duration": 34,
    "start_time": "2023-01-11T19:55:36.439Z"
   },
   {
    "duration": 35,
    "start_time": "2023-01-11T19:55:36.475Z"
   },
   {
    "duration": 19,
    "start_time": "2023-01-11T19:55:36.511Z"
   },
   {
    "duration": 590,
    "start_time": "2023-01-11T19:55:36.532Z"
   },
   {
    "duration": 101,
    "start_time": "2023-01-11T19:55:37.125Z"
   },
   {
    "duration": 2542,
    "start_time": "2023-01-11T19:55:37.228Z"
   },
   {
    "duration": 16206,
    "start_time": "2023-01-11T19:55:39.771Z"
   },
   {
    "duration": 59,
    "start_time": "2023-01-11T19:55:55.978Z"
   },
   {
    "duration": 347,
    "start_time": "2023-01-11T19:55:56.038Z"
   },
   {
    "duration": 6,
    "start_time": "2023-01-11T19:55:56.387Z"
   },
   {
    "duration": 930,
    "start_time": "2023-01-11T19:55:56.395Z"
   },
   {
    "duration": 99,
    "start_time": "2023-01-11T19:55:57.327Z"
   },
   {
    "duration": 2536,
    "start_time": "2023-01-11T19:55:57.429Z"
   },
   {
    "duration": 12896,
    "start_time": "2023-01-11T19:55:59.966Z"
   },
   {
    "duration": 47,
    "start_time": "2023-01-11T19:56:12.863Z"
   },
   {
    "duration": 361,
    "start_time": "2023-01-11T19:56:12.920Z"
   },
   {
    "duration": 7,
    "start_time": "2023-01-11T19:56:13.283Z"
   },
   {
    "duration": 45,
    "start_time": "2023-01-12T12:25:15.272Z"
   },
   {
    "duration": 1071,
    "start_time": "2023-01-12T12:25:29.892Z"
   },
   {
    "duration": 62,
    "start_time": "2023-01-12T12:25:33.484Z"
   },
   {
    "duration": 1052,
    "start_time": "2023-01-12T12:25:39.693Z"
   },
   {
    "duration": 353,
    "start_time": "2023-01-12T12:25:40.747Z"
   },
   {
    "duration": 23,
    "start_time": "2023-01-12T12:25:41.102Z"
   },
   {
    "duration": 11,
    "start_time": "2023-01-12T12:25:41.126Z"
   },
   {
    "duration": 9,
    "start_time": "2023-01-12T12:25:41.139Z"
   },
   {
    "duration": 7,
    "start_time": "2023-01-12T12:25:41.149Z"
   },
   {
    "duration": 20,
    "start_time": "2023-01-12T12:25:41.158Z"
   },
   {
    "duration": 4,
    "start_time": "2023-01-12T12:25:41.179Z"
   },
   {
    "duration": 19,
    "start_time": "2023-01-12T12:25:41.184Z"
   },
   {
    "duration": 10,
    "start_time": "2023-01-12T12:25:41.206Z"
   },
   {
    "duration": 16,
    "start_time": "2023-01-12T12:25:41.218Z"
   },
   {
    "duration": 8,
    "start_time": "2023-01-12T12:25:41.236Z"
   },
   {
    "duration": 4,
    "start_time": "2023-01-12T12:25:41.246Z"
   },
   {
    "duration": 608,
    "start_time": "2023-01-12T12:25:41.278Z"
   },
   {
    "duration": 101,
    "start_time": "2023-01-12T12:25:41.978Z"
   },
   {
    "duration": 2532,
    "start_time": "2023-01-12T12:25:42.081Z"
   },
   {
    "duration": 16594,
    "start_time": "2023-01-12T12:25:44.615Z"
   },
   {
    "duration": 54,
    "start_time": "2023-01-12T12:26:01.211Z"
   },
   {
    "duration": 355,
    "start_time": "2023-01-12T12:26:01.267Z"
   },
   {
    "duration": 7,
    "start_time": "2023-01-12T12:26:01.623Z"
   },
   {
    "duration": 1247,
    "start_time": "2023-01-12T12:26:01.631Z"
   },
   {
    "duration": 11,
    "start_time": "2023-01-12T12:26:02.880Z"
   },
   {
    "duration": 2574,
    "start_time": "2023-01-12T12:26:02.978Z"
   },
   {
    "duration": 12870,
    "start_time": "2023-01-12T12:26:05.554Z"
   },
   {
    "duration": 42,
    "start_time": "2023-01-12T12:26:18.426Z"
   },
   {
    "duration": 368,
    "start_time": "2023-01-12T12:26:18.478Z"
   },
   {
    "duration": 8,
    "start_time": "2023-01-12T12:26:18.847Z"
   },
   {
    "duration": 638,
    "start_time": "2023-01-12T12:26:18.858Z"
   },
   {
    "duration": 18,
    "start_time": "2023-01-12T12:35:02.531Z"
   },
   {
    "duration": 8,
    "start_time": "2023-01-12T12:35:09.491Z"
   },
   {
    "duration": 8,
    "start_time": "2023-01-12T12:35:17.746Z"
   },
   {
    "duration": 3,
    "start_time": "2023-01-12T13:00:51.928Z"
   },
   {
    "duration": 103,
    "start_time": "2023-01-12T13:01:57.328Z"
   },
   {
    "duration": 3,
    "start_time": "2023-01-12T13:02:32.196Z"
   },
   {
    "duration": 5,
    "start_time": "2023-01-12T13:02:36.492Z"
   },
   {
    "duration": 11,
    "start_time": "2023-01-12T13:02:37.577Z"
   },
   {
    "duration": 15,
    "start_time": "2023-01-12T13:02:43.576Z"
   },
   {
    "duration": 4,
    "start_time": "2023-01-12T13:03:20.268Z"
   },
   {
    "duration": 6,
    "start_time": "2023-01-12T13:03:28.017Z"
   },
   {
    "duration": 812,
    "start_time": "2023-01-12T13:05:19.064Z"
   },
   {
    "duration": 3,
    "start_time": "2023-01-12T13:10:32.698Z"
   },
   {
    "duration": 10,
    "start_time": "2023-01-12T13:10:55.414Z"
   },
   {
    "duration": 5,
    "start_time": "2023-01-12T13:10:55.774Z"
   },
   {
    "duration": 6,
    "start_time": "2023-01-12T13:10:56.318Z"
   },
   {
    "duration": 16,
    "start_time": "2023-01-12T13:11:05.590Z"
   },
   {
    "duration": 9,
    "start_time": "2023-01-12T13:11:14.706Z"
   },
   {
    "duration": 6,
    "start_time": "2023-01-12T13:11:15.670Z"
   },
   {
    "duration": 4,
    "start_time": "2023-01-12T13:11:16.254Z"
   },
   {
    "duration": 9,
    "start_time": "2023-01-12T13:11:44.262Z"
   },
   {
    "duration": 5,
    "start_time": "2023-01-12T13:11:44.550Z"
   },
   {
    "duration": 4,
    "start_time": "2023-01-12T13:11:44.934Z"
   },
   {
    "duration": 5,
    "start_time": "2023-01-12T13:12:25.578Z"
   },
   {
    "duration": 10,
    "start_time": "2023-01-12T13:12:25.798Z"
   },
   {
    "duration": 4,
    "start_time": "2023-01-12T13:12:26.118Z"
   },
   {
    "duration": 4,
    "start_time": "2023-01-12T13:12:26.438Z"
   },
   {
    "duration": 386,
    "start_time": "2023-01-12T13:12:48.710Z"
   },
   {
    "duration": 4,
    "start_time": "2023-01-12T13:16:13.287Z"
   },
   {
    "duration": 10,
    "start_time": "2023-01-12T13:16:13.535Z"
   },
   {
    "duration": 5,
    "start_time": "2023-01-12T13:16:13.822Z"
   },
   {
    "duration": 6,
    "start_time": "2023-01-12T13:16:14.144Z"
   },
   {
    "duration": 803,
    "start_time": "2023-01-12T13:16:14.815Z"
   },
   {
    "duration": 801,
    "start_time": "2023-01-12T13:17:00.695Z"
   },
   {
    "duration": 2,
    "start_time": "2023-01-12T13:19:17.231Z"
   },
   {
    "duration": 10,
    "start_time": "2023-01-12T13:22:19.520Z"
   },
   {
    "duration": 5,
    "start_time": "2023-01-12T13:22:47.144Z"
   },
   {
    "duration": 5,
    "start_time": "2023-01-12T13:22:50.762Z"
   },
   {
    "duration": 12,
    "start_time": "2023-01-12T13:22:52.373Z"
   },
   {
    "duration": 366,
    "start_time": "2023-01-12T13:23:05.952Z"
   },
   {
    "duration": 124,
    "start_time": "2023-01-12T13:23:09.440Z"
   },
   {
    "duration": 107,
    "start_time": "2023-01-12T13:24:08.040Z"
   },
   {
    "duration": 121,
    "start_time": "2023-01-12T13:24:29.000Z"
   },
   {
    "duration": 174,
    "start_time": "2023-01-12T13:24:32.652Z"
   },
   {
    "duration": 116,
    "start_time": "2023-01-12T13:24:59.088Z"
   },
   {
    "duration": 2359,
    "start_time": "2023-01-12T15:58:08.828Z"
   },
   {
    "duration": 94,
    "start_time": "2023-01-12T15:58:11.190Z"
   },
   {
    "duration": 34,
    "start_time": "2023-01-12T15:58:11.286Z"
   },
   {
    "duration": 15,
    "start_time": "2023-01-12T15:58:11.322Z"
   },
   {
    "duration": 12,
    "start_time": "2023-01-12T15:58:11.340Z"
   },
   {
    "duration": 7,
    "start_time": "2023-01-12T15:58:11.353Z"
   },
   {
    "duration": 15,
    "start_time": "2023-01-12T15:58:11.362Z"
   },
   {
    "duration": 5,
    "start_time": "2023-01-12T15:58:11.379Z"
   },
   {
    "duration": 60,
    "start_time": "2023-01-12T15:58:11.385Z"
   },
   {
    "duration": 22,
    "start_time": "2023-01-12T15:58:11.447Z"
   },
   {
    "duration": 44,
    "start_time": "2023-01-12T15:58:11.472Z"
   },
   {
    "duration": 25,
    "start_time": "2023-01-12T15:58:11.519Z"
   },
   {
    "duration": 7,
    "start_time": "2023-01-12T15:58:11.546Z"
   },
   {
    "duration": 12,
    "start_time": "2023-01-12T15:58:11.558Z"
   },
   {
    "duration": 11,
    "start_time": "2023-01-12T15:58:11.572Z"
   },
   {
    "duration": 3,
    "start_time": "2023-01-12T15:58:11.585Z"
   },
   {
    "duration": 353,
    "start_time": "2023-01-12T15:58:11.590Z"
   },
   {
    "duration": 91,
    "start_time": "2023-01-12T15:58:11.946Z"
   },
   {
    "duration": 3158,
    "start_time": "2023-01-12T15:58:12.039Z"
   },
   {
    "duration": 18889,
    "start_time": "2023-01-12T15:58:15.199Z"
   },
   {
    "duration": 80,
    "start_time": "2023-01-12T15:58:34.090Z"
   },
   {
    "duration": 410,
    "start_time": "2023-01-12T15:58:34.172Z"
   },
   {
    "duration": 8,
    "start_time": "2023-01-12T15:58:34.584Z"
   },
   {
    "duration": 1147,
    "start_time": "2023-01-12T15:58:34.593Z"
   },
   {
    "duration": 99,
    "start_time": "2023-01-12T15:58:35.742Z"
   },
   {
    "duration": 2886,
    "start_time": "2023-01-12T15:58:35.844Z"
   },
   {
    "duration": 14628,
    "start_time": "2023-01-12T15:58:38.734Z"
   },
   {
    "duration": 51,
    "start_time": "2023-01-12T15:58:53.364Z"
   },
   {
    "duration": 430,
    "start_time": "2023-01-12T15:58:53.417Z"
   },
   {
    "duration": 7,
    "start_time": "2023-01-12T15:58:53.849Z"
   },
   {
    "duration": 13,
    "start_time": "2023-01-12T15:58:53.858Z"
   },
   {
    "duration": 19,
    "start_time": "2023-01-12T15:58:53.873Z"
   },
   {
    "duration": 13,
    "start_time": "2023-01-12T15:58:53.894Z"
   },
   {
    "duration": 15,
    "start_time": "2023-01-12T15:58:53.909Z"
   },
   {
    "duration": 933,
    "start_time": "2023-01-12T15:58:53.936Z"
   },
   {
    "duration": 6,
    "start_time": "2023-01-12T15:58:54.871Z"
   },
   {
    "duration": 19,
    "start_time": "2023-01-12T15:58:54.878Z"
   },
   {
    "duration": 12,
    "start_time": "2023-01-12T15:58:54.899Z"
   },
   {
    "duration": 23,
    "start_time": "2023-01-12T15:58:54.914Z"
   },
   {
    "duration": 428,
    "start_time": "2023-01-12T15:58:54.939Z"
   },
   {
    "duration": 869,
    "start_time": "2023-01-12T15:58:55.370Z"
   },
   {
    "duration": 4,
    "start_time": "2023-01-12T15:58:56.241Z"
   },
   {
    "duration": 145,
    "start_time": "2023-01-12T15:58:56.247Z"
   },
   {
    "duration": 4,
    "start_time": "2023-01-12T16:05:23.100Z"
   },
   {
    "duration": 72,
    "start_time": "2023-01-12T16:05:23.107Z"
   },
   {
    "duration": 23,
    "start_time": "2023-01-12T16:05:23.181Z"
   },
   {
    "duration": 46,
    "start_time": "2023-01-12T16:05:23.205Z"
   },
   {
    "duration": 20,
    "start_time": "2023-01-12T16:05:23.254Z"
   },
   {
    "duration": 11,
    "start_time": "2023-01-12T16:05:23.277Z"
   },
   {
    "duration": 17,
    "start_time": "2023-01-12T16:05:23.291Z"
   },
   {
    "duration": 24,
    "start_time": "2023-01-12T16:05:23.310Z"
   },
   {
    "duration": 17,
    "start_time": "2023-01-12T16:05:23.337Z"
   },
   {
    "duration": 48,
    "start_time": "2023-01-12T16:05:23.356Z"
   },
   {
    "duration": 15,
    "start_time": "2023-01-12T16:05:23.408Z"
   },
   {
    "duration": 29,
    "start_time": "2023-01-12T16:05:23.425Z"
   },
   {
    "duration": 24,
    "start_time": "2023-01-12T16:05:23.456Z"
   },
   {
    "duration": 8,
    "start_time": "2023-01-12T16:05:23.483Z"
   },
   {
    "duration": 29,
    "start_time": "2023-01-12T16:05:23.493Z"
   },
   {
    "duration": 9,
    "start_time": "2023-01-12T16:05:23.524Z"
   },
   {
    "duration": 7,
    "start_time": "2023-01-12T16:05:23.535Z"
   },
   {
    "duration": 1101,
    "start_time": "2023-01-12T16:05:23.544Z"
   },
   {
    "duration": 193,
    "start_time": "2023-01-12T16:05:24.648Z"
   },
   {
    "duration": 2815,
    "start_time": "2023-01-12T16:05:24.844Z"
   },
   {
    "duration": 18988,
    "start_time": "2023-01-12T16:05:27.661Z"
   },
   {
    "duration": 78,
    "start_time": "2023-01-12T16:05:46.651Z"
   },
   {
    "duration": 403,
    "start_time": "2023-01-12T16:05:46.731Z"
   },
   {
    "duration": 9,
    "start_time": "2023-01-12T16:05:47.136Z"
   },
   {
    "duration": 1602,
    "start_time": "2023-01-12T16:05:47.147Z"
   },
   {
    "duration": 102,
    "start_time": "2023-01-12T16:05:48.837Z"
   },
   {
    "duration": 2870,
    "start_time": "2023-01-12T16:05:48.941Z"
   },
   {
    "duration": 14161,
    "start_time": "2023-01-12T16:05:51.813Z"
   },
   {
    "duration": 69,
    "start_time": "2023-01-12T16:06:05.978Z"
   },
   {
    "duration": 401,
    "start_time": "2023-01-12T16:06:06.049Z"
   },
   {
    "duration": 10,
    "start_time": "2023-01-12T16:06:06.453Z"
   },
   {
    "duration": 15,
    "start_time": "2023-01-12T16:06:06.465Z"
   },
   {
    "duration": 14,
    "start_time": "2023-01-12T16:06:06.482Z"
   },
   {
    "duration": 6,
    "start_time": "2023-01-12T16:06:06.498Z"
   },
   {
    "duration": 9,
    "start_time": "2023-01-12T16:06:06.506Z"
   },
   {
    "duration": 913,
    "start_time": "2023-01-12T16:06:06.535Z"
   },
   {
    "duration": 5,
    "start_time": "2023-01-12T16:06:07.450Z"
   },
   {
    "duration": 12,
    "start_time": "2023-01-12T16:06:07.457Z"
   },
   {
    "duration": 7,
    "start_time": "2023-01-12T16:06:07.471Z"
   },
   {
    "duration": 12,
    "start_time": "2023-01-12T16:06:07.480Z"
   },
   {
    "duration": 436,
    "start_time": "2023-01-12T16:06:07.494Z"
   },
   {
    "duration": 901,
    "start_time": "2023-01-12T16:06:07.932Z"
   },
   {
    "duration": 5,
    "start_time": "2023-01-12T16:06:08.835Z"
   },
   {
    "duration": 138,
    "start_time": "2023-01-12T16:06:08.842Z"
   },
   {
    "duration": 5,
    "start_time": "2023-01-12T16:07:02.482Z"
   },
   {
    "duration": 76,
    "start_time": "2023-01-12T16:07:02.489Z"
   },
   {
    "duration": 28,
    "start_time": "2023-01-12T16:07:02.567Z"
   },
   {
    "duration": 24,
    "start_time": "2023-01-12T16:07:02.598Z"
   },
   {
    "duration": 59,
    "start_time": "2023-01-12T16:07:02.626Z"
   },
   {
    "duration": 35,
    "start_time": "2023-01-12T16:07:02.686Z"
   },
   {
    "duration": 54,
    "start_time": "2023-01-12T16:07:02.723Z"
   },
   {
    "duration": 13,
    "start_time": "2023-01-12T16:07:02.778Z"
   },
   {
    "duration": 23,
    "start_time": "2023-01-12T16:07:02.793Z"
   },
   {
    "duration": 26,
    "start_time": "2023-01-12T16:07:02.818Z"
   },
   {
    "duration": 20,
    "start_time": "2023-01-12T16:07:02.846Z"
   },
   {
    "duration": 18,
    "start_time": "2023-01-12T16:07:02.868Z"
   },
   {
    "duration": 25,
    "start_time": "2023-01-12T16:07:02.888Z"
   },
   {
    "duration": 31,
    "start_time": "2023-01-12T16:07:02.917Z"
   },
   {
    "duration": 34,
    "start_time": "2023-01-12T16:07:02.949Z"
   },
   {
    "duration": 13,
    "start_time": "2023-01-12T16:07:02.985Z"
   },
   {
    "duration": 1139,
    "start_time": "2023-01-12T16:07:02.999Z"
   },
   {
    "duration": 97,
    "start_time": "2023-01-12T16:07:04.141Z"
   },
   {
    "duration": 2839,
    "start_time": "2023-01-12T16:07:04.241Z"
   },
   {
    "duration": 18738,
    "start_time": "2023-01-12T16:07:07.082Z"
   },
   {
    "duration": 71,
    "start_time": "2023-01-12T16:07:25.822Z"
   },
   {
    "duration": 414,
    "start_time": "2023-01-12T16:07:25.895Z"
   },
   {
    "duration": 9,
    "start_time": "2023-01-12T16:07:26.311Z"
   },
   {
    "duration": 1721,
    "start_time": "2023-01-12T16:07:26.322Z"
   },
   {
    "duration": 97,
    "start_time": "2023-01-12T16:07:28.046Z"
   },
   {
    "duration": 2950,
    "start_time": "2023-01-12T16:07:28.146Z"
   },
   {
    "duration": 15304,
    "start_time": "2023-01-12T16:07:31.098Z"
   },
   {
    "duration": 60,
    "start_time": "2023-01-12T16:07:46.404Z"
   },
   {
    "duration": 448,
    "start_time": "2023-01-12T16:07:46.467Z"
   },
   {
    "duration": 18,
    "start_time": "2023-01-12T16:07:46.917Z"
   },
   {
    "duration": 4,
    "start_time": "2023-01-12T16:07:46.938Z"
   },
   {
    "duration": 17,
    "start_time": "2023-01-12T16:07:46.945Z"
   },
   {
    "duration": 11,
    "start_time": "2023-01-12T16:07:46.964Z"
   },
   {
    "duration": 12,
    "start_time": "2023-01-12T16:07:46.977Z"
   },
   {
    "duration": 980,
    "start_time": "2023-01-12T16:07:46.991Z"
   },
   {
    "duration": 7,
    "start_time": "2023-01-12T16:07:47.974Z"
   },
   {
    "duration": 23,
    "start_time": "2023-01-12T16:07:47.983Z"
   },
   {
    "duration": 13,
    "start_time": "2023-01-12T16:07:48.009Z"
   },
   {
    "duration": 16,
    "start_time": "2023-01-12T16:07:48.035Z"
   },
   {
    "duration": 429,
    "start_time": "2023-01-12T16:07:48.053Z"
   },
   {
    "duration": 904,
    "start_time": "2023-01-12T16:07:48.487Z"
   },
   {
    "duration": 6,
    "start_time": "2023-01-12T16:07:49.393Z"
   },
   {
    "duration": 159,
    "start_time": "2023-01-12T16:07:49.401Z"
   },
   {
    "duration": 1181,
    "start_time": "2023-01-12T20:42:43.955Z"
   },
   {
    "duration": 452,
    "start_time": "2023-01-12T20:42:51.519Z"
   },
   {
    "duration": 22,
    "start_time": "2023-01-12T20:44:40.411Z"
   },
   {
    "duration": 4,
    "start_time": "2023-01-12T20:44:44.197Z"
   },
   {
    "duration": 392,
    "start_time": "2023-01-12T20:44:45.315Z"
   },
   {
    "duration": 26,
    "start_time": "2023-01-12T20:44:45.709Z"
   },
   {
    "duration": 12,
    "start_time": "2023-01-12T20:44:46.723Z"
   },
   {
    "duration": 12,
    "start_time": "2023-01-12T20:44:47.431Z"
   },
   {
    "duration": 5,
    "start_time": "2023-01-12T20:44:49.093Z"
   },
   {
    "duration": 6,
    "start_time": "2023-01-12T20:45:02.047Z"
   },
   {
    "duration": 8,
    "start_time": "2023-01-12T20:57:34.650Z"
   },
   {
    "duration": 15,
    "start_time": "2023-01-12T20:57:42.942Z"
   },
   {
    "duration": 4,
    "start_time": "2023-01-12T20:57:43.166Z"
   },
   {
    "duration": 17,
    "start_time": "2023-01-12T20:57:43.585Z"
   },
   {
    "duration": 11,
    "start_time": "2023-01-12T20:57:43.774Z"
   },
   {
    "duration": 17,
    "start_time": "2023-01-12T20:57:44.518Z"
   },
   {
    "duration": 11,
    "start_time": "2023-01-12T20:57:45.701Z"
   },
   {
    "duration": 6,
    "start_time": "2023-01-12T20:57:45.987Z"
   },
   {
    "duration": 24,
    "start_time": "2023-01-12T20:57:46.626Z"
   },
   {
    "duration": 10,
    "start_time": "2023-01-12T20:57:48.294Z"
   },
   {
    "duration": 11,
    "start_time": "2023-01-12T20:57:53.585Z"
   },
   {
    "duration": 11,
    "start_time": "2023-01-12T20:58:01.078Z"
   },
   {
    "duration": 8,
    "start_time": "2023-01-12T20:58:09.599Z"
   },
   {
    "duration": 1410,
    "start_time": "2023-01-13T18:40:39.623Z"
   },
   {
    "duration": 82,
    "start_time": "2023-01-13T18:40:41.035Z"
   },
   {
    "duration": 22,
    "start_time": "2023-01-13T18:40:41.119Z"
   },
   {
    "duration": 12,
    "start_time": "2023-01-13T18:40:41.758Z"
   },
   {
    "duration": 11,
    "start_time": "2023-01-13T18:40:41.974Z"
   },
   {
    "duration": 2,
    "start_time": "2023-01-13T18:40:42.189Z"
   },
   {
    "duration": 5,
    "start_time": "2023-01-13T18:40:44.324Z"
   },
   {
    "duration": 12,
    "start_time": "2023-01-13T18:40:46.664Z"
   },
   {
    "duration": 5,
    "start_time": "2023-01-13T18:40:48.123Z"
   },
   {
    "duration": 19,
    "start_time": "2023-01-13T18:40:52.522Z"
   },
   {
    "duration": 2,
    "start_time": "2023-01-13T18:40:53.775Z"
   },
   {
    "duration": 19,
    "start_time": "2023-01-13T18:41:11.877Z"
   },
   {
    "duration": 10,
    "start_time": "2023-01-13T18:41:18.037Z"
   },
   {
    "duration": 5,
    "start_time": "2023-01-13T18:41:18.579Z"
   },
   {
    "duration": 9,
    "start_time": "2023-01-13T18:41:25.367Z"
   },
   {
    "duration": 8,
    "start_time": "2023-01-13T18:41:26.738Z"
   },
   {
    "duration": 3,
    "start_time": "2023-01-13T18:42:23.762Z"
   },
   {
    "duration": 18,
    "start_time": "2023-01-13T18:42:31.553Z"
   },
   {
    "duration": 105,
    "start_time": "2023-01-13T18:48:48.214Z"
   },
   {
    "duration": 6,
    "start_time": "2023-01-13T18:49:05.436Z"
   },
   {
    "duration": 3,
    "start_time": "2023-01-13T18:49:20.423Z"
   },
   {
    "duration": 4,
    "start_time": "2023-01-13T18:50:45.661Z"
   },
   {
    "duration": 59,
    "start_time": "2023-01-13T22:51:01.635Z"
   },
   {
    "duration": 13,
    "start_time": "2023-01-13T22:51:15.321Z"
   },
   {
    "duration": 1617,
    "start_time": "2023-01-13T22:51:25.007Z"
   },
   {
    "duration": 191,
    "start_time": "2023-01-13T22:51:26.626Z"
   },
   {
    "duration": 38,
    "start_time": "2023-01-13T22:51:26.818Z"
   },
   {
    "duration": 15,
    "start_time": "2023-01-13T22:51:26.858Z"
   },
   {
    "duration": 10,
    "start_time": "2023-01-13T22:51:26.875Z"
   },
   {
    "duration": 3,
    "start_time": "2023-01-13T22:51:26.887Z"
   },
   {
    "duration": 19,
    "start_time": "2023-01-13T22:51:26.892Z"
   },
   {
    "duration": 20,
    "start_time": "2023-01-13T22:51:26.913Z"
   },
   {
    "duration": 30,
    "start_time": "2023-01-13T22:51:26.934Z"
   },
   {
    "duration": 23,
    "start_time": "2023-01-13T22:51:26.966Z"
   },
   {
    "duration": 5,
    "start_time": "2023-01-13T22:51:26.991Z"
   },
   {
    "duration": 18,
    "start_time": "2023-01-13T22:51:26.998Z"
   },
   {
    "duration": 30,
    "start_time": "2023-01-13T22:51:27.018Z"
   },
   {
    "duration": 8,
    "start_time": "2023-01-13T22:51:27.052Z"
   },
   {
    "duration": 8,
    "start_time": "2023-01-13T22:51:27.062Z"
   },
   {
    "duration": 12,
    "start_time": "2023-01-13T22:51:27.072Z"
   },
   {
    "duration": 29,
    "start_time": "2023-01-13T22:51:40.441Z"
   },
   {
    "duration": 84,
    "start_time": "2023-01-13T22:53:43.033Z"
   },
   {
    "duration": 358,
    "start_time": "2023-01-13T22:55:46.840Z"
   },
   {
    "duration": 25,
    "start_time": "2023-01-13T22:56:01.334Z"
   },
   {
    "duration": 18,
    "start_time": "2023-01-13T22:56:21.852Z"
   },
   {
    "duration": 18,
    "start_time": "2023-01-13T22:57:05.989Z"
   },
   {
    "duration": 8,
    "start_time": "2023-01-13T22:57:12.616Z"
   },
   {
    "duration": 7,
    "start_time": "2023-01-13T22:59:39.193Z"
   },
   {
    "duration": 7,
    "start_time": "2023-01-13T23:03:31.387Z"
   },
   {
    "duration": 3,
    "start_time": "2023-01-13T23:03:55.750Z"
   },
   {
    "duration": 43,
    "start_time": "2023-01-13T23:03:56.470Z"
   },
   {
    "duration": 22,
    "start_time": "2023-01-13T23:03:56.848Z"
   },
   {
    "duration": 13,
    "start_time": "2023-01-13T23:03:57.290Z"
   },
   {
    "duration": 12,
    "start_time": "2023-01-13T23:03:58.046Z"
   },
   {
    "duration": 3,
    "start_time": "2023-01-13T23:03:58.492Z"
   },
   {
    "duration": 5,
    "start_time": "2023-01-13T23:03:59.308Z"
   },
   {
    "duration": 18,
    "start_time": "2023-01-13T23:04:00.554Z"
   },
   {
    "duration": 4,
    "start_time": "2023-01-13T23:04:00.954Z"
   },
   {
    "duration": 19,
    "start_time": "2023-01-13T23:04:01.791Z"
   },
   {
    "duration": 2,
    "start_time": "2023-01-13T23:04:02.160Z"
   },
   {
    "duration": 23,
    "start_time": "2023-01-13T23:04:03.451Z"
   },
   {
    "duration": 11,
    "start_time": "2023-01-13T23:04:05.085Z"
   },
   {
    "duration": 8,
    "start_time": "2023-01-13T23:04:05.611Z"
   },
   {
    "duration": 7,
    "start_time": "2023-01-13T23:04:06.656Z"
   },
   {
    "duration": 36,
    "start_time": "2023-01-13T23:04:37.702Z"
   },
   {
    "duration": 15,
    "start_time": "2023-01-13T23:07:00.679Z"
   },
   {
    "duration": 7514,
    "start_time": "2023-01-13T23:08:31.939Z"
   },
   {
    "duration": 2305,
    "start_time": "2023-01-13T23:09:03.703Z"
   },
   {
    "duration": 1255,
    "start_time": "2023-01-13T23:09:06.010Z"
   },
   {
    "duration": 42,
    "start_time": "2023-01-13T23:09:07.266Z"
   },
   {
    "duration": 28,
    "start_time": "2023-01-13T23:09:07.310Z"
   },
   {
    "duration": 33,
    "start_time": "2023-01-13T23:09:07.341Z"
   },
   {
    "duration": 27,
    "start_time": "2023-01-13T23:09:07.376Z"
   },
   {
    "duration": 51,
    "start_time": "2023-01-13T23:09:07.405Z"
   },
   {
    "duration": 18,
    "start_time": "2023-01-13T23:09:07.458Z"
   },
   {
    "duration": 26,
    "start_time": "2023-01-13T23:09:07.479Z"
   },
   {
    "duration": 9,
    "start_time": "2023-01-13T23:09:07.508Z"
   },
   {
    "duration": 62,
    "start_time": "2023-01-13T23:09:07.519Z"
   },
   {
    "duration": 20,
    "start_time": "2023-01-13T23:09:07.583Z"
   },
   {
    "duration": 83,
    "start_time": "2023-01-13T23:09:07.606Z"
   },
   {
    "duration": 18,
    "start_time": "2023-01-13T23:09:07.691Z"
   },
   {
    "duration": 20,
    "start_time": "2023-01-13T23:09:07.710Z"
   },
   {
    "duration": 48,
    "start_time": "2023-01-13T23:09:07.731Z"
   },
   {
    "duration": 87,
    "start_time": "2023-01-13T23:09:07.782Z"
   },
   {
    "duration": 19,
    "start_time": "2023-01-13T23:09:07.871Z"
   },
   {
    "duration": 13,
    "start_time": "2023-01-13T23:09:07.892Z"
   },
   {
    "duration": 41,
    "start_time": "2023-01-13T23:09:07.907Z"
   },
   {
    "duration": 158,
    "start_time": "2023-01-13T23:09:07.949Z"
   },
   {
    "duration": 0,
    "start_time": "2023-01-13T23:09:08.110Z"
   },
   {
    "duration": 0,
    "start_time": "2023-01-13T23:09:08.126Z"
   },
   {
    "duration": 0,
    "start_time": "2023-01-13T23:09:08.127Z"
   },
   {
    "duration": 0,
    "start_time": "2023-01-13T23:09:08.131Z"
   },
   {
    "duration": 0,
    "start_time": "2023-01-13T23:09:08.132Z"
   },
   {
    "duration": 0,
    "start_time": "2023-01-13T23:09:08.133Z"
   },
   {
    "duration": 0,
    "start_time": "2023-01-13T23:09:08.135Z"
   },
   {
    "duration": 1,
    "start_time": "2023-01-13T23:09:08.135Z"
   },
   {
    "duration": 0,
    "start_time": "2023-01-13T23:09:08.136Z"
   },
   {
    "duration": 0,
    "start_time": "2023-01-13T23:09:08.137Z"
   },
   {
    "duration": 0,
    "start_time": "2023-01-13T23:09:08.138Z"
   },
   {
    "duration": 0,
    "start_time": "2023-01-13T23:09:08.139Z"
   },
   {
    "duration": 0,
    "start_time": "2023-01-13T23:09:08.140Z"
   },
   {
    "duration": 0,
    "start_time": "2023-01-13T23:09:08.141Z"
   },
   {
    "duration": 0,
    "start_time": "2023-01-13T23:09:08.141Z"
   },
   {
    "duration": 0,
    "start_time": "2023-01-13T23:09:08.142Z"
   },
   {
    "duration": 0,
    "start_time": "2023-01-13T23:09:08.144Z"
   },
   {
    "duration": 0,
    "start_time": "2023-01-13T23:09:08.145Z"
   },
   {
    "duration": 0,
    "start_time": "2023-01-13T23:09:08.146Z"
   },
   {
    "duration": 0,
    "start_time": "2023-01-13T23:09:08.147Z"
   },
   {
    "duration": 0,
    "start_time": "2023-01-13T23:09:08.149Z"
   },
   {
    "duration": 0,
    "start_time": "2023-01-13T23:09:08.150Z"
   },
   {
    "duration": 0,
    "start_time": "2023-01-13T23:09:08.151Z"
   },
   {
    "duration": 0,
    "start_time": "2023-01-13T23:09:08.152Z"
   },
   {
    "duration": 0,
    "start_time": "2023-01-13T23:09:08.153Z"
   },
   {
    "duration": 0,
    "start_time": "2023-01-13T23:09:08.153Z"
   },
   {
    "duration": 53,
    "start_time": "2023-01-14T13:44:29.225Z"
   },
   {
    "duration": 6640,
    "start_time": "2023-01-14T13:44:39.285Z"
   },
   {
    "duration": 1380,
    "start_time": "2023-01-14T13:44:45.928Z"
   },
   {
    "duration": 378,
    "start_time": "2023-01-14T13:44:47.310Z"
   },
   {
    "duration": 26,
    "start_time": "2023-01-14T13:44:47.690Z"
   },
   {
    "duration": 15,
    "start_time": "2023-01-14T13:44:47.718Z"
   },
   {
    "duration": 11,
    "start_time": "2023-01-14T13:44:47.735Z"
   },
   {
    "duration": 3,
    "start_time": "2023-01-14T13:44:47.747Z"
   },
   {
    "duration": 8,
    "start_time": "2023-01-14T13:44:47.751Z"
   },
   {
    "duration": 12,
    "start_time": "2023-01-14T13:44:47.760Z"
   },
   {
    "duration": 3,
    "start_time": "2023-01-14T13:44:47.775Z"
   },
   {
    "duration": 48,
    "start_time": "2023-01-14T13:44:47.780Z"
   },
   {
    "duration": 5,
    "start_time": "2023-01-14T13:44:47.829Z"
   },
   {
    "duration": 30,
    "start_time": "2023-01-14T13:44:47.835Z"
   },
   {
    "duration": 13,
    "start_time": "2023-01-14T13:44:47.867Z"
   },
   {
    "duration": 8,
    "start_time": "2023-01-14T13:44:47.881Z"
   },
   {
    "duration": 11,
    "start_time": "2023-01-14T13:44:47.890Z"
   },
   {
    "duration": 47,
    "start_time": "2023-01-14T13:44:47.912Z"
   },
   {
    "duration": 19,
    "start_time": "2023-01-14T13:44:47.960Z"
   },
   {
    "duration": 9,
    "start_time": "2023-01-14T13:44:47.981Z"
   },
   {
    "duration": 29,
    "start_time": "2023-01-14T13:44:47.992Z"
   },
   {
    "duration": 10,
    "start_time": "2023-01-14T13:44:48.023Z"
   },
   {
    "duration": 124,
    "start_time": "2023-01-14T13:44:48.035Z"
   },
   {
    "duration": 0,
    "start_time": "2023-01-14T13:44:48.162Z"
   },
   {
    "duration": 0,
    "start_time": "2023-01-14T13:44:48.163Z"
   },
   {
    "duration": 0,
    "start_time": "2023-01-14T13:44:48.164Z"
   },
   {
    "duration": 0,
    "start_time": "2023-01-14T13:44:48.165Z"
   },
   {
    "duration": 0,
    "start_time": "2023-01-14T13:44:48.166Z"
   },
   {
    "duration": 0,
    "start_time": "2023-01-14T13:44:48.167Z"
   },
   {
    "duration": 0,
    "start_time": "2023-01-14T13:44:48.169Z"
   },
   {
    "duration": 0,
    "start_time": "2023-01-14T13:44:48.170Z"
   },
   {
    "duration": 0,
    "start_time": "2023-01-14T13:44:48.170Z"
   },
   {
    "duration": 0,
    "start_time": "2023-01-14T13:44:48.172Z"
   },
   {
    "duration": 0,
    "start_time": "2023-01-14T13:44:48.173Z"
   },
   {
    "duration": 0,
    "start_time": "2023-01-14T13:44:48.174Z"
   },
   {
    "duration": 0,
    "start_time": "2023-01-14T13:44:48.176Z"
   },
   {
    "duration": 0,
    "start_time": "2023-01-14T13:44:48.177Z"
   },
   {
    "duration": 0,
    "start_time": "2023-01-14T13:44:48.178Z"
   },
   {
    "duration": 0,
    "start_time": "2023-01-14T13:44:48.178Z"
   },
   {
    "duration": 0,
    "start_time": "2023-01-14T13:44:48.179Z"
   },
   {
    "duration": 0,
    "start_time": "2023-01-14T13:44:48.180Z"
   },
   {
    "duration": 0,
    "start_time": "2023-01-14T13:44:48.213Z"
   },
   {
    "duration": 0,
    "start_time": "2023-01-14T13:44:48.224Z"
   },
   {
    "duration": 0,
    "start_time": "2023-01-14T13:44:48.226Z"
   },
   {
    "duration": 0,
    "start_time": "2023-01-14T13:44:48.227Z"
   },
   {
    "duration": 0,
    "start_time": "2023-01-14T13:44:48.228Z"
   },
   {
    "duration": 0,
    "start_time": "2023-01-14T13:44:48.230Z"
   },
   {
    "duration": 0,
    "start_time": "2023-01-14T13:44:48.231Z"
   },
   {
    "duration": 0,
    "start_time": "2023-01-14T13:44:48.232Z"
   },
   {
    "duration": 26,
    "start_time": "2023-01-14T13:49:19.690Z"
   },
   {
    "duration": 31,
    "start_time": "2023-01-14T13:49:26.901Z"
   },
   {
    "duration": 21,
    "start_time": "2023-01-14T13:49:41.337Z"
   },
   {
    "duration": 1987,
    "start_time": "2023-01-14T13:50:43.359Z"
   },
   {
    "duration": 1142,
    "start_time": "2023-01-14T13:50:45.349Z"
   },
   {
    "duration": 40,
    "start_time": "2023-01-14T13:50:46.493Z"
   },
   {
    "duration": 27,
    "start_time": "2023-01-14T13:50:46.535Z"
   },
   {
    "duration": 34,
    "start_time": "2023-01-14T13:50:46.564Z"
   },
   {
    "duration": 59,
    "start_time": "2023-01-14T13:50:46.599Z"
   },
   {
    "duration": 17,
    "start_time": "2023-01-14T13:50:46.660Z"
   },
   {
    "duration": 50,
    "start_time": "2023-01-14T13:50:46.679Z"
   },
   {
    "duration": 50,
    "start_time": "2023-01-14T13:50:46.731Z"
   },
   {
    "duration": 11,
    "start_time": "2023-01-14T13:50:46.784Z"
   },
   {
    "duration": 53,
    "start_time": "2023-01-14T13:50:46.797Z"
   },
   {
    "duration": 26,
    "start_time": "2023-01-14T13:50:46.852Z"
   },
   {
    "duration": 66,
    "start_time": "2023-01-14T13:50:46.880Z"
   },
   {
    "duration": 41,
    "start_time": "2023-01-14T13:50:46.948Z"
   },
   {
    "duration": 13,
    "start_time": "2023-01-14T13:50:46.990Z"
   },
   {
    "duration": 139,
    "start_time": "2023-01-14T13:50:47.004Z"
   },
   {
    "duration": 0,
    "start_time": "2023-01-14T13:50:47.145Z"
   },
   {
    "duration": 0,
    "start_time": "2023-01-14T13:50:47.146Z"
   },
   {
    "duration": 0,
    "start_time": "2023-01-14T13:50:47.147Z"
   },
   {
    "duration": 1,
    "start_time": "2023-01-14T13:50:47.148Z"
   },
   {
    "duration": 0,
    "start_time": "2023-01-14T13:50:47.149Z"
   },
   {
    "duration": 0,
    "start_time": "2023-01-14T13:50:47.150Z"
   },
   {
    "duration": 0,
    "start_time": "2023-01-14T13:50:47.152Z"
   },
   {
    "duration": 0,
    "start_time": "2023-01-14T13:50:47.153Z"
   },
   {
    "duration": 0,
    "start_time": "2023-01-14T13:50:47.153Z"
   },
   {
    "duration": 0,
    "start_time": "2023-01-14T13:50:47.155Z"
   },
   {
    "duration": 0,
    "start_time": "2023-01-14T13:50:47.155Z"
   },
   {
    "duration": 0,
    "start_time": "2023-01-14T13:50:47.157Z"
   },
   {
    "duration": 0,
    "start_time": "2023-01-14T13:50:47.157Z"
   },
   {
    "duration": 0,
    "start_time": "2023-01-14T13:50:47.158Z"
   },
   {
    "duration": 0,
    "start_time": "2023-01-14T13:50:47.159Z"
   },
   {
    "duration": 0,
    "start_time": "2023-01-14T13:50:47.160Z"
   },
   {
    "duration": 0,
    "start_time": "2023-01-14T13:50:47.161Z"
   },
   {
    "duration": 0,
    "start_time": "2023-01-14T13:50:47.163Z"
   },
   {
    "duration": 0,
    "start_time": "2023-01-14T13:50:47.163Z"
   },
   {
    "duration": 0,
    "start_time": "2023-01-14T13:50:47.164Z"
   },
   {
    "duration": 0,
    "start_time": "2023-01-14T13:50:47.165Z"
   },
   {
    "duration": 0,
    "start_time": "2023-01-14T13:50:47.166Z"
   },
   {
    "duration": 0,
    "start_time": "2023-01-14T13:50:47.168Z"
   },
   {
    "duration": 0,
    "start_time": "2023-01-14T13:50:47.169Z"
   },
   {
    "duration": 0,
    "start_time": "2023-01-14T13:50:47.170Z"
   },
   {
    "duration": 0,
    "start_time": "2023-01-14T13:50:47.171Z"
   },
   {
    "duration": 0,
    "start_time": "2023-01-14T13:50:47.172Z"
   },
   {
    "duration": 0,
    "start_time": "2023-01-14T13:50:47.213Z"
   },
   {
    "duration": 0,
    "start_time": "2023-01-14T13:50:47.214Z"
   },
   {
    "duration": 0,
    "start_time": "2023-01-14T13:50:47.215Z"
   },
   {
    "duration": 0,
    "start_time": "2023-01-14T13:50:47.216Z"
   },
   {
    "duration": 0,
    "start_time": "2023-01-14T13:50:47.217Z"
   },
   {
    "duration": 0,
    "start_time": "2023-01-14T13:50:47.218Z"
   },
   {
    "duration": 0,
    "start_time": "2023-01-14T13:50:47.219Z"
   },
   {
    "duration": 9,
    "start_time": "2023-01-14T13:52:22.785Z"
   },
   {
    "duration": 43,
    "start_time": "2023-01-14T13:52:23.789Z"
   },
   {
    "duration": 30,
    "start_time": "2023-01-14T13:52:25.822Z"
   },
   {
    "duration": 19,
    "start_time": "2023-01-14T13:52:26.632Z"
   },
   {
    "duration": 7,
    "start_time": "2023-01-14T13:52:27.254Z"
   },
   {
    "duration": 9,
    "start_time": "2023-01-14T13:52:28.292Z"
   },
   {
    "duration": 9,
    "start_time": "2023-01-14T13:52:28.657Z"
   },
   {
    "duration": 78,
    "start_time": "2023-01-14T13:54:11.043Z"
   },
   {
    "duration": 8,
    "start_time": "2023-01-14T13:54:12.372Z"
   },
   {
    "duration": 93,
    "start_time": "2023-01-14T13:58:40.196Z"
   },
   {
    "duration": 138,
    "start_time": "2023-01-14T13:58:49.356Z"
   },
   {
    "duration": 2562,
    "start_time": "2023-01-14T13:58:58.017Z"
   },
   {
    "duration": 2526,
    "start_time": "2023-01-14T13:59:25.289Z"
   },
   {
    "duration": 16036,
    "start_time": "2023-01-14T13:59:44.785Z"
   },
   {
    "duration": 2620,
    "start_time": "2023-01-14T14:00:08.901Z"
   },
   {
    "duration": 16941,
    "start_time": "2023-01-14T14:00:17.022Z"
   },
   {
    "duration": 78440,
    "start_time": "2023-01-14T14:01:02.419Z"
   },
   {
    "duration": 78835,
    "start_time": "2023-01-14T14:14:53.464Z"
   },
   {
    "duration": 4,
    "start_time": "2023-01-14T14:16:30.944Z"
   },
   {
    "duration": 82292,
    "start_time": "2023-01-14T14:19:25.103Z"
   },
   {
    "duration": 38,
    "start_time": "2023-01-14T14:20:56.167Z"
   },
   {
    "duration": 344,
    "start_time": "2023-01-14T14:21:09.026Z"
   },
   {
    "duration": 6,
    "start_time": "2023-01-14T14:21:10.726Z"
   },
   {
    "duration": 380,
    "start_time": "2023-01-14T14:22:42.346Z"
   },
   {
    "duration": 17,
    "start_time": "2023-01-14T14:22:43.816Z"
   },
   {
    "duration": 80205,
    "start_time": "2023-01-14T14:23:49.544Z"
   },
   {
    "duration": 41,
    "start_time": "2023-01-14T14:25:14.143Z"
   },
   {
    "duration": 392,
    "start_time": "2023-01-14T14:25:20.064Z"
   },
   {
    "duration": 7,
    "start_time": "2023-01-14T14:25:21.170Z"
   },
   {
    "duration": 4,
    "start_time": "2023-01-14T14:26:05.280Z"
   },
   {
    "duration": 9,
    "start_time": "2023-01-14T14:26:13.342Z"
   },
   {
    "duration": 5,
    "start_time": "2023-01-14T14:26:19.695Z"
   },
   {
    "duration": 5,
    "start_time": "2023-01-14T14:26:20.499Z"
   },
   {
    "duration": 192,
    "start_time": "2023-01-14T14:26:52.962Z"
   },
   {
    "duration": 108180,
    "start_time": "2023-01-14T14:28:10.505Z"
   },
   {
    "duration": 42,
    "start_time": "2023-01-14T14:30:05.895Z"
   },
   {
    "duration": 9,
    "start_time": "2023-01-14T14:31:26.383Z"
   },
   {
    "duration": 4,
    "start_time": "2023-01-14T14:31:29.144Z"
   },
   {
    "duration": 9,
    "start_time": "2023-01-14T14:31:29.495Z"
   },
   {
    "duration": 5,
    "start_time": "2023-01-14T14:31:30.113Z"
   },
   {
    "duration": 5,
    "start_time": "2023-01-14T14:31:30.376Z"
   },
   {
    "duration": 44762,
    "start_time": "2023-01-14T14:32:19.630Z"
   },
   {
    "duration": 43,
    "start_time": "2023-01-14T14:33:04.394Z"
   },
   {
    "duration": 64,
    "start_time": "2023-01-14T15:26:26.751Z"
   },
   {
    "duration": 7,
    "start_time": "2023-01-14T15:27:44.662Z"
   },
   {
    "duration": 119,
    "start_time": "2023-01-14T15:27:44.900Z"
   },
   {
    "duration": 141,
    "start_time": "2023-01-14T15:28:40.848Z"
   },
   {
    "duration": 152,
    "start_time": "2023-01-14T15:28:51.225Z"
   },
   {
    "duration": 5,
    "start_time": "2023-01-14T15:28:51.761Z"
   },
   {
    "duration": 125,
    "start_time": "2023-01-14T15:28:52.078Z"
   },
   {
    "duration": 160,
    "start_time": "2023-01-14T15:29:34.958Z"
   },
   {
    "duration": 4,
    "start_time": "2023-01-14T15:29:38.955Z"
   },
   {
    "duration": 113,
    "start_time": "2023-01-14T15:29:39.222Z"
   },
   {
    "duration": 3,
    "start_time": "2023-01-14T15:31:06.191Z"
   },
   {
    "duration": 6,
    "start_time": "2023-01-14T15:31:15.452Z"
   },
   {
    "duration": 3,
    "start_time": "2023-01-14T15:31:54.173Z"
   },
   {
    "duration": 5,
    "start_time": "2023-01-14T15:31:54.442Z"
   },
   {
    "duration": 5,
    "start_time": "2023-01-14T15:32:07.841Z"
   },
   {
    "duration": 4,
    "start_time": "2023-01-14T15:33:20.042Z"
   },
   {
    "duration": 5,
    "start_time": "2023-01-14T15:33:25.418Z"
   },
   {
    "duration": 4,
    "start_time": "2023-01-14T15:34:19.153Z"
   },
   {
    "duration": 149,
    "start_time": "2023-01-14T15:34:53.562Z"
   },
   {
    "duration": 152,
    "start_time": "2023-01-14T15:35:17.456Z"
   },
   {
    "duration": 1973,
    "start_time": "2023-01-14T15:36:50.912Z"
   },
   {
    "duration": 1214,
    "start_time": "2023-01-14T15:36:52.887Z"
   },
   {
    "duration": 41,
    "start_time": "2023-01-14T15:36:54.102Z"
   },
   {
    "duration": 23,
    "start_time": "2023-01-14T15:36:54.145Z"
   },
   {
    "duration": 12,
    "start_time": "2023-01-14T15:36:54.170Z"
   },
   {
    "duration": 10,
    "start_time": "2023-01-14T15:36:54.183Z"
   },
   {
    "duration": 3,
    "start_time": "2023-01-14T15:36:54.195Z"
   },
   {
    "duration": 14,
    "start_time": "2023-01-14T15:36:54.199Z"
   },
   {
    "duration": 16,
    "start_time": "2023-01-14T15:36:54.215Z"
   },
   {
    "duration": 15,
    "start_time": "2023-01-14T15:36:54.233Z"
   },
   {
    "duration": 21,
    "start_time": "2023-01-14T15:36:54.250Z"
   },
   {
    "duration": 5,
    "start_time": "2023-01-14T15:36:54.273Z"
   },
   {
    "duration": 21,
    "start_time": "2023-01-14T15:36:54.279Z"
   },
   {
    "duration": 16,
    "start_time": "2023-01-14T15:36:54.301Z"
   },
   {
    "duration": 5,
    "start_time": "2023-01-14T15:36:54.319Z"
   },
   {
    "duration": 8,
    "start_time": "2023-01-14T15:36:54.325Z"
   },
   {
    "duration": 40,
    "start_time": "2023-01-14T15:36:54.335Z"
   },
   {
    "duration": 51,
    "start_time": "2023-01-14T15:36:54.377Z"
   },
   {
    "duration": 18,
    "start_time": "2023-01-14T15:36:54.430Z"
   },
   {
    "duration": 6,
    "start_time": "2023-01-14T15:36:54.450Z"
   },
   {
    "duration": 11,
    "start_time": "2023-01-14T15:36:54.458Z"
   },
   {
    "duration": 8,
    "start_time": "2023-01-14T15:36:54.470Z"
   },
   {
    "duration": 4,
    "start_time": "2023-01-14T15:36:54.479Z"
   },
   {
    "duration": 137,
    "start_time": "2023-01-14T15:36:54.484Z"
   },
   {
    "duration": 200,
    "start_time": "2023-01-14T15:36:54.623Z"
   },
   {
    "duration": 78707,
    "start_time": "2023-01-14T15:36:54.824Z"
   },
   {
    "duration": 40,
    "start_time": "2023-01-14T15:38:13.533Z"
   },
   {
    "duration": 374,
    "start_time": "2023-01-14T15:38:13.578Z"
   },
   {
    "duration": 8,
    "start_time": "2023-01-14T15:38:13.954Z"
   },
   {
    "duration": 156,
    "start_time": "2023-01-14T15:38:13.964Z"
   },
   {
    "duration": 198,
    "start_time": "2023-01-14T15:38:14.121Z"
   },
   {
    "duration": 78754,
    "start_time": "2023-01-14T15:38:14.321Z"
   },
   {
    "duration": 46,
    "start_time": "2023-01-14T15:39:33.076Z"
   },
   {
    "duration": 370,
    "start_time": "2023-01-14T15:39:33.123Z"
   },
   {
    "duration": 7,
    "start_time": "2023-01-14T15:39:33.494Z"
   },
   {
    "duration": 13,
    "start_time": "2023-01-14T15:39:33.502Z"
   },
   {
    "duration": 12,
    "start_time": "2023-01-14T15:39:33.516Z"
   },
   {
    "duration": 4,
    "start_time": "2023-01-14T15:39:33.530Z"
   },
   {
    "duration": 6,
    "start_time": "2023-01-14T15:39:33.536Z"
   },
   {
    "duration": 107900,
    "start_time": "2023-01-14T15:39:33.543Z"
   },
   {
    "duration": 42,
    "start_time": "2023-01-14T15:41:21.445Z"
   },
   {
    "duration": 4,
    "start_time": "2023-01-14T15:41:21.488Z"
   },
   {
    "duration": 24,
    "start_time": "2023-01-14T15:41:21.494Z"
   },
   {
    "duration": 6,
    "start_time": "2023-01-14T15:41:21.520Z"
   },
   {
    "duration": 7,
    "start_time": "2023-01-14T15:41:21.527Z"
   },
   {
    "duration": 44484,
    "start_time": "2023-01-14T15:41:21.536Z"
   },
   {
    "duration": 38,
    "start_time": "2023-01-14T15:42:06.022Z"
   },
   {
    "duration": 154,
    "start_time": "2023-01-14T15:42:06.062Z"
   },
   {
    "duration": 4,
    "start_time": "2023-01-14T15:42:06.218Z"
   },
   {
    "duration": 137,
    "start_time": "2023-01-14T15:42:06.223Z"
   },
   {
    "duration": 3,
    "start_time": "2023-01-14T15:42:06.362Z"
   },
   {
    "duration": 6,
    "start_time": "2023-01-14T15:42:06.366Z"
   },
   {
    "duration": 2456,
    "start_time": "2023-03-11T10:21:11.000Z"
   },
   {
    "duration": 1190,
    "start_time": "2023-03-11T10:21:13.459Z"
   },
   {
    "duration": 122,
    "start_time": "2023-03-11T10:21:14.651Z"
   },
   {
    "duration": 56,
    "start_time": "2023-03-11T10:21:14.775Z"
   },
   {
    "duration": 24,
    "start_time": "2023-03-11T10:21:14.834Z"
   },
   {
    "duration": 15,
    "start_time": "2023-03-11T10:21:14.860Z"
   },
   {
    "duration": 23,
    "start_time": "2023-03-11T10:21:14.877Z"
   },
   {
    "duration": 34,
    "start_time": "2023-03-11T10:21:14.904Z"
   },
   {
    "duration": 17,
    "start_time": "2023-03-11T10:21:14.939Z"
   },
   {
    "duration": 8,
    "start_time": "2023-03-11T10:21:14.958Z"
   },
   {
    "duration": 62,
    "start_time": "2023-03-11T10:21:14.968Z"
   },
   {
    "duration": 15,
    "start_time": "2023-03-11T10:21:15.033Z"
   },
   {
    "duration": 43,
    "start_time": "2023-03-11T10:21:15.050Z"
   },
   {
    "duration": 84,
    "start_time": "2023-03-11T10:21:15.097Z"
   },
   {
    "duration": 82,
    "start_time": "2023-03-11T10:21:15.182Z"
   },
   {
    "duration": 31,
    "start_time": "2023-03-11T10:21:15.266Z"
   },
   {
    "duration": 111,
    "start_time": "2023-03-11T10:21:15.314Z"
   },
   {
    "duration": 35,
    "start_time": "2023-03-11T10:21:15.433Z"
   },
   {
    "duration": 63,
    "start_time": "2023-03-11T10:21:15.470Z"
   },
   {
    "duration": 77,
    "start_time": "2023-03-11T10:21:15.538Z"
   },
   {
    "duration": 45,
    "start_time": "2023-03-11T10:21:15.617Z"
   },
   {
    "duration": 11,
    "start_time": "2023-03-11T10:21:15.664Z"
   },
   {
    "duration": 58,
    "start_time": "2023-03-11T10:21:15.677Z"
   },
   {
    "duration": 450,
    "start_time": "2023-03-11T10:21:15.737Z"
   },
   {
    "duration": 63,
    "start_time": "2023-03-11T10:21:16.199Z"
   },
   {
    "duration": 13655,
    "start_time": "2023-03-11T10:21:16.287Z"
   },
   {
    "duration": 0,
    "start_time": "2023-03-11T10:21:29.945Z"
   },
   {
    "duration": 0,
    "start_time": "2023-03-11T10:21:29.946Z"
   },
   {
    "duration": 0,
    "start_time": "2023-03-11T10:21:29.947Z"
   },
   {
    "duration": 0,
    "start_time": "2023-03-11T10:21:29.948Z"
   },
   {
    "duration": 0,
    "start_time": "2023-03-11T10:21:29.950Z"
   },
   {
    "duration": 0,
    "start_time": "2023-03-11T10:21:29.951Z"
   },
   {
    "duration": 0,
    "start_time": "2023-03-11T10:21:29.952Z"
   },
   {
    "duration": 0,
    "start_time": "2023-03-11T10:21:29.954Z"
   },
   {
    "duration": 0,
    "start_time": "2023-03-11T10:21:29.955Z"
   },
   {
    "duration": 0,
    "start_time": "2023-03-11T10:21:29.956Z"
   },
   {
    "duration": 0,
    "start_time": "2023-03-11T10:21:29.957Z"
   },
   {
    "duration": 0,
    "start_time": "2023-03-11T10:21:29.958Z"
   },
   {
    "duration": 0,
    "start_time": "2023-03-11T10:21:29.959Z"
   },
   {
    "duration": 0,
    "start_time": "2023-03-11T10:21:29.960Z"
   },
   {
    "duration": 0,
    "start_time": "2023-03-11T10:21:29.962Z"
   },
   {
    "duration": 0,
    "start_time": "2023-03-11T10:21:29.963Z"
   },
   {
    "duration": 0,
    "start_time": "2023-03-11T10:21:29.964Z"
   },
   {
    "duration": 0,
    "start_time": "2023-03-11T10:21:29.989Z"
   },
   {
    "duration": 0,
    "start_time": "2023-03-11T10:21:29.990Z"
   },
   {
    "duration": 0,
    "start_time": "2023-03-11T10:21:29.996Z"
   },
   {
    "duration": 0,
    "start_time": "2023-03-11T10:21:30.004Z"
   },
   {
    "duration": 0,
    "start_time": "2023-03-11T10:21:30.005Z"
   },
   {
    "duration": 0,
    "start_time": "2023-03-11T10:21:30.006Z"
   },
   {
    "duration": 0,
    "start_time": "2023-03-11T10:21:30.007Z"
   },
   {
    "duration": 0,
    "start_time": "2023-03-11T10:21:30.007Z"
   },
   {
    "duration": 0,
    "start_time": "2023-03-11T10:21:30.008Z"
   },
   {
    "duration": 32,
    "start_time": "2023-03-11T10:21:47.977Z"
   },
   {
    "duration": 9,
    "start_time": "2023-03-11T10:21:52.624Z"
   },
   {
    "duration": 63,
    "start_time": "2023-03-11T10:21:53.073Z"
   },
   {
    "duration": 5,
    "start_time": "2023-03-11T11:06:55.799Z"
   },
   {
    "duration": 8,
    "start_time": "2023-03-11T11:06:57.834Z"
   },
   {
    "duration": 5,
    "start_time": "2023-03-11T11:06:58.154Z"
   },
   {
    "duration": 4,
    "start_time": "2023-03-11T11:07:12.121Z"
   },
   {
    "duration": 37,
    "start_time": "2023-03-11T11:07:12.507Z"
   },
   {
    "duration": 19,
    "start_time": "2023-03-11T11:07:12.662Z"
   },
   {
    "duration": 11,
    "start_time": "2023-03-11T11:07:12.818Z"
   },
   {
    "duration": 10,
    "start_time": "2023-03-11T11:07:13.010Z"
   },
   {
    "duration": 3,
    "start_time": "2023-03-11T11:07:13.174Z"
   },
   {
    "duration": 4,
    "start_time": "2023-03-11T11:07:13.330Z"
   },
   {
    "duration": 10,
    "start_time": "2023-03-11T11:07:14.098Z"
   },
   {
    "duration": 4,
    "start_time": "2023-03-11T11:07:14.296Z"
   },
   {
    "duration": 19,
    "start_time": "2023-03-11T11:07:14.673Z"
   },
   {
    "duration": 2,
    "start_time": "2023-03-11T11:07:14.834Z"
   },
   {
    "duration": 16,
    "start_time": "2023-03-11T11:07:15.411Z"
   },
   {
    "duration": 7,
    "start_time": "2023-03-11T11:07:17.106Z"
   },
   {
    "duration": 4,
    "start_time": "2023-03-11T11:07:17.362Z"
   },
   {
    "duration": 7,
    "start_time": "2023-03-11T11:07:17.907Z"
   },
   {
    "duration": 3,
    "start_time": "2023-03-11T11:07:18.226Z"
   },
   {
    "duration": 38,
    "start_time": "2023-03-11T11:07:20.099Z"
   },
   {
    "duration": 22,
    "start_time": "2023-03-11T11:07:49.955Z"
   }
  ],
  "kernelspec": {
   "display_name": "Python 3 (ipykernel)",
   "language": "python",
   "name": "python3"
  },
  "language_info": {
   "codemirror_mode": {
    "name": "ipython",
    "version": 3
   },
   "file_extension": ".py",
   "mimetype": "text/x-python",
   "name": "python",
   "nbconvert_exporter": "python",
   "pygments_lexer": "ipython3",
   "version": "3.9.12"
  },
  "toc": {
   "base_numbering": 1,
   "nav_menu": {},
   "number_sections": true,
   "sideBar": true,
   "skip_h1_title": true,
   "title_cell": "Содержание",
   "title_sidebar": "Contents",
   "toc_cell": true,
   "toc_position": {},
   "toc_section_display": true,
   "toc_window_display": false
  }
 },
 "nbformat": 4,
 "nbformat_minor": 2
}
