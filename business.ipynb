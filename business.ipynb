{
 "cells": [
  {
   "cell_type": "markdown",
   "metadata": {},
   "source": [
    "# Выбор локации для скважины"
   ]
  },
  {
   "cell_type": "markdown",
   "metadata": {},
   "source": [
    "Допустим, вы работаете в добывающей компании «ГлавРосГосНефть». Нужно решить, где бурить новую скважину.\n",
    "\n",
    "Вам предоставлены пробы нефти в трёх регионах: в каждом 10 000 месторождений, где измерили качество нефти и объём её запасов. Постройте модель машинного обучения, которая поможет определить регион, где добыча принесёт наибольшую прибыль. Проанализируйте возможную прибыль и риски техникой *Bootstrap.*\n",
    "\n",
    "Шаги для выбора локации:\n",
    "\n",
    "- В избранном регионе ищут месторождения, для каждого определяют значения признаков;\n",
    "- Строят модель и оценивают объём запасов;\n",
    "- Выбирают месторождения с самым высокими оценками значений. Количество месторождений зависит от бюджета компании и стоимости разработки одной скважины;\n",
    "- Прибыль равна суммарной прибыли отобранных месторождений."
   ]
  },
  {
   "cell_type": "markdown",
   "metadata": {},
   "source": [
    "## Загрузка и подготовка данных"
   ]
  },
  {
   "cell_type": "code",
   "execution_count": 1,
   "metadata": {},
   "outputs": [],
   "source": [
    "import pandas as pd\n",
    "import seaborn as sns\n",
    "import matplotlib.pyplot as plt\n",
    "\n",
    "from sklearn.preprocessing import StandardScaler \n",
    "from sklearn.model_selection import train_test_split\n",
    "from sklearn.linear_model import LinearRegression\n",
    "\n",
    "from scipy import stats as st\n",
    "from numpy.random import RandomState\n",
    "\n",
    "from sklearn.metrics import mean_squared_error, r2_score, mean_absolute_error"
   ]
  },
  {
   "cell_type": "code",
   "execution_count": 2,
   "metadata": {},
   "outputs": [],
   "source": [
    "data_0 = pd.read_csv('/datasets/geo_data_0.csv')\n",
    "data_1 = pd.read_csv('/datasets/geo_data_1.csv')\n",
    "data_2 = pd.read_csv('/datasets/geo_data_2.csv')"
   ]
  },
  {
   "cell_type": "code",
   "execution_count": 3,
   "metadata": {
    "scrolled": true
   },
   "outputs": [
    {
     "name": "stdout",
     "output_type": "stream",
     "text": [
      "<class 'pandas.core.frame.DataFrame'>\n",
      "RangeIndex: 100000 entries, 0 to 99999\n",
      "Data columns (total 5 columns):\n",
      " #   Column   Non-Null Count   Dtype  \n",
      "---  ------   --------------   -----  \n",
      " 0   id       100000 non-null  object \n",
      " 1   f0       100000 non-null  float64\n",
      " 2   f1       100000 non-null  float64\n",
      " 3   f2       100000 non-null  float64\n",
      " 4   product  100000 non-null  float64\n",
      "dtypes: float64(4), object(1)\n",
      "memory usage: 3.8+ MB\n",
      "<class 'pandas.core.frame.DataFrame'>\n",
      "RangeIndex: 100000 entries, 0 to 99999\n",
      "Data columns (total 5 columns):\n",
      " #   Column   Non-Null Count   Dtype  \n",
      "---  ------   --------------   -----  \n",
      " 0   id       100000 non-null  object \n",
      " 1   f0       100000 non-null  float64\n",
      " 2   f1       100000 non-null  float64\n",
      " 3   f2       100000 non-null  float64\n",
      " 4   product  100000 non-null  float64\n",
      "dtypes: float64(4), object(1)\n",
      "memory usage: 3.8+ MB\n",
      "<class 'pandas.core.frame.DataFrame'>\n",
      "RangeIndex: 100000 entries, 0 to 99999\n",
      "Data columns (total 5 columns):\n",
      " #   Column   Non-Null Count   Dtype  \n",
      "---  ------   --------------   -----  \n",
      " 0   id       100000 non-null  object \n",
      " 1   f0       100000 non-null  float64\n",
      " 2   f1       100000 non-null  float64\n",
      " 3   f2       100000 non-null  float64\n",
      " 4   product  100000 non-null  float64\n",
      "dtypes: float64(4), object(1)\n",
      "memory usage: 3.8+ MB\n"
     ]
    }
   ],
   "source": [
    "data_0.info()\n",
    "data_1.info()\n",
    "data_2.info()"
   ]
  },
  {
   "cell_type": "markdown",
   "metadata": {},
   "source": [
    "Пропуски и неверный тип значений в датасетах не обнаружены."
   ]
  },
  {
   "cell_type": "code",
   "execution_count": 4,
   "metadata": {},
   "outputs": [
    {
     "data": {
      "text/html": [
       "<div>\n",
       "<style scoped>\n",
       "    .dataframe tbody tr th:only-of-type {\n",
       "        vertical-align: middle;\n",
       "    }\n",
       "\n",
       "    .dataframe tbody tr th {\n",
       "        vertical-align: top;\n",
       "    }\n",
       "\n",
       "    .dataframe thead th {\n",
       "        text-align: right;\n",
       "    }\n",
       "</style>\n",
       "<table border=\"1\" class=\"dataframe\">\n",
       "  <thead>\n",
       "    <tr style=\"text-align: right;\">\n",
       "      <th></th>\n",
       "      <th>id</th>\n",
       "      <th>f0</th>\n",
       "      <th>f1</th>\n",
       "      <th>f2</th>\n",
       "      <th>product</th>\n",
       "    </tr>\n",
       "  </thead>\n",
       "  <tbody>\n",
       "    <tr>\n",
       "      <th>0</th>\n",
       "      <td>txEyH</td>\n",
       "      <td>0.705745</td>\n",
       "      <td>-0.497823</td>\n",
       "      <td>1.221170</td>\n",
       "      <td>105.280062</td>\n",
       "    </tr>\n",
       "    <tr>\n",
       "      <th>1</th>\n",
       "      <td>2acmU</td>\n",
       "      <td>1.334711</td>\n",
       "      <td>-0.340164</td>\n",
       "      <td>4.365080</td>\n",
       "      <td>73.037750</td>\n",
       "    </tr>\n",
       "    <tr>\n",
       "      <th>2</th>\n",
       "      <td>409Wp</td>\n",
       "      <td>1.022732</td>\n",
       "      <td>0.151990</td>\n",
       "      <td>1.419926</td>\n",
       "      <td>85.265647</td>\n",
       "    </tr>\n",
       "    <tr>\n",
       "      <th>3</th>\n",
       "      <td>iJLyR</td>\n",
       "      <td>-0.032172</td>\n",
       "      <td>0.139033</td>\n",
       "      <td>2.978566</td>\n",
       "      <td>168.620776</td>\n",
       "    </tr>\n",
       "    <tr>\n",
       "      <th>4</th>\n",
       "      <td>Xdl7t</td>\n",
       "      <td>1.988431</td>\n",
       "      <td>0.155413</td>\n",
       "      <td>4.751769</td>\n",
       "      <td>154.036647</td>\n",
       "    </tr>\n",
       "    <tr>\n",
       "      <th>...</th>\n",
       "      <td>...</td>\n",
       "      <td>...</td>\n",
       "      <td>...</td>\n",
       "      <td>...</td>\n",
       "      <td>...</td>\n",
       "    </tr>\n",
       "    <tr>\n",
       "      <th>99995</th>\n",
       "      <td>DLsed</td>\n",
       "      <td>0.971957</td>\n",
       "      <td>0.370953</td>\n",
       "      <td>6.075346</td>\n",
       "      <td>110.744026</td>\n",
       "    </tr>\n",
       "    <tr>\n",
       "      <th>99996</th>\n",
       "      <td>QKivN</td>\n",
       "      <td>1.392429</td>\n",
       "      <td>-0.382606</td>\n",
       "      <td>1.273912</td>\n",
       "      <td>122.346843</td>\n",
       "    </tr>\n",
       "    <tr>\n",
       "      <th>99997</th>\n",
       "      <td>3rnvd</td>\n",
       "      <td>1.029585</td>\n",
       "      <td>0.018787</td>\n",
       "      <td>-1.348308</td>\n",
       "      <td>64.375443</td>\n",
       "    </tr>\n",
       "    <tr>\n",
       "      <th>99998</th>\n",
       "      <td>7kl59</td>\n",
       "      <td>0.998163</td>\n",
       "      <td>-0.528582</td>\n",
       "      <td>1.583869</td>\n",
       "      <td>74.040764</td>\n",
       "    </tr>\n",
       "    <tr>\n",
       "      <th>99999</th>\n",
       "      <td>1CWhH</td>\n",
       "      <td>1.764754</td>\n",
       "      <td>-0.266417</td>\n",
       "      <td>5.722849</td>\n",
       "      <td>149.633246</td>\n",
       "    </tr>\n",
       "  </tbody>\n",
       "</table>\n",
       "<p>100000 rows × 5 columns</p>\n",
       "</div>"
      ],
      "text/plain": [
       "          id        f0        f1        f2     product\n",
       "0      txEyH  0.705745 -0.497823  1.221170  105.280062\n",
       "1      2acmU  1.334711 -0.340164  4.365080   73.037750\n",
       "2      409Wp  1.022732  0.151990  1.419926   85.265647\n",
       "3      iJLyR -0.032172  0.139033  2.978566  168.620776\n",
       "4      Xdl7t  1.988431  0.155413  4.751769  154.036647\n",
       "...      ...       ...       ...       ...         ...\n",
       "99995  DLsed  0.971957  0.370953  6.075346  110.744026\n",
       "99996  QKivN  1.392429 -0.382606  1.273912  122.346843\n",
       "99997  3rnvd  1.029585  0.018787 -1.348308   64.375443\n",
       "99998  7kl59  0.998163 -0.528582  1.583869   74.040764\n",
       "99999  1CWhH  1.764754 -0.266417  5.722849  149.633246\n",
       "\n",
       "[100000 rows x 5 columns]"
      ]
     },
     "execution_count": 4,
     "metadata": {},
     "output_type": "execute_result"
    }
   ],
   "source": [
    "data_0"
   ]
  },
  {
   "cell_type": "code",
   "execution_count": 5,
   "metadata": {
    "scrolled": false
   },
   "outputs": [
    {
     "name": "stdout",
     "output_type": "stream",
     "text": [
      "               f0        f1        f2   product\n",
      "f0       1.000000 -0.440723 -0.003153  0.143536\n",
      "f1      -0.440723  1.000000  0.001724 -0.192356\n",
      "f2      -0.003153  0.001724  1.000000  0.483663\n",
      "product  0.143536 -0.192356  0.483663  1.000000\n",
      "               f0        f1        f2   product\n",
      "f0       1.000000  0.182287 -0.001777 -0.030491\n",
      "f1       0.182287  1.000000 -0.002595 -0.010155\n",
      "f2      -0.001777 -0.002595  1.000000  0.999397\n",
      "product -0.030491 -0.010155  0.999397  1.000000\n",
      "               f0        f1        f2   product\n",
      "f0       1.000000  0.000528 -0.000448 -0.001987\n",
      "f1       0.000528  1.000000  0.000779 -0.001012\n",
      "f2      -0.000448  0.000779  1.000000  0.445871\n",
      "product -0.001987 -0.001012  0.445871  1.000000\n"
     ]
    },
    {
     "data": {
      "image/png": "[encoded data removed]",
      "text/plain": [
       "<Figure size 432x288 with 2 Axes>"
      ]
     },
     "metadata": {
      "needs_background": "light"
     },
     "output_type": "display_data"
    },
    {
     "data": {
      "image/png": "[encoded data removed]",
      "text/plain": [
       "<Figure size 432x288 with 2 Axes>"
      ]
     },
     "metadata": {
      "needs_background": "light"
     },
     "output_type": "display_data"
    },
    {
     "data": {
      "image/png": "[encoded data removed]",
      "text/plain": [
       "<Figure size 432x288 with 2 Axes>"
      ]
     },
     "metadata": {
      "needs_background": "light"
     },
     "output_type": "display_data"
    }
   ],
   "source": [
    "datasets = [data_0,data_1,data_2]\n",
    "\n",
    "for df in datasets:\n",
    "    print(df.corr())\n",
    "    plt.figure()\n",
    "    sns.heatmap(df.corr())"
   ]
  },
  {
   "cell_type": "code",
   "execution_count": 6,
   "metadata": {
    "scrolled": true
   },
   "outputs": [
    {
     "name": "stdout",
     "output_type": "stream",
     "text": [
      "Duplicates: 10\n",
      "Id: 7530     HZww2\n",
      "41724    bxg6G\n",
      "51970    A5aEY\n",
      "63593    QcMuo\n",
      "66136    74z30\n",
      "69163    AGS9W\n",
      "75715    Tdehs\n",
      "90815    fiKDv\n",
      "92341    TtcGQ\n",
      "97785    bsk9y\n",
      "Name: id, dtype: object\n",
      "Duplicates: 4\n",
      "Id: 41906    LHZR0\n",
      "82178    bfPNe\n",
      "82873    wt4Uk\n",
      "84461    5ltQ6\n",
      "Name: id, dtype: object\n",
      "Duplicates: 4\n",
      "Id: 43233    xCHr8\n",
      "49564    VF7Jo\n",
      "55967    KUPhW\n",
      "95090    Vcm5J\n",
      "Name: id, dtype: object\n"
     ]
    }
   ],
   "source": [
    "datasets = [data_0,data_1,data_2]\n",
    "\n",
    "for df in datasets:\n",
    "    dup = df.id.duplicated()\n",
    "    print('Duplicates:',dup.sum())\n",
    "    print('Id:',df[dup].id)"
   ]
  },
  {
   "cell_type": "code",
   "execution_count": 7,
   "metadata": {
    "scrolled": false
   },
   "outputs": [
    {
     "data": {
      "image/png": "[encoded data removed]",
      "text/plain": [
       "<Figure size 1080x360 with 4 Axes>"
      ]
     },
     "metadata": {
      "needs_background": "light"
     },
     "output_type": "display_data"
    },
    {
     "data": {
      "image/png": "[encoded data removed]",
      "text/plain": [
       "<Figure size 1080x360 with 4 Axes>"
      ]
     },
     "metadata": {
      "needs_background": "light"
     },
     "output_type": "display_data"
    },
    {
     "data": {
      "image/png": "[encoded data removed]",
      "text/plain": [
       "<Figure size 1080x360 with 4 Axes>"
      ]
     },
     "metadata": {
      "needs_background": "light"
     },
     "output_type": "display_data"
    }
   ],
   "source": [
    "datasets = [data_0,data_1,data_2]\n",
    "\n",
    "for index in range(0,3):\n",
    "    datasets[index].hist(bins = 100,figsize=(15,5))"
   ]
  },
  {
   "cell_type": "markdown",
   "metadata": {},
   "source": [
    "Вывод: Было загружено 3 датасета, явных дубликатов, аномальных значений и пропусков не выявлено,\n",
    "    данные готовы к дальнейшему использованию."
   ]
  },
  {
   "cell_type": "markdown",
   "metadata": {},
   "source": [
    "## Обучение и проверка модели"
   ]
  },
  {
   "cell_type": "code",
   "execution_count": 8,
   "metadata": {},
   "outputs": [],
   "source": [
    "def features(data):\n",
    "    features = data.drop('product',axis=1)\n",
    "    target = data['product']\n",
    "    return features,target"
   ]
  },
  {
   "cell_type": "code",
   "execution_count": 9,
   "metadata": {},
   "outputs": [],
   "source": [
    "features_0,target_0 = features(data_0)\n",
    "features_1,target_1 = features(data_1)\n",
    "features_2,target_2 = features(data_2)"
   ]
  },
  {
   "cell_type": "code",
   "execution_count": 10,
   "metadata": {},
   "outputs": [],
   "source": [
    "def split(features,target,size):\n",
    "    features_train, features_valid, target_train, target_valid = train_test_split(features, target,\n",
    "                                                                                      test_size = size, random_state = 12345)\n",
    "    return features_train, features_valid, target_train, target_valid"
   ]
  },
  {
   "cell_type": "code",
   "execution_count": 11,
   "metadata": {},
   "outputs": [],
   "source": [
    "features_train_0, features_valid_0, target_train_0, target_valid_0 = split(features_0,target_0,0.25)\n",
    "features_train_1, features_valid_1, target_train_1, target_valid_1 = split(features_1,target_1,0.25)\n",
    "features_train_2, features_valid_2, target_train_2, target_valid_2 = split(features_2,target_2,0.25)"
   ]
  },
  {
   "cell_type": "markdown",
   "metadata": {},
   "source": [
    "Масштабирование"
   ]
  },
  {
   "cell_type": "code",
   "execution_count": 13,
   "metadata": {},
   "outputs": [
    {
     "name": "stderr",
     "output_type": "stream",
     "text": [
      "/tmp/ipykernel_93/2338441166.py:9: SettingWithCopyWarning: \n",
      "A value is trying to be set on a copy of a slice from a DataFrame.\n",
      "Try using .loc[row_indexer,col_indexer] = value instead\n",
      "\n",
      "See the caveats in the documentation: https://pandas.pydata.org/pandas-docs/stable/user_guide/indexing.html#returning-a-view-versus-a-copy\n",
      "  features_train_0[numeric] = scaler_0.transform(features_train_0[numeric])\n",
      "/opt/conda/lib/python3.9/site-packages/pandas/core/indexing.py:1738: SettingWithCopyWarning: \n",
      "A value is trying to be set on a copy of a slice from a DataFrame.\n",
      "Try using .loc[row_indexer,col_indexer] = value instead\n",
      "\n",
      "See the caveats in the documentation: https://pandas.pydata.org/pandas-docs/stable/user_guide/indexing.html#returning-a-view-versus-a-copy\n",
      "  self._setitem_single_column(loc, value[:, i].tolist(), pi)\n",
      "/tmp/ipykernel_93/2338441166.py:10: SettingWithCopyWarning: \n",
      "A value is trying to be set on a copy of a slice from a DataFrame.\n",
      "Try using .loc[row_indexer,col_indexer] = value instead\n",
      "\n",
      "See the caveats in the documentation: https://pandas.pydata.org/pandas-docs/stable/user_guide/indexing.html#returning-a-view-versus-a-copy\n",
      "  features_train_1[numeric] = scaler_1.transform(features_train_1[numeric])\n",
      "/opt/conda/lib/python3.9/site-packages/pandas/core/indexing.py:1738: SettingWithCopyWarning: \n",
      "A value is trying to be set on a copy of a slice from a DataFrame.\n",
      "Try using .loc[row_indexer,col_indexer] = value instead\n",
      "\n",
      "See the caveats in the documentation: https://pandas.pydata.org/pandas-docs/stable/user_guide/indexing.html#returning-a-view-versus-a-copy\n",
      "  self._setitem_single_column(loc, value[:, i].tolist(), pi)\n",
      "/tmp/ipykernel_93/2338441166.py:11: SettingWithCopyWarning: \n",
      "A value is trying to be set on a copy of a slice from a DataFrame.\n",
      "Try using .loc[row_indexer,col_indexer] = value instead\n",
      "\n",
      "See the caveats in the documentation: https://pandas.pydata.org/pandas-docs/stable/user_guide/indexing.html#returning-a-view-versus-a-copy\n",
      "  features_train_2[numeric] = scaler_2.transform(features_train_2[numeric])\n",
      "/opt/conda/lib/python3.9/site-packages/pandas/core/indexing.py:1738: SettingWithCopyWarning: \n",
      "A value is trying to be set on a copy of a slice from a DataFrame.\n",
      "Try using .loc[row_indexer,col_indexer] = value instead\n",
      "\n",
      "See the caveats in the documentation: https://pandas.pydata.org/pandas-docs/stable/user_guide/indexing.html#returning-a-view-versus-a-copy\n",
      "  self._setitem_single_column(loc, value[:, i].tolist(), pi)\n",
      "/tmp/ipykernel_93/2338441166.py:12: SettingWithCopyWarning: \n",
      "A value is trying to be set on a copy of a slice from a DataFrame.\n",
      "Try using .loc[row_indexer,col_indexer] = value instead\n",
      "\n",
      "See the caveats in the documentation: https://pandas.pydata.org/pandas-docs/stable/user_guide/indexing.html#returning-a-view-versus-a-copy\n",
      "  features_valid_0[numeric] = scaler_0.transform(features_valid_0[numeric])\n",
      "/opt/conda/lib/python3.9/site-packages/pandas/core/indexing.py:1738: SettingWithCopyWarning: \n",
      "A value is trying to be set on a copy of a slice from a DataFrame.\n",
      "Try using .loc[row_indexer,col_indexer] = value instead\n",
      "\n",
      "See the caveats in the documentation: https://pandas.pydata.org/pandas-docs/stable/user_guide/indexing.html#returning-a-view-versus-a-copy\n",
      "  self._setitem_single_column(loc, value[:, i].tolist(), pi)\n",
      "/tmp/ipykernel_93/2338441166.py:13: SettingWithCopyWarning: \n",
      "A value is trying to be set on a copy of a slice from a DataFrame.\n",
      "Try using .loc[row_indexer,col_indexer] = value instead\n",
      "\n",
      "See the caveats in the documentation: https://pandas.pydata.org/pandas-docs/stable/user_guide/indexing.html#returning-a-view-versus-a-copy\n",
      "  features_valid_1[numeric] = scaler_1.transform(features_valid_1[numeric])\n",
      "/opt/conda/lib/python3.9/site-packages/pandas/core/indexing.py:1738: SettingWithCopyWarning: \n",
      "A value is trying to be set on a copy of a slice from a DataFrame.\n",
      "Try using .loc[row_indexer,col_indexer] = value instead\n",
      "\n",
      "See the caveats in the documentation: https://pandas.pydata.org/pandas-docs/stable/user_guide/indexing.html#returning-a-view-versus-a-copy\n",
      "  self._setitem_single_column(loc, value[:, i].tolist(), pi)\n",
      "/tmp/ipykernel_93/2338441166.py:14: SettingWithCopyWarning: \n",
      "A value is trying to be set on a copy of a slice from a DataFrame.\n",
      "Try using .loc[row_indexer,col_indexer] = value instead\n",
      "\n",
      "See the caveats in the documentation: https://pandas.pydata.org/pandas-docs/stable/user_guide/indexing.html#returning-a-view-versus-a-copy\n",
      "  features_valid_2[numeric] = scaler_2.transform(features_valid_2[numeric])\n",
      "/opt/conda/lib/python3.9/site-packages/pandas/core/indexing.py:1738: SettingWithCopyWarning: \n",
      "A value is trying to be set on a copy of a slice from a DataFrame.\n",
      "Try using .loc[row_indexer,col_indexer] = value instead\n",
      "\n",
      "See the caveats in the documentation: https://pandas.pydata.org/pandas-docs/stable/user_guide/indexing.html#returning-a-view-versus-a-copy\n",
      "  self._setitem_single_column(loc, value[:, i].tolist(), pi)\n"
     ]
    }
   ],
   "source": [
    "numeric = ['f0', 'f1', 'f2']\n",
    "scaler_0 = StandardScaler()\n",
    "scaler_1 = StandardScaler()\n",
    "scaler_2 = StandardScaler()\n",
    "scaler_0.fit(features_train_0[numeric])\n",
    "scaler_1.fit(features_train_1[numeric])\n",
    "scaler_2.fit(features_train_2[numeric])\n",
    "\n",
    "features_train_0[numeric] = scaler_0.transform(features_train_0[numeric])\n",
    "features_train_1[numeric] = scaler_1.transform(features_train_1[numeric])\n",
    "features_train_2[numeric] = scaler_2.transform(features_train_2[numeric])\n",
    "features_valid_0[numeric] = scaler_0.transform(features_valid_0[numeric])\n",
    "features_valid_1[numeric] = scaler_1.transform(features_valid_1[numeric])\n",
    "features_valid_2[numeric] = scaler_2.transform(features_valid_2[numeric])"
   ]
  },
  {
   "cell_type": "code",
   "execution_count": 14,
   "metadata": {},
   "outputs": [],
   "source": [
    "features_train_0 = features_train_0.drop('id', axis=1)\n",
    "features_train_1 = features_train_1.drop('id', axis=1)\n",
    "features_train_2 = features_train_2.drop('id', axis=1)\n",
    "features_valid_0 = features_valid_0.drop('id', axis=1)\n",
    "features_valid_1 = features_valid_1.drop('id', axis=1)\n",
    "features_valid_2 = features_valid_2.drop('id', axis=1)"
   ]
  },
  {
   "cell_type": "code",
   "execution_count": 16,
   "metadata": {},
   "outputs": [
    {
     "data": {
      "text/html": [
       "<div>\n",
       "<style scoped>\n",
       "    .dataframe tbody tr th:only-of-type {\n",
       "        vertical-align: middle;\n",
       "    }\n",
       "\n",
       "    .dataframe tbody tr th {\n",
       "        vertical-align: top;\n",
       "    }\n",
       "\n",
       "    .dataframe thead th {\n",
       "        text-align: right;\n",
       "    }\n",
       "</style>\n",
       "<table border=\"1\" class=\"dataframe\">\n",
       "  <thead>\n",
       "    <tr style=\"text-align: right;\">\n",
       "      <th></th>\n",
       "      <th>f0</th>\n",
       "      <th>f1</th>\n",
       "      <th>f2</th>\n",
       "    </tr>\n",
       "  </thead>\n",
       "  <tbody>\n",
       "    <tr>\n",
       "      <th>27212</th>\n",
       "      <td>-0.544828</td>\n",
       "      <td>1.390264</td>\n",
       "      <td>-0.094959</td>\n",
       "    </tr>\n",
       "    <tr>\n",
       "      <th>7866</th>\n",
       "      <td>1.455912</td>\n",
       "      <td>-0.480422</td>\n",
       "      <td>1.209567</td>\n",
       "    </tr>\n",
       "    <tr>\n",
       "      <th>62041</th>\n",
       "      <td>0.260460</td>\n",
       "      <td>0.825069</td>\n",
       "      <td>-0.204865</td>\n",
       "    </tr>\n",
       "    <tr>\n",
       "      <th>70185</th>\n",
       "      <td>-1.837105</td>\n",
       "      <td>0.010321</td>\n",
       "      <td>-0.147634</td>\n",
       "    </tr>\n",
       "    <tr>\n",
       "      <th>82230</th>\n",
       "      <td>-1.299243</td>\n",
       "      <td>0.987558</td>\n",
       "      <td>1.273181</td>\n",
       "    </tr>\n",
       "  </tbody>\n",
       "</table>\n",
       "</div>"
      ],
      "text/plain": [
       "             f0        f1        f2\n",
       "27212 -0.544828  1.390264 -0.094959\n",
       "7866   1.455912 -0.480422  1.209567\n",
       "62041  0.260460  0.825069 -0.204865\n",
       "70185 -1.837105  0.010321 -0.147634\n",
       "82230 -1.299243  0.987558  1.273181"
      ]
     },
     "execution_count": 16,
     "metadata": {},
     "output_type": "execute_result"
    }
   ],
   "source": [
    "features_train_0.head(5)"
   ]
  },
  {
   "cell_type": "code",
   "execution_count": 17,
   "metadata": {},
   "outputs": [],
   "source": [
    "def LinRegression(features_train, target_train, features_valid, target_valid):\n",
    "    model = LinearRegression()\n",
    "    model.fit(features_train, target_train)\n",
    "    prediction_valid = model.predict(features_valid)\n",
    "    rmse = (mean_squared_error(target_valid, prediction_valid)) ** 0.5\n",
    "    r2 = r2_score(target_valid, prediction_valid)\n",
    "    mae = mean_absolute_error(target_valid, prediction_valid)\n",
    "    prediction_mean = pd.Series(prediction_valid).mean() \n",
    "    target_mean = pd.concat([target_valid, target_train]).mean()\n",
    "    return rmse, prediction_mean, target_mean, prediction_valid\n"
   ]
  },
  {
   "cell_type": "code",
   "execution_count": 18,
   "metadata": {},
   "outputs": [],
   "source": [
    "rmse_0, prediction_mean_0, target_mean_0, prediction_valid_0 = LinRegression(features_train_0,\n",
    "                                                            target_train_0, features_valid_0, target_valid_0)\n",
    "rmse_1, prediction_mean_1, target_mean_1, prediction_valid_1= LinRegression(features_train_1,\n",
    "                                                            target_train_1, features_valid_1, target_valid_1)\n",
    "rmse_2, prediction_mean_2, target_mean_2, prediction_valid_2 = LinRegression(features_train_2,\n",
    "                                                            target_train_2, features_valid_2, target_valid_2)"
   ]
  },
  {
   "cell_type": "code",
   "execution_count": 19,
   "metadata": {
    "scrolled": false
   },
   "outputs": [
    {
     "data": {
      "text/html": [
       "<div>\n",
       "<style scoped>\n",
       "    .dataframe tbody tr th:only-of-type {\n",
       "        vertical-align: middle;\n",
       "    }\n",
       "\n",
       "    .dataframe tbody tr th {\n",
       "        vertical-align: top;\n",
       "    }\n",
       "\n",
       "    .dataframe thead th {\n",
       "        text-align: right;\n",
       "    }\n",
       "</style>\n",
       "<table border=\"1\" class=\"dataframe\">\n",
       "  <thead>\n",
       "    <tr style=\"text-align: right;\">\n",
       "      <th></th>\n",
       "      <th>rmse</th>\n",
       "      <th>Средний запас_предсказание</th>\n",
       "      <th>Средний запас_факт</th>\n",
       "    </tr>\n",
       "  </thead>\n",
       "  <tbody>\n",
       "    <tr>\n",
       "      <th>0</th>\n",
       "      <td>37.579422</td>\n",
       "      <td>92.592568</td>\n",
       "      <td>92.500</td>\n",
       "    </tr>\n",
       "    <tr>\n",
       "      <th>1</th>\n",
       "      <td>0.893099</td>\n",
       "      <td>68.728547</td>\n",
       "      <td>68.825</td>\n",
       "    </tr>\n",
       "    <tr>\n",
       "      <th>2</th>\n",
       "      <td>40.029709</td>\n",
       "      <td>94.965046</td>\n",
       "      <td>95.000</td>\n",
       "    </tr>\n",
       "  </tbody>\n",
       "</table>\n",
       "</div>"
      ],
      "text/plain": [
       "        rmse  Средний запас_предсказание  Средний запас_факт\n",
       "0  37.579422                   92.592568              92.500\n",
       "1   0.893099                   68.728547              68.825\n",
       "2  40.029709                   94.965046              95.000"
      ]
     },
     "metadata": {},
     "output_type": "display_data"
    }
   ],
   "source": [
    "metrics = {'rmse': [rmse_0, rmse_1, rmse_2], \n",
    "        'Средний запас_предсказание': [prediction_mean_0, prediction_mean_1, prediction_mean_2],\n",
    "        'Средний запас_факт': [target_mean_0, target_mean_1, target_mean_2]\n",
    "       }\n",
    "metrics = pd.DataFrame(metrics)\n",
    "display(metrics)"
   ]
  },
  {
   "cell_type": "markdown",
   "metadata": {},
   "source": [
    "Вывод:\n",
    "\n",
    "Модель линейной регрессии, построенная для второго участка добычи показывает наилучшие результаты. Минимальный уровень средней добычи на данном участке 68 тыс. баррелей.\n",
    "\n",
    "Модели для первого и третьего участка показывают схожие результаты среднеквадратичной ошибки и среднего уровня добычи в 92-95 тыс. баррелей."
   ]
  },
  {
   "cell_type": "markdown",
   "metadata": {},
   "source": [
    "## Подготовка к расчёту прибыли"
   ]
  },
  {
   "cell_type": "markdown",
   "metadata": {},
   "source": [
    "Условия задачи"
   ]
  },
  {
   "cell_type": "code",
   "execution_count": 20,
   "metadata": {},
   "outputs": [],
   "source": [
    "budget = 10000000000   #Бюджет \n",
    "total_holes = 500 #Кол-во исследуемых скважин\n",
    "best_holes = 200  # Кол-во лучших скважин\n",
    "profit_from_hole = 450000   #Доход с единицы продукта"
   ]
  },
  {
   "cell_type": "markdown",
   "metadata": {},
   "source": [
    "Рассчитем объём сырья достаточный для безубыточной разработки скважины"
   ]
  },
  {
   "cell_type": "code",
   "execution_count": 21,
   "metadata": {},
   "outputs": [
    {
     "name": "stdout",
     "output_type": "stream",
     "text": [
      "Объём сырья достаточный для безубыточной разработки скважины: 111 тыс.баррелей\n"
     ]
    }
   ],
   "source": [
    "profit = budget / best_holes / profit_from_hole\n",
    "print('Объём сырья достаточный для безубыточной разработки скважины:',round(profit),'тыс.баррелей')"
   ]
  },
  {
   "cell_type": "markdown",
   "metadata": {},
   "source": [
    "111 тыс. баррелей - это минимальный объём сырья для безубыточной разработки скважины. Сравним это с полученными ранее средними значениями запаса нефти в скважине."
   ]
  },
  {
   "cell_type": "code",
   "execution_count": 22,
   "metadata": {
    "scrolled": true
   },
   "outputs": [
    {
     "data": {
      "text/html": [
       "<div>\n",
       "<style scoped>\n",
       "    .dataframe tbody tr th:only-of-type {\n",
       "        vertical-align: middle;\n",
       "    }\n",
       "\n",
       "    .dataframe tbody tr th {\n",
       "        vertical-align: top;\n",
       "    }\n",
       "\n",
       "    .dataframe thead th {\n",
       "        text-align: right;\n",
       "    }\n",
       "</style>\n",
       "<table border=\"1\" class=\"dataframe\">\n",
       "  <thead>\n",
       "    <tr style=\"text-align: right;\">\n",
       "      <th></th>\n",
       "      <th>rmse</th>\n",
       "      <th>Средний запас_предсказание</th>\n",
       "      <th>Средний запас_факт</th>\n",
       "    </tr>\n",
       "  </thead>\n",
       "  <tbody>\n",
       "    <tr>\n",
       "      <th>0</th>\n",
       "      <td>37.579422</td>\n",
       "      <td>92.592568</td>\n",
       "      <td>92.500</td>\n",
       "    </tr>\n",
       "    <tr>\n",
       "      <th>1</th>\n",
       "      <td>0.893099</td>\n",
       "      <td>68.728547</td>\n",
       "      <td>68.825</td>\n",
       "    </tr>\n",
       "    <tr>\n",
       "      <th>2</th>\n",
       "      <td>40.029709</td>\n",
       "      <td>94.965046</td>\n",
       "      <td>95.000</td>\n",
       "    </tr>\n",
       "  </tbody>\n",
       "</table>\n",
       "</div>"
      ],
      "text/plain": [
       "        rmse  Средний запас_предсказание  Средний запас_факт\n",
       "0  37.579422                   92.592568              92.500\n",
       "1   0.893099                   68.728547              68.825\n",
       "2  40.029709                   94.965046              95.000"
      ]
     },
     "metadata": {},
     "output_type": "display_data"
    }
   ],
   "source": [
    "display(metrics)"
   ]
  },
  {
   "cell_type": "markdown",
   "metadata": {},
   "source": [
    "Вывод:\n",
    "\n",
    "Средний уровень запасов не удовлетворяет минимальному объёму сырья."
   ]
  },
  {
   "cell_type": "code",
   "execution_count": 36,
   "metadata": {},
   "outputs": [],
   "source": [
    "prediction_valid_0 = pd.Series(prediction_valid_0)\n",
    "prediction_valid_1 = pd.Series(prediction_valid_1)\n",
    "prediction_valid_2 = pd.Series(prediction_valid_2)\n",
    "\n",
    "target_valid_0 = target_valid_0.reset_index(drop = True)\n",
    "target_valid_1 = target_valid_1.reset_index(drop = True)\n",
    "target_valid_2 = target_valid_2.reset_index(drop = True)"
   ]
  },
  {
   "cell_type": "code",
   "execution_count": 54,
   "metadata": {},
   "outputs": [],
   "source": [
    "\n",
    "\n",
    "def profit_holes(prediction_valid, target_valid, profit_from_hole, best_holes, budget):\n",
    "    target_valid = target_valid.reset_index(drop=True)\n",
    "    prediction_valid = prediction_valid.reset_index(drop=True)\n",
    "    prediction_valid_sorted = prediction_valid.sort_values(ascending = False)\n",
    "    target_valid_sorted = target_valid[prediction_valid_sorted.index][:best_holes]\n",
    "\n",
    "\n",
    "    # КОД РЕВЬЮЕРА, debug\n",
    "    if sorted(prediction_valid_sorted.index[:200]) != sorted(target_valid_sorted.index):\n",
    "        print(\"Index Error!\")\n",
    "    if target_valid[prediction_valid_sorted.index].shape[0] > prediction_valid_sorted.shape[0]:\n",
    "        print(\"Shape Mismatch! Targets shape:\", target_valid[prediction_valid_sorted.index].shape)\n",
    "\n",
    "\n",
    "    return target_valid_sorted.sum() * profit_from_hole - budget  \n"
   ]
  },
  {
   "cell_type": "code",
   "execution_count": 55,
   "metadata": {},
   "outputs": [
    {
     "data": {
      "text/plain": [
       "0    1\n",
       "1    2\n",
       "1    2\n",
       "1    2\n",
       "1    2\n",
       "3    5\n",
       "3    5\n",
       "3    5\n",
       "3    5\n",
       "dtype: int64"
      ]
     },
     "execution_count": 55,
     "metadata": {},
     "output_type": "execute_result"
    }
   ],
   "source": [
    "# КОД РЕВЬЮЕРА\n",
    "_preds = pd.Series([1, 2, 2, 5, 5], index=[0, 1, 1, 3, 3])\n",
    "_target = pd.Series([1, 2, 2, 5, 5], index=[0, 1, 1, 3, 3])\n",
    "\n",
    "_target.loc[_preds.index]"
   ]
  },
  {
   "cell_type": "code",
   "execution_count": 56,
   "metadata": {},
   "outputs": [
    {
     "name": "stdout",
     "output_type": "stream",
     "text": [
      "Прибыль 1-го региона : 3.32 млрд р\n",
      "Прибыль 2-го региона : 2.42 млрд р\n",
      "Прибыль 3-го региона : 2.71 млрд р\n"
     ]
    }
   ],
   "source": [
    "print('Прибыль 1-го региона :',(profit_holes(prediction_valid_0, target_valid_0,\n",
    "                                    profit_from_hole, best_holes, budget)/1000000000).round(2),'млрд р')\n",
    "print('Прибыль 2-го региона :',(profit_holes(prediction_valid_1, target_valid_1,\n",
    "                                    profit_from_hole, best_holes, budget)/1000000000).round(2),'млрд р')\n",
    "print('Прибыль 3-го региона :',(profit_holes(prediction_valid_2, target_valid_2,\n",
    "                                    profit_from_hole, best_holes, budget)/1000000000).round(2),'млрд р')"
   ]
  },
  {
   "cell_type": "markdown",
   "metadata": {},
   "source": [
    "Вывод\n",
    "\n",
    "Наибольшая прибыль в регионе 1"
   ]
  },
  {
   "cell_type": "markdown",
   "metadata": {},
   "source": [
    "## Расчёт прибыли и рисков "
   ]
  },
  {
   "cell_type": "code",
   "execution_count": 57,
   "metadata": {},
   "outputs": [
    {
     "name": "stdout",
     "output_type": "stream",
     "text": [
      "\n",
      "\n",
      "Средняя прибыль региона 1 : 396164985.0 р.\n",
      "2.5%-квантиль: 395008856.0 р.\n",
      "95%-ый доверительный интервал: -111,215,545.89 - 909,766,941.55\n",
      "Вероятность убытков:  6.9 %\n",
      "\n",
      "\n",
      "Средняя прибыль региона 2 : 461155817.0 р.\n",
      "2.5%-квантиль: 462011936.0 р.\n",
      "95%-ый доверительный интервал: 78,050,810.75 - 862,952,060.26\n",
      "Вероятность убытков:  0.7000000000000001 %\n",
      "\n",
      "\n",
      "Средняя прибыль региона 3 : 392950475.0 р.\n",
      "2.5%-квантиль: 384655292.0 р.\n",
      "95%-ый доверительный интервал: -112,227,625.38 - 934,562,914.55\n",
      "Вероятность убытков:  6.5 %\n"
     ]
    }
   ],
   "source": [
    "state = RandomState(12345) \n",
    "\n",
    "boot_targets = [target_valid_0, target_valid_1, target_valid_2]\n",
    "boot_predicts = [prediction_valid_0, prediction_valid_1, prediction_valid_2]\n",
    "\n",
    "\n",
    "values = []\n",
    "\n",
    "for region in range(3):\n",
    "    for i in range(1000):\n",
    "        target_subsample = boot_targets[region].sample(n=500, replace=True, random_state=state)  \n",
    "        probs_subsample = boot_predicts[region][target_subsample.index]\n",
    "        values.append(profit_holes(probs_subsample, target_subsample, profit_from_hole, best_holes, budget)) \n",
    "\n",
    "    values = pd.Series(values)\n",
    "    lower = values.quantile(0.5)\n",
    "    confidence_interval = (values.quantile(0.025), values.quantile(0.975))\n",
    "    \n",
    "    mean = values.mean()\n",
    "    \n",
    "    negativ_count = values[values < 0].count()\n",
    "    print()\n",
    "    print()\n",
    "    print(\"Средняя прибыль региона\", region+1, \":\",mean.round(), \"р.\")\n",
    "    print(\"2.5%-квантиль:\",lower.round(), \"р.\")\n",
    "    print(\"95%-ый доверительный интервал: {:,.2f} - {:,.2f}\".format(confidence_interval[0], confidence_interval[1]))\n",
    "    print(\"Вероятность убытков: \",negativ_count / len(values)*100,'%')\n",
    "    \n",
    "    values = []"
   ]
  },
  {
   "cell_type": "markdown",
   "metadata": {},
   "source": [
    "Вывод\n",
    "\n",
    "Максимальная средняя прибыль во втором регионе - 461 млн.руб. Этот регион также единственный показывает положительный 95% доверительный интервал.\n",
    "\n",
    "Оценивая риски убытков, был рассчитан уровень риска. Регион 2 также показал минимальный уровень риска 0.7%. Остальные регионы, с уровнем риска более 6% не удовлетворяют условиям для дальнейшей разработки месторождений. \n"
   ]
  },
  {
   "cell_type": "markdown",
   "metadata": {},
   "source": [
    "Общий вывод\n",
    "\n",
    "Были проанализированы 3 датасеты и на их основе обчуна модель LinearRegression, с помощью который были получены предсказания по объёму сырья.\n",
    "\n",
    "Рассчитан минимальный уровень запаса сырья для безубыточной добычи, равный 111 тыс. барр\n",
    "\n",
    "Определены потенциальные прибыли для каждого региона по 200 лучшим скважинам\n",
    "\n",
    "Расчитаны средние прибыли и риски для каждого региона. Максимальную среднюю прибыль в регионе 2 - 461 млн. руб\n",
    "\n",
    "Наименьшая вероятность убытков также в регионе 2"
   ]
  },
  {
   "cell_type": "markdown",
   "metadata": {},
   "source": [
    "## Чек-лист готовности проекта"
   ]
  },
  {
   "cell_type": "markdown",
   "metadata": {},
   "source": [
    "Поставьте 'x' в выполненных пунктах. Далее нажмите Shift+Enter."
   ]
  },
  {
   "cell_type": "markdown",
   "metadata": {},
   "source": [
    "- [x]  Jupyter Notebook открыт\n",
    "- [x]  Весь код выполняется без ошибок\n",
    "- [x]  Ячейки с кодом расположены в порядке исполнения\n",
    "- [x]  Выполнен шаг 1: данные подготовлены\n",
    "- [x]  Выполнен шаг 2: модели обучены и проверены\n",
    "    - [x]  Данные корректно разбиты на обучающую и валидационную выборки\n",
    "    - [x]  Модели обучены, предсказания сделаны\n",
    "    - [x]  Предсказания и правильные ответы на валидационной выборке сохранены\n",
    "    - [x]  На экране напечатаны результаты\n",
    "    - [x]  Сделаны выводы\n",
    "- [x]  Выполнен шаг 3: проведена подготовка к расчёту прибыли\n",
    "    - [x]  Для всех ключевых значений созданы константы Python\n",
    "    - [x]  Посчитано минимальное среднее количество продукта в месторождениях региона, достаточное для разработки\n",
    "    - [x]  По предыдущему пункту сделаны выводы\n",
    "    - [x]  Написана функция расчёта прибыли\n",
    "- [x]  Выполнен шаг 4: посчитаны риски и прибыль\n",
    "    - [x]  Проведена процедура *Bootstrap*\n",
    "    - [x]  Все параметры бутстрепа соответствуют условию\n",
    "    - [x]  Найдены все нужные величины\n",
    "    - [x]  Предложен регион для разработки месторождения\n",
    "    - [x]  Выбор региона обоснован"
   ]
  }
 ],
 "metadata": {
  "ExecuteTimeLog": [
   {
    "duration": 358,
    "start_time": "2023-01-25T16:38:42.920Z"
   },
   {
    "duration": 1195,
    "start_time": "2023-01-25T16:41:21.269Z"
   },
   {
    "duration": 332,
    "start_time": "2023-01-25T16:41:37.085Z"
   },
   {
    "duration": 17,
    "start_time": "2023-01-25T16:42:48.484Z"
   },
   {
    "duration": 12,
    "start_time": "2023-01-25T16:43:52.359Z"
   },
   {
    "duration": 13,
    "start_time": "2023-01-25T16:46:05.534Z"
   },
   {
    "duration": 14,
    "start_time": "2023-01-25T16:46:22.154Z"
   },
   {
    "duration": 22,
    "start_time": "2023-01-25T16:46:35.404Z"
   },
   {
    "duration": 32,
    "start_time": "2023-01-25T16:46:49.333Z"
   },
   {
    "duration": 11,
    "start_time": "2023-01-25T16:48:14.994Z"
   },
   {
    "duration": 15,
    "start_time": "2023-01-25T16:51:58.213Z"
   },
   {
    "duration": 13,
    "start_time": "2023-01-25T16:52:10.553Z"
   },
   {
    "duration": 19,
    "start_time": "2023-01-25T16:52:23.478Z"
   },
   {
    "duration": 40,
    "start_time": "2023-01-25T16:53:17.473Z"
   },
   {
    "duration": 40,
    "start_time": "2023-01-25T16:53:22.463Z"
   },
   {
    "duration": 35,
    "start_time": "2023-01-25T16:53:28.339Z"
   },
   {
    "duration": 45,
    "start_time": "2023-01-25T16:53:31.200Z"
   },
   {
    "duration": 20,
    "start_time": "2023-01-25T16:53:41.051Z"
   },
   {
    "duration": 16,
    "start_time": "2023-01-25T16:53:46.196Z"
   },
   {
    "duration": 18,
    "start_time": "2023-01-25T16:53:49.200Z"
   },
   {
    "duration": 38,
    "start_time": "2023-01-25T16:57:05.440Z"
   },
   {
    "duration": 38,
    "start_time": "2023-01-25T16:57:26.370Z"
   },
   {
    "duration": 13,
    "start_time": "2023-01-25T16:57:32.732Z"
   },
   {
    "duration": 41,
    "start_time": "2023-01-25T16:58:52.399Z"
   },
   {
    "duration": 48,
    "start_time": "2023-01-25T16:59:03.971Z"
   },
   {
    "duration": 40,
    "start_time": "2023-01-25T16:59:43.846Z"
   },
   {
    "duration": 36,
    "start_time": "2023-01-25T17:00:06.228Z"
   },
   {
    "duration": 62,
    "start_time": "2023-01-25T17:00:14.348Z"
   },
   {
    "duration": 36,
    "start_time": "2023-01-25T17:00:18.751Z"
   },
   {
    "duration": 11,
    "start_time": "2023-01-25T17:01:14.649Z"
   },
   {
    "duration": 26,
    "start_time": "2023-01-25T17:01:38.475Z"
   },
   {
    "duration": 38,
    "start_time": "2023-01-25T17:01:57.896Z"
   },
   {
    "duration": 19,
    "start_time": "2023-01-25T17:02:09.458Z"
   },
   {
    "duration": 25,
    "start_time": "2023-01-25T17:02:22.678Z"
   },
   {
    "duration": 680,
    "start_time": "2023-01-25T17:03:34.678Z"
   },
   {
    "duration": 945,
    "start_time": "2023-01-25T17:04:01.777Z"
   },
   {
    "duration": 66,
    "start_time": "2023-01-25T17:06:07.087Z"
   },
   {
    "duration": 7,
    "start_time": "2023-01-25T17:06:09.256Z"
   },
   {
    "duration": 886,
    "start_time": "2023-01-25T17:06:19.424Z"
   },
   {
    "duration": 999,
    "start_time": "2023-01-25T17:06:38.767Z"
   },
   {
    "duration": 720,
    "start_time": "2023-01-25T17:10:25.843Z"
   },
   {
    "duration": 3,
    "start_time": "2023-01-25T17:10:54.416Z"
   },
   {
    "duration": 46,
    "start_time": "2023-01-25T17:15:44.250Z"
   },
   {
    "duration": 786,
    "start_time": "2023-01-25T17:15:55.267Z"
   },
   {
    "duration": 5,
    "start_time": "2023-01-25T17:16:42.172Z"
   },
   {
    "duration": 14,
    "start_time": "2023-01-25T17:16:51.615Z"
   },
   {
    "duration": 5,
    "start_time": "2023-01-25T17:17:02.570Z"
   },
   {
    "duration": 12,
    "start_time": "2023-01-25T17:17:44.932Z"
   },
   {
    "duration": 3,
    "start_time": "2023-01-25T17:18:02.395Z"
   },
   {
    "duration": 5,
    "start_time": "2023-01-25T17:18:07.925Z"
   },
   {
    "duration": 56,
    "start_time": "2023-02-01T14:57:00.788Z"
   },
   {
    "duration": 200,
    "start_time": "2023-02-01T14:58:19.221Z"
   },
   {
    "duration": 99,
    "start_time": "2023-02-01T14:58:24.318Z"
   },
   {
    "duration": 165,
    "start_time": "2023-02-01T14:58:29.989Z"
   },
   {
    "duration": 72,
    "start_time": "2023-02-01T14:58:34.688Z"
   },
   {
    "duration": 76,
    "start_time": "2023-02-01T14:58:36.406Z"
   },
   {
    "duration": 131,
    "start_time": "2023-02-01T14:58:46.684Z"
   },
   {
    "duration": 74,
    "start_time": "2023-02-01T14:59:44.749Z"
   },
   {
    "duration": 119,
    "start_time": "2023-02-01T14:59:52.494Z"
   },
   {
    "duration": 107,
    "start_time": "2023-02-01T15:00:02.085Z"
   },
   {
    "duration": 1724,
    "start_time": "2023-02-01T15:00:10.318Z"
   },
   {
    "duration": 2000,
    "start_time": "2023-02-01T15:00:12.044Z"
   },
   {
    "duration": 53,
    "start_time": "2023-02-01T15:00:14.773Z"
   },
   {
    "duration": 17,
    "start_time": "2023-02-01T15:00:15.722Z"
   },
   {
    "duration": 33,
    "start_time": "2023-02-01T15:00:16.882Z"
   },
   {
    "duration": 75,
    "start_time": "2023-02-01T15:00:17.423Z"
   },
   {
    "duration": 1170,
    "start_time": "2023-02-01T15:00:18.190Z"
   },
   {
    "duration": 15,
    "start_time": "2023-02-01T15:00:21.188Z"
   },
   {
    "duration": 53,
    "start_time": "2023-02-01T15:00:24.435Z"
   },
   {
    "duration": 185,
    "start_time": "2023-02-01T15:00:36.198Z"
   },
   {
    "duration": 32,
    "start_time": "2023-02-01T15:01:05.138Z"
   },
   {
    "duration": 9,
    "start_time": "2023-02-01T15:01:09.338Z"
   },
   {
    "duration": 4,
    "start_time": "2023-02-01T15:02:05.530Z"
   },
   {
    "duration": 245,
    "start_time": "2023-02-01T15:02:18.683Z"
   },
   {
    "duration": 99,
    "start_time": "2023-02-01T15:02:18.931Z"
   },
   {
    "duration": 3,
    "start_time": "2023-02-01T15:02:56.519Z"
   },
   {
    "duration": 3,
    "start_time": "2023-02-01T15:03:02.892Z"
   },
   {
    "duration": 9,
    "start_time": "2023-02-01T15:03:21.147Z"
   },
   {
    "duration": 6,
    "start_time": "2023-02-01T15:04:08.211Z"
   },
   {
    "duration": 20,
    "start_time": "2023-02-01T15:04:08.531Z"
   },
   {
    "duration": 4524,
    "start_time": "2023-02-01T15:04:16.911Z"
   },
   {
    "duration": 10,
    "start_time": "2023-02-01T15:09:21.300Z"
   },
   {
    "duration": 11,
    "start_time": "2023-02-01T15:19:29.592Z"
   },
   {
    "duration": 10,
    "start_time": "2023-02-01T15:22:49.150Z"
   },
   {
    "duration": 3,
    "start_time": "2023-02-01T15:23:16.045Z"
   },
   {
    "duration": 449,
    "start_time": "2023-02-01T15:23:16.515Z"
   },
   {
    "duration": 76,
    "start_time": "2023-02-01T15:23:16.966Z"
   },
   {
    "duration": 15,
    "start_time": "2023-02-01T15:23:17.407Z"
   },
   {
    "duration": 37,
    "start_time": "2023-02-01T15:23:17.633Z"
   },
   {
    "duration": 61,
    "start_time": "2023-02-01T15:23:17.824Z"
   },
   {
    "duration": 1164,
    "start_time": "2023-02-01T15:23:18.507Z"
   },
   {
    "duration": 15,
    "start_time": "2023-02-01T15:23:21.497Z"
   },
   {
    "duration": 53,
    "start_time": "2023-02-01T15:23:21.764Z"
   },
   {
    "duration": 1284,
    "start_time": "2023-02-01T15:23:27.701Z"
   },
   {
    "duration": 19,
    "start_time": "2023-02-01T15:23:30.426Z"
   },
   {
    "duration": 53,
    "start_time": "2023-02-01T15:23:31.042Z"
   },
   {
    "duration": 172,
    "start_time": "2023-02-01T15:23:32.505Z"
   },
   {
    "duration": 40,
    "start_time": "2023-02-01T15:23:35.405Z"
   },
   {
    "duration": 9,
    "start_time": "2023-02-01T15:23:36.246Z"
   },
   {
    "duration": 12,
    "start_time": "2023-02-01T15:23:41.305Z"
   },
   {
    "duration": 6,
    "start_time": "2023-02-01T15:23:42.910Z"
   },
   {
    "duration": 5,
    "start_time": "2023-02-01T15:24:12.946Z"
   },
   {
    "duration": 344,
    "start_time": "2023-02-01T15:24:13.207Z"
   },
   {
    "duration": 20,
    "start_time": "2023-02-01T15:24:23.217Z"
   },
   {
    "duration": 3,
    "start_time": "2023-02-01T15:25:23.755Z"
   },
   {
    "duration": 8,
    "start_time": "2023-02-01T15:26:00.959Z"
   },
   {
    "duration": 7,
    "start_time": "2023-02-01T15:26:04.106Z"
   },
   {
    "duration": 22,
    "start_time": "2023-02-01T15:26:48.253Z"
   },
   {
    "duration": 22,
    "start_time": "2023-02-01T15:27:15.704Z"
   },
   {
    "duration": 22,
    "start_time": "2023-02-01T15:27:19.744Z"
   },
   {
    "duration": 19,
    "start_time": "2023-02-01T15:27:22.900Z"
   },
   {
    "duration": 20,
    "start_time": "2023-02-01T15:27:44.096Z"
   },
   {
    "duration": 22,
    "start_time": "2023-02-01T15:27:58.989Z"
   },
   {
    "duration": 20,
    "start_time": "2023-02-01T15:28:07.547Z"
   },
   {
    "duration": 4691,
    "start_time": "2023-02-01T15:28:32.541Z"
   },
   {
    "duration": 4404,
    "start_time": "2023-02-01T15:29:18.441Z"
   },
   {
    "duration": 4643,
    "start_time": "2023-02-01T15:29:31.145Z"
   },
   {
    "duration": 4631,
    "start_time": "2023-02-01T15:30:31.643Z"
   },
   {
    "duration": 84,
    "start_time": "2023-02-01T15:31:18.355Z"
   },
   {
    "duration": 4532,
    "start_time": "2023-02-01T15:31:32.303Z"
   },
   {
    "duration": 4449,
    "start_time": "2023-02-01T15:31:48.095Z"
   },
   {
    "duration": 4395,
    "start_time": "2023-02-01T15:31:57.452Z"
   },
   {
    "duration": 4695,
    "start_time": "2023-02-01T15:32:20.647Z"
   },
   {
    "duration": 5039,
    "start_time": "2023-02-01T15:32:42.208Z"
   },
   {
    "duration": 1233,
    "start_time": "2023-02-02T06:23:18.347Z"
   },
   {
    "duration": 1128,
    "start_time": "2023-02-02T06:23:19.582Z"
   },
   {
    "duration": 38,
    "start_time": "2023-02-02T06:23:20.711Z"
   },
   {
    "duration": 20,
    "start_time": "2023-02-02T06:23:20.751Z"
   },
   {
    "duration": 42,
    "start_time": "2023-02-02T06:23:20.774Z"
   },
   {
    "duration": 70,
    "start_time": "2023-02-02T06:23:20.819Z"
   },
   {
    "duration": 1665,
    "start_time": "2023-02-02T06:23:20.890Z"
   },
   {
    "duration": 33,
    "start_time": "2023-02-02T06:23:22.557Z"
   },
   {
    "duration": 88,
    "start_time": "2023-02-02T06:23:22.592Z"
   },
   {
    "duration": 181,
    "start_time": "2023-02-02T06:23:22.682Z"
   },
   {
    "duration": 40,
    "start_time": "2023-02-02T06:23:22.865Z"
   },
   {
    "duration": 24,
    "start_time": "2023-02-02T06:23:22.907Z"
   },
   {
    "duration": 30,
    "start_time": "2023-02-02T06:23:22.933Z"
   },
   {
    "duration": 332,
    "start_time": "2023-02-02T06:23:22.966Z"
   },
   {
    "duration": 94,
    "start_time": "2023-02-02T06:23:23.299Z"
   },
   {
    "duration": 138,
    "start_time": "2023-02-02T06:23:23.395Z"
   },
   {
    "duration": 73,
    "start_time": "2023-02-02T06:23:23.534Z"
   },
   {
    "duration": 27,
    "start_time": "2023-02-02T06:23:23.609Z"
   },
   {
    "duration": 27,
    "start_time": "2023-02-02T06:23:23.638Z"
   },
   {
    "duration": 63,
    "start_time": "2023-02-02T06:23:23.667Z"
   },
   {
    "duration": 11975,
    "start_time": "2023-02-02T06:23:23.731Z"
   },
   {
    "duration": 10,
    "start_time": "2023-02-02T06:24:50.733Z"
   },
   {
    "duration": 1036,
    "start_time": "2023-02-02T08:16:15.123Z"
   },
   {
    "duration": 58,
    "start_time": "2023-02-02T08:29:34.446Z"
   },
   {
    "duration": 449,
    "start_time": "2023-02-02T08:31:06.698Z"
   },
   {
    "duration": 141,
    "start_time": "2023-02-02T08:31:13.886Z"
   },
   {
    "duration": 877,
    "start_time": "2023-02-02T08:31:17.155Z"
   },
   {
    "duration": 48,
    "start_time": "2023-02-02T08:31:18.034Z"
   },
   {
    "duration": 16,
    "start_time": "2023-02-02T08:31:18.390Z"
   },
   {
    "duration": 26,
    "start_time": "2023-02-02T08:31:19.459Z"
   },
   {
    "duration": 23,
    "start_time": "2023-02-02T08:31:43.888Z"
   },
   {
    "duration": 555,
    "start_time": "2023-02-02T08:31:50.428Z"
   },
   {
    "duration": 3,
    "start_time": "2023-02-02T08:32:38.386Z"
   },
   {
    "duration": 475,
    "start_time": "2023-02-02T08:33:07.797Z"
   },
   {
    "duration": 894,
    "start_time": "2023-02-02T08:33:16.088Z"
   },
   {
    "duration": 1221,
    "start_time": "2023-02-02T08:34:16.075Z"
   },
   {
    "duration": 1482,
    "start_time": "2023-02-02T08:34:26.260Z"
   },
   {
    "duration": 1576,
    "start_time": "2023-02-02T08:34:31.298Z"
   },
   {
    "duration": 2551,
    "start_time": "2023-02-02T08:34:37.610Z"
   },
   {
    "duration": 13,
    "start_time": "2023-02-02T08:39:49.851Z"
   },
   {
    "duration": 10,
    "start_time": "2023-02-02T08:42:15.737Z"
   },
   {
    "duration": 14,
    "start_time": "2023-02-02T08:42:26.950Z"
   },
   {
    "duration": 15,
    "start_time": "2023-02-02T08:42:43.934Z"
   },
   {
    "duration": 11,
    "start_time": "2023-02-02T08:42:47.298Z"
   },
   {
    "duration": 12,
    "start_time": "2023-02-02T08:42:53.036Z"
   },
   {
    "duration": 4,
    "start_time": "2023-02-02T08:45:27.178Z"
   },
   {
    "duration": 6,
    "start_time": "2023-02-02T08:46:39.988Z"
   },
   {
    "duration": 14,
    "start_time": "2023-02-02T08:46:55.900Z"
   },
   {
    "duration": 11,
    "start_time": "2023-02-02T08:47:04.729Z"
   },
   {
    "duration": 5,
    "start_time": "2023-02-02T08:47:10.867Z"
   },
   {
    "duration": 3,
    "start_time": "2023-02-02T08:48:56.404Z"
   },
   {
    "duration": 18,
    "start_time": "2023-02-02T08:49:20.296Z"
   },
   {
    "duration": 184,
    "start_time": "2023-02-02T08:49:48.722Z"
   },
   {
    "duration": 144,
    "start_time": "2023-02-02T08:51:11.949Z"
   },
   {
    "duration": 15,
    "start_time": "2023-02-02T08:51:15.826Z"
   },
   {
    "duration": 9,
    "start_time": "2023-02-02T08:51:25.337Z"
   },
   {
    "duration": 12,
    "start_time": "2023-02-02T08:51:57.646Z"
   },
   {
    "duration": 8,
    "start_time": "2023-02-02T08:51:59.830Z"
   },
   {
    "duration": 4,
    "start_time": "2023-02-02T08:52:15.594Z"
   },
   {
    "duration": 485,
    "start_time": "2023-02-02T08:52:20.610Z"
   },
   {
    "duration": 98,
    "start_time": "2023-02-02T08:52:21.098Z"
   },
   {
    "duration": 294,
    "start_time": "2023-02-02T08:52:33.608Z"
   },
   {
    "duration": 99,
    "start_time": "2023-02-02T08:52:33.998Z"
   },
   {
    "duration": 1276,
    "start_time": "2023-02-02T08:53:16.746Z"
   },
   {
    "duration": 368,
    "start_time": "2023-02-02T08:53:18.025Z"
   },
   {
    "duration": 35,
    "start_time": "2023-02-02T08:53:18.395Z"
   },
   {
    "duration": 15,
    "start_time": "2023-02-02T08:53:18.432Z"
   },
   {
    "duration": 857,
    "start_time": "2023-02-02T08:53:18.450Z"
   },
   {
    "duration": 50,
    "start_time": "2023-02-02T08:53:19.309Z"
   },
   {
    "duration": 2657,
    "start_time": "2023-02-02T08:53:19.361Z"
   },
   {
    "duration": 3,
    "start_time": "2023-02-02T08:53:22.020Z"
   },
   {
    "duration": 51,
    "start_time": "2023-02-02T08:53:22.025Z"
   },
   {
    "duration": 36,
    "start_time": "2023-02-02T08:53:22.078Z"
   },
   {
    "duration": 58,
    "start_time": "2023-02-02T08:53:22.116Z"
   },
   {
    "duration": 170,
    "start_time": "2023-02-02T08:53:22.176Z"
   },
   {
    "duration": 13,
    "start_time": "2023-02-02T08:53:22.347Z"
   },
   {
    "duration": 35,
    "start_time": "2023-02-02T08:53:22.364Z"
   },
   {
    "duration": 14,
    "start_time": "2023-02-02T08:53:22.401Z"
   },
   {
    "duration": 282,
    "start_time": "2023-02-02T08:53:22.417Z"
   },
   {
    "duration": 96,
    "start_time": "2023-02-02T08:53:22.702Z"
   },
   {
    "duration": 94,
    "start_time": "2023-02-02T08:53:22.800Z"
   },
   {
    "duration": 43,
    "start_time": "2023-02-02T08:53:22.895Z"
   },
   {
    "duration": 42,
    "start_time": "2023-02-02T08:53:22.939Z"
   },
   {
    "duration": 20,
    "start_time": "2023-02-02T08:53:22.982Z"
   },
   {
    "duration": 25,
    "start_time": "2023-02-02T08:53:23.003Z"
   },
   {
    "duration": 36,
    "start_time": "2023-02-02T08:53:23.030Z"
   },
   {
    "duration": 10232,
    "start_time": "2023-02-02T08:53:23.067Z"
   },
   {
    "duration": 8,
    "start_time": "2023-02-02T08:54:28.627Z"
   },
   {
    "duration": 8,
    "start_time": "2023-02-02T08:54:33.148Z"
   },
   {
    "duration": 13,
    "start_time": "2023-02-02T08:55:41.301Z"
   },
   {
    "duration": 12,
    "start_time": "2023-02-02T08:55:44.533Z"
   },
   {
    "duration": 12,
    "start_time": "2023-02-02T08:55:49.354Z"
   },
   {
    "duration": 5,
    "start_time": "2023-02-02T08:55:59.088Z"
   },
   {
    "duration": 6,
    "start_time": "2023-02-02T08:56:03.531Z"
   },
   {
    "duration": 6,
    "start_time": "2023-02-02T08:56:05.849Z"
   },
   {
    "duration": 4,
    "start_time": "2023-02-02T08:56:14.353Z"
   },
   {
    "duration": 17,
    "start_time": "2023-02-02T08:56:14.550Z"
   },
   {
    "duration": 4,
    "start_time": "2023-02-02T08:56:14.862Z"
   },
   {
    "duration": 72,
    "start_time": "2023-02-02T08:56:15.321Z"
   },
   {
    "duration": 11,
    "start_time": "2023-02-02T08:56:20.175Z"
   },
   {
    "duration": 15,
    "start_time": "2023-02-02T08:56:24.063Z"
   },
   {
    "duration": 3,
    "start_time": "2023-02-02T08:56:40.028Z"
   },
   {
    "duration": 50,
    "start_time": "2023-02-02T08:56:40.285Z"
   },
   {
    "duration": 174,
    "start_time": "2023-02-02T08:56:43.607Z"
   },
   {
    "duration": 18,
    "start_time": "2023-02-02T08:56:44.045Z"
   },
   {
    "duration": 8,
    "start_time": "2023-02-02T08:56:46.375Z"
   },
   {
    "duration": 3,
    "start_time": "2023-02-02T08:56:48.303Z"
   },
   {
    "duration": 133,
    "start_time": "2023-02-02T08:56:50.568Z"
   },
   {
    "duration": 9,
    "start_time": "2023-02-02T08:56:50.895Z"
   },
   {
    "duration": 3,
    "start_time": "2023-02-02T08:56:57.386Z"
   },
   {
    "duration": 108,
    "start_time": "2023-02-02T08:57:08.243Z"
   },
   {
    "duration": 10,
    "start_time": "2023-02-02T08:57:22.567Z"
   },
   {
    "duration": 9,
    "start_time": "2023-02-02T08:57:27.263Z"
   },
   {
    "duration": 50,
    "start_time": "2023-02-02T08:57:31.108Z"
   },
   {
    "duration": 9,
    "start_time": "2023-02-02T08:57:34.297Z"
   },
   {
    "duration": 4,
    "start_time": "2023-02-02T08:57:38.504Z"
   },
   {
    "duration": 10,
    "start_time": "2023-02-02T08:57:49.204Z"
   },
   {
    "duration": 11,
    "start_time": "2023-02-02T08:57:52.300Z"
   },
   {
    "duration": 3,
    "start_time": "2023-02-02T08:57:58.050Z"
   },
   {
    "duration": 9,
    "start_time": "2023-02-02T08:58:05.936Z"
   },
   {
    "duration": 14,
    "start_time": "2023-02-02T08:58:13.397Z"
   },
   {
    "duration": 3,
    "start_time": "2023-02-02T08:58:39.931Z"
   },
   {
    "duration": 4,
    "start_time": "2023-02-02T08:59:28.330Z"
   },
   {
    "duration": 7,
    "start_time": "2023-02-02T08:59:57.832Z"
   },
   {
    "duration": 7,
    "start_time": "2023-02-02T09:00:00.610Z"
   },
   {
    "duration": 24,
    "start_time": "2023-02-02T09:00:28.845Z"
   },
   {
    "duration": 10417,
    "start_time": "2023-02-02T09:00:30.935Z"
   },
   {
    "duration": 1391,
    "start_time": "2023-02-02T09:25:00.053Z"
   },
   {
    "duration": 407,
    "start_time": "2023-02-02T09:25:01.447Z"
   },
   {
    "duration": 40,
    "start_time": "2023-02-02T09:25:01.856Z"
   },
   {
    "duration": 15,
    "start_time": "2023-02-02T09:25:01.898Z"
   },
   {
    "duration": 934,
    "start_time": "2023-02-02T09:25:01.915Z"
   },
   {
    "duration": 68,
    "start_time": "2023-02-02T09:25:02.851Z"
   },
   {
    "duration": 2978,
    "start_time": "2023-02-02T09:25:02.921Z"
   },
   {
    "duration": 4,
    "start_time": "2023-02-02T09:25:05.902Z"
   },
   {
    "duration": 46,
    "start_time": "2023-02-02T09:25:05.908Z"
   },
   {
    "duration": 37,
    "start_time": "2023-02-02T09:25:05.957Z"
   },
   {
    "duration": 110,
    "start_time": "2023-02-02T09:25:05.996Z"
   },
   {
    "duration": 230,
    "start_time": "2023-02-02T09:25:06.109Z"
   },
   {
    "duration": 17,
    "start_time": "2023-02-02T09:25:06.340Z"
   },
   {
    "duration": 35,
    "start_time": "2023-02-02T09:25:06.361Z"
   },
   {
    "duration": 12,
    "start_time": "2023-02-02T09:25:06.397Z"
   },
   {
    "duration": 483,
    "start_time": "2023-02-02T09:25:06.411Z"
   },
   {
    "duration": 99,
    "start_time": "2023-02-02T09:25:06.896Z"
   },
   {
    "duration": 15,
    "start_time": "2023-02-02T09:25:06.997Z"
   },
   {
    "duration": 49,
    "start_time": "2023-02-02T09:25:07.014Z"
   },
   {
    "duration": 26,
    "start_time": "2023-02-02T09:25:07.065Z"
   },
   {
    "duration": 25,
    "start_time": "2023-02-02T09:25:07.093Z"
   },
   {
    "duration": 48,
    "start_time": "2023-02-02T09:25:07.121Z"
   },
   {
    "duration": 41,
    "start_time": "2023-02-02T09:25:07.171Z"
   },
   {
    "duration": 10653,
    "start_time": "2023-02-02T09:25:07.213Z"
   },
   {
    "duration": 1687,
    "start_time": "2023-02-02T18:51:49.211Z"
   },
   {
    "duration": 996,
    "start_time": "2023-02-02T18:51:50.900Z"
   },
   {
    "duration": 39,
    "start_time": "2023-02-02T18:51:51.897Z"
   },
   {
    "duration": 20,
    "start_time": "2023-02-02T18:51:51.942Z"
   },
   {
    "duration": 910,
    "start_time": "2023-02-02T18:51:51.964Z"
   },
   {
    "duration": 70,
    "start_time": "2023-02-02T18:51:52.875Z"
   },
   {
    "duration": 3114,
    "start_time": "2023-02-02T18:51:52.947Z"
   },
   {
    "duration": 4,
    "start_time": "2023-02-02T18:51:56.063Z"
   },
   {
    "duration": 24,
    "start_time": "2023-02-02T18:51:56.069Z"
   },
   {
    "duration": 3,
    "start_time": "2023-02-02T18:51:56.097Z"
   },
   {
    "duration": 79,
    "start_time": "2023-02-02T18:51:56.102Z"
   },
   {
    "duration": 191,
    "start_time": "2023-02-02T18:51:56.183Z"
   },
   {
    "duration": 17,
    "start_time": "2023-02-02T18:51:56.376Z"
   },
   {
    "duration": 36,
    "start_time": "2023-02-02T18:51:56.396Z"
   },
   {
    "duration": 31,
    "start_time": "2023-02-02T18:51:56.440Z"
   },
   {
    "duration": 263,
    "start_time": "2023-02-02T18:51:56.474Z"
   },
   {
    "duration": 88,
    "start_time": "2023-02-02T18:51:56.738Z"
   },
   {
    "duration": 10,
    "start_time": "2023-02-02T18:51:56.829Z"
   },
   {
    "duration": 93,
    "start_time": "2023-02-02T18:51:56.840Z"
   },
   {
    "duration": 32,
    "start_time": "2023-02-02T18:51:56.935Z"
   },
   {
    "duration": 10,
    "start_time": "2023-02-02T18:51:56.969Z"
   },
   {
    "duration": 11,
    "start_time": "2023-02-02T18:51:56.981Z"
   },
   {
    "duration": 31,
    "start_time": "2023-02-02T18:51:56.994Z"
   },
   {
    "duration": 11380,
    "start_time": "2023-02-02T18:51:57.026Z"
   },
   {
    "duration": 20,
    "start_time": "2023-02-02T18:52:08.408Z"
   },
   {
    "duration": 10,
    "start_time": "2023-02-02T18:52:20.939Z"
   },
   {
    "duration": 6,
    "start_time": "2023-02-02T18:53:28.570Z"
   },
   {
    "duration": 4,
    "start_time": "2023-02-02T18:54:06.478Z"
   },
   {
    "duration": 391,
    "start_time": "2023-02-02T18:54:06.484Z"
   },
   {
    "duration": 41,
    "start_time": "2023-02-02T18:54:06.879Z"
   },
   {
    "duration": 26,
    "start_time": "2023-02-02T18:54:06.922Z"
   },
   {
    "duration": 913,
    "start_time": "2023-02-02T18:54:06.952Z"
   },
   {
    "duration": 75,
    "start_time": "2023-02-02T18:54:07.867Z"
   },
   {
    "duration": 3482,
    "start_time": "2023-02-02T18:54:07.944Z"
   },
   {
    "duration": 5,
    "start_time": "2023-02-02T18:54:11.433Z"
   },
   {
    "duration": 32,
    "start_time": "2023-02-02T18:54:11.439Z"
   },
   {
    "duration": 3,
    "start_time": "2023-02-02T18:54:11.473Z"
   },
   {
    "duration": 4,
    "start_time": "2023-02-02T18:54:14.116Z"
   },
   {
    "duration": 62,
    "start_time": "2023-02-02T18:54:14.584Z"
   },
   {
    "duration": 6,
    "start_time": "2023-02-02T18:54:25.385Z"
   },
   {
    "duration": 17,
    "start_time": "2023-02-02T18:54:39.036Z"
   },
   {
    "duration": 4,
    "start_time": "2023-02-02T18:54:59.500Z"
   },
   {
    "duration": 387,
    "start_time": "2023-02-02T18:54:59.508Z"
   },
   {
    "duration": 51,
    "start_time": "2023-02-02T18:54:59.897Z"
   },
   {
    "duration": 14,
    "start_time": "2023-02-02T18:54:59.950Z"
   },
   {
    "duration": 995,
    "start_time": "2023-02-02T18:54:59.966Z"
   },
   {
    "duration": 81,
    "start_time": "2023-02-02T18:55:00.963Z"
   },
   {
    "duration": 3142,
    "start_time": "2023-02-02T18:55:01.047Z"
   },
   {
    "duration": 3,
    "start_time": "2023-02-02T18:55:04.191Z"
   },
   {
    "duration": 23,
    "start_time": "2023-02-02T18:55:04.196Z"
   },
   {
    "duration": 10,
    "start_time": "2023-02-02T18:55:04.221Z"
   },
   {
    "duration": 72,
    "start_time": "2023-02-02T18:55:04.234Z"
   },
   {
    "duration": 155,
    "start_time": "2023-02-02T18:55:04.308Z"
   },
   {
    "duration": 14,
    "start_time": "2023-02-02T18:55:14.400Z"
   },
   {
    "duration": 13,
    "start_time": "2023-02-02T18:55:22.252Z"
   },
   {
    "duration": 1589,
    "start_time": "2023-02-02T18:55:41.352Z"
   },
   {
    "duration": 391,
    "start_time": "2023-02-02T18:55:42.950Z"
   },
   {
    "duration": 40,
    "start_time": "2023-02-02T18:55:43.343Z"
   },
   {
    "duration": 24,
    "start_time": "2023-02-02T18:55:43.385Z"
   },
   {
    "duration": 970,
    "start_time": "2023-02-02T18:55:43.411Z"
   },
   {
    "duration": 79,
    "start_time": "2023-02-02T18:55:44.383Z"
   },
   {
    "duration": 3086,
    "start_time": "2023-02-02T18:55:44.464Z"
   },
   {
    "duration": 4,
    "start_time": "2023-02-02T18:55:47.552Z"
   },
   {
    "duration": 38,
    "start_time": "2023-02-02T18:55:47.558Z"
   },
   {
    "duration": 4,
    "start_time": "2023-02-02T18:55:47.599Z"
   },
   {
    "duration": 58,
    "start_time": "2023-02-02T18:55:47.604Z"
   },
   {
    "duration": 15,
    "start_time": "2023-02-02T18:55:47.664Z"
   },
   {
    "duration": 181,
    "start_time": "2023-02-02T18:55:47.680Z"
   },
   {
    "duration": 13,
    "start_time": "2023-02-02T18:55:47.863Z"
   },
   {
    "duration": 14,
    "start_time": "2023-02-02T18:55:47.878Z"
   },
   {
    "duration": 9,
    "start_time": "2023-02-02T18:55:47.896Z"
   },
   {
    "duration": 44,
    "start_time": "2023-02-02T18:55:47.907Z"
   },
   {
    "duration": 281,
    "start_time": "2023-02-02T18:55:47.953Z"
   },
   {
    "duration": 20,
    "start_time": "2023-02-02T18:55:48.238Z"
   },
   {
    "duration": 21,
    "start_time": "2023-02-02T18:55:48.328Z"
   },
   {
    "duration": 9,
    "start_time": "2023-02-02T18:55:48.351Z"
   },
   {
    "duration": 10,
    "start_time": "2023-02-02T18:55:48.362Z"
   },
   {
    "duration": 8,
    "start_time": "2023-02-02T18:55:48.374Z"
   },
   {
    "duration": 9,
    "start_time": "2023-02-02T18:55:48.384Z"
   },
   {
    "duration": 11,
    "start_time": "2023-02-02T18:55:48.395Z"
   },
   {
    "duration": 42,
    "start_time": "2023-02-02T18:55:48.408Z"
   },
   {
    "duration": 11660,
    "start_time": "2023-02-02T18:55:48.452Z"
   },
   {
    "duration": 6,
    "start_time": "2023-02-02T18:58:34.367Z"
   },
   {
    "duration": 5,
    "start_time": "2023-02-02T19:12:53.610Z"
   },
   {
    "duration": 5,
    "start_time": "2023-02-02T19:14:06.099Z"
   },
   {
    "duration": 6,
    "start_time": "2023-02-02T19:14:07.340Z"
   },
   {
    "duration": 5,
    "start_time": "2023-02-02T19:14:07.961Z"
   },
   {
    "duration": 8,
    "start_time": "2023-02-02T19:14:10.145Z"
   },
   {
    "duration": 28,
    "start_time": "2023-02-02T19:14:12.130Z"
   },
   {
    "duration": 4825,
    "start_time": "2023-02-02T19:14:14.544Z"
   },
   {
    "duration": 5,
    "start_time": "2023-02-02T19:18:15.363Z"
   },
   {
    "duration": 5,
    "start_time": "2023-02-02T19:18:15.785Z"
   },
   {
    "duration": 7,
    "start_time": "2023-02-02T19:18:16.306Z"
   },
   {
    "duration": 7,
    "start_time": "2023-02-02T19:18:16.594Z"
   },
   {
    "duration": 7,
    "start_time": "2023-02-02T19:18:20.565Z"
   },
   {
    "duration": 112,
    "start_time": "2023-02-02T19:19:31.383Z"
   },
   {
    "duration": 5,
    "start_time": "2023-02-02T19:19:50.110Z"
   },
   {
    "duration": 7,
    "start_time": "2023-02-02T19:19:50.892Z"
   },
   {
    "duration": 19,
    "start_time": "2023-02-02T19:19:52.730Z"
   },
   {
    "duration": 4,
    "start_time": "2023-02-02T19:20:24.725Z"
   },
   {
    "duration": 8,
    "start_time": "2023-02-02T19:20:25.164Z"
   },
   {
    "duration": 22,
    "start_time": "2023-02-02T19:20:27.046Z"
   },
   {
    "duration": 5,
    "start_time": "2023-02-02T19:20:39.454Z"
   },
   {
    "duration": 9,
    "start_time": "2023-02-02T19:20:39.875Z"
   },
   {
    "duration": 22,
    "start_time": "2023-02-02T19:20:41.432Z"
   },
   {
    "duration": 5,
    "start_time": "2023-02-02T19:20:58.425Z"
   },
   {
    "duration": 8,
    "start_time": "2023-02-02T19:20:58.811Z"
   },
   {
    "duration": 19,
    "start_time": "2023-02-02T19:21:00.247Z"
   },
   {
    "duration": 5,
    "start_time": "2023-02-02T19:21:13.726Z"
   },
   {
    "duration": 8,
    "start_time": "2023-02-02T19:21:16.614Z"
   },
   {
    "duration": 26,
    "start_time": "2023-02-02T19:21:18.253Z"
   },
   {
    "duration": 4643,
    "start_time": "2023-02-02T19:21:22.587Z"
   }
  ],
  "kernelspec": {
   "display_name": "Python 3 (ipykernel)",
   "language": "python",
   "name": "python3"
  },
  "language_info": {
   "codemirror_mode": {
    "name": "ipython",
    "version": 3
   },
   "file_extension": ".py",
   "mimetype": "text/x-python",
   "name": "python",
   "nbconvert_exporter": "python",
   "pygments_lexer": "ipython3",
   "version": "3.9.12"
  },
  "toc": {
   "base_numbering": 1,
   "nav_menu": {},
   "number_sections": true,
   "sideBar": true,
   "skip_h1_title": true,
   "title_cell": "Table of Contents",
   "title_sidebar": "Contents",
   "toc_cell": false,
   "toc_position": {},
   "toc_section_display": true,
   "toc_window_display": false
  }
 },
 "nbformat": 4,
 "nbformat_minor": 2
}
